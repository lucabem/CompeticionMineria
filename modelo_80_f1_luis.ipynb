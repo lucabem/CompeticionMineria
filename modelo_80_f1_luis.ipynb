{
  "nbformat": 4,
  "nbformat_minor": 0,
  "metadata": {
    "colab": {
      "name": ".ipynb",
      "provenance": [],
      "collapsed_sections": [],
      "authorship_tag": "ABX9TyOS0T6/XqM7krCMI1VXnxw+",
      "include_colab_link": true
    },
    "kernelspec": {
      "name": "python3",
      "display_name": "Python 3"
    },
    "accelerator": "TPU"
  },
  "cells": [
    {
      "cell_type": "markdown",
      "metadata": {
        "id": "view-in-github",
        "colab_type": "text"
      },
      "source": [
        "<a href=\"https://colab.research.google.com/github/lucabem/CompeticionMineria/blob/main/modelo_80_f1_luis.ipynb\" target=\"_parent\"><img src=\"https://colab.research.google.com/assets/colab-badge.svg\" alt=\"Open In Colab\"/></a>"
      ]
    },
    {
      "cell_type": "code",
      "metadata": {
        "id": "vU8xsCCH_A3L"
      },
      "source": [
        ""
      ],
      "execution_count": 1,
      "outputs": []
    },
    {
      "cell_type": "code",
      "metadata": {
        "id": "bEFpuOSpcBoh"
      },
      "source": [
        "import numpy as np\r\n",
        "import os\r\n",
        "import PIL\r\n",
        "import PIL.Image\r\n",
        "import tensorflow as tf\r\n",
        "import tensorflow_datasets as tfds\r\n",
        "import pathlib"
      ],
      "execution_count": 2,
      "outputs": []
    },
    {
      "cell_type": "code",
      "metadata": {
        "id": "k49BdtS8wx8p"
      },
      "source": [
        "!rm -rf /root/.keras/datasets/*"
      ],
      "execution_count": 31,
      "outputs": []
    },
    {
      "cell_type": "code",
      "metadata": {
        "colab": {
          "base_uri": "https://localhost:8080/"
        },
        "id": "Wh8GCRtdcLYv",
        "outputId": "325e7ca3-7c6e-48d2-a9f4-5aa6953341c1"
      },
      "source": [
        "dataset_url = 'https://github.com/lucabem/CompeticionMineria/blob/main/data/dataset_images.zip?raw=true'\r\n",
        "data_dir = tf.keras.utils.get_file(origin=dataset_url, \r\n",
        "                                   fname='train_data', \r\n",
        "                                   extract=True)"
      ],
      "execution_count": 32,
      "outputs": [
        {
          "output_type": "stream",
          "text": [
            "Downloading data from https://github.com/lucabem/CompeticionMineria/blob/main/data/dataset_images.zip?raw=true\n",
            "78069760/78067648 [==============================] - 1s 0us/step\n"
          ],
          "name": "stdout"
        }
      ]
    },
    {
      "cell_type": "code",
      "metadata": {
        "colab": {
          "base_uri": "https://localhost:8080/"
        },
        "id": "5yhP8xGwe36X",
        "outputId": "24a9076e-8088-47d1-ef00-a5b2c0dff692"
      },
      "source": [
        "!rm -rf /root/.keras/datasets/train_data.tar.gz /root/.keras/datasets/train_data\r\n",
        "!ls -l /root/.keras/datasets/"
      ],
      "execution_count": 33,
      "outputs": [
        {
          "output_type": "stream",
          "text": [
            "total 24\n",
            "drwxr-xr-x 27 root root  4096 Mar  7 12:57 ImagesTrain\n",
            "drwxr-xr-x  2 root root 20480 Mar  7 12:57 Test\n"
          ],
          "name": "stdout"
        }
      ]
    },
    {
      "cell_type": "code",
      "metadata": {
        "id": "FNAYg6b94G05",
        "colab": {
          "base_uri": "https://localhost:8080/"
        },
        "outputId": "0d2fd287-d684-4075-c4bd-a88665fe37cc"
      },
      "source": [
        "train_path = pathlib.Path('/root/.keras/datasets/ImagesTrain')\r\n",
        "image_count = len(list(train_path.glob('*/*.jpg')))\r\n",
        "print(image_count)"
      ],
      "execution_count": 34,
      "outputs": [
        {
          "output_type": "stream",
          "text": [
            "2500\n"
          ],
          "name": "stdout"
        }
      ]
    },
    {
      "cell_type": "code",
      "metadata": {
        "colab": {
          "base_uri": "https://localhost:8080/"
        },
        "id": "UshKAfho5Hwm",
        "outputId": "16923cf9-8f4a-4754-b508-65ca4e5ad9eb"
      },
      "source": [
        "test_path = pathlib.Path('/root/.keras/datasets/Test')\r\n",
        "images_test = os.listdir(test_path)\r\n",
        "print(len(images_test))"
      ],
      "execution_count": 36,
      "outputs": [
        {
          "output_type": "stream",
          "text": [
            "500\n"
          ],
          "name": "stdout"
        }
      ]
    },
    {
      "cell_type": "code",
      "metadata": {
        "id": "SifaMI-ahKno"
      },
      "source": [
        "for direct in train_path.iterdir():\r\n",
        "  if direct.is_dir():\r\n",
        "    direct.rename(train_path / direct.name.split(sep='_100')[0])"
      ],
      "execution_count": 7,
      "outputs": []
    },
    {
      "cell_type": "code",
      "metadata": {
        "id": "6FGhnAH-goA-"
      },
      "source": [
        "batch_size = 32\r\n",
        "img_height = 224\r\n",
        "img_width  = 224"
      ],
      "execution_count": 8,
      "outputs": []
    },
    {
      "cell_type": "code",
      "metadata": {
        "id": "ekqQ_EFBcLDp",
        "colab": {
          "base_uri": "https://localhost:8080/"
        },
        "outputId": "9301ac24-0b17-4079-ee8b-7068264fe424"
      },
      "source": [
        "!pip install tensorflow-addons"
      ],
      "execution_count": 9,
      "outputs": [
        {
          "output_type": "stream",
          "text": [
            "Collecting tensorflow-addons\n",
            "\u001b[?25l  Downloading https://files.pythonhosted.org/packages/74/e3/56d2fe76f0bb7c88ed9b2a6a557e25e83e252aec08f13de34369cd850a0b/tensorflow_addons-0.12.1-cp37-cp37m-manylinux2010_x86_64.whl (703kB)\n",
            "\r\u001b[K     |▌                               | 10kB 16.1MB/s eta 0:00:01\r\u001b[K     |█                               | 20kB 13.5MB/s eta 0:00:01\r\u001b[K     |█▍                              | 30kB 8.9MB/s eta 0:00:01\r\u001b[K     |█▉                              | 40kB 9.2MB/s eta 0:00:01\r\u001b[K     |██▎                             | 51kB 5.4MB/s eta 0:00:01\r\u001b[K     |██▉                             | 61kB 6.0MB/s eta 0:00:01\r\u001b[K     |███▎                            | 71kB 6.2MB/s eta 0:00:01\r\u001b[K     |███▊                            | 81kB 6.6MB/s eta 0:00:01\r\u001b[K     |████▏                           | 92kB 6.5MB/s eta 0:00:01\r\u001b[K     |████▋                           | 102kB 5.3MB/s eta 0:00:01\r\u001b[K     |█████▏                          | 112kB 5.3MB/s eta 0:00:01\r\u001b[K     |█████▋                          | 122kB 5.3MB/s eta 0:00:01\r\u001b[K     |██████                          | 133kB 5.3MB/s eta 0:00:01\r\u001b[K     |██████▌                         | 143kB 5.3MB/s eta 0:00:01\r\u001b[K     |███████                         | 153kB 5.3MB/s eta 0:00:01\r\u001b[K     |███████▌                        | 163kB 5.3MB/s eta 0:00:01\r\u001b[K     |████████                        | 174kB 5.3MB/s eta 0:00:01\r\u001b[K     |████████▍                       | 184kB 5.3MB/s eta 0:00:01\r\u001b[K     |████████▉                       | 194kB 5.3MB/s eta 0:00:01\r\u001b[K     |█████████▎                      | 204kB 5.3MB/s eta 0:00:01\r\u001b[K     |█████████▉                      | 215kB 5.3MB/s eta 0:00:01\r\u001b[K     |██████████▎                     | 225kB 5.3MB/s eta 0:00:01\r\u001b[K     |██████████▊                     | 235kB 5.3MB/s eta 0:00:01\r\u001b[K     |███████████▏                    | 245kB 5.3MB/s eta 0:00:01\r\u001b[K     |███████████▋                    | 256kB 5.3MB/s eta 0:00:01\r\u001b[K     |████████████▏                   | 266kB 5.3MB/s eta 0:00:01\r\u001b[K     |████████████▋                   | 276kB 5.3MB/s eta 0:00:01\r\u001b[K     |█████████████                   | 286kB 5.3MB/s eta 0:00:01\r\u001b[K     |█████████████▌                  | 296kB 5.3MB/s eta 0:00:01\r\u001b[K     |██████████████                  | 307kB 5.3MB/s eta 0:00:01\r\u001b[K     |██████████████▍                 | 317kB 5.3MB/s eta 0:00:01\r\u001b[K     |███████████████                 | 327kB 5.3MB/s eta 0:00:01\r\u001b[K     |███████████████▍                | 337kB 5.3MB/s eta 0:00:01\r\u001b[K     |███████████████▉                | 348kB 5.3MB/s eta 0:00:01\r\u001b[K     |████████████████▎               | 358kB 5.3MB/s eta 0:00:01\r\u001b[K     |████████████████▊               | 368kB 5.3MB/s eta 0:00:01\r\u001b[K     |█████████████████▎              | 378kB 5.3MB/s eta 0:00:01\r\u001b[K     |█████████████████▊              | 389kB 5.3MB/s eta 0:00:01\r\u001b[K     |██████████████████▏             | 399kB 5.3MB/s eta 0:00:01\r\u001b[K     |██████████████████▋             | 409kB 5.3MB/s eta 0:00:01\r\u001b[K     |███████████████████             | 419kB 5.3MB/s eta 0:00:01\r\u001b[K     |███████████████████▋            | 430kB 5.3MB/s eta 0:00:01\r\u001b[K     |████████████████████            | 440kB 5.3MB/s eta 0:00:01\r\u001b[K     |████████████████████▌           | 450kB 5.3MB/s eta 0:00:01\r\u001b[K     |█████████████████████           | 460kB 5.3MB/s eta 0:00:01\r\u001b[K     |█████████████████████▍          | 471kB 5.3MB/s eta 0:00:01\r\u001b[K     |██████████████████████          | 481kB 5.3MB/s eta 0:00:01\r\u001b[K     |██████████████████████▍         | 491kB 5.3MB/s eta 0:00:01\r\u001b[K     |██████████████████████▉         | 501kB 5.3MB/s eta 0:00:01\r\u001b[K     |███████████████████████▎        | 512kB 5.3MB/s eta 0:00:01\r\u001b[K     |███████████████████████▊        | 522kB 5.3MB/s eta 0:00:01\r\u001b[K     |████████████████████████▎       | 532kB 5.3MB/s eta 0:00:01\r\u001b[K     |████████████████████████▊       | 542kB 5.3MB/s eta 0:00:01\r\u001b[K     |█████████████████████████▏      | 552kB 5.3MB/s eta 0:00:01\r\u001b[K     |█████████████████████████▋      | 563kB 5.3MB/s eta 0:00:01\r\u001b[K     |██████████████████████████      | 573kB 5.3MB/s eta 0:00:01\r\u001b[K     |██████████████████████████▋     | 583kB 5.3MB/s eta 0:00:01\r\u001b[K     |███████████████████████████     | 593kB 5.3MB/s eta 0:00:01\r\u001b[K     |███████████████████████████▌    | 604kB 5.3MB/s eta 0:00:01\r\u001b[K     |████████████████████████████    | 614kB 5.3MB/s eta 0:00:01\r\u001b[K     |████████████████████████████▍   | 624kB 5.3MB/s eta 0:00:01\r\u001b[K     |████████████████████████████▉   | 634kB 5.3MB/s eta 0:00:01\r\u001b[K     |█████████████████████████████▍  | 645kB 5.3MB/s eta 0:00:01\r\u001b[K     |█████████████████████████████▉  | 655kB 5.3MB/s eta 0:00:01\r\u001b[K     |██████████████████████████████▎ | 665kB 5.3MB/s eta 0:00:01\r\u001b[K     |██████████████████████████████▊ | 675kB 5.3MB/s eta 0:00:01\r\u001b[K     |███████████████████████████████▏| 686kB 5.3MB/s eta 0:00:01\r\u001b[K     |███████████████████████████████▊| 696kB 5.3MB/s eta 0:00:01\r\u001b[K     |████████████████████████████████| 706kB 5.3MB/s \n",
            "\u001b[?25hRequirement already satisfied: typeguard>=2.7 in /usr/local/lib/python3.7/dist-packages (from tensorflow-addons) (2.7.1)\n",
            "Installing collected packages: tensorflow-addons\n",
            "Successfully installed tensorflow-addons-0.12.1\n"
          ],
          "name": "stdout"
        }
      ]
    },
    {
      "cell_type": "code",
      "metadata": {
        "id": "9z9qUelQn-Vo"
      },
      "source": [
        "from tensorflow.keras.preprocessing.image import ImageDataGenerator"
      ],
      "execution_count": 10,
      "outputs": []
    },
    {
      "cell_type": "code",
      "metadata": {
        "id": "2CUaZwHscHLV"
      },
      "source": [
        "import tensorflow_addons as tfa"
      ],
      "execution_count": 11,
      "outputs": []
    },
    {
      "cell_type": "code",
      "metadata": {
        "id": "ZFXO18bRElwL"
      },
      "source": [
        "from keras.preprocessing.image import ImageDataGenerator  \r\n",
        "from keras.applications import densenet  \r\n",
        "from keras.models import Sequential, Model, load_model  \r\n",
        "from keras.layers import Conv2D, MaxPooling2D  \r\n",
        "from keras.layers import Activation, Dropout, Flatten, Dense  \r\n",
        "from keras.callbacks import EarlyStopping, ReduceLROnPlateau, ModelCheckpoint, Callback  \r\n",
        "from keras import regularizers  \r\n",
        "from keras import backend as K  \r\n",
        "import tensorflow as tf\r\n",
        "keras = tf.keras"
      ],
      "execution_count": 12,
      "outputs": []
    },
    {
      "cell_type": "markdown",
      "metadata": {
        "id": "I3IvE1g4Kyb-"
      },
      "source": [
        "### Data Augmentation"
      ]
    },
    {
      "cell_type": "code",
      "metadata": {
        "id": "qI1zuyeIW7XG"
      },
      "source": [
        "batch_size  = 32\r\n",
        "img_height = 224\r\n",
        "img_width  = 224\r\n",
        "train_path = pathlib.Path('/root/.keras/datasets/ImagesTrain')"
      ],
      "execution_count": 13,
      "outputs": []
    },
    {
      "cell_type": "code",
      "metadata": {
        "id": "47e86f3eT-ZX"
      },
      "source": [
        "import shutil\r\n",
        "import os "
      ],
      "execution_count": 14,
      "outputs": []
    },
    {
      "cell_type": "code",
      "metadata": {
        "id": "BCYAgO1x7Nya"
      },
      "source": [
        "train_ds_gen = ImageDataGenerator(vertical_flip    = True,\r\n",
        "                                  horizontal_flip  = True,\r\n",
        "                                  validation_split = 0.2)"
      ],
      "execution_count": 15,
      "outputs": []
    },
    {
      "cell_type": "code",
      "metadata": {
        "id": "c0Cka5hc9TE4",
        "colab": {
          "base_uri": "https://localhost:8080/"
        },
        "outputId": "402c7eae-d2e6-4b0f-9f42-68d4d08cc140"
      },
      "source": [
        "train_data_gen = train_ds_gen.flow_from_directory(batch_size=batch_size,\r\n",
        "                                                  directory=train_path,\r\n",
        "                                                  shuffle=True,\r\n",
        "                                                  target_size=(img_height, img_width),\r\n",
        "                                                  subset='training',\r\n",
        "                                                  class_mode='categorical')"
      ],
      "execution_count": 16,
      "outputs": [
        {
          "output_type": "stream",
          "text": [
            "Found 2000 images belonging to 25 classes.\n"
          ],
          "name": "stdout"
        }
      ]
    },
    {
      "cell_type": "code",
      "metadata": {
        "id": "0ZVgGpkwEWqP",
        "colab": {
          "base_uri": "https://localhost:8080/"
        },
        "outputId": "9fe0d958-689e-40f4-844f-9f4210eb533d"
      },
      "source": [
        "valid_data_gen = train_ds_gen.flow_from_directory(batch_size=batch_size,\r\n",
        "                                                  directory=train_path,\r\n",
        "                                                  shuffle=True,\r\n",
        "                                                  target_size=(img_height, img_width),\r\n",
        "                                                  subset='validation',\r\n",
        "                                                  class_mode='categorical')"
      ],
      "execution_count": 17,
      "outputs": [
        {
          "output_type": "stream",
          "text": [
            "Found 500 images belonging to 25 classes.\n"
          ],
          "name": "stdout"
        }
      ]
    },
    {
      "cell_type": "code",
      "metadata": {
        "id": "DpUN4q-bbnKP",
        "colab": {
          "base_uri": "https://localhost:8080/"
        },
        "outputId": "4d401c9a-68c9-48bf-abf9-9e744a43d8e7"
      },
      "source": [
        "test_data_gen = train_ds_gen.flow_from_directory(batch_size=batch_size,\r\n",
        "                                                  directory=train_path,\r\n",
        "                                                  shuffle=True,\r\n",
        "                                                  target_size=(img_height, img_width),\r\n",
        "                                                  class_mode='categorical')"
      ],
      "execution_count": 18,
      "outputs": [
        {
          "output_type": "stream",
          "text": [
            "Found 2500 images belonging to 25 classes.\n"
          ],
          "name": "stdout"
        }
      ]
    },
    {
      "cell_type": "markdown",
      "metadata": {
        "id": "BoUQ3hoHK2tf"
      },
      "source": [
        "### Modelos"
      ]
    },
    {
      "cell_type": "markdown",
      "metadata": {
        "id": "sv40lFlcFE2z"
      },
      "source": [
        "#### Funcion para predecir"
      ]
    },
    {
      "cell_type": "code",
      "metadata": {
        "id": "oOs-NXH4lBQB"
      },
      "source": [
        "batch_size = 32\r\n",
        "img_height = 224\r\n",
        "img_width  = 224\r\n",
        "test_path  = pathlib.Path('/root/.keras/datasets/Test')"
      ],
      "execution_count": 19,
      "outputs": []
    },
    {
      "cell_type": "code",
      "metadata": {
        "id": "6R6hvF4Pk_Fc"
      },
      "source": [
        "# predicting images\r\n",
        "from keras.preprocessing import image\r\n",
        "import numpy as np\r\n",
        "import pandas as pd\r\n",
        "from google.colab import files\r\n",
        "\r\n",
        "def make_predictions(model_final,\r\n",
        "                     path_test ='/root/.keras/datasets/Test',\r\n",
        "                     name_file_submission = 'submission.csv'):\r\n",
        "\r\n",
        "  images_test = os.listdir(path_test)\r\n",
        "  samples_to_predict = []\r\n",
        "\r\n",
        "  for img in images_test:\r\n",
        "    path_img = os.path.join(path_test, img)\r\n",
        "    img = image.load_img(path_img,\r\n",
        "                        target_size=(img_width, img_height))\r\n",
        "    x = image.img_to_array(img)\r\n",
        "    samples_to_predict.append(x)\r\n",
        "\r\n",
        "  samples_to_predict  = np.array(samples_to_predict)\r\n",
        "  predictions = model_final.predict(samples_to_predict)\r\n",
        "  classes = np.argmax(predictions, axis = 1)\r\n",
        "\r\n",
        "  data = {'id.jpg': images_test, 'label': classes}\r\n",
        "  data = pd.DataFrame(data)\r\n",
        "  data.to_csv(name_file_submission, index = False)\r\n",
        "\r\n",
        "  return data"
      ],
      "execution_count": 21,
      "outputs": []
    },
    {
      "cell_type": "markdown",
      "metadata": {
        "id": "cjOz2kuuKlhL"
      },
      "source": [
        "#### Modelo Base"
      ]
    },
    {
      "cell_type": "code",
      "metadata": {
        "id": "izZ9gyNwZFAM",
        "colab": {
          "base_uri": "https://localhost:8080/"
        },
        "outputId": "a4896a7e-7b57-4958-b686-0c7e309f1856"
      },
      "source": [
        "base_model = tf.keras.applications.ResNet50(input_shape = (224, 224, 3), \r\n",
        "                                            classes     = 25,\r\n",
        "                                            include_top  = False)\r\n",
        "\r\n",
        "image_batch, label_batch = next(iter(train_data_gen))\r\n",
        "feature_batch = base_model(image_batch)\r\n",
        "base_model.trainable = False\r\n",
        "\r\n",
        "\r\n",
        "\r\n",
        "global_average_layer = tf.keras.layers.GlobalAveragePooling2D()\r\n",
        "prediction_layer = keras.layers.Dense(25, activation='softmax')\r\n",
        "\r\n",
        "\r\n",
        "model = tf.keras.Sequential([\r\n",
        "  base_model,\r\n",
        "  global_average_layer,\r\n",
        "  prediction_layer\r\n",
        "])\r\n"
      ],
      "execution_count": 22,
      "outputs": [
        {
          "output_type": "stream",
          "text": [
            "Downloading data from https://storage.googleapis.com/tensorflow/keras-applications/resnet/resnet50_weights_tf_dim_ordering_tf_kernels_notop.h5\n",
            "94773248/94765736 [==============================] - 1s 0us/step\n"
          ],
          "name": "stdout"
        }
      ]
    },
    {
      "cell_type": "code",
      "metadata": {
        "id": "PwL2ctktiRP7"
      },
      "source": [
        "opt = tf.keras.optimizers.Adagrad()\r\n",
        "\r\n",
        "callback = tf.keras.callbacks.EarlyStopping(monitor='f1_score', patience=5)\r\n",
        "\r\n",
        "model.compile(loss=\"categorical_crossentropy\",\r\n",
        "              optimizer=opt,\r\n",
        "\t            metrics=[tfa.metrics.F1Score(num_classes=25, average='weighted')],\r\n",
        "              )"
      ],
      "execution_count": 23,
      "outputs": []
    },
    {
      "cell_type": "code",
      "metadata": {
        "id": "JeOc_JCVbyTl",
        "colab": {
          "base_uri": "https://localhost:8080/"
        },
        "outputId": "fa01b775-cc4c-466e-9030-4c5dd54959a1"
      },
      "source": [
        "tf.random.set_seed(2021)\r\n",
        "\r\n",
        "model_history = model.fit(  \r\n",
        "    train_data_gen,\r\n",
        "    epochs=39,\r\n",
        "    validation_data=valid_data_gen,\r\n",
        "    validation_steps= valid_data_gen.n // batch_size)"
      ],
      "execution_count": 24,
      "outputs": [
        {
          "output_type": "stream",
          "text": [
            "Epoch 1/39\n",
            "63/63 [==============================] - 375s 6s/step - loss: 3.5592 - f1_score: 0.0479 - val_loss: 2.7924 - val_f1_score: 0.1448\n",
            "Epoch 2/39\n",
            "63/63 [==============================] - 370s 6s/step - loss: 2.6699 - f1_score: 0.1932 - val_loss: 2.3542 - val_f1_score: 0.3507\n",
            "Epoch 3/39\n",
            "63/63 [==============================] - 368s 6s/step - loss: 2.2493 - f1_score: 0.4133 - val_loss: 2.0852 - val_f1_score: 0.4473\n",
            "Epoch 4/39\n",
            "63/63 [==============================] - 368s 6s/step - loss: 2.0113 - f1_score: 0.5008 - val_loss: 1.8877 - val_f1_score: 0.5239\n",
            "Epoch 5/39\n",
            "63/63 [==============================] - 367s 6s/step - loss: 1.8279 - f1_score: 0.5581 - val_loss: 1.7658 - val_f1_score: 0.5616\n",
            "Epoch 6/39\n",
            "63/63 [==============================] - 367s 6s/step - loss: 1.6742 - f1_score: 0.6330 - val_loss: 1.6522 - val_f1_score: 0.6148\n",
            "Epoch 7/39\n",
            "63/63 [==============================] - 366s 6s/step - loss: 1.5781 - f1_score: 0.6815 - val_loss: 1.5685 - val_f1_score: 0.6581\n",
            "Epoch 8/39\n",
            "63/63 [==============================] - 366s 6s/step - loss: 1.4824 - f1_score: 0.7139 - val_loss: 1.4985 - val_f1_score: 0.6879\n",
            "Epoch 9/39\n",
            "63/63 [==============================] - 365s 6s/step - loss: 1.4206 - f1_score: 0.7316 - val_loss: 1.4235 - val_f1_score: 0.7248\n",
            "Epoch 10/39\n",
            "63/63 [==============================] - 364s 6s/step - loss: 1.3493 - f1_score: 0.7549 - val_loss: 1.3536 - val_f1_score: 0.7399\n",
            "Epoch 11/39\n",
            "63/63 [==============================] - 363s 6s/step - loss: 1.3014 - f1_score: 0.7919 - val_loss: 1.3134 - val_f1_score: 0.7232\n",
            "Epoch 12/39\n",
            "63/63 [==============================] - 364s 6s/step - loss: 1.2678 - f1_score: 0.7825 - val_loss: 1.2886 - val_f1_score: 0.7456\n",
            "Epoch 13/39\n",
            "63/63 [==============================] - 365s 6s/step - loss: 1.1906 - f1_score: 0.7990 - val_loss: 1.2239 - val_f1_score: 0.7689\n",
            "Epoch 14/39\n",
            "63/63 [==============================] - 363s 6s/step - loss: 1.1344 - f1_score: 0.8256 - val_loss: 1.1882 - val_f1_score: 0.7809\n",
            "Epoch 15/39\n",
            "63/63 [==============================] - 363s 6s/step - loss: 1.1590 - f1_score: 0.8045 - val_loss: 1.1678 - val_f1_score: 0.7840\n",
            "Epoch 16/39\n",
            "63/63 [==============================] - 364s 6s/step - loss: 1.1379 - f1_score: 0.7986 - val_loss: 1.1324 - val_f1_score: 0.7887\n",
            "Epoch 17/39\n",
            "63/63 [==============================] - 367s 6s/step - loss: 1.0537 - f1_score: 0.8084 - val_loss: 1.1194 - val_f1_score: 0.7938\n",
            "Epoch 18/39\n",
            "63/63 [==============================] - 370s 6s/step - loss: 1.0843 - f1_score: 0.8054 - val_loss: 1.0989 - val_f1_score: 0.8032\n",
            "Epoch 19/39\n",
            "63/63 [==============================] - 367s 6s/step - loss: 1.0289 - f1_score: 0.8297 - val_loss: 1.0779 - val_f1_score: 0.7884\n",
            "Epoch 20/39\n",
            "63/63 [==============================] - 371s 6s/step - loss: 1.0121 - f1_score: 0.8313 - val_loss: 1.0423 - val_f1_score: 0.8084\n",
            "Epoch 21/39\n",
            "63/63 [==============================] - 367s 6s/step - loss: 1.0204 - f1_score: 0.8248 - val_loss: 1.0251 - val_f1_score: 0.8146\n",
            "Epoch 22/39\n",
            "63/63 [==============================] - 366s 6s/step - loss: 0.9604 - f1_score: 0.8367 - val_loss: 1.0131 - val_f1_score: 0.8129\n",
            "Epoch 23/39\n",
            "63/63 [==============================] - 365s 6s/step - loss: 0.9425 - f1_score: 0.8454 - val_loss: 1.0047 - val_f1_score: 0.8084\n",
            "Epoch 24/39\n",
            "63/63 [==============================] - 366s 6s/step - loss: 0.9089 - f1_score: 0.8489 - val_loss: 0.9915 - val_f1_score: 0.8146\n",
            "Epoch 25/39\n",
            "63/63 [==============================] - 366s 6s/step - loss: 0.9246 - f1_score: 0.8349 - val_loss: 0.9690 - val_f1_score: 0.8193\n",
            "Epoch 26/39\n",
            "63/63 [==============================] - 366s 6s/step - loss: 0.8950 - f1_score: 0.8461 - val_loss: 0.9655 - val_f1_score: 0.8179\n",
            "Epoch 27/39\n",
            "63/63 [==============================] - 366s 6s/step - loss: 0.9087 - f1_score: 0.8309 - val_loss: 0.9220 - val_f1_score: 0.8331\n",
            "Epoch 28/39\n",
            "63/63 [==============================] - 365s 6s/step - loss: 0.8605 - f1_score: 0.8611 - val_loss: 0.9206 - val_f1_score: 0.8323\n",
            "Epoch 29/39\n",
            "63/63 [==============================] - 364s 6s/step - loss: 0.8542 - f1_score: 0.8627 - val_loss: 0.9285 - val_f1_score: 0.8165\n",
            "Epoch 30/39\n",
            "63/63 [==============================] - 365s 6s/step - loss: 0.8580 - f1_score: 0.8419 - val_loss: 0.9031 - val_f1_score: 0.8432\n",
            "Epoch 31/39\n",
            "63/63 [==============================] - 365s 6s/step - loss: 0.8311 - f1_score: 0.8421 - val_loss: 0.9073 - val_f1_score: 0.8244\n",
            "Epoch 32/39\n",
            "63/63 [==============================] - 365s 6s/step - loss: 0.8016 - f1_score: 0.8769 - val_loss: 0.9044 - val_f1_score: 0.8220\n",
            "Epoch 33/39\n",
            "63/63 [==============================] - 364s 6s/step - loss: 0.7844 - f1_score: 0.8653 - val_loss: 0.8783 - val_f1_score: 0.8358\n",
            "Epoch 34/39\n",
            "63/63 [==============================] - 364s 6s/step - loss: 0.8037 - f1_score: 0.8544 - val_loss: 0.8579 - val_f1_score: 0.8387\n",
            "Epoch 35/39\n",
            "63/63 [==============================] - 363s 6s/step - loss: 0.7922 - f1_score: 0.8567 - val_loss: 0.8549 - val_f1_score: 0.8417\n",
            "Epoch 36/39\n",
            "63/63 [==============================] - 364s 6s/step - loss: 0.7701 - f1_score: 0.8629 - val_loss: 0.8457 - val_f1_score: 0.8356\n",
            "Epoch 37/39\n",
            "63/63 [==============================] - 364s 6s/step - loss: 0.7477 - f1_score: 0.8705 - val_loss: 0.8442 - val_f1_score: 0.8399\n",
            "Epoch 38/39\n",
            "63/63 [==============================] - 363s 6s/step - loss: 0.7750 - f1_score: 0.8591 - val_loss: 0.8333 - val_f1_score: 0.8376\n",
            "Epoch 39/39\n",
            "63/63 [==============================] - 364s 6s/step - loss: 0.7425 - f1_score: 0.8658 - val_loss: 0.8381 - val_f1_score: 0.8397\n"
          ],
          "name": "stdout"
        }
      ]
    },
    {
      "cell_type": "code",
      "metadata": {
        "colab": {
          "base_uri": "https://localhost:8080/"
        },
        "id": "wT77h77VLq3r",
        "outputId": "f99dc9f6-3bcf-4da1-da3d-0744043bc054"
      },
      "source": [
        "model.save('model_base')"
      ],
      "execution_count": 37,
      "outputs": [
        {
          "output_type": "stream",
          "text": [
            "INFO:tensorflow:Assets written to: model_base/assets\n"
          ],
          "name": "stdout"
        }
      ]
    },
    {
      "cell_type": "code",
      "metadata": {
        "colab": {
          "base_uri": "https://localhost:8080/",
          "height": 399
        },
        "id": "NEBJryw7E3k_",
        "outputId": "ac42afe7-3ab4-4b1d-b6fa-f4ce790bd095"
      },
      "source": [
        "make_predictions(model,  name_file_submission='model_base.csv')"
      ],
      "execution_count": 38,
      "outputs": [
        {
          "output_type": "execute_result",
          "data": {
            "text/html": [
              "<div>\n",
              "<style scoped>\n",
              "    .dataframe tbody tr th:only-of-type {\n",
              "        vertical-align: middle;\n",
              "    }\n",
              "\n",
              "    .dataframe tbody tr th {\n",
              "        vertical-align: top;\n",
              "    }\n",
              "\n",
              "    .dataframe thead th {\n",
              "        text-align: right;\n",
              "    }\n",
              "</style>\n",
              "<table border=\"1\" class=\"dataframe\">\n",
              "  <thead>\n",
              "    <tr style=\"text-align: right;\">\n",
              "      <th></th>\n",
              "      <th>id.jpg</th>\n",
              "      <th>label</th>\n",
              "    </tr>\n",
              "  </thead>\n",
              "  <tbody>\n",
              "    <tr>\n",
              "      <th>0</th>\n",
              "      <td>Cereal_Cro_17.jpg</td>\n",
              "      <td>12</td>\n",
              "    </tr>\n",
              "    <tr>\n",
              "      <th>1</th>\n",
              "      <td>Forest_DEB_6.jpg</td>\n",
              "      <td>11</td>\n",
              "    </tr>\n",
              "    <tr>\n",
              "      <th>2</th>\n",
              "      <td>Forest_ODN_9.jpg</td>\n",
              "      <td>14</td>\n",
              "    </tr>\n",
              "    <tr>\n",
              "      <th>3</th>\n",
              "      <td>Moss_and_L_16.jpg</td>\n",
              "      <td>20</td>\n",
              "    </tr>\n",
              "    <tr>\n",
              "      <th>4</th>\n",
              "      <td>Forest_DDB_3.jpg</td>\n",
              "      <td>1</td>\n",
              "    </tr>\n",
              "    <tr>\n",
              "      <th>...</th>\n",
              "      <td>...</td>\n",
              "      <td>...</td>\n",
              "    </tr>\n",
              "    <tr>\n",
              "      <th>495</th>\n",
              "      <td>Close_Shru_11.jpg</td>\n",
              "      <td>2</td>\n",
              "    </tr>\n",
              "    <tr>\n",
              "      <th>496</th>\n",
              "      <td>Marshland__18.jpg</td>\n",
              "      <td>19</td>\n",
              "    </tr>\n",
              "    <tr>\n",
              "      <th>497</th>\n",
              "      <td>Forest_DEB_8.jpg</td>\n",
              "      <td>11</td>\n",
              "    </tr>\n",
              "    <tr>\n",
              "      <th>498</th>\n",
              "      <td>Forest_DEN_9.jpg</td>\n",
              "      <td>12</td>\n",
              "    </tr>\n",
              "    <tr>\n",
              "      <th>499</th>\n",
              "      <td>Continenta_11.jpg</td>\n",
              "      <td>3</td>\n",
              "    </tr>\n",
              "  </tbody>\n",
              "</table>\n",
              "<p>500 rows × 2 columns</p>\n",
              "</div>"
            ],
            "text/plain": [
              "                id.jpg  label\n",
              "0    Cereal_Cro_17.jpg     12\n",
              "1     Forest_DEB_6.jpg     11\n",
              "2     Forest_ODN_9.jpg     14\n",
              "3    Moss_and_L_16.jpg     20\n",
              "4     Forest_DDB_3.jpg      1\n",
              "..                 ...    ...\n",
              "495  Close_Shru_11.jpg      2\n",
              "496  Marshland__18.jpg     19\n",
              "497   Forest_DEB_8.jpg     11\n",
              "498   Forest_DEN_9.jpg     12\n",
              "499  Continenta_11.jpg      3\n",
              "\n",
              "[500 rows x 2 columns]"
            ]
          },
          "metadata": {
            "tags": []
          },
          "execution_count": 38
        }
      ]
    },
    {
      "cell_type": "code",
      "metadata": {
        "colab": {
          "base_uri": "https://localhost:8080/",
          "height": 17
        },
        "id": "yZfs31IcvKFR",
        "outputId": "fd24e059-0225-40ff-cfdb-9e561faae8d7"
      },
      "source": [
        "from google.colab import files\r\n",
        "files.download(\"model_base.csv\")"
      ],
      "execution_count": 41,
      "outputs": [
        {
          "output_type": "display_data",
          "data": {
            "application/javascript": [
              "\n",
              "    async function download(id, filename, size) {\n",
              "      if (!google.colab.kernel.accessAllowed) {\n",
              "        return;\n",
              "      }\n",
              "      const div = document.createElement('div');\n",
              "      const label = document.createElement('label');\n",
              "      label.textContent = `Downloading \"${filename}\": `;\n",
              "      div.appendChild(label);\n",
              "      const progress = document.createElement('progress');\n",
              "      progress.max = size;\n",
              "      div.appendChild(progress);\n",
              "      document.body.appendChild(div);\n",
              "\n",
              "      const buffers = [];\n",
              "      let downloaded = 0;\n",
              "\n",
              "      const channel = await google.colab.kernel.comms.open(id);\n",
              "      // Send a message to notify the kernel that we're ready.\n",
              "      channel.send({})\n",
              "\n",
              "      for await (const message of channel.messages) {\n",
              "        // Send a message to notify the kernel that we're ready.\n",
              "        channel.send({})\n",
              "        if (message.buffers) {\n",
              "          for (const buffer of message.buffers) {\n",
              "            buffers.push(buffer);\n",
              "            downloaded += buffer.byteLength;\n",
              "            progress.value = downloaded;\n",
              "          }\n",
              "        }\n",
              "      }\n",
              "      const blob = new Blob(buffers, {type: 'application/binary'});\n",
              "      const a = document.createElement('a');\n",
              "      a.href = window.URL.createObjectURL(blob);\n",
              "      a.download = filename;\n",
              "      div.appendChild(a);\n",
              "      a.click();\n",
              "      div.remove();\n",
              "    }\n",
              "  "
            ],
            "text/plain": [
              "<IPython.core.display.Javascript object>"
            ]
          },
          "metadata": {
            "tags": []
          }
        },
        {
          "output_type": "display_data",
          "data": {
            "application/javascript": [
              "download(\"download_50ac9475-b2a4-4258-9e59-40b854fa7c52\", \"model_base.csv\", 9988)"
            ],
            "text/plain": [
              "<IPython.core.display.Javascript object>"
            ]
          },
          "metadata": {
            "tags": []
          }
        }
      ]
    },
    {
      "cell_type": "markdown",
      "metadata": {
        "id": "n8GZcDkTKqkY"
      },
      "source": [
        "#### Modelo Mejorado"
      ]
    },
    {
      "cell_type": "markdown",
      "metadata": {
        "id": "J0UF2_0FtcRu"
      },
      "source": [
        "##### Modelo 1"
      ]
    },
    {
      "cell_type": "code",
      "metadata": {
        "id": "2abVqjMrKui4"
      },
      "source": [
        "base_model = tf.keras.applications.ResNet50(input_shape = (224, 224, 3), \r\n",
        "                                            classes     = 25,\r\n",
        "                                            include_top  = False)\r\n",
        "\r\n",
        "image_batch, label_batch = next(iter(train_data_gen))\r\n",
        "feature_batch = base_model(image_batch)\r\n",
        "base_model.trainable = False\r\n",
        "\r\n",
        "dense_layer_2048 = Dense(2048, activation='relu')\r\n",
        "dense_layer_512  = Dense(512, activation='relu')\r\n",
        "dense_layer_1024 = Dense(1024, activation='relu')\r\n",
        "\r\n",
        "dropout          = Dropout(0.25)\r\n",
        "\r\n",
        "global_average_layer = tf.keras.layers.GlobalAveragePooling2D()\r\n",
        "prediction_layer = keras.layers.Dense(25, activation='softmax')\r\n",
        "\r\n",
        "model_1 = tf.keras.Sequential([\r\n",
        "  base_model,\r\n",
        "  global_average_layer,\r\n",
        "  dense_layer_2048,\r\n",
        "  dropout,\r\n",
        "  dense_layer_512,\r\n",
        "  dropout,\r\n",
        "  dense_layer_1024,\r\n",
        "  prediction_layer\r\n",
        "])\r\n"
      ],
      "execution_count": 22,
      "outputs": []
    },
    {
      "cell_type": "code",
      "metadata": {
        "id": "x8j3K0iTPm7I"
      },
      "source": [
        "opt = tf.keras.optimizers.Adagrad()\r\n",
        "\r\n",
        "callback = tf.keras.callbacks.EarlyStopping(monitor='f1_score', patience=5)\r\n",
        "\r\n",
        "model_1.compile(loss=\"categorical_crossentropy\",\r\n",
        "              optimizer=opt,\r\n",
        "\t            metrics=[tfa.metrics.F1Score(num_classes=25, average='weighted')],\r\n",
        "              )"
      ],
      "execution_count": 23,
      "outputs": []
    },
    {
      "cell_type": "code",
      "metadata": {
        "colab": {
          "base_uri": "https://localhost:8080/"
        },
        "id": "rOFN4So_Pm7J",
        "outputId": "5ad664b7-e3fa-4b5e-ff14-b70048f29901"
      },
      "source": [
        "tf.random.set_seed(2021)\r\n",
        "\r\n",
        "model_history_1 = model_1.fit(  \r\n",
        "    train_data_gen,\r\n",
        "    epochs=50,\r\n",
        "    validation_data=valid_data_gen,\r\n",
        "    validation_steps= valid_data_gen.n // batch_size)"
      ],
      "execution_count": 24,
      "outputs": [
        {
          "output_type": "stream",
          "text": [
            "Epoch 1/50\n",
            "63/63 [==============================] - 384s 6s/step - loss: 3.1512 - f1_score: 0.0746 - val_loss: 2.5643 - val_f1_score: 0.4720\n",
            "Epoch 2/50\n",
            "63/63 [==============================] - 375s 6s/step - loss: 2.5564 - f1_score: 0.3884 - val_loss: 1.9969 - val_f1_score: 0.6253\n",
            "Epoch 3/50\n",
            "63/63 [==============================] - 376s 6s/step - loss: 2.0451 - f1_score: 0.5262 - val_loss: 1.5501 - val_f1_score: 0.7224\n",
            "Epoch 4/50\n",
            "63/63 [==============================] - 376s 6s/step - loss: 1.6611 - f1_score: 0.5987 - val_loss: 1.2253 - val_f1_score: 0.7390\n",
            "Epoch 5/50\n",
            "63/63 [==============================] - 376s 6s/step - loss: 1.3330 - f1_score: 0.6922 - val_loss: 1.0418 - val_f1_score: 0.7635\n",
            "Epoch 6/50\n",
            "63/63 [==============================] - 375s 6s/step - loss: 1.1943 - f1_score: 0.7003 - val_loss: 0.8976 - val_f1_score: 0.7953\n",
            "Epoch 7/50\n",
            "63/63 [==============================] - 374s 6s/step - loss: 1.0191 - f1_score: 0.7387 - val_loss: 0.8097 - val_f1_score: 0.7996\n",
            "Epoch 8/50\n",
            "63/63 [==============================] - 374s 6s/step - loss: 0.9303 - f1_score: 0.7461 - val_loss: 0.7451 - val_f1_score: 0.8088\n",
            "Epoch 9/50\n",
            "63/63 [==============================] - 374s 6s/step - loss: 0.8769 - f1_score: 0.7623 - val_loss: 0.6915 - val_f1_score: 0.8192\n",
            "Epoch 10/50\n",
            "63/63 [==============================] - 375s 6s/step - loss: 0.8091 - f1_score: 0.7800 - val_loss: 0.6330 - val_f1_score: 0.8273\n",
            "Epoch 11/50\n",
            "63/63 [==============================] - 375s 6s/step - loss: 0.7524 - f1_score: 0.7938 - val_loss: 0.6369 - val_f1_score: 0.8155\n",
            "Epoch 12/50\n",
            "63/63 [==============================] - 375s 6s/step - loss: 0.7102 - f1_score: 0.8083 - val_loss: 0.6048 - val_f1_score: 0.8345\n",
            "Epoch 13/50\n",
            "63/63 [==============================] - 375s 6s/step - loss: 0.6574 - f1_score: 0.8168 - val_loss: 0.5819 - val_f1_score: 0.8208\n",
            "Epoch 14/50\n",
            "63/63 [==============================] - 376s 6s/step - loss: 0.6259 - f1_score: 0.8398 - val_loss: 0.5729 - val_f1_score: 0.8390\n",
            "Epoch 15/50\n",
            "63/63 [==============================] - 375s 6s/step - loss: 0.6285 - f1_score: 0.8156 - val_loss: 0.5415 - val_f1_score: 0.8386\n",
            "Epoch 16/50\n",
            "63/63 [==============================] - 375s 6s/step - loss: 0.5562 - f1_score: 0.8473 - val_loss: 0.5219 - val_f1_score: 0.8614\n",
            "Epoch 17/50\n",
            "63/63 [==============================] - 376s 6s/step - loss: 0.5910 - f1_score: 0.8268 - val_loss: 0.5315 - val_f1_score: 0.8408\n",
            "Epoch 18/50\n",
            "63/63 [==============================] - 376s 6s/step - loss: 0.5447 - f1_score: 0.8469 - val_loss: 0.4788 - val_f1_score: 0.8648\n",
            "Epoch 19/50\n",
            "63/63 [==============================] - 372s 6s/step - loss: 0.5350 - f1_score: 0.8526 - val_loss: 0.4657 - val_f1_score: 0.8613\n",
            "Epoch 20/50\n",
            "63/63 [==============================] - 372s 6s/step - loss: 0.4730 - f1_score: 0.8746 - val_loss: 0.4581 - val_f1_score: 0.8605\n",
            "Epoch 21/50\n",
            "63/63 [==============================] - 371s 6s/step - loss: 0.4890 - f1_score: 0.8532 - val_loss: 0.4732 - val_f1_score: 0.8637\n",
            "Epoch 22/50\n",
            "63/63 [==============================] - 370s 6s/step - loss: 0.4781 - f1_score: 0.8727 - val_loss: 0.4447 - val_f1_score: 0.8745\n",
            "Epoch 23/50\n",
            "63/63 [==============================] - 370s 6s/step - loss: 0.4665 - f1_score: 0.8693 - val_loss: 0.4372 - val_f1_score: 0.8758\n",
            "Epoch 24/50\n",
            "63/63 [==============================] - 370s 6s/step - loss: 0.4793 - f1_score: 0.8658 - val_loss: 0.4438 - val_f1_score: 0.8721\n",
            "Epoch 25/50\n",
            "63/63 [==============================] - 370s 6s/step - loss: 0.4648 - f1_score: 0.8733 - val_loss: 0.4173 - val_f1_score: 0.8762\n",
            "Epoch 26/50\n",
            "63/63 [==============================] - 373s 6s/step - loss: 0.4204 - f1_score: 0.8856 - val_loss: 0.4257 - val_f1_score: 0.8783\n",
            "Epoch 27/50\n",
            "63/63 [==============================] - 370s 6s/step - loss: 0.4600 - f1_score: 0.8648 - val_loss: 0.4111 - val_f1_score: 0.8837\n",
            "Epoch 28/50\n",
            "63/63 [==============================] - 372s 6s/step - loss: 0.4043 - f1_score: 0.8805 - val_loss: 0.4237 - val_f1_score: 0.8765\n",
            "Epoch 29/50\n",
            "63/63 [==============================] - 372s 6s/step - loss: 0.4252 - f1_score: 0.8748 - val_loss: 0.3919 - val_f1_score: 0.8912\n",
            "Epoch 30/50\n",
            "63/63 [==============================] - 372s 6s/step - loss: 0.3979 - f1_score: 0.8763 - val_loss: 0.3866 - val_f1_score: 0.8895\n",
            "Epoch 31/50\n",
            "63/63 [==============================] - 371s 6s/step - loss: 0.3985 - f1_score: 0.8914 - val_loss: 0.3879 - val_f1_score: 0.8918\n",
            "Epoch 32/50\n",
            "63/63 [==============================] - 372s 6s/step - loss: 0.3968 - f1_score: 0.8934 - val_loss: 0.3818 - val_f1_score: 0.8962\n",
            "Epoch 33/50\n",
            "63/63 [==============================] - 374s 6s/step - loss: 0.3609 - f1_score: 0.8977 - val_loss: 0.3793 - val_f1_score: 0.8893\n",
            "Epoch 34/50\n",
            "63/63 [==============================] - 372s 6s/step - loss: 0.3686 - f1_score: 0.8917 - val_loss: 0.3603 - val_f1_score: 0.8994\n",
            "Epoch 35/50\n",
            "63/63 [==============================] - 373s 6s/step - loss: 0.3630 - f1_score: 0.9026 - val_loss: 0.3493 - val_f1_score: 0.9060\n",
            "Epoch 36/50\n",
            "63/63 [==============================] - 372s 6s/step - loss: 0.3353 - f1_score: 0.9131 - val_loss: 0.3613 - val_f1_score: 0.8995\n",
            "Epoch 37/50\n",
            "63/63 [==============================] - 373s 6s/step - loss: 0.3378 - f1_score: 0.9055 - val_loss: 0.3615 - val_f1_score: 0.8976\n",
            "Epoch 38/50\n",
            "63/63 [==============================] - 373s 6s/step - loss: 0.3482 - f1_score: 0.8953 - val_loss: 0.3654 - val_f1_score: 0.8960\n",
            "Epoch 39/50\n",
            "63/63 [==============================] - 372s 6s/step - loss: 0.3285 - f1_score: 0.9026 - val_loss: 0.3349 - val_f1_score: 0.9189\n",
            "Epoch 40/50\n",
            "63/63 [==============================] - 372s 6s/step - loss: 0.3350 - f1_score: 0.9033 - val_loss: 0.3639 - val_f1_score: 0.9011\n",
            "Epoch 41/50\n",
            "63/63 [==============================] - 371s 6s/step - loss: 0.3363 - f1_score: 0.9005 - val_loss: 0.3625 - val_f1_score: 0.9045\n",
            "Epoch 42/50\n",
            "63/63 [==============================] - 370s 6s/step - loss: 0.3227 - f1_score: 0.8960 - val_loss: 0.3540 - val_f1_score: 0.9066\n",
            "Epoch 43/50\n",
            "63/63 [==============================] - 374s 6s/step - loss: 0.3495 - f1_score: 0.8891 - val_loss: 0.3469 - val_f1_score: 0.9037\n",
            "Epoch 44/50\n",
            "63/63 [==============================] - 372s 6s/step - loss: 0.2762 - f1_score: 0.9283 - val_loss: 0.3513 - val_f1_score: 0.9104\n",
            "Epoch 45/50\n",
            "63/63 [==============================] - 372s 6s/step - loss: 0.3239 - f1_score: 0.9138 - val_loss: 0.3354 - val_f1_score: 0.9160\n",
            "Epoch 46/50\n",
            "63/63 [==============================] - 372s 6s/step - loss: 0.2986 - f1_score: 0.9181 - val_loss: 0.3545 - val_f1_score: 0.9020\n",
            "Epoch 47/50\n",
            "63/63 [==============================] - 372s 6s/step - loss: 0.3057 - f1_score: 0.9140 - val_loss: 0.3317 - val_f1_score: 0.9002\n",
            "Epoch 48/50\n",
            "63/63 [==============================] - 372s 6s/step - loss: 0.3070 - f1_score: 0.9039 - val_loss: 0.3429 - val_f1_score: 0.9080\n",
            "Epoch 49/50\n",
            "63/63 [==============================] - 372s 6s/step - loss: 0.2761 - f1_score: 0.9191 - val_loss: 0.3094 - val_f1_score: 0.9271\n",
            "Epoch 50/50\n",
            "63/63 [==============================] - 371s 6s/step - loss: 0.2964 - f1_score: 0.9127 - val_loss: 0.3270 - val_f1_score: 0.9164\n"
          ],
          "name": "stdout"
        }
      ]
    },
    {
      "cell_type": "code",
      "metadata": {
        "colab": {
          "base_uri": "https://localhost:8080/"
        },
        "id": "8MC6Xr2Q8cHw",
        "outputId": "746be048-b547-450f-e691-871c499a6a15"
      },
      "source": [
        "model_1.save('model_2048_512_1024')"
      ],
      "execution_count": 25,
      "outputs": [
        {
          "output_type": "stream",
          "text": [
            "INFO:tensorflow:Assets written to: model_2048_512_1024/assets\n"
          ],
          "name": "stdout"
        }
      ]
    },
    {
      "cell_type": "code",
      "metadata": {
        "colab": {
          "base_uri": "https://localhost:8080/",
          "height": 399
        },
        "id": "b6XNeEf6SFpZ",
        "outputId": "8d6e51fb-e500-4118-a843-48a40ded91f9"
      },
      "source": [
        "make_predictions(model_1, name_file_submission='modelo_mejorado_2048_512_1024.csv')"
      ],
      "execution_count": 26,
      "outputs": [
        {
          "output_type": "execute_result",
          "data": {
            "text/html": [
              "<div>\n",
              "<style scoped>\n",
              "    .dataframe tbody tr th:only-of-type {\n",
              "        vertical-align: middle;\n",
              "    }\n",
              "\n",
              "    .dataframe tbody tr th {\n",
              "        vertical-align: top;\n",
              "    }\n",
              "\n",
              "    .dataframe thead th {\n",
              "        text-align: right;\n",
              "    }\n",
              "</style>\n",
              "<table border=\"1\" class=\"dataframe\">\n",
              "  <thead>\n",
              "    <tr style=\"text-align: right;\">\n",
              "      <th></th>\n",
              "      <th>id.jpg</th>\n",
              "      <th>label</th>\n",
              "    </tr>\n",
              "  </thead>\n",
              "  <tbody>\n",
              "    <tr>\n",
              "      <th>0</th>\n",
              "      <td>Cereal_Cropland_100.0_(52.56941042667439_58.76...</td>\n",
              "      <td>1</td>\n",
              "    </tr>\n",
              "    <tr>\n",
              "      <th>1</th>\n",
              "      <td>Broadleaf_Cropland_100.0_(48.726058315097426_4...</td>\n",
              "      <td>0</td>\n",
              "    </tr>\n",
              "    <tr>\n",
              "      <th>2</th>\n",
              "      <td>Swamp_add_86.71897053718567_(25.50496754672144...</td>\n",
              "      <td>23</td>\n",
              "    </tr>\n",
              "    <tr>\n",
              "      <th>3</th>\n",
              "      <td>Forest_OEN_86.21791005134583_(58.2237661510363...</td>\n",
              "      <td>16</td>\n",
              "    </tr>\n",
              "    <tr>\n",
              "      <th>4</th>\n",
              "      <td>Moss_and_Lichen_98.5647201538086_(67.822085298...</td>\n",
              "      <td>20</td>\n",
              "    </tr>\n",
              "    <tr>\n",
              "      <th>...</th>\n",
              "      <td>...</td>\n",
              "      <td>...</td>\n",
              "    </tr>\n",
              "    <tr>\n",
              "      <th>495</th>\n",
              "      <td>Forest_DDB_99.87543821334839_(41.5021661263218...</td>\n",
              "      <td>10</td>\n",
              "    </tr>\n",
              "    <tr>\n",
              "      <th>496</th>\n",
              "      <td>Marine_Water_100.0_(71.54470383618786_179.4402...</td>\n",
              "      <td>18</td>\n",
              "    </tr>\n",
              "    <tr>\n",
              "      <th>497</th>\n",
              "      <td>Cropland_sw_98.5241949558258_(12.6669641583125...</td>\n",
              "      <td>4</td>\n",
              "    </tr>\n",
              "    <tr>\n",
              "      <th>498</th>\n",
              "      <td>Forest_ODN_78.67581248283386_(64.8641127312478...</td>\n",
              "      <td>14</td>\n",
              "    </tr>\n",
              "    <tr>\n",
              "      <th>499</th>\n",
              "      <td>Forest_OEN_86.2500011920929_(55.90970597914442...</td>\n",
              "      <td>16</td>\n",
              "    </tr>\n",
              "  </tbody>\n",
              "</table>\n",
              "<p>500 rows × 2 columns</p>\n",
              "</div>"
            ],
            "text/plain": [
              "                                                id.jpg  label\n",
              "0    Cereal_Cropland_100.0_(52.56941042667439_58.76...      1\n",
              "1    Broadleaf_Cropland_100.0_(48.726058315097426_4...      0\n",
              "2    Swamp_add_86.71897053718567_(25.50496754672144...     23\n",
              "3    Forest_OEN_86.21791005134583_(58.2237661510363...     16\n",
              "4    Moss_and_Lichen_98.5647201538086_(67.822085298...     20\n",
              "..                                                 ...    ...\n",
              "495  Forest_DDB_99.87543821334839_(41.5021661263218...     10\n",
              "496  Marine_Water_100.0_(71.54470383618786_179.4402...     18\n",
              "497  Cropland_sw_98.5241949558258_(12.6669641583125...      4\n",
              "498  Forest_ODN_78.67581248283386_(64.8641127312478...     14\n",
              "499  Forest_OEN_86.2500011920929_(55.90970597914442...     16\n",
              "\n",
              "[500 rows x 2 columns]"
            ]
          },
          "metadata": {
            "tags": []
          },
          "execution_count": 26
        }
      ]
    },
    {
      "cell_type": "code",
      "metadata": {
        "colab": {
          "base_uri": "https://localhost:8080/",
          "height": 17
        },
        "id": "Vpf4a0pmSd4r",
        "outputId": "db1154b5-11e2-4c0b-afc0-55c005455659"
      },
      "source": [
        "from google.colab import files\r\n",
        "\r\n",
        "files.download(\"modelo_mejorado_2048_512_1024.csv\")"
      ],
      "execution_count": 27,
      "outputs": [
        {
          "output_type": "display_data",
          "data": {
            "application/javascript": [
              "\n",
              "    async function download(id, filename, size) {\n",
              "      if (!google.colab.kernel.accessAllowed) {\n",
              "        return;\n",
              "      }\n",
              "      const div = document.createElement('div');\n",
              "      const label = document.createElement('label');\n",
              "      label.textContent = `Downloading \"${filename}\": `;\n",
              "      div.appendChild(label);\n",
              "      const progress = document.createElement('progress');\n",
              "      progress.max = size;\n",
              "      div.appendChild(progress);\n",
              "      document.body.appendChild(div);\n",
              "\n",
              "      const buffers = [];\n",
              "      let downloaded = 0;\n",
              "\n",
              "      const channel = await google.colab.kernel.comms.open(id);\n",
              "      // Send a message to notify the kernel that we're ready.\n",
              "      channel.send({})\n",
              "\n",
              "      for await (const message of channel.messages) {\n",
              "        // Send a message to notify the kernel that we're ready.\n",
              "        channel.send({})\n",
              "        if (message.buffers) {\n",
              "          for (const buffer of message.buffers) {\n",
              "            buffers.push(buffer);\n",
              "            downloaded += buffer.byteLength;\n",
              "            progress.value = downloaded;\n",
              "          }\n",
              "        }\n",
              "      }\n",
              "      const blob = new Blob(buffers, {type: 'application/binary'});\n",
              "      const a = document.createElement('a');\n",
              "      a.href = window.URL.createObjectURL(blob);\n",
              "      a.download = filename;\n",
              "      div.appendChild(a);\n",
              "      a.click();\n",
              "      div.remove();\n",
              "    }\n",
              "  "
            ],
            "text/plain": [
              "<IPython.core.display.Javascript object>"
            ]
          },
          "metadata": {
            "tags": []
          }
        },
        {
          "output_type": "display_data",
          "data": {
            "application/javascript": [
              "download(\"download_955a03b3-b9bc-45c7-a31d-d6dfd37e5cbc\", \"modelo_mejorado_2048_512_1024.csv\", 44078)"
            ],
            "text/plain": [
              "<IPython.core.display.Javascript object>"
            ]
          },
          "metadata": {
            "tags": []
          }
        }
      ]
    },
    {
      "cell_type": "code",
      "metadata": {
        "id": "khiAeQbtAWQR"
      },
      "source": [
        "import matplotlib.pyplot as plt"
      ],
      "execution_count": 30,
      "outputs": []
    },
    {
      "cell_type": "code",
      "metadata": {
        "colab": {
          "base_uri": "https://localhost:8080/",
          "height": 295
        },
        "id": "1ol0UUxp4O2Q",
        "outputId": "c49ae469-0b4b-4acc-f421-718a1ab8a360"
      },
      "source": [
        "plt.plot(model_history_1.history['f1_score'])\r\n",
        "plt.plot(model_history_1.history['val_f1_score'])\r\n",
        "plt.title('model f1_score')\r\n",
        "plt.ylabel('f1_score')\r\n",
        "plt.xlabel('epoch')\r\n",
        "plt.legend(['train', 'test'], loc='upper left')\r\n",
        "plt.show()"
      ],
      "execution_count": 31,
      "outputs": [
        {
          "output_type": "display_data",
          "data": {
            "image/png": "[encoded data removed]",
            "text/plain": [
              "<Figure size 432x288 with 1 Axes>"
            ]
          },
          "metadata": {
            "tags": [],
            "needs_background": "light"
          }
        }
      ]
    },
    {
      "cell_type": "markdown",
      "metadata": {
        "id": "7A72lNhxtezq"
      },
      "source": [
        "##### Modelo 2"
      ]
    },
    {
      "cell_type": "code",
      "metadata": {
        "id": "aiBsqAt3tgPH"
      },
      "source": [
        "base_model = tf.keras.applications.ResNet50(input_shape = (224, 224, 3), \r\n",
        "                                            classes     = 25,\r\n",
        "                                            include_top  = False)\r\n",
        "\r\n",
        "image_batch, label_batch = next(iter(train_data_gen))\r\n",
        "feature_batch = base_model(image_batch)\r\n",
        "base_model.trainable = False\r\n",
        "\r\n",
        "dense_layer_2048 = Dense(2048, activation='relu')\r\n",
        "dense_layer_512  = Dense(512,  activation='relu')\r\n",
        "dense_layer_1024 = Dense(1024, activation='relu')\r\n",
        "\r\n",
        "dense_layer_256  = Dense(256, activation='relu')\r\n",
        "dense_layer_128  = Dense(128, activation='relu')\r\n",
        "dense_layer_52   = Dense(52,  activation='relu')\r\n",
        "\r\n",
        "dropout          = Dropout(0.25)\r\n",
        "\r\n",
        "global_average_layer = tf.keras.layers.GlobalAveragePooling2D()\r\n",
        "prediction_layer = keras.layers.Dense(25, activation='softmax')\r\n",
        "\r\n",
        "model_2 = tf.keras.Sequential([\r\n",
        "  base_model,\r\n",
        "  dense_layer_2048,\r\n",
        "  dropout,\r\n",
        "  dense_layer_512,\r\n",
        "  dropout,\r\n",
        "  dense_layer_1024,\r\n",
        "  dropout,\r\n",
        "  dense_layer_256,\r\n",
        "  dropout,\r\n",
        "  dense_layer_128,\r\n",
        "  dropout,\r\n",
        "  dense_layer_52,\r\n",
        "  dropout,\r\n",
        "  global_average_layer,\r\n",
        "  prediction_layer\r\n",
        "])"
      ],
      "execution_count": 39,
      "outputs": []
    },
    {
      "cell_type": "code",
      "metadata": {
        "id": "2sNQpnrftloA"
      },
      "source": [
        "opt = tf.keras.optimizers.Adagrad()\r\n",
        "\r\n",
        "callback = tf.keras.callbacks.EarlyStopping(monitor='f1_score', patience=5)\r\n",
        "\r\n",
        "model_2.compile(loss=\"categorical_crossentropy\",\r\n",
        "              optimizer=opt,\r\n",
        "\t            metrics=[tfa.metrics.F1Score(num_classes=25, average='weighted')],\r\n",
        "              )"
      ],
      "execution_count": 40,
      "outputs": []
    },
    {
      "cell_type": "code",
      "metadata": {
        "id": "LOibTIm-tloB"
      },
      "source": [
        "tf.random.set_seed(2021)\r\n",
        "\r\n",
        "model_history_2 = model_2.fit(  \r\n",
        "    train_data_gen,\r\n",
        "    epochs=50,\r\n",
        "    validation_data=valid_data_gen,\r\n",
        "    validation_steps= valid_data_gen.n // batch_size)"
      ],
      "execution_count": null,
      "outputs": []
    },
    {
      "cell_type": "code",
      "metadata": {
        "id": "iSL0NJnPfC1m"
      },
      "source": [
        "plt.plot(model_history_2.history['f1_score'])\r\n",
        "plt.plot(model_history_2.history['val_f1_score'])\r\n",
        "plt.title('model f1_score')\r\n",
        "plt.ylabel('f1_score')\r\n",
        "plt.xlabel('epoch')\r\n",
        "plt.legend(['train', 'test'], loc='upper left')\r\n",
        "plt.show()"
      ],
      "execution_count": null,
      "outputs": []
    },
    {
      "cell_type": "code",
      "metadata": {
        "id": "Tmi21p1ufC8Z"
      },
      "source": [
        "make_predictions(model_2, name_file_submission='modelo_mejorado_2048_512_1024_256_128_52.csv')"
      ],
      "execution_count": null,
      "outputs": []
    },
    {
      "cell_type": "code",
      "metadata": {
        "id": "S7alNAg1fLGr"
      },
      "source": [
        "from google.colab import files\r\n",
        "\r\n",
        "files.download(\"modelo_mejorado_2048_512_1024_256_128_52.csv\")"
      ],
      "execution_count": null,
      "outputs": []
    },
    {
      "cell_type": "markdown",
      "metadata": {
        "id": "4Q0j18fwKsOS"
      },
      "source": [
        "#### Predicciones"
      ]
    },
    {
      "cell_type": "code",
      "metadata": {
        "id": "4yZhcH3FXLL_"
      },
      "source": [
        "make_predictions(model,  name_file_submission='model_2048_512_1024.csv')"
      ],
      "execution_count": null,
      "outputs": []
    },
    {
      "cell_type": "markdown",
      "metadata": {
        "id": "8dn-fJLlyPJm"
      },
      "source": [
        "#### Testss"
      ]
    },
    {
      "cell_type": "code",
      "metadata": {
        "id": "UhqhqY6FyQxh"
      },
      "source": [
        "path_test ='/root/.keras/datasets/Test'\r\n",
        "name_file_submission = 'submission.csv'\r\n",
        "\r\n",
        "images_test = os.listdir(path_test)\r\n",
        "samples_to_predict = []\r\n",
        "\r\n",
        "for img in images_test:\r\n",
        "  path_img = os.path.join(path_test, img)\r\n",
        "  img = image.load_img(path_img,\r\n",
        "                       target_size=(img_width, img_height))\r\n",
        "  x = image.img_to_array(img)\r\n",
        "  samples_to_predict.append(x)"
      ],
      "execution_count": 29,
      "outputs": []
    },
    {
      "cell_type": "code",
      "metadata": {
        "id": "hqzF4Yp7y6Rw"
      },
      "source": [
        "data = {'id.jpg': images_test, 'label': 0}\r\n",
        "data = pd.DataFrame(data)\r\n",
        "data.to_csv(name_file_submission, index = False)"
      ],
      "execution_count": 30,
      "outputs": []
    },
    {
      "cell_type": "code",
      "metadata": {
        "colab": {
          "base_uri": "https://localhost:8080/"
        },
        "id": "g07Fqla_0m3U",
        "outputId": "ec483594-7d15-46b9-f6d8-8d341785b3ad"
      },
      "source": [
        "\r\n",
        "os.listdir(path_test, or)"
      ],
      "execution_count": 34,
      "outputs": [
        {
          "output_type": "execute_result",
          "data": {
            "text/plain": [
              "['Cereal_Cropland_100.0_(52.56941042667439_58.7670672348718)_64.57291841506958.jpg',\n",
              " 'Broadleaf_Cropland_100.0_(48.726058315097426_4.517447900780269)_70.22878527641296.jpg',\n",
              " 'Swamp_add_86.71897053718567_(25.504967546721446_-80.78082226139112)_0.045838108053430915.jpg',\n",
              " 'Forest_OEN_86.21791005134583_(58.2237661510363_-98.72988029032646)_0.0.jpg',\n",
              " 'Moss_and_Lichen_98.5647201538086_(67.82208529879657_-67.9629411353465)_0.0.jpg',\n",
              " 'Forest_CDB_88.02725672721863_(-14.196256097997633_24.4988544285076)_12.294413149356842.jpg',\n",
              " 'Marshland_add_90.45522809028625_(71.56482609855215_149.92091574504786)_0.07329427171498537.jpg',\n",
              " 'Forest_CEN_84.55199003219604_(33.77521737843941_-109.51541291757908)_4.408097267150879.jpg',\n",
              " 'Forest_CDB_88.02149891853333_(-14.07552252381197_24.659832527421827)_14.16195034980774.jpg',\n",
              " 'Forest_DEN_99.75037574768066_(58.907923071421735_-124.06380860695157)_0.025971035938709974.jpg',\n",
              " 'Grassland_100.0_(41.522288388686164_-100.84271783857558)_12.514209747314453.jpg',\n",
              " 'Forest_OEB_88.32359910011292_(-11.399261629363082_130.96574459789872)_2.813180536031723.jpg',\n",
              " 'Forest_ODN_78.65363955497742_(65.2263134538048_114.586223033377)_0.0941552163567394.jpg',\n",
              " 'Snow_100.0_(77.90333874329949_23.170785112465296)_0.0.jpg',\n",
              " 'Forest_OEB_88.52613568305969_(-12.023051762655683_142.69702355627237)_1.709572970867157.jpg',\n",
              " 'Cereal_Cropland_100.0_(52.468799114853_48.887036414011675)_55.03484606742859.jpg',\n",
              " 'Moss_and_Lichen_98.55787754058838_(68.02330792243934_-68.68734258046048)_0.000756604549678741.jpg',\n",
              " 'Snow_100.0_(77.90333874329949_23.11041832537248)_0.0.jpg',\n",
              " 'Forest_CDB_87.98141479492188_(-14.296867409819015_24.4988544285076)_12.481792271137238.jpg',\n",
              " 'Forest_DDN_95.30060291290283_(60.39697048637825_116.39722664616193)_1.9504537805914879.jpg',\n",
              " 'Broadleaf_Cropland_100.0_(48.70593605273315_4.215613965316095)_69.89091634750366.jpg',\n",
              " 'Marine_Water_100.0_(71.54470383618786_179.52076368289977)_0.0.jpg',\n",
              " 'Continental_Water_100.0_(69.4721108126673_-131.95173545374826)_0.0.jpg',\n",
              " 'Open_Shrubland_50_100.0_(6.791263547943572_46.29126456901989)_21.421892940998077.jpg',\n",
              " 'Forest_ODB_86.84977293014526_(8.240066438171539_26.14887994237833)_12.13892549276352.jpg',\n",
              " 'Forest_CEB_84.40703749656677_(-34.70084144719618_116.31673759670485)_1.4626172371208668.jpg',\n",
              " 'Marine_Water_100.0_(71.56482609855215_179.72198630654253)_0.0.jpg',\n",
              " 'Forest_CDN_84.48062539100647_(51.56329730846053_123.19855132528767)_0.1446775160729885.jpg',\n",
              " 'Snow_100.0_(77.8832164809352_14.25662288509048)_0.22951778955757618.jpg',\n",
              " 'Forest_DDN_95.23133039474487_(60.27623691219259_115.89417008705499)_1.1953667737543583.jpg',\n",
              " 'Snow_100.0_(77.90333874329949_22.466505929715595)_0.0.jpg',\n",
              " 'Forest_OEB_88.45862746238708_(-11.238283530448868_142.31470057135107)_1.9597074016928673.jpg',\n",
              " 'Forest_DEN_99.74473118782043_(53.33405639651693_-117.50395107619717)_5.23715652525425.jpg',\n",
              " 'Close_Shrubland_50_90.81777930259705_(-15.946892923689745_126.33762425411493)_0.22685707081109285.jpg',\n",
              " 'Forest_DDN_95.24981379508972_(60.175625600371205_116.29661533434057)_1.3310403563082218.jpg',\n",
              " 'Forest_ODB_86.85471415519714_(8.34067774999292_18.301197620310205)_19.078251719474792.jpg',\n",
              " 'Cereal_Cropland_100.0_(52.52916590194583_58.7670672348718)_59.8533570766449.jpg',\n",
              " 'Open_Shrubland_50_100.0_(6.69065223612219_45.78820800991298)_14.693351089954376.jpg',\n",
              " 'Urban_100.0_(44.80221715406336_20.474401955652155)_92.42442846298218.jpg',\n",
              " 'Marshland_add_90.25076031684875_(69.27088818902453_-135.43288684276823)_0.0.jpg',\n",
              " 'Broadleaf_Cropland_100.0_(48.665691528004594_3.7729241933020035)_66.27973914146423.jpg',\n",
              " 'Forest_DEB_100.0_(-4.819281836244414_-77.5411380207425)_5.633579194545746.jpg',\n",
              " 'Close_Shrubland_50_90.84676504135132_(-17.59691843756049_123.90283050803737)_0.4408242180943489.jpg',\n",
              " 'Forest_ODN_78.64516973495483_(62.71103065827013_128.02789429271422)_1.2414177879691124.jpg',\n",
              " 'Urban_100.0_(37.940525687844804_23.73420845866505)_94.48052048683167.jpg',\n",
              " 'Open_Shrubland_50_100.0_(6.630285449029358_46.190653257198505)_21.7915877699852.jpg',\n",
              " 'Snow_100.0_(77.8832164809352_14.236500622726197)_0.377140031196177.jpg',\n",
              " 'Marshland_add_90.76296091079712_(71.50445931145931_149.17639203756966)_0.12277807109057903.jpg',\n",
              " 'Forest_DEN_99.74938035011292_(54.29992499000223_-119.57654409971772)_1.726909726858139.jpg',\n",
              " 'Marine_Water_100.0_(71.56482609855215_179.70186404417825)_0.0.jpg',\n",
              " 'Forest_CDB_87.99138069152832_(-9.588258016578123_25.364111710171528)_12.773174047470093.jpg',\n",
              " 'Forest_DDB_99.86048936843872_(35.30450931812448_127.72606035725005)_29.31939959526062.jpg',\n",
              " 'Moss_and_Lichen_98.60172271728516_(68.38550864499634_-68.48611995681772)_0.0.jpg',\n",
              " 'Forest_ODB_86.87132596969604_(8.461411324178584_5.342460657715634)_21.878428757190704.jpg',\n",
              " 'Snow_100.0_(77.90333874329949_22.406139142622777)_0.0.jpg',\n",
              " 'Forest_CEN_84.61067080497742_(40.39544169628663_-121.0052247275814)_2.968209981918335.jpg',\n",
              " 'Cereal_Cropland_100.0_(52.448676852488724_52.54928816431013)_38.5082483291626.jpg',\n",
              " 'Forest_DEN_99.76399540901184_(58.82743402196462_-124.44613159187283)_0.026546898880042136.jpg',\n",
              " 'Moss_and_Lichen_98.61726760864258_(70.82030239107388_-74.32157604245812)_0.0030430961487581953.jpg',\n",
              " 'Grassland_100.0_(41.582655175778996_-100.84271783857558)_12.239918112754822.jpg',\n",
              " 'Forest_CEN_84.61354970932007_(36.57221184707395_-105.32998234580941)_2.936600148677826.jpg',\n",
              " 'Forest_CEN_84.52962040901184_(42.81011317999991_-122.15219368234523)_0.03784231375902891.jpg',\n",
              " 'Grassland_100.0_(41.6631442252361_-101.02381819985408)_11.08267605304718.jpg',\n",
              " 'Close_Shrubland_50_90.90033769607544_(-9.34679086820681_-41.743633274693195)_9.451103955507278.jpg',\n",
              " 'Cropland_sw_98.48881959915161_(17.254839977367766_95.10787306475657)_58.83326530456543.jpg',\n",
              " 'Cereal_Cropland_100.0_(52.750510787952884_49.048014512925874)_36.945825815200806.jpg',\n",
              " 'Forest_CDB_88.1289005279541_(-13.371243341062254_27.074504011135105)_14.254407584667206.jpg',\n",
              " 'Forest_DEB_100.0_(-4.839404098608696_-77.09844824872839)_5.250304937362671.jpg',\n",
              " 'Moss_and_Lichen_98.55827689170837_(70.8001801287096_-75.44842273485764)_0.00016237090676440857.jpg',\n",
              " 'Close_Shrubland_50_90.85691571235657_(-17.838385585931817_123.56075204784463)_0.03911915991920978.jpg',\n",
              " 'Marshland_add_90.7939612865448_(71.56482609855215_137.86768058884581)_0.22531335707753897.jpg',\n",
              " 'Forest_OEN_86.25903129577637_(55.70848335550164_-93.23650266487877)_0.0.jpg',\n",
              " 'Forest_CDB_88.10321092605591_(-13.431610128155086_24.056164656493507)_14.043650031089783.jpg',\n",
              " 'Forest_ODB_86.96543574333191_(8.119332863985875_25.706190170364238)_9.620493650436401.jpg',\n",
              " 'Forest_OEB_88.50446343421936_(-12.626719633584003_142.85800165518657)_2.14731078594923.jpg',\n",
              " 'Forest_OEN_86.32500171661377_(55.788972404958756_-90.92244249298687)_0.0.jpg',\n",
              " 'Marine_Water_100.0_(71.56482609855215_179.80247535599966)_0.0.jpg',\n",
              " 'Forest_DDB_99.86181855201721_(40.35519717155808_-78.98994091097045)_32.419389486312866.jpg',\n",
              " 'Moss_and_Lichen_98.63680005073547_(70.900791440531_-75.8508679821432)_0.00027175151444680523.jpg',\n",
              " 'Forest_CDB_88.0910336971283_(-13.431610128155086_26.49095840257104)_11.579302698373795.jpg',\n",
              " 'Marshland_add_90.19835591316223_(15.262736003304312_-4.2156139653160665)_22.383342683315277.jpg',\n",
              " 'Open_Shrubland_50_100.0_(6.630285449029358_45.52661859917737)_14.135833084583282.jpg',\n",
              " 'Forest_OEB_88.48204016685486_(-12.244396648662729_142.77751260572944)_2.0343072712421417.jpg',\n",
              " 'Open_Shrubland_50_100.0_(6.670529973757908_45.52661859917737)_14.507070183753967.jpg',\n",
              " 'Marine_Water_100.0_(71.56482609855215_179.62137499472118)_0.0.jpg',\n",
              " 'Forest_DDB_99.87228512763977_(43.132069377828344_43.79610403584951)_20.820289850234985.jpg',\n",
              " 'Forest_ODB_86.95709705352783_(7.5357872554218375_27.336093421870686)_16.720548272132874.jpg',\n",
              " 'Marshland_add_90.591561794281_(-2.042409629974145_-53.7968684308953)_13.000376522541046.jpg',\n",
              " 'Forest_CEN_84.6249520778656_(35.6465877783172_-105.3501046081737)_3.3745769411325455.jpg',\n",
              " 'Forest_DDN_95.25089859962463_(60.215870125099755_115.27037995376241)_1.1884390376508236.jpg',\n",
              " 'Broadleaf_Cropland_100.0_(48.685813790368876_3.974146816944767)_60.64120531082153.jpg',\n",
              " 'Forest_CEN_84.49806571006775_(40.415563958650914_-121.44791449959551)_3.787432983517647.jpg',\n",
              " 'Open_Shrubland_50_100.0_(6.610163186665076_46.271142306655605)_21.688467264175415.jpg',\n",
              " 'Forest_CEB_84.5291256904602_(-33.272160819332484_149.94103800741215)_10.239280760288239.jpg',\n",
              " 'Continental_Water_100.0_(69.49223307503158_-131.52916794409845)_0.0.jpg',\n",
              " 'Forest_CDN_84.45671200752258_(51.905375768653236_120.62290174266019)_0.18386226147413254.jpg',\n",
              " 'Close_Shrubland_50_90.8929705619812_(-18.58290929341007_17.91887463538893)_7.021293789148331.jpg',\n",
              " 'Urban_100.0_(48.20287949362622_16.3493381709753)_93.78865957260132.jpg',\n",
              " 'Swamp_add_86.75373792648315_(25.605578858542827_-81.00216714739818)_0.0020699610104202293.jpg',\n",
              " 'Urban_100.0_(22.50675045444413_88.38703743508796)_91.50171875953674.jpg',\n",
              " 'Cereal_Cropland_100.0_(52.38831006539589_48.887036414011675)_59.91416573524475.jpg',\n",
              " 'Close_Shrubland_50_90.80992937088013_(-18.5627870310458_17.858507848296085)_7.496991008520126.jpg',\n",
              " 'Close_Shrubland_50_90.82551002502441_(-17.415818076281994_122.77598381563786)_0.02554595412220806.jpg',\n",
              " 'Urban_100.0_(15.645058988225585_32.44714806239713)_88.27154040336609.jpg',\n",
              " 'Marine_Water_100.0_(71.56482609855215_179.74210856890681)_0.0.jpg',\n",
              " 'Grassland_100.0_(41.54241065105044_-100.25917223001154)_11.644608527421951.jpg',\n",
              " 'Broadleaf_Cropland_100.0_(48.74618057746171_4.477203376051705)_64.63517546653748.jpg',\n",
              " 'Forest_DEB_100.0_(-3.8735355051233853_-77.4405267089211)_4.54382598400116.jpg',\n",
              " 'Open_Shrubland_50_100.0_(6.751019023215022_45.566863123905904)_14.341618120670319.jpg',\n",
              " 'Broadleaf_Cropland_100.0_(48.74618057746171_4.296103014773223)_56.256407499313354.jpg',\n",
              " 'Forest_OEN_86.17287278175354_(55.50726073185887_-87.07909038140991)_0.0010490224667591974.jpg',\n",
              " 'Forest_ODB_86.87147498130798_(-7.274197844686242_33.332527606425316)_14.047624170780182.jpg',\n",
              " 'Broadleaf_Cropland_100.0_(48.78642510219026_3.954024554580485)_63.28483819961548.jpg',\n",
              " 'Grassland_100.0_(41.46192160159333_-100.88296236330413)_12.632615864276886.jpg',\n",
              " 'Forest_DDN_95.1874852180481_(60.23599238746404_98.87073612687641)_0.5644962657243013.jpg',\n",
              " 'Moss_and_Lichen_98.63739609718323_(71.4239702620022_-71.98739360820196)_0.00017490140180598246.jpg',\n",
              " 'Forest_CDN_84.44649577140808_(51.62366409555336_120.11984518355325)_1.91720649600029.jpg',\n",
              " 'Forest_CEB_84.49302911758423_(-33.69472832898231_115.67282520104794)_9.892743825912476.jpg',\n",
              " 'Grassland_100.0_(41.54241065105044_-100.66161747729709)_11.894776672124863.jpg',\n",
              " 'Continental_Water_100.0_(69.49223307503158_-131.40843436991275)_0.0.jpg',\n",
              " 'Forest_ODB_86.88151240348816_(8.360800012357203_18.42193119449587)_18.844906985759735.jpg',\n",
              " 'Swamp_add_86.76525354385376_(26.45071387784248_-80.35825475174131)_17.095115780830383.jpg',\n",
              " 'Forest_OEN_86.27963066101074_(55.80909466732303_-90.56024177042988)_0.0035810156987281516.jpg',\n",
              " 'Open_Shrubland_50_100.0_(6.710774498486472_45.98943063355574)_14.726603031158447.jpg',\n",
              " 'Cereal_Cropland_100.0_(52.52916590194583_48.82666962691883)_58.740079402923584.jpg',\n",
              " 'Moss_and_Lichen_98.58776926994324_(71.8666600340163_-82.41072551289759)_0.0008330638593179174.jpg',\n",
              " 'Continental_Water_100.0_(69.49223307503158_-131.24745627099855)_0.0.jpg',\n",
              " 'Forest_CEB_84.34340953826904_(0.1710392300963548_30.273943727055183)_20.201560854911804.jpg',\n",
              " 'Continental_Water_100.0_(69.49223307503158_-131.4688011570056)_0.0.jpg',\n",
              " 'Cropland_sw_98.57701063156128_(16.993250566632156_94.82616139165668)_39.98279571533203.jpg',\n",
              " 'Marine_Water_100.0_(71.54470383618786_179.5006414205355)_0.0.jpg',\n",
              " 'Forest_CEB_84.45656299591064_(-34.33864072463919_115.59233615159087)_7.581090927124023.jpg',\n",
              " 'Forest_CDB_87.97787427902222_(-20.796358153480583_44.198549283135065)_11.100645363330841.jpg',\n",
              " 'Open_Shrubland_50_100.0_(6.69065223612219_45.98943063355574)_14.660888910293579.jpg',\n",
              " 'Forest_OEB_88.4020745754242_(-12.103540812112797_142.77751260572944)_1.341853104531765.jpg',\n",
              " 'Forest_ODB_86.90454363822937_(7.5357872554218375_16.188360072061073)_23.36839884519577.jpg',\n",
              " 'Continental_Water_100.0_(69.49223307503158_-131.48892341936988)_0.0.jpg',\n",
              " 'Urban_100.0_(34.781330496653275_10.755349233706227)_87.05744743347168.jpg',\n",
              " 'Snow_100.0_(77.90333874329949_23.150662850101014)_0.0.jpg',\n",
              " 'Urban_100.0_(34.781330496653275_10.795593758434762)_86.58900856971741.jpg',\n",
              " 'Swamp_add_86.76902055740356_(25.62570112090711_-80.92167809794107)_0.2526800613850355.jpg',\n",
              " 'Swamp_add_86.54137253761292_(26.108635417649765_-80.47898832592698)_21.15837037563324.jpg',\n",
              " 'Forest_CDB_88.08172941207886_(-12.727330945405384_28.885507623920034)_11.791431158781052.jpg',\n",
              " 'Forest_CEB_84.46534872055054_(-34.13741810099641_115.31062447849098)_8.0526664853096.jpg',\n",
              " 'Forest_OEB_88.47822546958923_(-13.351121078697986_143.22020237774353)_1.4690961688756943.jpg',\n",
              " 'Swamp_add_86.78163886070251_(25.58545659617856_-80.94180036030535)_0.004808713492820971.jpg',\n",
              " 'Close_Shrubland_50_90.90420007705688_(-17.33532902682488_122.75586155327358)_0.025547260884195566.jpg',\n",
              " 'Urban_100.0_(9.608380278942391_-13.612710489433567)_93.06427836418152.jpg',\n",
              " 'Snow_100.0_(77.8832164809352_14.276745147454733)_0.08142719161696732.jpg',\n",
              " 'Grassland_100.0_(41.6631442252361_-101.0036959374898)_11.521109938621521.jpg',\n",
              " 'Forest_DDB_99.8644769191742_(43.031458066006955_44.90282846588477)_27.23284661769867.jpg',\n",
              " 'Forest_OEB_88.46061825752258_(-12.244396648662729_142.79763486809372)_2.0560307428240776.jpg',\n",
              " 'Swamp_add_86.65209412574768_(25.9879018434641_-80.55947737538408)_17.733290791511536.jpg',\n",
              " 'Forest_DEB_100.0_(-4.135124915858981_-77.80272743147809)_7.160937786102295.jpg',\n",
              " 'Forest_ODN_78.58812212944031_(63.15372043028424_126.2571352046578)_0.8241484872996807.jpg',\n",
              " 'Forest_DEB_100.0_(-3.893657767487653_-77.03808146163556)_2.227647043764591.jpg',\n",
              " 'Broadleaf_Cropland_100.0_(48.78642510219026_4.336347539501759)_61.22473478317261.jpg',\n",
              " 'Open_Shrubland_50_100.0_(6.710774498486472_46.09004194537712)_14.345784485340118.jpg',\n",
              " 'Forest_OEN_86.29045486450195_(55.990195028601526_-89.81571806295163)_0.0032409498089691624.jpg',\n",
              " 'Close_Shrubland_50_90.86694121360779_(-17.234717715003498_122.77598381563786)_0.025547525729052722.jpg',\n",
              " 'Swamp_add_86.75639629364014_(25.68606790799994_-80.94180036030535)_0.021550724341068417.jpg',\n",
              " 'Moss_and_Lichen_98.6543357372284_(67.54037362569669_-67.72147398697517)_0.0.jpg',\n",
              " 'Close_Shrubland_50_90.90583324432373_(-17.536551650467658_122.79610607800214)_0.025549839483574033.jpg',\n",
              " 'Forest_DDN_95.20173668861389_(60.53782632292819_114.586223033377)_1.95771474391222.jpg',\n",
              " 'Forest_DEB_100.0_(-4.034513604037599_-77.48077123364966)_4.685582593083382.jpg',\n",
              " 'Continental_Water_100.0_(69.4721108126673_-132.0121022408411)_0.0.jpg',\n",
              " 'Grassland_100.0_(41.44179933922905_-102.63359918899626)_11.563871055841446.jpg',\n",
              " 'Swamp_add_86.65165305137634_(26.22936899183543_-80.37837701410558)_22.389522194862366.jpg',\n",
              " 'Forest_DEB_100.0_(-4.115002653494713_-77.86309421857092)_7.039850950241089.jpg',\n",
              " 'Broadleaf_Cropland_100.0_(48.78642510219026_4.356469801866041)_59.47272181510925.jpg',\n",
              " 'Forest_CDN_84.44923758506775_(51.66390862028191_123.21867358765195)_0.17557281535118818.jpg',\n",
              " 'Close_Shrubland_50_90.82321524620056_(-17.194473190274948_122.79610607800214)_0.025548331905156374.jpg',\n",
              " 'Continental_Water_100.0_(69.49223307503158_-131.6297792559198)_0.0.jpg',\n",
              " 'Cropland_sw_98.56430292129517_(23.653719409207937_96.03349713351332)_26.964199542999268.jpg',\n",
              " 'Forest_DEB_100.0_(-4.819281836244414_-77.31979313473543)_5.670899897813797.jpg',\n",
              " 'Forest_DEN_99.75087642669678_(52.87124436213855_-118.36920835786108)_1.798948273062706.jpg',\n",
              " 'Forest_ODB_86.98484897613525_(7.676643091971769_27.356215684234968)_18.178173899650574.jpg',\n",
              " 'Cropland_sw_98.37372303009033_(10.795593758434748_105.6116940189093)_40.48858284950256.jpg',\n",
              " 'Open_Shrubland_50_100.0_(6.791263547943572_46.009552895920024)_14.437009394168854.jpg',\n",
              " 'Cereal_Cropland_100.0_(52.54928816431011_58.7670672348718)_64.82792496681213.jpg',\n",
              " 'Forest_DDB_99.88025426864624_(44.19854928313504_40.3551971715581)_18.53482872247696.jpg',\n",
              " 'Forest_CEN_84.64089632034302_(40.37531943392236_-120.98510246521714)_2.3351622745394707.jpg',\n",
              " 'Forest_OEB_88.58044743537903_(-12.224274386298461_142.77751260572944)_2.016889303922653.jpg',\n",
              " 'Cereal_Cropland_100.0_(52.448676852488724_52.62977721376723)_56.853026151657104.jpg',\n",
              " 'Marshland_add_90.61503410339355_(69.27088818902453_-135.8152098276895)_0.0.jpg',\n",
              " 'Urban_100.0_(15.645058988225585_32.467270324761415)_91.9027328491211.jpg',\n",
              " 'Forest_ODB_86.8617296218872_(9.105323719835468_20.35366838146649)_5.069206282496452.jpg',\n",
              " 'Forest_ODB_86.93089485168457_(8.280310962900089_25.847046006914184)_9.468625485897064.jpg',\n",
              " 'Forest_OEB_88.60137462615967_(-11.25840579281315_142.35494509607963)_1.4804835431277752.jpg',\n",
              " 'Marshland_add_90.30125141143799_(71.34348121254509_138.22988131140278)_0.2312537282705307.jpg',\n",
              " 'Cereal_Cropland_100.0_(52.448676852488724_48.84679188928311)_56.56160116195679.jpg',\n",
              " 'Forest_DDB_99.85899925231934_(41.94485589833599_27.859272243341906)_16.335919499397278.jpg',\n",
              " 'Forest_CDN_84.4746470451355_(52.12672065466029_121.08571377703856)_7.074245065450668.jpg',\n",
              " 'Cropland_sw_98.57277274131775_(11.016938644441808_105.00802614798101)_57.26131200790405.jpg',\n",
              " 'Forest_DDB_99.88042116165161_(44.56075000569203_39.34908405334423)_22.005803883075714.jpg',\n",
              " 'Forest_DEB_100.0_(-3.7729241933020035_-77.05820372399984)_2.290928363800049.jpg',\n",
              " 'Snow_100.0_(77.90333874329949_22.42626140498703)_0.0.jpg',\n",
              " 'Forest_DDB_99.86996054649353_(42.00522268542882_-73.4563187607942)_27.870872616767883.jpg',\n",
              " 'Forest_DEB_100.0_(-4.275980752408927_-77.90333874329947)_6.422846019268036.jpg',\n",
              " 'Snow_100.0_(77.90333874329949_22.386016880258495)_0.0.jpg',\n",
              " 'Snow_100.0_(77.8832164809352_14.357234196911861)_0.37154292222112417.jpg',\n",
              " 'Forest_DEN_99.74290728569031_(46.39187588084126_11.177916743356036)_32.8584760427475.jpg',\n",
              " 'Forest_DDB_99.87959265708923_(44.299160594956426_40.033240973729676)_18.54608505964279.jpg',\n",
              " 'Marshland_add_90.51501750946045_(71.20262537599515_138.39085941031703)_0.23125344887375832.jpg',\n",
              " 'Forest_ODB_86.92380785942078_(8.199821913442989_25.766556957457084)_9.607863426208496.jpg',\n",
              " 'Marine_Water_100.0_(71.54470383618786_179.46039689580692)_0.0.jpg',\n",
              " 'Forest_DDN_95.26593685150146_(60.53782632292819_98.02560110757679)_0.5900314077734947.jpg',\n",
              " 'Forest_CEN_84.50138568878174_(36.14964433742413_-105.45071591999508)_2.9914090409874916.jpg',\n",
              " 'Grassland_100.0_(41.522288388686164_-100.56100616547569)_11.958426237106323.jpg',\n",
              " 'Continental_Water_100.0_(69.49223307503158_-131.44867889464132)_0.0.jpg',\n",
              " 'Forest_DDN_95.22408246994019_(54.15906915345229_105.3501046081737)_3.2320354133844376.jpg',\n",
              " 'Forest_ODN_78.69399785995483_(65.38729155271902_115.77343651286935)_0.0627890694886446.jpg',\n",
              " 'Cropland_sw_98.39913249015808_(25.786679219821323_85.10710866971078)_18.763038516044617.jpg',\n",
              " 'Continental_Water_100.0_(69.49223307503158_-131.5492902064627)_0.0.jpg',\n",
              " 'Swamp_add_86.69129014015198_(25.58545659617856_-80.78082226139112)_0.0029678580176550895.jpg',\n",
              " 'Forest_CEB_84.39781069755554_(-34.78133049665328_116.13563723542632)_0.9362099692225456.jpg',\n",
              " 'Forest_OEB_88.36370706558228_(-11.2986503175417_142.41531188317248)_0.07191241602413356.jpg',\n",
              " 'Forest_ODN_78.68577837944031_(59.93415845199988_127.12239248632176)_1.21541703119874.jpg',\n",
              " 'Forest_CEB_84.62390303611755_(-33.231916294603934_116.17588176015488)_13.397686183452606.jpg',\n",
              " 'Forest_OEN_86.25617623329163_(55.185304534030436_-88.9504607812877)_0.000542663019587053.jpg',\n",
              " 'Broadleaf_Cropland_100.0_(48.74618057746171_4.336347539501759)_60.09798049926758.jpg',\n",
              " 'Cropland_sw_98.41034412384033_(10.996816382077526_105.22937103398806)_39.63504135608673.jpg',\n",
              " 'Forest_DDB_99.86519813537598_(41.562532913414714_-79.35214163352744)_7.6478056609630585.jpg',\n",
              " 'Forest_CDN_84.51476097106934_(51.7645199321033_121.00522472758144)_0.0.jpg',\n",
              " 'Forest_DDB_99.85999464988708_(38.92651654369439_-79.61373104426305)_8.545822650194168.jpg',\n",
              " 'Marine_Water_100.0_(71.54470383618786_179.54088594526405)_0.0.jpg',\n",
              " 'Marine_Water_100.0_(71.56482609855215_179.7622308312711)_0.0.jpg',\n",
              " 'Forest_DEN_99.74838495254517_(54.64200345019495_-120.54241269320303)_1.8806012347340584.jpg',\n",
              " 'Forest_ODB_86.87604665756226_(7.4754204683290055_27.275726634777868)_16.796395182609558.jpg',\n",
              " 'Forest_DDB_99.87344741821289_(43.23268068964973_40.95886504248642)_16.838334500789642.jpg',\n",
              " 'Snow_100.0_(77.90333874329949_22.34577235552993)_0.0.jpg',\n",
              " 'Forest_ODN_78.5856306552887_(62.20797409916321_112.93619751950627)_1.7298860475420952.jpg',\n",
              " 'Urban_100.0_(38.08138152439475_23.81469750812218)_81.11814856529236.jpg',\n",
              " 'Forest_OEN_86.31085157394409_(56.87557457262972_-97.94511205811965)_0.0.jpg',\n",
              " 'Snow_100.0_(77.90333874329949_23.070173800643914)_0.0.jpg',\n",
              " 'Forest_CDB_87.97765374183655_(-13.149898455055208_24.478732166143317)_13.631384074687958.jpg',\n",
              " 'Forest_CEN_84.5440685749054_(36.51184505998112_-105.3501046081737)_3.388148546218872.jpg',\n",
              " 'Grassland_100.0_(41.60277743814327_-100.17868318055443)_13.598872721195221.jpg',\n",
              " 'Forest_DDN_95.30869722366333_(60.41709274874253_108.40868848754388)_0.591442221775651.jpg',\n",
              " 'Forest_DDN_95.24063467979431_(59.49146867998577_135.13105290730408)_0.8219821378588676.jpg',\n",
              " 'Continental_Water_100.0_(69.49223307503158_-131.50904568173416)_0.0.jpg',\n",
              " 'Forest_DDB_99.87543821334839_(44.3192828573207_40.13385228555106)_21.7873752117157.jpg',\n",
              " 'Forest_DDN_95.33696174621582_(60.57807084765675_115.8740478246907)_2.303551696240902.jpg',\n",
              " 'Forest_DDB_99.8644769191742_(38.94663880605867_-79.73446461844871)_7.712787389755249.jpg',\n",
              " 'Forest_OEN_86.22794151306152_(55.84933919205159_-92.99503551650744)_0.0.jpg',\n",
              " 'Cropland_sw_98.49106073379517_(11.741340089555791_105.2897378210809)_69.69282627105713.jpg',\n",
              " 'Forest_CEB_84.42630171775818_(-32.74898199786128_149.86054895795507)_9.258420765399933.jpg',\n",
              " 'Forest_DEN_99.75419640541077_(52.307821015938785_-116.11551497306203)_4.541448131203651.jpg',\n",
              " 'Broadleaf_Cropland_100.0_(48.74618057746171_4.135124915858995)_60.706549882888794.jpg',\n",
              " 'Forest_OEB_88.37816119194031_(-11.33889484227025_142.234211521894)_1.450817845761776.jpg',\n",
              " 'Forest_CDN_84.44425463676453_(52.12672065466029_121.10583603940285)_8.40238407254219.jpg',\n",
              " 'Marine_Water_100.0_(71.54470383618786_179.40003010871413)_0.0.jpg',\n",
              " 'Forest_DEB_100.0_(-4.356469801866041_-77.94358326802804)_6.591491401195526.jpg',\n",
              " 'Urban_100.0_(34.76120823428899_10.715104708977663)_86.16212606430054.jpg',\n",
              " 'Forest_DEN_99.76084232330322_(52.85112209977427_-116.79967189344745)_4.252911359071732.jpg',\n",
              " 'Forest_ODN_78.57640981674194_(62.8317642324558_133.74261680416896)_3.2205283641815186.jpg',\n",
              " 'Cereal_Cropland_100.0_(52.509043639581556_54.90359286093056)_43.18092167377472.jpg',\n",
              " 'Swamp_add_86.64811253547668_(25.786679219821323_-80.76069999902685)_15.290053188800812.jpg',\n",
              " 'Forest_DEN_99.75636005401611_(59.35061284343583_-128.0278942927142)_0.0024975091946544126.jpg',\n",
              " 'Forest_CEN_84.51118469238281_(36.27037791160979_-105.45071591999508)_2.670743688941002.jpg',\n",
              " 'Forest_OEN_86.29364371299744_(55.88958371678014_-90.11755199841579)_0.0024045732061495073.jpg',\n",
              " 'Forest_CDB_88.02061080932617_(-17.073739616089284_37.075268406180896)_18.966780602931976.jpg',\n",
              " 'Marshland_add_90.77890515327454_(69.19039913956742_-135.6139872040467)_0.0.jpg',\n",
              " 'Forest_CDN_84.47016477584839_(51.62366409555336_123.25891811238051)_0.20030480809509754.jpg',\n",
              " 'Broadleaf_Cropland_100.0_(48.74618057746171_4.436958851323141)_58.584827184677124.jpg',\n",
              " 'Forest_OEB_88.57770562171936_(-11.962684975562851_142.69702355627237)_1.5398256480693817.jpg',\n",
              " 'Grassland_100.0_(41.64302196287183_-101.0036959374898)_11.271850764751434.jpg',\n",
              " 'Swamp_add_86.68354153633118_(25.525089809085728_-80.82106678611969)_0.0.jpg',\n",
              " 'Grassland_100.0_(41.562532913414714_-100.60125069020425)_12.060686200857162.jpg',\n",
              " 'Forest_DEB_100.0_(-4.175369440587545_-77.8832164809352)_6.48270919919014.jpg',\n",
              " 'Open_Shrubland_50_100.0_(6.65040771139364_45.506496336813086)_14.39099907875061.jpg',\n",
              " 'Open_Shrubland_50_100.0_(6.710774498486472_45.929063846462896)_14.74938690662384.jpg',\n",
              " 'Grassland_100.0_(41.582655175778996_-100.6414952149328)_11.661972850561142.jpg',\n",
              " 'Forest_CEB_84.53222513198853_(-32.930082359139774_116.23624854724773)_7.761923223733902.jpg',\n",
              " 'Moss_and_Lichen_98.62882494926453_(70.57883524270255_-74.14047568117962)_0.0037059719034004956.jpg',\n",
              " 'Marine_Water_100.0_(71.56482609855215_179.68174178181397)_0.0.jpg',\n",
              " 'Close_Shrubland_50_90.81125855445862_(-17.91887463538893_122.37353856835227)_0.03064713382627815.jpg',\n",
              " 'Forest_DEB_100.0_(-4.69854826205875_-77.360037659464)_5.729663372039795.jpg',\n",
              " 'Forest_OEB_88.32401633262634_(-11.680973302462974_132.59564784940517)_1.9749708473682404.jpg',\n",
              " 'Forest_ODN_78.6222517490387_(65.16594666671196_116.81979415581179)_0.632451893761754.jpg',\n",
              " 'Urban_100.0_(12.968798093776698_77.5411380207425)_93.92808675765991.jpg',\n",
              " 'Forest_DEB_100.0_(-3.7528019309377214_-77.21918182291405)_4.591374471783638.jpg',\n",
              " 'Forest_DEN_99.74290728569031_(59.35061284343583_-124.00344181985872)_0.014994102821219712.jpg',\n",
              " 'Grassland_100.0_(41.78387779942177_-101.10430724931118)_9.73166823387146.jpg',\n",
              " 'Moss_and_Lichen_98.6352026462555_(70.8001801287096_-75.89111250687175)_0.00028910280889249407.jpg',\n",
              " 'Marshland_add_90.77380895614624_(69.31113271375308_-135.59386494168245)_0.0.jpg',\n",
              " 'Forest_DEB_100.0_(-3.913780029851935_-77.05820372399984)_2.2026803344488144.jpg',\n",
              " 'Swamp_add_86.7674708366394_(29.54954228194118_-90.94256475535116)_13.430346548557281.jpg',\n",
              " 'Forest_DEN_99.74439740180969_(50.49681740315383_-65.68912548818317)_0.13925512321293354.jpg',\n",
              " 'Forest_OEN_86.30998730659485_(55.86946145441586_-90.05718521132296)_0.003692237805807963.jpg',\n",
              " 'Forest_OEN_86.16988062858582_(56.11092860278719_-91.70721072519369)_0.0.jpg',\n",
              " 'Forest_DEN_99.74290728569031_(54.118824628723736_-119.57654409971772)_1.6241371631622314.jpg',\n",
              " 'Close_Shrubland_50_90.8868670463562_(-16.248726859153905_126.13640163047216)_0.029544494464062154.jpg',\n",
              " 'Marine_Water_100.0_(71.56482609855215_179.78235309363538)_0.0.jpg',\n",
              " 'Forest_ODN_78.65638136863708_(61.04088288203512_134.8292189718399)_0.7506666239351034.jpg',\n",
              " 'Forest_DDN_95.24655342102051_(60.29635917455687_115.06915733011965)_1.729685440659523.jpg',\n",
              " 'Urban_100.0_(38.02101473730192_23.73420845866505)_94.20554637908936.jpg',\n",
              " 'Forest_OEB_88.33755254745483_(-12.425497009941225_143.0994688035579)_1.9410287961363792.jpg',\n",
              " 'Marshland_add_90.61260223388672_(69.6532111739458_160.2033918131936)_0.2419732976704836.jpg',\n",
              " 'Forest_CDN_84.44575071334839_(49.97363858168262_111.60812820346393)_6.2011465430259705.jpg',\n",
              " 'Grassland_100.0_(41.421677076864775_-100.76222878911847)_10.888461023569107.jpg',\n",
              " 'Forest_DDN_95.25778293609619_(60.23599238746404_96.83838762808443)_0.3020660253241658.jpg',\n",
              " 'Broadleaf_Cropland_100.0_(48.76630283982598_4.275980752408941)_68.16246509552002.jpg',\n",
              " 'Forest_CDN_84.48137640953064_(52.971855673959936_120.48204590611022)_1.9193684682250023.jpg',\n",
              " 'Forest_DEN_99.7538685798645_(54.90359286093055_-127.08214796159315)_2.2743768990039825.jpg',\n",
              " 'Cropland_sw_98.58298897743225_(17.033495091360706_94.88652817874953)_38.42771053314209.jpg',\n",
              " 'Open_Shrubland_50_100.0_(6.630285449029358_45.586985386270186)_14.258015155792236.jpg',\n",
              " 'Cropland_sw_98.51871132850647_(10.735226971341916_105.41047139526654)_40.61990678310394.jpg',\n",
              " 'Forest_DEB_100.0_(-3.8534132427591032_-77.03808146163556)_2.2260013967752457.jpg',\n",
              " 'Grassland_100.0_(41.60277743814327_-101.0036959374898)_10.77657863497734.jpg',\n",
              " 'Moss_and_Lichen_98.58258962631226_(67.78184077406802_-67.84220756116083)_0.0.jpg',\n",
              " 'Marshland_add_90.84312319755554_(71.34348121254509_138.3304926232242)_0.23125344887375832.jpg',\n",
              " 'Forest_CDN_84.4746470451355_(53.0925892481456_120.8844911533958)_1.9193684682250023.jpg',\n",
              " 'Moss_and_Lichen_98.64955544471741_(70.7196910792525_-75.71001214559325)_1.7917770600561767e-07.jpg',\n",
              " 'Moss_and_Lichen_98.55369329452515_(70.57883524270255_-74.12035341881536)_0.0031788760679773986.jpg',\n",
              " 'Moss_and_Lichen_98.64217638969421_(71.18250311363087_-77.0783259863641)_0.0.jpg',\n",
              " 'Cereal_Cropland_100.0_(52.62977721376722_47.659578409790754)_45.154619216918945.jpg',\n",
              " 'Forest_CDB_88.06445598602295_(-13.713321801254978_23.73420845866505)_13.614405691623688.jpg',\n",
              " 'Cereal_Cropland_100.0_(52.42855459012445_58.88780080905747)_50.38807988166809.jpg',\n",
              " 'Broadleaf_Cropland_100.0_(48.78642510219026_4.316225277137477)_67.9436445236206.jpg',\n",
              " 'Forest_ODB_86.89413070678711_(9.145568244564018_20.75611362875202)_3.7235278636217117.jpg',\n",
              " 'Forest_DDN_95.27445435523987_(60.15550333800692_98.6091467161408)_0.5782097112387419.jpg',\n",
              " 'Moss_and_Lichen_98.56491684913635_(71.32335895018082_-78.62774018841345)_0.0.jpg',\n",
              " 'Marshland_add_90.63540697097778_(69.29101045138881_-135.39264231803966)_0.0.jpg',\n",
              " 'Urban_100.0_(34.80145275901755_10.755349233706227)_83.87216329574585.jpg',\n",
              " 'Swamp_add_86.65630221366882_(25.867168269278437_-80.8009445237554)_9.193350374698639.jpg',\n",
              " 'Forest_OEN_86.1902117729187_(56.11092860278719_-91.66696620046514)_0.0.jpg',\n",
              " 'Close_Shrubland_50_90.87321758270264_(-17.8585078482961_122.39366083071656)_5.266683921217918.jpg',\n",
              " 'Broadleaf_Cropland_100.0_(40.67715336938652_22.225038781344267)_72.18177914619446.jpg',\n",
              " 'Forest_ODB_86.9215190410614_(7.3949314188718915_27.235482110049304)_15.338018536567688.jpg',\n",
              " 'Snow_100.0_(77.90333874329949_22.32565009316565)_0.0.jpg',\n",
              " 'Forest_DEN_99.74789023399353_(50.49681740315383_-65.70924775054745)_0.14071192126721144.jpg',\n",
              " 'Forest_OEN_86.23425364494324_(56.07068407805863_-90.88219796825832)_0.0.jpg',\n",
              " 'Snow_100.0_(77.90333874329949_23.13054058773676)_0.0.jpg',\n",
              " 'Swamp_add_86.78473830223083_(26.470836140206757_-80.35825475174131)_16.793186962604523.jpg',\n",
              " 'Forest_DDB_99.86148476600647_(42.528401506900025_25.162889086528764)_21.37351483106613.jpg',\n",
              " 'Forest_OEN_86.17878556251526_(55.70848335550164_-91.4456213144581)_0.0.jpg',\n",
              " 'Forest_CDN_84.47024822235107_(50.41632835369672_112.41301869803505)_7.487332075834274.jpg',\n",
              " 'Forest_DDB_99.86563920974731_(41.46192160159333_28.16110617880608)_29.531067609786987.jpg',\n",
              " 'Forest_DEN_99.74789023399353_(54.84322607383772_-104.40435827705265)_0.012202668585814536.jpg',\n",
              " 'Open_Shrubland_50_100.0_(6.610163186665076_46.190653257198505)_21.723634004592896.jpg',\n",
              " 'Open_Shrubland_50_100.0_(6.73089676085074_45.929063846462896)_14.70864862203598.jpg',\n",
              " 'Snow_100.0_(77.90333874329949_22.365894617894213)_0.0.jpg',\n",
              " 'Forest_DDN_95.32445669174194_(54.863348336202_105.10863745980237)_2.731454558670521.jpg',\n",
              " 'Marine_Water_100.0_(71.56482609855215_179.6616195194497)_0.0.jpg',\n",
              " 'Cropland_sw_98.39166402816772_(17.053617353724988_94.94689496584238)_34.56740081310272.jpg',\n",
              " 'Forest_CEN_84.58260297775269_(36.43135601052401_-105.37022687053796)_2.7319347485899925.jpg',\n",
              " 'Cropland_sw_98.49255681037903_(11.781584614284341_105.26961555871662)_59.643715620040894.jpg',\n",
              " 'Forest_OEN_86.30440831184387_(56.292028964065686_-94.24261578309263)_0.0.jpg',\n",
              " 'Forest_CDB_88.0936861038208_(-8.702878472549926_13.914544424897741)_64.03537392616272.jpg',\n",
              " 'Cropland_sw_98.4110951423645_(10.916327332620412_105.65193854363787)_61.07041835784912.jpg',\n",
              " 'Close_Shrubland_50_90.89151620864868_(-17.89875237302465_122.39366083071656)_0.02555038663558662.jpg',\n",
              " 'Forest_OEN_86.23026609420776_(56.090806340422915_-91.40537678972953)_0.0.jpg',\n",
              " 'Forest_CEB_84.42150354385376_(-32.930082359139774_116.25637080961201)_8.211836218833923.jpg',\n",
              " 'Forest_DDN_95.2459454536438_(60.215870125099755_108.08673228971543)_0.5435070022940636.jpg',\n",
              " 'Forest_CEB_84.52868461608887_(-34.841697283746115_118.28871930840398)_10.80358624458313.jpg',\n",
              " 'Continental_Water_100.0_(69.49223307503158_-131.58953473119126)_0.0.jpg',\n",
              " 'Forest_CEB_84.40113067626953_(-34.29839619991063_115.65270293868366)_7.763777673244476.jpg',\n",
              " 'Forest_CDN_84.49333310127258_(51.60354183318908_123.07781775110197)_0.1922831404954195.jpg',\n",
              " 'Moss_and_Lichen_98.56146574020386_(70.45810166851689_-106.98000785968014)_0.0008635582162241917.jpg',\n",
              " 'Forest_CEB_84.41375494003296_(-33.71485059134659_116.1557594977906)_11.102945357561111.jpg',\n",
              " 'Forest_DDN_95.2474594116211_(60.57807084765675_115.89417008705499)_2.289297990500927.jpg',\n",
              " 'Close_Shrubland_50_90.86180329322815_(-18.140219521395977_122.49427214253797)_0.03301255637779832.jpg',\n",
              " 'Marine_Water_100.0_(71.54470383618786_179.35978558398557)_0.0.jpg',\n",
              " 'Open_Shrubland_50_100.0_(6.791263547943572_45.98943063355574)_14.20120894908905.jpg',\n",
              " 'Forest_CDN_84.46144461631775_(52.166965179388846_118.34908609549683)_5.622339621186256.jpg',\n",
              " 'Cropland_sw_98.51323366165161_(17.053617353724988_95.02738401529945)_47.8454053401947.jpg',\n",
              " 'Forest_ODB_86.8262231349945_(8.743122997278476_19.75000051053817)_4.987488314509392.jpg',\n",
              " 'Forest_OEB_88.50047588348389_(-15.302980528032876_145.23242861417128)_2.1690914407372475.jpg',\n",
              " 'Open_Shrubland_50_100.0_(6.69065223612219_46.09004194537712)_14.363904297351837.jpg',\n",
              " 'Swamp_add_86.76902055740356_(25.907412794006987_-80.63996642484119)_15.429818630218506.jpg',\n",
              " 'Broadleaf_Cropland_100.0_(48.726058315097426_4.296103014773223)_50.47653317451477.jpg',\n",
              " 'Forest_CEN_84.61316227912903_(29.56966454430546_-108.34832170045101)_11.911465227603912.jpg',\n",
              " 'Forest_DDB_99.8701810836792_(44.64123905514914_39.04725011788008)_33.15248787403107.jpg',\n",
              " 'Grassland_100.0_(41.60277743814327_-100.90308462566841)_11.831163614988327.jpg',\n",
              " 'Forest_ODB_86.8410587310791_(7.757132141428883_26.994014961677976)_16.517485678195953.jpg',\n",
              " 'Marshland_add_90.22108912467957_(-2.022287367609877_-53.7968684308953)_15.090170502662659.jpg',\n",
              " 'Forest_CEN_84.6063494682312_(36.531967322345395_-105.32998234580941)_4.265106096863747.jpg',\n",
              " 'Urban_100.0_(13.793810850712063_100.58112842783999)_93.14740300178528.jpg',\n",
              " 'Forest_OEB_88.37491869926453_(-11.278528055177418_142.2744560466225)_1.604851521551609.jpg',\n",
              " 'Broadleaf_Cropland_100.0_(48.726058315097426_3.7729241933020035)_66.91981554031372.jpg',\n",
              " 'Cropland_sw_98.48483204841614_(25.223255873621568_85.91199916428184)_74.42739009857178.jpg',\n",
              " 'Forest_DDB_99.87128376960754_(41.54241065105044_28.100739391713233)_26.244625449180603.jpg',\n",
              " 'Swamp_add_86.56293153762817_(25.484845284357164_-80.74057773666257)_0.0.jpg',\n",
              " 'Moss_and_Lichen_98.65712523460388_(70.84042465343816_-75.34781142303626)_0.00035167845453543123.jpg',\n",
              " 'Marine_Water_100.0_(71.54470383618786_179.42015237107836)_0.0.jpg',\n",
              " 'Marine_Water_100.0_(71.54470383618786_179.4805191581712)_0.0.jpg',\n",
              " 'Snow_100.0_(77.90333874329949_23.090296063008196)_0.0.jpg',\n",
              " 'Forest_ODN_78.65148186683655_(59.853669402542764_127.46447094651444)_1.2255562469363213.jpg',\n",
              " 'Forest_ODN_78.62797975540161_(61.04088288203512_134.8493412342042)_0.7421310059726238.jpg',\n",
              " 'Close_Shrubland_50_90.78353643417358_(-17.878630110660367_122.43390535544512)_0.38796383887529373.jpg',\n",
              " 'Marine_Water_100.0_(71.54470383618786_179.37990784634985)_0.0.jpg',\n",
              " 'Broadleaf_Cropland_100.0_(48.726058315097426_4.356469801866041)_59.4724178314209.jpg',\n",
              " 'Forest_DEN_99.76582527160645_(45.72784122282011_-115.85392556232642)_3.3688638359308243.jpg',\n",
              " 'Marshland_add_90.60772657394409_(-2.042409629974145_-53.83711295562385)_15.607576072216034.jpg',\n",
              " 'Urban_100.0_(34.781330496653275_10.715104708977663)_83.05554986000061.jpg',\n",
              " 'Forest_CDB_87.98075318336487_(-13.451732390519368_24.800688363971773)_12.40522786974907.jpg',\n",
              " 'Cereal_Cropland_100.0_(52.40843232776017_52.16696517938885)_58.3040714263916.jpg',\n",
              " 'Forest_DDB_99.86431002616882_(44.3192828573207_39.91250739954401)_22.479327023029327.jpg',\n",
              " 'Continental_Water_100.0_(69.49223307503158_-131.42855663227704)_0.0.jpg',\n",
              " 'Forest_DDN_95.22529244422913_(60.49758179819963_112.23191833675656)_1.9105829298496246.jpg',\n",
              " 'Forest_CEN_84.53958630561829_(40.475930745743746_-121.38754771250268)_0.0.jpg',\n",
              " 'Forest_DEN_99.76034164428711_(52.87124436213855_-118.40945288258965)_1.7387565225362778.jpg',\n",
              " 'Forest_ODN_78.5959243774414_(62.95249780664146_126.92116986267894)_1.2219864875078201.jpg',\n",
              " 'Forest_OEN_86.29198670387268_(56.85545231026545_-98.00547884521248)_0.0.jpg',\n",
              " 'Close_Shrubland_50_90.90637564659119_(-17.63716296228904_122.59488345435932)_0.02555806131567806.jpg',\n",
              " 'Forest_CEB_84.49738621711731_(-34.72096370956045_116.35698212143336)_1.3022643513977528.jpg',\n",
              " 'Forest_ODN_78.6120355129242_(65.68912548818318_116.51796022034762)_0.05743915098719299.jpg',\n",
              " 'Cereal_Cropland_100.0_(52.468799114853_52.20720970411742)_42.531561851501465.jpg',\n",
              " 'Marshland_add_90.83116054534912_(69.19039913956742_-135.93594340187516)_0.0.jpg',\n",
              " 'Forest_CDB_88.06977272033691_(-13.431610128155086_26.00802410582841)_11.7577463388443.jpg',\n",
              " 'Forest_ODB_86.92793846130371_(7.4754204683290055_27.45682699605635)_17.38426834344864.jpg',\n",
              " 'Grassland_100.0_(41.421677076864775_-100.78235105148275)_10.924337804317474.jpg',\n",
              " 'Forest_CEB_84.54588055610657_(-34.157540363360695_115.41123579031233)_8.735716342926025.jpg',\n",
              " 'Swamp_add_86.76835298538208_(26.269613516563986_-80.4588660635627)_18.111567199230194.jpg',\n",
              " 'Forest_DDN_95.33098340034485_(54.360291777095064_105.08851519743808)_2.8637107461690903.jpg',\n",
              " 'Forest_CDN_84.50877666473389_(51.26146337299637_122.6150057167236)_2.2184008732438087.jpg',\n",
              " 'Continental_Water_100.0_(69.49223307503158_-131.64990151828408)_0.0.jpg',\n",
              " 'Urban_100.0_(12.002929500291387_8.52177811127143)_93.64173412322998.jpg',\n",
              " 'Snow_100.0_(77.8832164809352_17.375573551553458)_24.88159090280533.jpg',\n",
              " 'Forest_ODN_78.67705821990967_(65.38729155271902_116.59844926980469)_0.09324559359811246.jpg',\n",
              " 'Forest_OEB_88.51742148399353_(-11.33889484227025_142.15372247243687)_1.3388384133577347.jpg',\n",
              " 'Forest_CEN_84.61055755615234_(52.32794327830306_-101.84883095678944)_1.5102611854672432.jpg',\n",
              " 'Cereal_Cropland_100.0_(52.36818780303162_55.16518227166617)_27.968475222587585.jpg',\n",
              " 'Urban_100.0_(34.781330496653275_10.735226971341945)_85.57964563369751.jpg',\n",
              " 'Swamp_add_86.53960227966309_(25.826923744549887_-80.82106678611969)_1.1260449886322021.jpg',\n",
              " 'Forest_OEB_88.3390486240387_(-12.023051762655683_142.09335568534402)_2.072582207620144.jpg',\n",
              " 'Forest_ODN_78.62050533294678_(64.86411273124781_115.7130697257765)_1.7249414697289467.jpg',\n",
              " 'Open_Shrubland_50_100.0_(6.630285449029358_45.506496336813086)_14.04477208852768.jpg',\n",
              " 'Forest_CEN_84.51135158538818_(52.52916590194583_-101.86895321915372)_1.3421906158328056.jpg',\n",
              " 'Forest_ODN_78.61900925636292_(58.948167596150284_128.71205121309964)_1.2105880305171013.jpg',\n",
              " 'Forest_DEN_99.75104331970215_(59.59207999180716_-126.86080307558609)_0.01313472748734057.jpg',\n",
              " 'Urban_100.0_(37.960647950209086_23.65371940920795)_95.48872113227844.jpg',\n",
              " 'Continental_Water_100.0_(69.4721108126673_-131.93161319138397)_0.0.jpg',\n",
              " 'Forest_CDN_84.47614312171936_(52.0261093428389_121.04546925231)_0.0011216404345759656.jpg',\n",
              " 'Forest_CDB_87.98606991767883_(-13.55234370234075_23.794575245757898)_13.954667747020721.jpg',\n",
              " 'Forest_CEB_84.44010615348816_(-33.71485059134659_116.17588176015488)_11.196455359458923.jpg',\n",
              " 'Continental_Water_100.0_(69.4721108126673_-131.97185771611254)_0.0.jpg',\n",
              " 'Open_Shrubland_50_100.0_(6.69065223612219_45.768085747548696)_14.658543467521667.jpg',\n",
              " 'Forest_ODB_86.95539832115173_(8.280310962900089_19.347555263252616)_1.367897167801857.jpg',\n",
              " 'Forest_DDN_95.21321654319763_(60.3567259616497_115.57221388922659)_1.3143119402229786.jpg',\n",
              " 'Cropland_sw_98.38269352912903_(10.876082807891862_105.39034913290226)_44.11875307559967.jpg',\n",
              " 'Marshland_add_90.20957350730896_(69.29101045138881_-135.41276458040394)_0.0.jpg',\n",
              " 'Forest_CDN_84.44898724555969_(52.87124436213855_120.62290174266019)_1.9193684682250023.jpg',\n",
              " 'Forest_CDB_88.03655505180359_(-13.934666687262023_24.036042394129225)_14.440031349658966.jpg',\n",
              " 'Continental_Water_100.0_(69.4721108126673_-132.03222450320536)_0.0.jpg',\n",
              " 'Forest_DEB_100.0_(-4.115002653494713_-77.0783259863641)_2.270815335214138.jpg',\n",
              " 'Forest_CEN_84.53931212425232_(40.69727563175079_-2.143020941795527)_7.28270560503006.jpg',\n",
              " 'Forest_ODB_86.9350254535675_(7.3949314188718915_27.255604372413586)_16.00154936313629.jpg',\n",
              " 'Snow_100.0_(77.8832164809352_17.355451289189176)_23.601895570755005.jpg',\n",
              " 'Forest_CEB_84.36954021453857_(-34.51974108591769_115.75331425050507)_1.6077378764748573.jpg',\n",
              " 'Continental_Water_100.0_(69.49223307503158_-131.60965699355555)_0.0.jpg',\n",
              " 'Cropland_sw_98.5461175441742_(10.936449594984694_105.37022687053798)_68.17589998245239.jpg',\n",
              " 'Forest_DEB_100.0_(-4.6381814749659185_-77.23930408527833)_5.697928741574287.jpg',\n",
              " 'Forest_CDN_84.4828724861145_(51.62366409555336_123.19855132528767)_0.21449844352900982.jpg',\n",
              " 'Forest_ODN_78.66418361663818_(59.39085736816439_130.4425657764275)_1.3351653702557087.jpg',\n",
              " 'Forest_CDB_88.10431957244873_(-13.55234370234075_24.78056610160749)_11.430739611387253.jpg',\n",
              " 'Forest_CEB_84.51229333877563_(-33.895950952625086_115.61245841395515)_9.198042005300522.jpg',\n",
              " 'Cereal_Cropland_100.0_(52.448676852488724_54.90359286093056)_33.21460783481598.jpg',\n",
              " 'Cropland_sw_98.50301742553711_(24.539098953236135_88.99070530601631)_4.160112142562866.jpg',\n",
              " 'Urban_100.0_(34.781330496653275_10.775471496070509)_88.19019794464111.jpg',\n",
              " 'Forest_DEB_100.0_(-4.7186705244230325_-77.60150480783533)_5.719276517629623.jpg',\n",
              " 'Forest_DEB_100.0_(-4.618059212601636_-77.21918182291405)_5.6853219866752625.jpg',\n",
              " 'Forest_DEN_99.75984692573547_(54.682247974923506_-126.19676841756495)_2.0615220069885254.jpg',\n",
              " 'Continental_Water_100.0_(69.49223307503158_-131.56941246882698)_0.0.jpg',\n",
              " 'Forest_OEB_88.45962285995483_(-11.922440450834301_142.6769012939081)_1.6478369012475014.jpg',\n",
              " 'Broadleaf_Cropland_100.0_(48.78642510219026_4.436958851323141)_63.52334022521973.jpg',\n",
              " 'Forest_CDN_84.46319103240967_(50.31571704187533_112.27216286148507)_5.477935820817947.jpg',\n",
              " 'Cereal_Cropland_100.0_(52.750510787952884_49.06813677529016)_43.83699297904968.jpg',\n",
              " 'Swamp_add_86.63017153739929_(26.269613516563986_-80.43874380119841)_18.359869718551636.jpg',\n",
              " 'Cereal_Cropland_100.0_(52.38831006539589_54.94383738565912)_37.824565172195435.jpg',\n",
              " 'Broadleaf_Cropland_100.0_(48.685813790368876_4.235736227680377)_67.85287261009216.jpg',\n",
              " 'Forest_CDB_88.03234696388245_(-11.479750678820196_23.11041832537248)_5.283894389867783.jpg',\n",
              " 'Moss_and_Lichen_98.6601173877716_(70.15626773305273_-72.69167279095166)_0.00033960416203626664.jpg',\n",
              " 'Forest_CEN_84.59787964820862_(40.415563958650914_-121.46803676195978)_3.7999995052814484.jpg',\n",
              " 'Moss_and_Lichen_98.56166243553162_(70.57883524270255_-73.95937531990113)_0.002920586666732561.jpg',\n",
              " 'Snow_100.0_(77.90333874329949_22.446383667351313)_0.0.jpg',\n",
              " 'Forest_CEB_84.62626338005066_(-34.29839619991063_115.75331425050507)_8.668457716703415.jpg',\n",
              " 'Forest_CDN_84.45115089416504_(50.67791776443232_112.77521942059201)_8.04651603102684.jpg',\n",
              " 'Grassland_100.0_(41.562532913414714_-100.78235105148275)_12.395435571670532.jpg',\n",
              " 'Forest_CEN_84.47608947753906_(36.391111485795456_-105.45071591999508)_5.35101592540741.jpg',\n",
              " 'Cereal_Cropland_100.0_(52.58953268903866_58.867678546693185)_55.887871980667114.jpg',\n",
              " 'Continental_Water_100.0_(69.4721108126673_-131.99197997847682)_0.0.jpg',\n",
              " 'Forest_CDB_88.0994439125061_(-9.588258016578123_25.343989447807246)_12.770125269889832.jpg',\n",
              " 'Close_Shrubland_50_90.77610373497009_(-28.764774049734385_116.21612628488344)_1.7570096999406815.jpg',\n",
              " 'Forest_ODN_78.58097553253174_(61.34271681749928_129.13461872274945)_4.284201189875603.jpg',\n",
              " 'Forest_CEN_84.56715941429138_(32.88983783441121_-108.2678326509939)_7.787930965423584.jpg',\n",
              " 'Close_Shrubland_50_90.87122678756714_(-18.140219521395977_122.47414988017368)_0.044783324119634926.jpg',\n",
              " 'Forest_ODN_78.64915728569031_(66.15193752256155_119.43568826316783)_1.8136806786060333.jpg',\n",
              " 'Marshland_add_90.66065549850464_(69.85443379758857_159.68021299172239)_0.2196664921939373.jpg',\n",
              " 'Marine_Water_100.0_(71.56482609855215_179.6414972570854)_0.0.jpg',\n",
              " 'Marshland_add_90.72309732437134_(69.19039913956742_-135.59386494168245)_0.12059391010552645.jpg',\n",
              " 'Forest_OEN_86.28228306770325_(58.12315483921492_-99.11220327524774)_0.0.jpg',\n",
              " 'Cropland_sw_98.39340448379517_(11.07730543153464_104.84704804906676)_72.97549247741699.jpg',\n",
              " 'Grassland_100.0_(41.64302196287183_-100.88296236330413)_11.565102636814117.jpg',\n",
              " 'Forest_DDB_99.87543821334839_(41.50216612632188_-79.61373104426305)_10.627693682909012.jpg',\n",
              " 'Marine_Water_100.0_(71.54470383618786_179.44027463344264)_0.0.jpg',\n",
              " 'Cropland_sw_98.5241949558258_(12.666964158312538_104.82692578670253)_66.84876084327698.jpg',\n",
              " 'Forest_ODN_78.67581248283386_(64.86411273124781_115.69294746341222)_1.7159909009933472.jpg',\n",
              " 'Forest_OEN_86.2500011920929_(55.90970597914442_-89.27241697911614)_0.002801093796733767.jpg']"
            ]
          },
          "metadata": {
            "tags": []
          },
          "execution_count": 34
        }
      ]
    }
  ]
}