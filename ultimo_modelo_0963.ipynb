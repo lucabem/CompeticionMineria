{
  "nbformat": 4,
  "nbformat_minor": 0,
  "metadata": {
    "colab": {
      "name": ".ipynb",
      "provenance": [],
      "collapsed_sections": [],
      "include_colab_link": true
    },
    "kernelspec": {
      "name": "python3",
      "display_name": "Python 3"
    },
    "accelerator": "TPU"
  },
  "cells": [
    {
      "cell_type": "markdown",
      "metadata": {
        "id": "view-in-github",
        "colab_type": "text"
      },
      "source": [
        "<a href=\"https://colab.research.google.com/github/lucabem/CompeticionMineria/blob/main/ultimo_modelo_0963.ipynb\" target=\"_parent\"><img src=\"https://colab.research.google.com/assets/colab-badge.svg\" alt=\"Open In Colab\"/></a>"
      ]
    },
    {
      "cell_type": "code",
      "metadata": {
        "id": "bEFpuOSpcBoh"
      },
      "source": [
        "import numpy as np\n",
        "import os\n",
        "import PIL\n",
        "import PIL.Image\n",
        "import tensorflow as tf\n",
        "import tensorflow_datasets as tfds\n",
        "import pathlib"
      ],
      "execution_count": 1,
      "outputs": []
    },
    {
      "cell_type": "code",
      "metadata": {
        "id": "k49BdtS8wx8p"
      },
      "source": [
        "!rm -rf /root/.keras/datasets/*"
      ],
      "execution_count": 2,
      "outputs": []
    },
    {
      "cell_type": "code",
      "metadata": {
        "colab": {
          "base_uri": "https://localhost:8080/"
        },
        "id": "Wh8GCRtdcLYv",
        "outputId": "1b8513b1-ab8e-4d9a-ca3d-c18fdc8e4eeb"
      },
      "source": [
        "dataset_url = 'https://github.com/lucabem/CompeticionMineria/blob/main/data/dataset_images.zip?raw=true'\n",
        "data_dir = tf.keras.utils.get_file(origin=dataset_url, \n",
        "                                   fname='train_data', \n",
        "                                   extract=True)"
      ],
      "execution_count": 3,
      "outputs": [
        {
          "output_type": "stream",
          "text": [
            "Downloading data from https://github.com/lucabem/CompeticionMineria/blob/main/data/dataset_images.zip?raw=true\n",
            "78069760/78067648 [==============================] - 1s 0us/step\n"
          ],
          "name": "stdout"
        }
      ]
    },
    {
      "cell_type": "code",
      "metadata": {
        "colab": {
          "base_uri": "https://localhost:8080/"
        },
        "id": "5yhP8xGwe36X",
        "outputId": "e2c5e01e-5b37-4eb3-c7ae-37c35c641464"
      },
      "source": [
        "!rm -rf /root/.keras/datasets/train_data.tar.gz /root/.keras/datasets/train_data\n",
        "!ls -l /root/.keras/datasets/"
      ],
      "execution_count": 4,
      "outputs": [
        {
          "output_type": "stream",
          "text": [
            "total 24\n",
            "drwxr-xr-x 27 root root  4096 Mar 21 17:48 ImagesTrain\n",
            "drwxr-xr-x  2 root root 20480 Mar 21 17:48 Test\n"
          ],
          "name": "stdout"
        }
      ]
    },
    {
      "cell_type": "code",
      "metadata": {
        "id": "FNAYg6b94G05",
        "colab": {
          "base_uri": "https://localhost:8080/"
        },
        "outputId": "6ddd3bce-82c7-4edd-9994-0815a9fc7ef2"
      },
      "source": [
        "train_path = pathlib.Path('/root/.keras/datasets/ImagesTrain')\n",
        "image_count = len(list(train_path.glob('*/*.jpg')))\n",
        "print(image_count)"
      ],
      "execution_count": 5,
      "outputs": [
        {
          "output_type": "stream",
          "text": [
            "2500\n"
          ],
          "name": "stdout"
        }
      ]
    },
    {
      "cell_type": "code",
      "metadata": {
        "colab": {
          "base_uri": "https://localhost:8080/"
        },
        "id": "UshKAfho5Hwm",
        "outputId": "b583e6d2-4486-42de-93da-4030df4cf555"
      },
      "source": [
        "test_path = pathlib.Path('/root/.keras/datasets/Test')\n",
        "images_test = os.listdir(test_path)\n",
        "print(len(images_test))"
      ],
      "execution_count": 6,
      "outputs": [
        {
          "output_type": "stream",
          "text": [
            "500\n"
          ],
          "name": "stdout"
        }
      ]
    },
    {
      "cell_type": "code",
      "metadata": {
        "id": "SifaMI-ahKno"
      },
      "source": [
        "for direct in train_path.iterdir():\n",
        "  if direct.is_dir():\n",
        "    direct.rename(train_path / direct.name.split(sep='_100')[0])"
      ],
      "execution_count": 7,
      "outputs": []
    },
    {
      "cell_type": "code",
      "metadata": {
        "id": "6FGhnAH-goA-"
      },
      "source": [
        "batch_size = 32\n",
        "img_height = 224\n",
        "img_width  = 224"
      ],
      "execution_count": 8,
      "outputs": []
    },
    {
      "cell_type": "code",
      "metadata": {
        "id": "ekqQ_EFBcLDp",
        "colab": {
          "base_uri": "https://localhost:8080/"
        },
        "outputId": "12ae04c5-4eda-47bc-b75a-cd929282792f"
      },
      "source": [
        "!pip install tensorflow-addons"
      ],
      "execution_count": 9,
      "outputs": [
        {
          "output_type": "stream",
          "text": [
            "Collecting tensorflow-addons\n",
            "\u001b[?25l  Downloading https://files.pythonhosted.org/packages/74/e3/56d2fe76f0bb7c88ed9b2a6a557e25e83e252aec08f13de34369cd850a0b/tensorflow_addons-0.12.1-cp37-cp37m-manylinux2010_x86_64.whl (703kB)\n",
            "\r\u001b[K     |▌                               | 10kB 14.7MB/s eta 0:00:01\r\u001b[K     |█                               | 20kB 16.9MB/s eta 0:00:01\r\u001b[K     |█▍                              | 30kB 10.8MB/s eta 0:00:01\r\u001b[K     |█▉                              | 40kB 9.2MB/s eta 0:00:01\r\u001b[K     |██▎                             | 51kB 5.5MB/s eta 0:00:01\r\u001b[K     |██▉                             | 61kB 6.0MB/s eta 0:00:01\r\u001b[K     |███▎                            | 71kB 6.2MB/s eta 0:00:01\r\u001b[K     |███▊                            | 81kB 6.7MB/s eta 0:00:01\r\u001b[K     |████▏                           | 92kB 6.3MB/s eta 0:00:01\r\u001b[K     |████▋                           | 102kB 6.8MB/s eta 0:00:01\r\u001b[K     |█████▏                          | 112kB 6.8MB/s eta 0:00:01\r\u001b[K     |█████▋                          | 122kB 6.8MB/s eta 0:00:01\r\u001b[K     |██████                          | 133kB 6.8MB/s eta 0:00:01\r\u001b[K     |██████▌                         | 143kB 6.8MB/s eta 0:00:01\r\u001b[K     |███████                         | 153kB 6.8MB/s eta 0:00:01\r\u001b[K     |███████▌                        | 163kB 6.8MB/s eta 0:00:01\r\u001b[K     |████████                        | 174kB 6.8MB/s eta 0:00:01\r\u001b[K     |████████▍                       | 184kB 6.8MB/s eta 0:00:01\r\u001b[K     |████████▉                       | 194kB 6.8MB/s eta 0:00:01\r\u001b[K     |█████████▎                      | 204kB 6.8MB/s eta 0:00:01\r\u001b[K     |█████████▉                      | 215kB 6.8MB/s eta 0:00:01\r\u001b[K     |██████████▎                     | 225kB 6.8MB/s eta 0:00:01\r\u001b[K     |██████████▊                     | 235kB 6.8MB/s eta 0:00:01\r\u001b[K     |███████████▏                    | 245kB 6.8MB/s eta 0:00:01\r\u001b[K     |███████████▋                    | 256kB 6.8MB/s eta 0:00:01\r\u001b[K     |████████████▏                   | 266kB 6.8MB/s eta 0:00:01\r\u001b[K     |████████████▋                   | 276kB 6.8MB/s eta 0:00:01\r\u001b[K     |█████████████                   | 286kB 6.8MB/s eta 0:00:01\r\u001b[K     |█████████████▌                  | 296kB 6.8MB/s eta 0:00:01\r\u001b[K     |██████████████                  | 307kB 6.8MB/s eta 0:00:01\r\u001b[K     |██████████████▍                 | 317kB 6.8MB/s eta 0:00:01\r\u001b[K     |███████████████                 | 327kB 6.8MB/s eta 0:00:01\r\u001b[K     |███████████████▍                | 337kB 6.8MB/s eta 0:00:01\r\u001b[K     |███████████████▉                | 348kB 6.8MB/s eta 0:00:01\r\u001b[K     |████████████████▎               | 358kB 6.8MB/s eta 0:00:01\r\u001b[K     |████████████████▊               | 368kB 6.8MB/s eta 0:00:01\r\u001b[K     |█████████████████▎              | 378kB 6.8MB/s eta 0:00:01\r\u001b[K     |█████████████████▊              | 389kB 6.8MB/s eta 0:00:01\r\u001b[K     |██████████████████▏             | 399kB 6.8MB/s eta 0:00:01\r\u001b[K     |██████████████████▋             | 409kB 6.8MB/s eta 0:00:01\r\u001b[K     |███████████████████             | 419kB 6.8MB/s eta 0:00:01\r\u001b[K     |███████████████████▋            | 430kB 6.8MB/s eta 0:00:01\r\u001b[K     |████████████████████            | 440kB 6.8MB/s eta 0:00:01\r\u001b[K     |████████████████████▌           | 450kB 6.8MB/s eta 0:00:01\r\u001b[K     |█████████████████████           | 460kB 6.8MB/s eta 0:00:01\r\u001b[K     |█████████████████████▍          | 471kB 6.8MB/s eta 0:00:01\r\u001b[K     |██████████████████████          | 481kB 6.8MB/s eta 0:00:01\r\u001b[K     |██████████████████████▍         | 491kB 6.8MB/s eta 0:00:01\r\u001b[K     |██████████████████████▉         | 501kB 6.8MB/s eta 0:00:01\r\u001b[K     |███████████████████████▎        | 512kB 6.8MB/s eta 0:00:01\r\u001b[K     |███████████████████████▊        | 522kB 6.8MB/s eta 0:00:01\r\u001b[K     |████████████████████████▎       | 532kB 6.8MB/s eta 0:00:01\r\u001b[K     |████████████████████████▊       | 542kB 6.8MB/s eta 0:00:01\r\u001b[K     |█████████████████████████▏      | 552kB 6.8MB/s eta 0:00:01\r\u001b[K     |█████████████████████████▋      | 563kB 6.8MB/s eta 0:00:01\r\u001b[K     |██████████████████████████      | 573kB 6.8MB/s eta 0:00:01\r\u001b[K     |██████████████████████████▋     | 583kB 6.8MB/s eta 0:00:01\r\u001b[K     |███████████████████████████     | 593kB 6.8MB/s eta 0:00:01\r\u001b[K     |███████████████████████████▌    | 604kB 6.8MB/s eta 0:00:01\r\u001b[K     |████████████████████████████    | 614kB 6.8MB/s eta 0:00:01\r\u001b[K     |████████████████████████████▍   | 624kB 6.8MB/s eta 0:00:01\r\u001b[K     |████████████████████████████▉   | 634kB 6.8MB/s eta 0:00:01\r\u001b[K     |█████████████████████████████▍  | 645kB 6.8MB/s eta 0:00:01\r\u001b[K     |█████████████████████████████▉  | 655kB 6.8MB/s eta 0:00:01\r\u001b[K     |██████████████████████████████▎ | 665kB 6.8MB/s eta 0:00:01\r\u001b[K     |██████████████████████████████▊ | 675kB 6.8MB/s eta 0:00:01\r\u001b[K     |███████████████████████████████▏| 686kB 6.8MB/s eta 0:00:01\r\u001b[K     |███████████████████████████████▊| 696kB 6.8MB/s eta 0:00:01\r\u001b[K     |████████████████████████████████| 706kB 6.8MB/s \n",
            "\u001b[?25hRequirement already satisfied: typeguard>=2.7 in /usr/local/lib/python3.7/dist-packages (from tensorflow-addons) (2.7.1)\n",
            "Installing collected packages: tensorflow-addons\n",
            "Successfully installed tensorflow-addons-0.12.1\n"
          ],
          "name": "stdout"
        }
      ]
    },
    {
      "cell_type": "code",
      "metadata": {
        "id": "9z9qUelQn-Vo"
      },
      "source": [
        "from tensorflow.keras.preprocessing.image import ImageDataGenerator"
      ],
      "execution_count": 10,
      "outputs": []
    },
    {
      "cell_type": "code",
      "metadata": {
        "id": "2CUaZwHscHLV"
      },
      "source": [
        "import tensorflow_addons as tfa"
      ],
      "execution_count": 11,
      "outputs": []
    },
    {
      "cell_type": "code",
      "metadata": {
        "id": "ZFXO18bRElwL"
      },
      "source": [
        "from keras.preprocessing.image import ImageDataGenerator  \n",
        "from keras.applications import densenet  \n",
        "from keras.models import Sequential, Model, load_model  \n",
        "from keras.layers import Conv2D, MaxPooling2D  \n",
        "from keras.layers import Activation, Dropout, Flatten, Dense  \n",
        "from keras.callbacks import EarlyStopping, ReduceLROnPlateau, ModelCheckpoint, Callback  \n",
        "from keras import regularizers  \n",
        "from keras import backend as K  \n",
        "import tensorflow as tf\n",
        "keras = tf.keras"
      ],
      "execution_count": 12,
      "outputs": []
    },
    {
      "cell_type": "markdown",
      "metadata": {
        "id": "I3IvE1g4Kyb-"
      },
      "source": [
        "### Data Augmentation"
      ]
    },
    {
      "cell_type": "code",
      "metadata": {
        "id": "qI1zuyeIW7XG"
      },
      "source": [
        "batch_size  = 32\n",
        "img_height = 224\n",
        "img_width  = 224\n",
        "train_path = pathlib.Path('/root/.keras/datasets/ImagesTrain')"
      ],
      "execution_count": 13,
      "outputs": []
    },
    {
      "cell_type": "code",
      "metadata": {
        "id": "47e86f3eT-ZX"
      },
      "source": [
        "import shutil\n",
        "import os "
      ],
      "execution_count": 14,
      "outputs": []
    },
    {
      "cell_type": "code",
      "metadata": {
        "id": "BCYAgO1x7Nya"
      },
      "source": [
        "train_ds_gen = ImageDataGenerator(vertical_flip    = True,\n",
        "                                  horizontal_flip  = True,\n",
        "                                  validation_split = 0.2)"
      ],
      "execution_count": 15,
      "outputs": []
    },
    {
      "cell_type": "code",
      "metadata": {
        "id": "c0Cka5hc9TE4",
        "colab": {
          "base_uri": "https://localhost:8080/"
        },
        "outputId": "2b00da67-cc68-43a4-da72-753cd63caff4"
      },
      "source": [
        "train_data_gen = train_ds_gen.flow_from_directory(batch_size=batch_size,\n",
        "                                                  directory=train_path,\n",
        "                                                  shuffle=True,\n",
        "                                                  target_size=(img_height, img_width),\n",
        "                                                  subset='training',\n",
        "                                                  class_mode='categorical')"
      ],
      "execution_count": 16,
      "outputs": [
        {
          "output_type": "stream",
          "text": [
            "Found 2000 images belonging to 25 classes.\n"
          ],
          "name": "stdout"
        }
      ]
    },
    {
      "cell_type": "code",
      "metadata": {
        "id": "0ZVgGpkwEWqP",
        "colab": {
          "base_uri": "https://localhost:8080/"
        },
        "outputId": "e62413a5-67c0-47ba-edbb-88acc652d1e4"
      },
      "source": [
        "valid_data_gen = train_ds_gen.flow_from_directory(batch_size=batch_size,\n",
        "                                                  directory=train_path,\n",
        "                                                  shuffle=True,\n",
        "                                                  target_size=(img_height, img_width),\n",
        "                                                  subset='validation',\n",
        "                                                  class_mode='categorical')"
      ],
      "execution_count": 17,
      "outputs": [
        {
          "output_type": "stream",
          "text": [
            "Found 500 images belonging to 25 classes.\n"
          ],
          "name": "stdout"
        }
      ]
    },
    {
      "cell_type": "code",
      "metadata": {
        "id": "DpUN4q-bbnKP",
        "colab": {
          "base_uri": "https://localhost:8080/"
        },
        "outputId": "dd2fb314-1fc5-4b92-dfd1-8a87de8dc112"
      },
      "source": [
        "test_data_gen = train_ds_gen.flow_from_directory(batch_size=batch_size,\n",
        "                                                  directory=train_path,\n",
        "                                                  shuffle=True,\n",
        "                                                  target_size=(img_height, img_width),\n",
        "                                                  class_mode='categorical')"
      ],
      "execution_count": 18,
      "outputs": [
        {
          "output_type": "stream",
          "text": [
            "Found 2500 images belonging to 25 classes.\n"
          ],
          "name": "stdout"
        }
      ]
    },
    {
      "cell_type": "markdown",
      "metadata": {
        "id": "BoUQ3hoHK2tf"
      },
      "source": [
        "### Modelos"
      ]
    },
    {
      "cell_type": "markdown",
      "metadata": {
        "id": "sv40lFlcFE2z"
      },
      "source": [
        "#### Funcion para predecir"
      ]
    },
    {
      "cell_type": "code",
      "metadata": {
        "id": "oOs-NXH4lBQB"
      },
      "source": [
        "batch_size = 32\n",
        "img_height = 224\n",
        "img_width  = 224\n",
        "test_path  = pathlib.Path('/root/.keras/datasets/Test')"
      ],
      "execution_count": 19,
      "outputs": []
    },
    {
      "cell_type": "code",
      "metadata": {
        "id": "6R6hvF4Pk_Fc"
      },
      "source": [
        "# predicting images\n",
        "from keras.preprocessing import image\n",
        "import numpy as np\n",
        "import pandas as pd\n",
        "from google.colab import files\n",
        "import matplotlib.pyplot as plt\n",
        "\n",
        "def make_predictions(model_final,\n",
        "                     path_test ='/root/.keras/datasets/Test',\n",
        "                     name_file_submission = 'submission.csv'):\n",
        "\n",
        "  images_test = os.listdir(path_test)\n",
        "  samples_to_predict = []\n",
        "\n",
        "  for img in images_test:\n",
        "    path_img = os.path.join(path_test, img)\n",
        "    img = image.load_img(path_img,\n",
        "                        target_size=(img_width, img_height))\n",
        "    x = image.img_to_array(img)\n",
        "    samples_to_predict.append(x)\n",
        "\n",
        "  samples_to_predict  = np.array(samples_to_predict)\n",
        "  predictions = model_final.predict(samples_to_predict)\n",
        "  classes = np.argmax(predictions, axis = 1)\n",
        "\n",
        "  data = {'id.jpg': images_test, 'label': classes}\n",
        "  data = pd.DataFrame(data)\n",
        "  data.to_csv(name_file_submission, index = False)\n",
        "\n",
        "  return data"
      ],
      "execution_count": 20,
      "outputs": []
    },
    {
      "cell_type": "code",
      "metadata": {
        "id": "0eU7oylvES86",
        "colab": {
          "base_uri": "https://localhost:8080/"
        },
        "outputId": "17ed0c79-2910-4095-d437-947ea2dbd7d9"
      },
      "source": [
        "from google.colab import drive\n",
        "drive.mount('/content/drive')"
      ],
      "execution_count": 21,
      "outputs": [
        {
          "output_type": "stream",
          "text": [
            "Mounted at /content/drive\n"
          ],
          "name": "stdout"
        }
      ]
    },
    {
      "cell_type": "code",
      "metadata": {
        "id": "3CKFU30GEetP"
      },
      "source": [
        "from keras.models import load_model\n",
        "model_cargado = load_model('/content/drive/MyDrive/resnet50_ms_transfer_final.58-0.968.hdf5')"
      ],
      "execution_count": 22,
      "outputs": []
    },
    {
      "cell_type": "code",
      "metadata": {
        "id": "6ypm0kZDPbuo",
        "colab": {
          "base_uri": "https://localhost:8080/"
        },
        "outputId": "10fea443-52b2-4d85-9e70-a078bc688e92"
      },
      "source": [
        "for layer in model_cargado.layers:\n",
        "   layer.trainable = True\n",
        "\n",
        "\n",
        "for layer in model_cargado.get_layer('resnet50').layers[0:150]:\n",
        "   layer.trainable = False\n",
        "\n",
        "model_cargado.summary()"
      ],
      "execution_count": 23,
      "outputs": [
        {
          "output_type": "stream",
          "text": [
            "Model: \"sequential_1\"\n",
            "_________________________________________________________________\n",
            "Layer (type)                 Output Shape              Param #   \n",
            "=================================================================\n",
            "resnet50 (Functional)        (None, 7, 7, 2048)        23587712  \n",
            "_________________________________________________________________\n",
            "conv2d_2 (Conv2D)            (None, 5, 5, 1024)        18875392  \n",
            "_________________________________________________________________\n",
            "conv2d_3 (Conv2D)            (None, 3, 3, 512)         4719104   \n",
            "_________________________________________________________________\n",
            "flatten_1 (Flatten)          (None, 4608)              0         \n",
            "_________________________________________________________________\n",
            "dense_4 (Dense)              (None, 2048)              9439232   \n",
            "_________________________________________________________________\n",
            "dropout_2 (Dropout)          (None, 2048)              0         \n",
            "_________________________________________________________________\n",
            "dense_5 (Dense)              (None, 512)               1049088   \n",
            "_________________________________________________________________\n",
            "dense_6 (Dense)              (None, 1024)              525312    \n",
            "_________________________________________________________________\n",
            "dense_7 (Dense)              (None, 25)                25625     \n",
            "=================================================================\n",
            "Total params: 58,221,465\n",
            "Trainable params: 44,623,897\n",
            "Non-trainable params: 13,597,568\n",
            "_________________________________________________________________\n"
          ],
          "name": "stdout"
        }
      ]
    },
    {
      "cell_type": "code",
      "metadata": {
        "id": "o1cLk9T_EGt0"
      },
      "source": [
        "checkpointer = ModelCheckpoint(\"/content/drive/MyDrive/Modelos_2/resnet50\" +\n",
        "                               \"_ms_transfer_final.\" +\n",
        "                               \"{epoch:02d}-{val_f1_score:.3f}\" +\n",
        "                               \".hdf5\",\n",
        "                               monitor='val_f1_score',\n",
        "                               verbose=1,\n",
        "                               save_best_only=True,\n",
        "                               mode='max')\n",
        "\n",
        "earlystopper = EarlyStopping(monitor='val_f1_score',\n",
        "                             patience=10,\n",
        "                             mode='max')"
      ],
      "execution_count": 24,
      "outputs": []
    },
    {
      "cell_type": "code",
      "metadata": {
        "id": "esL09NQ5kZ6P",
        "colab": {
          "base_uri": "https://localhost:8080/",
          "height": 1000
        },
        "outputId": "59925684-5085-4ef1-b362-ff546e92454c"
      },
      "source": [
        "model_history = model_cargado.fit(  \n",
        "    train_data_gen,\n",
        "    epochs=20,\n",
        "    validation_data=valid_data_gen,\n",
        "    validation_steps= valid_data_gen.n // batch_size,\n",
        "    callbacks = [checkpointer, earlystopper])"
      ],
      "execution_count": 26,
      "outputs": [
        {
          "output_type": "stream",
          "text": [
            "Epoch 1/20\n",
            "63/63 [==============================] - 1758s 28s/step - loss: 0.1035 - accuracy: 0.9630 - f1_score: 0.9630 - val_loss: 0.3160 - val_accuracy: 0.9250 - val_f1_score: 0.9243\n",
            "\n",
            "Epoch 00001: val_f1_score improved from -inf to 0.92425, saving model to /content/drive/MyDrive/Modelos_2/resnet50_ms_transfer_final.01-0.924.hdf5\n",
            "Epoch 2/20\n",
            "63/63 [==============================] - 1743s 28s/step - loss: 0.0993 - accuracy: 0.9600 - f1_score: 0.9600 - val_loss: 0.3329 - val_accuracy: 0.9375 - val_f1_score: 0.9358\n",
            "\n",
            "Epoch 00002: val_f1_score improved from 0.92425 to 0.93580, saving model to /content/drive/MyDrive/Modelos_2/resnet50_ms_transfer_final.02-0.936.hdf5\n",
            "Epoch 3/20\n",
            "63/63 [==============================] - 1744s 28s/step - loss: 0.0743 - accuracy: 0.9785 - f1_score: 0.9785 - val_loss: 0.4839 - val_accuracy: 0.8938 - val_f1_score: 0.8951\n",
            "\n",
            "Epoch 00003: val_f1_score did not improve from 0.93580\n",
            "Epoch 4/20\n",
            "63/63 [==============================] - 1743s 28s/step - loss: 0.0752 - accuracy: 0.9775 - f1_score: 0.9775 - val_loss: 0.3862 - val_accuracy: 0.9354 - val_f1_score: 0.9353\n",
            "\n",
            "Epoch 00004: val_f1_score did not improve from 0.93580\n",
            "Epoch 5/20\n",
            "63/63 [==============================] - 1744s 28s/step - loss: 0.0725 - accuracy: 0.9755 - f1_score: 0.9755 - val_loss: 0.3024 - val_accuracy: 0.9458 - val_f1_score: 0.9456\n",
            "\n",
            "Epoch 00005: val_f1_score improved from 0.93580 to 0.94556, saving model to /content/drive/MyDrive/Modelos_2/resnet50_ms_transfer_final.05-0.946.hdf5\n",
            "Epoch 6/20\n",
            "63/63 [==============================] - 1749s 28s/step - loss: 0.0636 - accuracy: 0.9755 - f1_score: 0.9755 - val_loss: 0.3571 - val_accuracy: 0.9271 - val_f1_score: 0.9269\n",
            "\n",
            "Epoch 00006: val_f1_score did not improve from 0.94556\n",
            "Epoch 7/20\n",
            "63/63 [==============================] - 1728s 27s/step - loss: 0.0437 - accuracy: 0.9870 - f1_score: 0.9870 - val_loss: 0.3324 - val_accuracy: 0.9333 - val_f1_score: 0.9332\n",
            "\n",
            "Epoch 00007: val_f1_score did not improve from 0.94556\n",
            "Epoch 8/20\n",
            "63/63 [==============================] - 1745s 28s/step - loss: 0.0483 - accuracy: 0.9840 - f1_score: 0.9840 - val_loss: 0.3755 - val_accuracy: 0.9125 - val_f1_score: 0.9128\n",
            "\n",
            "Epoch 00008: val_f1_score did not improve from 0.94556\n",
            "Epoch 9/20\n",
            "63/63 [==============================] - 1750s 28s/step - loss: 0.0499 - accuracy: 0.9830 - f1_score: 0.9830 - val_loss: 0.3876 - val_accuracy: 0.9208 - val_f1_score: 0.9211\n",
            "\n",
            "Epoch 00009: val_f1_score did not improve from 0.94556\n",
            "Epoch 10/20\n",
            "63/63 [==============================] - 1774s 28s/step - loss: 0.0566 - accuracy: 0.9795 - f1_score: 0.9795 - val_loss: 0.3055 - val_accuracy: 0.9396 - val_f1_score: 0.9393\n",
            "\n",
            "Epoch 00010: val_f1_score did not improve from 0.94556\n",
            "Epoch 11/20\n",
            " 1/63 [..............................] - ETA: 28:06 - loss: 0.0212 - accuracy: 1.0000 - f1_score: 1.0000"
          ],
          "name": "stdout"
        },
        {
          "output_type": "error",
          "ename": "KeyboardInterrupt",
          "evalue": "ignored",
          "traceback": [
            "\u001b[0;31m---------------------------------------------------------------------------\u001b[0m",
            "\u001b[0;31mKeyboardInterrupt\u001b[0m                         Traceback (most recent call last)",
            "\u001b[0;32m<ipython-input-26-6b0d1616d467>\u001b[0m in \u001b[0;36m<module>\u001b[0;34m()\u001b[0m\n\u001b[1;32m      4\u001b[0m     \u001b[0mvalidation_data\u001b[0m\u001b[0;34m=\u001b[0m\u001b[0mvalid_data_gen\u001b[0m\u001b[0;34m,\u001b[0m\u001b[0;34m\u001b[0m\u001b[0;34m\u001b[0m\u001b[0m\n\u001b[1;32m      5\u001b[0m     \u001b[0mvalidation_steps\u001b[0m\u001b[0;34m=\u001b[0m \u001b[0mvalid_data_gen\u001b[0m\u001b[0;34m.\u001b[0m\u001b[0mn\u001b[0m \u001b[0;34m//\u001b[0m \u001b[0mbatch_size\u001b[0m\u001b[0;34m,\u001b[0m\u001b[0;34m\u001b[0m\u001b[0;34m\u001b[0m\u001b[0m\n\u001b[0;32m----> 6\u001b[0;31m     callbacks = [checkpointer, earlystopper])\n\u001b[0m",
            "\u001b[0;32m/usr/local/lib/python3.7/dist-packages/tensorflow/python/keras/engine/training.py\u001b[0m in \u001b[0;36mfit\u001b[0;34m(self, x, y, batch_size, epochs, verbose, callbacks, validation_split, validation_data, shuffle, class_weight, sample_weight, initial_epoch, steps_per_epoch, validation_steps, validation_batch_size, validation_freq, max_queue_size, workers, use_multiprocessing)\u001b[0m\n\u001b[1;32m   1098\u001b[0m                 _r=1):\n\u001b[1;32m   1099\u001b[0m               \u001b[0mcallbacks\u001b[0m\u001b[0;34m.\u001b[0m\u001b[0mon_train_batch_begin\u001b[0m\u001b[0;34m(\u001b[0m\u001b[0mstep\u001b[0m\u001b[0;34m)\u001b[0m\u001b[0;34m\u001b[0m\u001b[0;34m\u001b[0m\u001b[0m\n\u001b[0;32m-> 1100\u001b[0;31m               \u001b[0mtmp_logs\u001b[0m \u001b[0;34m=\u001b[0m \u001b[0mself\u001b[0m\u001b[0;34m.\u001b[0m\u001b[0mtrain_function\u001b[0m\u001b[0;34m(\u001b[0m\u001b[0miterator\u001b[0m\u001b[0;34m)\u001b[0m\u001b[0;34m\u001b[0m\u001b[0;34m\u001b[0m\u001b[0m\n\u001b[0m\u001b[1;32m   1101\u001b[0m               \u001b[0;32mif\u001b[0m \u001b[0mdata_handler\u001b[0m\u001b[0;34m.\u001b[0m\u001b[0mshould_sync\u001b[0m\u001b[0;34m:\u001b[0m\u001b[0;34m\u001b[0m\u001b[0;34m\u001b[0m\u001b[0m\n\u001b[1;32m   1102\u001b[0m                 \u001b[0mcontext\u001b[0m\u001b[0;34m.\u001b[0m\u001b[0masync_wait\u001b[0m\u001b[0;34m(\u001b[0m\u001b[0;34m)\u001b[0m\u001b[0;34m\u001b[0m\u001b[0;34m\u001b[0m\u001b[0m\n",
            "\u001b[0;32m/usr/local/lib/python3.7/dist-packages/tensorflow/python/eager/def_function.py\u001b[0m in \u001b[0;36m__call__\u001b[0;34m(self, *args, **kwds)\u001b[0m\n\u001b[1;32m    826\u001b[0m     \u001b[0mtracing_count\u001b[0m \u001b[0;34m=\u001b[0m \u001b[0mself\u001b[0m\u001b[0;34m.\u001b[0m\u001b[0mexperimental_get_tracing_count\u001b[0m\u001b[0;34m(\u001b[0m\u001b[0;34m)\u001b[0m\u001b[0;34m\u001b[0m\u001b[0;34m\u001b[0m\u001b[0m\n\u001b[1;32m    827\u001b[0m     \u001b[0;32mwith\u001b[0m \u001b[0mtrace\u001b[0m\u001b[0;34m.\u001b[0m\u001b[0mTrace\u001b[0m\u001b[0;34m(\u001b[0m\u001b[0mself\u001b[0m\u001b[0;34m.\u001b[0m\u001b[0m_name\u001b[0m\u001b[0;34m)\u001b[0m \u001b[0;32mas\u001b[0m \u001b[0mtm\u001b[0m\u001b[0;34m:\u001b[0m\u001b[0;34m\u001b[0m\u001b[0;34m\u001b[0m\u001b[0m\n\u001b[0;32m--> 828\u001b[0;31m       \u001b[0mresult\u001b[0m \u001b[0;34m=\u001b[0m \u001b[0mself\u001b[0m\u001b[0;34m.\u001b[0m\u001b[0m_call\u001b[0m\u001b[0;34m(\u001b[0m\u001b[0;34m*\u001b[0m\u001b[0margs\u001b[0m\u001b[0;34m,\u001b[0m \u001b[0;34m**\u001b[0m\u001b[0mkwds\u001b[0m\u001b[0;34m)\u001b[0m\u001b[0;34m\u001b[0m\u001b[0;34m\u001b[0m\u001b[0m\n\u001b[0m\u001b[1;32m    829\u001b[0m       \u001b[0mcompiler\u001b[0m \u001b[0;34m=\u001b[0m \u001b[0;34m\"xla\"\u001b[0m \u001b[0;32mif\u001b[0m \u001b[0mself\u001b[0m\u001b[0;34m.\u001b[0m\u001b[0m_experimental_compile\u001b[0m \u001b[0;32melse\u001b[0m \u001b[0;34m\"nonXla\"\u001b[0m\u001b[0;34m\u001b[0m\u001b[0;34m\u001b[0m\u001b[0m\n\u001b[1;32m    830\u001b[0m       \u001b[0mnew_tracing_count\u001b[0m \u001b[0;34m=\u001b[0m \u001b[0mself\u001b[0m\u001b[0;34m.\u001b[0m\u001b[0mexperimental_get_tracing_count\u001b[0m\u001b[0;34m(\u001b[0m\u001b[0;34m)\u001b[0m\u001b[0;34m\u001b[0m\u001b[0;34m\u001b[0m\u001b[0m\n",
            "\u001b[0;32m/usr/local/lib/python3.7/dist-packages/tensorflow/python/eager/def_function.py\u001b[0m in \u001b[0;36m_call\u001b[0;34m(self, *args, **kwds)\u001b[0m\n\u001b[1;32m    860\u001b[0m       \u001b[0;31m# In this case we have not created variables on the first call. So we can\u001b[0m\u001b[0;34m\u001b[0m\u001b[0;34m\u001b[0m\u001b[0;34m\u001b[0m\u001b[0m\n\u001b[1;32m    861\u001b[0m       \u001b[0;31m# run the first trace but we should fail if variables are created.\u001b[0m\u001b[0;34m\u001b[0m\u001b[0;34m\u001b[0m\u001b[0;34m\u001b[0m\u001b[0m\n\u001b[0;32m--> 862\u001b[0;31m       \u001b[0mresults\u001b[0m \u001b[0;34m=\u001b[0m \u001b[0mself\u001b[0m\u001b[0;34m.\u001b[0m\u001b[0m_stateful_fn\u001b[0m\u001b[0;34m(\u001b[0m\u001b[0;34m*\u001b[0m\u001b[0margs\u001b[0m\u001b[0;34m,\u001b[0m \u001b[0;34m**\u001b[0m\u001b[0mkwds\u001b[0m\u001b[0;34m)\u001b[0m\u001b[0;34m\u001b[0m\u001b[0;34m\u001b[0m\u001b[0m\n\u001b[0m\u001b[1;32m    863\u001b[0m       \u001b[0;32mif\u001b[0m \u001b[0mself\u001b[0m\u001b[0;34m.\u001b[0m\u001b[0m_created_variables\u001b[0m\u001b[0;34m:\u001b[0m\u001b[0;34m\u001b[0m\u001b[0;34m\u001b[0m\u001b[0m\n\u001b[1;32m    864\u001b[0m         raise ValueError(\"Creating variables on a non-first call to a function\"\n",
            "\u001b[0;32m/usr/local/lib/python3.7/dist-packages/tensorflow/python/eager/function.py\u001b[0m in \u001b[0;36m__call__\u001b[0;34m(self, *args, **kwargs)\u001b[0m\n\u001b[1;32m   2941\u001b[0m        filtered_flat_args) = self._maybe_define_function(args, kwargs)\n\u001b[1;32m   2942\u001b[0m     return graph_function._call_flat(\n\u001b[0;32m-> 2943\u001b[0;31m         filtered_flat_args, captured_inputs=graph_function.captured_inputs)  # pylint: disable=protected-access\n\u001b[0m\u001b[1;32m   2944\u001b[0m \u001b[0;34m\u001b[0m\u001b[0m\n\u001b[1;32m   2945\u001b[0m   \u001b[0;34m@\u001b[0m\u001b[0mproperty\u001b[0m\u001b[0;34m\u001b[0m\u001b[0;34m\u001b[0m\u001b[0m\n",
            "\u001b[0;32m/usr/local/lib/python3.7/dist-packages/tensorflow/python/eager/function.py\u001b[0m in \u001b[0;36m_call_flat\u001b[0;34m(self, args, captured_inputs, cancellation_manager)\u001b[0m\n\u001b[1;32m   1917\u001b[0m       \u001b[0;31m# No tape is watching; skip to running the function.\u001b[0m\u001b[0;34m\u001b[0m\u001b[0;34m\u001b[0m\u001b[0;34m\u001b[0m\u001b[0m\n\u001b[1;32m   1918\u001b[0m       return self._build_call_outputs(self._inference_function.call(\n\u001b[0;32m-> 1919\u001b[0;31m           ctx, args, cancellation_manager=cancellation_manager))\n\u001b[0m\u001b[1;32m   1920\u001b[0m     forward_backward = self._select_forward_and_backward_functions(\n\u001b[1;32m   1921\u001b[0m         \u001b[0margs\u001b[0m\u001b[0;34m,\u001b[0m\u001b[0;34m\u001b[0m\u001b[0;34m\u001b[0m\u001b[0m\n",
            "\u001b[0;32m/usr/local/lib/python3.7/dist-packages/tensorflow/python/eager/function.py\u001b[0m in \u001b[0;36mcall\u001b[0;34m(self, ctx, args, cancellation_manager)\u001b[0m\n\u001b[1;32m    558\u001b[0m               \u001b[0minputs\u001b[0m\u001b[0;34m=\u001b[0m\u001b[0margs\u001b[0m\u001b[0;34m,\u001b[0m\u001b[0;34m\u001b[0m\u001b[0;34m\u001b[0m\u001b[0m\n\u001b[1;32m    559\u001b[0m               \u001b[0mattrs\u001b[0m\u001b[0;34m=\u001b[0m\u001b[0mattrs\u001b[0m\u001b[0;34m,\u001b[0m\u001b[0;34m\u001b[0m\u001b[0;34m\u001b[0m\u001b[0m\n\u001b[0;32m--> 560\u001b[0;31m               ctx=ctx)\n\u001b[0m\u001b[1;32m    561\u001b[0m         \u001b[0;32melse\u001b[0m\u001b[0;34m:\u001b[0m\u001b[0;34m\u001b[0m\u001b[0;34m\u001b[0m\u001b[0m\n\u001b[1;32m    562\u001b[0m           outputs = execute.execute_with_cancellation(\n",
            "\u001b[0;32m/usr/local/lib/python3.7/dist-packages/tensorflow/python/eager/execute.py\u001b[0m in \u001b[0;36mquick_execute\u001b[0;34m(op_name, num_outputs, inputs, attrs, ctx, name)\u001b[0m\n\u001b[1;32m     58\u001b[0m     \u001b[0mctx\u001b[0m\u001b[0;34m.\u001b[0m\u001b[0mensure_initialized\u001b[0m\u001b[0;34m(\u001b[0m\u001b[0;34m)\u001b[0m\u001b[0;34m\u001b[0m\u001b[0;34m\u001b[0m\u001b[0m\n\u001b[1;32m     59\u001b[0m     tensors = pywrap_tfe.TFE_Py_Execute(ctx._handle, device_name, op_name,\n\u001b[0;32m---> 60\u001b[0;31m                                         inputs, attrs, num_outputs)\n\u001b[0m\u001b[1;32m     61\u001b[0m   \u001b[0;32mexcept\u001b[0m \u001b[0mcore\u001b[0m\u001b[0;34m.\u001b[0m\u001b[0m_NotOkStatusException\u001b[0m \u001b[0;32mas\u001b[0m \u001b[0me\u001b[0m\u001b[0;34m:\u001b[0m\u001b[0;34m\u001b[0m\u001b[0;34m\u001b[0m\u001b[0m\n\u001b[1;32m     62\u001b[0m     \u001b[0;32mif\u001b[0m \u001b[0mname\u001b[0m \u001b[0;32mis\u001b[0m \u001b[0;32mnot\u001b[0m \u001b[0;32mNone\u001b[0m\u001b[0;34m:\u001b[0m\u001b[0;34m\u001b[0m\u001b[0;34m\u001b[0m\u001b[0m\n",
            "\u001b[0;31mKeyboardInterrupt\u001b[0m: "
          ]
        }
      ]
    },
    {
      "cell_type": "code",
      "metadata": {
        "id": "r9rHpIPX9KnU"
      },
      "source": [
        "model_cargado = load_model('/content/drive/MyDrive/Modelos_2/resnet50_ms_transfer_final.05-0.946.hdf5')"
      ],
      "execution_count": 28,
      "outputs": []
    },
    {
      "cell_type": "code",
      "metadata": {
        "id": "gfX_Rbe7qqMM",
        "colab": {
          "base_uri": "https://localhost:8080/",
          "height": 399
        },
        "outputId": "f2212c2e-2d09-4c6b-d6e7-5dd20fb4421d"
      },
      "source": [
        "make_predictions(model_cargado, name_file_submission = 'resnet50_ms_transfer_final-05-0.946.csv' )"
      ],
      "execution_count": 29,
      "outputs": [
        {
          "output_type": "execute_result",
          "data": {
            "text/html": [
              "<div>\n",
              "<style scoped>\n",
              "    .dataframe tbody tr th:only-of-type {\n",
              "        vertical-align: middle;\n",
              "    }\n",
              "\n",
              "    .dataframe tbody tr th {\n",
              "        vertical-align: top;\n",
              "    }\n",
              "\n",
              "    .dataframe thead th {\n",
              "        text-align: right;\n",
              "    }\n",
              "</style>\n",
              "<table border=\"1\" class=\"dataframe\">\n",
              "  <thead>\n",
              "    <tr style=\"text-align: right;\">\n",
              "      <th></th>\n",
              "      <th>id.jpg</th>\n",
              "      <th>label</th>\n",
              "    </tr>\n",
              "  </thead>\n",
              "  <tbody>\n",
              "    <tr>\n",
              "      <th>0</th>\n",
              "      <td>Forest_CDN_11.jpg</td>\n",
              "      <td>6</td>\n",
              "    </tr>\n",
              "    <tr>\n",
              "      <th>1</th>\n",
              "      <td>Marshland__9.jpg</td>\n",
              "      <td>19</td>\n",
              "    </tr>\n",
              "    <tr>\n",
              "      <th>2</th>\n",
              "      <td>Forest_DDB_5.jpg</td>\n",
              "      <td>7</td>\n",
              "    </tr>\n",
              "    <tr>\n",
              "      <th>3</th>\n",
              "      <td>Forest_DEN_7.jpg</td>\n",
              "      <td>12</td>\n",
              "    </tr>\n",
              "    <tr>\n",
              "      <th>4</th>\n",
              "      <td>Forest_ODN_11.jpg</td>\n",
              "      <td>14</td>\n",
              "    </tr>\n",
              "    <tr>\n",
              "      <th>...</th>\n",
              "      <td>...</td>\n",
              "      <td>...</td>\n",
              "    </tr>\n",
              "    <tr>\n",
              "      <th>495</th>\n",
              "      <td>Cereal_Cro_5.jpg</td>\n",
              "      <td>1</td>\n",
              "    </tr>\n",
              "    <tr>\n",
              "      <th>496</th>\n",
              "      <td>Swamp_add__2.jpg</td>\n",
              "      <td>23</td>\n",
              "    </tr>\n",
              "    <tr>\n",
              "      <th>497</th>\n",
              "      <td>Moss_and_L_14.jpg</td>\n",
              "      <td>20</td>\n",
              "    </tr>\n",
              "    <tr>\n",
              "      <th>498</th>\n",
              "      <td>Moss_and_L_18.jpg</td>\n",
              "      <td>20</td>\n",
              "    </tr>\n",
              "    <tr>\n",
              "      <th>499</th>\n",
              "      <td>Forest_CEB_8.jpg</td>\n",
              "      <td>7</td>\n",
              "    </tr>\n",
              "  </tbody>\n",
              "</table>\n",
              "<p>500 rows × 2 columns</p>\n",
              "</div>"
            ],
            "text/plain": [
              "                id.jpg  label\n",
              "0    Forest_CDN_11.jpg      6\n",
              "1     Marshland__9.jpg     19\n",
              "2     Forest_DDB_5.jpg      7\n",
              "3     Forest_DEN_7.jpg     12\n",
              "4    Forest_ODN_11.jpg     14\n",
              "..                 ...    ...\n",
              "495   Cereal_Cro_5.jpg      1\n",
              "496   Swamp_add__2.jpg     23\n",
              "497  Moss_and_L_14.jpg     20\n",
              "498  Moss_and_L_18.jpg     20\n",
              "499   Forest_CEB_8.jpg      7\n",
              "\n",
              "[500 rows x 2 columns]"
            ]
          },
          "metadata": {
            "tags": []
          },
          "execution_count": 29
        }
      ]
    },
    {
      "cell_type": "code",
      "metadata": {
        "id": "zvQ3YEYT-Ffs"
      },
      "source": [
        "train_data_gen.labels"
      ],
      "execution_count": null,
      "outputs": []
    },
    {
      "cell_type": "code",
      "metadata": {
        "id": "ZiCknl8cqu9w",
        "colab": {
          "base_uri": "https://localhost:8080/",
          "height": 387
        },
        "outputId": "a8fbc7a1-95da-46f3-cdce-c02715aa3509"
      },
      "source": [
        "from google.colab import files\n",
        "\n",
        "files.download(\"resnet50_ms_transfer_final-05-0.946.csv\")\n",
        "\n",
        "model_cargado.save('model_fine')\n",
        "\n"
      ],
      "execution_count": 30,
      "outputs": [
        {
          "output_type": "display_data",
          "data": {
            "application/javascript": [
              "\n",
              "    async function download(id, filename, size) {\n",
              "      if (!google.colab.kernel.accessAllowed) {\n",
              "        return;\n",
              "      }\n",
              "      const div = document.createElement('div');\n",
              "      const label = document.createElement('label');\n",
              "      label.textContent = `Downloading \"${filename}\": `;\n",
              "      div.appendChild(label);\n",
              "      const progress = document.createElement('progress');\n",
              "      progress.max = size;\n",
              "      div.appendChild(progress);\n",
              "      document.body.appendChild(div);\n",
              "\n",
              "      const buffers = [];\n",
              "      let downloaded = 0;\n",
              "\n",
              "      const channel = await google.colab.kernel.comms.open(id);\n",
              "      // Send a message to notify the kernel that we're ready.\n",
              "      channel.send({})\n",
              "\n",
              "      for await (const message of channel.messages) {\n",
              "        // Send a message to notify the kernel that we're ready.\n",
              "        channel.send({})\n",
              "        if (message.buffers) {\n",
              "          for (const buffer of message.buffers) {\n",
              "            buffers.push(buffer);\n",
              "            downloaded += buffer.byteLength;\n",
              "            progress.value = downloaded;\n",
              "          }\n",
              "        }\n",
              "      }\n",
              "      const blob = new Blob(buffers, {type: 'application/binary'});\n",
              "      const a = document.createElement('a');\n",
              "      a.href = window.URL.createObjectURL(blob);\n",
              "      a.download = filename;\n",
              "      div.appendChild(a);\n",
              "      a.click();\n",
              "      div.remove();\n",
              "    }\n",
              "  "
            ],
            "text/plain": [
              "<IPython.core.display.Javascript object>"
            ]
          },
          "metadata": {
            "tags": []
          }
        },
        {
          "output_type": "display_data",
          "data": {
            "application/javascript": [
              "download(\"download_6f95e211-c242-4870-bf40-c17d973edd7c\", \"resnet50_ms_transfer_final-05-0.946.csv\", 9984)"
            ],
            "text/plain": [
              "<IPython.core.display.Javascript object>"
            ]
          },
          "metadata": {
            "tags": []
          }
        },
        {
          "output_type": "error",
          "ename": "KeyboardInterrupt",
          "evalue": "ignored",
          "traceback": [
            "\u001b[0;31m---------------------------------------------------------------------------\u001b[0m",
            "\u001b[0;31mKeyboardInterrupt\u001b[0m                         Traceback (most recent call last)",
            "\u001b[0;32m<ipython-input-30-349c606352eb>\u001b[0m in \u001b[0;36m<module>\u001b[0;34m()\u001b[0m\n\u001b[1;32m      3\u001b[0m \u001b[0mfiles\u001b[0m\u001b[0;34m.\u001b[0m\u001b[0mdownload\u001b[0m\u001b[0;34m(\u001b[0m\u001b[0;34m\"resnet50_ms_transfer_final-05-0.946.csv\"\u001b[0m\u001b[0;34m)\u001b[0m\u001b[0;34m\u001b[0m\u001b[0;34m\u001b[0m\u001b[0m\n\u001b[1;32m      4\u001b[0m \u001b[0;34m\u001b[0m\u001b[0m\n\u001b[0;32m----> 5\u001b[0;31m \u001b[0mmodel_cargado\u001b[0m\u001b[0;34m.\u001b[0m\u001b[0msave\u001b[0m\u001b[0;34m(\u001b[0m\u001b[0;34m'model_fine'\u001b[0m\u001b[0;34m)\u001b[0m\u001b[0;34m\u001b[0m\u001b[0;34m\u001b[0m\u001b[0m\n\u001b[0m\u001b[1;32m      6\u001b[0m \u001b[0;34m\u001b[0m\u001b[0m\n",
            "\u001b[0;32m/usr/local/lib/python3.7/dist-packages/tensorflow/python/keras/engine/training.py\u001b[0m in \u001b[0;36msave\u001b[0;34m(self, filepath, overwrite, include_optimizer, save_format, signatures, options, save_traces)\u001b[0m\n\u001b[1;32m   2000\u001b[0m     \u001b[0;31m# pylint: enable=line-too-long\u001b[0m\u001b[0;34m\u001b[0m\u001b[0;34m\u001b[0m\u001b[0;34m\u001b[0m\u001b[0m\n\u001b[1;32m   2001\u001b[0m     save.save_model(self, filepath, overwrite, include_optimizer, save_format,\n\u001b[0;32m-> 2002\u001b[0;31m                     signatures, options, save_traces)\n\u001b[0m\u001b[1;32m   2003\u001b[0m \u001b[0;34m\u001b[0m\u001b[0m\n\u001b[1;32m   2004\u001b[0m   def save_weights(self,\n",
            "\u001b[0;32m/usr/local/lib/python3.7/dist-packages/tensorflow/python/keras/saving/save.py\u001b[0m in \u001b[0;36msave_model\u001b[0;34m(model, filepath, overwrite, include_optimizer, save_format, signatures, options, save_traces)\u001b[0m\n\u001b[1;32m    155\u001b[0m   \u001b[0;32melse\u001b[0m\u001b[0;34m:\u001b[0m\u001b[0;34m\u001b[0m\u001b[0;34m\u001b[0m\u001b[0m\n\u001b[1;32m    156\u001b[0m     saved_model_save.save(model, filepath, overwrite, include_optimizer,\n\u001b[0;32m--> 157\u001b[0;31m                           signatures, options, save_traces)\n\u001b[0m\u001b[1;32m    158\u001b[0m \u001b[0;34m\u001b[0m\u001b[0m\n\u001b[1;32m    159\u001b[0m \u001b[0;34m\u001b[0m\u001b[0m\n",
            "\u001b[0;32m/usr/local/lib/python3.7/dist-packages/tensorflow/python/keras/saving/saved_model/save.py\u001b[0m in \u001b[0;36msave\u001b[0;34m(model, filepath, overwrite, include_optimizer, signatures, options, save_traces)\u001b[0m\n\u001b[1;32m     87\u001b[0m     \u001b[0;32mwith\u001b[0m \u001b[0mdistribution_strategy_context\u001b[0m\u001b[0;34m.\u001b[0m\u001b[0m_get_default_replica_context\u001b[0m\u001b[0;34m(\u001b[0m\u001b[0;34m)\u001b[0m\u001b[0;34m:\u001b[0m  \u001b[0;31m# pylint: disable=protected-access\u001b[0m\u001b[0;34m\u001b[0m\u001b[0;34m\u001b[0m\u001b[0m\n\u001b[1;32m     88\u001b[0m       \u001b[0;32mwith\u001b[0m \u001b[0mutils\u001b[0m\u001b[0;34m.\u001b[0m\u001b[0mkeras_option_scope\u001b[0m\u001b[0;34m(\u001b[0m\u001b[0msave_traces\u001b[0m\u001b[0;34m)\u001b[0m\u001b[0;34m:\u001b[0m\u001b[0;34m\u001b[0m\u001b[0;34m\u001b[0m\u001b[0m\n\u001b[0;32m---> 89\u001b[0;31m         \u001b[0msave_lib\u001b[0m\u001b[0;34m.\u001b[0m\u001b[0msave\u001b[0m\u001b[0;34m(\u001b[0m\u001b[0mmodel\u001b[0m\u001b[0;34m,\u001b[0m \u001b[0mfilepath\u001b[0m\u001b[0;34m,\u001b[0m \u001b[0msignatures\u001b[0m\u001b[0;34m,\u001b[0m \u001b[0moptions\u001b[0m\u001b[0;34m)\u001b[0m\u001b[0;34m\u001b[0m\u001b[0;34m\u001b[0m\u001b[0m\n\u001b[0m\u001b[1;32m     90\u001b[0m \u001b[0;34m\u001b[0m\u001b[0m\n\u001b[1;32m     91\u001b[0m   \u001b[0;32mif\u001b[0m \u001b[0;32mnot\u001b[0m \u001b[0minclude_optimizer\u001b[0m\u001b[0;34m:\u001b[0m\u001b[0;34m\u001b[0m\u001b[0;34m\u001b[0m\u001b[0m\n",
            "\u001b[0;32m/usr/local/lib/python3.7/dist-packages/tensorflow/python/saved_model/save.py\u001b[0m in \u001b[0;36msave\u001b[0;34m(obj, export_dir, signatures, options)\u001b[0m\n\u001b[1;32m   1031\u001b[0m \u001b[0;34m\u001b[0m\u001b[0m\n\u001b[1;32m   1032\u001b[0m   _, exported_graph, object_saver, asset_info = _build_meta_graph(\n\u001b[0;32m-> 1033\u001b[0;31m       obj, signatures, options, meta_graph_def)\n\u001b[0m\u001b[1;32m   1034\u001b[0m   \u001b[0msaved_model\u001b[0m\u001b[0;34m.\u001b[0m\u001b[0msaved_model_schema_version\u001b[0m \u001b[0;34m=\u001b[0m \u001b[0mconstants\u001b[0m\u001b[0;34m.\u001b[0m\u001b[0mSAVED_MODEL_SCHEMA_VERSION\u001b[0m\u001b[0;34m\u001b[0m\u001b[0;34m\u001b[0m\u001b[0m\n\u001b[1;32m   1035\u001b[0m \u001b[0;34m\u001b[0m\u001b[0m\n",
            "\u001b[0;32m/usr/local/lib/python3.7/dist-packages/tensorflow/python/saved_model/save.py\u001b[0m in \u001b[0;36m_build_meta_graph\u001b[0;34m(obj, signatures, options, meta_graph_def)\u001b[0m\n\u001b[1;32m   1196\u001b[0m \u001b[0;34m\u001b[0m\u001b[0m\n\u001b[1;32m   1197\u001b[0m   \u001b[0;32mwith\u001b[0m \u001b[0msave_context\u001b[0m\u001b[0;34m.\u001b[0m\u001b[0msave_context\u001b[0m\u001b[0;34m(\u001b[0m\u001b[0moptions\u001b[0m\u001b[0;34m)\u001b[0m\u001b[0;34m:\u001b[0m\u001b[0;34m\u001b[0m\u001b[0;34m\u001b[0m\u001b[0m\n\u001b[0;32m-> 1198\u001b[0;31m     \u001b[0;32mreturn\u001b[0m \u001b[0m_build_meta_graph_impl\u001b[0m\u001b[0;34m(\u001b[0m\u001b[0mobj\u001b[0m\u001b[0;34m,\u001b[0m \u001b[0msignatures\u001b[0m\u001b[0;34m,\u001b[0m \u001b[0moptions\u001b[0m\u001b[0;34m,\u001b[0m \u001b[0mmeta_graph_def\u001b[0m\u001b[0;34m)\u001b[0m\u001b[0;34m\u001b[0m\u001b[0;34m\u001b[0m\u001b[0m\n\u001b[0m",
            "\u001b[0;32m/usr/local/lib/python3.7/dist-packages/tensorflow/python/saved_model/save.py\u001b[0m in \u001b[0;36m_build_meta_graph_impl\u001b[0;34m(obj, signatures, options, meta_graph_def)\u001b[0m\n\u001b[1;32m   1145\u001b[0m   \u001b[0;31m# Note we run this twice since, while constructing the view the first time\u001b[0m\u001b[0;34m\u001b[0m\u001b[0;34m\u001b[0m\u001b[0;34m\u001b[0m\u001b[0m\n\u001b[1;32m   1146\u001b[0m   \u001b[0;31m# there can be side effects of creating variables.\u001b[0m\u001b[0;34m\u001b[0m\u001b[0;34m\u001b[0m\u001b[0;34m\u001b[0m\u001b[0m\n\u001b[0;32m-> 1147\u001b[0;31m   \u001b[0m_\u001b[0m \u001b[0;34m=\u001b[0m \u001b[0m_SaveableView\u001b[0m\u001b[0;34m(\u001b[0m\u001b[0mcheckpoint_graph_view\u001b[0m\u001b[0;34m,\u001b[0m \u001b[0moptions\u001b[0m\u001b[0;34m)\u001b[0m\u001b[0;34m\u001b[0m\u001b[0;34m\u001b[0m\u001b[0m\n\u001b[0m\u001b[1;32m   1148\u001b[0m   saveable_view = _SaveableView(checkpoint_graph_view, options,\n\u001b[1;32m   1149\u001b[0m                                 wrapped_functions)\n",
            "\u001b[0;32m/usr/local/lib/python3.7/dist-packages/tensorflow/python/saved_model/save.py\u001b[0m in \u001b[0;36m__init__\u001b[0;34m(self, checkpoint_view, options, wrapped_functions)\u001b[0m\n\u001b[1;32m    212\u001b[0m     \u001b[0;32mfor\u001b[0m \u001b[0mnode\u001b[0m \u001b[0;32min\u001b[0m \u001b[0mnodes_without_functions\u001b[0m\u001b[0;34m:\u001b[0m\u001b[0;34m\u001b[0m\u001b[0;34m\u001b[0m\u001b[0m\n\u001b[1;32m    213\u001b[0m       for function in checkpoint_view.list_functions(\n\u001b[0;32m--> 214\u001b[0;31m           node, saveable_object_functions).values():\n\u001b[0m\u001b[1;32m    215\u001b[0m         \u001b[0;32mif\u001b[0m \u001b[0mfunction\u001b[0m \u001b[0;32mnot\u001b[0m \u001b[0;32min\u001b[0m \u001b[0mself\u001b[0m\u001b[0;34m.\u001b[0m\u001b[0mnode_ids\u001b[0m\u001b[0;34m:\u001b[0m\u001b[0;34m\u001b[0m\u001b[0;34m\u001b[0m\u001b[0m\n\u001b[1;32m    216\u001b[0m           \u001b[0mself\u001b[0m\u001b[0;34m.\u001b[0m\u001b[0mnode_ids\u001b[0m\u001b[0;34m[\u001b[0m\u001b[0mfunction\u001b[0m\u001b[0;34m]\u001b[0m \u001b[0;34m=\u001b[0m \u001b[0mlen\u001b[0m\u001b[0;34m(\u001b[0m\u001b[0mself\u001b[0m\u001b[0;34m.\u001b[0m\u001b[0mnodes\u001b[0m\u001b[0;34m)\u001b[0m\u001b[0;34m\u001b[0m\u001b[0;34m\u001b[0m\u001b[0m\n",
            "\u001b[0;32m/usr/local/lib/python3.7/dist-packages/tensorflow/python/saved_model/save.py\u001b[0m in \u001b[0;36mlist_functions\u001b[0;34m(self, obj, extra_functions)\u001b[0m\n\u001b[1;32m    149\u001b[0m     \u001b[0;32mif\u001b[0m \u001b[0mobj_functions\u001b[0m \u001b[0;32mis\u001b[0m \u001b[0;32mNone\u001b[0m\u001b[0;34m:\u001b[0m\u001b[0;34m\u001b[0m\u001b[0;34m\u001b[0m\u001b[0m\n\u001b[1;32m    150\u001b[0m       obj_functions = obj._list_functions_for_serialization(  # pylint: disable=protected-access\n\u001b[0;32m--> 151\u001b[0;31m           self._serialization_cache)\n\u001b[0m\u001b[1;32m    152\u001b[0m       \u001b[0mself\u001b[0m\u001b[0;34m.\u001b[0m\u001b[0m_functions\u001b[0m\u001b[0;34m[\u001b[0m\u001b[0mobj\u001b[0m\u001b[0;34m]\u001b[0m \u001b[0;34m=\u001b[0m \u001b[0mobj_functions\u001b[0m\u001b[0;34m\u001b[0m\u001b[0;34m\u001b[0m\u001b[0m\n\u001b[1;32m    153\u001b[0m     \u001b[0;32mif\u001b[0m \u001b[0mextra_functions\u001b[0m\u001b[0;34m:\u001b[0m\u001b[0;34m\u001b[0m\u001b[0;34m\u001b[0m\u001b[0m\n",
            "\u001b[0;32m/usr/local/lib/python3.7/dist-packages/tensorflow/python/keras/engine/base_layer.py\u001b[0m in \u001b[0;36m_list_functions_for_serialization\u001b[0;34m(self, serialization_cache)\u001b[0m\n\u001b[1;32m   3085\u001b[0m   \u001b[0;32mdef\u001b[0m \u001b[0m_list_functions_for_serialization\u001b[0m\u001b[0;34m(\u001b[0m\u001b[0mself\u001b[0m\u001b[0;34m,\u001b[0m \u001b[0mserialization_cache\u001b[0m\u001b[0;34m)\u001b[0m\u001b[0;34m:\u001b[0m\u001b[0;34m\u001b[0m\u001b[0;34m\u001b[0m\u001b[0m\n\u001b[1;32m   3086\u001b[0m     return (self._trackable_saved_model_saver\n\u001b[0;32m-> 3087\u001b[0;31m             .list_functions_for_serialization(serialization_cache))\n\u001b[0m\u001b[1;32m   3088\u001b[0m \u001b[0;34m\u001b[0m\u001b[0m\n\u001b[1;32m   3089\u001b[0m   \u001b[0;32mdef\u001b[0m \u001b[0m__getstate__\u001b[0m\u001b[0;34m(\u001b[0m\u001b[0mself\u001b[0m\u001b[0;34m)\u001b[0m\u001b[0;34m:\u001b[0m\u001b[0;34m\u001b[0m\u001b[0;34m\u001b[0m\u001b[0m\n",
            "\u001b[0;32m/usr/local/lib/python3.7/dist-packages/tensorflow/python/keras/saving/saved_model/base_serialization.py\u001b[0m in \u001b[0;36mlist_functions_for_serialization\u001b[0;34m(self, serialization_cache)\u001b[0m\n\u001b[1;32m     99\u001b[0m     fns.update(\n\u001b[1;32m    100\u001b[0m         tracking.AutoTrackable._list_functions_for_serialization(  # pylint:disable=protected-access\n\u001b[0;32m--> 101\u001b[0;31m             self.obj, serialization_cache))\n\u001b[0m\u001b[1;32m    102\u001b[0m     \u001b[0;32mreturn\u001b[0m \u001b[0mfns\u001b[0m\u001b[0;34m\u001b[0m\u001b[0;34m\u001b[0m\u001b[0m\n\u001b[1;32m    103\u001b[0m \u001b[0;34m\u001b[0m\u001b[0m\n",
            "\u001b[0;32m/usr/local/lib/python3.7/dist-packages/tensorflow/python/training/tracking/tracking.py\u001b[0m in \u001b[0;36m_list_functions_for_serialization\u001b[0;34m(self, unused_serialization_cache)\u001b[0m\n\u001b[1;32m    108\u001b[0m       \u001b[0mlogging_verbosity\u001b[0m \u001b[0;34m=\u001b[0m \u001b[0mlogging\u001b[0m\u001b[0;34m.\u001b[0m\u001b[0mget_verbosity\u001b[0m\u001b[0;34m(\u001b[0m\u001b[0;34m)\u001b[0m\u001b[0;34m\u001b[0m\u001b[0;34m\u001b[0m\u001b[0m\n\u001b[1;32m    109\u001b[0m       \u001b[0;32mtry\u001b[0m\u001b[0;34m:\u001b[0m\u001b[0;34m\u001b[0m\u001b[0;34m\u001b[0m\u001b[0m\n\u001b[0;32m--> 110\u001b[0;31m         \u001b[0mlogging\u001b[0m\u001b[0;34m.\u001b[0m\u001b[0mset_verbosity\u001b[0m\u001b[0;34m(\u001b[0m\u001b[0mlogging\u001b[0m\u001b[0;34m.\u001b[0m\u001b[0mFATAL\u001b[0m\u001b[0;34m)\u001b[0m\u001b[0;34m\u001b[0m\u001b[0;34m\u001b[0m\u001b[0m\n\u001b[0m\u001b[1;32m    111\u001b[0m         \u001b[0;32mwith\u001b[0m \u001b[0mwarnings\u001b[0m\u001b[0;34m.\u001b[0m\u001b[0mcatch_warnings\u001b[0m\u001b[0;34m(\u001b[0m\u001b[0;34m)\u001b[0m\u001b[0;34m:\u001b[0m\u001b[0;34m\u001b[0m\u001b[0;34m\u001b[0m\u001b[0m\n\u001b[1;32m    112\u001b[0m           \u001b[0mwarnings\u001b[0m\u001b[0;34m.\u001b[0m\u001b[0msimplefilter\u001b[0m\u001b[0;34m(\u001b[0m\u001b[0;34m\"ignore\"\u001b[0m\u001b[0;34m)\u001b[0m\u001b[0;34m\u001b[0m\u001b[0;34m\u001b[0m\u001b[0m\n",
            "\u001b[0;32m/usr/local/lib/python3.7/dist-packages/absl/logging/__init__.py\u001b[0m in \u001b[0;36mset_verbosity\u001b[0;34m(v)\u001b[0m\n\u001b[1;32m    353\u001b[0m   \u001b[0;32mexcept\u001b[0m \u001b[0mValueError\u001b[0m\u001b[0;34m:\u001b[0m\u001b[0;34m\u001b[0m\u001b[0;34m\u001b[0m\u001b[0m\n\u001b[1;32m    354\u001b[0m     \u001b[0mnew_level\u001b[0m \u001b[0;34m=\u001b[0m \u001b[0mconverter\u001b[0m\u001b[0;34m.\u001b[0m\u001b[0mABSL_NAMES\u001b[0m\u001b[0;34m[\u001b[0m\u001b[0mv\u001b[0m\u001b[0;34m.\u001b[0m\u001b[0mupper\u001b[0m\u001b[0;34m(\u001b[0m\u001b[0;34m)\u001b[0m\u001b[0;34m]\u001b[0m\u001b[0;34m\u001b[0m\u001b[0;34m\u001b[0m\u001b[0m\n\u001b[0;32m--> 355\u001b[0;31m   \u001b[0mFLAGS\u001b[0m\u001b[0;34m.\u001b[0m\u001b[0mverbosity\u001b[0m \u001b[0;34m=\u001b[0m \u001b[0mnew_level\u001b[0m\u001b[0;34m\u001b[0m\u001b[0;34m\u001b[0m\u001b[0m\n\u001b[0m\u001b[1;32m    356\u001b[0m \u001b[0;34m\u001b[0m\u001b[0m\n\u001b[1;32m    357\u001b[0m \u001b[0;34m\u001b[0m\u001b[0m\n",
            "\u001b[0;32m/usr/local/lib/python3.7/dist-packages/absl/flags/_flagvalues.py\u001b[0m in \u001b[0;36m__setattr__\u001b[0;34m(self, name, value)\u001b[0m\n\u001b[1;32m    505\u001b[0m     \u001b[0;32mif\u001b[0m \u001b[0mname\u001b[0m \u001b[0;32mnot\u001b[0m \u001b[0;32min\u001b[0m \u001b[0mfl\u001b[0m\u001b[0;34m:\u001b[0m\u001b[0;34m\u001b[0m\u001b[0;34m\u001b[0m\u001b[0m\n\u001b[1;32m    506\u001b[0m       \u001b[0;32mreturn\u001b[0m \u001b[0mself\u001b[0m\u001b[0;34m.\u001b[0m\u001b[0m_set_unknown_flag\u001b[0m\u001b[0;34m(\u001b[0m\u001b[0mname\u001b[0m\u001b[0;34m,\u001b[0m \u001b[0mvalue\u001b[0m\u001b[0;34m)\u001b[0m\u001b[0;34m\u001b[0m\u001b[0;34m\u001b[0m\u001b[0m\n\u001b[0;32m--> 507\u001b[0;31m     \u001b[0mfl\u001b[0m\u001b[0;34m[\u001b[0m\u001b[0mname\u001b[0m\u001b[0;34m]\u001b[0m\u001b[0;34m.\u001b[0m\u001b[0mvalue\u001b[0m \u001b[0;34m=\u001b[0m \u001b[0mvalue\u001b[0m\u001b[0;34m\u001b[0m\u001b[0;34m\u001b[0m\u001b[0m\n\u001b[0m\u001b[1;32m    508\u001b[0m     \u001b[0mself\u001b[0m\u001b[0;34m.\u001b[0m\u001b[0m_assert_validators\u001b[0m\u001b[0;34m(\u001b[0m\u001b[0mfl\u001b[0m\u001b[0;34m[\u001b[0m\u001b[0mname\u001b[0m\u001b[0;34m]\u001b[0m\u001b[0;34m.\u001b[0m\u001b[0mvalidators\u001b[0m\u001b[0;34m)\u001b[0m\u001b[0;34m\u001b[0m\u001b[0;34m\u001b[0m\u001b[0m\n\u001b[1;32m    509\u001b[0m     \u001b[0mfl\u001b[0m\u001b[0;34m[\u001b[0m\u001b[0mname\u001b[0m\u001b[0;34m]\u001b[0m\u001b[0;34m.\u001b[0m\u001b[0musing_default_value\u001b[0m \u001b[0;34m=\u001b[0m \u001b[0;32mFalse\u001b[0m\u001b[0;34m\u001b[0m\u001b[0;34m\u001b[0m\u001b[0m\n",
            "\u001b[0;32m/usr/local/lib/python3.7/dist-packages/absl/logging/__init__.py\u001b[0m in \u001b[0;36mvalue\u001b[0;34m(self, v)\u001b[0m\n\u001b[1;32m    175\u001b[0m   \u001b[0;32mdef\u001b[0m \u001b[0mvalue\u001b[0m\u001b[0;34m(\u001b[0m\u001b[0mself\u001b[0m\u001b[0;34m,\u001b[0m \u001b[0mv\u001b[0m\u001b[0;34m)\u001b[0m\u001b[0;34m:\u001b[0m\u001b[0;34m\u001b[0m\u001b[0;34m\u001b[0m\u001b[0m\n\u001b[1;32m    176\u001b[0m     \u001b[0mself\u001b[0m\u001b[0;34m.\u001b[0m\u001b[0m_value\u001b[0m \u001b[0;34m=\u001b[0m \u001b[0mv\u001b[0m\u001b[0;34m\u001b[0m\u001b[0;34m\u001b[0m\u001b[0m\n\u001b[0;32m--> 177\u001b[0;31m     \u001b[0mself\u001b[0m\u001b[0;34m.\u001b[0m\u001b[0m_update_logging_levels\u001b[0m\u001b[0;34m(\u001b[0m\u001b[0;34m)\u001b[0m\u001b[0;34m\u001b[0m\u001b[0;34m\u001b[0m\u001b[0m\n\u001b[0m\u001b[1;32m    178\u001b[0m \u001b[0;34m\u001b[0m\u001b[0m\n\u001b[1;32m    179\u001b[0m   \u001b[0;32mdef\u001b[0m \u001b[0m_update_logging_levels\u001b[0m\u001b[0;34m(\u001b[0m\u001b[0mself\u001b[0m\u001b[0;34m)\u001b[0m\u001b[0;34m:\u001b[0m\u001b[0;34m\u001b[0m\u001b[0;34m\u001b[0m\u001b[0m\n",
            "\u001b[0;32m/usr/local/lib/python3.7/dist-packages/absl/logging/__init__.py\u001b[0m in \u001b[0;36m_update_logging_levels\u001b[0;34m(self)\u001b[0m\n\u001b[1;32m    198\u001b[0m       \u001b[0mlogging\u001b[0m\u001b[0;34m.\u001b[0m\u001b[0mroot\u001b[0m\u001b[0;34m.\u001b[0m\u001b[0msetLevel\u001b[0m\u001b[0;34m(\u001b[0m\u001b[0mstandard_verbosity\u001b[0m\u001b[0;34m)\u001b[0m\u001b[0;34m\u001b[0m\u001b[0;34m\u001b[0m\u001b[0m\n\u001b[1;32m    199\u001b[0m     \u001b[0;32melse\u001b[0m\u001b[0;34m:\u001b[0m\u001b[0;34m\u001b[0m\u001b[0;34m\u001b[0m\u001b[0m\n\u001b[0;32m--> 200\u001b[0;31m       \u001b[0m_absl_logger\u001b[0m\u001b[0;34m.\u001b[0m\u001b[0msetLevel\u001b[0m\u001b[0;34m(\u001b[0m\u001b[0mstandard_verbosity\u001b[0m\u001b[0;34m)\u001b[0m\u001b[0;34m\u001b[0m\u001b[0;34m\u001b[0m\u001b[0m\n\u001b[0m\u001b[1;32m    201\u001b[0m \u001b[0;34m\u001b[0m\u001b[0m\n\u001b[1;32m    202\u001b[0m \u001b[0;34m\u001b[0m\u001b[0m\n",
            "\u001b[0;32m/usr/lib/python3.7/logging/__init__.py\u001b[0m in \u001b[0;36msetLevel\u001b[0;34m(self, level)\u001b[0m\n\u001b[1;32m   1352\u001b[0m         \"\"\"\n\u001b[1;32m   1353\u001b[0m         \u001b[0mself\u001b[0m\u001b[0;34m.\u001b[0m\u001b[0mlevel\u001b[0m \u001b[0;34m=\u001b[0m \u001b[0m_checkLevel\u001b[0m\u001b[0;34m(\u001b[0m\u001b[0mlevel\u001b[0m\u001b[0;34m)\u001b[0m\u001b[0;34m\u001b[0m\u001b[0;34m\u001b[0m\u001b[0m\n\u001b[0;32m-> 1354\u001b[0;31m         \u001b[0mself\u001b[0m\u001b[0;34m.\u001b[0m\u001b[0mmanager\u001b[0m\u001b[0;34m.\u001b[0m\u001b[0m_clear_cache\u001b[0m\u001b[0;34m(\u001b[0m\u001b[0;34m)\u001b[0m\u001b[0;34m\u001b[0m\u001b[0;34m\u001b[0m\u001b[0m\n\u001b[0m\u001b[1;32m   1355\u001b[0m \u001b[0;34m\u001b[0m\u001b[0m\n\u001b[1;32m   1356\u001b[0m     \u001b[0;32mdef\u001b[0m \u001b[0mdebug\u001b[0m\u001b[0;34m(\u001b[0m\u001b[0mself\u001b[0m\u001b[0;34m,\u001b[0m \u001b[0mmsg\u001b[0m\u001b[0;34m,\u001b[0m \u001b[0;34m*\u001b[0m\u001b[0margs\u001b[0m\u001b[0;34m,\u001b[0m \u001b[0;34m**\u001b[0m\u001b[0mkwargs\u001b[0m\u001b[0;34m)\u001b[0m\u001b[0;34m:\u001b[0m\u001b[0;34m\u001b[0m\u001b[0;34m\u001b[0m\u001b[0m\n",
            "\u001b[0;32m/usr/lib/python3.7/logging/__init__.py\u001b[0m in \u001b[0;36m_clear_cache\u001b[0;34m(self)\u001b[0m\n\u001b[1;32m   1310\u001b[0m         \u001b[0m_acquireLock\u001b[0m\u001b[0;34m(\u001b[0m\u001b[0;34m)\u001b[0m\u001b[0;34m\u001b[0m\u001b[0;34m\u001b[0m\u001b[0m\n\u001b[1;32m   1311\u001b[0m         \u001b[0;32mfor\u001b[0m \u001b[0mlogger\u001b[0m \u001b[0;32min\u001b[0m \u001b[0mself\u001b[0m\u001b[0;34m.\u001b[0m\u001b[0mloggerDict\u001b[0m\u001b[0;34m.\u001b[0m\u001b[0mvalues\u001b[0m\u001b[0;34m(\u001b[0m\u001b[0;34m)\u001b[0m\u001b[0;34m:\u001b[0m\u001b[0;34m\u001b[0m\u001b[0;34m\u001b[0m\u001b[0m\n\u001b[0;32m-> 1312\u001b[0;31m             \u001b[0;32mif\u001b[0m \u001b[0misinstance\u001b[0m\u001b[0;34m(\u001b[0m\u001b[0mlogger\u001b[0m\u001b[0;34m,\u001b[0m \u001b[0mLogger\u001b[0m\u001b[0;34m)\u001b[0m\u001b[0;34m:\u001b[0m\u001b[0;34m\u001b[0m\u001b[0;34m\u001b[0m\u001b[0m\n\u001b[0m\u001b[1;32m   1313\u001b[0m                 \u001b[0mlogger\u001b[0m\u001b[0;34m.\u001b[0m\u001b[0m_cache\u001b[0m\u001b[0;34m.\u001b[0m\u001b[0mclear\u001b[0m\u001b[0;34m(\u001b[0m\u001b[0;34m)\u001b[0m\u001b[0;34m\u001b[0m\u001b[0;34m\u001b[0m\u001b[0m\n\u001b[1;32m   1314\u001b[0m         \u001b[0mself\u001b[0m\u001b[0;34m.\u001b[0m\u001b[0mroot\u001b[0m\u001b[0;34m.\u001b[0m\u001b[0m_cache\u001b[0m\u001b[0;34m.\u001b[0m\u001b[0mclear\u001b[0m\u001b[0;34m(\u001b[0m\u001b[0;34m)\u001b[0m\u001b[0;34m\u001b[0m\u001b[0;34m\u001b[0m\u001b[0m\n",
            "\u001b[0;31mKeyboardInterrupt\u001b[0m: "
          ]
        }
      ]
    },
    {
      "cell_type": "code",
      "metadata": {
        "id": "ka7PV4Gj4bvV",
        "colab": {
          "base_uri": "https://localhost:8080/",
          "height": 139
        },
        "outputId": "6964de78-1f69-44e9-95a9-768e034aa246"
      },
      "source": [
        "! zip -r model_fine.zip model_fine\n",
        "files.download(\"model_fine.zip\")"
      ],
      "execution_count": null,
      "outputs": [
        {
          "output_type": "stream",
          "text": [
            "updating: model_fine/ (stored 0%)\n",
            "updating: model_fine/variables/ (stored 0%)\n",
            "updating: model_fine/variables/variables.index (deflated 82%)\n",
            "updating: model_fine/variables/variables.data-00000-of-00001 (deflated 14%)\n",
            "updating: model_fine/assets/ (stored 0%)\n",
            "updating: model_fine/saved_model.pb (deflated 93%)\n"
          ],
          "name": "stdout"
        },
        {
          "output_type": "display_data",
          "data": {
            "application/javascript": [
              "\n",
              "    async function download(id, filename, size) {\n",
              "      if (!google.colab.kernel.accessAllowed) {\n",
              "        return;\n",
              "      }\n",
              "      const div = document.createElement('div');\n",
              "      const label = document.createElement('label');\n",
              "      label.textContent = `Downloading \"${filename}\": `;\n",
              "      div.appendChild(label);\n",
              "      const progress = document.createElement('progress');\n",
              "      progress.max = size;\n",
              "      div.appendChild(progress);\n",
              "      document.body.appendChild(div);\n",
              "\n",
              "      const buffers = [];\n",
              "      let downloaded = 0;\n",
              "\n",
              "      const channel = await google.colab.kernel.comms.open(id);\n",
              "      // Send a message to notify the kernel that we're ready.\n",
              "      channel.send({})\n",
              "\n",
              "      for await (const message of channel.messages) {\n",
              "        // Send a message to notify the kernel that we're ready.\n",
              "        channel.send({})\n",
              "        if (message.buffers) {\n",
              "          for (const buffer of message.buffers) {\n",
              "            buffers.push(buffer);\n",
              "            downloaded += buffer.byteLength;\n",
              "            progress.value = downloaded;\n",
              "          }\n",
              "        }\n",
              "      }\n",
              "      const blob = new Blob(buffers, {type: 'application/binary'});\n",
              "      const a = document.createElement('a');\n",
              "      a.href = window.URL.createObjectURL(blob);\n",
              "      a.download = filename;\n",
              "      div.appendChild(a);\n",
              "      a.click();\n",
              "      div.remove();\n",
              "    }\n",
              "  "
            ],
            "text/plain": [
              "<IPython.core.display.Javascript object>"
            ]
          },
          "metadata": {
            "tags": []
          }
        },
        {
          "output_type": "display_data",
          "data": {
            "application/javascript": [
              "download(\"download_74cd53aa-72f6-4b6b-865a-fc17385f8c9b\", \"model_fine.zip\", 400182462)"
            ],
            "text/plain": [
              "<IPython.core.display.Javascript object>"
            ]
          },
          "metadata": {
            "tags": []
          }
        }
      ]
    },
    {
      "cell_type": "markdown",
      "metadata": {
        "id": "cjOz2kuuKlhL"
      },
      "source": [
        "#### Modelo Base"
      ]
    },
    {
      "cell_type": "code",
      "metadata": {
        "id": "izZ9gyNwZFAM",
        "colab": {
          "base_uri": "https://localhost:8080/"
        },
        "outputId": "a4896a7e-7b57-4958-b686-0c7e309f1856"
      },
      "source": [
        "base_model = tf.keras.applications.ResNet50(input_shape = (224, 224, 3), \n",
        "                                            classes     = 25,\n",
        "                                            include_top  = False)\n",
        "\n",
        "image_batch, label_batch = next(iter(train_data_gen))\n",
        "feature_batch = base_model(image_batch)\n",
        "base_model.trainable = False\n",
        "\n",
        "\n",
        "\n",
        "global_average_layer = tf.keras.layers.GlobalAveragePooling2D()\n",
        "prediction_layer = keras.layers.Dense(25, activation='softmax')\n",
        "\n",
        "\n",
        "model = tf.keras.Sequential([\n",
        "  base_model,\n",
        "  global_average_layer,\n",
        "  prediction_layer\n",
        "])\n"
      ],
      "execution_count": null,
      "outputs": [
        {
          "output_type": "stream",
          "text": [
            "Downloading data from https://storage.googleapis.com/tensorflow/keras-applications/resnet/resnet50_weights_tf_dim_ordering_tf_kernels_notop.h5\n",
            "94773248/94765736 [==============================] - 1s 0us/step\n"
          ],
          "name": "stdout"
        }
      ]
    },
    {
      "cell_type": "code",
      "metadata": {
        "id": "PwL2ctktiRP7"
      },
      "source": [
        "opt = tf.keras.optimizers.Adagrad()\n",
        "\n",
        "callback = tf.keras.callbacks.EarlyStopping(monitor='f1_score', patience=5)\n",
        "\n",
        "model.compile(loss=\"categorical_crossentropy\",\n",
        "              optimizer=opt,\n",
        "\t            metrics=[tfa.metrics.F1Score(num_classes=25, average='weighted')],\n",
        "              )"
      ],
      "execution_count": null,
      "outputs": []
    },
    {
      "cell_type": "code",
      "metadata": {
        "id": "JeOc_JCVbyTl",
        "colab": {
          "base_uri": "https://localhost:8080/"
        },
        "outputId": "fa01b775-cc4c-466e-9030-4c5dd54959a1"
      },
      "source": [
        "tf.random.set_seed(2021)\n",
        "\n",
        "model_history = model.fit(  \n",
        "    train_data_gen,\n",
        "    epochs=39,\n",
        "    validation_data=valid_data_gen,\n",
        "    validation_steps= valid_data_gen.n // batch_size)"
      ],
      "execution_count": null,
      "outputs": [
        {
          "output_type": "stream",
          "text": [
            "Epoch 1/39\n",
            "63/63 [==============================] - 375s 6s/step - loss: 3.5592 - f1_score: 0.0479 - val_loss: 2.7924 - val_f1_score: 0.1448\n",
            "Epoch 2/39\n",
            "63/63 [==============================] - 370s 6s/step - loss: 2.6699 - f1_score: 0.1932 - val_loss: 2.3542 - val_f1_score: 0.3507\n",
            "Epoch 3/39\n",
            "63/63 [==============================] - 368s 6s/step - loss: 2.2493 - f1_score: 0.4133 - val_loss: 2.0852 - val_f1_score: 0.4473\n",
            "Epoch 4/39\n",
            "63/63 [==============================] - 368s 6s/step - loss: 2.0113 - f1_score: 0.5008 - val_loss: 1.8877 - val_f1_score: 0.5239\n",
            "Epoch 5/39\n",
            "63/63 [==============================] - 367s 6s/step - loss: 1.8279 - f1_score: 0.5581 - val_loss: 1.7658 - val_f1_score: 0.5616\n",
            "Epoch 6/39\n",
            "63/63 [==============================] - 367s 6s/step - loss: 1.6742 - f1_score: 0.6330 - val_loss: 1.6522 - val_f1_score: 0.6148\n",
            "Epoch 7/39\n",
            "63/63 [==============================] - 366s 6s/step - loss: 1.5781 - f1_score: 0.6815 - val_loss: 1.5685 - val_f1_score: 0.6581\n",
            "Epoch 8/39\n",
            "63/63 [==============================] - 366s 6s/step - loss: 1.4824 - f1_score: 0.7139 - val_loss: 1.4985 - val_f1_score: 0.6879\n",
            "Epoch 9/39\n",
            "63/63 [==============================] - 365s 6s/step - loss: 1.4206 - f1_score: 0.7316 - val_loss: 1.4235 - val_f1_score: 0.7248\n",
            "Epoch 10/39\n",
            "63/63 [==============================] - 364s 6s/step - loss: 1.3493 - f1_score: 0.7549 - val_loss: 1.3536 - val_f1_score: 0.7399\n",
            "Epoch 11/39\n",
            "63/63 [==============================] - 363s 6s/step - loss: 1.3014 - f1_score: 0.7919 - val_loss: 1.3134 - val_f1_score: 0.7232\n",
            "Epoch 12/39\n",
            "63/63 [==============================] - 364s 6s/step - loss: 1.2678 - f1_score: 0.7825 - val_loss: 1.2886 - val_f1_score: 0.7456\n",
            "Epoch 13/39\n",
            "63/63 [==============================] - 365s 6s/step - loss: 1.1906 - f1_score: 0.7990 - val_loss: 1.2239 - val_f1_score: 0.7689\n",
            "Epoch 14/39\n",
            "63/63 [==============================] - 363s 6s/step - loss: 1.1344 - f1_score: 0.8256 - val_loss: 1.1882 - val_f1_score: 0.7809\n",
            "Epoch 15/39\n",
            "63/63 [==============================] - 363s 6s/step - loss: 1.1590 - f1_score: 0.8045 - val_loss: 1.1678 - val_f1_score: 0.7840\n",
            "Epoch 16/39\n",
            "63/63 [==============================] - 364s 6s/step - loss: 1.1379 - f1_score: 0.7986 - val_loss: 1.1324 - val_f1_score: 0.7887\n",
            "Epoch 17/39\n",
            "63/63 [==============================] - 367s 6s/step - loss: 1.0537 - f1_score: 0.8084 - val_loss: 1.1194 - val_f1_score: 0.7938\n",
            "Epoch 18/39\n",
            "63/63 [==============================] - 370s 6s/step - loss: 1.0843 - f1_score: 0.8054 - val_loss: 1.0989 - val_f1_score: 0.8032\n",
            "Epoch 19/39\n",
            "63/63 [==============================] - 367s 6s/step - loss: 1.0289 - f1_score: 0.8297 - val_loss: 1.0779 - val_f1_score: 0.7884\n",
            "Epoch 20/39\n",
            "63/63 [==============================] - 371s 6s/step - loss: 1.0121 - f1_score: 0.8313 - val_loss: 1.0423 - val_f1_score: 0.8084\n",
            "Epoch 21/39\n",
            "63/63 [==============================] - 367s 6s/step - loss: 1.0204 - f1_score: 0.8248 - val_loss: 1.0251 - val_f1_score: 0.8146\n",
            "Epoch 22/39\n",
            "63/63 [==============================] - 366s 6s/step - loss: 0.9604 - f1_score: 0.8367 - val_loss: 1.0131 - val_f1_score: 0.8129\n",
            "Epoch 23/39\n",
            "63/63 [==============================] - 365s 6s/step - loss: 0.9425 - f1_score: 0.8454 - val_loss: 1.0047 - val_f1_score: 0.8084\n",
            "Epoch 24/39\n",
            "63/63 [==============================] - 366s 6s/step - loss: 0.9089 - f1_score: 0.8489 - val_loss: 0.9915 - val_f1_score: 0.8146\n",
            "Epoch 25/39\n",
            "63/63 [==============================] - 366s 6s/step - loss: 0.9246 - f1_score: 0.8349 - val_loss: 0.9690 - val_f1_score: 0.8193\n",
            "Epoch 26/39\n",
            "63/63 [==============================] - 366s 6s/step - loss: 0.8950 - f1_score: 0.8461 - val_loss: 0.9655 - val_f1_score: 0.8179\n",
            "Epoch 27/39\n",
            "63/63 [==============================] - 366s 6s/step - loss: 0.9087 - f1_score: 0.8309 - val_loss: 0.9220 - val_f1_score: 0.8331\n",
            "Epoch 28/39\n",
            "63/63 [==============================] - 365s 6s/step - loss: 0.8605 - f1_score: 0.8611 - val_loss: 0.9206 - val_f1_score: 0.8323\n",
            "Epoch 29/39\n",
            "63/63 [==============================] - 364s 6s/step - loss: 0.8542 - f1_score: 0.8627 - val_loss: 0.9285 - val_f1_score: 0.8165\n",
            "Epoch 30/39\n",
            "63/63 [==============================] - 365s 6s/step - loss: 0.8580 - f1_score: 0.8419 - val_loss: 0.9031 - val_f1_score: 0.8432\n",
            "Epoch 31/39\n",
            "63/63 [==============================] - 365s 6s/step - loss: 0.8311 - f1_score: 0.8421 - val_loss: 0.9073 - val_f1_score: 0.8244\n",
            "Epoch 32/39\n",
            "63/63 [==============================] - 365s 6s/step - loss: 0.8016 - f1_score: 0.8769 - val_loss: 0.9044 - val_f1_score: 0.8220\n",
            "Epoch 33/39\n",
            "63/63 [==============================] - 364s 6s/step - loss: 0.7844 - f1_score: 0.8653 - val_loss: 0.8783 - val_f1_score: 0.8358\n",
            "Epoch 34/39\n",
            "63/63 [==============================] - 364s 6s/step - loss: 0.8037 - f1_score: 0.8544 - val_loss: 0.8579 - val_f1_score: 0.8387\n",
            "Epoch 35/39\n",
            "63/63 [==============================] - 363s 6s/step - loss: 0.7922 - f1_score: 0.8567 - val_loss: 0.8549 - val_f1_score: 0.8417\n",
            "Epoch 36/39\n",
            "63/63 [==============================] - 364s 6s/step - loss: 0.7701 - f1_score: 0.8629 - val_loss: 0.8457 - val_f1_score: 0.8356\n",
            "Epoch 37/39\n",
            "63/63 [==============================] - 364s 6s/step - loss: 0.7477 - f1_score: 0.8705 - val_loss: 0.8442 - val_f1_score: 0.8399\n",
            "Epoch 38/39\n",
            "63/63 [==============================] - 363s 6s/step - loss: 0.7750 - f1_score: 0.8591 - val_loss: 0.8333 - val_f1_score: 0.8376\n",
            "Epoch 39/39\n",
            "63/63 [==============================] - 364s 6s/step - loss: 0.7425 - f1_score: 0.8658 - val_loss: 0.8381 - val_f1_score: 0.8397\n"
          ],
          "name": "stdout"
        }
      ]
    },
    {
      "cell_type": "code",
      "metadata": {
        "colab": {
          "base_uri": "https://localhost:8080/"
        },
        "id": "wT77h77VLq3r",
        "outputId": "f99dc9f6-3bcf-4da1-da3d-0744043bc054"
      },
      "source": [
        "model.save('model_base')"
      ],
      "execution_count": null,
      "outputs": [
        {
          "output_type": "stream",
          "text": [
            "INFO:tensorflow:Assets written to: model_base/assets\n"
          ],
          "name": "stdout"
        }
      ]
    },
    {
      "cell_type": "code",
      "metadata": {
        "colab": {
          "base_uri": "https://localhost:8080/",
          "height": 399
        },
        "id": "NEBJryw7E3k_",
        "outputId": "ac42afe7-3ab4-4b1d-b6fa-f4ce790bd095"
      },
      "source": [
        "make_predictions(model,  name_file_submission='model_base.csv')"
      ],
      "execution_count": null,
      "outputs": [
        {
          "output_type": "execute_result",
          "data": {
            "text/html": [
              "<div>\n",
              "<style scoped>\n",
              "    .dataframe tbody tr th:only-of-type {\n",
              "        vertical-align: middle;\n",
              "    }\n",
              "\n",
              "    .dataframe tbody tr th {\n",
              "        vertical-align: top;\n",
              "    }\n",
              "\n",
              "    .dataframe thead th {\n",
              "        text-align: right;\n",
              "    }\n",
              "</style>\n",
              "<table border=\"1\" class=\"dataframe\">\n",
              "  <thead>\n",
              "    <tr style=\"text-align: right;\">\n",
              "      <th></th>\n",
              "      <th>id.jpg</th>\n",
              "      <th>label</th>\n",
              "    </tr>\n",
              "  </thead>\n",
              "  <tbody>\n",
              "    <tr>\n",
              "      <th>0</th>\n",
              "      <td>Cereal_Cro_17.jpg</td>\n",
              "      <td>12</td>\n",
              "    </tr>\n",
              "    <tr>\n",
              "      <th>1</th>\n",
              "      <td>Forest_DEB_6.jpg</td>\n",
              "      <td>11</td>\n",
              "    </tr>\n",
              "    <tr>\n",
              "      <th>2</th>\n",
              "      <td>Forest_ODN_9.jpg</td>\n",
              "      <td>14</td>\n",
              "    </tr>\n",
              "    <tr>\n",
              "      <th>3</th>\n",
              "      <td>Moss_and_L_16.jpg</td>\n",
              "      <td>20</td>\n",
              "    </tr>\n",
              "    <tr>\n",
              "      <th>4</th>\n",
              "      <td>Forest_DDB_3.jpg</td>\n",
              "      <td>1</td>\n",
              "    </tr>\n",
              "    <tr>\n",
              "      <th>...</th>\n",
              "      <td>...</td>\n",
              "      <td>...</td>\n",
              "    </tr>\n",
              "    <tr>\n",
              "      <th>495</th>\n",
              "      <td>Close_Shru_11.jpg</td>\n",
              "      <td>2</td>\n",
              "    </tr>\n",
              "    <tr>\n",
              "      <th>496</th>\n",
              "      <td>Marshland__18.jpg</td>\n",
              "      <td>19</td>\n",
              "    </tr>\n",
              "    <tr>\n",
              "      <th>497</th>\n",
              "      <td>Forest_DEB_8.jpg</td>\n",
              "      <td>11</td>\n",
              "    </tr>\n",
              "    <tr>\n",
              "      <th>498</th>\n",
              "      <td>Forest_DEN_9.jpg</td>\n",
              "      <td>12</td>\n",
              "    </tr>\n",
              "    <tr>\n",
              "      <th>499</th>\n",
              "      <td>Continenta_11.jpg</td>\n",
              "      <td>3</td>\n",
              "    </tr>\n",
              "  </tbody>\n",
              "</table>\n",
              "<p>500 rows × 2 columns</p>\n",
              "</div>"
            ],
            "text/plain": [
              "                id.jpg  label\n",
              "0    Cereal_Cro_17.jpg     12\n",
              "1     Forest_DEB_6.jpg     11\n",
              "2     Forest_ODN_9.jpg     14\n",
              "3    Moss_and_L_16.jpg     20\n",
              "4     Forest_DDB_3.jpg      1\n",
              "..                 ...    ...\n",
              "495  Close_Shru_11.jpg      2\n",
              "496  Marshland__18.jpg     19\n",
              "497   Forest_DEB_8.jpg     11\n",
              "498   Forest_DEN_9.jpg     12\n",
              "499  Continenta_11.jpg      3\n",
              "\n",
              "[500 rows x 2 columns]"
            ]
          },
          "metadata": {
            "tags": []
          },
          "execution_count": 38
        }
      ]
    },
    {
      "cell_type": "code",
      "metadata": {
        "colab": {
          "base_uri": "https://localhost:8080/",
          "height": 17
        },
        "id": "yZfs31IcvKFR",
        "outputId": "fd24e059-0225-40ff-cfdb-9e561faae8d7"
      },
      "source": [
        "from google.colab import files\n",
        "files.download(\"model_base.csv\")"
      ],
      "execution_count": null,
      "outputs": [
        {
          "output_type": "display_data",
          "data": {
            "application/javascript": [
              "\n",
              "    async function download(id, filename, size) {\n",
              "      if (!google.colab.kernel.accessAllowed) {\n",
              "        return;\n",
              "      }\n",
              "      const div = document.createElement('div');\n",
              "      const label = document.createElement('label');\n",
              "      label.textContent = `Downloading \"${filename}\": `;\n",
              "      div.appendChild(label);\n",
              "      const progress = document.createElement('progress');\n",
              "      progress.max = size;\n",
              "      div.appendChild(progress);\n",
              "      document.body.appendChild(div);\n",
              "\n",
              "      const buffers = [];\n",
              "      let downloaded = 0;\n",
              "\n",
              "      const channel = await google.colab.kernel.comms.open(id);\n",
              "      // Send a message to notify the kernel that we're ready.\n",
              "      channel.send({})\n",
              "\n",
              "      for await (const message of channel.messages) {\n",
              "        // Send a message to notify the kernel that we're ready.\n",
              "        channel.send({})\n",
              "        if (message.buffers) {\n",
              "          for (const buffer of message.buffers) {\n",
              "            buffers.push(buffer);\n",
              "            downloaded += buffer.byteLength;\n",
              "            progress.value = downloaded;\n",
              "          }\n",
              "        }\n",
              "      }\n",
              "      const blob = new Blob(buffers, {type: 'application/binary'});\n",
              "      const a = document.createElement('a');\n",
              "      a.href = window.URL.createObjectURL(blob);\n",
              "      a.download = filename;\n",
              "      div.appendChild(a);\n",
              "      a.click();\n",
              "      div.remove();\n",
              "    }\n",
              "  "
            ],
            "text/plain": [
              "<IPython.core.display.Javascript object>"
            ]
          },
          "metadata": {
            "tags": []
          }
        },
        {
          "output_type": "display_data",
          "data": {
            "application/javascript": [
              "download(\"download_50ac9475-b2a4-4258-9e59-40b854fa7c52\", \"model_base.csv\", 9988)"
            ],
            "text/plain": [
              "<IPython.core.display.Javascript object>"
            ]
          },
          "metadata": {
            "tags": []
          }
        }
      ]
    },
    {
      "cell_type": "markdown",
      "metadata": {
        "id": "n8GZcDkTKqkY"
      },
      "source": [
        "#### Modelo Mejorado"
      ]
    },
    {
      "cell_type": "markdown",
      "metadata": {
        "id": "J0UF2_0FtcRu"
      },
      "source": [
        "##### Modelo 1"
      ]
    },
    {
      "cell_type": "code",
      "metadata": {
        "id": "2abVqjMrKui4",
        "colab": {
          "base_uri": "https://localhost:8080/"
        },
        "outputId": "467fa2e2-5e21-4163-dc3d-b98630fc8d3e"
      },
      "source": [
        "base_model = tf.keras.applications.ResNet50(input_shape = (224, 224, 3), \n",
        "                                            classes     = 25,\n",
        "                                            include_top  = False)\n",
        "\n",
        "image_batch, label_batch = next(iter(train_data_gen))\n",
        "feature_batch = base_model(image_batch)\n",
        "base_model.trainable = False\n",
        "\n",
        "dense_layer_2048 = Dense(2048, activation='relu')\n",
        "dense_layer_512  = Dense(512, activation='relu')\n",
        "dense_layer_1024 = Dense(1024, activation='relu')\n",
        "\n",
        "dropout          = Dropout(0.25)\n",
        "\n",
        "global_average_layer = tf.keras.layers.GlobalAveragePooling2D()\n",
        "prediction_layer = keras.layers.Dense(25, activation='softmax')\n",
        "\n",
        "model_1 = tf.keras.Sequential([\n",
        "  base_model,\n",
        "  global_average_layer,\n",
        "  dense_layer_2048,\n",
        "  dropout,\n",
        "  dense_layer_512,\n",
        "  dropout,\n",
        "  dense_layer_1024,\n",
        "  prediction_layer\n",
        "])\n"
      ],
      "execution_count": null,
      "outputs": [
        {
          "output_type": "stream",
          "text": [
            "Downloading data from https://storage.googleapis.com/tensorflow/keras-applications/resnet/resnet50_weights_tf_dim_ordering_tf_kernels_notop.h5\n",
            "94773248/94765736 [==============================] - 1s 0us/step\n"
          ],
          "name": "stdout"
        }
      ]
    },
    {
      "cell_type": "code",
      "metadata": {
        "id": "x8j3K0iTPm7I"
      },
      "source": [
        "opt = tf.keras.optimizers.Adagrad()\n",
        "\n",
        "callback = tf.keras.callbacks.EarlyStopping(monitor='f1_score', patience=5)\n",
        "\n",
        "model_1.compile(loss=\"categorical_crossentropy\",\n",
        "              optimizer=opt,\n",
        "\t            metrics=[tfa.metrics.F1Score(num_classes=25, average='weighted')],\n",
        "              )"
      ],
      "execution_count": null,
      "outputs": []
    },
    {
      "cell_type": "code",
      "metadata": {
        "colab": {
          "base_uri": "https://localhost:8080/"
        },
        "id": "rOFN4So_Pm7J",
        "outputId": "011d22cb-4cf3-4d45-e9a5-14638a2d8648"
      },
      "source": [
        "tf.random.set_seed(2021)\n",
        "\n",
        "model_history_1 = model_1.fit(  \n",
        "    train_data_gen,\n",
        "    epochs=50,\n",
        "    validation_data=valid_data_gen,\n",
        "    validation_steps= valid_data_gen.n // batch_size)"
      ],
      "execution_count": null,
      "outputs": [
        {
          "output_type": "stream",
          "text": [
            "Epoch 1/50\n",
            "63/63 [==============================] - 383s 6s/step - loss: 3.1334 - f1_score: 0.1046 - val_loss: 2.5181 - val_f1_score: 0.4795\n",
            "Epoch 2/50\n",
            "63/63 [==============================] - 378s 6s/step - loss: 2.5349 - f1_score: 0.3676 - val_loss: 1.9645 - val_f1_score: 0.6243\n",
            "Epoch 3/50\n",
            "63/63 [==============================] - 390s 6s/step - loss: 2.0416 - f1_score: 0.5068 - val_loss: 1.5346 - val_f1_score: 0.7232\n",
            "Epoch 4/50\n",
            "63/63 [==============================] - 389s 6s/step - loss: 1.6152 - f1_score: 0.6252 - val_loss: 1.2329 - val_f1_score: 0.7495\n",
            "Epoch 5/50\n",
            "63/63 [==============================] - 388s 6s/step - loss: 1.3752 - f1_score: 0.6677 - val_loss: 1.0576 - val_f1_score: 0.7800\n",
            "Epoch 6/50\n",
            "63/63 [==============================] - 390s 6s/step - loss: 1.1837 - f1_score: 0.7032 - val_loss: 0.9077 - val_f1_score: 0.7835\n",
            "Epoch 7/50\n",
            "63/63 [==============================] - 386s 6s/step - loss: 1.0406 - f1_score: 0.7454 - val_loss: 0.8434 - val_f1_score: 0.7952\n",
            "Epoch 8/50\n",
            "63/63 [==============================] - 389s 6s/step - loss: 0.9415 - f1_score: 0.7505 - val_loss: 0.7591 - val_f1_score: 0.8251\n",
            "Epoch 9/50\n",
            "63/63 [==============================] - 388s 6s/step - loss: 0.8930 - f1_score: 0.7620 - val_loss: 0.7062 - val_f1_score: 0.8382\n",
            "Epoch 10/50\n",
            "63/63 [==============================] - 385s 6s/step - loss: 0.7941 - f1_score: 0.7908 - val_loss: 0.6625 - val_f1_score: 0.8313\n",
            "Epoch 11/50\n",
            "63/63 [==============================] - 384s 6s/step - loss: 0.7623 - f1_score: 0.7907 - val_loss: 0.6276 - val_f1_score: 0.8468\n",
            "Epoch 12/50\n",
            "63/63 [==============================] - 384s 6s/step - loss: 0.6959 - f1_score: 0.8172 - val_loss: 0.6229 - val_f1_score: 0.8434\n",
            "Epoch 13/50\n",
            "63/63 [==============================] - 388s 6s/step - loss: 0.6679 - f1_score: 0.8030 - val_loss: 0.5876 - val_f1_score: 0.8314\n",
            "Epoch 14/50\n",
            "63/63 [==============================] - 390s 6s/step - loss: 0.6330 - f1_score: 0.8233 - val_loss: 0.5711 - val_f1_score: 0.8448\n",
            "Epoch 15/50\n",
            "63/63 [==============================] - 390s 6s/step - loss: 0.5914 - f1_score: 0.8326 - val_loss: 0.5429 - val_f1_score: 0.8597\n",
            "Epoch 16/50\n",
            "63/63 [==============================] - 390s 6s/step - loss: 0.5999 - f1_score: 0.8218 - val_loss: 0.5324 - val_f1_score: 0.8554\n",
            "Epoch 17/50\n",
            "63/63 [==============================] - 385s 6s/step - loss: 0.5577 - f1_score: 0.8485 - val_loss: 0.5040 - val_f1_score: 0.8657\n",
            "Epoch 18/50\n",
            "63/63 [==============================] - 385s 6s/step - loss: 0.5733 - f1_score: 0.8477 - val_loss: 0.4866 - val_f1_score: 0.8614\n",
            "Epoch 19/50\n",
            "63/63 [==============================] - 385s 6s/step - loss: 0.5016 - f1_score: 0.8535 - val_loss: 0.5069 - val_f1_score: 0.8575\n",
            "Epoch 20/50\n",
            "63/63 [==============================] - 390s 6s/step - loss: 0.5163 - f1_score: 0.8529 - val_loss: 0.4633 - val_f1_score: 0.8832\n",
            "Epoch 21/50\n",
            "63/63 [==============================] - 388s 6s/step - loss: 0.4796 - f1_score: 0.8696 - val_loss: 0.4588 - val_f1_score: 0.8697\n",
            "Epoch 22/50\n",
            "63/63 [==============================] - 393s 6s/step - loss: 0.4730 - f1_score: 0.8597 - val_loss: 0.4479 - val_f1_score: 0.8784\n",
            "Epoch 23/50\n",
            "63/63 [==============================] - 392s 6s/step - loss: 0.4646 - f1_score: 0.8685 - val_loss: 0.4378 - val_f1_score: 0.8750\n",
            "Epoch 24/50\n",
            "63/63 [==============================] - 384s 6s/step - loss: 0.4484 - f1_score: 0.8805 - val_loss: 0.4445 - val_f1_score: 0.8782\n",
            "Epoch 25/50\n",
            "63/63 [==============================] - 383s 6s/step - loss: 0.4657 - f1_score: 0.8661 - val_loss: 0.4210 - val_f1_score: 0.8885\n",
            "Epoch 26/50\n",
            "63/63 [==============================] - 380s 6s/step - loss: 0.4397 - f1_score: 0.8685 - val_loss: 0.4118 - val_f1_score: 0.8837\n",
            "Epoch 27/50\n",
            "63/63 [==============================] - 379s 6s/step - loss: 0.4372 - f1_score: 0.8737 - val_loss: 0.4291 - val_f1_score: 0.8812\n",
            "Epoch 28/50\n",
            "63/63 [==============================] - 379s 6s/step - loss: 0.4045 - f1_score: 0.8902 - val_loss: 0.4086 - val_f1_score: 0.8787\n",
            "Epoch 29/50\n",
            "63/63 [==============================] - 379s 6s/step - loss: 0.4286 - f1_score: 0.8750 - val_loss: 0.4043 - val_f1_score: 0.8880\n",
            "Epoch 30/50\n",
            "63/63 [==============================] - 380s 6s/step - loss: 0.3902 - f1_score: 0.8930 - val_loss: 0.4100 - val_f1_score: 0.8816\n",
            "Epoch 31/50\n",
            "63/63 [==============================] - 382s 6s/step - loss: 0.3956 - f1_score: 0.8856 - val_loss: 0.4008 - val_f1_score: 0.8868\n",
            "Epoch 32/50\n",
            "63/63 [==============================] - 375s 6s/step - loss: 0.3741 - f1_score: 0.8938 - val_loss: 0.3977 - val_f1_score: 0.8959\n",
            "Epoch 33/50\n",
            "63/63 [==============================] - 375s 6s/step - loss: 0.3818 - f1_score: 0.8929 - val_loss: 0.3948 - val_f1_score: 0.8858\n",
            "Epoch 34/50\n",
            "63/63 [==============================] - 375s 6s/step - loss: 0.3539 - f1_score: 0.8920 - val_loss: 0.3786 - val_f1_score: 0.8980\n",
            "Epoch 35/50\n",
            "63/63 [==============================] - 368s 6s/step - loss: 0.3713 - f1_score: 0.9065 - val_loss: 0.3857 - val_f1_score: 0.8893\n",
            "Epoch 36/50\n",
            "63/63 [==============================] - 365s 6s/step - loss: 0.3451 - f1_score: 0.9012 - val_loss: 0.3735 - val_f1_score: 0.8961\n",
            "Epoch 37/50\n",
            "63/63 [==============================] - 352s 6s/step - loss: 0.3529 - f1_score: 0.9073 - val_loss: 0.3628 - val_f1_score: 0.9066\n",
            "Epoch 38/50\n",
            "63/63 [==============================] - 341s 5s/step - loss: 0.3505 - f1_score: 0.8977 - val_loss: 0.3669 - val_f1_score: 0.8943\n",
            "Epoch 39/50\n",
            "63/63 [==============================] - 364s 6s/step - loss: 0.3366 - f1_score: 0.8993 - val_loss: 0.3586 - val_f1_score: 0.9080\n",
            "Epoch 40/50\n",
            "63/63 [==============================] - 366s 6s/step - loss: 0.3400 - f1_score: 0.8998 - val_loss: 0.3445 - val_f1_score: 0.9102\n",
            "Epoch 41/50\n",
            "63/63 [==============================] - 363s 6s/step - loss: 0.3078 - f1_score: 0.9125 - val_loss: 0.3680 - val_f1_score: 0.9020\n",
            "Epoch 42/50\n",
            "63/63 [==============================] - 346s 6s/step - loss: 0.3326 - f1_score: 0.9064 - val_loss: 0.3551 - val_f1_score: 0.8986\n",
            "Epoch 43/50\n",
            "63/63 [==============================] - 343s 5s/step - loss: 0.3261 - f1_score: 0.9127 - val_loss: 0.3731 - val_f1_score: 0.8935\n",
            "Epoch 44/50\n",
            "63/63 [==============================] - 337s 5s/step - loss: 0.3550 - f1_score: 0.8987 - val_loss: 0.3582 - val_f1_score: 0.9041\n",
            "Epoch 45/50\n",
            "63/63 [==============================] - 350s 6s/step - loss: 0.3201 - f1_score: 0.9117 - val_loss: 0.3581 - val_f1_score: 0.9068\n",
            "Epoch 46/50\n",
            "63/63 [==============================] - 358s 6s/step - loss: 0.3062 - f1_score: 0.9181 - val_loss: 0.3489 - val_f1_score: 0.9061\n",
            "Epoch 47/50\n",
            "63/63 [==============================] - 366s 6s/step - loss: 0.3028 - f1_score: 0.9263 - val_loss: 0.3496 - val_f1_score: 0.9127\n",
            "Epoch 48/50\n",
            "63/63 [==============================] - 365s 6s/step - loss: 0.2901 - f1_score: 0.9156 - val_loss: 0.3355 - val_f1_score: 0.9090\n",
            "Epoch 49/50\n",
            "63/63 [==============================] - 373s 6s/step - loss: 0.2877 - f1_score: 0.9198 - val_loss: 0.3372 - val_f1_score: 0.9097\n",
            "Epoch 50/50\n",
            "63/63 [==============================] - 374s 6s/step - loss: 0.2840 - f1_score: 0.9265 - val_loss: 0.3415 - val_f1_score: 0.9146\n"
          ],
          "name": "stdout"
        }
      ]
    },
    {
      "cell_type": "code",
      "metadata": {
        "colab": {
          "base_uri": "https://localhost:8080/"
        },
        "id": "8MC6Xr2Q8cHw",
        "outputId": "c950c9a7-d26b-4c00-dbf2-649c4f0be078"
      },
      "source": [
        "model_1.save('model_2048_512_1024')"
      ],
      "execution_count": null,
      "outputs": [
        {
          "output_type": "stream",
          "text": [
            "INFO:tensorflow:Assets written to: model_2048_512_1024/assets\n"
          ],
          "name": "stdout"
        }
      ]
    },
    {
      "cell_type": "code",
      "metadata": {
        "colab": {
          "base_uri": "https://localhost:8080/",
          "height": 399
        },
        "id": "b6XNeEf6SFpZ",
        "outputId": "68fabba7-ba22-419f-aabc-ba761cd69f8d"
      },
      "source": [
        "make_predictions(model_1, name_file_submission='modelo_mejorado_2048_512_1024.csv')"
      ],
      "execution_count": null,
      "outputs": [
        {
          "output_type": "execute_result",
          "data": {
            "text/html": [
              "<div>\n",
              "<style scoped>\n",
              "    .dataframe tbody tr th:only-of-type {\n",
              "        vertical-align: middle;\n",
              "    }\n",
              "\n",
              "    .dataframe tbody tr th {\n",
              "        vertical-align: top;\n",
              "    }\n",
              "\n",
              "    .dataframe thead th {\n",
              "        text-align: right;\n",
              "    }\n",
              "</style>\n",
              "<table border=\"1\" class=\"dataframe\">\n",
              "  <thead>\n",
              "    <tr style=\"text-align: right;\">\n",
              "      <th></th>\n",
              "      <th>id.jpg</th>\n",
              "      <th>label</th>\n",
              "    </tr>\n",
              "  </thead>\n",
              "  <tbody>\n",
              "    <tr>\n",
              "      <th>0</th>\n",
              "      <td>Cereal_Cro_17.jpg</td>\n",
              "      <td>17</td>\n",
              "    </tr>\n",
              "    <tr>\n",
              "      <th>1</th>\n",
              "      <td>Forest_DEB_6.jpg</td>\n",
              "      <td>11</td>\n",
              "    </tr>\n",
              "    <tr>\n",
              "      <th>2</th>\n",
              "      <td>Forest_ODN_9.jpg</td>\n",
              "      <td>14</td>\n",
              "    </tr>\n",
              "    <tr>\n",
              "      <th>3</th>\n",
              "      <td>Moss_and_L_16.jpg</td>\n",
              "      <td>20</td>\n",
              "    </tr>\n",
              "    <tr>\n",
              "      <th>4</th>\n",
              "      <td>Forest_DDB_3.jpg</td>\n",
              "      <td>9</td>\n",
              "    </tr>\n",
              "    <tr>\n",
              "      <th>...</th>\n",
              "      <td>...</td>\n",
              "      <td>...</td>\n",
              "    </tr>\n",
              "    <tr>\n",
              "      <th>495</th>\n",
              "      <td>Close_Shru_11.jpg</td>\n",
              "      <td>2</td>\n",
              "    </tr>\n",
              "    <tr>\n",
              "      <th>496</th>\n",
              "      <td>Marshland__18.jpg</td>\n",
              "      <td>19</td>\n",
              "    </tr>\n",
              "    <tr>\n",
              "      <th>497</th>\n",
              "      <td>Forest_DEB_8.jpg</td>\n",
              "      <td>11</td>\n",
              "    </tr>\n",
              "    <tr>\n",
              "      <th>498</th>\n",
              "      <td>Forest_DEN_9.jpg</td>\n",
              "      <td>12</td>\n",
              "    </tr>\n",
              "    <tr>\n",
              "      <th>499</th>\n",
              "      <td>Continenta_11.jpg</td>\n",
              "      <td>3</td>\n",
              "    </tr>\n",
              "  </tbody>\n",
              "</table>\n",
              "<p>500 rows × 2 columns</p>\n",
              "</div>"
            ],
            "text/plain": [
              "                id.jpg  label\n",
              "0    Cereal_Cro_17.jpg     17\n",
              "1     Forest_DEB_6.jpg     11\n",
              "2     Forest_ODN_9.jpg     14\n",
              "3    Moss_and_L_16.jpg     20\n",
              "4     Forest_DDB_3.jpg      9\n",
              "..                 ...    ...\n",
              "495  Close_Shru_11.jpg      2\n",
              "496  Marshland__18.jpg     19\n",
              "497   Forest_DEB_8.jpg     11\n",
              "498   Forest_DEN_9.jpg     12\n",
              "499  Continenta_11.jpg      3\n",
              "\n",
              "[500 rows x 2 columns]"
            ]
          },
          "metadata": {
            "tags": []
          },
          "execution_count": 25
        }
      ]
    },
    {
      "cell_type": "code",
      "metadata": {
        "colab": {
          "base_uri": "https://localhost:8080/",
          "height": 17
        },
        "id": "Vpf4a0pmSd4r",
        "outputId": "baa8c65c-9c9d-48e5-ce43-b3feb9503c3e"
      },
      "source": [
        "\n",
        "files.download(\"modelo_mejorado_2048_512_1024.csv\")"
      ],
      "execution_count": null,
      "outputs": [
        {
          "output_type": "display_data",
          "data": {
            "application/javascript": [
              "\n",
              "    async function download(id, filename, size) {\n",
              "      if (!google.colab.kernel.accessAllowed) {\n",
              "        return;\n",
              "      }\n",
              "      const div = document.createElement('div');\n",
              "      const label = document.createElement('label');\n",
              "      label.textContent = `Downloading \"${filename}\": `;\n",
              "      div.appendChild(label);\n",
              "      const progress = document.createElement('progress');\n",
              "      progress.max = size;\n",
              "      div.appendChild(progress);\n",
              "      document.body.appendChild(div);\n",
              "\n",
              "      const buffers = [];\n",
              "      let downloaded = 0;\n",
              "\n",
              "      const channel = await google.colab.kernel.comms.open(id);\n",
              "      // Send a message to notify the kernel that we're ready.\n",
              "      channel.send({})\n",
              "\n",
              "      for await (const message of channel.messages) {\n",
              "        // Send a message to notify the kernel that we're ready.\n",
              "        channel.send({})\n",
              "        if (message.buffers) {\n",
              "          for (const buffer of message.buffers) {\n",
              "            buffers.push(buffer);\n",
              "            downloaded += buffer.byteLength;\n",
              "            progress.value = downloaded;\n",
              "          }\n",
              "        }\n",
              "      }\n",
              "      const blob = new Blob(buffers, {type: 'application/binary'});\n",
              "      const a = document.createElement('a');\n",
              "      a.href = window.URL.createObjectURL(blob);\n",
              "      a.download = filename;\n",
              "      div.appendChild(a);\n",
              "      a.click();\n",
              "      div.remove();\n",
              "    }\n",
              "  "
            ],
            "text/plain": [
              "<IPython.core.display.Javascript object>"
            ]
          },
          "metadata": {
            "tags": []
          }
        },
        {
          "output_type": "display_data",
          "data": {
            "application/javascript": [
              "download(\"download_15de5013-cf76-4ac3-9520-9defb30e7496\", \"modelo_mejorado_2048_512_1024.csv\", 9984)"
            ],
            "text/plain": [
              "<IPython.core.display.Javascript object>"
            ]
          },
          "metadata": {
            "tags": []
          }
        }
      ]
    },
    {
      "cell_type": "code",
      "metadata": {
        "id": "TVpaP21J69dD",
        "colab": {
          "base_uri": "https://localhost:8080/"
        },
        "outputId": "4b6682f7-0cf2-4595-9af0-58c6426a0209"
      },
      "source": [
        "! zip -r modelo_mejorado_2048_512_1024.zip model_2048_512_1024"
      ],
      "execution_count": null,
      "outputs": [
        {
          "output_type": "stream",
          "text": [
            "  adding: model_2048_512_1024/ (stored 0%)\n",
            "  adding: model_2048_512_1024/variables/ (stored 0%)\n",
            "  adding: model_2048_512_1024/variables/variables.index (deflated 78%)\n",
            "  adding: model_2048_512_1024/variables/variables.data-00000-of-00001 (deflated 10%)\n",
            "  adding: model_2048_512_1024/assets/ (stored 0%)\n",
            "  adding: model_2048_512_1024/saved_model.pb (deflated 93%)\n"
          ],
          "name": "stdout"
        }
      ]
    },
    {
      "cell_type": "code",
      "metadata": {
        "id": "wkkk2n3J7Cu-",
        "colab": {
          "base_uri": "https://localhost:8080/",
          "height": 17
        },
        "outputId": "30c760d3-6d0f-4daa-f938-7921fa68db1e"
      },
      "source": [
        "files.download(\"modelo_mejorado_2048_512_1024.zip\")"
      ],
      "execution_count": null,
      "outputs": [
        {
          "output_type": "display_data",
          "data": {
            "application/javascript": [
              "\n",
              "    async function download(id, filename, size) {\n",
              "      if (!google.colab.kernel.accessAllowed) {\n",
              "        return;\n",
              "      }\n",
              "      const div = document.createElement('div');\n",
              "      const label = document.createElement('label');\n",
              "      label.textContent = `Downloading \"${filename}\": `;\n",
              "      div.appendChild(label);\n",
              "      const progress = document.createElement('progress');\n",
              "      progress.max = size;\n",
              "      div.appendChild(progress);\n",
              "      document.body.appendChild(div);\n",
              "\n",
              "      const buffers = [];\n",
              "      let downloaded = 0;\n",
              "\n",
              "      const channel = await google.colab.kernel.comms.open(id);\n",
              "      // Send a message to notify the kernel that we're ready.\n",
              "      channel.send({})\n",
              "\n",
              "      for await (const message of channel.messages) {\n",
              "        // Send a message to notify the kernel that we're ready.\n",
              "        channel.send({})\n",
              "        if (message.buffers) {\n",
              "          for (const buffer of message.buffers) {\n",
              "            buffers.push(buffer);\n",
              "            downloaded += buffer.byteLength;\n",
              "            progress.value = downloaded;\n",
              "          }\n",
              "        }\n",
              "      }\n",
              "      const blob = new Blob(buffers, {type: 'application/binary'});\n",
              "      const a = document.createElement('a');\n",
              "      a.href = window.URL.createObjectURL(blob);\n",
              "      a.download = filename;\n",
              "      div.appendChild(a);\n",
              "      a.click();\n",
              "      div.remove();\n",
              "    }\n",
              "  "
            ],
            "text/plain": [
              "<IPython.core.display.Javascript object>"
            ]
          },
          "metadata": {
            "tags": []
          }
        },
        {
          "output_type": "display_data",
          "data": {
            "application/javascript": [
              "download(\"download_08d3f7c1-2d7a-4b74-91b3-a2b3a7fd79cf\", \"modelo_mejorado_2048_512_1024.zip\", 126541273)"
            ],
            "text/plain": [
              "<IPython.core.display.Javascript object>"
            ]
          },
          "metadata": {
            "tags": []
          }
        }
      ]
    },
    {
      "cell_type": "code",
      "metadata": {
        "colab": {
          "base_uri": "https://localhost:8080/",
          "height": 295
        },
        "id": "1ol0UUxp4O2Q",
        "outputId": "3f2e8d40-8a76-476d-d3ae-fe64aad3cf99"
      },
      "source": [
        "plt.plot(model_history_1.history['f1_score'])\n",
        "plt.plot(model_history_1.history['val_f1_score'])\n",
        "plt.title('model f1_score')\n",
        "plt.ylabel('f1_score')\n",
        "plt.xlabel('epoch')\n",
        "plt.legend(['train', 'test'], loc='upper left')\n",
        "plt.show()"
      ],
      "execution_count": null,
      "outputs": [
        {
          "output_type": "display_data",
          "data": {
            "image/png": "[encoded data removed]",
            "text/plain": [
              "<Figure size 432x288 with 1 Axes>"
            ]
          },
          "metadata": {
            "tags": [],
            "needs_background": "light"
          }
        }
      ]
    },
    {
      "cell_type": "markdown",
      "metadata": {
        "id": "7A72lNhxtezq"
      },
      "source": [
        "##### Modelo 2"
      ]
    },
    {
      "cell_type": "code",
      "metadata": {
        "id": "aiBsqAt3tgPH"
      },
      "source": [
        "base_model = tf.keras.applications.ResNet50(input_shape = (224, 224, 3), \n",
        "                                            classes     = 25,\n",
        "                                            include_top  = False)\n",
        "\n",
        "image_batch, label_batch = next(iter(train_data_gen))\n",
        "feature_batch = base_model(image_batch)\n",
        "base_model.trainable = False\n",
        "\n",
        "dense_layer_2048 = Dense(2048, activation='relu')\n",
        "dense_layer_512  = Dense(512,  activation='relu')\n",
        "dense_layer_1024 = Dense(1024, activation='relu')\n",
        "\n",
        "conv_1024 = Conv2D(1024, (3,3), activation='relu')\n",
        "conv_512  = Conv2D(512, (3,3), activation='relu')\n",
        "\n",
        "flattern  = Flatten()\n",
        "batch_normal = BatchNormalization()\n",
        "dropout   = Dropout(0.25)\n",
        "\n",
        "global_average_layer = tf.keras.layers.GlobalAveragePooling2D()\n",
        "prediction_layer = keras.layers.Dense(25, activation='softmax')\n",
        "\n",
        "model_2 = tf.keras.Sequential([\n",
        "  base_model,\n",
        "  conv_1024,\n",
        "  conv_512,\n",
        "  flattern,\n",
        "  dense_layer_2048,\n",
        "  dropout,\n",
        "  dense_layer_512,\n",
        "  dropout,\n",
        "  dense_layer_1024,\n",
        "  prediction_layer\n",
        "])"
      ],
      "execution_count": null,
      "outputs": []
    },
    {
      "cell_type": "code",
      "metadata": {
        "id": "2sNQpnrftloA"
      },
      "source": [
        "opt = tf.keras.optimizers.Adagrad()\n",
        "\n",
        "callback = tf.keras.callbacks.EarlyStopping(monitor='f1_score', patience=5)\n",
        "\n",
        "model_2.compile(loss=\"categorical_crossentropy\",\n",
        "              optimizer=opt,\n",
        "\t            metrics=[ 'accuracy', tfa.metrics.F1Score(num_classes=25, average='weighted')],\n",
        "              )"
      ],
      "execution_count": null,
      "outputs": []
    },
    {
      "cell_type": "code",
      "metadata": {
        "id": "LOibTIm-tloB",
        "colab": {
          "base_uri": "https://localhost:8080/"
        },
        "outputId": "368e5517-d293-418e-a2d6-1a20d9ac1e78"
      },
      "source": [
        "tf.random.set_seed(2021)\n",
        "\n",
        "model_history_2 = model_2.fit(  \n",
        "    train_data_gen,\n",
        "    epochs=50,\n",
        "    validation_data=valid_data_gen,\n",
        "    validation_steps= valid_data_gen.n // batch_size)"
      ],
      "execution_count": null,
      "outputs": [
        {
          "output_type": "stream",
          "text": [
            "Epoch 1/50\n",
            "63/63 [==============================] - 534s 8s/step - loss: 2.9284 - accuracy: 0.1840 - f1_score: 0.1570 - val_loss: 1.7577 - val_accuracy: 0.5104 - val_f1_score: 0.4624\n",
            "Epoch 2/50\n",
            "63/63 [==============================] - 522s 8s/step - loss: 1.6498 - accuracy: 0.5271 - f1_score: 0.5170 - val_loss: 1.0158 - val_accuracy: 0.6979 - val_f1_score: 0.6819\n",
            "Epoch 3/50\n",
            "63/63 [==============================] - 520s 8s/step - loss: 1.0721 - accuracy: 0.6886 - f1_score: 0.6852 - val_loss: 0.7204 - val_accuracy: 0.7896 - val_f1_score: 0.7903\n",
            "Epoch 4/50\n",
            "63/63 [==============================] - 518s 8s/step - loss: 0.7728 - accuracy: 0.7669 - f1_score: 0.7673 - val_loss: 0.6525 - val_accuracy: 0.8021 - val_f1_score: 0.8001\n",
            "Epoch 5/50\n",
            "63/63 [==============================] - 517s 8s/step - loss: 0.6814 - accuracy: 0.7969 - f1_score: 0.7958 - val_loss: 0.5773 - val_accuracy: 0.8146 - val_f1_score: 0.8170\n",
            "Epoch 6/50\n",
            "63/63 [==============================] - 517s 8s/step - loss: 0.5503 - accuracy: 0.8274 - f1_score: 0.8271 - val_loss: 0.4953 - val_accuracy: 0.8396 - val_f1_score: 0.8374\n",
            "Epoch 7/50\n",
            "63/63 [==============================] - 516s 8s/step - loss: 0.4867 - accuracy: 0.8470 - f1_score: 0.8467 - val_loss: 0.4939 - val_accuracy: 0.8458 - val_f1_score: 0.8445\n",
            "Epoch 8/50\n",
            "63/63 [==============================] - 515s 8s/step - loss: 0.3867 - accuracy: 0.8864 - f1_score: 0.8856 - val_loss: 0.4423 - val_accuracy: 0.8562 - val_f1_score: 0.8563\n",
            "Epoch 9/50\n",
            "63/63 [==============================] - 515s 8s/step - loss: 0.3773 - accuracy: 0.8944 - f1_score: 0.8938 - val_loss: 0.4655 - val_accuracy: 0.8646 - val_f1_score: 0.8651\n",
            "Epoch 10/50\n",
            "63/63 [==============================] - 523s 8s/step - loss: 0.3200 - accuracy: 0.9099 - f1_score: 0.9099 - val_loss: 0.4124 - val_accuracy: 0.8813 - val_f1_score: 0.8804\n",
            "Epoch 11/50\n",
            "63/63 [==============================] - 521s 8s/step - loss: 0.3366 - accuracy: 0.8989 - f1_score: 0.8990 - val_loss: 0.3690 - val_accuracy: 0.8875 - val_f1_score: 0.8857\n",
            "Epoch 12/50\n",
            "63/63 [==============================] - 522s 8s/step - loss: 0.2916 - accuracy: 0.9120 - f1_score: 0.9126 - val_loss: 0.4123 - val_accuracy: 0.8833 - val_f1_score: 0.8841\n",
            "Epoch 13/50\n",
            "63/63 [==============================] - 521s 8s/step - loss: 0.2831 - accuracy: 0.9113 - f1_score: 0.9109 - val_loss: 0.4328 - val_accuracy: 0.8750 - val_f1_score: 0.8750\n",
            "Epoch 14/50\n",
            "63/63 [==============================] - 521s 8s/step - loss: 0.2311 - accuracy: 0.9379 - f1_score: 0.9377 - val_loss: 0.3877 - val_accuracy: 0.8917 - val_f1_score: 0.8907\n",
            "Epoch 15/50\n",
            "63/63 [==============================] - 521s 8s/step - loss: 0.2002 - accuracy: 0.9462 - f1_score: 0.9462 - val_loss: 0.3559 - val_accuracy: 0.9125 - val_f1_score: 0.9128\n",
            "Epoch 16/50\n",
            "63/63 [==============================] - 522s 8s/step - loss: 0.2138 - accuracy: 0.9385 - f1_score: 0.9383 - val_loss: 0.3898 - val_accuracy: 0.8917 - val_f1_score: 0.8911\n",
            "Epoch 17/50\n",
            "63/63 [==============================] - 522s 8s/step - loss: 0.1907 - accuracy: 0.9403 - f1_score: 0.9404 - val_loss: 0.3457 - val_accuracy: 0.9104 - val_f1_score: 0.9102\n",
            "Epoch 18/50\n",
            "63/63 [==============================] - 522s 8s/step - loss: 0.1769 - accuracy: 0.9437 - f1_score: 0.9437 - val_loss: 0.3828 - val_accuracy: 0.9062 - val_f1_score: 0.9059\n",
            "Epoch 19/50\n",
            "63/63 [==============================] - 522s 8s/step - loss: 0.1606 - accuracy: 0.9504 - f1_score: 0.9503 - val_loss: 0.3623 - val_accuracy: 0.9000 - val_f1_score: 0.8990\n",
            "Epoch 20/50\n",
            "63/63 [==============================] - 523s 8s/step - loss: 0.1532 - accuracy: 0.9641 - f1_score: 0.9637 - val_loss: 0.3573 - val_accuracy: 0.9021 - val_f1_score: 0.9026\n",
            "Epoch 21/50\n",
            "63/63 [==============================] - 522s 8s/step - loss: 0.1728 - accuracy: 0.9488 - f1_score: 0.9485 - val_loss: 0.3118 - val_accuracy: 0.9208 - val_f1_score: 0.9214\n",
            "Epoch 22/50\n",
            "63/63 [==============================] - 522s 8s/step - loss: 0.1283 - accuracy: 0.9660 - f1_score: 0.9651 - val_loss: 0.3797 - val_accuracy: 0.9146 - val_f1_score: 0.9143\n",
            "Epoch 23/50\n",
            "63/63 [==============================] - 523s 8s/step - loss: 0.1240 - accuracy: 0.9658 - f1_score: 0.9658 - val_loss: 0.3574 - val_accuracy: 0.9083 - val_f1_score: 0.9079\n",
            "Epoch 24/50\n",
            "63/63 [==============================] - 523s 8s/step - loss: 0.1446 - accuracy: 0.9587 - f1_score: 0.9585 - val_loss: 0.3273 - val_accuracy: 0.9146 - val_f1_score: 0.9144\n",
            "Epoch 25/50\n",
            "63/63 [==============================] - 523s 8s/step - loss: 0.1314 - accuracy: 0.9618 - f1_score: 0.9615 - val_loss: 0.3222 - val_accuracy: 0.9125 - val_f1_score: 0.9123\n",
            "Epoch 26/50\n",
            "63/63 [==============================] - 522s 8s/step - loss: 0.1194 - accuracy: 0.9599 - f1_score: 0.9599 - val_loss: 0.3650 - val_accuracy: 0.9167 - val_f1_score: 0.9165\n",
            "Epoch 27/50\n",
            "63/63 [==============================] - 522s 8s/step - loss: 0.0960 - accuracy: 0.9792 - f1_score: 0.9792 - val_loss: 0.3733 - val_accuracy: 0.9042 - val_f1_score: 0.9036\n",
            "Epoch 28/50\n",
            "63/63 [==============================] - 522s 8s/step - loss: 0.1018 - accuracy: 0.9703 - f1_score: 0.9708 - val_loss: 0.3898 - val_accuracy: 0.8979 - val_f1_score: 0.8983\n",
            "Epoch 29/50\n",
            "63/63 [==============================] - 522s 8s/step - loss: 0.1132 - accuracy: 0.9653 - f1_score: 0.9656 - val_loss: 0.3185 - val_accuracy: 0.9271 - val_f1_score: 0.9272\n",
            "Epoch 30/50\n",
            "63/63 [==============================] - 522s 8s/step - loss: 0.0955 - accuracy: 0.9759 - f1_score: 0.9760 - val_loss: 0.3705 - val_accuracy: 0.9062 - val_f1_score: 0.9053\n",
            "Epoch 31/50\n",
            "63/63 [==============================] - 522s 8s/step - loss: 0.0976 - accuracy: 0.9702 - f1_score: 0.9703 - val_loss: 0.3581 - val_accuracy: 0.9208 - val_f1_score: 0.9215\n",
            "Epoch 32/50\n",
            "63/63 [==============================] - 522s 8s/step - loss: 0.0932 - accuracy: 0.9725 - f1_score: 0.9725 - val_loss: 0.3658 - val_accuracy: 0.9208 - val_f1_score: 0.9208\n",
            "Epoch 33/50\n",
            "63/63 [==============================] - 521s 8s/step - loss: 0.0979 - accuracy: 0.9741 - f1_score: 0.9741 - val_loss: 0.3411 - val_accuracy: 0.9229 - val_f1_score: 0.9230\n",
            "Epoch 34/50\n",
            "63/63 [==============================] - 522s 8s/step - loss: 0.0814 - accuracy: 0.9759 - f1_score: 0.9760 - val_loss: 0.3315 - val_accuracy: 0.9187 - val_f1_score: 0.9180\n",
            "Epoch 35/50\n",
            "63/63 [==============================] - 523s 8s/step - loss: 0.0972 - accuracy: 0.9658 - f1_score: 0.9661 - val_loss: 0.3473 - val_accuracy: 0.9146 - val_f1_score: 0.9148\n",
            "Epoch 36/50\n",
            "63/63 [==============================] - 522s 8s/step - loss: 0.0718 - accuracy: 0.9797 - f1_score: 0.9794 - val_loss: 0.3599 - val_accuracy: 0.9229 - val_f1_score: 0.9228\n",
            "Epoch 37/50\n",
            "63/63 [==============================] - 528s 8s/step - loss: 0.0761 - accuracy: 0.9783 - f1_score: 0.9783 - val_loss: 0.3396 - val_accuracy: 0.9187 - val_f1_score: 0.9191\n",
            "Epoch 38/50\n",
            "63/63 [==============================] - 531s 8s/step - loss: 0.0672 - accuracy: 0.9793 - f1_score: 0.9792 - val_loss: 0.3580 - val_accuracy: 0.9187 - val_f1_score: 0.9187\n",
            "Epoch 39/50\n",
            "63/63 [==============================] - 531s 8s/step - loss: 0.0783 - accuracy: 0.9750 - f1_score: 0.9750 - val_loss: 0.3354 - val_accuracy: 0.9187 - val_f1_score: 0.9185\n",
            "Epoch 40/50\n",
            "63/63 [==============================] - 530s 8s/step - loss: 0.0567 - accuracy: 0.9843 - f1_score: 0.9844 - val_loss: 0.3668 - val_accuracy: 0.9208 - val_f1_score: 0.9212\n",
            "Epoch 41/50\n",
            "63/63 [==============================] - 528s 8s/step - loss: 0.0600 - accuracy: 0.9843 - f1_score: 0.9841 - val_loss: 0.3555 - val_accuracy: 0.9208 - val_f1_score: 0.9209\n",
            "Epoch 42/50\n",
            "63/63 [==============================] - 530s 8s/step - loss: 0.0738 - accuracy: 0.9850 - f1_score: 0.9850 - val_loss: 0.3859 - val_accuracy: 0.9229 - val_f1_score: 0.9226\n",
            "Epoch 43/50\n",
            "63/63 [==============================] - 527s 8s/step - loss: 0.0644 - accuracy: 0.9863 - f1_score: 0.9863 - val_loss: 0.3668 - val_accuracy: 0.9146 - val_f1_score: 0.9143\n",
            "Epoch 44/50\n",
            "63/63 [==============================] - 526s 8s/step - loss: 0.0577 - accuracy: 0.9862 - f1_score: 0.9861 - val_loss: 0.3662 - val_accuracy: 0.9167 - val_f1_score: 0.9160\n",
            "Epoch 45/50\n",
            "63/63 [==============================] - 525s 8s/step - loss: 0.0530 - accuracy: 0.9855 - f1_score: 0.9855 - val_loss: 0.3604 - val_accuracy: 0.9104 - val_f1_score: 0.9101\n",
            "Epoch 46/50\n",
            "63/63 [==============================] - 526s 8s/step - loss: 0.0563 - accuracy: 0.9861 - f1_score: 0.9860 - val_loss: 0.3601 - val_accuracy: 0.9167 - val_f1_score: 0.9168\n",
            "Epoch 47/50\n",
            "63/63 [==============================] - 526s 8s/step - loss: 0.0530 - accuracy: 0.9825 - f1_score: 0.9828 - val_loss: 0.3548 - val_accuracy: 0.9229 - val_f1_score: 0.9231\n",
            "Epoch 48/50\n",
            "63/63 [==============================] - 527s 8s/step - loss: 0.0525 - accuracy: 0.9831 - f1_score: 0.9831 - val_loss: 0.3601 - val_accuracy: 0.9250 - val_f1_score: 0.9250\n",
            "Epoch 49/50\n",
            "63/63 [==============================] - 526s 8s/step - loss: 0.0421 - accuracy: 0.9888 - f1_score: 0.9888 - val_loss: 0.3669 - val_accuracy: 0.9167 - val_f1_score: 0.9165\n",
            "Epoch 50/50\n",
            "63/63 [==============================] - 526s 8s/step - loss: 0.0443 - accuracy: 0.9901 - f1_score: 0.9900 - val_loss: 0.3423 - val_accuracy: 0.9312 - val_f1_score: 0.9308\n"
          ],
          "name": "stdout"
        }
      ]
    },
    {
      "cell_type": "code",
      "metadata": {
        "id": "JirDPJx0hz8-"
      },
      "source": [
        "from google.colab import files\n",
        "import matplotlib.pyplot as plt"
      ],
      "execution_count": null,
      "outputs": []
    },
    {
      "cell_type": "code",
      "metadata": {
        "id": "iSL0NJnPfC1m",
        "colab": {
          "base_uri": "https://localhost:8080/",
          "height": 295
        },
        "outputId": "39f06406-7827-457c-a259-a43d47467879"
      },
      "source": [
        "plt.plot(model_history_2.history['f1_score'])\n",
        "plt.plot(model_history_2.history['val_f1_score'])\n",
        "plt.title('model f1_score')\n",
        "plt.ylabel('f1_score')\n",
        "plt.xlabel('epoch')\n",
        "plt.legend(['train', 'test'], loc='upper left')\n",
        "plt.show()"
      ],
      "execution_count": null,
      "outputs": [
        {
          "output_type": "display_data",
          "data": {
            "image/png": "[encoded data removed]",
            "text/plain": [
              "<Figure size 432x288 with 1 Axes>"
            ]
          },
          "metadata": {
            "tags": [],
            "needs_background": "light"
          }
        }
      ]
    },
    {
      "cell_type": "code",
      "metadata": {
        "id": "Tmi21p1ufC8Z",
        "colab": {
          "base_uri": "https://localhost:8080/",
          "height": 399
        },
        "outputId": "e9d783cd-6a6f-414d-eca8-c9a34e1b4ced"
      },
      "source": [
        "make_predictions(model_2, name_file_submission='modelo_mejorado_2048_512_1024_256_128_52.csv')"
      ],
      "execution_count": null,
      "outputs": [
        {
          "output_type": "execute_result",
          "data": {
            "text/html": [
              "<div>\n",
              "<style scoped>\n",
              "    .dataframe tbody tr th:only-of-type {\n",
              "        vertical-align: middle;\n",
              "    }\n",
              "\n",
              "    .dataframe tbody tr th {\n",
              "        vertical-align: top;\n",
              "    }\n",
              "\n",
              "    .dataframe thead th {\n",
              "        text-align: right;\n",
              "    }\n",
              "</style>\n",
              "<table border=\"1\" class=\"dataframe\">\n",
              "  <thead>\n",
              "    <tr style=\"text-align: right;\">\n",
              "      <th></th>\n",
              "      <th>id.jpg</th>\n",
              "      <th>label</th>\n",
              "    </tr>\n",
              "  </thead>\n",
              "  <tbody>\n",
              "    <tr>\n",
              "      <th>0</th>\n",
              "      <td>Cereal_Cro_17.jpg</td>\n",
              "      <td>7</td>\n",
              "    </tr>\n",
              "    <tr>\n",
              "      <th>1</th>\n",
              "      <td>Forest_DEB_6.jpg</td>\n",
              "      <td>11</td>\n",
              "    </tr>\n",
              "    <tr>\n",
              "      <th>2</th>\n",
              "      <td>Forest_ODN_9.jpg</td>\n",
              "      <td>14</td>\n",
              "    </tr>\n",
              "    <tr>\n",
              "      <th>3</th>\n",
              "      <td>Moss_and_L_16.jpg</td>\n",
              "      <td>20</td>\n",
              "    </tr>\n",
              "    <tr>\n",
              "      <th>4</th>\n",
              "      <td>Forest_DDB_3.jpg</td>\n",
              "      <td>9</td>\n",
              "    </tr>\n",
              "    <tr>\n",
              "      <th>...</th>\n",
              "      <td>...</td>\n",
              "      <td>...</td>\n",
              "    </tr>\n",
              "    <tr>\n",
              "      <th>495</th>\n",
              "      <td>Close_Shru_11.jpg</td>\n",
              "      <td>2</td>\n",
              "    </tr>\n",
              "    <tr>\n",
              "      <th>496</th>\n",
              "      <td>Marshland__18.jpg</td>\n",
              "      <td>19</td>\n",
              "    </tr>\n",
              "    <tr>\n",
              "      <th>497</th>\n",
              "      <td>Forest_DEB_8.jpg</td>\n",
              "      <td>11</td>\n",
              "    </tr>\n",
              "    <tr>\n",
              "      <th>498</th>\n",
              "      <td>Forest_DEN_9.jpg</td>\n",
              "      <td>12</td>\n",
              "    </tr>\n",
              "    <tr>\n",
              "      <th>499</th>\n",
              "      <td>Continenta_11.jpg</td>\n",
              "      <td>3</td>\n",
              "    </tr>\n",
              "  </tbody>\n",
              "</table>\n",
              "<p>500 rows × 2 columns</p>\n",
              "</div>"
            ],
            "text/plain": [
              "                id.jpg  label\n",
              "0    Cereal_Cro_17.jpg      7\n",
              "1     Forest_DEB_6.jpg     11\n",
              "2     Forest_ODN_9.jpg     14\n",
              "3    Moss_and_L_16.jpg     20\n",
              "4     Forest_DDB_3.jpg      9\n",
              "..                 ...    ...\n",
              "495  Close_Shru_11.jpg      2\n",
              "496  Marshland__18.jpg     19\n",
              "497   Forest_DEB_8.jpg     11\n",
              "498   Forest_DEN_9.jpg     12\n",
              "499  Continenta_11.jpg      3\n",
              "\n",
              "[500 rows x 2 columns]"
            ]
          },
          "metadata": {
            "tags": []
          },
          "execution_count": 32
        }
      ]
    },
    {
      "cell_type": "code",
      "metadata": {
        "id": "S7alNAg1fLGr",
        "colab": {
          "base_uri": "https://localhost:8080/",
          "height": 17
        },
        "outputId": "c6ef664e-1711-4723-99cf-29303c9eedac"
      },
      "source": [
        "files.download(\"modelo_mejorado_2048_512_1024_256_128_52.csv\")"
      ],
      "execution_count": null,
      "outputs": [
        {
          "output_type": "display_data",
          "data": {
            "application/javascript": [
              "\n",
              "    async function download(id, filename, size) {\n",
              "      if (!google.colab.kernel.accessAllowed) {\n",
              "        return;\n",
              "      }\n",
              "      const div = document.createElement('div');\n",
              "      const label = document.createElement('label');\n",
              "      label.textContent = `Downloading \"${filename}\": `;\n",
              "      div.appendChild(label);\n",
              "      const progress = document.createElement('progress');\n",
              "      progress.max = size;\n",
              "      div.appendChild(progress);\n",
              "      document.body.appendChild(div);\n",
              "\n",
              "      const buffers = [];\n",
              "      let downloaded = 0;\n",
              "\n",
              "      const channel = await google.colab.kernel.comms.open(id);\n",
              "      // Send a message to notify the kernel that we're ready.\n",
              "      channel.send({})\n",
              "\n",
              "      for await (const message of channel.messages) {\n",
              "        // Send a message to notify the kernel that we're ready.\n",
              "        channel.send({})\n",
              "        if (message.buffers) {\n",
              "          for (const buffer of message.buffers) {\n",
              "            buffers.push(buffer);\n",
              "            downloaded += buffer.byteLength;\n",
              "            progress.value = downloaded;\n",
              "          }\n",
              "        }\n",
              "      }\n",
              "      const blob = new Blob(buffers, {type: 'application/binary'});\n",
              "      const a = document.createElement('a');\n",
              "      a.href = window.URL.createObjectURL(blob);\n",
              "      a.download = filename;\n",
              "      div.appendChild(a);\n",
              "      a.click();\n",
              "      div.remove();\n",
              "    }\n",
              "  "
            ],
            "text/plain": [
              "<IPython.core.display.Javascript object>"
            ]
          },
          "metadata": {
            "tags": []
          }
        },
        {
          "output_type": "display_data",
          "data": {
            "application/javascript": [
              "download(\"download_ff8ea33b-b529-46e3-9fb8-6a912ec36a49\", \"modelo_mejorado_2048_512_1024_256_128_52.csv\", 9980)"
            ],
            "text/plain": [
              "<IPython.core.display.Javascript object>"
            ]
          },
          "metadata": {
            "tags": []
          }
        }
      ]
    },
    {
      "cell_type": "code",
      "metadata": {
        "id": "PeTwIRxph4r3",
        "colab": {
          "base_uri": "https://localhost:8080/"
        },
        "outputId": "3a1685c4-4534-432c-e13f-c021f63ed075"
      },
      "source": [
        "model_2.save('modelo_mejorado_2048_512_1024_256_128_52')"
      ],
      "execution_count": null,
      "outputs": [
        {
          "output_type": "stream",
          "text": [
            "INFO:tensorflow:Assets written to: modelo_mejorado_2048_512_1024_256_128_52/assets\n"
          ],
          "name": "stdout"
        }
      ]
    },
    {
      "cell_type": "code",
      "metadata": {
        "id": "CL595VqUh_N8",
        "colab": {
          "base_uri": "https://localhost:8080/"
        },
        "outputId": "5beb5be5-507e-4343-a89d-f241b53391e9"
      },
      "source": [
        "! zip -r modelo_mejorado_2048_512_1024_256_128_52.zip modelo_mejorado_2048_512_1024_256_128_52"
      ],
      "execution_count": null,
      "outputs": [
        {
          "output_type": "stream",
          "text": [
            "  adding: modelo_mejorado_2048_512_1024_256_128_52/ (stored 0%)\n",
            "  adding: modelo_mejorado_2048_512_1024_256_128_52/variables/ (stored 0%)\n",
            "  adding: modelo_mejorado_2048_512_1024_256_128_52/variables/variables.index (deflated 78%)\n",
            "  adding: modelo_mejorado_2048_512_1024_256_128_52/variables/variables.data-00000-of-00001 (deflated 13%)\n",
            "  adding: modelo_mejorado_2048_512_1024_256_128_52/assets/ (stored 0%)\n",
            "  adding: modelo_mejorado_2048_512_1024_256_128_52/saved_model.pb (deflated 93%)\n"
          ],
          "name": "stdout"
        }
      ]
    },
    {
      "cell_type": "code",
      "metadata": {
        "id": "bml8Pzg5iIcv",
        "colab": {
          "base_uri": "https://localhost:8080/",
          "height": 34
        },
        "outputId": "c46dc73b-b127-4a02-e396-5e9d96128494"
      },
      "source": [
        "files.download(\"modelo_mejorado_2048_512_1024_256_128_52.zip\")"
      ],
      "execution_count": null,
      "outputs": [
        {
          "output_type": "display_data",
          "data": {
            "application/javascript": [
              "\n",
              "    async function download(id, filename, size) {\n",
              "      if (!google.colab.kernel.accessAllowed) {\n",
              "        return;\n",
              "      }\n",
              "      const div = document.createElement('div');\n",
              "      const label = document.createElement('label');\n",
              "      label.textContent = `Downloading \"${filename}\": `;\n",
              "      div.appendChild(label);\n",
              "      const progress = document.createElement('progress');\n",
              "      progress.max = size;\n",
              "      div.appendChild(progress);\n",
              "      document.body.appendChild(div);\n",
              "\n",
              "      const buffers = [];\n",
              "      let downloaded = 0;\n",
              "\n",
              "      const channel = await google.colab.kernel.comms.open(id);\n",
              "      // Send a message to notify the kernel that we're ready.\n",
              "      channel.send({})\n",
              "\n",
              "      for await (const message of channel.messages) {\n",
              "        // Send a message to notify the kernel that we're ready.\n",
              "        channel.send({})\n",
              "        if (message.buffers) {\n",
              "          for (const buffer of message.buffers) {\n",
              "            buffers.push(buffer);\n",
              "            downloaded += buffer.byteLength;\n",
              "            progress.value = downloaded;\n",
              "          }\n",
              "        }\n",
              "      }\n",
              "      const blob = new Blob(buffers, {type: 'application/binary'});\n",
              "      const a = document.createElement('a');\n",
              "      a.href = window.URL.createObjectURL(blob);\n",
              "      a.download = filename;\n",
              "      div.appendChild(a);\n",
              "      a.click();\n",
              "      div.remove();\n",
              "    }\n",
              "  "
            ],
            "text/plain": [
              "<IPython.core.display.Javascript object>"
            ]
          },
          "metadata": {
            "tags": []
          }
        },
        {
          "output_type": "display_data",
          "data": {
            "application/javascript": [
              "download(\"download_b32631ae-2071-464f-b6fc-f161397d9863\", \"modelo_mejorado_2048_512_1024_256_128_52.zip\", 322354422)"
            ],
            "text/plain": [
              "<IPython.core.display.Javascript object>"
            ]
          },
          "metadata": {
            "tags": []
          }
        }
      ]
    },
    {
      "cell_type": "markdown",
      "metadata": {
        "id": "1rrCTutSi7hG"
      },
      "source": [
        "##### Modelo 3"
      ]
    },
    {
      "cell_type": "code",
      "metadata": {
        "id": "qy6zz2-8oTWS"
      },
      "source": [
        "from keras.layers.normalization import BatchNormalization"
      ],
      "execution_count": null,
      "outputs": []
    },
    {
      "cell_type": "code",
      "metadata": {
        "id": "gDzTJaLJo2I6",
        "colab": {
          "base_uri": "https://localhost:8080/"
        },
        "outputId": "fefe979a-c1a3-4457-9c86-d1ad976243b4"
      },
      "source": [
        "base_model = tf.keras.applications.DenseNet201(input_shape = (224, 224, 3), \n",
        "                                            classes     = 25,\n",
        "                                            include_top  = False)\n",
        "\n",
        "model_3 = Sequential()\n",
        "model_3.add(Conv2D(64,\n",
        "                 kernel_size=(3, 3), \n",
        "                 activation='relu', \n",
        "                 input_shape=(224, 224, 3)))\n",
        "model_3.add(BatchNormalization())\n",
        "\n",
        "model_3.add(MaxPooling2D(pool_size=(2, 2)))\n",
        "model_3.add(BatchNormalization())\n",
        "\n",
        "model_3.add(Conv2D(128,\n",
        "                 kernel_size=(3, 3), \n",
        "                 activation='relu'))\n",
        "model_3.add(BatchNormalization())\n",
        "\n",
        "model_3.add(MaxPooling2D(pool_size=(2, 2)))\n",
        "model_3.add(BatchNormalization())\n",
        "\n",
        "model_3.add(Flatten())\n",
        "\n",
        "dense_layer_1024_1 = Dense(1024, activation='relu')\n",
        "dense_layer_1024_2 = Dense(1024, activation='relu')\n",
        "\n",
        "model_3.add(dense_layer_1024_1)\n",
        "model_3.add(Dropout(0.25))\n",
        "model_3.add(dense_layer_1024_2)\n",
        "\n",
        "prediction_layer = keras.layers.Dense(25, activation='softmax')\n",
        "\n",
        "model_3.add(prediction_layer)"
      ],
      "execution_count": null,
      "outputs": [
        {
          "output_type": "stream",
          "text": [
            "Downloading data from https://storage.googleapis.com/tensorflow/keras-applications/densenet/densenet201_weights_tf_dim_ordering_tf_kernels_notop.h5\n",
            "74842112/74836368 [==============================] - 1s 0us/step\n"
          ],
          "name": "stdout"
        }
      ]
    },
    {
      "cell_type": "code",
      "metadata": {
        "id": "n5mbL4HMysTA"
      },
      "source": [
        "opt = tf.keras.optimizers.Adagrad()\n",
        "\n",
        "model_3.compile(loss=\"categorical_crossentropy\",\n",
        "              optimizer=opt,\n",
        "\t            metrics=[ 'categorical_accuracy',\n",
        "                      tfa.metrics.F1Score(num_classes=25, average='weighted')],\n",
        "              )"
      ],
      "execution_count": null,
      "outputs": []
    },
    {
      "cell_type": "code",
      "metadata": {
        "id": "fxiVL1Agyy1M"
      },
      "source": [
        "checkpointer = ModelCheckpoint(\"modelo_3/densenet\" +\n",
        "                               \"_ms_transfer_final.\" +\n",
        "                               \"{epoch:02d}-{val_categorical_accuracy:.3f}\" +\n",
        "                               \".hdf5\",\n",
        "                               monitor='val_categorical_accuracy',\n",
        "                               verbose=1,\n",
        "                               save_best_only=True,\n",
        "                               mode='max')\n",
        "\n",
        "earlystopper = EarlyStopping(monitor='val_categorical_accuracy',\n",
        "                             patience=10,\n",
        "                             mode='max')\n"
      ],
      "execution_count": null,
      "outputs": []
    },
    {
      "cell_type": "code",
      "metadata": {
        "id": "jtSAFt6djI3b",
        "colab": {
          "base_uri": "https://localhost:8080/"
        },
        "outputId": "4e7cb482-7704-4a77-e688-ad92927d28de"
      },
      "source": [
        "tf.random.set_seed(2021)\n",
        "\n",
        "model_history_3 = model_3.fit(  \n",
        "    train_data_gen,\n",
        "    epochs=100,\n",
        "    validation_data=valid_data_gen,\n",
        "    validation_steps= valid_data_gen.n // batch_size,\n",
        "    callbacks=[checkpointer, earlystopper])"
      ],
      "execution_count": null,
      "outputs": [
        {
          "output_type": "stream",
          "text": [
            "Epoch 1/100\n",
            "63/63 [==============================] - 761s 12s/step - loss: 2.6319 - categorical_accuracy: 0.3250 - f1_score: 0.3169 - val_loss: 7.5042 - val_categorical_accuracy: 0.0750 - val_f1_score: 0.0490\n",
            "\n",
            "Epoch 00001: val_categorical_accuracy improved from -inf to 0.07500, saving model to modelo_3/densenet_ms_transfer_final.01-0.075.hdf5\n",
            "Epoch 2/100\n",
            "63/63 [==============================] - 767s 12s/step - loss: 1.4769 - categorical_accuracy: 0.5777 - f1_score: 0.5731 - val_loss: 3.4708 - val_categorical_accuracy: 0.2625 - val_f1_score: 0.1869\n",
            "\n",
            "Epoch 00002: val_categorical_accuracy improved from 0.07500 to 0.26250, saving model to modelo_3/densenet_ms_transfer_final.02-0.262.hdf5\n",
            "Epoch 3/100\n",
            "63/63 [==============================] - 770s 12s/step - loss: 1.1448 - categorical_accuracy: 0.6416 - f1_score: 0.6407 - val_loss: 1.8489 - val_categorical_accuracy: 0.4458 - val_f1_score: 0.4121\n",
            "\n",
            "Epoch 00003: val_categorical_accuracy improved from 0.26250 to 0.44583, saving model to modelo_3/densenet_ms_transfer_final.03-0.446.hdf5\n",
            "Epoch 4/100\n",
            "63/63 [==============================] - 768s 12s/step - loss: 0.9924 - categorical_accuracy: 0.6922 - f1_score: 0.6912 - val_loss: 1.0525 - val_categorical_accuracy: 0.6375 - val_f1_score: 0.6260\n",
            "\n",
            "Epoch 00004: val_categorical_accuracy improved from 0.44583 to 0.63750, saving model to modelo_3/densenet_ms_transfer_final.04-0.637.hdf5\n",
            "Epoch 5/100\n",
            "63/63 [==============================] - 760s 12s/step - loss: 0.9851 - categorical_accuracy: 0.7189 - f1_score: 0.7186 - val_loss: 0.8028 - val_categorical_accuracy: 0.7646 - val_f1_score: 0.7610\n",
            "\n",
            "Epoch 00005: val_categorical_accuracy improved from 0.63750 to 0.76458, saving model to modelo_3/densenet_ms_transfer_final.05-0.765.hdf5\n",
            "Epoch 6/100\n",
            "63/63 [==============================] - 766s 12s/step - loss: 0.8079 - categorical_accuracy: 0.7371 - f1_score: 0.7365 - val_loss: 0.8263 - val_categorical_accuracy: 0.7521 - val_f1_score: 0.7504\n",
            "\n",
            "Epoch 00006: val_categorical_accuracy did not improve from 0.76458\n",
            "Epoch 7/100\n",
            "63/63 [==============================] - 758s 12s/step - loss: 0.7162 - categorical_accuracy: 0.7465 - f1_score: 0.7478 - val_loss: 0.8109 - val_categorical_accuracy: 0.7750 - val_f1_score: 0.7673\n",
            "\n",
            "Epoch 00007: val_categorical_accuracy improved from 0.76458 to 0.77500, saving model to modelo_3/densenet_ms_transfer_final.07-0.775.hdf5\n",
            "Epoch 8/100\n",
            "63/63 [==============================] - 768s 12s/step - loss: 0.5846 - categorical_accuracy: 0.8032 - f1_score: 0.8018 - val_loss: 0.8840 - val_categorical_accuracy: 0.7146 - val_f1_score: 0.7066\n",
            "\n",
            "Epoch 00008: val_categorical_accuracy did not improve from 0.77500\n",
            "Epoch 9/100\n",
            "63/63 [==============================] - 765s 12s/step - loss: 0.5670 - categorical_accuracy: 0.8057 - f1_score: 0.8058 - val_loss: 0.8599 - val_categorical_accuracy: 0.7458 - val_f1_score: 0.7381\n",
            "\n",
            "Epoch 00009: val_categorical_accuracy did not improve from 0.77500\n",
            "Epoch 10/100\n",
            "63/63 [==============================] - 758s 12s/step - loss: 0.5889 - categorical_accuracy: 0.8048 - f1_score: 0.8062 - val_loss: 0.7667 - val_categorical_accuracy: 0.7646 - val_f1_score: 0.7570\n",
            "\n",
            "Epoch 00010: val_categorical_accuracy did not improve from 0.77500\n",
            "Epoch 11/100\n",
            "63/63 [==============================] - 752s 12s/step - loss: 0.5442 - categorical_accuracy: 0.8347 - f1_score: 0.8349 - val_loss: 0.7600 - val_categorical_accuracy: 0.7854 - val_f1_score: 0.7799\n",
            "\n",
            "Epoch 00011: val_categorical_accuracy improved from 0.77500 to 0.78542, saving model to modelo_3/densenet_ms_transfer_final.11-0.785.hdf5\n",
            "Epoch 12/100\n",
            "63/63 [==============================] - 771s 12s/step - loss: 0.5399 - categorical_accuracy: 0.8245 - f1_score: 0.8249 - val_loss: 1.1127 - val_categorical_accuracy: 0.6812 - val_f1_score: 0.6530\n",
            "\n",
            "Epoch 00012: val_categorical_accuracy did not improve from 0.78542\n",
            "Epoch 13/100\n",
            "63/63 [==============================] - 753s 12s/step - loss: 0.4664 - categorical_accuracy: 0.8397 - f1_score: 0.8409 - val_loss: 0.7350 - val_categorical_accuracy: 0.8000 - val_f1_score: 0.7870\n",
            "\n",
            "Epoch 00013: val_categorical_accuracy improved from 0.78542 to 0.80000, saving model to modelo_3/densenet_ms_transfer_final.13-0.800.hdf5\n",
            "Epoch 14/100\n",
            "63/63 [==============================] - 759s 12s/step - loss: 0.3884 - categorical_accuracy: 0.8622 - f1_score: 0.8622 - val_loss: 0.8779 - val_categorical_accuracy: 0.8000 - val_f1_score: 0.7931\n",
            "\n",
            "Epoch 00014: val_categorical_accuracy did not improve from 0.80000\n",
            "Epoch 15/100\n",
            "63/63 [==============================] - 760s 12s/step - loss: 0.3926 - categorical_accuracy: 0.8670 - f1_score: 0.8659 - val_loss: 0.7429 - val_categorical_accuracy: 0.7917 - val_f1_score: 0.7882\n",
            "\n",
            "Epoch 00015: val_categorical_accuracy did not improve from 0.80000\n",
            "Epoch 16/100\n",
            "63/63 [==============================] - 758s 12s/step - loss: 0.4079 - categorical_accuracy: 0.8656 - f1_score: 0.8655 - val_loss: 0.7348 - val_categorical_accuracy: 0.8292 - val_f1_score: 0.8273\n",
            "\n",
            "Epoch 00016: val_categorical_accuracy improved from 0.80000 to 0.82917, saving model to modelo_3/densenet_ms_transfer_final.16-0.829.hdf5\n",
            "Epoch 17/100\n",
            "63/63 [==============================] - 770s 12s/step - loss: 0.3651 - categorical_accuracy: 0.8862 - f1_score: 0.8864 - val_loss: 0.7942 - val_categorical_accuracy: 0.8292 - val_f1_score: 0.8240\n",
            "\n",
            "Epoch 00017: val_categorical_accuracy did not improve from 0.82917\n",
            "Epoch 18/100\n",
            "63/63 [==============================] - 765s 12s/step - loss: 0.3886 - categorical_accuracy: 0.8973 - f1_score: 0.8974 - val_loss: 0.6350 - val_categorical_accuracy: 0.8333 - val_f1_score: 0.8282\n",
            "\n",
            "Epoch 00018: val_categorical_accuracy improved from 0.82917 to 0.83333, saving model to modelo_3/densenet_ms_transfer_final.18-0.833.hdf5\n",
            "Epoch 19/100\n",
            "63/63 [==============================] - 763s 12s/step - loss: 0.3194 - categorical_accuracy: 0.8916 - f1_score: 0.8916 - val_loss: 0.8005 - val_categorical_accuracy: 0.7771 - val_f1_score: 0.7731\n",
            "\n",
            "Epoch 00019: val_categorical_accuracy did not improve from 0.83333\n",
            "Epoch 20/100\n",
            "63/63 [==============================] - 761s 12s/step - loss: 0.3438 - categorical_accuracy: 0.8781 - f1_score: 0.8778 - val_loss: 0.7263 - val_categorical_accuracy: 0.8250 - val_f1_score: 0.8208\n",
            "\n",
            "Epoch 00020: val_categorical_accuracy did not improve from 0.83333\n",
            "Epoch 21/100\n",
            "63/63 [==============================] - 765s 12s/step - loss: 0.2425 - categorical_accuracy: 0.9124 - f1_score: 0.9121 - val_loss: 0.8999 - val_categorical_accuracy: 0.8375 - val_f1_score: 0.8379\n",
            "\n",
            "Epoch 00021: val_categorical_accuracy improved from 0.83333 to 0.83750, saving model to modelo_3/densenet_ms_transfer_final.21-0.837.hdf5\n",
            "Epoch 22/100\n",
            "63/63 [==============================] - 750s 12s/step - loss: 0.2575 - categorical_accuracy: 0.9134 - f1_score: 0.9135 - val_loss: 0.6515 - val_categorical_accuracy: 0.8396 - val_f1_score: 0.8375\n",
            "\n",
            "Epoch 00022: val_categorical_accuracy improved from 0.83750 to 0.83958, saving model to modelo_3/densenet_ms_transfer_final.22-0.840.hdf5\n",
            "Epoch 23/100\n",
            "63/63 [==============================] - 775s 12s/step - loss: 0.3392 - categorical_accuracy: 0.8937 - f1_score: 0.8942 - val_loss: 0.6351 - val_categorical_accuracy: 0.8354 - val_f1_score: 0.8332\n",
            "\n",
            "Epoch 00023: val_categorical_accuracy did not improve from 0.83958\n",
            "Epoch 24/100\n",
            "63/63 [==============================] - 755s 12s/step - loss: 0.2731 - categorical_accuracy: 0.9083 - f1_score: 0.9085 - val_loss: 0.8519 - val_categorical_accuracy: 0.7750 - val_f1_score: 0.7710\n",
            "\n",
            "Epoch 00024: val_categorical_accuracy did not improve from 0.83958\n",
            "Epoch 25/100\n",
            "63/63 [==============================] - 758s 12s/step - loss: 0.2886 - categorical_accuracy: 0.8969 - f1_score: 0.8970 - val_loss: 0.7265 - val_categorical_accuracy: 0.8104 - val_f1_score: 0.8054\n",
            "\n",
            "Epoch 00025: val_categorical_accuracy did not improve from 0.83958\n",
            "Epoch 26/100\n",
            "63/63 [==============================] - 752s 12s/step - loss: 0.2542 - categorical_accuracy: 0.9148 - f1_score: 0.9148 - val_loss: 0.9126 - val_categorical_accuracy: 0.7521 - val_f1_score: 0.7404\n",
            "\n",
            "Epoch 00026: val_categorical_accuracy did not improve from 0.83958\n",
            "Epoch 27/100\n",
            "63/63 [==============================] - 762s 12s/step - loss: 0.2283 - categorical_accuracy: 0.9285 - f1_score: 0.9286 - val_loss: 0.6975 - val_categorical_accuracy: 0.8104 - val_f1_score: 0.8072\n",
            "\n",
            "Epoch 00027: val_categorical_accuracy did not improve from 0.83958\n",
            "Epoch 28/100\n",
            "63/63 [==============================] - 756s 12s/step - loss: 0.1918 - categorical_accuracy: 0.9391 - f1_score: 0.9390 - val_loss: 0.6347 - val_categorical_accuracy: 0.8438 - val_f1_score: 0.8422\n",
            "\n",
            "Epoch 00028: val_categorical_accuracy improved from 0.83958 to 0.84375, saving model to modelo_3/densenet_ms_transfer_final.28-0.844.hdf5\n",
            "Epoch 29/100\n",
            "63/63 [==============================] - 767s 12s/step - loss: 0.1793 - categorical_accuracy: 0.9481 - f1_score: 0.9483 - val_loss: 0.8828 - val_categorical_accuracy: 0.8521 - val_f1_score: 0.8513\n",
            "\n",
            "Epoch 00029: val_categorical_accuracy improved from 0.84375 to 0.85208, saving model to modelo_3/densenet_ms_transfer_final.29-0.852.hdf5\n",
            "Epoch 30/100\n",
            "63/63 [==============================] - 772s 12s/step - loss: 0.1439 - categorical_accuracy: 0.9561 - f1_score: 0.9561 - val_loss: 0.9300 - val_categorical_accuracy: 0.8292 - val_f1_score: 0.8267\n",
            "\n",
            "Epoch 00030: val_categorical_accuracy did not improve from 0.85208\n",
            "Epoch 31/100\n",
            "63/63 [==============================] - 776s 12s/step - loss: 0.2074 - categorical_accuracy: 0.9386 - f1_score: 0.9389 - val_loss: 1.0110 - val_categorical_accuracy: 0.7125 - val_f1_score: 0.6949\n",
            "\n",
            "Epoch 00031: val_categorical_accuracy did not improve from 0.85208\n",
            "Epoch 32/100\n",
            "63/63 [==============================] - 781s 12s/step - loss: 0.1950 - categorical_accuracy: 0.9337 - f1_score: 0.9333 - val_loss: 0.8471 - val_categorical_accuracy: 0.8646 - val_f1_score: 0.8623\n",
            "\n",
            "Epoch 00032: val_categorical_accuracy improved from 0.85208 to 0.86458, saving model to modelo_3/densenet_ms_transfer_final.32-0.865.hdf5\n",
            "Epoch 33/100\n",
            "63/63 [==============================] - 789s 13s/step - loss: 0.1553 - categorical_accuracy: 0.9497 - f1_score: 0.9497 - val_loss: 0.9596 - val_categorical_accuracy: 0.7417 - val_f1_score: 0.7305\n",
            "\n",
            "Epoch 00033: val_categorical_accuracy did not improve from 0.86458\n",
            "Epoch 34/100\n",
            "63/63 [==============================] - 784s 12s/step - loss: 0.1692 - categorical_accuracy: 0.9544 - f1_score: 0.9545 - val_loss: 0.9417 - val_categorical_accuracy: 0.8271 - val_f1_score: 0.8250\n",
            "\n",
            "Epoch 00034: val_categorical_accuracy did not improve from 0.86458\n",
            "Epoch 35/100\n",
            "63/63 [==============================] - 781s 12s/step - loss: 0.1633 - categorical_accuracy: 0.9419 - f1_score: 0.9420 - val_loss: 0.6528 - val_categorical_accuracy: 0.8396 - val_f1_score: 0.8380\n",
            "\n",
            "Epoch 00035: val_categorical_accuracy did not improve from 0.86458\n",
            "Epoch 36/100\n",
            "63/63 [==============================] - 783s 12s/step - loss: 0.1481 - categorical_accuracy: 0.9576 - f1_score: 0.9571 - val_loss: 0.7652 - val_categorical_accuracy: 0.8146 - val_f1_score: 0.8098\n",
            "\n",
            "Epoch 00036: val_categorical_accuracy did not improve from 0.86458\n",
            "Epoch 37/100\n",
            "63/63 [==============================] - 807s 13s/step - loss: 0.1395 - categorical_accuracy: 0.9578 - f1_score: 0.9577 - val_loss: 0.8097 - val_categorical_accuracy: 0.8062 - val_f1_score: 0.8046\n",
            "\n",
            "Epoch 00037: val_categorical_accuracy did not improve from 0.86458\n",
            "Epoch 38/100\n",
            "63/63 [==============================] - 808s 13s/step - loss: 0.1897 - categorical_accuracy: 0.9350 - f1_score: 0.9352 - val_loss: 0.6456 - val_categorical_accuracy: 0.8354 - val_f1_score: 0.8328\n",
            "\n",
            "Epoch 00038: val_categorical_accuracy did not improve from 0.86458\n",
            "Epoch 39/100\n",
            "63/63 [==============================] - 798s 13s/step - loss: 0.1792 - categorical_accuracy: 0.9477 - f1_score: 0.9480 - val_loss: 0.7899 - val_categorical_accuracy: 0.8104 - val_f1_score: 0.8055\n",
            "\n",
            "Epoch 00039: val_categorical_accuracy did not improve from 0.86458\n",
            "Epoch 40/100\n",
            "63/63 [==============================] - 824s 13s/step - loss: 0.1610 - categorical_accuracy: 0.9496 - f1_score: 0.9495 - val_loss: 1.2278 - val_categorical_accuracy: 0.7312 - val_f1_score: 0.7105\n",
            "\n",
            "Epoch 00040: val_categorical_accuracy did not improve from 0.86458\n",
            "Epoch 41/100\n",
            "63/63 [==============================] - 803s 13s/step - loss: 0.1273 - categorical_accuracy: 0.9579 - f1_score: 0.9573 - val_loss: 0.6844 - val_categorical_accuracy: 0.8333 - val_f1_score: 0.8327\n",
            "\n",
            "Epoch 00041: val_categorical_accuracy did not improve from 0.86458\n",
            "Epoch 42/100\n",
            "63/63 [==============================] - 810s 13s/step - loss: 0.1445 - categorical_accuracy: 0.9632 - f1_score: 0.9630 - val_loss: 0.6468 - val_categorical_accuracy: 0.8542 - val_f1_score: 0.8516\n",
            "\n",
            "Epoch 00042: val_categorical_accuracy did not improve from 0.86458\n"
          ],
          "name": "stdout"
        }
      ]
    },
    {
      "cell_type": "markdown",
      "metadata": {
        "id": "e3EB2vQLyl9o"
      },
      "source": [
        "#### Fine Tunning"
      ]
    },
    {
      "cell_type": "code",
      "metadata": {
        "id": "NThLg6ERjEpZ"
      },
      "source": [
        "opt = tf.keras.optimizers.Adagrad()\n",
        "\n",
        "model_3.compile(loss=\"categorical_crossentropy\",\n",
        "              optimizer=opt,\n",
        "\t            metrics=[ 'categorical_crossentropy', tfa.metrics.F1Score(num_classes=25, average='weighted')],\n",
        "              )"
      ],
      "execution_count": null,
      "outputs": []
    },
    {
      "cell_type": "code",
      "metadata": {
        "id": "mnNKLDE7yJxf"
      },
      "source": [
        "checkpointer = ModelCheckpoint(\"resnet50\" +\n",
        "                               \"_ms_transfer_final.\" +\n",
        "                               \"{epoch:02d}-{val_categorical_accuracy:.3f}\" +\n",
        "                               \".hdf5\",\n",
        "                               monitor='val_categorical_accuracy',\n",
        "                               verbose=1,\n",
        "                               save_best_only=True,\n",
        "                               mode='max')\n",
        "\n",
        "earlystopper = EarlyStopping(monitor='val_categorical_accuracy',\n",
        "                             patience=10,\n",
        "                             mode='max')\n"
      ],
      "execution_count": null,
      "outputs": []
    },
    {
      "cell_type": "markdown",
      "metadata": {
        "id": "4Q0j18fwKsOS"
      },
      "source": [
        "#### Predicciones"
      ]
    },
    {
      "cell_type": "code",
      "metadata": {
        "id": "4yZhcH3FXLL_"
      },
      "source": [
        "make_predictions(model,  name_file_submission='model_2048_512_1024.csv')"
      ],
      "execution_count": null,
      "outputs": []
    }
  ]
}