{
  "nbformat": 4,
  "nbformat_minor": 0,
  "metadata": {
    "colab": {
      "name": "Presentacion.ipynb",
      "provenance": [],
      "toc_visible": true,
      "authorship_tag": "ABX9TyOT2jSVppKQA9X6H3FX42xN",
      "include_colab_link": true
    },
    "kernelspec": {
      "name": "python3",
      "display_name": "Python 3"
    }
  },
  "cells": [
    {
      "cell_type": "markdown",
      "metadata": {
        "id": "view-in-github",
        "colab_type": "text"
      },
      "source": [
        "<a href=\"https://colab.research.google.com/github/lucabem/CompeticionMineria/blob/main/Presentacion.ipynb\" target=\"_parent\"><img src=\"https://colab.research.google.com/assets/colab-badge.svg\" alt=\"Open In Colab\"/></a>"
      ]
    },
    {
      "cell_type": "markdown",
      "metadata": {
        "id": "A6dPDRMCfqIn"
      },
      "source": [
        "# 1. Cargar paquetes"
      ]
    },
    {
      "cell_type": "code",
      "metadata": {
        "id": "uFLwhgROfqvR"
      },
      "source": [
        "import os\r\n",
        "import tensorflow as tf\r\n",
        "from tensorflow import keras\r\n",
        "\r\n",
        "from keras.preprocessing import image\r\n",
        "import numpy as np\r\n",
        "import pandas as pd\r\n",
        "from google.colab import files"
      ],
      "execution_count": 1,
      "outputs": []
    },
    {
      "cell_type": "markdown",
      "metadata": {
        "id": "OwC5aBVOfwRk"
      },
      "source": [
        "# 2. Cargar modelo"
      ]
    },
    {
      "cell_type": "markdown",
      "metadata": {
        "id": "Z_Vtp3H0mF_9"
      },
      "source": [
        "Se carga manualmente."
      ]
    },
    {
      "cell_type": "code",
      "metadata": {
        "id": "DNsO6OZz7Ru7"
      },
      "source": [
        "os.chdir(\"/content\")"
      ],
      "execution_count": 28,
      "outputs": []
    },
    {
      "cell_type": "code",
      "metadata": {
        "colab": {
          "base_uri": "https://localhost:8080/"
        },
        "id": "aH60sKfc7vNB",
        "outputId": "bee3a19c-fa84-4b2d-b589-5803f43d3296"
      },
      "source": [
        "ls"
      ],
      "execution_count": 37,
      "outputs": [
        {
          "output_type": "stream",
          "text": [
            "\u001b[0m\u001b[01;34msample_data\u001b[0m/  saved_model.pb  \u001b[01;34mtest\u001b[0m/  test.zip\n"
          ],
          "name": "stdout"
        }
      ]
    },
    {
      "cell_type": "code",
      "metadata": {
        "colab": {
          "base_uri": "https://localhost:8080/",
          "height": 163
        },
        "id": "wzJXq0Vo930P",
        "outputId": "102800bf-cafa-4cfb-c999-e4038ca74fd4"
      },
      "source": [
        "type(saved_model.pb)"
      ],
      "execution_count": 42,
      "outputs": [
        {
          "output_type": "error",
          "ename": "NameError",
          "evalue": "ignored",
          "traceback": [
            "\u001b[0;31m---------------------------------------------------------------------------\u001b[0m",
            "\u001b[0;31mNameError\u001b[0m                                 Traceback (most recent call last)",
            "\u001b[0;32m<ipython-input-42-8f1c12517b42>\u001b[0m in \u001b[0;36m<module>\u001b[0;34m()\u001b[0m\n\u001b[0;32m----> 1\u001b[0;31m \u001b[0mtype\u001b[0m\u001b[0;34m(\u001b[0m\u001b[0msaved_model\u001b[0m\u001b[0;34m.\u001b[0m\u001b[0mpb\u001b[0m\u001b[0;34m)\u001b[0m\u001b[0;34m\u001b[0m\u001b[0;34m\u001b[0m\u001b[0m\n\u001b[0m",
            "\u001b[0;31mNameError\u001b[0m: name 'saved_model' is not defined"
          ]
        }
      ]
    },
    {
      "cell_type": "markdown",
      "metadata": {
        "id": "PTc0k3bpf0CQ"
      },
      "source": [
        "# 3. Cargar dataset"
      ]
    },
    {
      "cell_type": "markdown",
      "metadata": {
        "id": "lcB5VdVWmKCI"
      },
      "source": [
        "Se carga manualmente y se descomprime."
      ]
    },
    {
      "cell_type": "code",
      "metadata": {
        "colab": {
          "base_uri": "https://localhost:8080/"
        },
        "id": "i9h_7Tn_nGGn",
        "outputId": "5e70b66f-910e-4c3d-92b1-f19736608ce6"
      },
      "source": [
        "!unzip \"test.zip\""
      ],
      "execution_count": 4,
      "outputs": [
        {
          "output_type": "stream",
          "text": [
            "Archive:  test.zip\n",
            "   creating: test/\n",
            "  inflating: test/Forest_CDN_17.jpg  \n",
            "  inflating: test/Forest_CDN_18.jpg  \n",
            "  inflating: test/Forest_CDN_19.jpg  \n",
            "  inflating: test/Forest_CDN_2.jpg   \n",
            "  inflating: test/Forest_CDN_3.jpg   \n",
            "  inflating: test/Forest_CDN_4.jpg   \n",
            "  inflating: test/Forest_CDN_5.jpg   \n",
            "  inflating: test/Forest_CDN_6.jpg   \n",
            "  inflating: test/Forest_CDN_7.jpg   \n",
            "  inflating: test/Forest_CDN_8.jpg   \n",
            "  inflating: test/Forest_CDN_9.jpg   \n",
            "  inflating: test/Forest_CEB.jpg     \n",
            "  inflating: test/Forest_CEB_1.jpg   \n",
            "  inflating: test/Forest_CEB_10.jpg  \n",
            "  inflating: test/Forest_CEB_11.jpg  \n",
            "  inflating: test/Forest_CEB_12.jpg  \n",
            "  inflating: test/Forest_CEB_13.jpg  \n",
            "  inflating: test/Forest_CEB_14.jpg  \n",
            "  inflating: test/Forest_CEB_15.jpg  \n",
            "  inflating: test/Forest_CEB_16.jpg  \n",
            "  inflating: test/Forest_CEB_17.jpg  \n",
            "  inflating: test/Forest_CEB_18.jpg  \n",
            "  inflating: test/Forest_CEB_19.jpg  \n",
            "  inflating: test/Forest_CEB_2.jpg   \n",
            "  inflating: test/Forest_CEB_3.jpg   \n",
            "  inflating: test/Forest_CEB_4.jpg   \n",
            "  inflating: test/Forest_CEB_5.jpg   \n",
            "  inflating: test/Forest_CEB_6.jpg   \n",
            "  inflating: test/Forest_CEB_7.jpg   \n",
            "  inflating: test/Forest_CEB_8.jpg   \n",
            "  inflating: test/Forest_CEB_9.jpg   \n",
            "  inflating: test/Forest_CEN.jpg     \n",
            "  inflating: test/Forest_CEN_1.jpg   \n",
            "  inflating: test/Forest_CEN_10.jpg  \n",
            "  inflating: test/Forest_CEN_11.jpg  \n",
            "  inflating: test/Forest_CEN_12.jpg  \n",
            "  inflating: test/Forest_CEN_13.jpg  \n",
            "  inflating: test/Forest_CEN_14.jpg  \n",
            "  inflating: test/Forest_CEN_15.jpg  \n",
            "  inflating: test/Forest_CEN_16.jpg  \n",
            "  inflating: test/Forest_CEN_17.jpg  \n",
            "  inflating: test/Forest_CEN_18.jpg  \n",
            "  inflating: test/Forest_CEN_19.jpg  \n",
            "  inflating: test/Forest_CEN_2.jpg   \n",
            "  inflating: test/Forest_CEN_3.jpg   \n",
            "  inflating: test/Forest_CEN_4.jpg   \n",
            "  inflating: test/Forest_CEN_5.jpg   \n",
            "  inflating: test/Forest_CEN_6.jpg   \n",
            "  inflating: test/Forest_CEN_7.jpg   \n",
            "  inflating: test/Forest_CEN_8.jpg   \n",
            "  inflating: test/Forest_CEN_9.jpg   \n",
            "  inflating: test/Forest_DDB.jpg     \n",
            "  inflating: test/Forest_DDB_1.jpg   \n",
            "  inflating: test/Forest_DDB_10.jpg  \n",
            "  inflating: test/Forest_DDB_11.jpg  \n",
            "  inflating: test/Forest_DDB_12.jpg  \n",
            "  inflating: test/Forest_DDB_13.jpg  \n",
            "  inflating: test/Forest_DDB_14.jpg  \n",
            "  inflating: test/Forest_DDB_15.jpg  \n",
            "  inflating: test/Forest_DDB_16.jpg  \n",
            "  inflating: test/Forest_DDB_17.jpg  \n",
            "  inflating: test/Forest_DDB_18.jpg  \n",
            "  inflating: test/Forest_DDB_19.jpg  \n",
            "  inflating: test/Forest_DDB_2.jpg   \n",
            "  inflating: test/Forest_DDB_3.jpg   \n",
            "  inflating: test/Forest_DDB_4.jpg   \n",
            "  inflating: test/Forest_DDB_5.jpg   \n",
            "  inflating: test/Forest_DDB_6.jpg   \n",
            "  inflating: test/Forest_DDB_7.jpg   \n",
            "  inflating: test/Forest_DDB_8.jpg   \n",
            "  inflating: test/Forest_DDB_9.jpg   \n",
            "  inflating: test/Forest_DDN.jpg     \n",
            "  inflating: test/Forest_DDN_1.jpg   \n",
            "  inflating: test/Forest_DDN_10.jpg  \n",
            "  inflating: test/Forest_DDN_11.jpg  \n",
            "  inflating: test/Forest_DDN_12.jpg  \n",
            "  inflating: test/Forest_DDN_13.jpg  \n",
            "  inflating: test/Forest_DDN_14.jpg  \n",
            "  inflating: test/Forest_DDN_15.jpg  \n",
            "  inflating: test/Forest_DDN_16.jpg  \n",
            "  inflating: test/Forest_DDN_17.jpg  \n",
            "  inflating: test/Forest_DDN_18.jpg  \n",
            "  inflating: test/Forest_DDN_19.jpg  \n",
            "  inflating: test/Forest_DDN_2.jpg   \n",
            "  inflating: test/Forest_DDN_3.jpg   \n",
            "  inflating: test/Forest_DDN_4.jpg   \n",
            "  inflating: test/Forest_DDN_5.jpg   \n",
            "  inflating: test/Forest_DDN_6.jpg   \n",
            "  inflating: test/Forest_DDN_7.jpg   \n",
            "  inflating: test/Forest_DDN_8.jpg   \n",
            "  inflating: test/Forest_DDN_9.jpg   \n",
            "  inflating: test/Forest_DEB.jpg     \n",
            "  inflating: test/Forest_DEB_1.jpg   \n",
            "  inflating: test/Forest_DEB_10.jpg  \n",
            "  inflating: test/Forest_DEB_11.jpg  \n",
            "  inflating: test/Forest_DEB_12.jpg  \n",
            "  inflating: test/Forest_DEB_13.jpg  \n",
            "  inflating: test/Forest_DEB_14.jpg  \n",
            "  inflating: test/Forest_DEB_15.jpg  \n",
            "  inflating: test/Forest_DEB_16.jpg  \n",
            "  inflating: test/Forest_DEB_17.jpg  \n",
            "  inflating: test/Forest_DEB_18.jpg  \n",
            "  inflating: test/Forest_DEB_19.jpg  \n",
            "  inflating: test/Forest_DEB_2.jpg   \n",
            "  inflating: test/Forest_DEB_3.jpg   \n",
            "  inflating: test/Forest_DEB_4.jpg   \n",
            "  inflating: test/Forest_DEB_5.jpg   \n",
            "  inflating: test/Forest_DEB_6.jpg   \n",
            "  inflating: test/Forest_DEB_7.jpg   \n",
            "  inflating: test/Forest_DEB_8.jpg   \n",
            "  inflating: test/Forest_DEB_9.jpg   \n",
            "  inflating: test/Forest_DEN.jpg     \n",
            "  inflating: test/Forest_DEN_1.jpg   \n",
            "  inflating: test/Forest_DEN_10.jpg  \n",
            "  inflating: test/Forest_DEN_11.jpg  \n",
            "  inflating: test/Forest_DEN_12.jpg  \n",
            "  inflating: test/Forest_DEN_13.jpg  \n",
            "  inflating: test/Forest_DEN_14.jpg  \n",
            "  inflating: test/Forest_DEN_15.jpg  \n",
            "  inflating: test/Forest_DEN_16.jpg  \n",
            "  inflating: test/Forest_DEN_17.jpg  \n",
            "  inflating: test/Forest_DEN_18.jpg  \n",
            "  inflating: test/Forest_DEN_19.jpg  \n",
            "  inflating: test/Forest_DEN_2.jpg   \n",
            "  inflating: test/Forest_DEN_3.jpg   \n",
            "  inflating: test/Forest_DEN_4.jpg   \n",
            "  inflating: test/Forest_DEN_5.jpg   \n",
            "  inflating: test/Forest_DEN_6.jpg   \n",
            "  inflating: test/Forest_DEN_7.jpg   \n",
            "  inflating: test/Forest_DEN_8.jpg   \n",
            "  inflating: test/Forest_DEN_9.jpg   \n",
            "  inflating: test/Forest_ODB.jpg     \n",
            "  inflating: test/Forest_ODB_1.jpg   \n",
            "  inflating: test/Forest_ODB_10.jpg  \n",
            "  inflating: test/Forest_ODB_11.jpg  \n",
            "  inflating: test/Forest_ODB_12.jpg  \n",
            "  inflating: test/Forest_ODB_13.jpg  \n",
            "  inflating: test/Forest_ODB_14.jpg  \n",
            "  inflating: test/Forest_ODB_15.jpg  \n",
            "  inflating: test/Forest_ODB_16.jpg  \n",
            "  inflating: test/Forest_ODB_17.jpg  \n",
            "  inflating: test/Forest_ODB_18.jpg  \n",
            "  inflating: test/Forest_ODB_19.jpg  \n",
            "  inflating: test/Forest_ODB_2.jpg   \n",
            "  inflating: test/Forest_ODB_3.jpg   \n",
            "  inflating: test/Forest_ODB_4.jpg   \n",
            "  inflating: test/Forest_ODB_5.jpg   \n",
            "  inflating: test/Forest_ODB_6.jpg   \n",
            "  inflating: test/Forest_ODB_7.jpg   \n",
            "  inflating: test/Forest_ODB_8.jpg   \n",
            "  inflating: test/Forest_ODB_9.jpg   \n",
            "  inflating: test/Forest_ODN.jpg     \n",
            "  inflating: test/Forest_ODN_1.jpg   \n",
            "  inflating: test/Forest_ODN_10.jpg  \n",
            "  inflating: test/Forest_ODN_11.jpg  \n",
            "  inflating: test/Forest_ODN_12.jpg  \n",
            "  inflating: test/Forest_ODN_13.jpg  \n",
            "  inflating: test/Forest_ODN_14.jpg  \n",
            "  inflating: test/Forest_ODN_15.jpg  \n",
            "  inflating: test/Forest_ODN_16.jpg  \n",
            "  inflating: test/Forest_ODN_17.jpg  \n",
            "  inflating: test/Forest_ODN_18.jpg  \n",
            "  inflating: test/Forest_ODN_19.jpg  \n",
            "  inflating: test/Forest_ODN_2.jpg   \n",
            "  inflating: test/Forest_ODN_3.jpg   \n",
            "  inflating: test/Forest_ODN_4.jpg   \n",
            "  inflating: test/Forest_ODN_5.jpg   \n",
            "  inflating: test/Forest_ODN_6.jpg   \n",
            "  inflating: test/Forest_ODN_7.jpg   \n",
            "  inflating: test/Forest_ODN_8.jpg   \n",
            "  inflating: test/Forest_ODN_9.jpg   \n",
            "  inflating: test/Forest_OEB.jpg     \n",
            "  inflating: test/Forest_OEB_1.jpg   \n",
            "  inflating: test/Forest_OEB_10.jpg  \n",
            "  inflating: test/Forest_OEB_11.jpg  \n",
            "  inflating: test/Forest_OEB_12.jpg  \n",
            "  inflating: test/Forest_OEB_13.jpg  \n",
            "  inflating: test/Forest_OEB_14.jpg  \n",
            "  inflating: test/Forest_OEB_15.jpg  \n",
            "  inflating: test/Forest_OEB_16.jpg  \n",
            "  inflating: test/Forest_OEB_17.jpg  \n",
            "  inflating: test/Forest_OEB_18.jpg  \n",
            "  inflating: test/Forest_OEB_19.jpg  \n",
            "  inflating: test/Forest_OEB_2.jpg   \n",
            "  inflating: test/Forest_OEB_3.jpg   \n",
            "  inflating: test/Forest_OEB_4.jpg   \n",
            "  inflating: test/Forest_OEB_5.jpg   \n",
            "  inflating: test/Forest_OEB_6.jpg   \n",
            "  inflating: test/Forest_OEB_7.jpg   \n",
            "  inflating: test/Forest_OEB_8.jpg   \n",
            "  inflating: test/Forest_OEB_9.jpg   \n",
            "  inflating: test/Forest_OEN.jpg     \n",
            "  inflating: test/Forest_OEN_1.jpg   \n",
            "  inflating: test/Forest_OEN_10.jpg  \n",
            "  inflating: test/Forest_OEN_11.jpg  \n",
            "  inflating: test/Forest_OEN_12.jpg  \n",
            "  inflating: test/Forest_OEN_13.jpg  \n",
            "  inflating: test/Forest_OEN_14.jpg  \n",
            "  inflating: test/Forest_OEN_15.jpg  \n",
            "  inflating: test/Forest_OEN_16.jpg  \n",
            "  inflating: test/Forest_OEN_17.jpg  \n",
            "  inflating: test/Forest_OEN_18.jpg  \n",
            "  inflating: test/Forest_OEN_19.jpg  \n",
            "  inflating: test/Forest_OEN_2.jpg   \n",
            "  inflating: test/Forest_OEN_3.jpg   \n",
            "  inflating: test/Forest_OEN_4.jpg   \n",
            "  inflating: test/Forest_OEN_5.jpg   \n",
            "  inflating: test/Forest_OEN_6.jpg   \n",
            "  inflating: test/Forest_OEN_7.jpg   \n",
            "  inflating: test/Forest_OEN_8.jpg   \n",
            "  inflating: test/Forest_OEN_9.jpg   \n",
            "  inflating: test/Grassland__0.jpg   \n",
            "  inflating: test/Grassland__1.jpg   \n",
            "  inflating: test/Grassland__10.jpg  \n",
            "  inflating: test/Grassland__11.jpg  \n",
            "  inflating: test/Grassland__12.jpg  \n",
            "  inflating: test/Grassland__13.jpg  \n",
            "  inflating: test/Grassland__14.jpg  \n",
            "  inflating: test/Grassland__15.jpg  \n",
            "  inflating: test/Grassland__16.jpg  \n",
            "  inflating: test/Grassland__17.jpg  \n",
            "  inflating: test/Grassland__18.jpg  \n",
            "  inflating: test/Grassland__19.jpg  \n",
            "  inflating: test/Grassland__2.jpg   \n",
            "  inflating: test/Grassland__3.jpg   \n",
            "  inflating: test/Grassland__4.jpg   \n",
            "  inflating: test/Grassland__5.jpg   \n",
            "  inflating: test/Grassland__6.jpg   \n",
            "  inflating: test/Grassland__7.jpg   \n",
            "  inflating: test/Grassland__8.jpg   \n",
            "  inflating: test/Grassland__9.jpg   \n",
            "  inflating: test/Marine_Wat_0.jpg   \n",
            "  inflating: test/Marine_Wat_1.jpg   \n",
            "  inflating: test/Marine_Wat_10.jpg  \n",
            "  inflating: test/Marine_Wat_11.jpg  \n",
            "  inflating: test/Marine_Wat_12.jpg  \n",
            "  inflating: test/Marine_Wat_13.jpg  \n",
            "  inflating: test/Marine_Wat_14.jpg  \n",
            "  inflating: test/Marine_Wat_15.jpg  \n",
            "  inflating: test/Marine_Wat_16.jpg  \n",
            "  inflating: test/Marine_Wat_17.jpg  \n",
            "  inflating: test/Marine_Wat_18.jpg  \n",
            "  inflating: test/Marine_Wat_19.jpg  \n",
            "  inflating: test/Marine_Wat_2.jpg   \n",
            "  inflating: test/Marine_Wat_3.jpg   \n",
            "  inflating: test/Marine_Wat_4.jpg   \n",
            "  inflating: test/Marine_Wat_5.jpg   \n",
            "  inflating: test/Marine_Wat_6.jpg   \n",
            "  inflating: test/Marine_Wat_7.jpg   \n",
            "  inflating: test/Marine_Wat_8.jpg   \n",
            "  inflating: test/Marine_Wat_9.jpg   \n",
            "  inflating: test/Marshland__0.jpg   \n",
            "  inflating: test/Marshland__1.jpg   \n",
            "  inflating: test/Marshland__10.jpg  \n",
            "  inflating: test/Marshland__11.jpg  \n",
            "  inflating: test/Marshland__12.jpg  \n",
            "  inflating: test/Marshland__13.jpg  \n",
            "  inflating: test/Marshland__14.jpg  \n",
            "  inflating: test/Marshland__15.jpg  \n",
            "  inflating: test/Marshland__16.jpg  \n",
            "  inflating: test/Marshland__17.jpg  \n",
            "  inflating: test/Marshland__18.jpg  \n",
            "  inflating: test/Marshland__19.jpg  \n",
            "  inflating: test/Marshland__2.jpg   \n",
            "  inflating: test/Marshland__3.jpg   \n",
            "  inflating: test/Marshland__4.jpg   \n",
            "  inflating: test/Marshland__5.jpg   \n",
            "  inflating: test/Marshland__6.jpg   \n",
            "  inflating: test/Marshland__7.jpg   \n",
            "  inflating: test/Marshland__8.jpg   \n",
            "  inflating: test/Marshland__9.jpg   \n",
            "  inflating: test/Moss_and_L_0.jpg   \n",
            "  inflating: test/Moss_and_L_1.jpg   \n",
            "  inflating: test/Moss_and_L_10.jpg  \n",
            "  inflating: test/Moss_and_L_11.jpg  \n",
            "  inflating: test/Moss_and_L_12.jpg  \n",
            "  inflating: test/Moss_and_L_13.jpg  \n",
            "  inflating: test/Moss_and_L_14.jpg  \n",
            "  inflating: test/Moss_and_L_15.jpg  \n",
            "  inflating: test/Moss_and_L_16.jpg  \n",
            "  inflating: test/Moss_and_L_17.jpg  \n",
            "  inflating: test/Moss_and_L_18.jpg  \n",
            "  inflating: test/Moss_and_L_19.jpg  \n",
            "  inflating: test/Moss_and_L_2.jpg   \n",
            "  inflating: test/Moss_and_L_3.jpg   \n",
            "  inflating: test/Moss_and_L_4.jpg   \n",
            "  inflating: test/Moss_and_L_5.jpg   \n",
            "  inflating: test/Moss_and_L_6.jpg   \n",
            "  inflating: test/Moss_and_L_7.jpg   \n",
            "  inflating: test/Moss_and_L_8.jpg   \n",
            "  inflating: test/Moss_and_L_9.jpg   \n",
            "  inflating: test/Open_Shrub_0.jpg   \n",
            "  inflating: test/Open_Shrub_1.jpg   \n",
            "  inflating: test/Open_Shrub_10.jpg  \n",
            "  inflating: test/Open_Shrub_11.jpg  \n",
            "  inflating: test/Open_Shrub_12.jpg  \n",
            "  inflating: test/Open_Shrub_13.jpg  \n",
            "  inflating: test/Open_Shrub_14.jpg  \n",
            "  inflating: test/Open_Shrub_15.jpg  \n",
            "  inflating: test/Open_Shrub_16.jpg  \n",
            "  inflating: test/Open_Shrub_17.jpg  \n",
            "  inflating: test/Open_Shrub_18.jpg  \n",
            "  inflating: test/Open_Shrub_19.jpg  \n",
            "  inflating: test/Open_Shrub_2.jpg   \n",
            "  inflating: test/Open_Shrub_3.jpg   \n",
            "  inflating: test/Open_Shrub_4.jpg   \n",
            "  inflating: test/Open_Shrub_5.jpg   \n",
            "  inflating: test/Open_Shrub_6.jpg   \n",
            "  inflating: test/Open_Shrub_7.jpg   \n",
            "  inflating: test/Open_Shrub_8.jpg   \n",
            "  inflating: test/Open_Shrub_9.jpg   \n",
            "  inflating: test/Snow_100_0.jpg     \n",
            "  inflating: test/Snow_100_1.jpg     \n",
            "  inflating: test/Snow_100_10.jpg    \n",
            "  inflating: test/Snow_100_11.jpg    \n",
            "  inflating: test/Snow_100_12.jpg    \n",
            "  inflating: test/Snow_100_13.jpg    \n",
            "  inflating: test/Snow_100_14.jpg    \n",
            "  inflating: test/Snow_100_15.jpg    \n",
            "  inflating: test/Snow_100_16.jpg    \n",
            "  inflating: test/Snow_100_17.jpg    \n",
            "  inflating: test/Snow_100_18.jpg    \n",
            "  inflating: test/Snow_100_19.jpg    \n",
            "  inflating: test/Snow_100_2.jpg     \n",
            "  inflating: test/Snow_100_3.jpg     \n",
            "  inflating: test/Snow_100_4.jpg     \n",
            "  inflating: test/Snow_100_5.jpg     \n",
            "  inflating: test/Snow_100_6.jpg     \n",
            "  inflating: test/Snow_100_7.jpg     \n",
            "  inflating: test/Snow_100_8.jpg     \n",
            "  inflating: test/Snow_100_9.jpg     \n",
            "  inflating: test/Swamp_add__0.jpg   \n",
            "  inflating: test/Swamp_add__1.jpg   \n",
            "  inflating: test/Swamp_add__10.jpg  \n",
            "  inflating: test/Swamp_add__11.jpg  \n",
            "  inflating: test/Swamp_add__12.jpg  \n",
            "  inflating: test/Swamp_add__13.jpg  \n",
            "  inflating: test/Swamp_add__14.jpg  \n",
            "  inflating: test/Swamp_add__15.jpg  \n",
            "  inflating: test/Swamp_add__16.jpg  \n",
            "  inflating: test/Swamp_add__17.jpg  \n",
            "  inflating: test/Swamp_add__18.jpg  \n",
            "  inflating: test/Swamp_add__19.jpg  \n",
            "  inflating: test/Swamp_add__2.jpg   \n",
            "  inflating: test/Swamp_add__3.jpg   \n",
            "  inflating: test/Swamp_add__4.jpg   \n",
            "  inflating: test/Swamp_add__5.jpg   \n",
            "  inflating: test/Swamp_add__6.jpg   \n",
            "  inflating: test/Swamp_add__7.jpg   \n",
            "  inflating: test/Swamp_add__8.jpg   \n",
            "  inflating: test/Swamp_add__9.jpg   \n",
            "  inflating: test/Urban_100.jpg      \n",
            "  inflating: test/Urban_100_1.jpg    \n",
            "  inflating: test/Urban_100_10.jpg   \n",
            "  inflating: test/Urban_100_11.jpg   \n",
            "  inflating: test/Urban_100_12.jpg   \n",
            "  inflating: test/Urban_100_13.jpg   \n",
            "  inflating: test/Urban_100_14.jpg   \n",
            "  inflating: test/Urban_100_15.jpg   \n",
            "  inflating: test/Urban_100_16.jpg   \n",
            "  inflating: test/Urban_100_17.jpg   \n",
            "  inflating: test/Urban_100_18.jpg   \n",
            "  inflating: test/Urban_100_19.jpg   \n",
            "  inflating: test/Urban_100_2.jpg    \n",
            "  inflating: test/Urban_100_3.jpg    \n",
            "  inflating: test/Urban_100_4.jpg    \n",
            "  inflating: test/Urban_100_5.jpg    \n",
            "  inflating: test/Urban_100_6.jpg    \n",
            "  inflating: test/Urban_100_7.jpg    \n",
            "  inflating: test/Urban_100_8.jpg    \n",
            "  inflating: test/Urban_100_9.jpg    \n"
          ],
          "name": "stdout"
        }
      ]
    },
    {
      "cell_type": "markdown",
      "metadata": {
        "id": "jjyO3-knf2S3"
      },
      "source": [
        "# 4. Predicción"
      ]
    },
    {
      "cell_type": "markdown",
      "metadata": {
        "id": "ZdCj35kgCJK4"
      },
      "source": [
        "Definir función que haga las predicciones con el modelo sobre el set de test."
      ]
    },
    {
      "cell_type": "code",
      "metadata": {
        "id": "E5wpHyyHq9V_"
      },
      "source": [
        "def make_predictions(model_final,\r\n",
        "                     path_test ='Test-definitivo-de-Kaggle-03-2021',\r\n",
        "                     name_file_submission = 'submission.csv'):\r\n",
        "\r\n",
        "  images_test = os.listdir(path_test)\r\n",
        "  samples_to_predict = []\r\n",
        "\r\n",
        "  for img in images_test:\r\n",
        "    path_img = os.path.join(path_test, img)\r\n",
        "    img = image.load_img(path_img,\r\n",
        "                        target_size=(img_width, img_height))\r\n",
        "    x = image.img_to_array(img)\r\n",
        "    samples_to_predict.append(x)\r\n",
        "\r\n",
        "  samples_to_predict  = np.array(samples_to_predict)\r\n",
        "  predictions = model_final.predict(samples_to_predict)\r\n",
        "  classes = np.argmax(predictions, axis = 1)\r\n",
        "\r\n",
        "  data = {'id.jpg': [img for img in images_test], 'label': classes}\r\n",
        "  data = pd.DataFrame(data)\r\n",
        "  data.to_csv(name_file_submission, index = False)\r\n",
        "\r\n",
        "  return data"
      ],
      "execution_count": 34,
      "outputs": []
    },
    {
      "cell_type": "code",
      "metadata": {
        "id": "cYc8sNhUCM06"
      },
      "source": [
        "Hacer la predicción."
      ],
      "execution_count": null,
      "outputs": []
    },
    {
      "cell_type": "code",
      "metadata": {
        "id": "kfyuMYt3f4XG",
        "colab": {
          "base_uri": "https://localhost:8080/",
          "height": 163
        },
        "outputId": "e36ee742-59b4-4caa-d8a7-2f2fc10c560f"
      },
      "source": [
        "make_predictions(saved_model, name_file_submission = 'resultados.csv' )"
      ],
      "execution_count": 35,
      "outputs": [
        {
          "output_type": "error",
          "ename": "NameError",
          "evalue": "ignored",
          "traceback": [
            "\u001b[0;31m---------------------------------------------------------------------------\u001b[0m",
            "\u001b[0;31mNameError\u001b[0m                                 Traceback (most recent call last)",
            "\u001b[0;32m<ipython-input-35-0e98b375b334>\u001b[0m in \u001b[0;36m<module>\u001b[0;34m()\u001b[0m\n\u001b[0;32m----> 1\u001b[0;31m \u001b[0mmake_predictions\u001b[0m\u001b[0;34m(\u001b[0m\u001b[0msaved_model\u001b[0m\u001b[0;34m,\u001b[0m \u001b[0mname_file_submission\u001b[0m \u001b[0;34m=\u001b[0m \u001b[0;34m'resultados.csv'\u001b[0m \u001b[0;34m)\u001b[0m\u001b[0;34m\u001b[0m\u001b[0;34m\u001b[0m\u001b[0m\n\u001b[0m",
            "\u001b[0;31mNameError\u001b[0m: name 'saved_model' is not defined"
          ]
        }
      ]
    },
    {
      "cell_type": "markdown",
      "metadata": {
        "id": "6mQqWuYEs72x"
      },
      "source": [
        "# 5. Descarga de resultados"
      ]
    },
    {
      "cell_type": "code",
      "metadata": {
        "id": "zPyAtAvmtCGQ"
      },
      "source": [
        "from google.colab import files\r\n",
        "\r\n",
        "files.download(\"resultados.csv\")"
      ],
      "execution_count": null,
      "outputs": []
    }
  ]
}