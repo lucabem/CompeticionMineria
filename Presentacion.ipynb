{
  "nbformat": 4,
  "nbformat_minor": 0,
  "metadata": {
    "colab": {
      "name": "Presentacion.ipynb",
      "provenance": [],
      "toc_visible": true,
      "include_colab_link": true
    },
    "kernelspec": {
      "name": "python3",
      "display_name": "Python 3"
    }
  },
  "cells": [
    {
      "cell_type": "markdown",
      "metadata": {
        "id": "view-in-github",
        "colab_type": "text"
      },
      "source": [
        "<a href=\"https://colab.research.google.com/github/lucabem/CompeticionMineria/blob/main/Presentacion.ipynb\" target=\"_parent\"><img src=\"https://colab.research.google.com/assets/colab-badge.svg\" alt=\"Open In Colab\"/></a>"
      ]
    },
    {
      "cell_type": "markdown",
      "metadata": {
        "id": "A6dPDRMCfqIn"
      },
      "source": [
        "# 1. Cargar paquetes"
      ]
    },
    {
      "cell_type": "code",
      "metadata": {
        "id": "uFLwhgROfqvR",
        "colab": {
          "base_uri": "https://localhost:8080/"
        },
        "outputId": "526a3596-130d-4be8-c0a0-88312c7e2132"
      },
      "source": [
        "\r\n",
        "!pip install --upgrade tensorflow_hub\r\n",
        "!pip install --upgrade tensorflow_addons\r\n",
        "\r\n",
        "import os\r\n",
        "import tensorflow as tf\r\n",
        "import tensorflow_hub as hub\r\n",
        "from keras.preprocessing import image\r\n",
        "import numpy as np\r\n",
        "import pandas as pd\r\n",
        "from google.colab import files\r\n",
        "import tensorflow_addons as tfa\r\n",
        "import pathlib\r\n",
        "\r\n"
      ],
      "execution_count": 2,
      "outputs": [
        {
          "output_type": "stream",
          "text": [
            "Requirement already up-to-date: tensorflow_hub in /usr/local/lib/python3.7/dist-packages (0.11.0)\n",
            "Requirement already satisfied, skipping upgrade: protobuf>=3.8.0 in /usr/local/lib/python3.7/dist-packages (from tensorflow_hub) (3.12.4)\n",
            "Requirement already satisfied, skipping upgrade: numpy>=1.12.0 in /usr/local/lib/python3.7/dist-packages (from tensorflow_hub) (1.19.5)\n",
            "Requirement already satisfied, skipping upgrade: six>=1.9 in /usr/local/lib/python3.7/dist-packages (from protobuf>=3.8.0->tensorflow_hub) (1.15.0)\n",
            "Requirement already satisfied, skipping upgrade: setuptools in /usr/local/lib/python3.7/dist-packages (from protobuf>=3.8.0->tensorflow_hub) (54.0.0)\n",
            "Requirement already up-to-date: tensorflow_addons in /usr/local/lib/python3.7/dist-packages (0.12.1)\n",
            "Requirement already satisfied, skipping upgrade: typeguard>=2.7 in /usr/local/lib/python3.7/dist-packages (from tensorflow_addons) (2.7.1)\n"
          ],
          "name": "stdout"
        }
      ]
    },
    {
      "cell_type": "markdown",
      "metadata": {
        "id": "OwC5aBVOfwRk"
      },
      "source": [
        "# 2. Cargar modelo"
      ]
    },
    {
      "cell_type": "markdown",
      "metadata": {
        "id": "Z_Vtp3H0mF_9"
      },
      "source": [
        "Se carga manualmente y se descomprime."
      ]
    },
    {
      "cell_type": "code",
      "metadata": {
        "colab": {
          "base_uri": "https://localhost:8080/"
        },
        "id": "wx_OAa9YjoFG",
        "outputId": "c69e61e4-6a6e-4aa4-b7f6-3111f3c77de4"
      },
      "source": [
        "!unzip \"model.zip\""
      ],
      "execution_count": 3,
      "outputs": [
        {
          "output_type": "stream",
          "text": [
            "Archive:  model.zip\n",
            "   creating: model_2048_512_1024/\n",
            "   creating: model_2048_512_1024/variables/\n",
            "  inflating: model_2048_512_1024/variables/variables.index  \n",
            "  inflating: model_2048_512_1024/variables/variables.data-00000-of-00001  \n",
            "   creating: model_2048_512_1024/assets/\n",
            "  inflating: model_2048_512_1024/saved_model.pb  \n"
          ],
          "name": "stdout"
        }
      ]
    },
    {
      "cell_type": "code",
      "metadata": {
        "colab": {
          "base_uri": "https://localhost:8080/"
        },
        "id": "P3TM52XAk-N_",
        "outputId": "bf15faf1-8c94-46f6-8d4e-a2e031073ac3"
      },
      "source": [
        "ls model_2048_512_1024/"
      ],
      "execution_count": 8,
      "outputs": [
        {
          "output_type": "stream",
          "text": [
            "\u001b[0m\u001b[01;34massets\u001b[0m/  saved_model.pb  \u001b[01;34mvariables\u001b[0m/\n"
          ],
          "name": "stdout"
        }
      ]
    },
    {
      "cell_type": "code",
      "metadata": {
        "id": "aH60sKfc7vNB"
      },
      "source": [
        "path_to_model = \"/content/model_2048_512_1024\"\r\n",
        "model = tf.keras.models.load_model(path_to_model, compile=True, custom_objects={'f1':tfa.metrics.F1Score(num_classes=25, average='weighted')})\r\n"
      ],
      "execution_count": 9,
      "outputs": []
    },
    {
      "cell_type": "code",
      "metadata": {
        "id": "LrQI6dGWhcIP",
        "colab": {
          "base_uri": "https://localhost:8080/"
        },
        "outputId": "0468a7e6-50f7-46cf-bd8e-c32623250207"
      },
      "source": [
        "model.summary()\r\n"
      ],
      "execution_count": 10,
      "outputs": [
        {
          "output_type": "stream",
          "text": [
            "Model: \"sequential\"\n",
            "_________________________________________________________________\n",
            "Layer (type)                 Output Shape              Param #   \n",
            "=================================================================\n",
            "resnet50 (Functional)        (None, 7, 7, 2048)        23587712  \n",
            "_________________________________________________________________\n",
            "global_average_pooling2d (Gl (None, 2048)              0         \n",
            "_________________________________________________________________\n",
            "dense (Dense)                (None, 2048)              4196352   \n",
            "_________________________________________________________________\n",
            "dropout (Dropout)            (None, 2048)              0         \n",
            "_________________________________________________________________\n",
            "dense_1 (Dense)              (None, 512)               1049088   \n",
            "_________________________________________________________________\n",
            "dense_2 (Dense)              (None, 1024)              525312    \n",
            "_________________________________________________________________\n",
            "dense_3 (Dense)              (None, 25)                25625     \n",
            "=================================================================\n",
            "Total params: 29,384,089\n",
            "Trainable params: 29,330,969\n",
            "Non-trainable params: 53,120\n",
            "_________________________________________________________________\n"
          ],
          "name": "stdout"
        }
      ]
    },
    {
      "cell_type": "markdown",
      "metadata": {
        "id": "rNNjEfIukb0Y"
      },
      "source": [
        "## 3. Cargar el Dataset"
      ]
    },
    {
      "cell_type": "markdown",
      "metadata": {
        "id": "gfE-APK2l0bZ"
      },
      "source": [
        "Se carga manualmente y se descomprime."
      ]
    },
    {
      "cell_type": "code",
      "metadata": {
        "colab": {
          "base_uri": "https://localhost:8080/"
        },
        "id": "iPISf6Bdll3e",
        "outputId": "91a47ca1-6254-4b12-f53e-94cd0acba494"
      },
      "source": [
        "!unzip \"test.zip\""
      ],
      "execution_count": 11,
      "outputs": [
        {
          "output_type": "stream",
          "text": [
            "Archive:  test.zip\n",
            "   creating: test/\n",
            "  inflating: test/Forest_CDN_17.jpg  \n",
            "  inflating: test/Forest_CDN_18.jpg  \n",
            "  inflating: test/Forest_CDN_19.jpg  \n",
            "  inflating: test/Forest_CDN_2.jpg   \n",
            "  inflating: test/Forest_CDN_3.jpg   \n",
            "  inflating: test/Forest_CDN_4.jpg   \n",
            "  inflating: test/Forest_CDN_5.jpg   \n",
            "  inflating: test/Forest_CDN_6.jpg   \n",
            "  inflating: test/Forest_CDN_7.jpg   \n",
            "  inflating: test/Forest_CDN_8.jpg   \n",
            "  inflating: test/Forest_CDN_9.jpg   \n",
            "  inflating: test/Forest_CEB.jpg     \n",
            "  inflating: test/Forest_CEB_1.jpg   \n",
            "  inflating: test/Forest_CEB_10.jpg  \n",
            "  inflating: test/Forest_CEB_11.jpg  \n",
            "  inflating: test/Forest_CEB_12.jpg  \n",
            "  inflating: test/Forest_CEB_13.jpg  \n",
            "  inflating: test/Forest_CEB_14.jpg  \n",
            "  inflating: test/Forest_CEB_15.jpg  \n",
            "  inflating: test/Forest_CEB_16.jpg  \n",
            "  inflating: test/Forest_CEB_17.jpg  \n",
            "  inflating: test/Forest_CEB_18.jpg  \n",
            "  inflating: test/Forest_CEB_19.jpg  \n",
            "  inflating: test/Forest_CEB_2.jpg   \n",
            "  inflating: test/Forest_CEB_3.jpg   \n",
            "  inflating: test/Forest_CEB_4.jpg   \n",
            "  inflating: test/Forest_CEB_5.jpg   \n",
            "  inflating: test/Forest_CEB_6.jpg   \n",
            "  inflating: test/Forest_CEB_7.jpg   \n",
            "  inflating: test/Forest_CEB_8.jpg   \n",
            "  inflating: test/Forest_CEB_9.jpg   \n",
            "  inflating: test/Forest_CEN.jpg     \n",
            "  inflating: test/Forest_CEN_1.jpg   \n",
            "  inflating: test/Forest_CEN_10.jpg  \n",
            "  inflating: test/Forest_CEN_11.jpg  \n",
            "  inflating: test/Forest_CEN_12.jpg  \n",
            "  inflating: test/Forest_CEN_13.jpg  \n",
            "  inflating: test/Forest_CEN_14.jpg  \n",
            "  inflating: test/Forest_CEN_15.jpg  \n",
            "  inflating: test/Forest_CEN_16.jpg  \n",
            "  inflating: test/Forest_CEN_17.jpg  \n",
            "  inflating: test/Forest_CEN_18.jpg  \n",
            "  inflating: test/Forest_CEN_19.jpg  \n",
            "  inflating: test/Forest_CEN_2.jpg   \n",
            "  inflating: test/Forest_CEN_3.jpg   \n",
            "  inflating: test/Forest_CEN_4.jpg   \n",
            "  inflating: test/Forest_CEN_5.jpg   \n",
            "  inflating: test/Forest_CEN_6.jpg   \n",
            "  inflating: test/Forest_CEN_7.jpg   \n",
            "  inflating: test/Forest_CEN_8.jpg   \n",
            "  inflating: test/Forest_CEN_9.jpg   \n",
            "  inflating: test/Forest_DDB.jpg     \n",
            "  inflating: test/Forest_DDB_1.jpg   \n",
            "  inflating: test/Forest_DDB_10.jpg  \n",
            "  inflating: test/Forest_DDB_11.jpg  \n",
            "  inflating: test/Forest_DDB_12.jpg  \n",
            "  inflating: test/Forest_DDB_13.jpg  \n",
            "  inflating: test/Forest_DDB_14.jpg  \n",
            "  inflating: test/Forest_DDB_15.jpg  \n",
            "  inflating: test/Forest_DDB_16.jpg  \n",
            "  inflating: test/Forest_DDB_17.jpg  \n",
            "  inflating: test/Forest_DDB_18.jpg  \n",
            "  inflating: test/Forest_DDB_19.jpg  \n",
            "  inflating: test/Forest_DDB_2.jpg   \n",
            "  inflating: test/Forest_DDB_3.jpg   \n",
            "  inflating: test/Forest_DDB_4.jpg   \n",
            "  inflating: test/Forest_DDB_5.jpg   \n",
            "  inflating: test/Forest_DDB_6.jpg   \n",
            "  inflating: test/Forest_DDB_7.jpg   \n",
            "  inflating: test/Forest_DDB_8.jpg   \n",
            "  inflating: test/Forest_DDB_9.jpg   \n",
            "  inflating: test/Forest_DDN.jpg     \n",
            "  inflating: test/Forest_DDN_1.jpg   \n",
            "  inflating: test/Forest_DDN_10.jpg  \n",
            "  inflating: test/Forest_DDN_11.jpg  \n",
            "  inflating: test/Forest_DDN_12.jpg  \n",
            "  inflating: test/Forest_DDN_13.jpg  \n",
            "  inflating: test/Forest_DDN_14.jpg  \n",
            "  inflating: test/Forest_DDN_15.jpg  \n",
            "  inflating: test/Forest_DDN_16.jpg  \n",
            "  inflating: test/Forest_DDN_17.jpg  \n",
            "  inflating: test/Forest_DDN_18.jpg  \n",
            "  inflating: test/Forest_DDN_19.jpg  \n",
            "  inflating: test/Forest_DDN_2.jpg   \n",
            "  inflating: test/Forest_DDN_3.jpg   \n",
            "  inflating: test/Forest_DDN_4.jpg   \n",
            "  inflating: test/Forest_DDN_5.jpg   \n",
            "  inflating: test/Forest_DDN_6.jpg   \n",
            "  inflating: test/Forest_DDN_7.jpg   \n",
            "  inflating: test/Forest_DDN_8.jpg   \n",
            "  inflating: test/Forest_DDN_9.jpg   \n",
            "  inflating: test/Forest_DEB.jpg     \n",
            "  inflating: test/Forest_DEB_1.jpg   \n",
            "  inflating: test/Forest_DEB_10.jpg  \n",
            "  inflating: test/Forest_DEB_11.jpg  \n",
            "  inflating: test/Forest_DEB_12.jpg  \n",
            "  inflating: test/Forest_DEB_13.jpg  \n",
            "  inflating: test/Forest_DEB_14.jpg  \n",
            "  inflating: test/Forest_DEB_15.jpg  \n",
            "  inflating: test/Forest_DEB_16.jpg  \n",
            "  inflating: test/Forest_DEB_17.jpg  \n",
            "  inflating: test/Forest_DEB_18.jpg  \n",
            "  inflating: test/Forest_DEB_19.jpg  \n",
            "  inflating: test/Forest_DEB_2.jpg   \n",
            "  inflating: test/Forest_DEB_3.jpg   \n",
            "  inflating: test/Forest_DEB_4.jpg   \n",
            "  inflating: test/Forest_DEB_5.jpg   \n",
            "  inflating: test/Forest_DEB_6.jpg   \n",
            "  inflating: test/Forest_DEB_7.jpg   \n",
            "  inflating: test/Forest_DEB_8.jpg   \n",
            "  inflating: test/Forest_DEB_9.jpg   \n",
            "  inflating: test/Forest_DEN.jpg     \n",
            "  inflating: test/Forest_DEN_1.jpg   \n",
            "  inflating: test/Forest_DEN_10.jpg  \n",
            "  inflating: test/Forest_DEN_11.jpg  \n",
            "  inflating: test/Forest_DEN_12.jpg  \n",
            "  inflating: test/Forest_DEN_13.jpg  \n",
            "  inflating: test/Forest_DEN_14.jpg  \n",
            "  inflating: test/Forest_DEN_15.jpg  \n",
            "  inflating: test/Forest_DEN_16.jpg  \n",
            "  inflating: test/Forest_DEN_17.jpg  \n",
            "  inflating: test/Forest_DEN_18.jpg  \n",
            "  inflating: test/Forest_DEN_19.jpg  \n",
            "  inflating: test/Forest_DEN_2.jpg   \n",
            "  inflating: test/Forest_DEN_3.jpg   \n",
            "  inflating: test/Forest_DEN_4.jpg   \n",
            "  inflating: test/Forest_DEN_5.jpg   \n",
            "  inflating: test/Forest_DEN_6.jpg   \n",
            "  inflating: test/Forest_DEN_7.jpg   \n",
            "  inflating: test/Forest_DEN_8.jpg   \n",
            "  inflating: test/Forest_DEN_9.jpg   \n",
            "  inflating: test/Forest_ODB.jpg     \n",
            "  inflating: test/Forest_ODB_1.jpg   \n",
            "  inflating: test/Forest_ODB_10.jpg  \n",
            "  inflating: test/Forest_ODB_11.jpg  \n",
            "  inflating: test/Forest_ODB_12.jpg  \n",
            "  inflating: test/Forest_ODB_13.jpg  \n",
            "  inflating: test/Forest_ODB_14.jpg  \n",
            "  inflating: test/Forest_ODB_15.jpg  \n",
            "  inflating: test/Forest_ODB_16.jpg  \n",
            "  inflating: test/Forest_ODB_17.jpg  \n",
            "  inflating: test/Forest_ODB_18.jpg  \n",
            "  inflating: test/Forest_ODB_19.jpg  \n",
            "  inflating: test/Forest_ODB_2.jpg   \n",
            "  inflating: test/Forest_ODB_3.jpg   \n",
            "  inflating: test/Forest_ODB_4.jpg   \n",
            "  inflating: test/Forest_ODB_5.jpg   \n",
            "  inflating: test/Forest_ODB_6.jpg   \n",
            "  inflating: test/Forest_ODB_7.jpg   \n",
            "  inflating: test/Forest_ODB_8.jpg   \n",
            "  inflating: test/Forest_ODB_9.jpg   \n",
            "  inflating: test/Forest_ODN.jpg     \n",
            "  inflating: test/Forest_ODN_1.jpg   \n",
            "  inflating: test/Forest_ODN_10.jpg  \n",
            "  inflating: test/Forest_ODN_11.jpg  \n",
            "  inflating: test/Forest_ODN_12.jpg  \n",
            "  inflating: test/Forest_ODN_13.jpg  \n",
            "  inflating: test/Forest_ODN_14.jpg  \n",
            "  inflating: test/Forest_ODN_15.jpg  \n",
            "  inflating: test/Forest_ODN_16.jpg  \n",
            "  inflating: test/Forest_ODN_17.jpg  \n",
            "  inflating: test/Forest_ODN_18.jpg  \n",
            "  inflating: test/Forest_ODN_19.jpg  \n",
            "  inflating: test/Forest_ODN_2.jpg   \n",
            "  inflating: test/Forest_ODN_3.jpg   \n",
            "  inflating: test/Forest_ODN_4.jpg   \n",
            "  inflating: test/Forest_ODN_5.jpg   \n",
            "  inflating: test/Forest_ODN_6.jpg   \n",
            "  inflating: test/Forest_ODN_7.jpg   \n",
            "  inflating: test/Forest_ODN_8.jpg   \n",
            "  inflating: test/Forest_ODN_9.jpg   \n",
            "  inflating: test/Forest_OEB.jpg     \n",
            "  inflating: test/Forest_OEB_1.jpg   \n",
            "  inflating: test/Forest_OEB_10.jpg  \n",
            "  inflating: test/Forest_OEB_11.jpg  \n",
            "  inflating: test/Forest_OEB_12.jpg  \n",
            "  inflating: test/Forest_OEB_13.jpg  \n",
            "  inflating: test/Forest_OEB_14.jpg  \n",
            "  inflating: test/Forest_OEB_15.jpg  \n",
            "  inflating: test/Forest_OEB_16.jpg  \n",
            "  inflating: test/Forest_OEB_17.jpg  \n",
            "  inflating: test/Forest_OEB_18.jpg  \n",
            "  inflating: test/Forest_OEB_19.jpg  \n",
            "  inflating: test/Forest_OEB_2.jpg   \n",
            "  inflating: test/Forest_OEB_3.jpg   \n",
            "  inflating: test/Forest_OEB_4.jpg   \n",
            "  inflating: test/Forest_OEB_5.jpg   \n",
            "  inflating: test/Forest_OEB_6.jpg   \n",
            "  inflating: test/Forest_OEB_7.jpg   \n",
            "  inflating: test/Forest_OEB_8.jpg   \n",
            "  inflating: test/Forest_OEB_9.jpg   \n",
            "  inflating: test/Forest_OEN.jpg     \n",
            "  inflating: test/Forest_OEN_1.jpg   \n",
            "  inflating: test/Forest_OEN_10.jpg  \n",
            "  inflating: test/Forest_OEN_11.jpg  \n",
            "  inflating: test/Forest_OEN_12.jpg  \n",
            "  inflating: test/Forest_OEN_13.jpg  \n",
            "  inflating: test/Forest_OEN_14.jpg  \n",
            "  inflating: test/Forest_OEN_15.jpg  \n",
            "  inflating: test/Forest_OEN_16.jpg  \n",
            "  inflating: test/Forest_OEN_17.jpg  \n",
            "  inflating: test/Forest_OEN_18.jpg  \n",
            "  inflating: test/Forest_OEN_19.jpg  \n",
            "  inflating: test/Forest_OEN_2.jpg   \n",
            "  inflating: test/Forest_OEN_3.jpg   \n",
            "  inflating: test/Forest_OEN_4.jpg   \n",
            "  inflating: test/Forest_OEN_5.jpg   \n",
            "  inflating: test/Forest_OEN_6.jpg   \n",
            "  inflating: test/Forest_OEN_7.jpg   \n",
            "  inflating: test/Forest_OEN_8.jpg   \n",
            "  inflating: test/Forest_OEN_9.jpg   \n",
            "  inflating: test/Grassland__0.jpg   \n",
            "  inflating: test/Grassland__1.jpg   \n",
            "  inflating: test/Grassland__10.jpg  \n",
            "  inflating: test/Grassland__11.jpg  \n",
            "  inflating: test/Grassland__12.jpg  \n",
            "  inflating: test/Grassland__13.jpg  \n",
            "  inflating: test/Grassland__14.jpg  \n",
            "  inflating: test/Grassland__15.jpg  \n",
            "  inflating: test/Grassland__16.jpg  \n",
            "  inflating: test/Grassland__17.jpg  \n",
            "  inflating: test/Grassland__18.jpg  \n",
            "  inflating: test/Grassland__19.jpg  \n",
            "  inflating: test/Grassland__2.jpg   \n",
            "  inflating: test/Grassland__3.jpg   \n",
            "  inflating: test/Grassland__4.jpg   \n",
            "  inflating: test/Grassland__5.jpg   \n",
            "  inflating: test/Grassland__6.jpg   \n",
            "  inflating: test/Grassland__7.jpg   \n",
            "  inflating: test/Grassland__8.jpg   \n",
            "  inflating: test/Grassland__9.jpg   \n",
            "  inflating: test/Marine_Wat_0.jpg   \n",
            "  inflating: test/Marine_Wat_1.jpg   \n",
            "  inflating: test/Marine_Wat_10.jpg  \n",
            "  inflating: test/Marine_Wat_11.jpg  \n",
            "  inflating: test/Marine_Wat_12.jpg  \n",
            "  inflating: test/Marine_Wat_13.jpg  \n",
            "  inflating: test/Marine_Wat_14.jpg  \n",
            "  inflating: test/Marine_Wat_15.jpg  \n",
            "  inflating: test/Marine_Wat_16.jpg  \n",
            "  inflating: test/Marine_Wat_17.jpg  \n",
            "  inflating: test/Marine_Wat_18.jpg  \n",
            "  inflating: test/Marine_Wat_19.jpg  \n",
            "  inflating: test/Marine_Wat_2.jpg   \n",
            "  inflating: test/Marine_Wat_3.jpg   \n",
            "  inflating: test/Marine_Wat_4.jpg   \n",
            "  inflating: test/Marine_Wat_5.jpg   \n",
            "  inflating: test/Marine_Wat_6.jpg   \n",
            "  inflating: test/Marine_Wat_7.jpg   \n",
            "  inflating: test/Marine_Wat_8.jpg   \n",
            "  inflating: test/Marine_Wat_9.jpg   \n",
            "  inflating: test/Marshland__0.jpg   \n",
            "  inflating: test/Marshland__1.jpg   \n",
            "  inflating: test/Marshland__10.jpg  \n",
            "  inflating: test/Marshland__11.jpg  \n",
            "  inflating: test/Marshland__12.jpg  \n",
            "  inflating: test/Marshland__13.jpg  \n",
            "  inflating: test/Marshland__14.jpg  \n",
            "  inflating: test/Marshland__15.jpg  \n",
            "  inflating: test/Marshland__16.jpg  \n",
            "  inflating: test/Marshland__17.jpg  \n",
            "  inflating: test/Marshland__18.jpg  \n",
            "  inflating: test/Marshland__19.jpg  \n",
            "  inflating: test/Marshland__2.jpg   \n",
            "  inflating: test/Marshland__3.jpg   \n",
            "  inflating: test/Marshland__4.jpg   \n",
            "  inflating: test/Marshland__5.jpg   \n",
            "  inflating: test/Marshland__6.jpg   \n",
            "  inflating: test/Marshland__7.jpg   \n",
            "  inflating: test/Marshland__8.jpg   \n",
            "  inflating: test/Marshland__9.jpg   \n",
            "  inflating: test/Moss_and_L_0.jpg   \n",
            "  inflating: test/Moss_and_L_1.jpg   \n",
            "  inflating: test/Moss_and_L_10.jpg  \n",
            "  inflating: test/Moss_and_L_11.jpg  \n",
            "  inflating: test/Moss_and_L_12.jpg  \n",
            "  inflating: test/Moss_and_L_13.jpg  \n",
            "  inflating: test/Moss_and_L_14.jpg  \n",
            "  inflating: test/Moss_and_L_15.jpg  \n",
            "  inflating: test/Moss_and_L_16.jpg  \n",
            "  inflating: test/Moss_and_L_17.jpg  \n",
            "  inflating: test/Moss_and_L_18.jpg  \n",
            "  inflating: test/Moss_and_L_19.jpg  \n",
            "  inflating: test/Moss_and_L_2.jpg   \n",
            "  inflating: test/Moss_and_L_3.jpg   \n",
            "  inflating: test/Moss_and_L_4.jpg   \n",
            "  inflating: test/Moss_and_L_5.jpg   \n",
            "  inflating: test/Moss_and_L_6.jpg   \n",
            "  inflating: test/Moss_and_L_7.jpg   \n",
            "  inflating: test/Moss_and_L_8.jpg   \n",
            "  inflating: test/Moss_and_L_9.jpg   \n",
            "  inflating: test/Open_Shrub_0.jpg   \n",
            "  inflating: test/Open_Shrub_1.jpg   \n",
            "  inflating: test/Open_Shrub_10.jpg  \n",
            "  inflating: test/Open_Shrub_11.jpg  \n",
            "  inflating: test/Open_Shrub_12.jpg  \n",
            "  inflating: test/Open_Shrub_13.jpg  \n",
            "  inflating: test/Open_Shrub_14.jpg  \n",
            "  inflating: test/Open_Shrub_15.jpg  \n",
            "  inflating: test/Open_Shrub_16.jpg  \n",
            "  inflating: test/Open_Shrub_17.jpg  \n",
            "  inflating: test/Open_Shrub_18.jpg  \n",
            "  inflating: test/Open_Shrub_19.jpg  \n",
            "  inflating: test/Open_Shrub_2.jpg   \n",
            "  inflating: test/Open_Shrub_3.jpg   \n",
            "  inflating: test/Open_Shrub_4.jpg   \n",
            "  inflating: test/Open_Shrub_5.jpg   \n",
            "  inflating: test/Open_Shrub_6.jpg   \n",
            "  inflating: test/Open_Shrub_7.jpg   \n",
            "  inflating: test/Open_Shrub_8.jpg   \n",
            "  inflating: test/Open_Shrub_9.jpg   \n",
            "  inflating: test/Snow_100_0.jpg     \n",
            "  inflating: test/Snow_100_1.jpg     \n",
            "  inflating: test/Snow_100_10.jpg    \n",
            "  inflating: test/Snow_100_11.jpg    \n",
            "  inflating: test/Snow_100_12.jpg    \n",
            "  inflating: test/Snow_100_13.jpg    \n",
            "  inflating: test/Snow_100_14.jpg    \n",
            "  inflating: test/Snow_100_15.jpg    \n",
            "  inflating: test/Snow_100_16.jpg    \n",
            "  inflating: test/Snow_100_17.jpg    \n",
            "  inflating: test/Snow_100_18.jpg    \n",
            "  inflating: test/Snow_100_19.jpg    \n",
            "  inflating: test/Snow_100_2.jpg     \n",
            "  inflating: test/Snow_100_3.jpg     \n",
            "  inflating: test/Snow_100_4.jpg     \n",
            "  inflating: test/Snow_100_5.jpg     \n",
            "  inflating: test/Snow_100_6.jpg     \n",
            "  inflating: test/Snow_100_7.jpg     \n",
            "  inflating: test/Snow_100_8.jpg     \n",
            "  inflating: test/Snow_100_9.jpg     \n",
            "  inflating: test/Swamp_add__0.jpg   \n",
            "  inflating: test/Swamp_add__1.jpg   \n",
            "  inflating: test/Swamp_add__10.jpg  \n",
            "  inflating: test/Swamp_add__11.jpg  \n",
            "  inflating: test/Swamp_add__12.jpg  \n",
            "  inflating: test/Swamp_add__13.jpg  \n",
            "  inflating: test/Swamp_add__14.jpg  \n",
            "  inflating: test/Swamp_add__15.jpg  \n",
            "  inflating: test/Swamp_add__16.jpg  \n",
            "  inflating: test/Swamp_add__17.jpg  \n",
            "  inflating: test/Swamp_add__18.jpg  \n",
            "  inflating: test/Swamp_add__19.jpg  \n",
            "  inflating: test/Swamp_add__2.jpg   \n",
            "  inflating: test/Swamp_add__3.jpg   \n",
            "  inflating: test/Swamp_add__4.jpg   \n",
            "  inflating: test/Swamp_add__5.jpg   \n",
            "  inflating: test/Swamp_add__6.jpg   \n",
            "  inflating: test/Swamp_add__7.jpg   \n",
            "  inflating: test/Swamp_add__8.jpg   \n",
            "  inflating: test/Swamp_add__9.jpg   \n",
            "  inflating: test/Urban_100.jpg      \n",
            "  inflating: test/Urban_100_1.jpg    \n",
            "  inflating: test/Urban_100_10.jpg   \n",
            "  inflating: test/Urban_100_11.jpg   \n",
            "  inflating: test/Urban_100_12.jpg   \n",
            "  inflating: test/Urban_100_13.jpg   \n",
            "  inflating: test/Urban_100_14.jpg   \n",
            "  inflating: test/Urban_100_15.jpg   \n",
            "  inflating: test/Urban_100_16.jpg   \n",
            "  inflating: test/Urban_100_17.jpg   \n",
            "  inflating: test/Urban_100_18.jpg   \n",
            "  inflating: test/Urban_100_19.jpg   \n",
            "  inflating: test/Urban_100_2.jpg    \n",
            "  inflating: test/Urban_100_3.jpg    \n",
            "  inflating: test/Urban_100_4.jpg    \n",
            "  inflating: test/Urban_100_5.jpg    \n",
            "  inflating: test/Urban_100_6.jpg    \n",
            "  inflating: test/Urban_100_7.jpg    \n",
            "  inflating: test/Urban_100_8.jpg    \n",
            "  inflating: test/Urban_100_9.jpg    \n"
          ],
          "name": "stdout"
        }
      ]
    },
    {
      "cell_type": "markdown",
      "metadata": {
        "id": "jjyO3-knf2S3"
      },
      "source": [
        "# 4. Predicción"
      ]
    },
    {
      "cell_type": "markdown",
      "metadata": {
        "id": "ZdCj35kgCJK4"
      },
      "source": [
        "Definir función que haga las predicciones con el modelo sobre el set de test."
      ]
    },
    {
      "cell_type": "code",
      "metadata": {
        "colab": {
          "base_uri": "https://localhost:8080/"
        },
        "id": "V_gPKIwomGel",
        "outputId": "81859792-c2ae-4797-c07e-80077437aa2a"
      },
      "source": [
        "ls"
      ],
      "execution_count": 14,
      "outputs": [
        {
          "output_type": "stream",
          "text": [
            "\u001b[0m\u001b[01;34mmodel_2048_512_1024\u001b[0m/  model.zip  \u001b[01;34msample_data\u001b[0m/  \u001b[01;34mtest\u001b[0m/  test.zip\n"
          ],
          "name": "stdout"
        }
      ]
    },
    {
      "cell_type": "code",
      "metadata": {
        "id": "K3APQOsomNgw"
      },
      "source": [
        "img_width = 224\r\n",
        "img_height = 224"
      ],
      "execution_count": 23,
      "outputs": []
    },
    {
      "cell_type": "code",
      "metadata": {
        "id": "E5wpHyyHq9V_"
      },
      "source": [
        "def make_predictions(model,\r\n",
        "                     path_test ='test/',\r\n",
        "                     name_file_submission = 'submission.csv'):\r\n",
        "\r\n",
        "  images_test = os.listdir(path_test)\r\n",
        "  samples_to_predict = []\r\n",
        "\r\n",
        "  for img in images_test:\r\n",
        "    path_img = os.path.join(path_test, img)\r\n",
        "    img = image.load_img(path_img,\r\n",
        "                        target_size=(img_width, img_height))\r\n",
        "    x = image.img_to_array(img)\r\n",
        "    samples_to_predict.append(x)\r\n",
        "\r\n",
        "  samples_to_predict  = np.array(samples_to_predict)\r\n",
        "  predictions = model.predict(samples_to_predict)\r\n",
        "  classes = np.argmax(predictions, axis = 1)\r\n",
        "\r\n",
        "  data = {'id.jpg': [img for img in images_test], 'label': classes}\r\n",
        "  data = pd.DataFrame(data)\r\n",
        "  data.to_csv(name_file_submission, index = False)\r\n",
        "\r\n",
        "  return data"
      ],
      "execution_count": 19,
      "outputs": []
    },
    {
      "cell_type": "markdown",
      "metadata": {
        "id": "1t_PHT0lSaFr"
      },
      "source": [
        "\r\n",
        "\r\n",
        "Hacer la predicción.\r\n"
      ]
    },
    {
      "cell_type": "code",
      "metadata": {
        "id": "kfyuMYt3f4XG",
        "colab": {
          "base_uri": "https://localhost:8080/",
          "height": 419
        },
        "outputId": "eb2925f2-508c-4dfc-e01a-65fc24be8cff"
      },
      "source": [
        "make_predictions(model, name_file_submission = 'resultados.csv' )"
      ],
      "execution_count": 24,
      "outputs": [
        {
          "output_type": "execute_result",
          "data": {
            "text/html": [
              "<div>\n",
              "<style scoped>\n",
              "    .dataframe tbody tr th:only-of-type {\n",
              "        vertical-align: middle;\n",
              "    }\n",
              "\n",
              "    .dataframe tbody tr th {\n",
              "        vertical-align: top;\n",
              "    }\n",
              "\n",
              "    .dataframe thead th {\n",
              "        text-align: right;\n",
              "    }\n",
              "</style>\n",
              "<table border=\"1\" class=\"dataframe\">\n",
              "  <thead>\n",
              "    <tr style=\"text-align: right;\">\n",
              "      <th></th>\n",
              "      <th>id.jpg</th>\n",
              "      <th>label</th>\n",
              "    </tr>\n",
              "  </thead>\n",
              "  <tbody>\n",
              "    <tr>\n",
              "      <th>0</th>\n",
              "      <td>Forest_ODN_15.jpg</td>\n",
              "      <td>14</td>\n",
              "    </tr>\n",
              "    <tr>\n",
              "      <th>1</th>\n",
              "      <td>Marine_Wat_15.jpg</td>\n",
              "      <td>18</td>\n",
              "    </tr>\n",
              "    <tr>\n",
              "      <th>2</th>\n",
              "      <td>Forest_DDN_14.jpg</td>\n",
              "      <td>10</td>\n",
              "    </tr>\n",
              "    <tr>\n",
              "      <th>3</th>\n",
              "      <td>Open_Shrub_0.jpg</td>\n",
              "      <td>21</td>\n",
              "    </tr>\n",
              "    <tr>\n",
              "      <th>4</th>\n",
              "      <td>Swamp_add__9.jpg</td>\n",
              "      <td>23</td>\n",
              "    </tr>\n",
              "    <tr>\n",
              "      <th>...</th>\n",
              "      <td>...</td>\n",
              "      <td>...</td>\n",
              "    </tr>\n",
              "    <tr>\n",
              "      <th>366</th>\n",
              "      <td>Forest_DEN_1.jpg</td>\n",
              "      <td>7</td>\n",
              "    </tr>\n",
              "    <tr>\n",
              "      <th>367</th>\n",
              "      <td>Marine_Wat_14.jpg</td>\n",
              "      <td>18</td>\n",
              "    </tr>\n",
              "    <tr>\n",
              "      <th>368</th>\n",
              "      <td>Marine_Wat_0.jpg</td>\n",
              "      <td>18</td>\n",
              "    </tr>\n",
              "    <tr>\n",
              "      <th>369</th>\n",
              "      <td>Snow_100_12.jpg</td>\n",
              "      <td>22</td>\n",
              "    </tr>\n",
              "    <tr>\n",
              "      <th>370</th>\n",
              "      <td>Moss_and_L_10.jpg</td>\n",
              "      <td>20</td>\n",
              "    </tr>\n",
              "  </tbody>\n",
              "</table>\n",
              "<p>371 rows × 2 columns</p>\n",
              "</div>"
            ],
            "text/plain": [
              "                id.jpg  label\n",
              "0    Forest_ODN_15.jpg     14\n",
              "1    Marine_Wat_15.jpg     18\n",
              "2    Forest_DDN_14.jpg     10\n",
              "3     Open_Shrub_0.jpg     21\n",
              "4     Swamp_add__9.jpg     23\n",
              "..                 ...    ...\n",
              "366   Forest_DEN_1.jpg      7\n",
              "367  Marine_Wat_14.jpg     18\n",
              "368   Marine_Wat_0.jpg     18\n",
              "369    Snow_100_12.jpg     22\n",
              "370  Moss_and_L_10.jpg     20\n",
              "\n",
              "[371 rows x 2 columns]"
            ]
          },
          "metadata": {
            "tags": []
          },
          "execution_count": 24
        }
      ]
    },
    {
      "cell_type": "markdown",
      "metadata": {
        "id": "6mQqWuYEs72x"
      },
      "source": [
        "# 5. Descarga de resultados"
      ]
    },
    {
      "cell_type": "code",
      "metadata": {
        "id": "zPyAtAvmtCGQ",
        "colab": {
          "base_uri": "https://localhost:8080/",
          "height": 17
        },
        "outputId": "1cbfa11b-0922-427e-938b-e7c1f1d23451"
      },
      "source": [
        "from google.colab import files\r\n",
        "\r\n",
        "files.download(\"resultados.csv\")"
      ],
      "execution_count": 25,
      "outputs": [
        {
          "output_type": "display_data",
          "data": {
            "application/javascript": [
              "\n",
              "    async function download(id, filename, size) {\n",
              "      if (!google.colab.kernel.accessAllowed) {\n",
              "        return;\n",
              "      }\n",
              "      const div = document.createElement('div');\n",
              "      const label = document.createElement('label');\n",
              "      label.textContent = `Downloading \"${filename}\": `;\n",
              "      div.appendChild(label);\n",
              "      const progress = document.createElement('progress');\n",
              "      progress.max = size;\n",
              "      div.appendChild(progress);\n",
              "      document.body.appendChild(div);\n",
              "\n",
              "      const buffers = [];\n",
              "      let downloaded = 0;\n",
              "\n",
              "      const channel = await google.colab.kernel.comms.open(id);\n",
              "      // Send a message to notify the kernel that we're ready.\n",
              "      channel.send({})\n",
              "\n",
              "      for await (const message of channel.messages) {\n",
              "        // Send a message to notify the kernel that we're ready.\n",
              "        channel.send({})\n",
              "        if (message.buffers) {\n",
              "          for (const buffer of message.buffers) {\n",
              "            buffers.push(buffer);\n",
              "            downloaded += buffer.byteLength;\n",
              "            progress.value = downloaded;\n",
              "          }\n",
              "        }\n",
              "      }\n",
              "      const blob = new Blob(buffers, {type: 'application/binary'});\n",
              "      const a = document.createElement('a');\n",
              "      a.href = window.URL.createObjectURL(blob);\n",
              "      a.download = filename;\n",
              "      div.appendChild(a);\n",
              "      a.click();\n",
              "      div.remove();\n",
              "    }\n",
              "  "
            ],
            "text/plain": [
              "<IPython.core.display.Javascript object>"
            ]
          },
          "metadata": {
            "tags": []
          }
        },
        {
          "output_type": "display_data",
          "data": {
            "application/javascript": [
              "download(\"download_1e2beb64-4cbb-4118-9b6b-2a87bdbebb2d\", \"resultados.csv\", 7458)"
            ],
            "text/plain": [
              "<IPython.core.display.Javascript object>"
            ]
          },
          "metadata": {
            "tags": []
          }
        }
      ]
    }
  ]
}