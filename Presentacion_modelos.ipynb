{
  "nbformat": 4,
  "nbformat_minor": 0,
  "metadata": {
    "colab": {
      "name": "Untitled11.ipynb",
      "provenance": [],
      "include_colab_link": true
    },
    "kernelspec": {
      "name": "python3",
      "display_name": "Python 3"
    },
    "language_info": {
      "name": "python"
    },
    "accelerator": "TPU"
  },
  "cells": [
    {
      "cell_type": "markdown",
      "metadata": {
        "id": "view-in-github",
        "colab_type": "text"
      },
      "source": [
        "<a href=\"https://colab.research.google.com/github/lucabem/CompeticionMineria/blob/main/Presentacion_modelos.ipynb\" target=\"_parent\"><img src=\"https://colab.research.google.com/assets/colab-badge.svg\" alt=\"Open In Colab\"/></a>"
      ]
    },
    {
      "cell_type": "markdown",
      "metadata": {
        "id": "QVAiaZNkcvuQ"
      },
      "source": [
        "# Descarga de datos"
      ]
    },
    {
      "cell_type": "code",
      "metadata": {
        "id": "FciPxKQVBvui"
      },
      "source": [
        "import numpy as np\n",
        "import os\n",
        "import PIL\n",
        "import PIL.Image\n",
        "import tensorflow as tf\n",
        "import tensorflow_datasets as tfds\n",
        "import pathlib"
      ],
      "execution_count": 1,
      "outputs": []
    },
    {
      "cell_type": "code",
      "metadata": {
        "id": "bdukRsyOBx8s"
      },
      "source": [
        "!rm -rf /root/.keras/datasets/*"
      ],
      "execution_count": 2,
      "outputs": []
    },
    {
      "cell_type": "markdown",
      "metadata": {
        "id": "38a900-6-BBp"
      },
      "source": [
        "Descargamos los datos de entrenamiento y test desde GitHub. Es siguiente comando guarda dicho dataset descrompirmido en el directorio /root/.keras/datasets"
      ]
    },
    {
      "cell_type": "code",
      "metadata": {
        "id": "B7Ma_g0eBzfJ",
        "colab": {
          "base_uri": "https://localhost:8080/"
        },
        "outputId": "d711f1c3-9d14-4b46-b96c-202619f25861"
      },
      "source": [
        "dataset_url = 'https://github.com/lucabem/CompeticionMineria/blob/main/data/dataset_images.zip?raw=true'\n",
        "data_dir = tf.keras.utils.get_file(origin=dataset_url, \n",
        "                                   fname='train_data', \n",
        "                                   extract=True)"
      ],
      "execution_count": 3,
      "outputs": [
        {
          "output_type": "stream",
          "text": [
            "Downloading data from https://github.com/lucabem/CompeticionMineria/blob/main/data/dataset_images.zip?raw=true\n",
            "78069760/78067648 [==============================] - 1s 0us/step\n"
          ],
          "name": "stdout"
        }
      ]
    },
    {
      "cell_type": "code",
      "metadata": {
        "id": "-Hz77fVbB3B8",
        "colab": {
          "base_uri": "https://localhost:8080/"
        },
        "outputId": "b5a291e5-43a3-4911-a3d8-4efa739bbe2a"
      },
      "source": [
        "!rm -rf /root/.keras/datasets/train_data.tar.gz /root/.keras/datasets/train_data\n",
        "!ls -l /root/.keras/datasets/"
      ],
      "execution_count": 4,
      "outputs": [
        {
          "output_type": "stream",
          "text": [
            "total 24\n",
            "drwxr-xr-x 27 root root  4096 Mar 24 09:20 ImagesTrain\n",
            "drwxr-xr-x  2 root root 20480 Mar 24 09:20 Test\n"
          ],
          "name": "stdout"
        }
      ]
    },
    {
      "cell_type": "markdown",
      "metadata": {
        "id": "I5La6Rs7-Q5z"
      },
      "source": [
        "Comprobamos que se han descargado correctamente, mirando si tenemos 2500 imagenes (100 imagenes x clase)"
      ]
    },
    {
      "cell_type": "code",
      "metadata": {
        "id": "i-W4TPjGB5HR",
        "colab": {
          "base_uri": "https://localhost:8080/"
        },
        "outputId": "3cf20323-829f-45b8-ab81-e39effda1781"
      },
      "source": [
        "train_path = pathlib.Path('/root/.keras/datasets/ImagesTrain')\n",
        "image_count = len(list(train_path.glob('*/*.jpg')))\n",
        "print(image_count)"
      ],
      "execution_count": 5,
      "outputs": [
        {
          "output_type": "stream",
          "text": [
            "2500\n"
          ],
          "name": "stdout"
        }
      ]
    },
    {
      "cell_type": "code",
      "metadata": {
        "id": "js4YmKkXB7I-",
        "colab": {
          "base_uri": "https://localhost:8080/"
        },
        "outputId": "a3986fe9-4d1b-4e2f-af80-b7b068446bb3"
      },
      "source": [
        "test_path = pathlib.Path('/root/.keras/datasets/Test')\n",
        "images_test = os.listdir(test_path)\n",
        "print(len(images_test))"
      ],
      "execution_count": 6,
      "outputs": [
        {
          "output_type": "stream",
          "text": [
            "500\n"
          ],
          "name": "stdout"
        }
      ]
    },
    {
      "cell_type": "markdown",
      "metadata": {
        "id": "j1DAFXyR-pli"
      },
      "source": [
        "Instalamos la librería *tensorflow-addons* que contiene la métrica F1Score, métrica que usaremos para evaluar los modelos."
      ]
    },
    {
      "cell_type": "code",
      "metadata": {
        "id": "wK_aO4AVCASV",
        "colab": {
          "base_uri": "https://localhost:8080/"
        },
        "outputId": "3506cb24-aa74-4e99-fb8d-ab298bc83589"
      },
      "source": [
        "!pip install tensorflow-addons"
      ],
      "execution_count": 7,
      "outputs": [
        {
          "output_type": "stream",
          "text": [
            "Collecting tensorflow-addons\n",
            "\u001b[?25l  Downloading https://files.pythonhosted.org/packages/74/e3/56d2fe76f0bb7c88ed9b2a6a557e25e83e252aec08f13de34369cd850a0b/tensorflow_addons-0.12.1-cp37-cp37m-manylinux2010_x86_64.whl (703kB)\n",
            "\r\u001b[K     |▌                               | 10kB 17.5MB/s eta 0:00:01\r\u001b[K     |█                               | 20kB 11.2MB/s eta 0:00:01\r\u001b[K     |█▍                              | 30kB 9.8MB/s eta 0:00:01\r\u001b[K     |█▉                              | 40kB 8.2MB/s eta 0:00:01\r\u001b[K     |██▎                             | 51kB 5.5MB/s eta 0:00:01\r\u001b[K     |██▉                             | 61kB 6.0MB/s eta 0:00:01\r\u001b[K     |███▎                            | 71kB 6.0MB/s eta 0:00:01\r\u001b[K     |███▊                            | 81kB 6.4MB/s eta 0:00:01\r\u001b[K     |████▏                           | 92kB 6.1MB/s eta 0:00:01\r\u001b[K     |████▋                           | 102kB 5.3MB/s eta 0:00:01\r\u001b[K     |█████▏                          | 112kB 5.3MB/s eta 0:00:01\r\u001b[K     |█████▋                          | 122kB 5.3MB/s eta 0:00:01\r\u001b[K     |██████                          | 133kB 5.3MB/s eta 0:00:01\r\u001b[K     |██████▌                         | 143kB 5.3MB/s eta 0:00:01\r\u001b[K     |███████                         | 153kB 5.3MB/s eta 0:00:01\r\u001b[K     |███████▌                        | 163kB 5.3MB/s eta 0:00:01\r\u001b[K     |████████                        | 174kB 5.3MB/s eta 0:00:01\r\u001b[K     |████████▍                       | 184kB 5.3MB/s eta 0:00:01\r\u001b[K     |████████▉                       | 194kB 5.3MB/s eta 0:00:01\r\u001b[K     |█████████▎                      | 204kB 5.3MB/s eta 0:00:01\r\u001b[K     |█████████▉                      | 215kB 5.3MB/s eta 0:00:01\r\u001b[K     |██████████▎                     | 225kB 5.3MB/s eta 0:00:01\r\u001b[K     |██████████▊                     | 235kB 5.3MB/s eta 0:00:01\r\u001b[K     |███████████▏                    | 245kB 5.3MB/s eta 0:00:01\r\u001b[K     |███████████▋                    | 256kB 5.3MB/s eta 0:00:01\r\u001b[K     |████████████▏                   | 266kB 5.3MB/s eta 0:00:01\r\u001b[K     |████████████▋                   | 276kB 5.3MB/s eta 0:00:01\r\u001b[K     |█████████████                   | 286kB 5.3MB/s eta 0:00:01\r\u001b[K     |█████████████▌                  | 296kB 5.3MB/s eta 0:00:01\r\u001b[K     |██████████████                  | 307kB 5.3MB/s eta 0:00:01\r\u001b[K     |██████████████▍                 | 317kB 5.3MB/s eta 0:00:01\r\u001b[K     |███████████████                 | 327kB 5.3MB/s eta 0:00:01\r\u001b[K     |███████████████▍                | 337kB 5.3MB/s eta 0:00:01\r\u001b[K     |███████████████▉                | 348kB 5.3MB/s eta 0:00:01\r\u001b[K     |████████████████▎               | 358kB 5.3MB/s eta 0:00:01\r\u001b[K     |████████████████▊               | 368kB 5.3MB/s eta 0:00:01\r\u001b[K     |█████████████████▎              | 378kB 5.3MB/s eta 0:00:01\r\u001b[K     |█████████████████▊              | 389kB 5.3MB/s eta 0:00:01\r\u001b[K     |██████████████████▏             | 399kB 5.3MB/s eta 0:00:01\r\u001b[K     |██████████████████▋             | 409kB 5.3MB/s eta 0:00:01\r\u001b[K     |███████████████████             | 419kB 5.3MB/s eta 0:00:01\r\u001b[K     |███████████████████▋            | 430kB 5.3MB/s eta 0:00:01\r\u001b[K     |████████████████████            | 440kB 5.3MB/s eta 0:00:01\r\u001b[K     |████████████████████▌           | 450kB 5.3MB/s eta 0:00:01\r\u001b[K     |█████████████████████           | 460kB 5.3MB/s eta 0:00:01\r\u001b[K     |█████████████████████▍          | 471kB 5.3MB/s eta 0:00:01\r\u001b[K     |██████████████████████          | 481kB 5.3MB/s eta 0:00:01\r\u001b[K     |██████████████████████▍         | 491kB 5.3MB/s eta 0:00:01\r\u001b[K     |██████████████████████▉         | 501kB 5.3MB/s eta 0:00:01\r\u001b[K     |███████████████████████▎        | 512kB 5.3MB/s eta 0:00:01\r\u001b[K     |███████████████████████▊        | 522kB 5.3MB/s eta 0:00:01\r\u001b[K     |████████████████████████▎       | 532kB 5.3MB/s eta 0:00:01\r\u001b[K     |████████████████████████▊       | 542kB 5.3MB/s eta 0:00:01\r\u001b[K     |█████████████████████████▏      | 552kB 5.3MB/s eta 0:00:01\r\u001b[K     |█████████████████████████▋      | 563kB 5.3MB/s eta 0:00:01\r\u001b[K     |██████████████████████████      | 573kB 5.3MB/s eta 0:00:01\r\u001b[K     |██████████████████████████▋     | 583kB 5.3MB/s eta 0:00:01\r\u001b[K     |███████████████████████████     | 593kB 5.3MB/s eta 0:00:01\r\u001b[K     |███████████████████████████▌    | 604kB 5.3MB/s eta 0:00:01\r\u001b[K     |████████████████████████████    | 614kB 5.3MB/s eta 0:00:01\r\u001b[K     |████████████████████████████▍   | 624kB 5.3MB/s eta 0:00:01\r\u001b[K     |████████████████████████████▉   | 634kB 5.3MB/s eta 0:00:01\r\u001b[K     |█████████████████████████████▍  | 645kB 5.3MB/s eta 0:00:01\r\u001b[K     |█████████████████████████████▉  | 655kB 5.3MB/s eta 0:00:01\r\u001b[K     |██████████████████████████████▎ | 665kB 5.3MB/s eta 0:00:01\r\u001b[K     |██████████████████████████████▊ | 675kB 5.3MB/s eta 0:00:01\r\u001b[K     |███████████████████████████████▏| 686kB 5.3MB/s eta 0:00:01\r\u001b[K     |███████████████████████████████▊| 696kB 5.3MB/s eta 0:00:01\r\u001b[K     |████████████████████████████████| 706kB 5.3MB/s \n",
            "\u001b[?25hRequirement already satisfied: typeguard>=2.7 in /usr/local/lib/python3.7/dist-packages (from tensorflow-addons) (2.7.1)\n",
            "Installing collected packages: tensorflow-addons\n",
            "Successfully installed tensorflow-addons-0.12.1\n"
          ],
          "name": "stdout"
        }
      ]
    },
    {
      "cell_type": "markdown",
      "metadata": {
        "id": "xMb1t-iE-3d1"
      },
      "source": [
        "Cargamos alguna de las librerías que usaremos posteriormente"
      ]
    },
    {
      "cell_type": "code",
      "metadata": {
        "id": "GVN0riV3CEFH"
      },
      "source": [
        "from tensorflow.keras.preprocessing.image import ImageDataGenerator\n",
        "import tensorflow_addons as tfa\n",
        "from keras.preprocessing.image import ImageDataGenerator  \n",
        "from keras.applications import densenet  \n",
        "from keras.models import Sequential, Model, load_model  \n",
        "from keras.layers import Conv2D, MaxPooling2D  \n",
        "from keras.layers import Activation, Dropout, Flatten, Dense  \n",
        "from keras.callbacks import EarlyStopping, ReduceLROnPlateau, ModelCheckpoint, Callback  \n",
        "from keras import regularizers  \n",
        "from keras import backend as K  \n",
        "from matplotlib import pyplot as plt\n",
        "import tensorflow as tf\n",
        "keras = tf.keras"
      ],
      "execution_count": 8,
      "outputs": []
    },
    {
      "cell_type": "markdown",
      "metadata": {
        "id": "gndL6NezCG54"
      },
      "source": [
        "# Data Augmentation"
      ]
    },
    {
      "cell_type": "markdown",
      "metadata": {
        "id": "t5CCvFtd-d-5"
      },
      "source": [
        "Establecemos las dimensiones del batch y de las imagenes con las que vamos a trabajar. Se ha decidido trabajar con la imagen a tamaño original ya que no tiene una resolución excesiva."
      ]
    },
    {
      "cell_type": "code",
      "metadata": {
        "id": "GsMd2vnqCLoU"
      },
      "source": [
        "batch_size  = 32\n",
        "img_height = 224\n",
        "img_width  = 224\n",
        "train_path = pathlib.Path('/root/.keras/datasets/ImagesTrain')"
      ],
      "execution_count": 9,
      "outputs": []
    },
    {
      "cell_type": "code",
      "metadata": {
        "id": "s6enG3MACM0P"
      },
      "source": [
        "import shutil\n",
        "import os"
      ],
      "execution_count": 10,
      "outputs": []
    },
    {
      "cell_type": "markdown",
      "metadata": {
        "id": "231gyQuM-_1e"
      },
      "source": [
        "El dataset original contiene pocas imágenes para cada una de las clases. Por ello, aplicamos Data Augmentation.\n",
        "\n",
        "Durante este proceso, que se realiza en tiempo de ejecucción, se van generar nuevas imagenes a partir de las ya existentes. Las combinaciones de movimientos que hemos elegido han sido:\n",
        "\n",
        "*   vertical_flip\n",
        "*   horizontal_flip\n",
        "\n",
        "Se ha desestimado realizar cortes en las imágenes por temor a realizar cortes que provocaran confusión al modelo. Por ejemplo, una imagen que contenga agua y verde, puede que el corte se quede unicamente con el agua.\n",
        "\n",
        "El 20% de las imagenes generadas se utilizarán para validación.\n",
        "\n",
        "\n",
        "\n",
        "\n",
        "\n"
      ]
    },
    {
      "cell_type": "code",
      "metadata": {
        "id": "f5Ct4lYvCN2a"
      },
      "source": [
        "train_ds_gen = ImageDataGenerator(vertical_flip    = True,\n",
        "                                  horizontal_flip  = True,\n",
        "                                  validation_split = 0.2)"
      ],
      "execution_count": 11,
      "outputs": []
    },
    {
      "cell_type": "code",
      "metadata": {
        "id": "B1ZD66YJCPKW",
        "colab": {
          "base_uri": "https://localhost:8080/"
        },
        "outputId": "16bc17c4-62de-4a50-899c-8ccb3acd6664"
      },
      "source": [
        "train_data_gen = train_ds_gen.flow_from_directory(batch_size=batch_size,\n",
        "                                                  directory=train_path,\n",
        "                                                  shuffle=True,\n",
        "                                                  target_size=(img_height, img_width),\n",
        "                                                  subset='training',\n",
        "                                                  class_mode='categorical')"
      ],
      "execution_count": 12,
      "outputs": [
        {
          "output_type": "stream",
          "text": [
            "Found 2000 images belonging to 25 classes.\n"
          ],
          "name": "stdout"
        }
      ]
    },
    {
      "cell_type": "code",
      "metadata": {
        "id": "I3WX5-moCQ9i",
        "colab": {
          "base_uri": "https://localhost:8080/"
        },
        "outputId": "1af2108f-2c4e-43de-abfb-6a13e24507a5"
      },
      "source": [
        "valid_data_gen = train_ds_gen.flow_from_directory(batch_size=batch_size,\n",
        "                                                  directory=train_path,\n",
        "                                                  shuffle=True,\n",
        "                                                  target_size=(img_height, img_width),\n",
        "                                                  subset='validation',\n",
        "                                                  class_mode='categorical')"
      ],
      "execution_count": 13,
      "outputs": [
        {
          "output_type": "stream",
          "text": [
            "Found 500 images belonging to 25 classes.\n"
          ],
          "name": "stdout"
        }
      ]
    },
    {
      "cell_type": "code",
      "metadata": {
        "id": "ICSMEh22CSV2",
        "colab": {
          "base_uri": "https://localhost:8080/"
        },
        "outputId": "04b96e13-25dd-47ce-d4cd-3d9d10458afc"
      },
      "source": [
        "test_data_gen = train_ds_gen.flow_from_directory(batch_size=batch_size,\n",
        "                                                  directory=train_path,\n",
        "                                                  shuffle=True,\n",
        "                                                  target_size=(img_height, img_width),\n",
        "                                                  class_mode='categorical')"
      ],
      "execution_count": 14,
      "outputs": [
        {
          "output_type": "stream",
          "text": [
            "Found 2500 images belonging to 25 classes.\n"
          ],
          "name": "stdout"
        }
      ]
    },
    {
      "cell_type": "markdown",
      "metadata": {
        "id": "EVgQgXHWBnaV"
      },
      "source": [
        "# Arquitecturas"
      ]
    },
    {
      "cell_type": "markdown",
      "metadata": {
        "id": "EFX6QoU1dCcN"
      },
      "source": [
        "#### Modelo Base Resnet50 + Capa de Prediccion"
      ]
    },
    {
      "cell_type": "markdown",
      "metadata": {
        "id": "S9TopdL8Ayd7"
      },
      "source": [
        "El primer modelo que hemos probado es utilizar una red pre-entrenada como es ResNet50 con los pesos propios de *imagenet*, añadiendo al modelo una par de capas más:\n",
        "\n",
        "\n",
        "1.   **GlobalAveragePooling2D**:  aplica la agrupación promedio en las dimensiones espaciales hasta que cada dimensión espacial sea una, y deja otras dimensiones sin cambios \n",
        "2.   **Dense(25, activation='softmax')**: capa que asocia a cada instancia un array de probablidades para cada clase\n",
        "\n"
      ]
    },
    {
      "cell_type": "code",
      "metadata": {
        "id": "izZ9gyNwZFAM"
      },
      "source": [
        "base_model = tf.keras.applications.ResNet50(input_shape = (224, 224, 3), \n",
        "                                            classes     = 25,\n",
        "                                            include_top  = False)\n",
        "\n",
        "image_batch, label_batch = next(iter(train_data_gen))\n",
        "feature_batch = base_model(image_batch)\n",
        "base_model.trainable = False\n",
        "\n",
        "\n",
        "\n",
        "global_average_layer = tf.keras.layers.GlobalAveragePooling2D()\n",
        "prediction_layer = keras.layers.Dense(25, activation='softmax')\n",
        "\n",
        "\n",
        "model = tf.keras.Sequential([\n",
        "  base_model,\n",
        "  global_average_layer,\n",
        "  prediction_layer\n",
        "])\n"
      ],
      "execution_count": 23,
      "outputs": []
    },
    {
      "cell_type": "code",
      "metadata": {
        "colab": {
          "base_uri": "https://localhost:8080/"
        },
        "id": "l8vin7oiBobt",
        "outputId": "bd4041c1-f28f-49fc-f398-49e265e568e4"
      },
      "source": [
        "model.summary()"
      ],
      "execution_count": 24,
      "outputs": [
        {
          "output_type": "stream",
          "text": [
            "Model: \"sequential_5\"\n",
            "_________________________________________________________________\n",
            "Layer (type)                 Output Shape              Param #   \n",
            "=================================================================\n",
            "resnet50 (Functional)        (None, 7, 7, 2048)        23587712  \n",
            "_________________________________________________________________\n",
            "global_average_pooling2d_5 ( (None, 2048)              0         \n",
            "_________________________________________________________________\n",
            "dense_17 (Dense)             (None, 25)                51225     \n",
            "=================================================================\n",
            "Total params: 23,638,937\n",
            "Trainable params: 51,225\n",
            "Non-trainable params: 23,587,712\n",
            "_________________________________________________________________\n"
          ],
          "name": "stdout"
        }
      ]
    },
    {
      "cell_type": "code",
      "metadata": {
        "id": "PwL2ctktiRP7"
      },
      "source": [
        "opt = tf.keras.optimizers.Adagrad()\n",
        "\n",
        "\n",
        "model.compile(loss=\"categorical_crossentropy\",\n",
        "              optimizer=opt,\n",
        "\t            metrics=[tfa.metrics.F1Score(num_classes=25, average='weighted')],\n",
        "              )"
      ],
      "execution_count": 29,
      "outputs": []
    },
    {
      "cell_type": "code",
      "metadata": {
        "id": "JeOc_JCVbyTl",
        "colab": {
          "base_uri": "https://localhost:8080/"
        },
        "outputId": "f778a9e7-b721-4a00-af39-ab698d9e85f3"
      },
      "source": [
        "tf.random.set_seed(2021)\n",
        "\n",
        "model_history = model.fit(  \n",
        "    train_data_gen,\n",
        "    epochs=39,\n",
        "    validation_data=valid_data_gen,\n",
        "    validation_steps= valid_data_gen.n // batch_size)"
      ],
      "execution_count": 30,
      "outputs": [
        {
          "output_type": "stream",
          "text": [
            "Epoch 1/39\n",
            "63/63 [==============================] - 274s 4s/step - loss: 1.1649 - f1_score: 0.8131 - val_loss: 1.1454 - val_f1_score: 0.7640\n",
            "Epoch 2/39\n",
            "63/63 [==============================] - 270s 4s/step - loss: 1.0830 - f1_score: 0.8123 - val_loss: 1.0802 - val_f1_score: 0.7875\n",
            "Epoch 3/39\n",
            "63/63 [==============================] - 269s 4s/step - loss: 0.9933 - f1_score: 0.8305 - val_loss: 1.0334 - val_f1_score: 0.7965\n",
            "Epoch 4/39\n",
            "63/63 [==============================] - 269s 4s/step - loss: 0.9218 - f1_score: 0.8578 - val_loss: 0.9769 - val_f1_score: 0.8065\n",
            "Epoch 5/39\n",
            "63/63 [==============================] - 270s 4s/step - loss: 0.8895 - f1_score: 0.8483 - val_loss: 0.9270 - val_f1_score: 0.8248\n",
            "Epoch 6/39\n",
            "63/63 [==============================] - 270s 4s/step - loss: 0.8987 - f1_score: 0.8424 - val_loss: 0.9083 - val_f1_score: 0.8243\n",
            "Epoch 7/39\n",
            "63/63 [==============================] - 270s 4s/step - loss: 0.8283 - f1_score: 0.8481 - val_loss: 0.8899 - val_f1_score: 0.8350\n",
            "Epoch 8/39\n",
            "63/63 [==============================] - 269s 4s/step - loss: 0.8209 - f1_score: 0.8669 - val_loss: 0.8706 - val_f1_score: 0.8295\n",
            "Epoch 9/39\n",
            "63/63 [==============================] - 268s 4s/step - loss: 0.7998 - f1_score: 0.8513 - val_loss: 0.8532 - val_f1_score: 0.8333\n",
            "Epoch 10/39\n",
            "63/63 [==============================] - 268s 4s/step - loss: 0.7910 - f1_score: 0.8521 - val_loss: 0.8384 - val_f1_score: 0.8312\n",
            "Epoch 11/39\n",
            "63/63 [==============================] - 269s 4s/step - loss: 0.7529 - f1_score: 0.8597 - val_loss: 0.8447 - val_f1_score: 0.8251\n",
            "Epoch 12/39\n",
            "63/63 [==============================] - 269s 4s/step - loss: 0.7668 - f1_score: 0.8590 - val_loss: 0.8360 - val_f1_score: 0.8137\n",
            "Epoch 13/39\n",
            "63/63 [==============================] - 269s 4s/step - loss: 0.7003 - f1_score: 0.8768 - val_loss: 0.7932 - val_f1_score: 0.8419\n",
            "Epoch 14/39\n",
            "63/63 [==============================] - 269s 4s/step - loss: 0.7088 - f1_score: 0.8707 - val_loss: 0.7752 - val_f1_score: 0.8437\n",
            "Epoch 15/39\n",
            "63/63 [==============================] - 268s 4s/step - loss: 0.7029 - f1_score: 0.8583 - val_loss: 0.7800 - val_f1_score: 0.8338\n",
            "Epoch 16/39\n",
            "63/63 [==============================] - 268s 4s/step - loss: 0.6997 - f1_score: 0.8707 - val_loss: 0.7605 - val_f1_score: 0.8386\n",
            "Epoch 17/39\n",
            "63/63 [==============================] - 268s 4s/step - loss: 0.6751 - f1_score: 0.8754 - val_loss: 0.7501 - val_f1_score: 0.8429\n",
            "Epoch 18/39\n",
            "63/63 [==============================] - 268s 4s/step - loss: 0.6807 - f1_score: 0.8583 - val_loss: 0.7671 - val_f1_score: 0.8436\n",
            "Epoch 19/39\n",
            "63/63 [==============================] - 268s 4s/step - loss: 0.6345 - f1_score: 0.8773 - val_loss: 0.7438 - val_f1_score: 0.8351\n",
            "Epoch 20/39\n",
            "63/63 [==============================] - 268s 4s/step - loss: 0.6528 - f1_score: 0.8722 - val_loss: 0.7397 - val_f1_score: 0.8372\n",
            "Epoch 21/39\n",
            "63/63 [==============================] - 267s 4s/step - loss: 0.6472 - f1_score: 0.8739 - val_loss: 0.7127 - val_f1_score: 0.8347\n",
            "Epoch 22/39\n",
            "63/63 [==============================] - 267s 4s/step - loss: 0.6496 - f1_score: 0.8766 - val_loss: 0.7373 - val_f1_score: 0.8290\n",
            "Epoch 23/39\n",
            "63/63 [==============================] - 268s 4s/step - loss: 0.6415 - f1_score: 0.8837 - val_loss: 0.7142 - val_f1_score: 0.8355\n",
            "Epoch 24/39\n",
            "63/63 [==============================] - 267s 4s/step - loss: 0.6234 - f1_score: 0.8852 - val_loss: 0.7230 - val_f1_score: 0.8347\n",
            "Epoch 25/39\n",
            "63/63 [==============================] - 267s 4s/step - loss: 0.6330 - f1_score: 0.8665 - val_loss: 0.7001 - val_f1_score: 0.8500\n",
            "Epoch 26/39\n",
            "63/63 [==============================] - 268s 4s/step - loss: 0.6026 - f1_score: 0.8858 - val_loss: 0.6765 - val_f1_score: 0.8478\n",
            "Epoch 27/39\n",
            "63/63 [==============================] - 268s 4s/step - loss: 0.6101 - f1_score: 0.8880 - val_loss: 0.7008 - val_f1_score: 0.8372\n",
            "Epoch 28/39\n",
            "63/63 [==============================] - 268s 4s/step - loss: 0.5831 - f1_score: 0.8786 - val_loss: 0.6808 - val_f1_score: 0.8473\n",
            "Epoch 29/39\n",
            "63/63 [==============================] - 268s 4s/step - loss: 0.5948 - f1_score: 0.8733 - val_loss: 0.6850 - val_f1_score: 0.8430\n",
            "Epoch 30/39\n",
            "63/63 [==============================] - 268s 4s/step - loss: 0.5920 - f1_score: 0.8777 - val_loss: 0.6883 - val_f1_score: 0.8518\n",
            "Epoch 31/39\n",
            "63/63 [==============================] - 268s 4s/step - loss: 0.5729 - f1_score: 0.8870 - val_loss: 0.6813 - val_f1_score: 0.8416\n",
            "Epoch 32/39\n",
            "63/63 [==============================] - 267s 4s/step - loss: 0.5792 - f1_score: 0.8864 - val_loss: 0.6795 - val_f1_score: 0.8519\n",
            "Epoch 33/39\n",
            "63/63 [==============================] - 268s 4s/step - loss: 0.5365 - f1_score: 0.9015 - val_loss: 0.6679 - val_f1_score: 0.8536\n",
            "Epoch 34/39\n",
            "63/63 [==============================] - 267s 4s/step - loss: 0.5631 - f1_score: 0.8886 - val_loss: 0.6574 - val_f1_score: 0.8470\n",
            "Epoch 35/39\n",
            "63/63 [==============================] - 268s 4s/step - loss: 0.5768 - f1_score: 0.8931 - val_loss: 0.6571 - val_f1_score: 0.8489\n",
            "Epoch 36/39\n",
            "63/63 [==============================] - 267s 4s/step - loss: 0.5422 - f1_score: 0.8976 - val_loss: 0.6650 - val_f1_score: 0.8494\n",
            "Epoch 37/39\n",
            "63/63 [==============================] - 268s 4s/step - loss: 0.5491 - f1_score: 0.9007 - val_loss: 0.6471 - val_f1_score: 0.8530\n",
            "Epoch 38/39\n",
            "63/63 [==============================] - 267s 4s/step - loss: 0.5206 - f1_score: 0.9114 - val_loss: 0.6307 - val_f1_score: 0.8582\n",
            "Epoch 39/39\n",
            "63/63 [==============================] - 267s 4s/step - loss: 0.5408 - f1_score: 0.8946 - val_loss: 0.6317 - val_f1_score: 0.8598\n"
          ],
          "name": "stdout"
        }
      ]
    },
    {
      "cell_type": "markdown",
      "metadata": {
        "id": "sbQp-8zv4x9l"
      },
      "source": [
        "Dibujamos una gráfica que enfrente los valores de *f1_score* y *val_f1_score*"
      ]
    },
    {
      "cell_type": "code",
      "metadata": {
        "id": "5gjg8R1qh8dW"
      },
      "source": [
        "from matplotlib import pyplot as plt"
      ],
      "execution_count": 31,
      "outputs": []
    },
    {
      "cell_type": "code",
      "metadata": {
        "colab": {
          "base_uri": "https://localhost:8080/",
          "height": 279
        },
        "id": "QJoUJ055GGS9",
        "outputId": "617612a8-5c2f-41c0-d874-09bfa518015a"
      },
      "source": [
        "plt.plot(model_history.history['f1_score'])\n",
        "plt.plot(model_history.history['val_f1_score'])\n",
        "# plt.title('model f1_score')\n",
        "plt.ylabel('f1_score')\n",
        "plt.xlabel('epoch')\n",
        "plt.legend(['train', 'test'], loc='upper left')\n",
        "plt.show()"
      ],
      "execution_count": 32,
      "outputs": [
        {
          "output_type": "display_data",
          "data": {
            "image/png": "[encoded data removed]",
            "text/plain": [
              "<Figure size 432x288 with 1 Axes>"
            ]
          },
          "metadata": {
            "tags": [],
            "needs_background": "light"
          }
        }
      ]
    },
    {
      "cell_type": "markdown",
      "metadata": {
        "id": "x_hjWcsGdV3o"
      },
      "source": [
        "#### Modelo Base Resnet50 + 3 Dense"
      ]
    },
    {
      "cell_type": "markdown",
      "metadata": {
        "id": "839q7167C7-z"
      },
      "source": [
        "Una vez hemos conseguido un modelo que parece funcionar de forma correcta, emepzamos añadir nuevas capas para añadir cierta complejidad al modelo. De esta forma, las capas buscaran patrones mas complejos en cada imagen.\n",
        "\n",
        "Se añaden las siguientes capas Dense al modelo anterior:\n",
        "\n",
        "*   Dense(2048, activation='relu')\n",
        "*   Dense(512, activation='relu')\n",
        "*   Dense(1024, activation='relu')\n",
        "*   Dropout(0.25)\n",
        "\n",
        "\n",
        "Se modificó el orden las capas, pero el mejor modelo seguía el orden anterior.\n"
      ]
    },
    {
      "cell_type": "code",
      "metadata": {
        "id": "2abVqjMrKui4",
        "colab": {
          "base_uri": "https://localhost:8080/"
        },
        "outputId": "558599f7-f6ce-499b-8d8c-5c88f13adb9e"
      },
      "source": [
        "base_model = tf.keras.applications.ResNet50(input_shape = (224, 224, 3), \n",
        "                                            classes     = 25,\n",
        "                                            include_top  = False)\n",
        "\n",
        "image_batch, label_batch = next(iter(train_data_gen))\n",
        "feature_batch = base_model(image_batch)\n",
        "base_model.trainable = False\n",
        "\n",
        "dense_layer_2048 = Dense(2048, activation='relu')\n",
        "dense_layer_512  = Dense(512, activation='relu')\n",
        "dense_layer_1024 = Dense(1024, activation='relu')\n",
        "\n",
        "dropout          = Dropout(0.25)\n",
        "\n",
        "global_average_layer = tf.keras.layers.GlobalAveragePooling2D()\n",
        "prediction_layer = keras.layers.Dense(25, activation='softmax')\n",
        "\n",
        "model_1 = tf.keras.Sequential([\n",
        "  base_model,\n",
        "  global_average_layer,\n",
        "  dense_layer_2048,\n",
        "  dropout,\n",
        "  dense_layer_512,\n",
        "  dropout,\n",
        "  dense_layer_1024,\n",
        "  prediction_layer\n",
        "])\n",
        "\n",
        "model_1.summary()"
      ],
      "execution_count": 22,
      "outputs": [
        {
          "output_type": "stream",
          "text": [
            "Model: \"sequential_4\"\n",
            "_________________________________________________________________\n",
            "Layer (type)                 Output Shape              Param #   \n",
            "=================================================================\n",
            "resnet50 (Functional)        (None, 7, 7, 2048)        23587712  \n",
            "_________________________________________________________________\n",
            "global_average_pooling2d_4 ( (None, 2048)              0         \n",
            "_________________________________________________________________\n",
            "dense_13 (Dense)             (None, 2048)              4196352   \n",
            "_________________________________________________________________\n",
            "dropout_6 (Dropout)          multiple                  0         \n",
            "_________________________________________________________________\n",
            "dense_14 (Dense)             (None, 512)               1049088   \n",
            "_________________________________________________________________\n",
            "dense_15 (Dense)             (None, 1024)              525312    \n",
            "_________________________________________________________________\n",
            "dense_16 (Dense)             (None, 25)                25625     \n",
            "=================================================================\n",
            "Total params: 29,384,089\n",
            "Trainable params: 5,796,377\n",
            "Non-trainable params: 23,587,712\n",
            "_________________________________________________________________\n"
          ],
          "name": "stdout"
        }
      ]
    },
    {
      "cell_type": "code",
      "metadata": {
        "id": "x8j3K0iTPm7I"
      },
      "source": [
        "opt = tf.keras.optimizers.Adagrad()\n",
        "\n",
        "callback = tf.keras.callbacks.EarlyStopping(monitor='f1_score', patience=5)\n",
        "\n",
        "model_1.compile(loss=\"categorical_crossentropy\",\n",
        "              optimizer=opt,\n",
        "\t            metrics=[tfa.metrics.F1Score(num_classes=25, average='weighted')],\n",
        "              )"
      ],
      "execution_count": null,
      "outputs": []
    },
    {
      "cell_type": "code",
      "metadata": {
        "colab": {
          "base_uri": "https://localhost:8080/"
        },
        "id": "rOFN4So_Pm7J",
        "outputId": "011d22cb-4cf3-4d45-e9a5-14638a2d8648"
      },
      "source": [
        "tf.random.set_seed(2021)\n",
        "\n",
        "model_history_1 = model_1.fit(  \n",
        "    train_data_gen,\n",
        "    epochs=50,\n",
        "    validation_data=valid_data_gen,\n",
        "    validation_steps= valid_data_gen.n // batch_size)"
      ],
      "execution_count": null,
      "outputs": [
        {
          "output_type": "stream",
          "text": [
            "Epoch 1/50\n",
            "63/63 [==============================] - 383s 6s/step - loss: 3.1334 - f1_score: 0.1046 - val_loss: 2.5181 - val_f1_score: 0.4795\n",
            "Epoch 2/50\n",
            "63/63 [==============================] - 378s 6s/step - loss: 2.5349 - f1_score: 0.3676 - val_loss: 1.9645 - val_f1_score: 0.6243\n",
            "Epoch 3/50\n",
            "63/63 [==============================] - 390s 6s/step - loss: 2.0416 - f1_score: 0.5068 - val_loss: 1.5346 - val_f1_score: 0.7232\n",
            "Epoch 4/50\n",
            "63/63 [==============================] - 389s 6s/step - loss: 1.6152 - f1_score: 0.6252 - val_loss: 1.2329 - val_f1_score: 0.7495\n",
            "Epoch 5/50\n",
            "63/63 [==============================] - 388s 6s/step - loss: 1.3752 - f1_score: 0.6677 - val_loss: 1.0576 - val_f1_score: 0.7800\n",
            "Epoch 6/50\n",
            "63/63 [==============================] - 390s 6s/step - loss: 1.1837 - f1_score: 0.7032 - val_loss: 0.9077 - val_f1_score: 0.7835\n",
            "Epoch 7/50\n",
            "63/63 [==============================] - 386s 6s/step - loss: 1.0406 - f1_score: 0.7454 - val_loss: 0.8434 - val_f1_score: 0.7952\n",
            "Epoch 8/50\n",
            "63/63 [==============================] - 389s 6s/step - loss: 0.9415 - f1_score: 0.7505 - val_loss: 0.7591 - val_f1_score: 0.8251\n",
            "Epoch 9/50\n",
            "63/63 [==============================] - 388s 6s/step - loss: 0.8930 - f1_score: 0.7620 - val_loss: 0.7062 - val_f1_score: 0.8382\n",
            "Epoch 10/50\n",
            "63/63 [==============================] - 385s 6s/step - loss: 0.7941 - f1_score: 0.7908 - val_loss: 0.6625 - val_f1_score: 0.8313\n",
            "Epoch 11/50\n",
            "63/63 [==============================] - 384s 6s/step - loss: 0.7623 - f1_score: 0.7907 - val_loss: 0.6276 - val_f1_score: 0.8468\n",
            "Epoch 12/50\n",
            "63/63 [==============================] - 384s 6s/step - loss: 0.6959 - f1_score: 0.8172 - val_loss: 0.6229 - val_f1_score: 0.8434\n",
            "Epoch 13/50\n",
            "63/63 [==============================] - 388s 6s/step - loss: 0.6679 - f1_score: 0.8030 - val_loss: 0.5876 - val_f1_score: 0.8314\n",
            "Epoch 14/50\n",
            "63/63 [==============================] - 390s 6s/step - loss: 0.6330 - f1_score: 0.8233 - val_loss: 0.5711 - val_f1_score: 0.8448\n",
            "Epoch 15/50\n",
            "63/63 [==============================] - 390s 6s/step - loss: 0.5914 - f1_score: 0.8326 - val_loss: 0.5429 - val_f1_score: 0.8597\n",
            "Epoch 16/50\n",
            "63/63 [==============================] - 390s 6s/step - loss: 0.5999 - f1_score: 0.8218 - val_loss: 0.5324 - val_f1_score: 0.8554\n",
            "Epoch 17/50\n",
            "63/63 [==============================] - 385s 6s/step - loss: 0.5577 - f1_score: 0.8485 - val_loss: 0.5040 - val_f1_score: 0.8657\n",
            "Epoch 18/50\n",
            "63/63 [==============================] - 385s 6s/step - loss: 0.5733 - f1_score: 0.8477 - val_loss: 0.4866 - val_f1_score: 0.8614\n",
            "Epoch 19/50\n",
            "63/63 [==============================] - 385s 6s/step - loss: 0.5016 - f1_score: 0.8535 - val_loss: 0.5069 - val_f1_score: 0.8575\n",
            "Epoch 20/50\n",
            "63/63 [==============================] - 390s 6s/step - loss: 0.5163 - f1_score: 0.8529 - val_loss: 0.4633 - val_f1_score: 0.8832\n",
            "Epoch 21/50\n",
            "63/63 [==============================] - 388s 6s/step - loss: 0.4796 - f1_score: 0.8696 - val_loss: 0.4588 - val_f1_score: 0.8697\n",
            "Epoch 22/50\n",
            "63/63 [==============================] - 393s 6s/step - loss: 0.4730 - f1_score: 0.8597 - val_loss: 0.4479 - val_f1_score: 0.8784\n",
            "Epoch 23/50\n",
            "63/63 [==============================] - 392s 6s/step - loss: 0.4646 - f1_score: 0.8685 - val_loss: 0.4378 - val_f1_score: 0.8750\n",
            "Epoch 24/50\n",
            "63/63 [==============================] - 384s 6s/step - loss: 0.4484 - f1_score: 0.8805 - val_loss: 0.4445 - val_f1_score: 0.8782\n",
            "Epoch 25/50\n",
            "63/63 [==============================] - 383s 6s/step - loss: 0.4657 - f1_score: 0.8661 - val_loss: 0.4210 - val_f1_score: 0.8885\n",
            "Epoch 26/50\n",
            "63/63 [==============================] - 380s 6s/step - loss: 0.4397 - f1_score: 0.8685 - val_loss: 0.4118 - val_f1_score: 0.8837\n",
            "Epoch 27/50\n",
            "63/63 [==============================] - 379s 6s/step - loss: 0.4372 - f1_score: 0.8737 - val_loss: 0.4291 - val_f1_score: 0.8812\n",
            "Epoch 28/50\n",
            "63/63 [==============================] - 379s 6s/step - loss: 0.4045 - f1_score: 0.8902 - val_loss: 0.4086 - val_f1_score: 0.8787\n",
            "Epoch 29/50\n",
            "63/63 [==============================] - 379s 6s/step - loss: 0.4286 - f1_score: 0.8750 - val_loss: 0.4043 - val_f1_score: 0.8880\n",
            "Epoch 30/50\n",
            "63/63 [==============================] - 380s 6s/step - loss: 0.3902 - f1_score: 0.8930 - val_loss: 0.4100 - val_f1_score: 0.8816\n",
            "Epoch 31/50\n",
            "63/63 [==============================] - 382s 6s/step - loss: 0.3956 - f1_score: 0.8856 - val_loss: 0.4008 - val_f1_score: 0.8868\n",
            "Epoch 32/50\n",
            "63/63 [==============================] - 375s 6s/step - loss: 0.3741 - f1_score: 0.8938 - val_loss: 0.3977 - val_f1_score: 0.8959\n",
            "Epoch 33/50\n",
            "63/63 [==============================] - 375s 6s/step - loss: 0.3818 - f1_score: 0.8929 - val_loss: 0.3948 - val_f1_score: 0.8858\n",
            "Epoch 34/50\n",
            "63/63 [==============================] - 375s 6s/step - loss: 0.3539 - f1_score: 0.8920 - val_loss: 0.3786 - val_f1_score: 0.8980\n",
            "Epoch 35/50\n",
            "63/63 [==============================] - 368s 6s/step - loss: 0.3713 - f1_score: 0.9065 - val_loss: 0.3857 - val_f1_score: 0.8893\n",
            "Epoch 36/50\n",
            "63/63 [==============================] - 365s 6s/step - loss: 0.3451 - f1_score: 0.9012 - val_loss: 0.3735 - val_f1_score: 0.8961\n",
            "Epoch 37/50\n",
            "63/63 [==============================] - 352s 6s/step - loss: 0.3529 - f1_score: 0.9073 - val_loss: 0.3628 - val_f1_score: 0.9066\n",
            "Epoch 38/50\n",
            "63/63 [==============================] - 341s 5s/step - loss: 0.3505 - f1_score: 0.8977 - val_loss: 0.3669 - val_f1_score: 0.8943\n",
            "Epoch 39/50\n",
            "63/63 [==============================] - 364s 6s/step - loss: 0.3366 - f1_score: 0.8993 - val_loss: 0.3586 - val_f1_score: 0.9080\n",
            "Epoch 40/50\n",
            "63/63 [==============================] - 366s 6s/step - loss: 0.3400 - f1_score: 0.8998 - val_loss: 0.3445 - val_f1_score: 0.9102\n",
            "Epoch 41/50\n",
            "63/63 [==============================] - 363s 6s/step - loss: 0.3078 - f1_score: 0.9125 - val_loss: 0.3680 - val_f1_score: 0.9020\n",
            "Epoch 42/50\n",
            "63/63 [==============================] - 346s 6s/step - loss: 0.3326 - f1_score: 0.9064 - val_loss: 0.3551 - val_f1_score: 0.8986\n",
            "Epoch 43/50\n",
            "63/63 [==============================] - 343s 5s/step - loss: 0.3261 - f1_score: 0.9127 - val_loss: 0.3731 - val_f1_score: 0.8935\n",
            "Epoch 44/50\n",
            "63/63 [==============================] - 337s 5s/step - loss: 0.3550 - f1_score: 0.8987 - val_loss: 0.3582 - val_f1_score: 0.9041\n",
            "Epoch 45/50\n",
            "63/63 [==============================] - 350s 6s/step - loss: 0.3201 - f1_score: 0.9117 - val_loss: 0.3581 - val_f1_score: 0.9068\n",
            "Epoch 46/50\n",
            "63/63 [==============================] - 358s 6s/step - loss: 0.3062 - f1_score: 0.9181 - val_loss: 0.3489 - val_f1_score: 0.9061\n",
            "Epoch 47/50\n",
            "63/63 [==============================] - 366s 6s/step - loss: 0.3028 - f1_score: 0.9263 - val_loss: 0.3496 - val_f1_score: 0.9127\n",
            "Epoch 48/50\n",
            "63/63 [==============================] - 365s 6s/step - loss: 0.2901 - f1_score: 0.9156 - val_loss: 0.3355 - val_f1_score: 0.9090\n",
            "Epoch 49/50\n",
            "63/63 [==============================] - 373s 6s/step - loss: 0.2877 - f1_score: 0.9198 - val_loss: 0.3372 - val_f1_score: 0.9097\n",
            "Epoch 50/50\n",
            "63/63 [==============================] - 374s 6s/step - loss: 0.2840 - f1_score: 0.9265 - val_loss: 0.3415 - val_f1_score: 0.9146\n"
          ],
          "name": "stdout"
        }
      ]
    },
    {
      "cell_type": "markdown",
      "metadata": {
        "id": "n646z6ibFoZZ"
      },
      "source": [
        "Si dibujamos la gráfica asociada a la métrica F1Score obtenida en el conjunto de datos de entrenamiento y valdiación, podemos observar que no existe diferencia entre ambos a medida que aumentan las epocas. \n",
        "\n",
        "Esto nos indica que nuestro modelo no sufre de sobreajuste o subajuste."
      ]
    },
    {
      "cell_type": "code",
      "metadata": {
        "colab": {
          "base_uri": "https://localhost:8080/",
          "height": 295
        },
        "id": "1ol0UUxp4O2Q",
        "outputId": "3f2e8d40-8a76-476d-d3ae-fe64aad3cf99"
      },
      "source": [
        "plt.plot(model_history_1.history['f1_score'])\n",
        "plt.plot(model_history_1.history['val_f1_score'])\n",
        "plt.title('model f1_score')\n",
        "plt.ylabel('f1_score')\n",
        "plt.xlabel('epoch')\n",
        "plt.legend(['train', 'test'], loc='upper left')\n",
        "plt.show()"
      ],
      "execution_count": null,
      "outputs": [
        {
          "output_type": "display_data",
          "data": {
            "image/png": "[encoded data removed]",
            "text/plain": [
              "<Figure size 432x288 with 1 Axes>"
            ]
          },
          "metadata": {
            "tags": [],
            "needs_background": "light"
          }
        }
      ]
    },
    {
      "cell_type": "markdown",
      "metadata": {
        "id": "Tvh6CcDOeF-e"
      },
      "source": [
        "#### Modelo Base Resnet50 + 6 Dense"
      ]
    },
    {
      "cell_type": "markdown",
      "metadata": {
        "id": "S1WlognkFFQl"
      },
      "source": [
        "Como hemos mejorado el modelo anterior añadiendo nuevas capas, procedemos a realizar lo mismo.\n",
        "De esta forma, las nuevas capas añadidas son las siguientes:\n",
        "\n",
        "* Dense(256, activation='relu')\n",
        "* Dense(128, activation='relu')\n",
        "* Dense(52,  activation='relu')\n",
        "\n"
      ]
    },
    {
      "cell_type": "code",
      "metadata": {
        "id": "9eCMiN0He92y",
        "colab": {
          "base_uri": "https://localhost:8080/"
        },
        "outputId": "a6e08241-85d3-4ca8-96e2-ce31c7e1ec6f"
      },
      "source": [
        "base_model = tf.keras.applications.ResNet50(input_shape = (224, 224, 3), \n",
        "                                            classes     = 25,\n",
        "                                            include_top  = False)\n",
        "\n",
        "image_batch, label_batch = next(iter(train_data_gen))\n",
        "feature_batch = base_model(image_batch)\n",
        "base_model.trainable = False\n",
        "\n",
        "dense_layer_2048 = Dense(2048, activation='relu')\n",
        "dense_layer_512  = Dense(512,  activation='relu')\n",
        "dense_layer_1024 = Dense(1024, activation='relu')\n",
        "\n",
        "dense_layer_256  = Dense(256, activation='relu')\n",
        "dense_layer_128  = Dense(128, activation='relu')\n",
        "dense_layer_52   = Dense(52,  activation='relu')\n",
        "\n",
        "dropout          = Dropout(0.25)\n",
        "\n",
        "global_average_layer = tf.keras.layers.GlobalAveragePooling2D()\n",
        "prediction_layer = keras.layers.Dense(25, activation='softmax')\n",
        "\n",
        "model_2 = tf.keras.Sequential([\n",
        "  base_model,\n",
        "  dense_layer_2048,\n",
        "  dropout,\n",
        "  dense_layer_512,\n",
        "  dropout,\n",
        "  dense_layer_1024,\n",
        "  dropout,\n",
        "  dense_layer_256,\n",
        "  dropout,\n",
        "  dense_layer_128,\n",
        "  dropout,\n",
        "  dense_layer_52,\n",
        "  dropout,\n",
        "  global_average_layer,\n",
        "  prediction_layer\n",
        "])"
      ],
      "execution_count": 15,
      "outputs": [
        {
          "output_type": "stream",
          "text": [
            "Downloading data from https://storage.googleapis.com/tensorflow/keras-applications/resnet/resnet50_weights_tf_dim_ordering_tf_kernels_notop.h5\n",
            "94773248/94765736 [==============================] - 1s 0us/step\n"
          ],
          "name": "stdout"
        }
      ]
    },
    {
      "cell_type": "code",
      "metadata": {
        "id": "qQQr79wCe921"
      },
      "source": [
        "opt = tf.keras.optimizers.Adagrad()\n",
        "\n",
        "callback = tf.keras.callbacks.EarlyStopping(monitor='f1_score', patience=5)\n",
        "\n",
        "model_2.compile(loss=\"categorical_crossentropy\",\n",
        "              optimizer=opt,\n",
        "\t            metrics=[tfa.metrics.F1Score(num_classes=25, average='weighted')],\n",
        "              )"
      ],
      "execution_count": 16,
      "outputs": []
    },
    {
      "cell_type": "code",
      "metadata": {
        "id": "CAuKJMOSe921",
        "colab": {
          "base_uri": "https://localhost:8080/"
        },
        "outputId": "babd33de-dc99-4a30-d955-aad15c8bc90a"
      },
      "source": [
        "tf.random.set_seed(2021)\n",
        "\n",
        "model_history_2 = model_2.fit(  \n",
        "    train_data_gen,\n",
        "    epochs=40,\n",
        "    validation_data=valid_data_gen,\n",
        "    validation_steps= valid_data_gen.n // batch_size)"
      ],
      "execution_count": 17,
      "outputs": [
        {
          "output_type": "stream",
          "text": [
            "Epoch 1/40\n",
            "63/63 [==============================] - 430s 7s/step - loss: 3.2786 - f1_score: 0.0136 - val_loss: 3.1866 - val_f1_score: 0.0537\n",
            "Epoch 2/40\n",
            "63/63 [==============================] - 426s 7s/step - loss: 3.2072 - f1_score: 0.0386 - val_loss: 3.1609 - val_f1_score: 0.0871\n",
            "Epoch 3/40\n",
            "63/63 [==============================] - 426s 7s/step - loss: 3.1815 - f1_score: 0.0483 - val_loss: 3.1278 - val_f1_score: 0.0937\n",
            "Epoch 4/40\n",
            "63/63 [==============================] - 427s 7s/step - loss: 3.1466 - f1_score: 0.0673 - val_loss: 3.0794 - val_f1_score: 0.0860\n",
            "Epoch 5/40\n",
            "63/63 [==============================] - 425s 7s/step - loss: 3.1216 - f1_score: 0.0738 - val_loss: 3.0130 - val_f1_score: 0.0864\n",
            "Epoch 6/40\n",
            "63/63 [==============================] - 424s 7s/step - loss: 3.0579 - f1_score: 0.0983 - val_loss: 2.9170 - val_f1_score: 0.1266\n",
            "Epoch 7/40\n",
            "63/63 [==============================] - 428s 7s/step - loss: 2.9784 - f1_score: 0.1106 - val_loss: 2.7745 - val_f1_score: 0.1981\n",
            "Epoch 8/40\n",
            "63/63 [==============================] - 428s 7s/step - loss: 2.8421 - f1_score: 0.1765 - val_loss: 2.6117 - val_f1_score: 0.2439\n",
            "Epoch 9/40\n",
            "63/63 [==============================] - 430s 7s/step - loss: 2.6955 - f1_score: 0.2117 - val_loss: 2.4205 - val_f1_score: 0.3560\n",
            "Epoch 10/40\n",
            "63/63 [==============================] - 430s 7s/step - loss: 2.4908 - f1_score: 0.2696 - val_loss: 2.1892 - val_f1_score: 0.4071\n",
            "Epoch 11/40\n",
            "63/63 [==============================] - 429s 7s/step - loss: 2.3069 - f1_score: 0.3407 - val_loss: 1.9841 - val_f1_score: 0.4342\n",
            "Epoch 12/40\n",
            "63/63 [==============================] - 430s 7s/step - loss: 2.0746 - f1_score: 0.3826 - val_loss: 1.7552 - val_f1_score: 0.4979\n",
            "Epoch 13/40\n",
            "63/63 [==============================] - 428s 7s/step - loss: 1.8340 - f1_score: 0.4791 - val_loss: 1.6665 - val_f1_score: 0.4700\n",
            "Epoch 14/40\n",
            "63/63 [==============================] - 428s 7s/step - loss: 1.6687 - f1_score: 0.5031 - val_loss: 1.4379 - val_f1_score: 0.5559\n",
            "Epoch 15/40\n",
            "63/63 [==============================] - 428s 7s/step - loss: 1.5121 - f1_score: 0.5541 - val_loss: 1.3611 - val_f1_score: 0.5424\n",
            "Epoch 16/40\n",
            "63/63 [==============================] - 428s 7s/step - loss: 1.3507 - f1_score: 0.6265 - val_loss: 1.2808 - val_f1_score: 0.6037\n",
            "Epoch 17/40\n",
            "63/63 [==============================] - 428s 7s/step - loss: 1.2665 - f1_score: 0.6347 - val_loss: 1.1899 - val_f1_score: 0.6288\n",
            "Epoch 18/40\n",
            "63/63 [==============================] - 429s 7s/step - loss: 1.1767 - f1_score: 0.6500 - val_loss: 1.1964 - val_f1_score: 0.6237\n",
            "Epoch 19/40\n",
            "63/63 [==============================] - 428s 7s/step - loss: 1.1031 - f1_score: 0.6756 - val_loss: 1.1132 - val_f1_score: 0.6532\n",
            "Epoch 20/40\n",
            "63/63 [==============================] - 426s 7s/step - loss: 1.0471 - f1_score: 0.6954 - val_loss: 1.0556 - val_f1_score: 0.6706\n",
            "Epoch 21/40\n",
            "63/63 [==============================] - 425s 7s/step - loss: 1.0027 - f1_score: 0.7119 - val_loss: 0.9010 - val_f1_score: 0.7280\n",
            "Epoch 22/40\n",
            "63/63 [==============================] - 425s 7s/step - loss: 0.9042 - f1_score: 0.7365 - val_loss: 0.8939 - val_f1_score: 0.7128\n",
            "Epoch 23/40\n",
            "63/63 [==============================] - 424s 7s/step - loss: 0.8894 - f1_score: 0.7451 - val_loss: 0.8696 - val_f1_score: 0.7364\n",
            "Epoch 24/40\n",
            "63/63 [==============================] - 424s 7s/step - loss: 0.8904 - f1_score: 0.7425 - val_loss: 0.8254 - val_f1_score: 0.7408\n",
            "Epoch 25/40\n",
            "63/63 [==============================] - 424s 7s/step - loss: 0.8346 - f1_score: 0.7685 - val_loss: 0.7752 - val_f1_score: 0.7576\n",
            "Epoch 26/40\n",
            "63/63 [==============================] - 424s 7s/step - loss: 0.7600 - f1_score: 0.7943 - val_loss: 0.6997 - val_f1_score: 0.7858\n",
            "Epoch 27/40\n",
            "63/63 [==============================] - 422s 7s/step - loss: 0.7589 - f1_score: 0.7911 - val_loss: 0.8365 - val_f1_score: 0.7221\n",
            "Epoch 28/40\n",
            "63/63 [==============================] - 423s 7s/step - loss: 0.7077 - f1_score: 0.7988 - val_loss: 0.8176 - val_f1_score: 0.7468\n",
            "Epoch 29/40\n",
            "63/63 [==============================] - 424s 7s/step - loss: 0.6443 - f1_score: 0.7946 - val_loss: 0.7128 - val_f1_score: 0.7912\n",
            "Epoch 30/40\n",
            "63/63 [==============================] - 424s 7s/step - loss: 0.6444 - f1_score: 0.8175 - val_loss: 0.7006 - val_f1_score: 0.7665\n",
            "Epoch 31/40\n",
            "63/63 [==============================] - 423s 7s/step - loss: 0.6372 - f1_score: 0.8153 - val_loss: 0.7062 - val_f1_score: 0.7787\n",
            "Epoch 32/40\n",
            "63/63 [==============================] - 423s 7s/step - loss: 0.6002 - f1_score: 0.8295 - val_loss: 0.6972 - val_f1_score: 0.7892\n",
            "Epoch 33/40\n",
            "63/63 [==============================] - 424s 7s/step - loss: 0.6233 - f1_score: 0.8259 - val_loss: 0.6075 - val_f1_score: 0.8167\n",
            "Epoch 34/40\n",
            "63/63 [==============================] - 423s 7s/step - loss: 0.5561 - f1_score: 0.8417 - val_loss: 0.6622 - val_f1_score: 0.7999\n",
            "Epoch 35/40\n",
            "63/63 [==============================] - 425s 7s/step - loss: 0.5625 - f1_score: 0.8376 - val_loss: 0.6738 - val_f1_score: 0.7837\n",
            "Epoch 36/40\n",
            "63/63 [==============================] - 424s 7s/step - loss: 0.5462 - f1_score: 0.8468 - val_loss: 0.5897 - val_f1_score: 0.8222\n",
            "Epoch 37/40\n",
            "63/63 [==============================] - 423s 7s/step - loss: 0.5254 - f1_score: 0.8500 - val_loss: 0.6456 - val_f1_score: 0.7958\n",
            "Epoch 38/40\n",
            "63/63 [==============================] - 423s 7s/step - loss: 0.5318 - f1_score: 0.8396 - val_loss: 0.6096 - val_f1_score: 0.8077\n",
            "Epoch 39/40\n",
            "63/63 [==============================] - 422s 7s/step - loss: 0.5154 - f1_score: 0.8406 - val_loss: 0.5890 - val_f1_score: 0.8255\n",
            "Epoch 40/40\n",
            "63/63 [==============================] - 422s 7s/step - loss: 0.4729 - f1_score: 0.8714 - val_loss: 0.5627 - val_f1_score: 0.8146\n"
          ],
          "name": "stdout"
        }
      ]
    },
    {
      "cell_type": "markdown",
      "metadata": {
        "id": "A_aSQGayAJ7l"
      },
      "source": [
        "Dibujamos una gráfica que enfrente los valores de *f1_score* y *val_f1_score*"
      ]
    },
    {
      "cell_type": "code",
      "metadata": {
        "id": "sZJwq-kgiguY"
      },
      "source": [
        "from matplotlib import pyplot as plt"
      ],
      "execution_count": 18,
      "outputs": []
    },
    {
      "cell_type": "code",
      "metadata": {
        "colab": {
          "base_uri": "https://localhost:8080/",
          "height": 295
        },
        "id": "Gzf7NO7DABgQ",
        "outputId": "c9c8d6c3-5701-41d0-f52d-c50645261723"
      },
      "source": [
        "plt.plot(model_history_2.history['f1_score'])\n",
        "plt.plot(model_history_2.history['val_f1_score'])\n",
        "plt.title('model f1_score')\n",
        "plt.ylabel('f1_score')\n",
        "plt.xlabel('epoch')\n",
        "plt.legend(['train', 'test'], loc='upper left')\n",
        "plt.show()"
      ],
      "execution_count": 19,
      "outputs": [
        {
          "output_type": "display_data",
          "data": {
            "image/png": "[encoded data removed]",
            "text/plain": [
              "<Figure size 432x288 with 1 Axes>"
            ]
          },
          "metadata": {
            "tags": [],
            "needs_background": "light"
          }
        }
      ]
    },
    {
      "cell_type": "markdown",
      "metadata": {
        "id": "H1eZqkR6dldB"
      },
      "source": [
        "#### Modelo Base Resnet50 + 3 Dense + 2 Conv2D"
      ]
    },
    {
      "cell_type": "markdown",
      "metadata": {
        "id": "IovHYzi3Hd-x"
      },
      "source": [
        "Como hemos visto. el modelo anterior no muestra diferencias notables respecto al modelo con 3 capas, por lo que se decide mantener el menor número de capas (3) para evitar crear modelos muy complejos y pesados.\n",
        "\n",
        "Una vez hemos \"encontrado\" el número de capas Dense óptimas, se decide aumentar la complejidad del modelo haciendo uso de las capas Conv2D."
      ]
    },
    {
      "cell_type": "code",
      "metadata": {
        "id": "aiBsqAt3tgPH"
      },
      "source": [
        "base_model = tf.keras.applications.ResNet50(input_shape = (224, 224, 3), \n",
        "                                            classes     = 25,\n",
        "                                            include_top  = False)\n",
        "\n",
        "image_batch, label_batch = next(iter(train_data_gen))\n",
        "feature_batch = base_model(image_batch)\n",
        "base_model.trainable = False\n",
        "\n",
        "dense_layer_2048 = Dense(2048, activation='relu')\n",
        "dense_layer_512  = Dense(512,  activation='relu')\n",
        "dense_layer_1024 = Dense(1024, activation='relu')\n",
        "\n",
        "conv_1024 = Conv2D(1024, (3,3), activation='relu')\n",
        "conv_512  = Conv2D(512, (3,3), activation='relu')\n",
        "\n",
        "flattern  = Flatten()\n",
        "batch_normal = BatchNormalization()\n",
        "dropout   = Dropout(0.25)\n",
        "\n",
        "global_average_layer = tf.keras.layers.GlobalAveragePooling2D()\n",
        "prediction_layer = keras.layers.Dense(25, activation='softmax')\n",
        "\n",
        "model_2 = tf.keras.Sequential([\n",
        "  base_model,\n",
        "  conv_1024,\n",
        "  conv_512,\n",
        "  flattern,\n",
        "  dense_layer_2048,\n",
        "  dropout,\n",
        "  dense_layer_512,\n",
        "  dropout,\n",
        "  dense_layer_1024,\n",
        "  prediction_layer\n",
        "])"
      ],
      "execution_count": null,
      "outputs": []
    },
    {
      "cell_type": "code",
      "metadata": {
        "id": "2sNQpnrftloA"
      },
      "source": [
        "opt = tf.keras.optimizers.Adagrad()\n",
        "\n",
        "callback = tf.keras.callbacks.EarlyStopping(monitor='f1_score', patience=5)\n",
        "\n",
        "model_2.compile(loss=\"categorical_crossentropy\",\n",
        "              optimizer=opt,\n",
        "\t            metrics=[ 'accuracy', tfa.metrics.F1Score(num_classes=25, average='weighted')],\n",
        "              )"
      ],
      "execution_count": null,
      "outputs": []
    },
    {
      "cell_type": "code",
      "metadata": {
        "id": "LOibTIm-tloB",
        "colab": {
          "base_uri": "https://localhost:8080/"
        },
        "outputId": "368e5517-d293-418e-a2d6-1a20d9ac1e78"
      },
      "source": [
        "tf.random.set_seed(2021)\n",
        "\n",
        "model_history_2 = model_2.fit(  \n",
        "    train_data_gen,\n",
        "    epochs=50,\n",
        "    validation_data=valid_data_gen,\n",
        "    validation_steps= valid_data_gen.n // batch_size)"
      ],
      "execution_count": null,
      "outputs": [
        {
          "output_type": "stream",
          "text": [
            "Epoch 1/50\n",
            "63/63 [==============================] - 534s 8s/step - loss: 2.9284 - accuracy: 0.1840 - f1_score: 0.1570 - val_loss: 1.7577 - val_accuracy: 0.5104 - val_f1_score: 0.4624\n",
            "Epoch 2/50\n",
            "63/63 [==============================] - 522s 8s/step - loss: 1.6498 - accuracy: 0.5271 - f1_score: 0.5170 - val_loss: 1.0158 - val_accuracy: 0.6979 - val_f1_score: 0.6819\n",
            "Epoch 3/50\n",
            "63/63 [==============================] - 520s 8s/step - loss: 1.0721 - accuracy: 0.6886 - f1_score: 0.6852 - val_loss: 0.7204 - val_accuracy: 0.7896 - val_f1_score: 0.7903\n",
            "Epoch 4/50\n",
            "63/63 [==============================] - 518s 8s/step - loss: 0.7728 - accuracy: 0.7669 - f1_score: 0.7673 - val_loss: 0.6525 - val_accuracy: 0.8021 - val_f1_score: 0.8001\n",
            "Epoch 5/50\n",
            "63/63 [==============================] - 517s 8s/step - loss: 0.6814 - accuracy: 0.7969 - f1_score: 0.7958 - val_loss: 0.5773 - val_accuracy: 0.8146 - val_f1_score: 0.8170\n",
            "Epoch 6/50\n",
            "63/63 [==============================] - 517s 8s/step - loss: 0.5503 - accuracy: 0.8274 - f1_score: 0.8271 - val_loss: 0.4953 - val_accuracy: 0.8396 - val_f1_score: 0.8374\n",
            "Epoch 7/50\n",
            "63/63 [==============================] - 516s 8s/step - loss: 0.4867 - accuracy: 0.8470 - f1_score: 0.8467 - val_loss: 0.4939 - val_accuracy: 0.8458 - val_f1_score: 0.8445\n",
            "Epoch 8/50\n",
            "63/63 [==============================] - 515s 8s/step - loss: 0.3867 - accuracy: 0.8864 - f1_score: 0.8856 - val_loss: 0.4423 - val_accuracy: 0.8562 - val_f1_score: 0.8563\n",
            "Epoch 9/50\n",
            "63/63 [==============================] - 515s 8s/step - loss: 0.3773 - accuracy: 0.8944 - f1_score: 0.8938 - val_loss: 0.4655 - val_accuracy: 0.8646 - val_f1_score: 0.8651\n",
            "Epoch 10/50\n",
            "63/63 [==============================] - 523s 8s/step - loss: 0.3200 - accuracy: 0.9099 - f1_score: 0.9099 - val_loss: 0.4124 - val_accuracy: 0.8813 - val_f1_score: 0.8804\n",
            "Epoch 11/50\n",
            "63/63 [==============================] - 521s 8s/step - loss: 0.3366 - accuracy: 0.8989 - f1_score: 0.8990 - val_loss: 0.3690 - val_accuracy: 0.8875 - val_f1_score: 0.8857\n",
            "Epoch 12/50\n",
            "63/63 [==============================] - 522s 8s/step - loss: 0.2916 - accuracy: 0.9120 - f1_score: 0.9126 - val_loss: 0.4123 - val_accuracy: 0.8833 - val_f1_score: 0.8841\n",
            "Epoch 13/50\n",
            "63/63 [==============================] - 521s 8s/step - loss: 0.2831 - accuracy: 0.9113 - f1_score: 0.9109 - val_loss: 0.4328 - val_accuracy: 0.8750 - val_f1_score: 0.8750\n",
            "Epoch 14/50\n",
            "63/63 [==============================] - 521s 8s/step - loss: 0.2311 - accuracy: 0.9379 - f1_score: 0.9377 - val_loss: 0.3877 - val_accuracy: 0.8917 - val_f1_score: 0.8907\n",
            "Epoch 15/50\n",
            "63/63 [==============================] - 521s 8s/step - loss: 0.2002 - accuracy: 0.9462 - f1_score: 0.9462 - val_loss: 0.3559 - val_accuracy: 0.9125 - val_f1_score: 0.9128\n",
            "Epoch 16/50\n",
            "63/63 [==============================] - 522s 8s/step - loss: 0.2138 - accuracy: 0.9385 - f1_score: 0.9383 - val_loss: 0.3898 - val_accuracy: 0.8917 - val_f1_score: 0.8911\n",
            "Epoch 17/50\n",
            "63/63 [==============================] - 522s 8s/step - loss: 0.1907 - accuracy: 0.9403 - f1_score: 0.9404 - val_loss: 0.3457 - val_accuracy: 0.9104 - val_f1_score: 0.9102\n",
            "Epoch 18/50\n",
            "63/63 [==============================] - 522s 8s/step - loss: 0.1769 - accuracy: 0.9437 - f1_score: 0.9437 - val_loss: 0.3828 - val_accuracy: 0.9062 - val_f1_score: 0.9059\n",
            "Epoch 19/50\n",
            "63/63 [==============================] - 522s 8s/step - loss: 0.1606 - accuracy: 0.9504 - f1_score: 0.9503 - val_loss: 0.3623 - val_accuracy: 0.9000 - val_f1_score: 0.8990\n",
            "Epoch 20/50\n",
            "63/63 [==============================] - 523s 8s/step - loss: 0.1532 - accuracy: 0.9641 - f1_score: 0.9637 - val_loss: 0.3573 - val_accuracy: 0.9021 - val_f1_score: 0.9026\n",
            "Epoch 21/50\n",
            "63/63 [==============================] - 522s 8s/step - loss: 0.1728 - accuracy: 0.9488 - f1_score: 0.9485 - val_loss: 0.3118 - val_accuracy: 0.9208 - val_f1_score: 0.9214\n",
            "Epoch 22/50\n",
            "63/63 [==============================] - 522s 8s/step - loss: 0.1283 - accuracy: 0.9660 - f1_score: 0.9651 - val_loss: 0.3797 - val_accuracy: 0.9146 - val_f1_score: 0.9143\n",
            "Epoch 23/50\n",
            "63/63 [==============================] - 523s 8s/step - loss: 0.1240 - accuracy: 0.9658 - f1_score: 0.9658 - val_loss: 0.3574 - val_accuracy: 0.9083 - val_f1_score: 0.9079\n",
            "Epoch 24/50\n",
            "63/63 [==============================] - 523s 8s/step - loss: 0.1446 - accuracy: 0.9587 - f1_score: 0.9585 - val_loss: 0.3273 - val_accuracy: 0.9146 - val_f1_score: 0.9144\n",
            "Epoch 25/50\n",
            "63/63 [==============================] - 523s 8s/step - loss: 0.1314 - accuracy: 0.9618 - f1_score: 0.9615 - val_loss: 0.3222 - val_accuracy: 0.9125 - val_f1_score: 0.9123\n",
            "Epoch 26/50\n",
            "63/63 [==============================] - 522s 8s/step - loss: 0.1194 - accuracy: 0.9599 - f1_score: 0.9599 - val_loss: 0.3650 - val_accuracy: 0.9167 - val_f1_score: 0.9165\n",
            "Epoch 27/50\n",
            "63/63 [==============================] - 522s 8s/step - loss: 0.0960 - accuracy: 0.9792 - f1_score: 0.9792 - val_loss: 0.3733 - val_accuracy: 0.9042 - val_f1_score: 0.9036\n",
            "Epoch 28/50\n",
            "63/63 [==============================] - 522s 8s/step - loss: 0.1018 - accuracy: 0.9703 - f1_score: 0.9708 - val_loss: 0.3898 - val_accuracy: 0.8979 - val_f1_score: 0.8983\n",
            "Epoch 29/50\n",
            "63/63 [==============================] - 522s 8s/step - loss: 0.1132 - accuracy: 0.9653 - f1_score: 0.9656 - val_loss: 0.3185 - val_accuracy: 0.9271 - val_f1_score: 0.9272\n",
            "Epoch 30/50\n",
            "63/63 [==============================] - 522s 8s/step - loss: 0.0955 - accuracy: 0.9759 - f1_score: 0.9760 - val_loss: 0.3705 - val_accuracy: 0.9062 - val_f1_score: 0.9053\n",
            "Epoch 31/50\n",
            "63/63 [==============================] - 522s 8s/step - loss: 0.0976 - accuracy: 0.9702 - f1_score: 0.9703 - val_loss: 0.3581 - val_accuracy: 0.9208 - val_f1_score: 0.9215\n",
            "Epoch 32/50\n",
            "63/63 [==============================] - 522s 8s/step - loss: 0.0932 - accuracy: 0.9725 - f1_score: 0.9725 - val_loss: 0.3658 - val_accuracy: 0.9208 - val_f1_score: 0.9208\n",
            "Epoch 33/50\n",
            "63/63 [==============================] - 521s 8s/step - loss: 0.0979 - accuracy: 0.9741 - f1_score: 0.9741 - val_loss: 0.3411 - val_accuracy: 0.9229 - val_f1_score: 0.9230\n",
            "Epoch 34/50\n",
            "63/63 [==============================] - 522s 8s/step - loss: 0.0814 - accuracy: 0.9759 - f1_score: 0.9760 - val_loss: 0.3315 - val_accuracy: 0.9187 - val_f1_score: 0.9180\n",
            "Epoch 35/50\n",
            "63/63 [==============================] - 523s 8s/step - loss: 0.0972 - accuracy: 0.9658 - f1_score: 0.9661 - val_loss: 0.3473 - val_accuracy: 0.9146 - val_f1_score: 0.9148\n",
            "Epoch 36/50\n",
            "63/63 [==============================] - 522s 8s/step - loss: 0.0718 - accuracy: 0.9797 - f1_score: 0.9794 - val_loss: 0.3599 - val_accuracy: 0.9229 - val_f1_score: 0.9228\n",
            "Epoch 37/50\n",
            "63/63 [==============================] - 528s 8s/step - loss: 0.0761 - accuracy: 0.9783 - f1_score: 0.9783 - val_loss: 0.3396 - val_accuracy: 0.9187 - val_f1_score: 0.9191\n",
            "Epoch 38/50\n",
            "63/63 [==============================] - 531s 8s/step - loss: 0.0672 - accuracy: 0.9793 - f1_score: 0.9792 - val_loss: 0.3580 - val_accuracy: 0.9187 - val_f1_score: 0.9187\n",
            "Epoch 39/50\n",
            "63/63 [==============================] - 531s 8s/step - loss: 0.0783 - accuracy: 0.9750 - f1_score: 0.9750 - val_loss: 0.3354 - val_accuracy: 0.9187 - val_f1_score: 0.9185\n",
            "Epoch 40/50\n",
            "63/63 [==============================] - 530s 8s/step - loss: 0.0567 - accuracy: 0.9843 - f1_score: 0.9844 - val_loss: 0.3668 - val_accuracy: 0.9208 - val_f1_score: 0.9212\n",
            "Epoch 41/50\n",
            "63/63 [==============================] - 528s 8s/step - loss: 0.0600 - accuracy: 0.9843 - f1_score: 0.9841 - val_loss: 0.3555 - val_accuracy: 0.9208 - val_f1_score: 0.9209\n",
            "Epoch 42/50\n",
            "63/63 [==============================] - 530s 8s/step - loss: 0.0738 - accuracy: 0.9850 - f1_score: 0.9850 - val_loss: 0.3859 - val_accuracy: 0.9229 - val_f1_score: 0.9226\n",
            "Epoch 43/50\n",
            "63/63 [==============================] - 527s 8s/step - loss: 0.0644 - accuracy: 0.9863 - f1_score: 0.9863 - val_loss: 0.3668 - val_accuracy: 0.9146 - val_f1_score: 0.9143\n",
            "Epoch 44/50\n",
            "63/63 [==============================] - 526s 8s/step - loss: 0.0577 - accuracy: 0.9862 - f1_score: 0.9861 - val_loss: 0.3662 - val_accuracy: 0.9167 - val_f1_score: 0.9160\n",
            "Epoch 45/50\n",
            "63/63 [==============================] - 525s 8s/step - loss: 0.0530 - accuracy: 0.9855 - f1_score: 0.9855 - val_loss: 0.3604 - val_accuracy: 0.9104 - val_f1_score: 0.9101\n",
            "Epoch 46/50\n",
            "63/63 [==============================] - 526s 8s/step - loss: 0.0563 - accuracy: 0.9861 - f1_score: 0.9860 - val_loss: 0.3601 - val_accuracy: 0.9167 - val_f1_score: 0.9168\n",
            "Epoch 47/50\n",
            "63/63 [==============================] - 526s 8s/step - loss: 0.0530 - accuracy: 0.9825 - f1_score: 0.9828 - val_loss: 0.3548 - val_accuracy: 0.9229 - val_f1_score: 0.9231\n",
            "Epoch 48/50\n",
            "63/63 [==============================] - 527s 8s/step - loss: 0.0525 - accuracy: 0.9831 - f1_score: 0.9831 - val_loss: 0.3601 - val_accuracy: 0.9250 - val_f1_score: 0.9250\n",
            "Epoch 49/50\n",
            "63/63 [==============================] - 526s 8s/step - loss: 0.0421 - accuracy: 0.9888 - f1_score: 0.9888 - val_loss: 0.3669 - val_accuracy: 0.9167 - val_f1_score: 0.9165\n",
            "Epoch 50/50\n",
            "63/63 [==============================] - 526s 8s/step - loss: 0.0443 - accuracy: 0.9901 - f1_score: 0.9900 - val_loss: 0.3423 - val_accuracy: 0.9312 - val_f1_score: 0.9308\n"
          ],
          "name": "stdout"
        }
      ]
    },
    {
      "cell_type": "markdown",
      "metadata": {
        "id": "-Mmcz_luGvcR"
      },
      "source": [
        "En este caso, al dibujar el gráfico que enfrenta ambos scores (entrenamiento y validacion) parece que nuestro modelo se está ajustando demasiado al conjunto de entrenamiento. Aun así, este modelo obtiene los mejores datos de validación, por lo que será la base para aplicar *Fine Tunning* \n"
      ]
    },
    {
      "cell_type": "code",
      "metadata": {
        "id": "iSL0NJnPfC1m",
        "colab": {
          "base_uri": "https://localhost:8080/",
          "height": 295
        },
        "outputId": "39f06406-7827-457c-a259-a43d47467879"
      },
      "source": [
        "plt.plot(model_history_2.history['f1_score'])\n",
        "plt.plot(model_history_2.history['val_f1_score'])\n",
        "plt.title('model f1_score')\n",
        "plt.ylabel('f1_score')\n",
        "plt.xlabel('epoch')\n",
        "plt.legend(['train', 'test'], loc='upper left')\n",
        "plt.show()"
      ],
      "execution_count": null,
      "outputs": [
        {
          "output_type": "display_data",
          "data": {
            "image/png": "[encoded data removed]",
            "text/plain": [
              "<Figure size 432x288 with 1 Axes>"
            ]
          },
          "metadata": {
            "tags": [],
            "needs_background": "light"
          }
        }
      ]
    }
  ]
}