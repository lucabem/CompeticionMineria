{
  "nbformat": 4,
  "nbformat_minor": 0,
  "metadata": {
    "colab": {
      "name": ".ipynb",
      "provenance": [],
      "collapsed_sections": [],
      "include_colab_link": true
    },
    "kernelspec": {
      "name": "python3",
      "display_name": "Python 3"
    },
    "accelerator": "TPU"
  },
  "cells": [
    {
      "cell_type": "markdown",
      "metadata": {
        "id": "view-in-github",
        "colab_type": "text"
      },
      "source": [
        "<a href=\"https://colab.research.google.com/github/lucabem/CompeticionMineria/blob/main/prueba2-angeles.ipynb\" target=\"_parent\"><img src=\"https://colab.research.google.com/assets/colab-badge.svg\" alt=\"Open In Colab\"/></a>"
      ]
    },
    {
      "cell_type": "code",
      "metadata": {
        "id": "vU8xsCCH_A3L"
      },
      "source": [
        ""
      ],
      "execution_count": null,
      "outputs": []
    },
    {
      "cell_type": "code",
      "metadata": {
        "id": "bEFpuOSpcBoh"
      },
      "source": [
        "import numpy as np\r\n",
        "import os\r\n",
        "import PIL\r\n",
        "import PIL.Image\r\n",
        "import tensorflow as tf\r\n",
        "import tensorflow_datasets as tfds\r\n",
        "import pathlib"
      ],
      "execution_count": null,
      "outputs": []
    },
    {
      "cell_type": "code",
      "metadata": {
        "id": "k49BdtS8wx8p"
      },
      "source": [
        "!rm -rf /root/.keras/datasets/*"
      ],
      "execution_count": null,
      "outputs": []
    },
    {
      "cell_type": "code",
      "metadata": {
        "colab": {
          "base_uri": "https://localhost:8080/"
        },
        "id": "Wh8GCRtdcLYv",
        "outputId": "74821f68-a066-4f5f-eaf4-67ed5a19fc99"
      },
      "source": [
        "dataset_url = 'https://github.com/lucabem/CompeticionMineria/blob/main/data/dataset_images.zip?raw=true'\r\n",
        "data_dir = tf.keras.utils.get_file(origin=dataset_url, \r\n",
        "                                   fname='train_data', \r\n",
        "                                   extract=True)"
      ],
      "execution_count": null,
      "outputs": [
        {
          "output_type": "stream",
          "text": [
            "Downloading data from https://github.com/lucabem/CompeticionMineria/blob/main/data/dataset_images.zip?raw=true\n",
            "78069760/78067648 [==============================] - 1s 0us/step\n"
          ],
          "name": "stdout"
        }
      ]
    },
    {
      "cell_type": "code",
      "metadata": {
        "colab": {
          "base_uri": "https://localhost:8080/"
        },
        "id": "5yhP8xGwe36X",
        "outputId": "0968f749-f4e0-41e3-f805-3d58f4323d26"
      },
      "source": [
        "!rm -rf /root/.keras/datasets/train_data.tar.gz /root/.keras/datasets/train_data\r\n",
        "!ls -l /root/.keras/datasets/"
      ],
      "execution_count": null,
      "outputs": [
        {
          "output_type": "stream",
          "text": [
            "total 24\n",
            "drwxr-xr-x 27 root root  4096 Mar  7 13:05 ImagesTrain\n",
            "drwxr-xr-x  2 root root 20480 Mar  7 13:05 Test\n"
          ],
          "name": "stdout"
        }
      ]
    },
    {
      "cell_type": "code",
      "metadata": {
        "id": "FNAYg6b94G05",
        "colab": {
          "base_uri": "https://localhost:8080/"
        },
        "outputId": "175ca1e3-e789-45b1-e537-6388f8d2a387"
      },
      "source": [
        "train_path = pathlib.Path('/root/.keras/datasets/ImagesTrain')\r\n",
        "image_count = len(list(train_path.glob('*/*.jpg')))\r\n",
        "print(image_count)"
      ],
      "execution_count": null,
      "outputs": [
        {
          "output_type": "stream",
          "text": [
            "2500\n"
          ],
          "name": "stdout"
        }
      ]
    },
    {
      "cell_type": "code",
      "metadata": {
        "colab": {
          "base_uri": "https://localhost:8080/"
        },
        "id": "UshKAfho5Hwm",
        "outputId": "30dc03a5-2052-4bee-8dae-514785a35f04"
      },
      "source": [
        "test_path = pathlib.Path('/root/.keras/datasets/Test')\r\n",
        "images_test = os.listdir(test_path)\r\n",
        "print(len(images_test))"
      ],
      "execution_count": null,
      "outputs": [
        {
          "output_type": "stream",
          "text": [
            "500\n"
          ],
          "name": "stdout"
        }
      ]
    },
    {
      "cell_type": "code",
      "metadata": {
        "id": "SifaMI-ahKno"
      },
      "source": [
        "for direct in train_path.iterdir():\r\n",
        "  if direct.is_dir():\r\n",
        "    direct.rename(train_path / direct.name.split(sep='_100')[0])"
      ],
      "execution_count": null,
      "outputs": []
    },
    {
      "cell_type": "code",
      "metadata": {
        "id": "6FGhnAH-goA-"
      },
      "source": [
        "batch_size = 32\r\n",
        "img_height = 224\r\n",
        "img_width  = 224"
      ],
      "execution_count": null,
      "outputs": []
    },
    {
      "cell_type": "code",
      "metadata": {
        "id": "ekqQ_EFBcLDp",
        "colab": {
          "base_uri": "https://localhost:8080/"
        },
        "outputId": "777448da-ce16-466d-d48c-f3fa4d72c412"
      },
      "source": [
        "!pip install tensorflow-addons"
      ],
      "execution_count": null,
      "outputs": [
        {
          "output_type": "stream",
          "text": [
            "Collecting tensorflow-addons\n",
            "\u001b[?25l  Downloading https://files.pythonhosted.org/packages/74/e3/56d2fe76f0bb7c88ed9b2a6a557e25e83e252aec08f13de34369cd850a0b/tensorflow_addons-0.12.1-cp37-cp37m-manylinux2010_x86_64.whl (703kB)\n",
            "\r\u001b[K     |▌                               | 10kB 16.9MB/s eta 0:00:01\r\u001b[K     |█                               | 20kB 11.6MB/s eta 0:00:01\r\u001b[K     |█▍                              | 30kB 8.8MB/s eta 0:00:01\r\u001b[K     |█▉                              | 40kB 7.8MB/s eta 0:00:01\r\u001b[K     |██▎                             | 51kB 5.1MB/s eta 0:00:01\r\u001b[K     |██▉                             | 61kB 5.1MB/s eta 0:00:01\r\u001b[K     |███▎                            | 71kB 5.5MB/s eta 0:00:01\r\u001b[K     |███▊                            | 81kB 5.9MB/s eta 0:00:01\r\u001b[K     |████▏                           | 92kB 5.8MB/s eta 0:00:01\r\u001b[K     |████▋                           | 102kB 6.3MB/s eta 0:00:01\r\u001b[K     |█████▏                          | 112kB 6.3MB/s eta 0:00:01\r\u001b[K     |█████▋                          | 122kB 6.3MB/s eta 0:00:01\r\u001b[K     |██████                          | 133kB 6.3MB/s eta 0:00:01\r\u001b[K     |██████▌                         | 143kB 6.3MB/s eta 0:00:01\r\u001b[K     |███████                         | 153kB 6.3MB/s eta 0:00:01\r\u001b[K     |███████▌                        | 163kB 6.3MB/s eta 0:00:01\r\u001b[K     |████████                        | 174kB 6.3MB/s eta 0:00:01\r\u001b[K     |████████▍                       | 184kB 6.3MB/s eta 0:00:01\r\u001b[K     |████████▉                       | 194kB 6.3MB/s eta 0:00:01\r\u001b[K     |█████████▎                      | 204kB 6.3MB/s eta 0:00:01\r\u001b[K     |█████████▉                      | 215kB 6.3MB/s eta 0:00:01\r\u001b[K     |██████████▎                     | 225kB 6.3MB/s eta 0:00:01\r\u001b[K     |██████████▊                     | 235kB 6.3MB/s eta 0:00:01\r\u001b[K     |███████████▏                    | 245kB 6.3MB/s eta 0:00:01\r\u001b[K     |███████████▋                    | 256kB 6.3MB/s eta 0:00:01\r\u001b[K     |████████████▏                   | 266kB 6.3MB/s eta 0:00:01\r\u001b[K     |████████████▋                   | 276kB 6.3MB/s eta 0:00:01\r\u001b[K     |█████████████                   | 286kB 6.3MB/s eta 0:00:01\r\u001b[K     |█████████████▌                  | 296kB 6.3MB/s eta 0:00:01\r\u001b[K     |██████████████                  | 307kB 6.3MB/s eta 0:00:01\r\u001b[K     |██████████████▍                 | 317kB 6.3MB/s eta 0:00:01\r\u001b[K     |███████████████                 | 327kB 6.3MB/s eta 0:00:01\r\u001b[K     |███████████████▍                | 337kB 6.3MB/s eta 0:00:01\r\u001b[K     |███████████████▉                | 348kB 6.3MB/s eta 0:00:01\r\u001b[K     |████████████████▎               | 358kB 6.3MB/s eta 0:00:01\r\u001b[K     |████████████████▊               | 368kB 6.3MB/s eta 0:00:01\r\u001b[K     |█████████████████▎              | 378kB 6.3MB/s eta 0:00:01\r\u001b[K     |█████████████████▊              | 389kB 6.3MB/s eta 0:00:01\r\u001b[K     |██████████████████▏             | 399kB 6.3MB/s eta 0:00:01\r\u001b[K     |██████████████████▋             | 409kB 6.3MB/s eta 0:00:01\r\u001b[K     |███████████████████             | 419kB 6.3MB/s eta 0:00:01\r\u001b[K     |███████████████████▋            | 430kB 6.3MB/s eta 0:00:01\r\u001b[K     |████████████████████            | 440kB 6.3MB/s eta 0:00:01\r\u001b[K     |████████████████████▌           | 450kB 6.3MB/s eta 0:00:01\r\u001b[K     |█████████████████████           | 460kB 6.3MB/s eta 0:00:01\r\u001b[K     |█████████████████████▍          | 471kB 6.3MB/s eta 0:00:01\r\u001b[K     |██████████████████████          | 481kB 6.3MB/s eta 0:00:01\r\u001b[K     |██████████████████████▍         | 491kB 6.3MB/s eta 0:00:01\r\u001b[K     |██████████████████████▉         | 501kB 6.3MB/s eta 0:00:01\r\u001b[K     |███████████████████████▎        | 512kB 6.3MB/s eta 0:00:01\r\u001b[K     |███████████████████████▊        | 522kB 6.3MB/s eta 0:00:01\r\u001b[K     |████████████████████████▎       | 532kB 6.3MB/s eta 0:00:01\r\u001b[K     |████████████████████████▊       | 542kB 6.3MB/s eta 0:00:01\r\u001b[K     |█████████████████████████▏      | 552kB 6.3MB/s eta 0:00:01\r\u001b[K     |█████████████████████████▋      | 563kB 6.3MB/s eta 0:00:01\r\u001b[K     |██████████████████████████      | 573kB 6.3MB/s eta 0:00:01\r\u001b[K     |██████████████████████████▋     | 583kB 6.3MB/s eta 0:00:01\r\u001b[K     |███████████████████████████     | 593kB 6.3MB/s eta 0:00:01\r\u001b[K     |███████████████████████████▌    | 604kB 6.3MB/s eta 0:00:01\r\u001b[K     |████████████████████████████    | 614kB 6.3MB/s eta 0:00:01\r\u001b[K     |████████████████████████████▍   | 624kB 6.3MB/s eta 0:00:01\r\u001b[K     |████████████████████████████▉   | 634kB 6.3MB/s eta 0:00:01\r\u001b[K     |█████████████████████████████▍  | 645kB 6.3MB/s eta 0:00:01\r\u001b[K     |█████████████████████████████▉  | 655kB 6.3MB/s eta 0:00:01\r\u001b[K     |██████████████████████████████▎ | 665kB 6.3MB/s eta 0:00:01\r\u001b[K     |██████████████████████████████▊ | 675kB 6.3MB/s eta 0:00:01\r\u001b[K     |███████████████████████████████▏| 686kB 6.3MB/s eta 0:00:01\r\u001b[K     |███████████████████████████████▊| 696kB 6.3MB/s eta 0:00:01\r\u001b[K     |████████████████████████████████| 706kB 6.3MB/s \n",
            "\u001b[?25hRequirement already satisfied: typeguard>=2.7 in /usr/local/lib/python3.7/dist-packages (from tensorflow-addons) (2.7.1)\n",
            "Installing collected packages: tensorflow-addons\n",
            "Successfully installed tensorflow-addons-0.12.1\n"
          ],
          "name": "stdout"
        }
      ]
    },
    {
      "cell_type": "code",
      "metadata": {
        "id": "9z9qUelQn-Vo"
      },
      "source": [
        "from tensorflow.keras.preprocessing.image import ImageDataGenerator"
      ],
      "execution_count": null,
      "outputs": []
    },
    {
      "cell_type": "code",
      "metadata": {
        "id": "2CUaZwHscHLV"
      },
      "source": [
        "import tensorflow_addons as tfa"
      ],
      "execution_count": null,
      "outputs": []
    },
    {
      "cell_type": "code",
      "metadata": {
        "id": "ZFXO18bRElwL"
      },
      "source": [
        "from keras.preprocessing.image import ImageDataGenerator  \r\n",
        "from keras.applications import densenet  \r\n",
        "from keras.models import Sequential, Model, load_model  \r\n",
        "from keras.layers import Conv2D, MaxPooling2D  \r\n",
        "from keras.layers import Activation, Dropout, Flatten, Dense  \r\n",
        "from keras.callbacks import EarlyStopping, ReduceLROnPlateau, ModelCheckpoint, Callback  \r\n",
        "from keras import regularizers  \r\n",
        "from keras import backend as K  \r\n",
        "import tensorflow as tf\r\n",
        "keras = tf.keras"
      ],
      "execution_count": null,
      "outputs": []
    },
    {
      "cell_type": "markdown",
      "metadata": {
        "id": "I3IvE1g4Kyb-"
      },
      "source": [
        "### Data Augmentation"
      ]
    },
    {
      "cell_type": "code",
      "metadata": {
        "id": "qI1zuyeIW7XG"
      },
      "source": [
        "batch_size  = 32\r\n",
        "img_height = 224\r\n",
        "img_width  = 224\r\n",
        "train_path = pathlib.Path('/root/.keras/datasets/ImagesTrain')"
      ],
      "execution_count": null,
      "outputs": []
    },
    {
      "cell_type": "code",
      "metadata": {
        "id": "47e86f3eT-ZX"
      },
      "source": [
        "import shutil\r\n",
        "import os "
      ],
      "execution_count": null,
      "outputs": []
    },
    {
      "cell_type": "code",
      "metadata": {
        "id": "BCYAgO1x7Nya"
      },
      "source": [
        "train_ds_gen = ImageDataGenerator(vertical_flip    = True,\r\n",
        "                                  horizontal_flip  = True,\r\n",
        "                                  validation_split = 0.2)"
      ],
      "execution_count": null,
      "outputs": []
    },
    {
      "cell_type": "code",
      "metadata": {
        "id": "c0Cka5hc9TE4",
        "colab": {
          "base_uri": "https://localhost:8080/"
        },
        "outputId": "e8a1dee7-f31b-4fe9-c7bb-133bcca666c1"
      },
      "source": [
        "train_data_gen = train_ds_gen.flow_from_directory(batch_size=batch_size,\r\n",
        "                                                  directory=train_path,\r\n",
        "                                                  shuffle=True,\r\n",
        "                                                  target_size=(img_height, img_width),\r\n",
        "                                                  subset='training',\r\n",
        "                                                  class_mode='categorical')"
      ],
      "execution_count": null,
      "outputs": [
        {
          "output_type": "stream",
          "text": [
            "Found 2000 images belonging to 25 classes.\n"
          ],
          "name": "stdout"
        }
      ]
    },
    {
      "cell_type": "code",
      "metadata": {
        "id": "0ZVgGpkwEWqP",
        "colab": {
          "base_uri": "https://localhost:8080/"
        },
        "outputId": "9a9efbc4-d482-4416-ea2b-855b6792f764"
      },
      "source": [
        "valid_data_gen = train_ds_gen.flow_from_directory(batch_size=batch_size,\r\n",
        "                                                  directory=train_path,\r\n",
        "                                                  shuffle=True,\r\n",
        "                                                  target_size=(img_height, img_width),\r\n",
        "                                                  subset='validation',\r\n",
        "                                                  class_mode='categorical')"
      ],
      "execution_count": null,
      "outputs": [
        {
          "output_type": "stream",
          "text": [
            "Found 500 images belonging to 25 classes.\n"
          ],
          "name": "stdout"
        }
      ]
    },
    {
      "cell_type": "code",
      "metadata": {
        "id": "DpUN4q-bbnKP",
        "colab": {
          "base_uri": "https://localhost:8080/"
        },
        "outputId": "8a09f0d7-ecb4-4f0a-c1de-0c0f7bbc80c2"
      },
      "source": [
        "test_data_gen = train_ds_gen.flow_from_directory(batch_size=batch_size,\r\n",
        "                                                  directory=train_path,\r\n",
        "                                                  shuffle=True,\r\n",
        "                                                  target_size=(img_height, img_width),\r\n",
        "                                                  class_mode='categorical')"
      ],
      "execution_count": null,
      "outputs": [
        {
          "output_type": "stream",
          "text": [
            "Found 2500 images belonging to 25 classes.\n"
          ],
          "name": "stdout"
        }
      ]
    },
    {
      "cell_type": "markdown",
      "metadata": {
        "id": "BoUQ3hoHK2tf"
      },
      "source": [
        "### Modelos"
      ]
    },
    {
      "cell_type": "markdown",
      "metadata": {
        "id": "sv40lFlcFE2z"
      },
      "source": [
        "#### Funcion para predecir"
      ]
    },
    {
      "cell_type": "code",
      "metadata": {
        "id": "oOs-NXH4lBQB"
      },
      "source": [
        "batch_size = 32\r\n",
        "img_height = 224\r\n",
        "img_width  = 224\r\n",
        "test_path  = pathlib.Path('/root/.keras/datasets/Test')"
      ],
      "execution_count": null,
      "outputs": []
    },
    {
      "cell_type": "code",
      "metadata": {
        "id": "6R6hvF4Pk_Fc"
      },
      "source": [
        "# predicting images\r\n",
        "from keras.preprocessing import image\r\n",
        "import numpy as np\r\n",
        "import pandas as pd\r\n",
        "from google.colab import files\r\n",
        "\r\n",
        "def make_predictions(model_final,\r\n",
        "                     path_test ='/root/.keras/datasets/Test',\r\n",
        "                     name_file_submission = 'submission.csv'):\r\n",
        "\r\n",
        "  images_test = os.listdir(path_test)\r\n",
        "  samples_to_predict = []\r\n",
        "\r\n",
        "  for img in images_test:\r\n",
        "    path_img = os.path.join(path_test, img)\r\n",
        "    img = image.load_img(path_img,\r\n",
        "                        target_size=(img_width, img_height))\r\n",
        "    x = image.img_to_array(img)\r\n",
        "    samples_to_predict.append(x)\r\n",
        "\r\n",
        "  samples_to_predict  = np.array(samples_to_predict)\r\n",
        "  predictions = model_final.predict(samples_to_predict)\r\n",
        "  classes = np.argmax(predictions, axis = 1)\r\n",
        "\r\n",
        "  data = {'id.jpg': images_test, 'label': classes}\r\n",
        "  data = pd.DataFrame(data)\r\n",
        "  data.to_csv(name_file_submission, index = False)\r\n",
        "\r\n",
        "  return data"
      ],
      "execution_count": null,
      "outputs": []
    },
    {
      "cell_type": "markdown",
      "metadata": {
        "id": "cjOz2kuuKlhL"
      },
      "source": [
        "#### Modelo Base"
      ]
    },
    {
      "cell_type": "code",
      "metadata": {
        "id": "izZ9gyNwZFAM",
        "colab": {
          "base_uri": "https://localhost:8080/"
        },
        "outputId": "a4896a7e-7b57-4958-b686-0c7e309f1856"
      },
      "source": [
        "base_model = tf.keras.applications.ResNet50(input_shape = (224, 224, 3), \r\n",
        "                                            classes     = 25,\r\n",
        "                                            include_top  = False)\r\n",
        "\r\n",
        "image_batch, label_batch = next(iter(train_data_gen))\r\n",
        "feature_batch = base_model(image_batch)\r\n",
        "base_model.trainable = False\r\n",
        "\r\n",
        "\r\n",
        "\r\n",
        "global_average_layer = tf.keras.layers.GlobalAveragePooling2D()\r\n",
        "prediction_layer = keras.layers.Dense(25, activation='softmax')\r\n",
        "\r\n",
        "\r\n",
        "model = tf.keras.Sequential([\r\n",
        "  base_model,\r\n",
        "  global_average_layer,\r\n",
        "  prediction_layer\r\n",
        "])\r\n"
      ],
      "execution_count": null,
      "outputs": [
        {
          "output_type": "stream",
          "text": [
            "Downloading data from https://storage.googleapis.com/tensorflow/keras-applications/resnet/resnet50_weights_tf_dim_ordering_tf_kernels_notop.h5\n",
            "94773248/94765736 [==============================] - 1s 0us/step\n"
          ],
          "name": "stdout"
        }
      ]
    },
    {
      "cell_type": "code",
      "metadata": {
        "id": "PwL2ctktiRP7"
      },
      "source": [
        "opt = tf.keras.optimizers.Adagrad()\r\n",
        "\r\n",
        "callback = tf.keras.callbacks.EarlyStopping(monitor='f1_score', patience=5)\r\n",
        "\r\n",
        "model.compile(loss=\"categorical_crossentropy\",\r\n",
        "              optimizer=opt,\r\n",
        "\t            metrics=[tfa.metrics.F1Score(num_classes=25, average='weighted')],\r\n",
        "              )"
      ],
      "execution_count": null,
      "outputs": []
    },
    {
      "cell_type": "code",
      "metadata": {
        "id": "JeOc_JCVbyTl",
        "colab": {
          "base_uri": "https://localhost:8080/"
        },
        "outputId": "fa01b775-cc4c-466e-9030-4c5dd54959a1"
      },
      "source": [
        "tf.random.set_seed(2021)\r\n",
        "\r\n",
        "model_history = model.fit(  \r\n",
        "    train_data_gen,\r\n",
        "    epochs=39,\r\n",
        "    validation_data=valid_data_gen,\r\n",
        "    validation_steps= valid_data_gen.n // batch_size)"
      ],
      "execution_count": null,
      "outputs": [
        {
          "output_type": "stream",
          "text": [
            "Epoch 1/39\n",
            "63/63 [==============================] - 375s 6s/step - loss: 3.5592 - f1_score: 0.0479 - val_loss: 2.7924 - val_f1_score: 0.1448\n",
            "Epoch 2/39\n",
            "63/63 [==============================] - 370s 6s/step - loss: 2.6699 - f1_score: 0.1932 - val_loss: 2.3542 - val_f1_score: 0.3507\n",
            "Epoch 3/39\n",
            "63/63 [==============================] - 368s 6s/step - loss: 2.2493 - f1_score: 0.4133 - val_loss: 2.0852 - val_f1_score: 0.4473\n",
            "Epoch 4/39\n",
            "63/63 [==============================] - 368s 6s/step - loss: 2.0113 - f1_score: 0.5008 - val_loss: 1.8877 - val_f1_score: 0.5239\n",
            "Epoch 5/39\n",
            "63/63 [==============================] - 367s 6s/step - loss: 1.8279 - f1_score: 0.5581 - val_loss: 1.7658 - val_f1_score: 0.5616\n",
            "Epoch 6/39\n",
            "63/63 [==============================] - 367s 6s/step - loss: 1.6742 - f1_score: 0.6330 - val_loss: 1.6522 - val_f1_score: 0.6148\n",
            "Epoch 7/39\n",
            "63/63 [==============================] - 366s 6s/step - loss: 1.5781 - f1_score: 0.6815 - val_loss: 1.5685 - val_f1_score: 0.6581\n",
            "Epoch 8/39\n",
            "63/63 [==============================] - 366s 6s/step - loss: 1.4824 - f1_score: 0.7139 - val_loss: 1.4985 - val_f1_score: 0.6879\n",
            "Epoch 9/39\n",
            "63/63 [==============================] - 365s 6s/step - loss: 1.4206 - f1_score: 0.7316 - val_loss: 1.4235 - val_f1_score: 0.7248\n",
            "Epoch 10/39\n",
            "63/63 [==============================] - 364s 6s/step - loss: 1.3493 - f1_score: 0.7549 - val_loss: 1.3536 - val_f1_score: 0.7399\n",
            "Epoch 11/39\n",
            "63/63 [==============================] - 363s 6s/step - loss: 1.3014 - f1_score: 0.7919 - val_loss: 1.3134 - val_f1_score: 0.7232\n",
            "Epoch 12/39\n",
            "63/63 [==============================] - 364s 6s/step - loss: 1.2678 - f1_score: 0.7825 - val_loss: 1.2886 - val_f1_score: 0.7456\n",
            "Epoch 13/39\n",
            "63/63 [==============================] - 365s 6s/step - loss: 1.1906 - f1_score: 0.7990 - val_loss: 1.2239 - val_f1_score: 0.7689\n",
            "Epoch 14/39\n",
            "63/63 [==============================] - 363s 6s/step - loss: 1.1344 - f1_score: 0.8256 - val_loss: 1.1882 - val_f1_score: 0.7809\n",
            "Epoch 15/39\n",
            "63/63 [==============================] - 363s 6s/step - loss: 1.1590 - f1_score: 0.8045 - val_loss: 1.1678 - val_f1_score: 0.7840\n",
            "Epoch 16/39\n",
            "63/63 [==============================] - 364s 6s/step - loss: 1.1379 - f1_score: 0.7986 - val_loss: 1.1324 - val_f1_score: 0.7887\n",
            "Epoch 17/39\n",
            "63/63 [==============================] - 367s 6s/step - loss: 1.0537 - f1_score: 0.8084 - val_loss: 1.1194 - val_f1_score: 0.7938\n",
            "Epoch 18/39\n",
            "63/63 [==============================] - 370s 6s/step - loss: 1.0843 - f1_score: 0.8054 - val_loss: 1.0989 - val_f1_score: 0.8032\n",
            "Epoch 19/39\n",
            "63/63 [==============================] - 367s 6s/step - loss: 1.0289 - f1_score: 0.8297 - val_loss: 1.0779 - val_f1_score: 0.7884\n",
            "Epoch 20/39\n",
            "63/63 [==============================] - 371s 6s/step - loss: 1.0121 - f1_score: 0.8313 - val_loss: 1.0423 - val_f1_score: 0.8084\n",
            "Epoch 21/39\n",
            "63/63 [==============================] - 367s 6s/step - loss: 1.0204 - f1_score: 0.8248 - val_loss: 1.0251 - val_f1_score: 0.8146\n",
            "Epoch 22/39\n",
            "63/63 [==============================] - 366s 6s/step - loss: 0.9604 - f1_score: 0.8367 - val_loss: 1.0131 - val_f1_score: 0.8129\n",
            "Epoch 23/39\n",
            "63/63 [==============================] - 365s 6s/step - loss: 0.9425 - f1_score: 0.8454 - val_loss: 1.0047 - val_f1_score: 0.8084\n",
            "Epoch 24/39\n",
            "63/63 [==============================] - 366s 6s/step - loss: 0.9089 - f1_score: 0.8489 - val_loss: 0.9915 - val_f1_score: 0.8146\n",
            "Epoch 25/39\n",
            "63/63 [==============================] - 366s 6s/step - loss: 0.9246 - f1_score: 0.8349 - val_loss: 0.9690 - val_f1_score: 0.8193\n",
            "Epoch 26/39\n",
            "63/63 [==============================] - 366s 6s/step - loss: 0.8950 - f1_score: 0.8461 - val_loss: 0.9655 - val_f1_score: 0.8179\n",
            "Epoch 27/39\n",
            "63/63 [==============================] - 366s 6s/step - loss: 0.9087 - f1_score: 0.8309 - val_loss: 0.9220 - val_f1_score: 0.8331\n",
            "Epoch 28/39\n",
            "63/63 [==============================] - 365s 6s/step - loss: 0.8605 - f1_score: 0.8611 - val_loss: 0.9206 - val_f1_score: 0.8323\n",
            "Epoch 29/39\n",
            "63/63 [==============================] - 364s 6s/step - loss: 0.8542 - f1_score: 0.8627 - val_loss: 0.9285 - val_f1_score: 0.8165\n",
            "Epoch 30/39\n",
            "63/63 [==============================] - 365s 6s/step - loss: 0.8580 - f1_score: 0.8419 - val_loss: 0.9031 - val_f1_score: 0.8432\n",
            "Epoch 31/39\n",
            "63/63 [==============================] - 365s 6s/step - loss: 0.8311 - f1_score: 0.8421 - val_loss: 0.9073 - val_f1_score: 0.8244\n",
            "Epoch 32/39\n",
            "63/63 [==============================] - 365s 6s/step - loss: 0.8016 - f1_score: 0.8769 - val_loss: 0.9044 - val_f1_score: 0.8220\n",
            "Epoch 33/39\n",
            "63/63 [==============================] - 364s 6s/step - loss: 0.7844 - f1_score: 0.8653 - val_loss: 0.8783 - val_f1_score: 0.8358\n",
            "Epoch 34/39\n",
            "63/63 [==============================] - 364s 6s/step - loss: 0.8037 - f1_score: 0.8544 - val_loss: 0.8579 - val_f1_score: 0.8387\n",
            "Epoch 35/39\n",
            "63/63 [==============================] - 363s 6s/step - loss: 0.7922 - f1_score: 0.8567 - val_loss: 0.8549 - val_f1_score: 0.8417\n",
            "Epoch 36/39\n",
            "63/63 [==============================] - 364s 6s/step - loss: 0.7701 - f1_score: 0.8629 - val_loss: 0.8457 - val_f1_score: 0.8356\n",
            "Epoch 37/39\n",
            "63/63 [==============================] - 364s 6s/step - loss: 0.7477 - f1_score: 0.8705 - val_loss: 0.8442 - val_f1_score: 0.8399\n",
            "Epoch 38/39\n",
            "63/63 [==============================] - 363s 6s/step - loss: 0.7750 - f1_score: 0.8591 - val_loss: 0.8333 - val_f1_score: 0.8376\n",
            "Epoch 39/39\n",
            "63/63 [==============================] - 364s 6s/step - loss: 0.7425 - f1_score: 0.8658 - val_loss: 0.8381 - val_f1_score: 0.8397\n"
          ],
          "name": "stdout"
        }
      ]
    },
    {
      "cell_type": "code",
      "metadata": {
        "colab": {
          "base_uri": "https://localhost:8080/"
        },
        "id": "wT77h77VLq3r",
        "outputId": "f99dc9f6-3bcf-4da1-da3d-0744043bc054"
      },
      "source": [
        "model.save('model_base')"
      ],
      "execution_count": null,
      "outputs": [
        {
          "output_type": "stream",
          "text": [
            "INFO:tensorflow:Assets written to: model_base/assets\n"
          ],
          "name": "stdout"
        }
      ]
    },
    {
      "cell_type": "code",
      "metadata": {
        "colab": {
          "base_uri": "https://localhost:8080/",
          "height": 399
        },
        "id": "NEBJryw7E3k_",
        "outputId": "ac42afe7-3ab4-4b1d-b6fa-f4ce790bd095"
      },
      "source": [
        "make_predictions(model,  name_file_submission='model_base.csv')"
      ],
      "execution_count": null,
      "outputs": [
        {
          "output_type": "execute_result",
          "data": {
            "text/html": [
              "<div>\n",
              "<style scoped>\n",
              "    .dataframe tbody tr th:only-of-type {\n",
              "        vertical-align: middle;\n",
              "    }\n",
              "\n",
              "    .dataframe tbody tr th {\n",
              "        vertical-align: top;\n",
              "    }\n",
              "\n",
              "    .dataframe thead th {\n",
              "        text-align: right;\n",
              "    }\n",
              "</style>\n",
              "<table border=\"1\" class=\"dataframe\">\n",
              "  <thead>\n",
              "    <tr style=\"text-align: right;\">\n",
              "      <th></th>\n",
              "      <th>id.jpg</th>\n",
              "      <th>label</th>\n",
              "    </tr>\n",
              "  </thead>\n",
              "  <tbody>\n",
              "    <tr>\n",
              "      <th>0</th>\n",
              "      <td>Cereal_Cro_17.jpg</td>\n",
              "      <td>12</td>\n",
              "    </tr>\n",
              "    <tr>\n",
              "      <th>1</th>\n",
              "      <td>Forest_DEB_6.jpg</td>\n",
              "      <td>11</td>\n",
              "    </tr>\n",
              "    <tr>\n",
              "      <th>2</th>\n",
              "      <td>Forest_ODN_9.jpg</td>\n",
              "      <td>14</td>\n",
              "    </tr>\n",
              "    <tr>\n",
              "      <th>3</th>\n",
              "      <td>Moss_and_L_16.jpg</td>\n",
              "      <td>20</td>\n",
              "    </tr>\n",
              "    <tr>\n",
              "      <th>4</th>\n",
              "      <td>Forest_DDB_3.jpg</td>\n",
              "      <td>1</td>\n",
              "    </tr>\n",
              "    <tr>\n",
              "      <th>...</th>\n",
              "      <td>...</td>\n",
              "      <td>...</td>\n",
              "    </tr>\n",
              "    <tr>\n",
              "      <th>495</th>\n",
              "      <td>Close_Shru_11.jpg</td>\n",
              "      <td>2</td>\n",
              "    </tr>\n",
              "    <tr>\n",
              "      <th>496</th>\n",
              "      <td>Marshland__18.jpg</td>\n",
              "      <td>19</td>\n",
              "    </tr>\n",
              "    <tr>\n",
              "      <th>497</th>\n",
              "      <td>Forest_DEB_8.jpg</td>\n",
              "      <td>11</td>\n",
              "    </tr>\n",
              "    <tr>\n",
              "      <th>498</th>\n",
              "      <td>Forest_DEN_9.jpg</td>\n",
              "      <td>12</td>\n",
              "    </tr>\n",
              "    <tr>\n",
              "      <th>499</th>\n",
              "      <td>Continenta_11.jpg</td>\n",
              "      <td>3</td>\n",
              "    </tr>\n",
              "  </tbody>\n",
              "</table>\n",
              "<p>500 rows × 2 columns</p>\n",
              "</div>"
            ],
            "text/plain": [
              "                id.jpg  label\n",
              "0    Cereal_Cro_17.jpg     12\n",
              "1     Forest_DEB_6.jpg     11\n",
              "2     Forest_ODN_9.jpg     14\n",
              "3    Moss_and_L_16.jpg     20\n",
              "4     Forest_DDB_3.jpg      1\n",
              "..                 ...    ...\n",
              "495  Close_Shru_11.jpg      2\n",
              "496  Marshland__18.jpg     19\n",
              "497   Forest_DEB_8.jpg     11\n",
              "498   Forest_DEN_9.jpg     12\n",
              "499  Continenta_11.jpg      3\n",
              "\n",
              "[500 rows x 2 columns]"
            ]
          },
          "metadata": {
            "tags": []
          },
          "execution_count": 38
        }
      ]
    },
    {
      "cell_type": "code",
      "metadata": {
        "colab": {
          "base_uri": "https://localhost:8080/",
          "height": 17
        },
        "id": "yZfs31IcvKFR",
        "outputId": "fd24e059-0225-40ff-cfdb-9e561faae8d7"
      },
      "source": [
        "from google.colab import files\r\n",
        "files.download(\"model_base.csv\")"
      ],
      "execution_count": null,
      "outputs": [
        {
          "output_type": "display_data",
          "data": {
            "application/javascript": [
              "\n",
              "    async function download(id, filename, size) {\n",
              "      if (!google.colab.kernel.accessAllowed) {\n",
              "        return;\n",
              "      }\n",
              "      const div = document.createElement('div');\n",
              "      const label = document.createElement('label');\n",
              "      label.textContent = `Downloading \"${filename}\": `;\n",
              "      div.appendChild(label);\n",
              "      const progress = document.createElement('progress');\n",
              "      progress.max = size;\n",
              "      div.appendChild(progress);\n",
              "      document.body.appendChild(div);\n",
              "\n",
              "      const buffers = [];\n",
              "      let downloaded = 0;\n",
              "\n",
              "      const channel = await google.colab.kernel.comms.open(id);\n",
              "      // Send a message to notify the kernel that we're ready.\n",
              "      channel.send({})\n",
              "\n",
              "      for await (const message of channel.messages) {\n",
              "        // Send a message to notify the kernel that we're ready.\n",
              "        channel.send({})\n",
              "        if (message.buffers) {\n",
              "          for (const buffer of message.buffers) {\n",
              "            buffers.push(buffer);\n",
              "            downloaded += buffer.byteLength;\n",
              "            progress.value = downloaded;\n",
              "          }\n",
              "        }\n",
              "      }\n",
              "      const blob = new Blob(buffers, {type: 'application/binary'});\n",
              "      const a = document.createElement('a');\n",
              "      a.href = window.URL.createObjectURL(blob);\n",
              "      a.download = filename;\n",
              "      div.appendChild(a);\n",
              "      a.click();\n",
              "      div.remove();\n",
              "    }\n",
              "  "
            ],
            "text/plain": [
              "<IPython.core.display.Javascript object>"
            ]
          },
          "metadata": {
            "tags": []
          }
        },
        {
          "output_type": "display_data",
          "data": {
            "application/javascript": [
              "download(\"download_50ac9475-b2a4-4258-9e59-40b854fa7c52\", \"model_base.csv\", 9988)"
            ],
            "text/plain": [
              "<IPython.core.display.Javascript object>"
            ]
          },
          "metadata": {
            "tags": []
          }
        }
      ]
    },
    {
      "cell_type": "markdown",
      "metadata": {
        "id": "n8GZcDkTKqkY"
      },
      "source": [
        "#### Modelo Mejorado"
      ]
    },
    {
      "cell_type": "markdown",
      "metadata": {
        "id": "J0UF2_0FtcRu"
      },
      "source": [
        "##### Modelo 1"
      ]
    },
    {
      "cell_type": "code",
      "metadata": {
        "id": "2abVqjMrKui4",
        "colab": {
          "base_uri": "https://localhost:8080/"
        },
        "outputId": "467fa2e2-5e21-4163-dc3d-b98630fc8d3e"
      },
      "source": [
        "base_model = tf.keras.applications.ResNet50(input_shape = (224, 224, 3), \r\n",
        "                                            classes     = 25,\r\n",
        "                                            include_top  = False)\r\n",
        "\r\n",
        "image_batch, label_batch = next(iter(train_data_gen))\r\n",
        "feature_batch = base_model(image_batch)\r\n",
        "base_model.trainable = False\r\n",
        "\r\n",
        "dense_layer_2048 = Dense(2048, activation='relu')\r\n",
        "dense_layer_512  = Dense(512, activation='relu')\r\n",
        "dense_layer_1024 = Dense(1024, activation='relu')\r\n",
        "\r\n",
        "dropout          = Dropout(0.25)\r\n",
        "\r\n",
        "global_average_layer = tf.keras.layers.GlobalAveragePooling2D()\r\n",
        "prediction_layer = keras.layers.Dense(25, activation='softmax')\r\n",
        "\r\n",
        "model_1 = tf.keras.Sequential([\r\n",
        "  base_model,\r\n",
        "  global_average_layer,\r\n",
        "  dense_layer_2048,\r\n",
        "  dropout,\r\n",
        "  dense_layer_512,\r\n",
        "  dropout,\r\n",
        "  dense_layer_1024,\r\n",
        "  prediction_layer\r\n",
        "])\r\n"
      ],
      "execution_count": null,
      "outputs": [
        {
          "output_type": "stream",
          "text": [
            "Downloading data from https://storage.googleapis.com/tensorflow/keras-applications/resnet/resnet50_weights_tf_dim_ordering_tf_kernels_notop.h5\n",
            "94773248/94765736 [==============================] - 1s 0us/step\n"
          ],
          "name": "stdout"
        }
      ]
    },
    {
      "cell_type": "code",
      "metadata": {
        "id": "x8j3K0iTPm7I"
      },
      "source": [
        "opt = tf.keras.optimizers.Adagrad()\r\n",
        "\r\n",
        "callback = tf.keras.callbacks.EarlyStopping(monitor='f1_score', patience=5)\r\n",
        "\r\n",
        "model_1.compile(loss=\"categorical_crossentropy\",\r\n",
        "              optimizer=opt,\r\n",
        "\t            metrics=[tfa.metrics.F1Score(num_classes=25, average='weighted')],\r\n",
        "              )"
      ],
      "execution_count": null,
      "outputs": []
    },
    {
      "cell_type": "code",
      "metadata": {
        "colab": {
          "base_uri": "https://localhost:8080/"
        },
        "id": "rOFN4So_Pm7J",
        "outputId": "011d22cb-4cf3-4d45-e9a5-14638a2d8648"
      },
      "source": [
        "tf.random.set_seed(2021)\r\n",
        "\r\n",
        "model_history_1 = model_1.fit(  \r\n",
        "    train_data_gen,\r\n",
        "    epochs=50,\r\n",
        "    validation_data=valid_data_gen,\r\n",
        "    validation_steps= valid_data_gen.n // batch_size)"
      ],
      "execution_count": null,
      "outputs": [
        {
          "output_type": "stream",
          "text": [
            "Epoch 1/50\n",
            "63/63 [==============================] - 383s 6s/step - loss: 3.1334 - f1_score: 0.1046 - val_loss: 2.5181 - val_f1_score: 0.4795\n",
            "Epoch 2/50\n",
            "63/63 [==============================] - 378s 6s/step - loss: 2.5349 - f1_score: 0.3676 - val_loss: 1.9645 - val_f1_score: 0.6243\n",
            "Epoch 3/50\n",
            "63/63 [==============================] - 390s 6s/step - loss: 2.0416 - f1_score: 0.5068 - val_loss: 1.5346 - val_f1_score: 0.7232\n",
            "Epoch 4/50\n",
            "63/63 [==============================] - 389s 6s/step - loss: 1.6152 - f1_score: 0.6252 - val_loss: 1.2329 - val_f1_score: 0.7495\n",
            "Epoch 5/50\n",
            "63/63 [==============================] - 388s 6s/step - loss: 1.3752 - f1_score: 0.6677 - val_loss: 1.0576 - val_f1_score: 0.7800\n",
            "Epoch 6/50\n",
            "63/63 [==============================] - 390s 6s/step - loss: 1.1837 - f1_score: 0.7032 - val_loss: 0.9077 - val_f1_score: 0.7835\n",
            "Epoch 7/50\n",
            "63/63 [==============================] - 386s 6s/step - loss: 1.0406 - f1_score: 0.7454 - val_loss: 0.8434 - val_f1_score: 0.7952\n",
            "Epoch 8/50\n",
            "63/63 [==============================] - 389s 6s/step - loss: 0.9415 - f1_score: 0.7505 - val_loss: 0.7591 - val_f1_score: 0.8251\n",
            "Epoch 9/50\n",
            "63/63 [==============================] - 388s 6s/step - loss: 0.8930 - f1_score: 0.7620 - val_loss: 0.7062 - val_f1_score: 0.8382\n",
            "Epoch 10/50\n",
            "63/63 [==============================] - 385s 6s/step - loss: 0.7941 - f1_score: 0.7908 - val_loss: 0.6625 - val_f1_score: 0.8313\n",
            "Epoch 11/50\n",
            "63/63 [==============================] - 384s 6s/step - loss: 0.7623 - f1_score: 0.7907 - val_loss: 0.6276 - val_f1_score: 0.8468\n",
            "Epoch 12/50\n",
            "63/63 [==============================] - 384s 6s/step - loss: 0.6959 - f1_score: 0.8172 - val_loss: 0.6229 - val_f1_score: 0.8434\n",
            "Epoch 13/50\n",
            "63/63 [==============================] - 388s 6s/step - loss: 0.6679 - f1_score: 0.8030 - val_loss: 0.5876 - val_f1_score: 0.8314\n",
            "Epoch 14/50\n",
            "63/63 [==============================] - 390s 6s/step - loss: 0.6330 - f1_score: 0.8233 - val_loss: 0.5711 - val_f1_score: 0.8448\n",
            "Epoch 15/50\n",
            "63/63 [==============================] - 390s 6s/step - loss: 0.5914 - f1_score: 0.8326 - val_loss: 0.5429 - val_f1_score: 0.8597\n",
            "Epoch 16/50\n",
            "63/63 [==============================] - 390s 6s/step - loss: 0.5999 - f1_score: 0.8218 - val_loss: 0.5324 - val_f1_score: 0.8554\n",
            "Epoch 17/50\n",
            "63/63 [==============================] - 385s 6s/step - loss: 0.5577 - f1_score: 0.8485 - val_loss: 0.5040 - val_f1_score: 0.8657\n",
            "Epoch 18/50\n",
            "63/63 [==============================] - 385s 6s/step - loss: 0.5733 - f1_score: 0.8477 - val_loss: 0.4866 - val_f1_score: 0.8614\n",
            "Epoch 19/50\n",
            "63/63 [==============================] - 385s 6s/step - loss: 0.5016 - f1_score: 0.8535 - val_loss: 0.5069 - val_f1_score: 0.8575\n",
            "Epoch 20/50\n",
            "63/63 [==============================] - 390s 6s/step - loss: 0.5163 - f1_score: 0.8529 - val_loss: 0.4633 - val_f1_score: 0.8832\n",
            "Epoch 21/50\n",
            "63/63 [==============================] - 388s 6s/step - loss: 0.4796 - f1_score: 0.8696 - val_loss: 0.4588 - val_f1_score: 0.8697\n",
            "Epoch 22/50\n",
            "63/63 [==============================] - 393s 6s/step - loss: 0.4730 - f1_score: 0.8597 - val_loss: 0.4479 - val_f1_score: 0.8784\n",
            "Epoch 23/50\n",
            "63/63 [==============================] - 392s 6s/step - loss: 0.4646 - f1_score: 0.8685 - val_loss: 0.4378 - val_f1_score: 0.8750\n",
            "Epoch 24/50\n",
            "63/63 [==============================] - 384s 6s/step - loss: 0.4484 - f1_score: 0.8805 - val_loss: 0.4445 - val_f1_score: 0.8782\n",
            "Epoch 25/50\n",
            "63/63 [==============================] - 383s 6s/step - loss: 0.4657 - f1_score: 0.8661 - val_loss: 0.4210 - val_f1_score: 0.8885\n",
            "Epoch 26/50\n",
            "63/63 [==============================] - 380s 6s/step - loss: 0.4397 - f1_score: 0.8685 - val_loss: 0.4118 - val_f1_score: 0.8837\n",
            "Epoch 27/50\n",
            "63/63 [==============================] - 379s 6s/step - loss: 0.4372 - f1_score: 0.8737 - val_loss: 0.4291 - val_f1_score: 0.8812\n",
            "Epoch 28/50\n",
            "63/63 [==============================] - 379s 6s/step - loss: 0.4045 - f1_score: 0.8902 - val_loss: 0.4086 - val_f1_score: 0.8787\n",
            "Epoch 29/50\n",
            "63/63 [==============================] - 379s 6s/step - loss: 0.4286 - f1_score: 0.8750 - val_loss: 0.4043 - val_f1_score: 0.8880\n",
            "Epoch 30/50\n",
            "63/63 [==============================] - 380s 6s/step - loss: 0.3902 - f1_score: 0.8930 - val_loss: 0.4100 - val_f1_score: 0.8816\n",
            "Epoch 31/50\n",
            "63/63 [==============================] - 382s 6s/step - loss: 0.3956 - f1_score: 0.8856 - val_loss: 0.4008 - val_f1_score: 0.8868\n",
            "Epoch 32/50\n",
            "63/63 [==============================] - 375s 6s/step - loss: 0.3741 - f1_score: 0.8938 - val_loss: 0.3977 - val_f1_score: 0.8959\n",
            "Epoch 33/50\n",
            "63/63 [==============================] - 375s 6s/step - loss: 0.3818 - f1_score: 0.8929 - val_loss: 0.3948 - val_f1_score: 0.8858\n",
            "Epoch 34/50\n",
            "63/63 [==============================] - 375s 6s/step - loss: 0.3539 - f1_score: 0.8920 - val_loss: 0.3786 - val_f1_score: 0.8980\n",
            "Epoch 35/50\n",
            "63/63 [==============================] - 368s 6s/step - loss: 0.3713 - f1_score: 0.9065 - val_loss: 0.3857 - val_f1_score: 0.8893\n",
            "Epoch 36/50\n",
            "63/63 [==============================] - 365s 6s/step - loss: 0.3451 - f1_score: 0.9012 - val_loss: 0.3735 - val_f1_score: 0.8961\n",
            "Epoch 37/50\n",
            "63/63 [==============================] - 352s 6s/step - loss: 0.3529 - f1_score: 0.9073 - val_loss: 0.3628 - val_f1_score: 0.9066\n",
            "Epoch 38/50\n",
            "63/63 [==============================] - 341s 5s/step - loss: 0.3505 - f1_score: 0.8977 - val_loss: 0.3669 - val_f1_score: 0.8943\n",
            "Epoch 39/50\n",
            "63/63 [==============================] - 364s 6s/step - loss: 0.3366 - f1_score: 0.8993 - val_loss: 0.3586 - val_f1_score: 0.9080\n",
            "Epoch 40/50\n",
            "63/63 [==============================] - 366s 6s/step - loss: 0.3400 - f1_score: 0.8998 - val_loss: 0.3445 - val_f1_score: 0.9102\n",
            "Epoch 41/50\n",
            "63/63 [==============================] - 363s 6s/step - loss: 0.3078 - f1_score: 0.9125 - val_loss: 0.3680 - val_f1_score: 0.9020\n",
            "Epoch 42/50\n",
            "63/63 [==============================] - 346s 6s/step - loss: 0.3326 - f1_score: 0.9064 - val_loss: 0.3551 - val_f1_score: 0.8986\n",
            "Epoch 43/50\n",
            "63/63 [==============================] - 343s 5s/step - loss: 0.3261 - f1_score: 0.9127 - val_loss: 0.3731 - val_f1_score: 0.8935\n",
            "Epoch 44/50\n",
            "63/63 [==============================] - 337s 5s/step - loss: 0.3550 - f1_score: 0.8987 - val_loss: 0.3582 - val_f1_score: 0.9041\n",
            "Epoch 45/50\n",
            "63/63 [==============================] - 350s 6s/step - loss: 0.3201 - f1_score: 0.9117 - val_loss: 0.3581 - val_f1_score: 0.9068\n",
            "Epoch 46/50\n",
            "63/63 [==============================] - 358s 6s/step - loss: 0.3062 - f1_score: 0.9181 - val_loss: 0.3489 - val_f1_score: 0.9061\n",
            "Epoch 47/50\n",
            "63/63 [==============================] - 366s 6s/step - loss: 0.3028 - f1_score: 0.9263 - val_loss: 0.3496 - val_f1_score: 0.9127\n",
            "Epoch 48/50\n",
            "63/63 [==============================] - 365s 6s/step - loss: 0.2901 - f1_score: 0.9156 - val_loss: 0.3355 - val_f1_score: 0.9090\n",
            "Epoch 49/50\n",
            "63/63 [==============================] - 373s 6s/step - loss: 0.2877 - f1_score: 0.9198 - val_loss: 0.3372 - val_f1_score: 0.9097\n",
            "Epoch 50/50\n",
            "63/63 [==============================] - 374s 6s/step - loss: 0.2840 - f1_score: 0.9265 - val_loss: 0.3415 - val_f1_score: 0.9146\n"
          ],
          "name": "stdout"
        }
      ]
    },
    {
      "cell_type": "code",
      "metadata": {
        "colab": {
          "base_uri": "https://localhost:8080/"
        },
        "id": "8MC6Xr2Q8cHw",
        "outputId": "c950c9a7-d26b-4c00-dbf2-649c4f0be078"
      },
      "source": [
        "model_1.save('model_2048_512_1024')"
      ],
      "execution_count": null,
      "outputs": [
        {
          "output_type": "stream",
          "text": [
            "INFO:tensorflow:Assets written to: model_2048_512_1024/assets\n"
          ],
          "name": "stdout"
        }
      ]
    },
    {
      "cell_type": "code",
      "metadata": {
        "colab": {
          "base_uri": "https://localhost:8080/",
          "height": 399
        },
        "id": "b6XNeEf6SFpZ",
        "outputId": "68fabba7-ba22-419f-aabc-ba761cd69f8d"
      },
      "source": [
        "make_predictions(model_1, name_file_submission='modelo_mejorado_2048_512_1024.csv')"
      ],
      "execution_count": null,
      "outputs": [
        {
          "output_type": "execute_result",
          "data": {
            "text/html": [
              "<div>\n",
              "<style scoped>\n",
              "    .dataframe tbody tr th:only-of-type {\n",
              "        vertical-align: middle;\n",
              "    }\n",
              "\n",
              "    .dataframe tbody tr th {\n",
              "        vertical-align: top;\n",
              "    }\n",
              "\n",
              "    .dataframe thead th {\n",
              "        text-align: right;\n",
              "    }\n",
              "</style>\n",
              "<table border=\"1\" class=\"dataframe\">\n",
              "  <thead>\n",
              "    <tr style=\"text-align: right;\">\n",
              "      <th></th>\n",
              "      <th>id.jpg</th>\n",
              "      <th>label</th>\n",
              "    </tr>\n",
              "  </thead>\n",
              "  <tbody>\n",
              "    <tr>\n",
              "      <th>0</th>\n",
              "      <td>Cereal_Cro_17.jpg</td>\n",
              "      <td>17</td>\n",
              "    </tr>\n",
              "    <tr>\n",
              "      <th>1</th>\n",
              "      <td>Forest_DEB_6.jpg</td>\n",
              "      <td>11</td>\n",
              "    </tr>\n",
              "    <tr>\n",
              "      <th>2</th>\n",
              "      <td>Forest_ODN_9.jpg</td>\n",
              "      <td>14</td>\n",
              "    </tr>\n",
              "    <tr>\n",
              "      <th>3</th>\n",
              "      <td>Moss_and_L_16.jpg</td>\n",
              "      <td>20</td>\n",
              "    </tr>\n",
              "    <tr>\n",
              "      <th>4</th>\n",
              "      <td>Forest_DDB_3.jpg</td>\n",
              "      <td>9</td>\n",
              "    </tr>\n",
              "    <tr>\n",
              "      <th>...</th>\n",
              "      <td>...</td>\n",
              "      <td>...</td>\n",
              "    </tr>\n",
              "    <tr>\n",
              "      <th>495</th>\n",
              "      <td>Close_Shru_11.jpg</td>\n",
              "      <td>2</td>\n",
              "    </tr>\n",
              "    <tr>\n",
              "      <th>496</th>\n",
              "      <td>Marshland__18.jpg</td>\n",
              "      <td>19</td>\n",
              "    </tr>\n",
              "    <tr>\n",
              "      <th>497</th>\n",
              "      <td>Forest_DEB_8.jpg</td>\n",
              "      <td>11</td>\n",
              "    </tr>\n",
              "    <tr>\n",
              "      <th>498</th>\n",
              "      <td>Forest_DEN_9.jpg</td>\n",
              "      <td>12</td>\n",
              "    </tr>\n",
              "    <tr>\n",
              "      <th>499</th>\n",
              "      <td>Continenta_11.jpg</td>\n",
              "      <td>3</td>\n",
              "    </tr>\n",
              "  </tbody>\n",
              "</table>\n",
              "<p>500 rows × 2 columns</p>\n",
              "</div>"
            ],
            "text/plain": [
              "                id.jpg  label\n",
              "0    Cereal_Cro_17.jpg     17\n",
              "1     Forest_DEB_6.jpg     11\n",
              "2     Forest_ODN_9.jpg     14\n",
              "3    Moss_and_L_16.jpg     20\n",
              "4     Forest_DDB_3.jpg      9\n",
              "..                 ...    ...\n",
              "495  Close_Shru_11.jpg      2\n",
              "496  Marshland__18.jpg     19\n",
              "497   Forest_DEB_8.jpg     11\n",
              "498   Forest_DEN_9.jpg     12\n",
              "499  Continenta_11.jpg      3\n",
              "\n",
              "[500 rows x 2 columns]"
            ]
          },
          "metadata": {
            "tags": []
          },
          "execution_count": 25
        }
      ]
    },
    {
      "cell_type": "code",
      "metadata": {
        "colab": {
          "base_uri": "https://localhost:8080/",
          "height": 17
        },
        "id": "Vpf4a0pmSd4r",
        "outputId": "baa8c65c-9c9d-48e5-ce43-b3feb9503c3e"
      },
      "source": [
        "from google.colab import files\r\n",
        "\r\n",
        "files.download(\"modelo_mejorado_2048_512_1024.csv\")"
      ],
      "execution_count": null,
      "outputs": [
        {
          "output_type": "display_data",
          "data": {
            "application/javascript": [
              "\n",
              "    async function download(id, filename, size) {\n",
              "      if (!google.colab.kernel.accessAllowed) {\n",
              "        return;\n",
              "      }\n",
              "      const div = document.createElement('div');\n",
              "      const label = document.createElement('label');\n",
              "      label.textContent = `Downloading \"${filename}\": `;\n",
              "      div.appendChild(label);\n",
              "      const progress = document.createElement('progress');\n",
              "      progress.max = size;\n",
              "      div.appendChild(progress);\n",
              "      document.body.appendChild(div);\n",
              "\n",
              "      const buffers = [];\n",
              "      let downloaded = 0;\n",
              "\n",
              "      const channel = await google.colab.kernel.comms.open(id);\n",
              "      // Send a message to notify the kernel that we're ready.\n",
              "      channel.send({})\n",
              "\n",
              "      for await (const message of channel.messages) {\n",
              "        // Send a message to notify the kernel that we're ready.\n",
              "        channel.send({})\n",
              "        if (message.buffers) {\n",
              "          for (const buffer of message.buffers) {\n",
              "            buffers.push(buffer);\n",
              "            downloaded += buffer.byteLength;\n",
              "            progress.value = downloaded;\n",
              "          }\n",
              "        }\n",
              "      }\n",
              "      const blob = new Blob(buffers, {type: 'application/binary'});\n",
              "      const a = document.createElement('a');\n",
              "      a.href = window.URL.createObjectURL(blob);\n",
              "      a.download = filename;\n",
              "      div.appendChild(a);\n",
              "      a.click();\n",
              "      div.remove();\n",
              "    }\n",
              "  "
            ],
            "text/plain": [
              "<IPython.core.display.Javascript object>"
            ]
          },
          "metadata": {
            "tags": []
          }
        },
        {
          "output_type": "display_data",
          "data": {
            "application/javascript": [
              "download(\"download_15de5013-cf76-4ac3-9520-9defb30e7496\", \"modelo_mejorado_2048_512_1024.csv\", 9984)"
            ],
            "text/plain": [
              "<IPython.core.display.Javascript object>"
            ]
          },
          "metadata": {
            "tags": []
          }
        }
      ]
    },
    {
      "cell_type": "code",
      "metadata": {
        "id": "TVpaP21J69dD",
        "colab": {
          "base_uri": "https://localhost:8080/"
        },
        "outputId": "4b6682f7-0cf2-4595-9af0-58c6426a0209"
      },
      "source": [
        "! zip -r modelo_mejorado_2048_512_1024.zip model_2048_512_1024"
      ],
      "execution_count": null,
      "outputs": [
        {
          "output_type": "stream",
          "text": [
            "  adding: model_2048_512_1024/ (stored 0%)\n",
            "  adding: model_2048_512_1024/variables/ (stored 0%)\n",
            "  adding: model_2048_512_1024/variables/variables.index (deflated 78%)\n",
            "  adding: model_2048_512_1024/variables/variables.data-00000-of-00001 (deflated 10%)\n",
            "  adding: model_2048_512_1024/assets/ (stored 0%)\n",
            "  adding: model_2048_512_1024/saved_model.pb (deflated 93%)\n"
          ],
          "name": "stdout"
        }
      ]
    },
    {
      "cell_type": "code",
      "metadata": {
        "id": "wkkk2n3J7Cu-",
        "colab": {
          "base_uri": "https://localhost:8080/",
          "height": 17
        },
        "outputId": "30c760d3-6d0f-4daa-f938-7921fa68db1e"
      },
      "source": [
        "files.download(\"modelo_mejorado_2048_512_1024.zip\")"
      ],
      "execution_count": null,
      "outputs": [
        {
          "output_type": "display_data",
          "data": {
            "application/javascript": [
              "\n",
              "    async function download(id, filename, size) {\n",
              "      if (!google.colab.kernel.accessAllowed) {\n",
              "        return;\n",
              "      }\n",
              "      const div = document.createElement('div');\n",
              "      const label = document.createElement('label');\n",
              "      label.textContent = `Downloading \"${filename}\": `;\n",
              "      div.appendChild(label);\n",
              "      const progress = document.createElement('progress');\n",
              "      progress.max = size;\n",
              "      div.appendChild(progress);\n",
              "      document.body.appendChild(div);\n",
              "\n",
              "      const buffers = [];\n",
              "      let downloaded = 0;\n",
              "\n",
              "      const channel = await google.colab.kernel.comms.open(id);\n",
              "      // Send a message to notify the kernel that we're ready.\n",
              "      channel.send({})\n",
              "\n",
              "      for await (const message of channel.messages) {\n",
              "        // Send a message to notify the kernel that we're ready.\n",
              "        channel.send({})\n",
              "        if (message.buffers) {\n",
              "          for (const buffer of message.buffers) {\n",
              "            buffers.push(buffer);\n",
              "            downloaded += buffer.byteLength;\n",
              "            progress.value = downloaded;\n",
              "          }\n",
              "        }\n",
              "      }\n",
              "      const blob = new Blob(buffers, {type: 'application/binary'});\n",
              "      const a = document.createElement('a');\n",
              "      a.href = window.URL.createObjectURL(blob);\n",
              "      a.download = filename;\n",
              "      div.appendChild(a);\n",
              "      a.click();\n",
              "      div.remove();\n",
              "    }\n",
              "  "
            ],
            "text/plain": [
              "<IPython.core.display.Javascript object>"
            ]
          },
          "metadata": {
            "tags": []
          }
        },
        {
          "output_type": "display_data",
          "data": {
            "application/javascript": [
              "download(\"download_08d3f7c1-2d7a-4b74-91b3-a2b3a7fd79cf\", \"modelo_mejorado_2048_512_1024.zip\", 126541273)"
            ],
            "text/plain": [
              "<IPython.core.display.Javascript object>"
            ]
          },
          "metadata": {
            "tags": []
          }
        }
      ]
    },
    {
      "cell_type": "code",
      "metadata": {
        "id": "khiAeQbtAWQR"
      },
      "source": [
        "import matplotlib.pyplot as plt"
      ],
      "execution_count": null,
      "outputs": []
    },
    {
      "cell_type": "code",
      "metadata": {
        "colab": {
          "base_uri": "https://localhost:8080/",
          "height": 295
        },
        "id": "1ol0UUxp4O2Q",
        "outputId": "3f2e8d40-8a76-476d-d3ae-fe64aad3cf99"
      },
      "source": [
        "plt.plot(model_history_1.history['f1_score'])\r\n",
        "plt.plot(model_history_1.history['val_f1_score'])\r\n",
        "plt.title('model f1_score')\r\n",
        "plt.ylabel('f1_score')\r\n",
        "plt.xlabel('epoch')\r\n",
        "plt.legend(['train', 'test'], loc='upper left')\r\n",
        "plt.show()"
      ],
      "execution_count": null,
      "outputs": [
        {
          "output_type": "display_data",
          "data": {
            "image/png": "[encoded data removed]",
            "text/plain": [
              "<Figure size 432x288 with 1 Axes>"
            ]
          },
          "metadata": {
            "tags": [],
            "needs_background": "light"
          }
        }
      ]
    },
    {
      "cell_type": "markdown",
      "metadata": {
        "id": "7A72lNhxtezq"
      },
      "source": [
        "##### Modelo 2"
      ]
    },
    {
      "cell_type": "code",
      "metadata": {
        "id": "aiBsqAt3tgPH"
      },
      "source": [
        "base_model = tf.keras.applications.ResNet50(input_shape = (224, 224, 3), \r\n",
        "                                            classes     = 25,\r\n",
        "                                            include_top  = False)\r\n",
        "\r\n",
        "image_batch, label_batch = next(iter(train_data_gen))\r\n",
        "feature_batch = base_model(image_batch)\r\n",
        "base_model.trainable = False\r\n",
        "\r\n",
        "dense_layer_2048 = Dense(2048, activation='relu')\r\n",
        "dense_layer_512  = Dense(512,  activation='relu')\r\n",
        "dense_layer_1024 = Dense(1024, activation='relu')\r\n",
        "\r\n",
        "dense_layer_256  = Dense(256, activation='relu')\r\n",
        "dense_layer_128  = Dense(128, activation='relu')\r\n",
        "dense_layer_52   = Dense(52,  activation='relu')\r\n",
        "\r\n",
        "dropout          = Dropout(0.25)\r\n",
        "\r\n",
        "global_average_layer = tf.keras.layers.GlobalAveragePooling2D()\r\n",
        "prediction_layer = keras.layers.Dense(25, activation='softmax')\r\n",
        "\r\n",
        "model_2 = tf.keras.Sequential([\r\n",
        "  base_model,\r\n",
        "  dense_layer_2048,\r\n",
        "  dropout,\r\n",
        "  dense_layer_512,\r\n",
        "  dropout,\r\n",
        "  dense_layer_1024,\r\n",
        "  dropout,\r\n",
        "  dense_layer_256,\r\n",
        "  dropout,\r\n",
        "  dense_layer_128,\r\n",
        "  dropout,\r\n",
        "  dense_layer_52,\r\n",
        "  dropout,\r\n",
        "  global_average_layer,\r\n",
        "  prediction_layer\r\n",
        "])"
      ],
      "execution_count": null,
      "outputs": []
    },
    {
      "cell_type": "code",
      "metadata": {
        "id": "2sNQpnrftloA"
      },
      "source": [
        "opt = tf.keras.optimizers.Adagrad()\r\n",
        "\r\n",
        "callback = tf.keras.callbacks.EarlyStopping(monitor='f1_score', patience=5)\r\n",
        "\r\n",
        "model_2.compile(loss=\"categorical_crossentropy\",\r\n",
        "              optimizer=opt,\r\n",
        "\t            metrics=[tfa.metrics.F1Score(num_classes=25, average='weighted')],\r\n",
        "              )"
      ],
      "execution_count": null,
      "outputs": []
    },
    {
      "cell_type": "code",
      "metadata": {
        "id": "LOibTIm-tloB"
      },
      "source": [
        "tf.random.set_seed(2021)\r\n",
        "\r\n",
        "model_history_2 = model_2.fit(  \r\n",
        "    train_data_gen,\r\n",
        "    epochs=50,\r\n",
        "    validation_data=valid_data_gen,\r\n",
        "    validation_steps= valid_data_gen.n // batch_size)"
      ],
      "execution_count": null,
      "outputs": []
    },
    {
      "cell_type": "code",
      "metadata": {
        "id": "iSL0NJnPfC1m"
      },
      "source": [
        "plt.plot(model_history_2.history['f1_score'])\r\n",
        "plt.plot(model_history_2.history['val_f1_score'])\r\n",
        "plt.title('model f1_score')\r\n",
        "plt.ylabel('f1_score')\r\n",
        "plt.xlabel('epoch')\r\n",
        "plt.legend(['train', 'test'], loc='upper left')\r\n",
        "plt.show()"
      ],
      "execution_count": null,
      "outputs": []
    },
    {
      "cell_type": "code",
      "metadata": {
        "id": "Tmi21p1ufC8Z"
      },
      "source": [
        "make_predictions(model_2, name_file_submission='modelo_mejorado_2048_512_1024_256_128_52.csv')"
      ],
      "execution_count": null,
      "outputs": []
    },
    {
      "cell_type": "code",
      "metadata": {
        "id": "S7alNAg1fLGr"
      },
      "source": [
        "from google.colab import files\r\n",
        "files.download(\"modelo_mejorado_2048_512_1024_256_128_52.csv\")"
      ],
      "execution_count": null,
      "outputs": []
    },
    {
      "cell_type": "markdown",
      "metadata": {
        "id": "4Q0j18fwKsOS"
      },
      "source": [
        "#### Predicciones"
      ]
    },
    {
      "cell_type": "code",
      "metadata": {
        "id": "4yZhcH3FXLL_"
      },
      "source": [
        "make_predictions(model,  name_file_submission='model_2048_512_1024.csv')"
      ],
      "execution_count": null,
      "outputs": []
    }
  ]
}