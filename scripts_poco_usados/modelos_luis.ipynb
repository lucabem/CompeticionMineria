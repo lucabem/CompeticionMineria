{
  "nbformat": 4,
  "nbformat_minor": 0,
  "metadata": {
    "colab": {
      "name": ".ipynb",
      "provenance": [],
      "collapsed_sections": [],
      "authorship_tag": "ABX9TyOi3yK+VKop2n6E+CvYCF7F",
      "include_colab_link": true
    },
    "kernelspec": {
      "name": "python3",
      "display_name": "Python 3"
    },
    "accelerator": "TPU"
  },
  "cells": [
    {
      "cell_type": "markdown",
      "metadata": {
        "id": "view-in-github",
        "colab_type": "text"
      },
      "source": [
        "<a href=\"https://colab.research.google.com/github/lucabem/CompeticionMineria/blob/main/modelos_luis.ipynb\" target=\"_parent\"><img src=\"https://colab.research.google.com/assets/colab-badge.svg\" alt=\"Open In Colab\"/></a>"
      ]
    },
    {
      "cell_type": "code",
      "metadata": {
        "id": "vU8xsCCH_A3L"
      },
      "source": [
        ""
      ],
      "execution_count": null,
      "outputs": []
    },
    {
      "cell_type": "code",
      "metadata": {
        "id": "bEFpuOSpcBoh"
      },
      "source": [
        "import numpy as np\r\n",
        "import os\r\n",
        "import PIL\r\n",
        "import PIL.Image\r\n",
        "import tensorflow as tf\r\n",
        "import tensorflow_datasets as tfds\r\n",
        "import pathlib"
      ],
      "execution_count": 1,
      "outputs": []
    },
    {
      "cell_type": "code",
      "metadata": {
        "colab": {
          "base_uri": "https://localhost:8080/"
        },
        "id": "Wh8GCRtdcLYv",
        "outputId": "d0c1e075-f527-4be7-bc36-c109aac4b2f4"
      },
      "source": [
        "dataset_url = 'https://github.com/lucabem/CompeticionMineria/blob/main/data/dataset_images.zip?raw=true'\r\n",
        "data_dir = tf.keras.utils.get_file(origin=dataset_url, \r\n",
        "                                   fname='train_data', \r\n",
        "                                   extract=True)"
      ],
      "execution_count": 2,
      "outputs": [
        {
          "output_type": "stream",
          "text": [
            "Downloading data from https://github.com/lucabem/CompeticionMineria/blob/main/data/dataset_images.zip?raw=true\n",
            "78143488/78135834 [==============================] - 1s 0us/step\n"
          ],
          "name": "stdout"
        }
      ]
    },
    {
      "cell_type": "code",
      "metadata": {
        "colab": {
          "base_uri": "https://localhost:8080/"
        },
        "id": "5yhP8xGwe36X",
        "outputId": "90be3592-867c-400f-c687-0d999bef74c3"
      },
      "source": [
        "!rm -rf /root/.keras/datasets/train_data.tar.gz /root/.keras/datasets/train_data\r\n",
        "!ls -l /root/.keras/datasets/"
      ],
      "execution_count": 3,
      "outputs": [
        {
          "output_type": "stream",
          "text": [
            "total 72\n",
            "drwxr-xr-x 27 root root  4096 Mar  6 20:43 ImagesTrain\n",
            "drwxr-xr-x  2 root root 69632 Mar  6 20:43 Test\n"
          ],
          "name": "stdout"
        }
      ]
    },
    {
      "cell_type": "code",
      "metadata": {
        "id": "FNAYg6b94G05",
        "colab": {
          "base_uri": "https://localhost:8080/"
        },
        "outputId": "b54d2bdf-5ab1-4133-ada0-1d28527d287c"
      },
      "source": [
        "train_path = pathlib.Path('/root/.keras/datasets/ImagesTrain')\r\n",
        "image_count = len(list(train_path.glob('*/*.jpg')))\r\n",
        "print(image_count)"
      ],
      "execution_count": 4,
      "outputs": [
        {
          "output_type": "stream",
          "text": [
            "2500\n"
          ],
          "name": "stdout"
        }
      ]
    },
    {
      "cell_type": "code",
      "metadata": {
        "id": "SifaMI-ahKno"
      },
      "source": [
        "for direct in train_path.iterdir():\r\n",
        "  if direct.is_dir():\r\n",
        "    direct.rename(train_path / direct.name.split(sep='_100')[0])"
      ],
      "execution_count": 5,
      "outputs": []
    },
    {
      "cell_type": "code",
      "metadata": {
        "id": "6FGhnAH-goA-"
      },
      "source": [
        "batch_size = 32\r\n",
        "img_height = 224\r\n",
        "img_width  = 224"
      ],
      "execution_count": 6,
      "outputs": []
    },
    {
      "cell_type": "code",
      "metadata": {
        "id": "ekqQ_EFBcLDp",
        "colab": {
          "base_uri": "https://localhost:8080/"
        },
        "outputId": "c64685cf-e641-406c-dda8-f4bfbc4b0864"
      },
      "source": [
        "!pip install tensorflow-addons"
      ],
      "execution_count": 7,
      "outputs": [
        {
          "output_type": "stream",
          "text": [
            "Collecting tensorflow-addons\n",
            "\u001b[?25l  Downloading https://files.pythonhosted.org/packages/74/e3/56d2fe76f0bb7c88ed9b2a6a557e25e83e252aec08f13de34369cd850a0b/tensorflow_addons-0.12.1-cp37-cp37m-manylinux2010_x86_64.whl (703kB)\n",
            "\r\u001b[K     |▌                               | 10kB 15.5MB/s eta 0:00:01\r\u001b[K     |█                               | 20kB 17.5MB/s eta 0:00:01\r\u001b[K     |█▍                              | 30kB 11.1MB/s eta 0:00:01\r\u001b[K     |█▉                              | 40kB 9.1MB/s eta 0:00:01\r\u001b[K     |██▎                             | 51kB 5.0MB/s eta 0:00:01\r\u001b[K     |██▉                             | 61kB 5.5MB/s eta 0:00:01\r\u001b[K     |███▎                            | 71kB 5.7MB/s eta 0:00:01\r\u001b[K     |███▊                            | 81kB 6.1MB/s eta 0:00:01\r\u001b[K     |████▏                           | 92kB 6.3MB/s eta 0:00:01\r\u001b[K     |████▋                           | 102kB 6.6MB/s eta 0:00:01\r\u001b[K     |█████▏                          | 112kB 6.6MB/s eta 0:00:01\r\u001b[K     |█████▋                          | 122kB 6.6MB/s eta 0:00:01\r\u001b[K     |██████                          | 133kB 6.6MB/s eta 0:00:01\r\u001b[K     |██████▌                         | 143kB 6.6MB/s eta 0:00:01\r\u001b[K     |███████                         | 153kB 6.6MB/s eta 0:00:01\r\u001b[K     |███████▌                        | 163kB 6.6MB/s eta 0:00:01\r\u001b[K     |████████                        | 174kB 6.6MB/s eta 0:00:01\r\u001b[K     |████████▍                       | 184kB 6.6MB/s eta 0:00:01\r\u001b[K     |████████▉                       | 194kB 6.6MB/s eta 0:00:01\r\u001b[K     |█████████▎                      | 204kB 6.6MB/s eta 0:00:01\r\u001b[K     |█████████▉                      | 215kB 6.6MB/s eta 0:00:01\r\u001b[K     |██████████▎                     | 225kB 6.6MB/s eta 0:00:01\r\u001b[K     |██████████▊                     | 235kB 6.6MB/s eta 0:00:01\r\u001b[K     |███████████▏                    | 245kB 6.6MB/s eta 0:00:01\r\u001b[K     |███████████▋                    | 256kB 6.6MB/s eta 0:00:01\r\u001b[K     |████████████▏                   | 266kB 6.6MB/s eta 0:00:01\r\u001b[K     |████████████▋                   | 276kB 6.6MB/s eta 0:00:01\r\u001b[K     |█████████████                   | 286kB 6.6MB/s eta 0:00:01\r\u001b[K     |█████████████▌                  | 296kB 6.6MB/s eta 0:00:01\r\u001b[K     |██████████████                  | 307kB 6.6MB/s eta 0:00:01\r\u001b[K     |██████████████▍                 | 317kB 6.6MB/s eta 0:00:01\r\u001b[K     |███████████████                 | 327kB 6.6MB/s eta 0:00:01\r\u001b[K     |███████████████▍                | 337kB 6.6MB/s eta 0:00:01\r\u001b[K     |███████████████▉                | 348kB 6.6MB/s eta 0:00:01\r\u001b[K     |████████████████▎               | 358kB 6.6MB/s eta 0:00:01\r\u001b[K     |████████████████▊               | 368kB 6.6MB/s eta 0:00:01\r\u001b[K     |█████████████████▎              | 378kB 6.6MB/s eta 0:00:01\r\u001b[K     |█████████████████▊              | 389kB 6.6MB/s eta 0:00:01\r\u001b[K     |██████████████████▏             | 399kB 6.6MB/s eta 0:00:01\r\u001b[K     |██████████████████▋             | 409kB 6.6MB/s eta 0:00:01\r\u001b[K     |███████████████████             | 419kB 6.6MB/s eta 0:00:01\r\u001b[K     |███████████████████▋            | 430kB 6.6MB/s eta 0:00:01\r\u001b[K     |████████████████████            | 440kB 6.6MB/s eta 0:00:01\r\u001b[K     |████████████████████▌           | 450kB 6.6MB/s eta 0:00:01\r\u001b[K     |█████████████████████           | 460kB 6.6MB/s eta 0:00:01\r\u001b[K     |█████████████████████▍          | 471kB 6.6MB/s eta 0:00:01\r\u001b[K     |██████████████████████          | 481kB 6.6MB/s eta 0:00:01\r\u001b[K     |██████████████████████▍         | 491kB 6.6MB/s eta 0:00:01\r\u001b[K     |██████████████████████▉         | 501kB 6.6MB/s eta 0:00:01\r\u001b[K     |███████████████████████▎        | 512kB 6.6MB/s eta 0:00:01\r\u001b[K     |███████████████████████▊        | 522kB 6.6MB/s eta 0:00:01\r\u001b[K     |████████████████████████▎       | 532kB 6.6MB/s eta 0:00:01\r\u001b[K     |████████████████████████▊       | 542kB 6.6MB/s eta 0:00:01\r\u001b[K     |█████████████████████████▏      | 552kB 6.6MB/s eta 0:00:01\r\u001b[K     |█████████████████████████▋      | 563kB 6.6MB/s eta 0:00:01\r\u001b[K     |██████████████████████████      | 573kB 6.6MB/s eta 0:00:01\r\u001b[K     |██████████████████████████▋     | 583kB 6.6MB/s eta 0:00:01\r\u001b[K     |███████████████████████████     | 593kB 6.6MB/s eta 0:00:01\r\u001b[K     |███████████████████████████▌    | 604kB 6.6MB/s eta 0:00:01\r\u001b[K     |████████████████████████████    | 614kB 6.6MB/s eta 0:00:01\r\u001b[K     |████████████████████████████▍   | 624kB 6.6MB/s eta 0:00:01\r\u001b[K     |████████████████████████████▉   | 634kB 6.6MB/s eta 0:00:01\r\u001b[K     |█████████████████████████████▍  | 645kB 6.6MB/s eta 0:00:01\r\u001b[K     |█████████████████████████████▉  | 655kB 6.6MB/s eta 0:00:01\r\u001b[K     |██████████████████████████████▎ | 665kB 6.6MB/s eta 0:00:01\r\u001b[K     |██████████████████████████████▊ | 675kB 6.6MB/s eta 0:00:01\r\u001b[K     |███████████████████████████████▏| 686kB 6.6MB/s eta 0:00:01\r\u001b[K     |███████████████████████████████▊| 696kB 6.6MB/s eta 0:00:01\r\u001b[K     |████████████████████████████████| 706kB 6.6MB/s \n",
            "\u001b[?25hRequirement already satisfied: typeguard>=2.7 in /usr/local/lib/python3.7/dist-packages (from tensorflow-addons) (2.7.1)\n",
            "Installing collected packages: tensorflow-addons\n",
            "Successfully installed tensorflow-addons-0.12.1\n"
          ],
          "name": "stdout"
        }
      ]
    },
    {
      "cell_type": "code",
      "metadata": {
        "id": "9z9qUelQn-Vo"
      },
      "source": [
        "from tensorflow.keras.preprocessing.image import ImageDataGenerator"
      ],
      "execution_count": 8,
      "outputs": []
    },
    {
      "cell_type": "code",
      "metadata": {
        "id": "2CUaZwHscHLV"
      },
      "source": [
        "import tensorflow_addons as tfa"
      ],
      "execution_count": 9,
      "outputs": []
    },
    {
      "cell_type": "code",
      "metadata": {
        "id": "ZFXO18bRElwL"
      },
      "source": [
        "from keras.preprocessing.image import ImageDataGenerator  \r\n",
        "from keras.applications import densenet  \r\n",
        "from keras.models import Sequential, Model, load_model  \r\n",
        "from keras.layers import Conv2D, MaxPooling2D  \r\n",
        "from keras.layers import Activation, Dropout, Flatten, Dense  \r\n",
        "from keras.callbacks import EarlyStopping, ReduceLROnPlateau, ModelCheckpoint, Callback  \r\n",
        "from keras import regularizers  \r\n",
        "from keras import backend as K  \r\n",
        "import tensorflow as tf\r\n",
        "keras = tf.keras"
      ],
      "execution_count": 10,
      "outputs": []
    },
    {
      "cell_type": "markdown",
      "metadata": {
        "id": "I3IvE1g4Kyb-"
      },
      "source": [
        "### Data Augmentation"
      ]
    },
    {
      "cell_type": "code",
      "metadata": {
        "id": "qI1zuyeIW7XG"
      },
      "source": [
        "batch_size  = 32\r\n",
        "img_height = 224\r\n",
        "img_width  = 224\r\n",
        "train_path = pathlib.Path('/root/.keras/datasets/ImagesTrain')"
      ],
      "execution_count": 11,
      "outputs": []
    },
    {
      "cell_type": "code",
      "metadata": {
        "id": "47e86f3eT-ZX"
      },
      "source": [
        "import shutil\r\n",
        "import os"
      ],
      "execution_count": 12,
      "outputs": []
    },
    {
      "cell_type": "code",
      "metadata": {
        "id": "BCYAgO1x7Nya"
      },
      "source": [
        "train_ds_gen = ImageDataGenerator(vertical_flip    = True,\r\n",
        "                                  horizontal_flip  = True,\r\n",
        "                                  validation_split = 0.2)"
      ],
      "execution_count": 13,
      "outputs": []
    },
    {
      "cell_type": "code",
      "metadata": {
        "id": "c0Cka5hc9TE4",
        "colab": {
          "base_uri": "https://localhost:8080/"
        },
        "outputId": "48287a53-d749-44a8-d176-a00d9b12ce4d"
      },
      "source": [
        "train_data_gen = train_ds_gen.flow_from_directory(batch_size=batch_size,\r\n",
        "                                                  directory=train_path,\r\n",
        "                                                  shuffle=True,\r\n",
        "                                                  target_size=(img_height, img_width),\r\n",
        "                                                  subset='training',\r\n",
        "                                                  class_mode='categorical')"
      ],
      "execution_count": 14,
      "outputs": [
        {
          "output_type": "stream",
          "text": [
            "Found 2000 images belonging to 25 classes.\n"
          ],
          "name": "stdout"
        }
      ]
    },
    {
      "cell_type": "code",
      "metadata": {
        "id": "0ZVgGpkwEWqP",
        "colab": {
          "base_uri": "https://localhost:8080/"
        },
        "outputId": "bb47b7b4-3cec-4565-c6ea-232948367a7d"
      },
      "source": [
        "valid_data_gen = train_ds_gen.flow_from_directory(batch_size=batch_size,\r\n",
        "                                                  directory=train_path,\r\n",
        "                                                  shuffle=True,\r\n",
        "                                                  target_size=(img_height, img_width),\r\n",
        "                                                  subset='validation',\r\n",
        "                                                  class_mode='categorical')"
      ],
      "execution_count": 15,
      "outputs": [
        {
          "output_type": "stream",
          "text": [
            "Found 500 images belonging to 25 classes.\n"
          ],
          "name": "stdout"
        }
      ]
    },
    {
      "cell_type": "code",
      "metadata": {
        "id": "DpUN4q-bbnKP",
        "colab": {
          "base_uri": "https://localhost:8080/"
        },
        "outputId": "b4a6762d-1b15-49e5-ecac-44e29ea8e07a"
      },
      "source": [
        "test_data_gen = train_ds_gen.flow_from_directory(batch_size=batch_size,\r\n",
        "                                                  directory=train_path,\r\n",
        "                                                  shuffle=True,\r\n",
        "                                                  target_size=(img_height, img_width),\r\n",
        "                                                  class_mode='categorical')"
      ],
      "execution_count": 16,
      "outputs": [
        {
          "output_type": "stream",
          "text": [
            "Found 2500 images belonging to 25 classes.\n"
          ],
          "name": "stdout"
        }
      ]
    },
    {
      "cell_type": "markdown",
      "metadata": {
        "id": "BoUQ3hoHK2tf"
      },
      "source": [
        "### Modelos"
      ]
    },
    {
      "cell_type": "markdown",
      "metadata": {
        "id": "sv40lFlcFE2z"
      },
      "source": [
        "#### Funcion para predecir"
      ]
    },
    {
      "cell_type": "code",
      "metadata": {
        "id": "oOs-NXH4lBQB"
      },
      "source": [
        "batch_size = 32\r\n",
        "img_height = 224\r\n",
        "img_width  = 224\r\n",
        "test_path  = pathlib.Path('/root/.keras/datasets/Test')"
      ],
      "execution_count": 17,
      "outputs": []
    },
    {
      "cell_type": "code",
      "metadata": {
        "id": "6R6hvF4Pk_Fc"
      },
      "source": [
        "# predicting images\r\n",
        "from keras.preprocessing import image\r\n",
        "import numpy as np\r\n",
        "import pandas as pd\r\n",
        "from google.colab import files\r\n",
        "\r\n",
        "def make_predictions(model_final,\r\n",
        "                     path_test ='/root/.keras/datasets/Test',\r\n",
        "                     name_file_submission = 'submission.csv'):\r\n",
        "\r\n",
        "  images_test = os.listdir(path_test)\r\n",
        "  samples_to_predict = []\r\n",
        "\r\n",
        "  for img in images_test:\r\n",
        "    path_img = os.path.join(path_test, img)\r\n",
        "    img = image.load_img(path_img,\r\n",
        "                        target_size=(img_width, img_height))\r\n",
        "    x = image.img_to_array(img)\r\n",
        "    samples_to_predict.append(x)\r\n",
        "\r\n",
        "  samples_to_predict  = np.array(samples_to_predict)\r\n",
        "  predictions = model_final.predict(samples_to_predict)\r\n",
        "  classes = np.argmax(predictions, axis = 1)\r\n",
        "\r\n",
        "  data = {'id.jpg': [img for img in images_test], 'label': classes}\r\n",
        "  data = pd.DataFrame(data)\r\n",
        "  data.to_csv(name_file_submission, index = False)\r\n",
        "\r\n",
        "  return data"
      ],
      "execution_count": 21,
      "outputs": []
    },
    {
      "cell_type": "markdown",
      "metadata": {
        "id": "cjOz2kuuKlhL"
      },
      "source": [
        "#### Modelo Base"
      ]
    },
    {
      "cell_type": "code",
      "metadata": {
        "id": "izZ9gyNwZFAM"
      },
      "source": [
        "base_model = tf.keras.applications.ResNet50(input_shape = (224, 224, 3), \r\n",
        "                                            classes     = 25,\r\n",
        "                                            include_top  = False)\r\n",
        "\r\n",
        "image_batch, label_batch = next(iter(train_data_gen))\r\n",
        "feature_batch = base_model(image_batch)\r\n",
        "base_model.trainable = False\r\n",
        "\r\n",
        "\r\n",
        "\r\n",
        "global_average_layer = tf.keras.layers.GlobalAveragePooling2D()\r\n",
        "prediction_layer = keras.layers.Dense(25, activation='softmax')\r\n",
        "\r\n",
        "\r\n",
        "model = tf.keras.Sequential([\r\n",
        "  base_model,\r\n",
        "  global_average_layer,\r\n",
        "  prediction_layer\r\n",
        "])\r\n"
      ],
      "execution_count": 20,
      "outputs": []
    },
    {
      "cell_type": "code",
      "metadata": {
        "id": "PwL2ctktiRP7"
      },
      "source": [
        "opt = tf.keras.optimizers.Adagrad()\r\n",
        "\r\n",
        "callback = tf.keras.callbacks.EarlyStopping(monitor='f1_score', patience=5)\r\n",
        "\r\n",
        "model.compile(loss=\"categorical_crossentropy\",\r\n",
        "              optimizer=opt,\r\n",
        "\t            metrics=[tfa.metrics.F1Score(num_classes=25, average='weighted')],\r\n",
        "              )"
      ],
      "execution_count": 22,
      "outputs": []
    },
    {
      "cell_type": "code",
      "metadata": {
        "id": "JeOc_JCVbyTl"
      },
      "source": [
        "tf.random.set_seed(2021)\r\n",
        "\r\n",
        "model_history = model.fit(  \r\n",
        "    train_data_gen,\r\n",
        "    epochs=39,\r\n",
        "    validation_data=valid_data_gen,\r\n",
        "    validation_steps= valid_data_gen.n // batch_size)"
      ],
      "execution_count": null,
      "outputs": []
    },
    {
      "cell_type": "code",
      "metadata": {
        "id": "NEBJryw7E3k_"
      },
      "source": [
        "make_predictions(model,  name_file_submission='model_base.csv')"
      ],
      "execution_count": null,
      "outputs": []
    },
    {
      "cell_type": "markdown",
      "metadata": {
        "id": "n8GZcDkTKqkY"
      },
      "source": [
        "#### Modelo Mejorado"
      ]
    },
    {
      "cell_type": "markdown",
      "metadata": {
        "id": "J0UF2_0FtcRu"
      },
      "source": [
        "##### Modelo 1"
      ]
    },
    {
      "cell_type": "code",
      "metadata": {
        "id": "2abVqjMrKui4"
      },
      "source": [
        "base_model = tf.keras.applications.ResNet50(input_shape = (224, 224, 3), \r\n",
        "                                            classes     = 25,\r\n",
        "                                            include_top  = False)\r\n",
        "\r\n",
        "image_batch, label_batch = next(iter(train_data_gen))\r\n",
        "feature_batch = base_model(image_batch)\r\n",
        "base_model.trainable = False\r\n",
        "\r\n",
        "dense_layer_2048 = Dense(2048, activation='relu')\r\n",
        "dense_layer_512  = Dense(512, activation='relu')\r\n",
        "dense_layer_1024 = Dense(1024, activation='relu')\r\n",
        "\r\n",
        "dropout          = Dropout(0.25)\r\n",
        "\r\n",
        "global_average_layer = tf.keras.layers.GlobalAveragePooling2D()\r\n",
        "prediction_layer = keras.layers.Dense(25, activation='softmax')\r\n",
        "\r\n",
        "model_1 = tf.keras.Sequential([\r\n",
        "  base_model,\r\n",
        "  global_average_layer,\r\n",
        "  dense_layer_2048,\r\n",
        "  dropout,\r\n",
        "  dense_layer_512,\r\n",
        "  dropout,\r\n",
        "  dense_layer_1024,\r\n",
        "  prediction_layer\r\n",
        "])\r\n"
      ],
      "execution_count": 22,
      "outputs": []
    },
    {
      "cell_type": "code",
      "metadata": {
        "id": "x8j3K0iTPm7I"
      },
      "source": [
        "opt = tf.keras.optimizers.Adagrad()\r\n",
        "\r\n",
        "callback = tf.keras.callbacks.EarlyStopping(monitor='f1_score', patience=5)\r\n",
        "\r\n",
        "model_1.compile(loss=\"categorical_crossentropy\",\r\n",
        "              optimizer=opt,\r\n",
        "\t            metrics=[tfa.metrics.F1Score(num_classes=25, average='weighted')],\r\n",
        "              )"
      ],
      "execution_count": 23,
      "outputs": []
    },
    {
      "cell_type": "code",
      "metadata": {
        "colab": {
          "base_uri": "https://localhost:8080/"
        },
        "id": "rOFN4So_Pm7J",
        "outputId": "5ad664b7-e3fa-4b5e-ff14-b70048f29901"
      },
      "source": [
        "tf.random.set_seed(2021)\r\n",
        "\r\n",
        "model_history_1 = model_1.fit(  \r\n",
        "    train_data_gen,\r\n",
        "    epochs=50,\r\n",
        "    validation_data=valid_data_gen,\r\n",
        "    validation_steps= valid_data_gen.n // batch_size)"
      ],
      "execution_count": 24,
      "outputs": [
        {
          "output_type": "stream",
          "text": [
            "Epoch 1/50\n",
            "63/63 [==============================] - 384s 6s/step - loss: 3.1512 - f1_score: 0.0746 - val_loss: 2.5643 - val_f1_score: 0.4720\n",
            "Epoch 2/50\n",
            "63/63 [==============================] - 375s 6s/step - loss: 2.5564 - f1_score: 0.3884 - val_loss: 1.9969 - val_f1_score: 0.6253\n",
            "Epoch 3/50\n",
            "63/63 [==============================] - 376s 6s/step - loss: 2.0451 - f1_score: 0.5262 - val_loss: 1.5501 - val_f1_score: 0.7224\n",
            "Epoch 4/50\n",
            "63/63 [==============================] - 376s 6s/step - loss: 1.6611 - f1_score: 0.5987 - val_loss: 1.2253 - val_f1_score: 0.7390\n",
            "Epoch 5/50\n",
            "63/63 [==============================] - 376s 6s/step - loss: 1.3330 - f1_score: 0.6922 - val_loss: 1.0418 - val_f1_score: 0.7635\n",
            "Epoch 6/50\n",
            "63/63 [==============================] - 375s 6s/step - loss: 1.1943 - f1_score: 0.7003 - val_loss: 0.8976 - val_f1_score: 0.7953\n",
            "Epoch 7/50\n",
            "63/63 [==============================] - 374s 6s/step - loss: 1.0191 - f1_score: 0.7387 - val_loss: 0.8097 - val_f1_score: 0.7996\n",
            "Epoch 8/50\n",
            "63/63 [==============================] - 374s 6s/step - loss: 0.9303 - f1_score: 0.7461 - val_loss: 0.7451 - val_f1_score: 0.8088\n",
            "Epoch 9/50\n",
            "63/63 [==============================] - 374s 6s/step - loss: 0.8769 - f1_score: 0.7623 - val_loss: 0.6915 - val_f1_score: 0.8192\n",
            "Epoch 10/50\n",
            "63/63 [==============================] - 375s 6s/step - loss: 0.8091 - f1_score: 0.7800 - val_loss: 0.6330 - val_f1_score: 0.8273\n",
            "Epoch 11/50\n",
            "63/63 [==============================] - 375s 6s/step - loss: 0.7524 - f1_score: 0.7938 - val_loss: 0.6369 - val_f1_score: 0.8155\n",
            "Epoch 12/50\n",
            "63/63 [==============================] - 375s 6s/step - loss: 0.7102 - f1_score: 0.8083 - val_loss: 0.6048 - val_f1_score: 0.8345\n",
            "Epoch 13/50\n",
            "63/63 [==============================] - 375s 6s/step - loss: 0.6574 - f1_score: 0.8168 - val_loss: 0.5819 - val_f1_score: 0.8208\n",
            "Epoch 14/50\n",
            "63/63 [==============================] - 376s 6s/step - loss: 0.6259 - f1_score: 0.8398 - val_loss: 0.5729 - val_f1_score: 0.8390\n",
            "Epoch 15/50\n",
            "63/63 [==============================] - 375s 6s/step - loss: 0.6285 - f1_score: 0.8156 - val_loss: 0.5415 - val_f1_score: 0.8386\n",
            "Epoch 16/50\n",
            "63/63 [==============================] - 375s 6s/step - loss: 0.5562 - f1_score: 0.8473 - val_loss: 0.5219 - val_f1_score: 0.8614\n",
            "Epoch 17/50\n",
            "63/63 [==============================] - 376s 6s/step - loss: 0.5910 - f1_score: 0.8268 - val_loss: 0.5315 - val_f1_score: 0.8408\n",
            "Epoch 18/50\n",
            "63/63 [==============================] - 376s 6s/step - loss: 0.5447 - f1_score: 0.8469 - val_loss: 0.4788 - val_f1_score: 0.8648\n",
            "Epoch 19/50\n",
            "63/63 [==============================] - 372s 6s/step - loss: 0.5350 - f1_score: 0.8526 - val_loss: 0.4657 - val_f1_score: 0.8613\n",
            "Epoch 20/50\n",
            "63/63 [==============================] - 372s 6s/step - loss: 0.4730 - f1_score: 0.8746 - val_loss: 0.4581 - val_f1_score: 0.8605\n",
            "Epoch 21/50\n",
            "63/63 [==============================] - 371s 6s/step - loss: 0.4890 - f1_score: 0.8532 - val_loss: 0.4732 - val_f1_score: 0.8637\n",
            "Epoch 22/50\n",
            "63/63 [==============================] - 370s 6s/step - loss: 0.4781 - f1_score: 0.8727 - val_loss: 0.4447 - val_f1_score: 0.8745\n",
            "Epoch 23/50\n",
            "63/63 [==============================] - 370s 6s/step - loss: 0.4665 - f1_score: 0.8693 - val_loss: 0.4372 - val_f1_score: 0.8758\n",
            "Epoch 24/50\n",
            "63/63 [==============================] - 370s 6s/step - loss: 0.4793 - f1_score: 0.8658 - val_loss: 0.4438 - val_f1_score: 0.8721\n",
            "Epoch 25/50\n",
            "63/63 [==============================] - 370s 6s/step - loss: 0.4648 - f1_score: 0.8733 - val_loss: 0.4173 - val_f1_score: 0.8762\n",
            "Epoch 26/50\n",
            "63/63 [==============================] - 373s 6s/step - loss: 0.4204 - f1_score: 0.8856 - val_loss: 0.4257 - val_f1_score: 0.8783\n",
            "Epoch 27/50\n",
            "63/63 [==============================] - 370s 6s/step - loss: 0.4600 - f1_score: 0.8648 - val_loss: 0.4111 - val_f1_score: 0.8837\n",
            "Epoch 28/50\n",
            "63/63 [==============================] - 372s 6s/step - loss: 0.4043 - f1_score: 0.8805 - val_loss: 0.4237 - val_f1_score: 0.8765\n",
            "Epoch 29/50\n",
            "63/63 [==============================] - 372s 6s/step - loss: 0.4252 - f1_score: 0.8748 - val_loss: 0.3919 - val_f1_score: 0.8912\n",
            "Epoch 30/50\n",
            "63/63 [==============================] - 372s 6s/step - loss: 0.3979 - f1_score: 0.8763 - val_loss: 0.3866 - val_f1_score: 0.8895\n",
            "Epoch 31/50\n",
            "63/63 [==============================] - 371s 6s/step - loss: 0.3985 - f1_score: 0.8914 - val_loss: 0.3879 - val_f1_score: 0.8918\n",
            "Epoch 32/50\n",
            "63/63 [==============================] - 372s 6s/step - loss: 0.3968 - f1_score: 0.8934 - val_loss: 0.3818 - val_f1_score: 0.8962\n",
            "Epoch 33/50\n",
            "63/63 [==============================] - 374s 6s/step - loss: 0.3609 - f1_score: 0.8977 - val_loss: 0.3793 - val_f1_score: 0.8893\n",
            "Epoch 34/50\n",
            "63/63 [==============================] - 372s 6s/step - loss: 0.3686 - f1_score: 0.8917 - val_loss: 0.3603 - val_f1_score: 0.8994\n",
            "Epoch 35/50\n",
            "63/63 [==============================] - 373s 6s/step - loss: 0.3630 - f1_score: 0.9026 - val_loss: 0.3493 - val_f1_score: 0.9060\n",
            "Epoch 36/50\n",
            "63/63 [==============================] - 372s 6s/step - loss: 0.3353 - f1_score: 0.9131 - val_loss: 0.3613 - val_f1_score: 0.8995\n",
            "Epoch 37/50\n",
            "63/63 [==============================] - 373s 6s/step - loss: 0.3378 - f1_score: 0.9055 - val_loss: 0.3615 - val_f1_score: 0.8976\n",
            "Epoch 38/50\n",
            "63/63 [==============================] - 373s 6s/step - loss: 0.3482 - f1_score: 0.8953 - val_loss: 0.3654 - val_f1_score: 0.8960\n",
            "Epoch 39/50\n",
            "63/63 [==============================] - 372s 6s/step - loss: 0.3285 - f1_score: 0.9026 - val_loss: 0.3349 - val_f1_score: 0.9189\n",
            "Epoch 40/50\n",
            "63/63 [==============================] - 372s 6s/step - loss: 0.3350 - f1_score: 0.9033 - val_loss: 0.3639 - val_f1_score: 0.9011\n",
            "Epoch 41/50\n",
            "63/63 [==============================] - 371s 6s/step - loss: 0.3363 - f1_score: 0.9005 - val_loss: 0.3625 - val_f1_score: 0.9045\n",
            "Epoch 42/50\n",
            "63/63 [==============================] - 370s 6s/step - loss: 0.3227 - f1_score: 0.8960 - val_loss: 0.3540 - val_f1_score: 0.9066\n",
            "Epoch 43/50\n",
            "63/63 [==============================] - 374s 6s/step - loss: 0.3495 - f1_score: 0.8891 - val_loss: 0.3469 - val_f1_score: 0.9037\n",
            "Epoch 44/50\n",
            "63/63 [==============================] - 372s 6s/step - loss: 0.2762 - f1_score: 0.9283 - val_loss: 0.3513 - val_f1_score: 0.9104\n",
            "Epoch 45/50\n",
            "63/63 [==============================] - 372s 6s/step - loss: 0.3239 - f1_score: 0.9138 - val_loss: 0.3354 - val_f1_score: 0.9160\n",
            "Epoch 46/50\n",
            "63/63 [==============================] - 372s 6s/step - loss: 0.2986 - f1_score: 0.9181 - val_loss: 0.3545 - val_f1_score: 0.9020\n",
            "Epoch 47/50\n",
            "63/63 [==============================] - 372s 6s/step - loss: 0.3057 - f1_score: 0.9140 - val_loss: 0.3317 - val_f1_score: 0.9002\n",
            "Epoch 48/50\n",
            "63/63 [==============================] - 372s 6s/step - loss: 0.3070 - f1_score: 0.9039 - val_loss: 0.3429 - val_f1_score: 0.9080\n",
            "Epoch 49/50\n",
            "63/63 [==============================] - 372s 6s/step - loss: 0.2761 - f1_score: 0.9191 - val_loss: 0.3094 - val_f1_score: 0.9271\n",
            "Epoch 50/50\n",
            "63/63 [==============================] - 371s 6s/step - loss: 0.2964 - f1_score: 0.9127 - val_loss: 0.3270 - val_f1_score: 0.9164\n"
          ],
          "name": "stdout"
        }
      ]
    },
    {
      "cell_type": "code",
      "metadata": {
        "colab": {
          "base_uri": "https://localhost:8080/"
        },
        "id": "8MC6Xr2Q8cHw",
        "outputId": "746be048-b547-450f-e691-871c499a6a15"
      },
      "source": [
        "model_1.save('model_2048_512_1024')"
      ],
      "execution_count": 25,
      "outputs": [
        {
          "output_type": "stream",
          "text": [
            "INFO:tensorflow:Assets written to: model_2048_512_1024/assets\n"
          ],
          "name": "stdout"
        }
      ]
    },
    {
      "cell_type": "code",
      "metadata": {
        "colab": {
          "base_uri": "https://localhost:8080/",
          "height": 399
        },
        "id": "b6XNeEf6SFpZ",
        "outputId": "8d6e51fb-e500-4118-a843-48a40ded91f9"
      },
      "source": [
        "make_predictions(model_1, name_file_submission='modelo_mejorado_2048_512_1024.csv')"
      ],
      "execution_count": 26,
      "outputs": [
        {
          "output_type": "execute_result",
          "data": {
            "text/html": [
              "<div>\n",
              "<style scoped>\n",
              "    .dataframe tbody tr th:only-of-type {\n",
              "        vertical-align: middle;\n",
              "    }\n",
              "\n",
              "    .dataframe tbody tr th {\n",
              "        vertical-align: top;\n",
              "    }\n",
              "\n",
              "    .dataframe thead th {\n",
              "        text-align: right;\n",
              "    }\n",
              "</style>\n",
              "<table border=\"1\" class=\"dataframe\">\n",
              "  <thead>\n",
              "    <tr style=\"text-align: right;\">\n",
              "      <th></th>\n",
              "      <th>id.jpg</th>\n",
              "      <th>label</th>\n",
              "    </tr>\n",
              "  </thead>\n",
              "  <tbody>\n",
              "    <tr>\n",
              "      <th>0</th>\n",
              "      <td>Cereal_Cropland_100.0_(52.56941042667439_58.76...</td>\n",
              "      <td>1</td>\n",
              "    </tr>\n",
              "    <tr>\n",
              "      <th>1</th>\n",
              "      <td>Broadleaf_Cropland_100.0_(48.726058315097426_4...</td>\n",
              "      <td>0</td>\n",
              "    </tr>\n",
              "    <tr>\n",
              "      <th>2</th>\n",
              "      <td>Swamp_add_86.71897053718567_(25.50496754672144...</td>\n",
              "      <td>23</td>\n",
              "    </tr>\n",
              "    <tr>\n",
              "      <th>3</th>\n",
              "      <td>Forest_OEN_86.21791005134583_(58.2237661510363...</td>\n",
              "      <td>16</td>\n",
              "    </tr>\n",
              "    <tr>\n",
              "      <th>4</th>\n",
              "      <td>Moss_and_Lichen_98.5647201538086_(67.822085298...</td>\n",
              "      <td>20</td>\n",
              "    </tr>\n",
              "    <tr>\n",
              "      <th>...</th>\n",
              "      <td>...</td>\n",
              "      <td>...</td>\n",
              "    </tr>\n",
              "    <tr>\n",
              "      <th>495</th>\n",
              "      <td>Forest_DDB_99.87543821334839_(41.5021661263218...</td>\n",
              "      <td>10</td>\n",
              "    </tr>\n",
              "    <tr>\n",
              "      <th>496</th>\n",
              "      <td>Marine_Water_100.0_(71.54470383618786_179.4402...</td>\n",
              "      <td>18</td>\n",
              "    </tr>\n",
              "    <tr>\n",
              "      <th>497</th>\n",
              "      <td>Cropland_sw_98.5241949558258_(12.6669641583125...</td>\n",
              "      <td>4</td>\n",
              "    </tr>\n",
              "    <tr>\n",
              "      <th>498</th>\n",
              "      <td>Forest_ODN_78.67581248283386_(64.8641127312478...</td>\n",
              "      <td>14</td>\n",
              "    </tr>\n",
              "    <tr>\n",
              "      <th>499</th>\n",
              "      <td>Forest_OEN_86.2500011920929_(55.90970597914442...</td>\n",
              "      <td>16</td>\n",
              "    </tr>\n",
              "  </tbody>\n",
              "</table>\n",
              "<p>500 rows × 2 columns</p>\n",
              "</div>"
            ],
            "text/plain": [
              "                                                id.jpg  label\n",
              "0    Cereal_Cropland_100.0_(52.56941042667439_58.76...      1\n",
              "1    Broadleaf_Cropland_100.0_(48.726058315097426_4...      0\n",
              "2    Swamp_add_86.71897053718567_(25.50496754672144...     23\n",
              "3    Forest_OEN_86.21791005134583_(58.2237661510363...     16\n",
              "4    Moss_and_Lichen_98.5647201538086_(67.822085298...     20\n",
              "..                                                 ...    ...\n",
              "495  Forest_DDB_99.87543821334839_(41.5021661263218...     10\n",
              "496  Marine_Water_100.0_(71.54470383618786_179.4402...     18\n",
              "497  Cropland_sw_98.5241949558258_(12.6669641583125...      4\n",
              "498  Forest_ODN_78.67581248283386_(64.8641127312478...     14\n",
              "499  Forest_OEN_86.2500011920929_(55.90970597914442...     16\n",
              "\n",
              "[500 rows x 2 columns]"
            ]
          },
          "metadata": {
            "tags": []
          },
          "execution_count": 26
        }
      ]
    },
    {
      "cell_type": "code",
      "metadata": {
        "colab": {
          "base_uri": "https://localhost:8080/",
          "height": 17
        },
        "id": "Vpf4a0pmSd4r",
        "outputId": "db1154b5-11e2-4c0b-afc0-55c005455659"
      },
      "source": [
        "from google.colab import files\r\n",
        "\r\n",
        "files.download(\"modelo_mejorado_2048_512_1024.csv\")"
      ],
      "execution_count": 27,
      "outputs": [
        {
          "output_type": "display_data",
          "data": {
            "application/javascript": [
              "\n",
              "    async function download(id, filename, size) {\n",
              "      if (!google.colab.kernel.accessAllowed) {\n",
              "        return;\n",
              "      }\n",
              "      const div = document.createElement('div');\n",
              "      const label = document.createElement('label');\n",
              "      label.textContent = `Downloading \"${filename}\": `;\n",
              "      div.appendChild(label);\n",
              "      const progress = document.createElement('progress');\n",
              "      progress.max = size;\n",
              "      div.appendChild(progress);\n",
              "      document.body.appendChild(div);\n",
              "\n",
              "      const buffers = [];\n",
              "      let downloaded = 0;\n",
              "\n",
              "      const channel = await google.colab.kernel.comms.open(id);\n",
              "      // Send a message to notify the kernel that we're ready.\n",
              "      channel.send({})\n",
              "\n",
              "      for await (const message of channel.messages) {\n",
              "        // Send a message to notify the kernel that we're ready.\n",
              "        channel.send({})\n",
              "        if (message.buffers) {\n",
              "          for (const buffer of message.buffers) {\n",
              "            buffers.push(buffer);\n",
              "            downloaded += buffer.byteLength;\n",
              "            progress.value = downloaded;\n",
              "          }\n",
              "        }\n",
              "      }\n",
              "      const blob = new Blob(buffers, {type: 'application/binary'});\n",
              "      const a = document.createElement('a');\n",
              "      a.href = window.URL.createObjectURL(blob);\n",
              "      a.download = filename;\n",
              "      div.appendChild(a);\n",
              "      a.click();\n",
              "      div.remove();\n",
              "    }\n",
              "  "
            ],
            "text/plain": [
              "<IPython.core.display.Javascript object>"
            ]
          },
          "metadata": {
            "tags": []
          }
        },
        {
          "output_type": "display_data",
          "data": {
            "application/javascript": [
              "download(\"download_955a03b3-b9bc-45c7-a31d-d6dfd37e5cbc\", \"modelo_mejorado_2048_512_1024.csv\", 44078)"
            ],
            "text/plain": [
              "<IPython.core.display.Javascript object>"
            ]
          },
          "metadata": {
            "tags": []
          }
        }
      ]
    },
    {
      "cell_type": "code",
      "metadata": {
        "id": "khiAeQbtAWQR"
      },
      "source": [
        "import matplotlib.pyplot as plt"
      ],
      "execution_count": 30,
      "outputs": []
    },
    {
      "cell_type": "code",
      "metadata": {
        "colab": {
          "base_uri": "https://localhost:8080/",
          "height": 295
        },
        "id": "1ol0UUxp4O2Q",
        "outputId": "c49ae469-0b4b-4acc-f421-718a1ab8a360"
      },
      "source": [
        "plt.plot(model_history_1.history['f1_score'])\r\n",
        "plt.plot(model_history_1.history['val_f1_score'])\r\n",
        "plt.title('model f1_score')\r\n",
        "plt.ylabel('f1_score')\r\n",
        "plt.xlabel('epoch')\r\n",
        "plt.legend(['train', 'test'], loc='upper left')\r\n",
        "plt.show()"
      ],
      "execution_count": 31,
      "outputs": [
        {
          "output_type": "display_data",
          "data": {
            "image/png": "[encoded data removed]",
            "text/plain": [
              "<Figure size 432x288 with 1 Axes>"
            ]
          },
          "metadata": {
            "tags": [],
            "needs_background": "light"
          }
        }
      ]
    },
    {
      "cell_type": "markdown",
      "metadata": {
        "id": "7A72lNhxtezq"
      },
      "source": [
        "##### Modelo 2"
      ]
    },
    {
      "cell_type": "code",
      "metadata": {
        "id": "aiBsqAt3tgPH"
      },
      "source": [
        "base_model = tf.keras.applications.ResNet50(input_shape = (224, 224, 3), \r\n",
        "                                            classes     = 25,\r\n",
        "                                            include_top  = False)\r\n",
        "\r\n",
        "image_batch, label_batch = next(iter(train_data_gen))\r\n",
        "feature_batch = base_model(image_batch)\r\n",
        "base_model.trainable = False\r\n",
        "\r\n",
        "dense_layer_2048 = Dense(2048, activation='relu')\r\n",
        "dense_layer_512  = Dense(512,  activation='relu')\r\n",
        "dense_layer_1024 = Dense(1024, activation='relu')\r\n",
        "\r\n",
        "dense_layer_256  = Dense(256, activation='relu')\r\n",
        "dense_layer_128  = Dense(128, activation='relu')\r\n",
        "dense_layer_52   = Dense(52,  activation='relu')\r\n",
        "\r\n",
        "dropout          = Dropout(0.25)\r\n",
        "\r\n",
        "global_average_layer = tf.keras.layers.GlobalAveragePooling2D()\r\n",
        "prediction_layer = keras.layers.Dense(26, activation='softmax')\r\n",
        "\r\n",
        "model_2 = tf.keras.Sequential([\r\n",
        "  base_model,\r\n",
        "  dense_layer_2048,\r\n",
        "  dropout,\r\n",
        "  dense_layer_512,\r\n",
        "  dropout,\r\n",
        "  dense_layer_1024,\r\n",
        "  dropout,\r\n",
        "  dense_layer_256,\r\n",
        "  dropout,\r\n",
        "  dense_layer_128,\r\n",
        "  dropout,\r\n",
        "  dense_layer_52,\r\n",
        "  dropout,\r\n",
        "  global_average_layer,\r\n",
        "  prediction_layer\r\n",
        "])"
      ],
      "execution_count": 20,
      "outputs": []
    },
    {
      "cell_type": "code",
      "metadata": {
        "id": "2sNQpnrftloA"
      },
      "source": [
        "opt = tf.keras.optimizers.Adagrad()\r\n",
        "\r\n",
        "callback = tf.keras.callbacks.EarlyStopping(monitor='f1_score', patience=5)\r\n",
        "\r\n",
        "model_2.compile(loss=\"categorical_crossentropy\",\r\n",
        "              optimizer=opt,\r\n",
        "\t            metrics=[tfa.metrics.F1Score(num_classes=25, average='weighted')],\r\n",
        "              )"
      ],
      "execution_count": 18,
      "outputs": []
    },
    {
      "cell_type": "code",
      "metadata": {
        "id": "LOibTIm-tloB"
      },
      "source": [
        "tf.random.set_seed(2021)\r\n",
        "\r\n",
        "model_history_2 = model_2.fit(  \r\n",
        "    train_data_gen,\r\n",
        "    epochs=40,\r\n",
        "    validation_data=valid_data_gen,\r\n",
        "    validation_steps= valid_data_gen.n // batch_size)"
      ],
      "execution_count": null,
      "outputs": []
    },
    {
      "cell_type": "markdown",
      "metadata": {
        "id": "4Q0j18fwKsOS"
      },
      "source": [
        "#### Predicciones"
      ]
    },
    {
      "cell_type": "code",
      "metadata": {
        "colab": {
          "base_uri": "https://localhost:8080/",
          "height": 399
        },
        "id": "4yZhcH3FXLL_",
        "outputId": "1055fbc9-91f5-4037-c8e7-ac6c91b7d997"
      },
      "source": [
        "make_predictions(model,  name_file_submission='model_2048_512_1024.csv')"
      ],
      "execution_count": 50,
      "outputs": [
        {
          "output_type": "execute_result",
          "data": {
            "text/html": [
              "<div>\n",
              "<style scoped>\n",
              "    .dataframe tbody tr th:only-of-type {\n",
              "        vertical-align: middle;\n",
              "    }\n",
              "\n",
              "    .dataframe tbody tr th {\n",
              "        vertical-align: top;\n",
              "    }\n",
              "\n",
              "    .dataframe thead th {\n",
              "        text-align: right;\n",
              "    }\n",
              "</style>\n",
              "<table border=\"1\" class=\"dataframe\">\n",
              "  <thead>\n",
              "    <tr style=\"text-align: right;\">\n",
              "      <th></th>\n",
              "      <th>id.jpg</th>\n",
              "      <th>label</th>\n",
              "    </tr>\n",
              "  </thead>\n",
              "  <tbody>\n",
              "    <tr>\n",
              "      <th>0</th>\n",
              "      <td>Cereal_Cropland_100.0_(52.56941042667439_58.76...</td>\n",
              "      <td>1</td>\n",
              "    </tr>\n",
              "    <tr>\n",
              "      <th>1</th>\n",
              "      <td>Broadleaf_Cropland_100.0_(48.726058315097426_4...</td>\n",
              "      <td>0</td>\n",
              "    </tr>\n",
              "    <tr>\n",
              "      <th>2</th>\n",
              "      <td>Swamp_add_86.71897053718567_(25.50496754672144...</td>\n",
              "      <td>18</td>\n",
              "    </tr>\n",
              "    <tr>\n",
              "      <th>3</th>\n",
              "      <td>Forest_OEN_86.21791005134583_(58.2237661510363...</td>\n",
              "      <td>16</td>\n",
              "    </tr>\n",
              "    <tr>\n",
              "      <th>4</th>\n",
              "      <td>Moss_and_Lichen_98.5647201538086_(67.822085298...</td>\n",
              "      <td>21</td>\n",
              "    </tr>\n",
              "    <tr>\n",
              "      <th>...</th>\n",
              "      <td>...</td>\n",
              "      <td>...</td>\n",
              "    </tr>\n",
              "    <tr>\n",
              "      <th>495</th>\n",
              "      <td>Forest_DDB_99.87543821334839_(41.5021661263218...</td>\n",
              "      <td>6</td>\n",
              "    </tr>\n",
              "    <tr>\n",
              "      <th>496</th>\n",
              "      <td>Marine_Water_100.0_(71.54470383618786_179.4402...</td>\n",
              "      <td>19</td>\n",
              "    </tr>\n",
              "    <tr>\n",
              "      <th>497</th>\n",
              "      <td>Cropland_sw_98.5241949558258_(12.6669641583125...</td>\n",
              "      <td>4</td>\n",
              "    </tr>\n",
              "    <tr>\n",
              "      <th>498</th>\n",
              "      <td>Forest_ODN_78.67581248283386_(64.8641127312478...</td>\n",
              "      <td>14</td>\n",
              "    </tr>\n",
              "    <tr>\n",
              "      <th>499</th>\n",
              "      <td>Forest_OEN_86.2500011920929_(55.90970597914442...</td>\n",
              "      <td>16</td>\n",
              "    </tr>\n",
              "  </tbody>\n",
              "</table>\n",
              "<p>500 rows × 2 columns</p>\n",
              "</div>"
            ],
            "text/plain": [
              "                                                id.jpg  label\n",
              "0    Cereal_Cropland_100.0_(52.56941042667439_58.76...      1\n",
              "1    Broadleaf_Cropland_100.0_(48.726058315097426_4...      0\n",
              "2    Swamp_add_86.71897053718567_(25.50496754672144...     18\n",
              "3    Forest_OEN_86.21791005134583_(58.2237661510363...     16\n",
              "4    Moss_and_Lichen_98.5647201538086_(67.822085298...     21\n",
              "..                                                 ...    ...\n",
              "495  Forest_DDB_99.87543821334839_(41.5021661263218...      6\n",
              "496  Marine_Water_100.0_(71.54470383618786_179.4402...     19\n",
              "497  Cropland_sw_98.5241949558258_(12.6669641583125...      4\n",
              "498  Forest_ODN_78.67581248283386_(64.8641127312478...     14\n",
              "499  Forest_OEN_86.2500011920929_(55.90970597914442...     16\n",
              "\n",
              "[500 rows x 2 columns]"
            ]
          },
          "metadata": {
            "tags": []
          },
          "execution_count": 50
        }
      ]
    }
  ]
}