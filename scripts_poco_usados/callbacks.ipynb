{
  "nbformat": 4,
  "nbformat_minor": 0,
  "metadata": {
    "colab": {
      "name": ".ipynb",
      "provenance": [],
      "collapsed_sections": [],
      "include_colab_link": true
    },
    "kernelspec": {
      "name": "python3",
      "display_name": "Python 3"
    },
    "accelerator": "TPU"
  },
  "cells": [
    {
      "cell_type": "markdown",
      "metadata": {
        "id": "view-in-github",
        "colab_type": "text"
      },
      "source": [
        "<a href=\"https://colab.research.google.com/github/lucabem/CompeticionMineria/blob/main/callbacks.ipynb\" target=\"_parent\"><img src=\"https://colab.research.google.com/assets/colab-badge.svg\" alt=\"Open In Colab\"/></a>"
      ]
    },
    {
      "cell_type": "code",
      "metadata": {
        "id": "vU8xsCCH_A3L"
      },
      "source": [
        ""
      ],
      "execution_count": null,
      "outputs": []
    },
    {
      "cell_type": "markdown",
      "metadata": {
        "id": "oZxBwMEndWUX"
      },
      "source": [
        "# Sección nueva"
      ]
    },
    {
      "cell_type": "code",
      "metadata": {
        "id": "bEFpuOSpcBoh"
      },
      "source": [
        "import numpy as np\n",
        "import os\n",
        "import PIL\n",
        "import PIL.Image\n",
        "import tensorflow as tf\n",
        "import tensorflow_datasets as tfds\n",
        "import pathlib"
      ],
      "execution_count": 2,
      "outputs": []
    },
    {
      "cell_type": "code",
      "metadata": {
        "id": "k49BdtS8wx8p"
      },
      "source": [
        "!rm -rf /root/.keras/datasets/*"
      ],
      "execution_count": 3,
      "outputs": []
    },
    {
      "cell_type": "code",
      "metadata": {
        "colab": {
          "base_uri": "https://localhost:8080/"
        },
        "id": "Wh8GCRtdcLYv",
        "outputId": "5f998d46-ea7f-49d1-e489-fca463aaddb7"
      },
      "source": [
        "dataset_url = 'https://github.com/lucabem/CompeticionMineria/blob/main/data/dataset_images.zip?raw=true'\n",
        "data_dir = tf.keras.utils.get_file(origin=dataset_url, \n",
        "                                   fname='train_data', \n",
        "                                   extract=True)"
      ],
      "execution_count": 4,
      "outputs": [
        {
          "output_type": "stream",
          "text": [
            "Downloading data from https://github.com/lucabem/CompeticionMineria/blob/main/data/dataset_images.zip?raw=true\n",
            "78069760/78067648 [==============================] - 1s 0us/step\n"
          ],
          "name": "stdout"
        }
      ]
    },
    {
      "cell_type": "code",
      "metadata": {
        "colab": {
          "base_uri": "https://localhost:8080/"
        },
        "id": "5yhP8xGwe36X",
        "outputId": "8dbf9a4f-b398-4250-fc99-bac3d0e63545"
      },
      "source": [
        "!rm -rf /root/.keras/datasets/train_data.tar.gz /root/.keras/datasets/train_data\n",
        "!ls -l /root/.keras/datasets/"
      ],
      "execution_count": 5,
      "outputs": [
        {
          "output_type": "stream",
          "text": [
            "total 24\n",
            "drwxr-xr-x 27 root root  4096 Mar 21 10:29 ImagesTrain\n",
            "drwxr-xr-x  2 root root 20480 Mar 21 10:29 Test\n"
          ],
          "name": "stdout"
        }
      ]
    },
    {
      "cell_type": "code",
      "metadata": {
        "id": "FNAYg6b94G05",
        "colab": {
          "base_uri": "https://localhost:8080/"
        },
        "outputId": "5ead5370-4c75-4bcc-9147-203ab6f2451f"
      },
      "source": [
        "train_path = pathlib.Path('/root/.keras/datasets/ImagesTrain')\n",
        "image_count = len(list(train_path.glob('*/*.jpg')))\n",
        "print(image_count)"
      ],
      "execution_count": 6,
      "outputs": [
        {
          "output_type": "stream",
          "text": [
            "2500\n"
          ],
          "name": "stdout"
        }
      ]
    },
    {
      "cell_type": "code",
      "metadata": {
        "colab": {
          "base_uri": "https://localhost:8080/"
        },
        "id": "UshKAfho5Hwm",
        "outputId": "af5aa4ce-bda8-4f57-fe26-224a297c83a7"
      },
      "source": [
        "test_path = pathlib.Path('/root/.keras/datasets/Test')\n",
        "images_test = os.listdir(test_path)\n",
        "print(len(images_test))"
      ],
      "execution_count": 7,
      "outputs": [
        {
          "output_type": "stream",
          "text": [
            "500\n"
          ],
          "name": "stdout"
        }
      ]
    },
    {
      "cell_type": "code",
      "metadata": {
        "id": "SifaMI-ahKno"
      },
      "source": [
        "for direct in train_path.iterdir():\n",
        "  if direct.is_dir():\n",
        "    direct.rename(train_path / direct.name.split(sep='_100')[0])"
      ],
      "execution_count": 8,
      "outputs": []
    },
    {
      "cell_type": "code",
      "metadata": {
        "id": "6FGhnAH-goA-"
      },
      "source": [
        "img_height = 224\n",
        "img_width  = 224"
      ],
      "execution_count": 9,
      "outputs": []
    },
    {
      "cell_type": "code",
      "metadata": {
        "id": "ekqQ_EFBcLDp",
        "colab": {
          "base_uri": "https://localhost:8080/"
        },
        "outputId": "760e23a2-89db-4a55-b0dd-984b4943048d"
      },
      "source": [
        "!pip install tensorflow-addons"
      ],
      "execution_count": 10,
      "outputs": [
        {
          "output_type": "stream",
          "text": [
            "Collecting tensorflow-addons\n",
            "\u001b[?25l  Downloading https://files.pythonhosted.org/packages/74/e3/56d2fe76f0bb7c88ed9b2a6a557e25e83e252aec08f13de34369cd850a0b/tensorflow_addons-0.12.1-cp37-cp37m-manylinux2010_x86_64.whl (703kB)\n",
            "\u001b[K     |████████████████████████████████| 706kB 6.8MB/s \n",
            "\u001b[?25hRequirement already satisfied: typeguard>=2.7 in /usr/local/lib/python3.7/dist-packages (from tensorflow-addons) (2.7.1)\n",
            "Installing collected packages: tensorflow-addons\n",
            "Successfully installed tensorflow-addons-0.12.1\n"
          ],
          "name": "stdout"
        }
      ]
    },
    {
      "cell_type": "code",
      "metadata": {
        "id": "9z9qUelQn-Vo"
      },
      "source": [
        "from tensorflow.keras.preprocessing.image import ImageDataGenerator"
      ],
      "execution_count": 11,
      "outputs": []
    },
    {
      "cell_type": "code",
      "metadata": {
        "id": "2CUaZwHscHLV"
      },
      "source": [
        "import tensorflow_addons as tfa"
      ],
      "execution_count": 12,
      "outputs": []
    },
    {
      "cell_type": "code",
      "metadata": {
        "id": "ZFXO18bRElwL"
      },
      "source": [
        "from keras.preprocessing.image import ImageDataGenerator  \n",
        "from keras.applications import densenet  \n",
        "from keras.models import Sequential, Model, load_model  \n",
        "from keras.layers import Conv2D, MaxPooling2D  \n",
        "from keras.layers import Activation, Dropout, Flatten, Dense  \n",
        "from keras.callbacks import EarlyStopping, ReduceLROnPlateau, ModelCheckpoint, Callback  \n",
        "from keras import regularizers  \n",
        "from keras import backend as K  \n",
        "import tensorflow as tf\n",
        "keras = tf.keras"
      ],
      "execution_count": 13,
      "outputs": []
    },
    {
      "cell_type": "markdown",
      "metadata": {
        "id": "I3IvE1g4Kyb-"
      },
      "source": [
        "### Data Augmentation"
      ]
    },
    {
      "cell_type": "code",
      "metadata": {
        "id": "qI1zuyeIW7XG"
      },
      "source": [
        "batch_size = 32\n",
        "img_height = 224\n",
        "img_width  = 224\n",
        "train_path = pathlib.Path('/root/.keras/datasets/ImagesTrain')"
      ],
      "execution_count": 14,
      "outputs": []
    },
    {
      "cell_type": "code",
      "metadata": {
        "id": "47e86f3eT-ZX"
      },
      "source": [
        "import shutil\n",
        "import os "
      ],
      "execution_count": 15,
      "outputs": []
    },
    {
      "cell_type": "code",
      "metadata": {
        "id": "BCYAgO1x7Nya"
      },
      "source": [
        "train_ds_gen = ImageDataGenerator(vertical_flip    = True,\n",
        "                                  horizontal_flip  = True,\n",
        "                                  validation_split = 0.2)"
      ],
      "execution_count": 16,
      "outputs": []
    },
    {
      "cell_type": "code",
      "metadata": {
        "id": "c0Cka5hc9TE4",
        "colab": {
          "base_uri": "https://localhost:8080/"
        },
        "outputId": "ba45eb3c-291a-43fd-9675-5a5729e36a91"
      },
      "source": [
        "train_data_gen = train_ds_gen.flow_from_directory(batch_size=batch_size,\n",
        "                                                  directory=train_path,\n",
        "                                                  shuffle=True,\n",
        "                                                  target_size=(img_height, img_width),\n",
        "                                                  subset='training',\n",
        "                                                  class_mode='categorical')"
      ],
      "execution_count": 17,
      "outputs": [
        {
          "output_type": "stream",
          "text": [
            "Found 2000 images belonging to 25 classes.\n"
          ],
          "name": "stdout"
        }
      ]
    },
    {
      "cell_type": "code",
      "metadata": {
        "id": "0ZVgGpkwEWqP",
        "colab": {
          "base_uri": "https://localhost:8080/"
        },
        "outputId": "ae0fbad3-139f-4174-ab6f-d19d3b73decc"
      },
      "source": [
        "valid_data_gen = train_ds_gen.flow_from_directory(batch_size=batch_size,\n",
        "                                                  directory=train_path,\n",
        "                                                  shuffle=True,\n",
        "                                                  target_size=(img_height, img_width),\n",
        "                                                  subset='validation',\n",
        "                                                  class_mode='categorical')"
      ],
      "execution_count": 18,
      "outputs": [
        {
          "output_type": "stream",
          "text": [
            "Found 500 images belonging to 25 classes.\n"
          ],
          "name": "stdout"
        }
      ]
    },
    {
      "cell_type": "code",
      "metadata": {
        "id": "DpUN4q-bbnKP",
        "colab": {
          "base_uri": "https://localhost:8080/"
        },
        "outputId": "4094ec52-d282-4a4c-bb6b-0b066b0a4abe"
      },
      "source": [
        "test_data_gen = train_ds_gen.flow_from_directory(batch_size=batch_size,\n",
        "                                                  directory=train_path,\n",
        "                                                  shuffle=True,\n",
        "                                                  target_size=(img_height, img_width),\n",
        "                                                  class_mode='categorical')"
      ],
      "execution_count": 19,
      "outputs": [
        {
          "output_type": "stream",
          "text": [
            "Found 2500 images belonging to 25 classes.\n"
          ],
          "name": "stdout"
        }
      ]
    },
    {
      "cell_type": "markdown",
      "metadata": {
        "id": "BoUQ3hoHK2tf"
      },
      "source": [
        "### Modelos"
      ]
    },
    {
      "cell_type": "markdown",
      "metadata": {
        "id": "sv40lFlcFE2z"
      },
      "source": [
        "#### Funcion para predecir"
      ]
    },
    {
      "cell_type": "code",
      "metadata": {
        "id": "oOs-NXH4lBQB"
      },
      "source": [
        "img_height = 224\n",
        "img_width  = 224\n",
        "test_path  = pathlib.Path('/root/.keras/datasets/Test')"
      ],
      "execution_count": 20,
      "outputs": []
    },
    {
      "cell_type": "code",
      "metadata": {
        "id": "6R6hvF4Pk_Fc"
      },
      "source": [
        "# predicting images\n",
        "from keras.preprocessing import image\n",
        "import numpy as np\n",
        "import pandas as pd\n",
        "from google.colab import files\n",
        "import matplotlib.pyplot as plt\n",
        "\n",
        "def make_predictions(model_final,\n",
        "                     path_test ='/root/.keras/datasets/Test',\n",
        "                     name_file_submission = 'submission.csv'):\n",
        "\n",
        "  images_test = os.listdir(path_test)\n",
        "  samples_to_predict = []\n",
        "\n",
        "  for img in images_test:\n",
        "    path_img = os.path.join(path_test, img)\n",
        "    img = image.load_img(path_img,\n",
        "                        target_size=(img_width, img_height))\n",
        "    x = image.img_to_array(img)\n",
        "    samples_to_predict.append(x)\n",
        "\n",
        "  samples_to_predict  = np.array(samples_to_predict)\n",
        "  predictions = model_final.predict(samples_to_predict)\n",
        "  classes = np.argmax(predictions, axis = 1)\n",
        "\n",
        "  data = {'id.jpg': images_test, 'label': classes}\n",
        "  data = pd.DataFrame(data)\n",
        "  data.to_csv(name_file_submission, index = False)\n",
        "\n",
        "  return data"
      ],
      "execution_count": 21,
      "outputs": []
    },
    {
      "cell_type": "markdown",
      "metadata": {
        "id": "sJi0hanhGbZe"
      },
      "source": [
        "# Modificaciones"
      ]
    },
    {
      "cell_type": "code",
      "metadata": {
        "id": "STPkL6y9Gi1N"
      },
      "source": [
        "from keras.layers.normalization import BatchNormalization\n"
      ],
      "execution_count": null,
      "outputs": []
    },
    {
      "cell_type": "code",
      "metadata": {
        "id": "dyy-pGh5Gtns"
      },
      "source": [
        "batch_size = 68\n",
        "base_model = tf.keras.applications.ResNet50(input_shape = (224, 224, 3), \n",
        "                                            classes     = 25,\n",
        "                                            include_top  = False)\n",
        "\n",
        "image_batch, label_batch = next(iter(train_data_gen))\n",
        "feature_batch = base_model(image_batch)\n",
        "base_model.trainable = False\n",
        "\n",
        "dense_layer_2048 = Dense(2048, activation='relu')\n",
        "dense_layer_512  = Dense(512,  activation='relu')\n",
        "dense_layer_1024 = Dense(1024, activation='relu')\n",
        "\n",
        "conv_1024 = Conv2D(1024, (3,3), activation='relu')\n",
        "conv_512  = Conv2D(512, (3,3), activation='relu')\n",
        "\n",
        "flattern  = Flatten()\n",
        "batch_normal = BatchNormalization()\n",
        "dropout   = Dropout(0.25)\n",
        "\n",
        "global_average_layer = tf.keras.layers.GlobalAveragePooling2D()\n",
        "prediction_layer = keras.layers.Dense(25, activation='softmax')\n",
        "\n",
        "model_22 = tf.keras.Sequential([\n",
        "  base_model,\n",
        "  conv_1024,\n",
        "  conv_512,\n",
        "  flattern,\n",
        "  dense_layer_2048,\n",
        "  dropout,\n",
        "  dense_layer_512,\n",
        "  dropout,\n",
        "  dense_layer_1024,\n",
        "  prediction_layer\n",
        "])"
      ],
      "execution_count": null,
      "outputs": []
    },
    {
      "cell_type": "code",
      "metadata": {
        "id": "9MAs5ZWyGtnt"
      },
      "source": [
        "opt = tf.keras.optimizers.Adagrad()\n",
        "\n",
        "callback = tf.keras.callbacks.EarlyStopping(monitor='f1_score', patience=5)\n",
        "\n",
        "model_22.compile(loss=\"categorical_crossentropy\",\n",
        "              optimizer=opt,\n",
        "\t            metrics=[ 'accuracy', tfa.metrics.F1Score(num_classes=25, average='weighted')],\n",
        "              )"
      ],
      "execution_count": null,
      "outputs": []
    },
    {
      "cell_type": "code",
      "metadata": {
        "colab": {
          "base_uri": "https://localhost:8080/"
        },
        "id": "avybRireGtnu",
        "outputId": "c62c6ef0-9840-460c-eb5f-502c53e18509"
      },
      "source": [
        "tf.random.set_seed(2021)\n",
        "\n",
        "model_history_22 = model_22.fit(  \n",
        "    train_data_gen,\n",
        "    epochs=50,\n",
        "    validation_data=valid_data_gen,\n",
        "    validation_steps= valid_data_gen.n // batch_size)"
      ],
      "execution_count": null,
      "outputs": [
        {
          "output_type": "stream",
          "text": [
            "Epoch 1/50\n",
            "63/63 [==============================] - 508s 8s/step - loss: 2.9746 - accuracy: 0.1661 - f1_score: 0.1462 - val_loss: 1.5037 - val_accuracy: 0.6295 - val_f1_score: 0.5928\n",
            "Epoch 2/50\n",
            "63/63 [==============================] - 499s 8s/step - loss: 1.6180 - accuracy: 0.5325 - f1_score: 0.5221 - val_loss: 0.9249 - val_accuracy: 0.7321 - val_f1_score: 0.7271\n",
            "Epoch 3/50\n",
            "63/63 [==============================] - 497s 8s/step - loss: 1.0793 - accuracy: 0.6767 - f1_score: 0.6740 - val_loss: 0.9085 - val_accuracy: 0.7366 - val_f1_score: 0.7339\n",
            "Epoch 4/50\n",
            "63/63 [==============================] - 498s 8s/step - loss: 0.8001 - accuracy: 0.7627 - f1_score: 0.7626 - val_loss: 0.6996 - val_accuracy: 0.7991 - val_f1_score: 0.7967\n",
            "Epoch 5/50\n",
            "63/63 [==============================] - 496s 8s/step - loss: 0.7014 - accuracy: 0.7704 - f1_score: 0.7700 - val_loss: 0.5700 - val_accuracy: 0.8482 - val_f1_score: 0.8477\n",
            "Epoch 6/50\n",
            "63/63 [==============================] - 494s 8s/step - loss: 0.5703 - accuracy: 0.8279 - f1_score: 0.8278 - val_loss: 0.4782 - val_accuracy: 0.8616 - val_f1_score: 0.8620\n",
            "Epoch 7/50\n",
            "63/63 [==============================] - 496s 8s/step - loss: 0.4981 - accuracy: 0.8461 - f1_score: 0.8463 - val_loss: 0.4702 - val_accuracy: 0.8527 - val_f1_score: 0.8517\n",
            "Epoch 8/50\n",
            "63/63 [==============================] - 493s 8s/step - loss: 0.4269 - accuracy: 0.8698 - f1_score: 0.8695 - val_loss: 0.4397 - val_accuracy: 0.8750 - val_f1_score: 0.8734\n",
            "Epoch 9/50\n",
            "63/63 [==============================] - 491s 8s/step - loss: 0.3600 - accuracy: 0.8900 - f1_score: 0.8892 - val_loss: 0.3504 - val_accuracy: 0.9286 - val_f1_score: 0.9288\n",
            "Epoch 10/50\n",
            "63/63 [==============================] - 491s 8s/step - loss: 0.3231 - accuracy: 0.9027 - f1_score: 0.9029 - val_loss: 0.3480 - val_accuracy: 0.8795 - val_f1_score: 0.8761\n",
            "Epoch 11/50\n",
            "63/63 [==============================] - 492s 8s/step - loss: 0.2996 - accuracy: 0.9075 - f1_score: 0.9072 - val_loss: 0.3308 - val_accuracy: 0.8973 - val_f1_score: 0.8953\n",
            "Epoch 12/50\n",
            "63/63 [==============================] - 492s 8s/step - loss: 0.2702 - accuracy: 0.9177 - f1_score: 0.9177 - val_loss: 0.4503 - val_accuracy: 0.8839 - val_f1_score: 0.8844\n",
            "Epoch 13/50\n",
            "63/63 [==============================] - 492s 8s/step - loss: 0.2844 - accuracy: 0.9188 - f1_score: 0.9182 - val_loss: 0.3266 - val_accuracy: 0.8973 - val_f1_score: 0.8963\n",
            "Epoch 14/50\n",
            "63/63 [==============================] - 492s 8s/step - loss: 0.2332 - accuracy: 0.9307 - f1_score: 0.9309 - val_loss: 0.3152 - val_accuracy: 0.9241 - val_f1_score: 0.9235\n",
            "Epoch 15/50\n",
            "63/63 [==============================] - 493s 8s/step - loss: 0.2180 - accuracy: 0.9294 - f1_score: 0.9292 - val_loss: 0.3611 - val_accuracy: 0.9107 - val_f1_score: 0.9109\n",
            "Epoch 16/50\n",
            "63/63 [==============================] - 492s 8s/step - loss: 0.2133 - accuracy: 0.9387 - f1_score: 0.9387 - val_loss: 0.4246 - val_accuracy: 0.8929 - val_f1_score: 0.8917\n",
            "Epoch 17/50\n",
            "63/63 [==============================] - 492s 8s/step - loss: 0.2049 - accuracy: 0.9348 - f1_score: 0.9343 - val_loss: 0.3408 - val_accuracy: 0.9018 - val_f1_score: 0.9001\n",
            "Epoch 18/50\n",
            "63/63 [==============================] - 493s 8s/step - loss: 0.2005 - accuracy: 0.9410 - f1_score: 0.9412 - val_loss: 0.4483 - val_accuracy: 0.8884 - val_f1_score: 0.8885\n",
            "Epoch 19/50\n",
            "63/63 [==============================] - 491s 8s/step - loss: 0.1784 - accuracy: 0.9529 - f1_score: 0.9526 - val_loss: 0.4135 - val_accuracy: 0.9018 - val_f1_score: 0.9007\n",
            "Epoch 20/50\n",
            "63/63 [==============================] - 489s 8s/step - loss: 0.1499 - accuracy: 0.9520 - f1_score: 0.9519 - val_loss: 0.2153 - val_accuracy: 0.9330 - val_f1_score: 0.9321\n",
            "Epoch 21/50\n",
            "63/63 [==============================] - 491s 8s/step - loss: 0.1430 - accuracy: 0.9579 - f1_score: 0.9579 - val_loss: 0.2956 - val_accuracy: 0.9196 - val_f1_score: 0.9180\n",
            "Epoch 22/50\n",
            "63/63 [==============================] - 492s 8s/step - loss: 0.1549 - accuracy: 0.9560 - f1_score: 0.9561 - val_loss: 0.2740 - val_accuracy: 0.9330 - val_f1_score: 0.9328\n",
            "Epoch 23/50\n",
            "63/63 [==============================] - 491s 8s/step - loss: 0.1255 - accuracy: 0.9593 - f1_score: 0.9590 - val_loss: 0.2489 - val_accuracy: 0.9286 - val_f1_score: 0.9281\n",
            "Epoch 24/50\n",
            "63/63 [==============================] - 494s 8s/step - loss: 0.1217 - accuracy: 0.9692 - f1_score: 0.9693 - val_loss: 0.3591 - val_accuracy: 0.9152 - val_f1_score: 0.9164\n",
            "Epoch 25/50\n",
            "63/63 [==============================] - 492s 8s/step - loss: 0.1197 - accuracy: 0.9671 - f1_score: 0.9667 - val_loss: 0.2957 - val_accuracy: 0.9241 - val_f1_score: 0.9246\n",
            "Epoch 26/50\n",
            "63/63 [==============================] - 492s 8s/step - loss: 0.1148 - accuracy: 0.9724 - f1_score: 0.9723 - val_loss: 0.2508 - val_accuracy: 0.9598 - val_f1_score: 0.9597\n",
            "Epoch 27/50\n",
            "63/63 [==============================] - 491s 8s/step - loss: 0.1151 - accuracy: 0.9637 - f1_score: 0.9636 - val_loss: 0.2687 - val_accuracy: 0.9152 - val_f1_score: 0.9143\n",
            "Epoch 28/50\n",
            "63/63 [==============================] - 492s 8s/step - loss: 0.1073 - accuracy: 0.9752 - f1_score: 0.9752 - val_loss: 0.3923 - val_accuracy: 0.9018 - val_f1_score: 0.9002\n",
            "Epoch 29/50\n",
            "63/63 [==============================] - 493s 8s/step - loss: 0.1029 - accuracy: 0.9744 - f1_score: 0.9744 - val_loss: 0.3076 - val_accuracy: 0.9286 - val_f1_score: 0.9279\n",
            "Epoch 30/50\n",
            "63/63 [==============================] - 492s 8s/step - loss: 0.0960 - accuracy: 0.9751 - f1_score: 0.9751 - val_loss: 0.3403 - val_accuracy: 0.9107 - val_f1_score: 0.9085\n",
            "Epoch 31/50\n",
            "63/63 [==============================] - 491s 8s/step - loss: 0.1031 - accuracy: 0.9690 - f1_score: 0.9690 - val_loss: 0.3744 - val_accuracy: 0.9107 - val_f1_score: 0.9099\n",
            "Epoch 32/50\n",
            "63/63 [==============================] - 493s 8s/step - loss: 0.0860 - accuracy: 0.9722 - f1_score: 0.9723 - val_loss: 0.4487 - val_accuracy: 0.8884 - val_f1_score: 0.8891\n",
            "Epoch 33/50\n",
            "63/63 [==============================] - 491s 8s/step - loss: 0.1011 - accuracy: 0.9721 - f1_score: 0.9721 - val_loss: 0.4796 - val_accuracy: 0.8973 - val_f1_score: 0.8986\n",
            "Epoch 34/50\n",
            "63/63 [==============================] - 491s 8s/step - loss: 0.0809 - accuracy: 0.9730 - f1_score: 0.9729 - val_loss: 0.4148 - val_accuracy: 0.9018 - val_f1_score: 0.8998\n",
            "Epoch 35/50\n",
            "63/63 [==============================] - 491s 8s/step - loss: 0.0803 - accuracy: 0.9826 - f1_score: 0.9826 - val_loss: 0.3916 - val_accuracy: 0.8973 - val_f1_score: 0.8971\n",
            "Epoch 36/50\n",
            "63/63 [==============================] - 488s 8s/step - loss: 0.0834 - accuracy: 0.9753 - f1_score: 0.9755 - val_loss: 0.4158 - val_accuracy: 0.9107 - val_f1_score: 0.9095\n",
            "Epoch 37/50\n",
            "63/63 [==============================] - 487s 8s/step - loss: 0.0722 - accuracy: 0.9835 - f1_score: 0.9835 - val_loss: 0.2147 - val_accuracy: 0.9330 - val_f1_score: 0.9328\n",
            "Epoch 38/50\n",
            "63/63 [==============================] - 487s 8s/step - loss: 0.0822 - accuracy: 0.9798 - f1_score: 0.9798 - val_loss: 0.2457 - val_accuracy: 0.9286 - val_f1_score: 0.9281\n",
            "Epoch 39/50\n",
            "63/63 [==============================] - 487s 8s/step - loss: 0.0702 - accuracy: 0.9776 - f1_score: 0.9776 - val_loss: 0.4219 - val_accuracy: 0.9196 - val_f1_score: 0.9193\n",
            "Epoch 40/50\n",
            "63/63 [==============================] - 488s 8s/step - loss: 0.0651 - accuracy: 0.9805 - f1_score: 0.9808 - val_loss: 0.3955 - val_accuracy: 0.9152 - val_f1_score: 0.9146\n",
            "Epoch 41/50\n",
            "63/63 [==============================] - 488s 8s/step - loss: 0.0661 - accuracy: 0.9853 - f1_score: 0.9854 - val_loss: 0.3554 - val_accuracy: 0.9241 - val_f1_score: 0.9236\n",
            "Epoch 42/50\n",
            "63/63 [==============================] - 487s 8s/step - loss: 0.0610 - accuracy: 0.9794 - f1_score: 0.9800 - val_loss: 0.2297 - val_accuracy: 0.9375 - val_f1_score: 0.9383\n",
            "Epoch 43/50\n",
            "63/63 [==============================] - 487s 8s/step - loss: 0.0619 - accuracy: 0.9779 - f1_score: 0.9777 - val_loss: 0.4209 - val_accuracy: 0.9196 - val_f1_score: 0.9190\n",
            "Epoch 44/50\n",
            "63/63 [==============================] - 488s 8s/step - loss: 0.0660 - accuracy: 0.9821 - f1_score: 0.9825 - val_loss: 0.3889 - val_accuracy: 0.9018 - val_f1_score: 0.9019\n",
            "Epoch 45/50\n",
            "63/63 [==============================] - 487s 8s/step - loss: 0.0582 - accuracy: 0.9870 - f1_score: 0.9869 - val_loss: 0.2860 - val_accuracy: 0.9286 - val_f1_score: 0.9288\n",
            "Epoch 46/50\n",
            "63/63 [==============================] - 486s 8s/step - loss: 0.0438 - accuracy: 0.9906 - f1_score: 0.9906 - val_loss: 0.2716 - val_accuracy: 0.9196 - val_f1_score: 0.9201\n",
            "Epoch 47/50\n",
            "63/63 [==============================] - 486s 8s/step - loss: 0.0625 - accuracy: 0.9814 - f1_score: 0.9814 - val_loss: 0.2922 - val_accuracy: 0.9509 - val_f1_score: 0.9509\n",
            "Epoch 48/50\n",
            "63/63 [==============================] - 489s 8s/step - loss: 0.0496 - accuracy: 0.9880 - f1_score: 0.9880 - val_loss: 0.3237 - val_accuracy: 0.9062 - val_f1_score: 0.9072\n",
            "Epoch 49/50\n",
            "63/63 [==============================] - 488s 8s/step - loss: 0.0490 - accuracy: 0.9884 - f1_score: 0.9884 - val_loss: 0.3327 - val_accuracy: 0.9286 - val_f1_score: 0.9290\n",
            "Epoch 50/50\n",
            "63/63 [==============================] - 488s 8s/step - loss: 0.0614 - accuracy: 0.9840 - f1_score: 0.9836 - val_loss: 0.3985 - val_accuracy: 0.9241 - val_f1_score: 0.9257\n"
          ],
          "name": "stdout"
        }
      ]
    },
    {
      "cell_type": "code",
      "metadata": {
        "id": "RNsZwGo3Gtnx"
      },
      "source": [
        "from google.colab import files\n",
        "import matplotlib.pyplot as plt"
      ],
      "execution_count": null,
      "outputs": []
    },
    {
      "cell_type": "code",
      "metadata": {
        "id": "hrSgBzuGGtny",
        "colab": {
          "base_uri": "https://localhost:8080/",
          "height": 295
        },
        "outputId": "13c7be3a-db10-4370-85a7-00ac11728324"
      },
      "source": [
        "plt.plot(model_history_22.history['f1_score'])\n",
        "plt.plot(model_history_22.history['val_f1_score'])\n",
        "plt.title('model f1_score')\n",
        "plt.ylabel('f1_score')\n",
        "plt.xlabel('epoch')\n",
        "plt.legend(['train', 'test'], loc='upper left')\n",
        "plt.show()"
      ],
      "execution_count": null,
      "outputs": [
        {
          "output_type": "display_data",
          "data": {
            "image/png": "[encoded data removed]",
            "text/plain": [
              "<Figure size 432x288 with 1 Axes>"
            ]
          },
          "metadata": {
            "tags": [],
            "needs_background": "light"
          }
        }
      ]
    },
    {
      "cell_type": "code",
      "metadata": {
        "colab": {
          "base_uri": "https://localhost:8080/",
          "height": 407
        },
        "id": "pPeNVex-Gtnz",
        "outputId": "79ef59ff-8370-47be-88a9-00f504feab61"
      },
      "source": [
        "make_predictions(model_22, name_file_submission='modelo_mejorado2_2048_512_1024_256_128_52.csv')"
      ],
      "execution_count": null,
      "outputs": [
        {
          "output_type": "execute_result",
          "data": {
            "text/html": [
              "<div>\n",
              "<style scoped>\n",
              "    .dataframe tbody tr th:only-of-type {\n",
              "        vertical-align: middle;\n",
              "    }\n",
              "\n",
              "    .dataframe tbody tr th {\n",
              "        vertical-align: top;\n",
              "    }\n",
              "\n",
              "    .dataframe thead th {\n",
              "        text-align: right;\n",
              "    }\n",
              "</style>\n",
              "<table border=\"1\" class=\"dataframe\">\n",
              "  <thead>\n",
              "    <tr style=\"text-align: right;\">\n",
              "      <th></th>\n",
              "      <th>id.jpg</th>\n",
              "      <th>label</th>\n",
              "    </tr>\n",
              "  </thead>\n",
              "  <tbody>\n",
              "    <tr>\n",
              "      <th>0</th>\n",
              "      <td>Grassland__10.jpg</td>\n",
              "      <td>17</td>\n",
              "    </tr>\n",
              "    <tr>\n",
              "      <th>1</th>\n",
              "      <td>Open_Shrub_9.jpg</td>\n",
              "      <td>21</td>\n",
              "    </tr>\n",
              "    <tr>\n",
              "      <th>2</th>\n",
              "      <td>Forest_CEN_12.jpg</td>\n",
              "      <td>16</td>\n",
              "    </tr>\n",
              "    <tr>\n",
              "      <th>3</th>\n",
              "      <td>Forest_CEN_15.jpg</td>\n",
              "      <td>8</td>\n",
              "    </tr>\n",
              "    <tr>\n",
              "      <th>4</th>\n",
              "      <td>Forest_OEB_7.jpg</td>\n",
              "      <td>15</td>\n",
              "    </tr>\n",
              "    <tr>\n",
              "      <th>...</th>\n",
              "      <td>...</td>\n",
              "      <td>...</td>\n",
              "    </tr>\n",
              "    <tr>\n",
              "      <th>495</th>\n",
              "      <td>Forest_CDB_7.jpg</td>\n",
              "      <td>11</td>\n",
              "    </tr>\n",
              "    <tr>\n",
              "      <th>496</th>\n",
              "      <td>Open_Shrub_11.jpg</td>\n",
              "      <td>21</td>\n",
              "    </tr>\n",
              "    <tr>\n",
              "      <th>497</th>\n",
              "      <td>Close_Shru_0.jpg</td>\n",
              "      <td>2</td>\n",
              "    </tr>\n",
              "    <tr>\n",
              "      <th>498</th>\n",
              "      <td>Cropland_s_0.jpg</td>\n",
              "      <td>4</td>\n",
              "    </tr>\n",
              "    <tr>\n",
              "      <th>499</th>\n",
              "      <td>Broadleaf__11.jpg</td>\n",
              "      <td>0</td>\n",
              "    </tr>\n",
              "  </tbody>\n",
              "</table>\n",
              "<p>500 rows × 2 columns</p>\n",
              "</div>"
            ],
            "text/plain": [
              "                id.jpg  label\n",
              "0    Grassland__10.jpg     17\n",
              "1     Open_Shrub_9.jpg     21\n",
              "2    Forest_CEN_12.jpg     16\n",
              "3    Forest_CEN_15.jpg      8\n",
              "4     Forest_OEB_7.jpg     15\n",
              "..                 ...    ...\n",
              "495   Forest_CDB_7.jpg     11\n",
              "496  Open_Shrub_11.jpg     21\n",
              "497   Close_Shru_0.jpg      2\n",
              "498   Cropland_s_0.jpg      4\n",
              "499  Broadleaf__11.jpg      0\n",
              "\n",
              "[500 rows x 2 columns]"
            ]
          },
          "metadata": {
            "tags": []
          },
          "execution_count": 30
        }
      ]
    },
    {
      "cell_type": "code",
      "metadata": {
        "colab": {
          "base_uri": "https://localhost:8080/",
          "height": 17
        },
        "id": "NIJthsmVGtn0",
        "outputId": "73333553-b29e-4d0c-da30-7ecdf74132a5"
      },
      "source": [
        "files.download(\"modelo_mejorado2_2048_512_1024_256_128_52.csv\")"
      ],
      "execution_count": null,
      "outputs": [
        {
          "output_type": "display_data",
          "data": {
            "application/javascript": [
              "\n",
              "    async function download(id, filename, size) {\n",
              "      if (!google.colab.kernel.accessAllowed) {\n",
              "        return;\n",
              "      }\n",
              "      const div = document.createElement('div');\n",
              "      const label = document.createElement('label');\n",
              "      label.textContent = `Downloading \"${filename}\": `;\n",
              "      div.appendChild(label);\n",
              "      const progress = document.createElement('progress');\n",
              "      progress.max = size;\n",
              "      div.appendChild(progress);\n",
              "      document.body.appendChild(div);\n",
              "\n",
              "      const buffers = [];\n",
              "      let downloaded = 0;\n",
              "\n",
              "      const channel = await google.colab.kernel.comms.open(id);\n",
              "      // Send a message to notify the kernel that we're ready.\n",
              "      channel.send({})\n",
              "\n",
              "      for await (const message of channel.messages) {\n",
              "        // Send a message to notify the kernel that we're ready.\n",
              "        channel.send({})\n",
              "        if (message.buffers) {\n",
              "          for (const buffer of message.buffers) {\n",
              "            buffers.push(buffer);\n",
              "            downloaded += buffer.byteLength;\n",
              "            progress.value = downloaded;\n",
              "          }\n",
              "        }\n",
              "      }\n",
              "      const blob = new Blob(buffers, {type: 'application/binary'});\n",
              "      const a = document.createElement('a');\n",
              "      a.href = window.URL.createObjectURL(blob);\n",
              "      a.download = filename;\n",
              "      div.appendChild(a);\n",
              "      a.click();\n",
              "      div.remove();\n",
              "    }\n",
              "  "
            ],
            "text/plain": [
              "<IPython.core.display.Javascript object>"
            ]
          },
          "metadata": {
            "tags": []
          }
        },
        {
          "output_type": "display_data",
          "data": {
            "application/javascript": [
              "download(\"download_9056f3bf-006c-422a-801b-c13c2bf70d5d\", \"modelo_mejorado2_2048_512_1024_256_128_52.csv\", 9985)"
            ],
            "text/plain": [
              "<IPython.core.display.Javascript object>"
            ]
          },
          "metadata": {
            "tags": []
          }
        }
      ]
    },
    {
      "cell_type": "code",
      "metadata": {
        "id": "vdWXyHnvQEuv"
      },
      "source": [
        ""
      ],
      "execution_count": null,
      "outputs": []
    },
    {
      "cell_type": "code",
      "metadata": {
        "colab": {
          "base_uri": "https://localhost:8080/"
        },
        "id": "RRzx8XKaGtn1",
        "outputId": "b3530c13-daba-49a3-f66c-81d927ee5580"
      },
      "source": [
        "model_22.save('modelo_mejorado2_2048_512_1024_256_128_52')"
      ],
      "execution_count": null,
      "outputs": [
        {
          "output_type": "stream",
          "text": [
            "INFO:tensorflow:Assets written to: modelo_mejorado2_2048_512_1024_256_128_52/assets\n"
          ],
          "name": "stdout"
        }
      ]
    },
    {
      "cell_type": "code",
      "metadata": {
        "colab": {
          "base_uri": "https://localhost:8080/"
        },
        "id": "nO1_lWggGtn2",
        "outputId": "77704f3a-7ca7-4a2a-a06b-bfcc9035df16"
      },
      "source": [
        "! zip -r modelo_mejorado2_2048_512_1024_256_128_52.zip modelo_mejorado2_2048_512_1024_256_128_52"
      ],
      "execution_count": null,
      "outputs": [
        {
          "output_type": "stream",
          "text": [
            "\tzip warning: name not matched: modelo_mejorado2_2048_512_1024_256_128_52\n",
            "\n",
            "zip error: Nothing to do! (try: zip -r modelo_mejorado2_2048_512_1024_256_128_52.zip . -i modelo_mejorado2_2048_512_1024_256_128_52)\n"
          ],
          "name": "stdout"
        }
      ]
    },
    {
      "cell_type": "code",
      "metadata": {
        "colab": {
          "base_uri": "https://localhost:8080/",
          "height": 17
        },
        "id": "OllKSdGXGtn2",
        "outputId": "0b7174fa-bc7d-44a0-c6d9-a173e54629a2"
      },
      "source": [
        "files.download(\"modelo_mejorado2_2048_512_1024_256_128_52.zip\")"
      ],
      "execution_count": null,
      "outputs": [
        {
          "output_type": "display_data",
          "data": {
            "application/javascript": [
              "\n",
              "    async function download(id, filename, size) {\n",
              "      if (!google.colab.kernel.accessAllowed) {\n",
              "        return;\n",
              "      }\n",
              "      const div = document.createElement('div');\n",
              "      const label = document.createElement('label');\n",
              "      label.textContent = `Downloading \"${filename}\": `;\n",
              "      div.appendChild(label);\n",
              "      const progress = document.createElement('progress');\n",
              "      progress.max = size;\n",
              "      div.appendChild(progress);\n",
              "      document.body.appendChild(div);\n",
              "\n",
              "      const buffers = [];\n",
              "      let downloaded = 0;\n",
              "\n",
              "      const channel = await google.colab.kernel.comms.open(id);\n",
              "      // Send a message to notify the kernel that we're ready.\n",
              "      channel.send({})\n",
              "\n",
              "      for await (const message of channel.messages) {\n",
              "        // Send a message to notify the kernel that we're ready.\n",
              "        channel.send({})\n",
              "        if (message.buffers) {\n",
              "          for (const buffer of message.buffers) {\n",
              "            buffers.push(buffer);\n",
              "            downloaded += buffer.byteLength;\n",
              "            progress.value = downloaded;\n",
              "          }\n",
              "        }\n",
              "      }\n",
              "      const blob = new Blob(buffers, {type: 'application/binary'});\n",
              "      const a = document.createElement('a');\n",
              "      a.href = window.URL.createObjectURL(blob);\n",
              "      a.download = filename;\n",
              "      div.appendChild(a);\n",
              "      a.click();\n",
              "      div.remove();\n",
              "    }\n",
              "  "
            ],
            "text/plain": [
              "<IPython.core.display.Javascript object>"
            ]
          },
          "metadata": {
            "tags": []
          }
        },
        {
          "output_type": "display_data",
          "data": {
            "application/javascript": [
              "download(\"download_506a3424-f999-4cb4-8b0e-b687635f4a7f\", \"modelo_mejorado2_2048_512_1024_256_128_52.zip\", 322276247)"
            ],
            "text/plain": [
              "<IPython.core.display.Javascript object>"
            ]
          },
          "metadata": {
            "tags": []
          }
        }
      ]
    },
    {
      "cell_type": "code",
      "metadata": {
        "id": "cuAYIH9EbC6V",
        "colab": {
          "base_uri": "https://localhost:8080/"
        },
        "outputId": "d9be137d-f767-4cca-f994-fd812eaea8cd"
      },
      "source": [
        "!pip install --upgrade tensorflow_hub\n",
        "!pip install --upgrade tensorflow_addons\n",
        "\n",
        "import os\n",
        "import tensorflow as tf\n",
        "import tensorflow_hub as hub\n",
        "from keras.preprocessing import image\n",
        "import numpy as np\n",
        "import pandas as pd\n",
        "from google.colab import files\n",
        "import tensorflow_addons as tfa\n",
        "import pathlib"
      ],
      "execution_count": 21,
      "outputs": [
        {
          "output_type": "stream",
          "text": [
            "Requirement already up-to-date: tensorflow_hub in /usr/local/lib/python3.7/dist-packages (0.11.0)\n",
            "Requirement already satisfied, skipping upgrade: numpy>=1.12.0 in /usr/local/lib/python3.7/dist-packages (from tensorflow_hub) (1.19.5)\n",
            "Requirement already satisfied, skipping upgrade: protobuf>=3.8.0 in /usr/local/lib/python3.7/dist-packages (from tensorflow_hub) (3.12.4)\n",
            "Requirement already satisfied, skipping upgrade: six>=1.9 in /usr/local/lib/python3.7/dist-packages (from protobuf>=3.8.0->tensorflow_hub) (1.15.0)\n",
            "Requirement already satisfied, skipping upgrade: setuptools in /usr/local/lib/python3.7/dist-packages (from protobuf>=3.8.0->tensorflow_hub) (54.1.2)\n",
            "Requirement already up-to-date: tensorflow_addons in /usr/local/lib/python3.7/dist-packages (0.12.1)\n",
            "Requirement already satisfied, skipping upgrade: typeguard>=2.7 in /usr/local/lib/python3.7/dist-packages (from tensorflow_addons) (2.7.1)\n"
          ],
          "name": "stdout"
        }
      ]
    },
    {
      "cell_type": "code",
      "metadata": {
        "id": "qsbC1iAEUgh0",
        "colab": {
          "resources": {
            "http://localhost:8080/nbextensions/google.colab/files.js": {
              "data": "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",
              "ok": true,
              "headers": [
                [
                  "content-type",
                  "application/javascript"
                ]
              ],
              "status": 200,
              "status_text": ""
            }
          },
          "base_uri": "https://localhost:8080/",
          "height": 72
        },
        "outputId": "a9d5436f-9bb3-4f6c-f048-fc9f4be0abeb"
      },
      "source": [
        "from google.colab import files\n",
        "uploaded=files.upload()"
      ],
      "execution_count": 22,
      "outputs": [
        {
          "output_type": "display_data",
          "data": {
            "text/html": [
              "\n",
              "     <input type=\"file\" id=\"files-6400ad98-b3ca-4b1f-9213-0421aadbd7dc\" name=\"files[]\" multiple disabled\n",
              "        style=\"border:none\" />\n",
              "     <output id=\"result-6400ad98-b3ca-4b1f-9213-0421aadbd7dc\">\n",
              "      Upload widget is only available when the cell has been executed in the\n",
              "      current browser session. Please rerun this cell to enable.\n",
              "      </output>\n",
              "      <script src=\"/nbextensions/google.colab/files.js\"></script> "
            ],
            "text/plain": [
              "<IPython.core.display.HTML object>"
            ]
          },
          "metadata": {
            "tags": []
          }
        },
        {
          "output_type": "stream",
          "text": [
            "Saving modelo_mejorado2_2048_512_1024_256_128_52.zip to modelo_mejorado2_2048_512_1024_256_128_52.zip\n"
          ],
          "name": "stdout"
        }
      ]
    },
    {
      "cell_type": "code",
      "metadata": {
        "id": "ADklWF2MejyY",
        "colab": {
          "base_uri": "https://localhost:8080/"
        },
        "outputId": "fb289dcc-e8ae-4031-e658-ca65d9d57b64"
      },
      "source": [
        "!unzip \"modelo_mejorado2_2048_512_1024_256_128_52.zip\""
      ],
      "execution_count": 23,
      "outputs": [
        {
          "output_type": "stream",
          "text": [
            "Archive:  modelo_mejorado2_2048_512_1024_256_128_52.zip\n",
            "   creating: modelo_mejorado2_2048_512_1024_256_128_52/\n",
            "   creating: modelo_mejorado2_2048_512_1024_256_128_52/assets/\n",
            "   creating: modelo_mejorado2_2048_512_1024_256_128_52/variables/\n",
            "  inflating: modelo_mejorado2_2048_512_1024_256_128_52/variables/variables.data-00000-of-00001  \n",
            "  inflating: modelo_mejorado2_2048_512_1024_256_128_52/variables/variables.index  \n",
            "  inflating: modelo_mejorado2_2048_512_1024_256_128_52/saved_model.pb  \n"
          ],
          "name": "stdout"
        }
      ]
    },
    {
      "cell_type": "code",
      "metadata": {
        "id": "1U1yDWdzbHZs",
        "colab": {
          "base_uri": "https://localhost:8080/"
        },
        "outputId": "04a83b18-c4bb-45d1-9727-42d2f2205d22"
      },
      "source": [
        "ls modelo_mejorado2_2048_512_1024_256_128_52/\n"
      ],
      "execution_count": 24,
      "outputs": [
        {
          "output_type": "stream",
          "text": [
            "\u001b[0m\u001b[01;34massets\u001b[0m/  saved_model.pb  \u001b[01;34mvariables\u001b[0m/\n"
          ],
          "name": "stdout"
        }
      ]
    },
    {
      "cell_type": "markdown",
      "metadata": {
        "id": "8LrvU8udqaBd"
      },
      "source": [
        ""
      ]
    },
    {
      "cell_type": "code",
      "metadata": {
        "id": "NC9s17j3bH6z"
      },
      "source": [
        "path_to_model = \"modelo_mejorado2_2048_512_1024_256_128_52/\"\n",
        "model = tf.keras.models.load_model(path_to_model, compile=True, custom_objects={'f1':tfa.metrics.F1Score(num_classes=25, average='weighted')})"
      ],
      "execution_count": 25,
      "outputs": []
    },
    {
      "cell_type": "code",
      "metadata": {
        "id": "DnXooM7zbMkn",
        "colab": {
          "base_uri": "https://localhost:8080/",
          "height": 168
        },
        "outputId": "c05ed0e3-db3a-4961-a3a8-bc7f65f30fa9"
      },
      "source": [
        "model.summary()"
      ],
      "execution_count": null,
      "outputs": [
        {
          "output_type": "error",
          "ename": "NameError",
          "evalue": "ignored",
          "traceback": [
            "\u001b[0;31m---------------------------------------------------------------------------\u001b[0m",
            "\u001b[0;31mNameError\u001b[0m                                 Traceback (most recent call last)",
            "\u001b[0;32m<ipython-input-2-5f15418b3570>\u001b[0m in \u001b[0;36m<module>\u001b[0;34m()\u001b[0m\n\u001b[0;32m----> 1\u001b[0;31m \u001b[0mmodel\u001b[0m\u001b[0;34m.\u001b[0m\u001b[0msummary\u001b[0m\u001b[0;34m(\u001b[0m\u001b[0;34m)\u001b[0m\u001b[0;34m\u001b[0m\u001b[0;34m\u001b[0m\u001b[0m\n\u001b[0m",
            "\u001b[0;31mNameError\u001b[0m: name 'model' is not defined"
          ]
        }
      ]
    },
    {
      "cell_type": "code",
      "metadata": {
        "id": "4Smv07ISuMS_"
      },
      "source": [
        "from keras.callbacks import EarlyStopping, ReduceLROnPlateau, ModelCheckpoint, Callback  \n",
        "\n",
        "checkpointer = ModelCheckpoint(\"resnet50\" +\n",
        "                               \"_ms_transfer_final.\" +\n",
        "                               \"{epoch:02d}-{val_f1_score:.3f}\" +\n",
        "                               \".hdf5\",\n",
        "                               monitor='val_f1_score',\n",
        "                               verbose=1,\n",
        "                               save_best_only=True,\n",
        "                               mode='max')\n",
        "\n",
        "earlystopper = EarlyStopping(monitor='val_f1_score',\n",
        "                             patience=10,\n",
        "                             mode='max')"
      ],
      "execution_count": 24,
      "outputs": []
    },
    {
      "cell_type": "code",
      "metadata": {
        "id": "CpuGixzBc3St"
      },
      "source": [
        "opt = tf.keras.optimizers.Adagrad()\n",
        "model.compile(loss=\"categorical_crossentropy\",\n",
        "              optimizer=opt,\n",
        "\t            metrics=[ 'accuracy', tfa.metrics.F1Score(num_classes=25, average='weighted')],\n",
        "              )"
      ],
      "execution_count": 25,
      "outputs": []
    },
    {
      "cell_type": "code",
      "metadata": {
        "id": "30az-ATau5A4",
        "colab": {
          "base_uri": "https://localhost:8080/"
        },
        "outputId": "47c9c9a0-0e71-47f7-ec52-ad1bb037321a"
      },
      "source": [
        "tf.random.set_seed(2021)\n",
        "batch_size = 68\n",
        "model_history = model.fit(  \n",
        "    train_data_gen,\n",
        "    epochs=70,\n",
        "    initial_epoch = 50,\n",
        "    validation_data=valid_data_gen,\n",
        "    validation_steps= valid_data_gen.n // batch_size,\n",
        "    callbacks=[checkpointer, earlystopper])"
      ],
      "execution_count": null,
      "outputs": [
        {
          "output_type": "stream",
          "text": [
            "Epoch 51/70\n",
            "63/63 [==============================] - 1790s 28s/step - loss: 1.4564 - accuracy: 0.5659 - f1_score: 0.5622 - val_loss: 2.4387 - val_accuracy: 0.5268 - val_f1_score: 0.4792\n",
            "\n",
            "Epoch 00051: val_f1_score improved from -inf to 0.47919, saving model to resnet50_ms_transfer_final.51-0.479.hdf5\n",
            "Epoch 52/70\n",
            "63/63 [==============================] - 1804s 29s/step - loss: 0.4593 - accuracy: 0.8588 - f1_score: 0.8588 - val_loss: 1.7566 - val_accuracy: 0.5938 - val_f1_score: 0.5827\n",
            "\n",
            "Epoch 00052: val_f1_score improved from 0.47919 to 0.58273, saving model to resnet50_ms_transfer_final.52-0.583.hdf5\n",
            "Epoch 53/70\n",
            "63/63 [==============================] - 1789s 28s/step - loss: 0.2313 - accuracy: 0.9283 - f1_score: 0.9281 - val_loss: 1.7505 - val_accuracy: 0.6384 - val_f1_score: 0.6391\n",
            "\n",
            "Epoch 00053: val_f1_score improved from 0.58273 to 0.63907, saving model to resnet50_ms_transfer_final.53-0.639.hdf5\n",
            "Epoch 54/70\n",
            "63/63 [==============================] - 1814s 29s/step - loss: 0.1858 - accuracy: 0.9464 - f1_score: 0.9465 - val_loss: 0.5841 - val_accuracy: 0.8616 - val_f1_score: 0.8628\n",
            "\n",
            "Epoch 00054: val_f1_score improved from 0.63907 to 0.86284, saving model to resnet50_ms_transfer_final.54-0.863.hdf5\n",
            "Epoch 55/70\n",
            "63/63 [==============================] - 1819s 29s/step - loss: 0.1457 - accuracy: 0.9592 - f1_score: 0.9593 - val_loss: 0.4805 - val_accuracy: 0.8795 - val_f1_score: 0.8773\n",
            "\n",
            "Epoch 00055: val_f1_score improved from 0.86284 to 0.87734, saving model to resnet50_ms_transfer_final.55-0.877.hdf5\n",
            "Epoch 56/70\n",
            "63/63 [==============================] - 1841s 29s/step - loss: 0.1398 - accuracy: 0.9535 - f1_score: 0.9535 - val_loss: 0.4779 - val_accuracy: 0.9018 - val_f1_score: 0.9008\n",
            "\n",
            "Epoch 00056: val_f1_score improved from 0.87734 to 0.90084, saving model to resnet50_ms_transfer_final.56-0.901.hdf5\n",
            "Epoch 57/70\n",
            "63/63 [==============================] - 1841s 29s/step - loss: 0.1037 - accuracy: 0.9665 - f1_score: 0.9665 - val_loss: 0.4726 - val_accuracy: 0.9062 - val_f1_score: 0.9070\n",
            "\n",
            "Epoch 00057: val_f1_score improved from 0.90084 to 0.90696, saving model to resnet50_ms_transfer_final.57-0.907.hdf5\n",
            "Epoch 58/70\n",
            "63/63 [==============================] - 1847s 29s/step - loss: 0.1179 - accuracy: 0.9588 - f1_score: 0.9589 - val_loss: 0.2079 - val_accuracy: 0.9688 - val_f1_score: 0.9683\n",
            "\n",
            "Epoch 00058: val_f1_score improved from 0.90696 to 0.96830, saving model to resnet50_ms_transfer_final.58-0.968.hdf5\n",
            "Epoch 59/70\n",
            "63/63 [==============================] - 1811s 29s/step - loss: 0.0852 - accuracy: 0.9718 - f1_score: 0.9723 - val_loss: 0.4673 - val_accuracy: 0.8884 - val_f1_score: 0.8844\n",
            "\n",
            "Epoch 00059: val_f1_score did not improve from 0.96830\n",
            "Epoch 60/70\n",
            "63/63 [==============================] - 1787s 28s/step - loss: 0.0872 - accuracy: 0.9669 - f1_score: 0.9663 - val_loss: 0.5299 - val_accuracy: 0.9018 - val_f1_score: 0.8989\n",
            "\n",
            "Epoch 00060: val_f1_score did not improve from 0.96830\n",
            "Epoch 61/70\n",
            "63/63 [==============================] - 1786s 28s/step - loss: 0.0609 - accuracy: 0.9760 - f1_score: 0.9760 - val_loss: 0.1834 - val_accuracy: 0.9464 - val_f1_score: 0.9453\n",
            "\n",
            "Epoch 00061: val_f1_score did not improve from 0.96830\n",
            "Epoch 62/70\n",
            "45/63 [====================>.........] - ETA: 8:29 - loss: 0.0492 - accuracy: 0.9838 - f1_score: 0.9839"
          ],
          "name": "stdout"
        }
      ]
    },
    {
      "cell_type": "code",
      "metadata": {
        "id": "l3sFrCS-NMEh"
      },
      "source": [
        "from google.colab import files\n",
        "files.download(\"resnet50_ms_transfer_final.61-0.96002.hdf5\")"
      ],
      "execution_count": null,
      "outputs": []
    },
    {
      "cell_type": "code",
      "metadata": {
        "id": "0z8pkkUqNvWv"
      },
      "source": [
        ""
      ],
      "execution_count": null,
      "outputs": []
    },
    {
      "cell_type": "code",
      "metadata": {
        "id": "Mj1VSf3lN60I"
      },
      "source": [
        ""
      ],
      "execution_count": null,
      "outputs": []
    },
    {
      "cell_type": "code",
      "metadata": {
        "id": "ue66iedm5zuq"
      },
      "source": [
        "from keras.models import load_model\n",
        "model = load_model('/content/resnet50_ms_transfer_final.58-0.968.hdf5',custom_objects={'f1':tfa.metrics.F1Score(num_classes=25, average='weighted')})"
      ],
      "execution_count": 22,
      "outputs": []
    },
    {
      "cell_type": "code",
      "metadata": {
        "colab": {
          "base_uri": "https://localhost:8080/",
          "height": 419
        },
        "id": "Sef1hFnJCN3F",
        "outputId": "657342aa-11d2-492e-e5b8-83785ddc30f4"
      },
      "source": [
        "make_predictions(model, name_file_submission='modelo_mejorado3.csv')"
      ],
      "execution_count": 22,
      "outputs": [
        {
          "output_type": "execute_result",
          "data": {
            "text/html": [
              "<div>\n",
              "<style scoped>\n",
              "    .dataframe tbody tr th:only-of-type {\n",
              "        vertical-align: middle;\n",
              "    }\n",
              "\n",
              "    .dataframe tbody tr th {\n",
              "        vertical-align: top;\n",
              "    }\n",
              "\n",
              "    .dataframe thead th {\n",
              "        text-align: right;\n",
              "    }\n",
              "</style>\n",
              "<table border=\"1\" class=\"dataframe\">\n",
              "  <thead>\n",
              "    <tr style=\"text-align: right;\">\n",
              "      <th></th>\n",
              "      <th>id.jpg</th>\n",
              "      <th>label</th>\n",
              "    </tr>\n",
              "  </thead>\n",
              "  <tbody>\n",
              "    <tr>\n",
              "      <th>0</th>\n",
              "      <td>Forest_CDN_11.jpg</td>\n",
              "      <td>6</td>\n",
              "    </tr>\n",
              "    <tr>\n",
              "      <th>1</th>\n",
              "      <td>Marshland__9.jpg</td>\n",
              "      <td>19</td>\n",
              "    </tr>\n",
              "    <tr>\n",
              "      <th>2</th>\n",
              "      <td>Forest_DDB_5.jpg</td>\n",
              "      <td>7</td>\n",
              "    </tr>\n",
              "    <tr>\n",
              "      <th>3</th>\n",
              "      <td>Forest_DEN_7.jpg</td>\n",
              "      <td>12</td>\n",
              "    </tr>\n",
              "    <tr>\n",
              "      <th>4</th>\n",
              "      <td>Forest_ODN_11.jpg</td>\n",
              "      <td>14</td>\n",
              "    </tr>\n",
              "    <tr>\n",
              "      <th>...</th>\n",
              "      <td>...</td>\n",
              "      <td>...</td>\n",
              "    </tr>\n",
              "    <tr>\n",
              "      <th>495</th>\n",
              "      <td>Cereal_Cro_5.jpg</td>\n",
              "      <td>1</td>\n",
              "    </tr>\n",
              "    <tr>\n",
              "      <th>496</th>\n",
              "      <td>Swamp_add__2.jpg</td>\n",
              "      <td>23</td>\n",
              "    </tr>\n",
              "    <tr>\n",
              "      <th>497</th>\n",
              "      <td>Moss_and_L_14.jpg</td>\n",
              "      <td>20</td>\n",
              "    </tr>\n",
              "    <tr>\n",
              "      <th>498</th>\n",
              "      <td>Moss_and_L_18.jpg</td>\n",
              "      <td>20</td>\n",
              "    </tr>\n",
              "    <tr>\n",
              "      <th>499</th>\n",
              "      <td>Forest_CEB_8.jpg</td>\n",
              "      <td>7</td>\n",
              "    </tr>\n",
              "  </tbody>\n",
              "</table>\n",
              "<p>500 rows × 2 columns</p>\n",
              "</div>"
            ],
            "text/plain": [
              "                id.jpg  label\n",
              "0    Forest_CDN_11.jpg      6\n",
              "1     Marshland__9.jpg     19\n",
              "2     Forest_DDB_5.jpg      7\n",
              "3     Forest_DEN_7.jpg     12\n",
              "4    Forest_ODN_11.jpg     14\n",
              "..                 ...    ...\n",
              "495   Cereal_Cro_5.jpg      1\n",
              "496   Swamp_add__2.jpg     23\n",
              "497  Moss_and_L_14.jpg     20\n",
              "498  Moss_and_L_18.jpg     20\n",
              "499   Forest_CEB_8.jpg      7\n",
              "\n",
              "[500 rows x 2 columns]"
            ]
          },
          "metadata": {
            "tags": []
          },
          "execution_count": 22
        }
      ]
    },
    {
      "cell_type": "code",
      "metadata": {
        "colab": {
          "base_uri": "https://localhost:8080/",
          "height": 17
        },
        "id": "3Za_J4o8CUm8",
        "outputId": "a32070ab-c4b5-49d6-b0ab-80d27ee2b109"
      },
      "source": [
        "files.download(\"modelo_mejorado3.csv\")"
      ],
      "execution_count": 23,
      "outputs": [
        {
          "output_type": "display_data",
          "data": {
            "application/javascript": [
              "\n",
              "    async function download(id, filename, size) {\n",
              "      if (!google.colab.kernel.accessAllowed) {\n",
              "        return;\n",
              "      }\n",
              "      const div = document.createElement('div');\n",
              "      const label = document.createElement('label');\n",
              "      label.textContent = `Downloading \"${filename}\": `;\n",
              "      div.appendChild(label);\n",
              "      const progress = document.createElement('progress');\n",
              "      progress.max = size;\n",
              "      div.appendChild(progress);\n",
              "      document.body.appendChild(div);\n",
              "\n",
              "      const buffers = [];\n",
              "      let downloaded = 0;\n",
              "\n",
              "      const channel = await google.colab.kernel.comms.open(id);\n",
              "      // Send a message to notify the kernel that we're ready.\n",
              "      channel.send({})\n",
              "\n",
              "      for await (const message of channel.messages) {\n",
              "        // Send a message to notify the kernel that we're ready.\n",
              "        channel.send({})\n",
              "        if (message.buffers) {\n",
              "          for (const buffer of message.buffers) {\n",
              "            buffers.push(buffer);\n",
              "            downloaded += buffer.byteLength;\n",
              "            progress.value = downloaded;\n",
              "          }\n",
              "        }\n",
              "      }\n",
              "      const blob = new Blob(buffers, {type: 'application/binary'});\n",
              "      const a = document.createElement('a');\n",
              "      a.href = window.URL.createObjectURL(blob);\n",
              "      a.download = filename;\n",
              "      div.appendChild(a);\n",
              "      a.click();\n",
              "      div.remove();\n",
              "    }\n",
              "  "
            ],
            "text/plain": [
              "<IPython.core.display.Javascript object>"
            ]
          },
          "metadata": {
            "tags": []
          }
        },
        {
          "output_type": "display_data",
          "data": {
            "application/javascript": [
              "download(\"download_3896f080-ebc5-47bf-b211-077d5fab67e0\", \"modelo_mejorado3.csv\", 9986)"
            ],
            "text/plain": [
              "<IPython.core.display.Javascript object>"
            ]
          },
          "metadata": {
            "tags": []
          }
        }
      ]
    },
    {
      "cell_type": "code",
      "metadata": {
        "colab": {
          "base_uri": "https://localhost:8080/"
        },
        "id": "mZBa9fTrGwG1",
        "outputId": "29171bbe-1c0c-488d-8850-c7a7d927ff27"
      },
      "source": [
        "tf.random.set_seed(2021)\n",
        "batch_size = 68\n",
        "model_history = model.fit(  \n",
        "    train_data_gen,\n",
        "    epochs=70,\n",
        "    initial_epoch = 58,\n",
        "    validation_data=valid_data_gen,\n",
        "    validation_steps= valid_data_gen.n // batch_size,\n",
        "    callbacks=[checkpointer, earlystopper])"
      ],
      "execution_count": 26,
      "outputs": [
        {
          "output_type": "stream",
          "text": [
            "Epoch 59/70\n",
            "63/63 [==============================] - 1729s 27s/step - loss: 0.0834 - accuracy: 0.9706 - f1_score: 0.9704 - val_loss: 1.2554 - val_accuracy: 0.6830 - val_f1_score: 0.6793\n",
            "\n",
            "Epoch 00059: val_f1_score improved from -inf to 0.67928, saving model to resnet50_ms_transfer_final.59-0.679.hdf5\n",
            "Epoch 60/70\n",
            "63/63 [==============================] - 1722s 27s/step - loss: 0.0637 - accuracy: 0.9835 - f1_score: 0.9834 - val_loss: 0.6292 - val_accuracy: 0.8259 - val_f1_score: 0.8238\n",
            "\n",
            "Epoch 00060: val_f1_score improved from 0.67928 to 0.82378, saving model to resnet50_ms_transfer_final.60-0.824.hdf5\n",
            "Epoch 61/70\n",
            "63/63 [==============================] - 1718s 27s/step - loss: 0.0964 - accuracy: 0.9694 - f1_score: 0.9694 - val_loss: 0.3723 - val_accuracy: 0.9107 - val_f1_score: 0.9098\n",
            "\n",
            "Epoch 00061: val_f1_score improved from 0.82378 to 0.90975, saving model to resnet50_ms_transfer_final.61-0.910.hdf5\n",
            "Epoch 62/70\n",
            "63/63 [==============================] - 1723s 27s/step - loss: 0.1422 - accuracy: 0.9550 - f1_score: 0.9552 - val_loss: 0.8143 - val_accuracy: 0.8125 - val_f1_score: 0.8155\n",
            "\n",
            "Epoch 00062: val_f1_score did not improve from 0.90975\n",
            "Epoch 63/70\n",
            "63/63 [==============================] - 1722s 27s/step - loss: 0.0796 - accuracy: 0.9739 - f1_score: 0.9740 - val_loss: 0.4238 - val_accuracy: 0.8839 - val_f1_score: 0.8829\n",
            "\n",
            "Epoch 00063: val_f1_score did not improve from 0.90975\n",
            "Epoch 64/70\n",
            "63/63 [==============================] - 1770s 28s/step - loss: 0.0784 - accuracy: 0.9741 - f1_score: 0.9741 - val_loss: 0.3726 - val_accuracy: 0.9107 - val_f1_score: 0.9086\n",
            "\n",
            "Epoch 00064: val_f1_score did not improve from 0.90975\n",
            "Epoch 65/70\n",
            "63/63 [==============================] - 1780s 28s/step - loss: 0.0846 - accuracy: 0.9734 - f1_score: 0.9730 - val_loss: 0.2688 - val_accuracy: 0.9375 - val_f1_score: 0.9374\n",
            "\n",
            "Epoch 00065: val_f1_score improved from 0.90975 to 0.93744, saving model to resnet50_ms_transfer_final.65-0.937.hdf5\n",
            "Epoch 66/70\n",
            "63/63 [==============================] - 1762s 28s/step - loss: 0.0565 - accuracy: 0.9790 - f1_score: 0.9790 - val_loss: 0.5362 - val_accuracy: 0.8705 - val_f1_score: 0.8711\n",
            "\n",
            "Epoch 00066: val_f1_score did not improve from 0.93744\n",
            "Epoch 67/70\n",
            "63/63 [==============================] - 1761s 28s/step - loss: 0.0846 - accuracy: 0.9693 - f1_score: 0.9693 - val_loss: 0.6278 - val_accuracy: 0.8482 - val_f1_score: 0.8454\n",
            "\n",
            "Epoch 00067: val_f1_score did not improve from 0.93744\n",
            "Epoch 68/70\n",
            "63/63 [==============================] - 1764s 28s/step - loss: 0.0525 - accuracy: 0.9852 - f1_score: 0.9852 - val_loss: 0.4342 - val_accuracy: 0.8929 - val_f1_score: 0.8921\n",
            "\n",
            "Epoch 00068: val_f1_score did not improve from 0.93744\n",
            "Epoch 69/70\n",
            "63/63 [==============================] - 1772s 28s/step - loss: 0.0450 - accuracy: 0.9861 - f1_score: 0.9862 - val_loss: 0.7658 - val_accuracy: 0.8348 - val_f1_score: 0.8412\n",
            "\n",
            "Epoch 00069: val_f1_score did not improve from 0.93744\n",
            "Epoch 70/70\n",
            "63/63 [==============================] - 1756s 28s/step - loss: 0.0324 - accuracy: 0.9903 - f1_score: 0.9902 - val_loss: 0.2000 - val_accuracy: 0.9509 - val_f1_score: 0.9502\n",
            "\n",
            "Epoch 00070: val_f1_score improved from 0.93744 to 0.95024, saving model to resnet50_ms_transfer_final.70-0.950.hdf5\n"
          ],
          "name": "stdout"
        }
      ]
    },
    {
      "cell_type": "code",
      "metadata": {
        "id": "LkZlt7Nm0Irq"
      },
      "source": [
        "from keras.models import load_model\n",
        "model = load_model('/content/resnet50_ms_transfer_final.70-0.950.hdf5',custom_objects={'f1':tfa.metrics.F1Score(num_classes=25, average='weighted')})"
      ],
      "execution_count": 28,
      "outputs": []
    },
    {
      "cell_type": "code",
      "metadata": {
        "colab": {
          "base_uri": "https://localhost:8080/",
          "height": 419
        },
        "id": "7r4P02Ce0Ir7",
        "outputId": "e7f34a1f-1ca2-4c6d-a555-bdb4b4a26f11"
      },
      "source": [
        "make_predictions(model, name_file_submission='modelo_mejorado4.csv')"
      ],
      "execution_count": 29,
      "outputs": [
        {
          "output_type": "execute_result",
          "data": {
            "text/html": [
              "<div>\n",
              "<style scoped>\n",
              "    .dataframe tbody tr th:only-of-type {\n",
              "        vertical-align: middle;\n",
              "    }\n",
              "\n",
              "    .dataframe tbody tr th {\n",
              "        vertical-align: top;\n",
              "    }\n",
              "\n",
              "    .dataframe thead th {\n",
              "        text-align: right;\n",
              "    }\n",
              "</style>\n",
              "<table border=\"1\" class=\"dataframe\">\n",
              "  <thead>\n",
              "    <tr style=\"text-align: right;\">\n",
              "      <th></th>\n",
              "      <th>id.jpg</th>\n",
              "      <th>label</th>\n",
              "    </tr>\n",
              "  </thead>\n",
              "  <tbody>\n",
              "    <tr>\n",
              "      <th>0</th>\n",
              "      <td>Forest_CDN_11.jpg</td>\n",
              "      <td>6</td>\n",
              "    </tr>\n",
              "    <tr>\n",
              "      <th>1</th>\n",
              "      <td>Marshland__9.jpg</td>\n",
              "      <td>19</td>\n",
              "    </tr>\n",
              "    <tr>\n",
              "      <th>2</th>\n",
              "      <td>Forest_DDB_5.jpg</td>\n",
              "      <td>9</td>\n",
              "    </tr>\n",
              "    <tr>\n",
              "      <th>3</th>\n",
              "      <td>Forest_DEN_7.jpg</td>\n",
              "      <td>12</td>\n",
              "    </tr>\n",
              "    <tr>\n",
              "      <th>4</th>\n",
              "      <td>Forest_ODN_11.jpg</td>\n",
              "      <td>14</td>\n",
              "    </tr>\n",
              "    <tr>\n",
              "      <th>...</th>\n",
              "      <td>...</td>\n",
              "      <td>...</td>\n",
              "    </tr>\n",
              "    <tr>\n",
              "      <th>495</th>\n",
              "      <td>Cereal_Cro_5.jpg</td>\n",
              "      <td>1</td>\n",
              "    </tr>\n",
              "    <tr>\n",
              "      <th>496</th>\n",
              "      <td>Swamp_add__2.jpg</td>\n",
              "      <td>23</td>\n",
              "    </tr>\n",
              "    <tr>\n",
              "      <th>497</th>\n",
              "      <td>Moss_and_L_14.jpg</td>\n",
              "      <td>20</td>\n",
              "    </tr>\n",
              "    <tr>\n",
              "      <th>498</th>\n",
              "      <td>Moss_and_L_18.jpg</td>\n",
              "      <td>20</td>\n",
              "    </tr>\n",
              "    <tr>\n",
              "      <th>499</th>\n",
              "      <td>Forest_CEB_8.jpg</td>\n",
              "      <td>7</td>\n",
              "    </tr>\n",
              "  </tbody>\n",
              "</table>\n",
              "<p>500 rows × 2 columns</p>\n",
              "</div>"
            ],
            "text/plain": [
              "                id.jpg  label\n",
              "0    Forest_CDN_11.jpg      6\n",
              "1     Marshland__9.jpg     19\n",
              "2     Forest_DDB_5.jpg      9\n",
              "3     Forest_DEN_7.jpg     12\n",
              "4    Forest_ODN_11.jpg     14\n",
              "..                 ...    ...\n",
              "495   Cereal_Cro_5.jpg      1\n",
              "496   Swamp_add__2.jpg     23\n",
              "497  Moss_and_L_14.jpg     20\n",
              "498  Moss_and_L_18.jpg     20\n",
              "499   Forest_CEB_8.jpg      7\n",
              "\n",
              "[500 rows x 2 columns]"
            ]
          },
          "metadata": {
            "tags": []
          },
          "execution_count": 29
        }
      ]
    },
    {
      "cell_type": "code",
      "metadata": {
        "colab": {
          "base_uri": "https://localhost:8080/",
          "height": 17
        },
        "id": "cPJOCm2K0wQa",
        "outputId": "23772989-52f3-41c9-d699-a7bef0336b52"
      },
      "source": [
        "files.download(\"modelo_mejorado4.csv\")"
      ],
      "execution_count": 30,
      "outputs": [
        {
          "output_type": "display_data",
          "data": {
            "application/javascript": [
              "\n",
              "    async function download(id, filename, size) {\n",
              "      if (!google.colab.kernel.accessAllowed) {\n",
              "        return;\n",
              "      }\n",
              "      const div = document.createElement('div');\n",
              "      const label = document.createElement('label');\n",
              "      label.textContent = `Downloading \"${filename}\": `;\n",
              "      div.appendChild(label);\n",
              "      const progress = document.createElement('progress');\n",
              "      progress.max = size;\n",
              "      div.appendChild(progress);\n",
              "      document.body.appendChild(div);\n",
              "\n",
              "      const buffers = [];\n",
              "      let downloaded = 0;\n",
              "\n",
              "      const channel = await google.colab.kernel.comms.open(id);\n",
              "      // Send a message to notify the kernel that we're ready.\n",
              "      channel.send({})\n",
              "\n",
              "      for await (const message of channel.messages) {\n",
              "        // Send a message to notify the kernel that we're ready.\n",
              "        channel.send({})\n",
              "        if (message.buffers) {\n",
              "          for (const buffer of message.buffers) {\n",
              "            buffers.push(buffer);\n",
              "            downloaded += buffer.byteLength;\n",
              "            progress.value = downloaded;\n",
              "          }\n",
              "        }\n",
              "      }\n",
              "      const blob = new Blob(buffers, {type: 'application/binary'});\n",
              "      const a = document.createElement('a');\n",
              "      a.href = window.URL.createObjectURL(blob);\n",
              "      a.download = filename;\n",
              "      div.appendChild(a);\n",
              "      a.click();\n",
              "      div.remove();\n",
              "    }\n",
              "  "
            ],
            "text/plain": [
              "<IPython.core.display.Javascript object>"
            ]
          },
          "metadata": {
            "tags": []
          }
        },
        {
          "output_type": "display_data",
          "data": {
            "application/javascript": [
              "download(\"download_fb29683e-0867-4527-a457-2d71b62ec2fc\", \"modelo_mejorado4.csv\", 9986)"
            ],
            "text/plain": [
              "<IPython.core.display.Javascript object>"
            ]
          },
          "metadata": {
            "tags": []
          }
        }
      ]
    }
  ]
}