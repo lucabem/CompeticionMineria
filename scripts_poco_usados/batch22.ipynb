{
  "nbformat": 4,
  "nbformat_minor": 0,
  "metadata": {
    "colab": {
      "name": ".ipynb",
      "provenance": [],
      "collapsed_sections": [],
      "toc_visible": true,
      "include_colab_link": true
    },
    "kernelspec": {
      "name": "python3",
      "display_name": "Python 3"
    },
    "accelerator": "TPU"
  },
  "cells": [
    {
      "cell_type": "markdown",
      "metadata": {
        "id": "view-in-github",
        "colab_type": "text"
      },
      "source": [
        "<a href=\"https://colab.research.google.com/github/lucabem/CompeticionMineria/blob/main/batch22.ipynb\" target=\"_parent\"><img src=\"https://colab.research.google.com/assets/colab-badge.svg\" alt=\"Open In Colab\"/></a>"
      ]
    },
    {
      "cell_type": "code",
      "metadata": {
        "id": "vU8xsCCH_A3L"
      },
      "source": [
        ""
      ],
      "execution_count": null,
      "outputs": []
    },
    {
      "cell_type": "markdown",
      "metadata": {
        "id": "oZxBwMEndWUX"
      },
      "source": [
        "# Sección nueva"
      ]
    },
    {
      "cell_type": "code",
      "metadata": {
        "id": "bEFpuOSpcBoh"
      },
      "source": [
        "import numpy as np\r\n",
        "import os\r\n",
        "import PIL\r\n",
        "import PIL.Image\r\n",
        "import tensorflow as tf\r\n",
        "import tensorflow_datasets as tfds\r\n",
        "import pathlib"
      ],
      "execution_count": 4,
      "outputs": []
    },
    {
      "cell_type": "code",
      "metadata": {
        "id": "k49BdtS8wx8p"
      },
      "source": [
        "!rm -rf /root/.keras/datasets/*"
      ],
      "execution_count": 5,
      "outputs": []
    },
    {
      "cell_type": "code",
      "metadata": {
        "colab": {
          "base_uri": "https://localhost:8080/"
        },
        "id": "Wh8GCRtdcLYv",
        "outputId": "9059ef0b-620f-4f92-a893-df82a9150d16"
      },
      "source": [
        "dataset_url = 'https://github.com/lucabem/CompeticionMineria/blob/main/data/dataset_images.zip?raw=true'\r\n",
        "data_dir = tf.keras.utils.get_file(origin=dataset_url, \r\n",
        "                                   fname='train_data', \r\n",
        "                                   extract=True)"
      ],
      "execution_count": 6,
      "outputs": [
        {
          "output_type": "stream",
          "text": [
            "Downloading data from https://github.com/lucabem/CompeticionMineria/blob/main/data/dataset_images.zip?raw=true\n",
            "78069760/78067648 [==============================] - 1s 0us/step\n"
          ],
          "name": "stdout"
        }
      ]
    },
    {
      "cell_type": "code",
      "metadata": {
        "colab": {
          "base_uri": "https://localhost:8080/"
        },
        "id": "5yhP8xGwe36X",
        "outputId": "cbba2f7a-b9df-44f7-f511-104af027a51c"
      },
      "source": [
        "!rm -rf /root/.keras/datasets/train_data.tar.gz /root/.keras/datasets/train_data\r\n",
        "!ls -l /root/.keras/datasets/"
      ],
      "execution_count": 7,
      "outputs": [
        {
          "output_type": "stream",
          "text": [
            "total 24\n",
            "drwxr-xr-x 27 root root  4096 Mar 10 07:52 ImagesTrain\n",
            "drwxr-xr-x  2 root root 20480 Mar 10 07:52 Test\n"
          ],
          "name": "stdout"
        }
      ]
    },
    {
      "cell_type": "code",
      "metadata": {
        "id": "FNAYg6b94G05",
        "colab": {
          "base_uri": "https://localhost:8080/"
        },
        "outputId": "b6b1f096-3ad9-454e-b7e9-28b70b31f4d9"
      },
      "source": [
        "train_path = pathlib.Path('/root/.keras/datasets/ImagesTrain')\r\n",
        "image_count = len(list(train_path.glob('*/*.jpg')))\r\n",
        "print(image_count)"
      ],
      "execution_count": 8,
      "outputs": [
        {
          "output_type": "stream",
          "text": [
            "2500\n"
          ],
          "name": "stdout"
        }
      ]
    },
    {
      "cell_type": "code",
      "metadata": {
        "colab": {
          "base_uri": "https://localhost:8080/"
        },
        "id": "UshKAfho5Hwm",
        "outputId": "51137fda-c90c-4de6-fe67-9f0a16f58dda"
      },
      "source": [
        "test_path = pathlib.Path('/root/.keras/datasets/Test')\r\n",
        "images_test = os.listdir(test_path)\r\n",
        "print(len(images_test))"
      ],
      "execution_count": 9,
      "outputs": [
        {
          "output_type": "stream",
          "text": [
            "500\n"
          ],
          "name": "stdout"
        }
      ]
    },
    {
      "cell_type": "code",
      "metadata": {
        "id": "SifaMI-ahKno"
      },
      "source": [
        "for direct in train_path.iterdir():\r\n",
        "  if direct.is_dir():\r\n",
        "    direct.rename(train_path / direct.name.split(sep='_100')[0])"
      ],
      "execution_count": 10,
      "outputs": []
    },
    {
      "cell_type": "code",
      "metadata": {
        "id": "6FGhnAH-goA-"
      },
      "source": [
        "img_height = 224\r\n",
        "img_width  = 224"
      ],
      "execution_count": 11,
      "outputs": []
    },
    {
      "cell_type": "code",
      "metadata": {
        "id": "ekqQ_EFBcLDp",
        "colab": {
          "base_uri": "https://localhost:8080/"
        },
        "outputId": "e1520116-c987-43d5-bcb6-7ca45a765bbc"
      },
      "source": [
        "!pip install tensorflow-addons"
      ],
      "execution_count": 12,
      "outputs": [
        {
          "output_type": "stream",
          "text": [
            "Collecting tensorflow-addons\n",
            "\u001b[?25l  Downloading https://files.pythonhosted.org/packages/74/e3/56d2fe76f0bb7c88ed9b2a6a557e25e83e252aec08f13de34369cd850a0b/tensorflow_addons-0.12.1-cp37-cp37m-manylinux2010_x86_64.whl (703kB)\n",
            "\u001b[K     |████████████████████████████████| 706kB 5.3MB/s \n",
            "\u001b[?25hRequirement already satisfied: typeguard>=2.7 in /usr/local/lib/python3.7/dist-packages (from tensorflow-addons) (2.7.1)\n",
            "Installing collected packages: tensorflow-addons\n",
            "Successfully installed tensorflow-addons-0.12.1\n"
          ],
          "name": "stdout"
        }
      ]
    },
    {
      "cell_type": "code",
      "metadata": {
        "id": "9z9qUelQn-Vo"
      },
      "source": [
        "from tensorflow.keras.preprocessing.image import ImageDataGenerator"
      ],
      "execution_count": 13,
      "outputs": []
    },
    {
      "cell_type": "code",
      "metadata": {
        "id": "2CUaZwHscHLV"
      },
      "source": [
        "import tensorflow_addons as tfa"
      ],
      "execution_count": 14,
      "outputs": []
    },
    {
      "cell_type": "code",
      "metadata": {
        "id": "ZFXO18bRElwL"
      },
      "source": [
        "from keras.preprocessing.image import ImageDataGenerator  \r\n",
        "from keras.applications import densenet  \r\n",
        "from keras.models import Sequential, Model, load_model  \r\n",
        "from keras.layers import Conv2D, MaxPooling2D  \r\n",
        "from keras.layers import Activation, Dropout, Flatten, Dense  \r\n",
        "from keras.callbacks import EarlyStopping, ReduceLROnPlateau, ModelCheckpoint, Callback  \r\n",
        "from keras import regularizers  \r\n",
        "from keras import backend as K  \r\n",
        "import tensorflow as tf\r\n",
        "keras = tf.keras"
      ],
      "execution_count": 15,
      "outputs": []
    },
    {
      "cell_type": "markdown",
      "metadata": {
        "id": "I3IvE1g4Kyb-"
      },
      "source": [
        "### Data Augmentation"
      ]
    },
    {
      "cell_type": "code",
      "metadata": {
        "id": "qI1zuyeIW7XG"
      },
      "source": [
        "batch_size = 32\r\n",
        "img_height = 224\r\n",
        "img_width  = 224\r\n",
        "train_path = pathlib.Path('/root/.keras/datasets/ImagesTrain')"
      ],
      "execution_count": 16,
      "outputs": []
    },
    {
      "cell_type": "code",
      "metadata": {
        "id": "47e86f3eT-ZX"
      },
      "source": [
        "import shutil\r\n",
        "import os "
      ],
      "execution_count": 17,
      "outputs": []
    },
    {
      "cell_type": "code",
      "metadata": {
        "id": "BCYAgO1x7Nya"
      },
      "source": [
        "train_ds_gen = ImageDataGenerator(vertical_flip    = True,\r\n",
        "                                  horizontal_flip  = True,\r\n",
        "                                  validation_split = 0.2)"
      ],
      "execution_count": 18,
      "outputs": []
    },
    {
      "cell_type": "code",
      "metadata": {
        "id": "c0Cka5hc9TE4",
        "colab": {
          "base_uri": "https://localhost:8080/"
        },
        "outputId": "0385d279-867f-44b7-bcf6-cd3b0a5f56cf"
      },
      "source": [
        "train_data_gen = train_ds_gen.flow_from_directory(batch_size=batch_size,\r\n",
        "                                                  directory=train_path,\r\n",
        "                                                  shuffle=True,\r\n",
        "                                                  target_size=(img_height, img_width),\r\n",
        "                                                  subset='training',\r\n",
        "                                                  class_mode='categorical')"
      ],
      "execution_count": 19,
      "outputs": [
        {
          "output_type": "stream",
          "text": [
            "Found 2000 images belonging to 25 classes.\n"
          ],
          "name": "stdout"
        }
      ]
    },
    {
      "cell_type": "code",
      "metadata": {
        "id": "0ZVgGpkwEWqP",
        "colab": {
          "base_uri": "https://localhost:8080/"
        },
        "outputId": "4fbd2188-88dd-4aa4-ce58-464ba25549f7"
      },
      "source": [
        "valid_data_gen = train_ds_gen.flow_from_directory(batch_size=batch_size,\r\n",
        "                                                  directory=train_path,\r\n",
        "                                                  shuffle=True,\r\n",
        "                                                  target_size=(img_height, img_width),\r\n",
        "                                                  subset='validation',\r\n",
        "                                                  class_mode='categorical')"
      ],
      "execution_count": 20,
      "outputs": [
        {
          "output_type": "stream",
          "text": [
            "Found 500 images belonging to 25 classes.\n"
          ],
          "name": "stdout"
        }
      ]
    },
    {
      "cell_type": "code",
      "metadata": {
        "id": "DpUN4q-bbnKP",
        "colab": {
          "base_uri": "https://localhost:8080/"
        },
        "outputId": "7498d942-bffb-4f98-f3bf-1377c39897aa"
      },
      "source": [
        "test_data_gen = train_ds_gen.flow_from_directory(batch_size=batch_size,\r\n",
        "                                                  directory=train_path,\r\n",
        "                                                  shuffle=True,\r\n",
        "                                                  target_size=(img_height, img_width),\r\n",
        "                                                  class_mode='categorical')"
      ],
      "execution_count": 21,
      "outputs": [
        {
          "output_type": "stream",
          "text": [
            "Found 2500 images belonging to 25 classes.\n"
          ],
          "name": "stdout"
        }
      ]
    },
    {
      "cell_type": "markdown",
      "metadata": {
        "id": "BoUQ3hoHK2tf"
      },
      "source": [
        "### Modelos"
      ]
    },
    {
      "cell_type": "markdown",
      "metadata": {
        "id": "sv40lFlcFE2z"
      },
      "source": [
        "#### Funcion para predecir"
      ]
    },
    {
      "cell_type": "code",
      "metadata": {
        "id": "oOs-NXH4lBQB"
      },
      "source": [
        "batch_size = 100\r\n",
        "img_height = 224\r\n",
        "img_width  = 224\r\n",
        "test_path  = pathlib.Path('/root/.keras/datasets/Test')"
      ],
      "execution_count": 22,
      "outputs": []
    },
    {
      "cell_type": "code",
      "metadata": {
        "id": "6R6hvF4Pk_Fc"
      },
      "source": [
        "# predicting images\r\n",
        "from keras.preprocessing import image\r\n",
        "import numpy as np\r\n",
        "import pandas as pd\r\n",
        "from google.colab import files\r\n",
        "import matplotlib.pyplot as plt\r\n",
        "\r\n",
        "def make_predictions(model_final,\r\n",
        "                     path_test ='/root/.keras/datasets/Test',\r\n",
        "                     name_file_submission = 'submission.csv'):\r\n",
        "\r\n",
        "  images_test = os.listdir(path_test)\r\n",
        "  samples_to_predict = []\r\n",
        "\r\n",
        "  for img in images_test:\r\n",
        "    path_img = os.path.join(path_test, img)\r\n",
        "    img = image.load_img(path_img,\r\n",
        "                        target_size=(img_width, img_height))\r\n",
        "    x = image.img_to_array(img)\r\n",
        "    samples_to_predict.append(x)\r\n",
        "\r\n",
        "  samples_to_predict  = np.array(samples_to_predict)\r\n",
        "  predictions = model_final.predict(samples_to_predict)\r\n",
        "  classes = np.argmax(predictions, axis = 1)\r\n",
        "\r\n",
        "  data = {'id.jpg': images_test, 'label': classes}\r\n",
        "  data = pd.DataFrame(data)\r\n",
        "  data.to_csv(name_file_submission, index = False)\r\n",
        "\r\n",
        "  return data"
      ],
      "execution_count": 23,
      "outputs": []
    },
    {
      "cell_type": "markdown",
      "metadata": {
        "id": "sJi0hanhGbZe"
      },
      "source": [
        "# Modificaciones"
      ]
    },
    {
      "cell_type": "code",
      "metadata": {
        "id": "STPkL6y9Gi1N"
      },
      "source": [
        "from keras.layers.normalization import BatchNormalization\r\n"
      ],
      "execution_count": 24,
      "outputs": []
    },
    {
      "cell_type": "code",
      "metadata": {
        "id": "dyy-pGh5Gtns"
      },
      "source": [
        "base_model = tf.keras.applications.ResNet50(input_shape = (224, 224, 3), \r\n",
        "                                            classes     = 25,\r\n",
        "                                            include_top  = False)\r\n",
        "\r\n",
        "image_batch, label_batch = next(iter(train_data_gen))\r\n",
        "feature_batch = base_model(image_batch)\r\n",
        "base_model.trainable = False\r\n",
        "\r\n",
        "dense_layer_2048 = Dense(2048, activation='relu')\r\n",
        "dense_layer_512  = Dense(512,  activation='relu')\r\n",
        "dense_layer_1024 = Dense(1024, activation='relu')\r\n",
        "\r\n",
        "conv_1024 = Conv2D(1024, (3,3), activation='relu')\r\n",
        "conv_512  = Conv2D(512, (3,3), activation='relu')\r\n",
        "\r\n",
        "flattern  = Flatten()\r\n",
        "batch_normal = BatchNormalization()\r\n",
        "dropout   = Dropout(0.25)\r\n",
        "\r\n",
        "global_average_layer = tf.keras.layers.GlobalAveragePooling2D()\r\n",
        "prediction_layer = keras.layers.Dense(25, activation='softmax')\r\n",
        "\r\n",
        "model_22 = tf.keras.Sequential([\r\n",
        "  base_model,\r\n",
        "  conv_1024,\r\n",
        "  conv_512,\r\n",
        "  flattern,\r\n",
        "  dense_layer_2048,\r\n",
        "  dropout,\r\n",
        "  dense_layer_512,\r\n",
        "  dropout,\r\n",
        "  dense_layer_1024,\r\n",
        "  prediction_layer\r\n",
        "])"
      ],
      "execution_count": null,
      "outputs": []
    },
    {
      "cell_type": "code",
      "metadata": {
        "id": "9MAs5ZWyGtnt"
      },
      "source": [
        "opt = tf.keras.optimizers.Adagrad()\r\n",
        "\r\n",
        "callback = tf.keras.callbacks.EarlyStopping(monitor='f1_score', patience=5)\r\n",
        "\r\n",
        "model_22.compile(loss=\"categorical_crossentropy\",\r\n",
        "              optimizer=opt,\r\n",
        "\t            metrics=[ 'accuracy', tfa.metrics.F1Score(num_classes=25, average='weighted')],\r\n",
        "              )"
      ],
      "execution_count": null,
      "outputs": []
    },
    {
      "cell_type": "code",
      "metadata": {
        "colab": {
          "base_uri": "https://localhost:8080/"
        },
        "id": "avybRireGtnu",
        "outputId": "c62c6ef0-9840-460c-eb5f-502c53e18509"
      },
      "source": [
        "tf.random.set_seed(2021)\r\n",
        "\r\n",
        "model_history_22 = model_22.fit(  \r\n",
        "    train_data_gen,\r\n",
        "    epochs=50,\r\n",
        "    validation_data=valid_data_gen,\r\n",
        "    validation_steps= valid_data_gen.n // batch_size)"
      ],
      "execution_count": null,
      "outputs": [
        {
          "output_type": "stream",
          "text": [
            "Epoch 1/50\n",
            "63/63 [==============================] - 508s 8s/step - loss: 2.9746 - accuracy: 0.1661 - f1_score: 0.1462 - val_loss: 1.5037 - val_accuracy: 0.6295 - val_f1_score: 0.5928\n",
            "Epoch 2/50\n",
            "63/63 [==============================] - 499s 8s/step - loss: 1.6180 - accuracy: 0.5325 - f1_score: 0.5221 - val_loss: 0.9249 - val_accuracy: 0.7321 - val_f1_score: 0.7271\n",
            "Epoch 3/50\n",
            "63/63 [==============================] - 497s 8s/step - loss: 1.0793 - accuracy: 0.6767 - f1_score: 0.6740 - val_loss: 0.9085 - val_accuracy: 0.7366 - val_f1_score: 0.7339\n",
            "Epoch 4/50\n",
            "63/63 [==============================] - 498s 8s/step - loss: 0.8001 - accuracy: 0.7627 - f1_score: 0.7626 - val_loss: 0.6996 - val_accuracy: 0.7991 - val_f1_score: 0.7967\n",
            "Epoch 5/50\n",
            "63/63 [==============================] - 496s 8s/step - loss: 0.7014 - accuracy: 0.7704 - f1_score: 0.7700 - val_loss: 0.5700 - val_accuracy: 0.8482 - val_f1_score: 0.8477\n",
            "Epoch 6/50\n",
            "63/63 [==============================] - 494s 8s/step - loss: 0.5703 - accuracy: 0.8279 - f1_score: 0.8278 - val_loss: 0.4782 - val_accuracy: 0.8616 - val_f1_score: 0.8620\n",
            "Epoch 7/50\n",
            "63/63 [==============================] - 496s 8s/step - loss: 0.4981 - accuracy: 0.8461 - f1_score: 0.8463 - val_loss: 0.4702 - val_accuracy: 0.8527 - val_f1_score: 0.8517\n",
            "Epoch 8/50\n",
            "63/63 [==============================] - 493s 8s/step - loss: 0.4269 - accuracy: 0.8698 - f1_score: 0.8695 - val_loss: 0.4397 - val_accuracy: 0.8750 - val_f1_score: 0.8734\n",
            "Epoch 9/50\n",
            "63/63 [==============================] - 491s 8s/step - loss: 0.3600 - accuracy: 0.8900 - f1_score: 0.8892 - val_loss: 0.3504 - val_accuracy: 0.9286 - val_f1_score: 0.9288\n",
            "Epoch 10/50\n",
            "63/63 [==============================] - 491s 8s/step - loss: 0.3231 - accuracy: 0.9027 - f1_score: 0.9029 - val_loss: 0.3480 - val_accuracy: 0.8795 - val_f1_score: 0.8761\n",
            "Epoch 11/50\n",
            "63/63 [==============================] - 492s 8s/step - loss: 0.2996 - accuracy: 0.9075 - f1_score: 0.9072 - val_loss: 0.3308 - val_accuracy: 0.8973 - val_f1_score: 0.8953\n",
            "Epoch 12/50\n",
            "63/63 [==============================] - 492s 8s/step - loss: 0.2702 - accuracy: 0.9177 - f1_score: 0.9177 - val_loss: 0.4503 - val_accuracy: 0.8839 - val_f1_score: 0.8844\n",
            "Epoch 13/50\n",
            "63/63 [==============================] - 492s 8s/step - loss: 0.2844 - accuracy: 0.9188 - f1_score: 0.9182 - val_loss: 0.3266 - val_accuracy: 0.8973 - val_f1_score: 0.8963\n",
            "Epoch 14/50\n",
            "63/63 [==============================] - 492s 8s/step - loss: 0.2332 - accuracy: 0.9307 - f1_score: 0.9309 - val_loss: 0.3152 - val_accuracy: 0.9241 - val_f1_score: 0.9235\n",
            "Epoch 15/50\n",
            "63/63 [==============================] - 493s 8s/step - loss: 0.2180 - accuracy: 0.9294 - f1_score: 0.9292 - val_loss: 0.3611 - val_accuracy: 0.9107 - val_f1_score: 0.9109\n",
            "Epoch 16/50\n",
            "63/63 [==============================] - 492s 8s/step - loss: 0.2133 - accuracy: 0.9387 - f1_score: 0.9387 - val_loss: 0.4246 - val_accuracy: 0.8929 - val_f1_score: 0.8917\n",
            "Epoch 17/50\n",
            "63/63 [==============================] - 492s 8s/step - loss: 0.2049 - accuracy: 0.9348 - f1_score: 0.9343 - val_loss: 0.3408 - val_accuracy: 0.9018 - val_f1_score: 0.9001\n",
            "Epoch 18/50\n",
            "63/63 [==============================] - 493s 8s/step - loss: 0.2005 - accuracy: 0.9410 - f1_score: 0.9412 - val_loss: 0.4483 - val_accuracy: 0.8884 - val_f1_score: 0.8885\n",
            "Epoch 19/50\n",
            "63/63 [==============================] - 491s 8s/step - loss: 0.1784 - accuracy: 0.9529 - f1_score: 0.9526 - val_loss: 0.4135 - val_accuracy: 0.9018 - val_f1_score: 0.9007\n",
            "Epoch 20/50\n",
            "63/63 [==============================] - 489s 8s/step - loss: 0.1499 - accuracy: 0.9520 - f1_score: 0.9519 - val_loss: 0.2153 - val_accuracy: 0.9330 - val_f1_score: 0.9321\n",
            "Epoch 21/50\n",
            "63/63 [==============================] - 491s 8s/step - loss: 0.1430 - accuracy: 0.9579 - f1_score: 0.9579 - val_loss: 0.2956 - val_accuracy: 0.9196 - val_f1_score: 0.9180\n",
            "Epoch 22/50\n",
            "63/63 [==============================] - 492s 8s/step - loss: 0.1549 - accuracy: 0.9560 - f1_score: 0.9561 - val_loss: 0.2740 - val_accuracy: 0.9330 - val_f1_score: 0.9328\n",
            "Epoch 23/50\n",
            "63/63 [==============================] - 491s 8s/step - loss: 0.1255 - accuracy: 0.9593 - f1_score: 0.9590 - val_loss: 0.2489 - val_accuracy: 0.9286 - val_f1_score: 0.9281\n",
            "Epoch 24/50\n",
            "63/63 [==============================] - 494s 8s/step - loss: 0.1217 - accuracy: 0.9692 - f1_score: 0.9693 - val_loss: 0.3591 - val_accuracy: 0.9152 - val_f1_score: 0.9164\n",
            "Epoch 25/50\n",
            "63/63 [==============================] - 492s 8s/step - loss: 0.1197 - accuracy: 0.9671 - f1_score: 0.9667 - val_loss: 0.2957 - val_accuracy: 0.9241 - val_f1_score: 0.9246\n",
            "Epoch 26/50\n",
            "63/63 [==============================] - 492s 8s/step - loss: 0.1148 - accuracy: 0.9724 - f1_score: 0.9723 - val_loss: 0.2508 - val_accuracy: 0.9598 - val_f1_score: 0.9597\n",
            "Epoch 27/50\n",
            "63/63 [==============================] - 491s 8s/step - loss: 0.1151 - accuracy: 0.9637 - f1_score: 0.9636 - val_loss: 0.2687 - val_accuracy: 0.9152 - val_f1_score: 0.9143\n",
            "Epoch 28/50\n",
            "63/63 [==============================] - 492s 8s/step - loss: 0.1073 - accuracy: 0.9752 - f1_score: 0.9752 - val_loss: 0.3923 - val_accuracy: 0.9018 - val_f1_score: 0.9002\n",
            "Epoch 29/50\n",
            "63/63 [==============================] - 493s 8s/step - loss: 0.1029 - accuracy: 0.9744 - f1_score: 0.9744 - val_loss: 0.3076 - val_accuracy: 0.9286 - val_f1_score: 0.9279\n",
            "Epoch 30/50\n",
            "63/63 [==============================] - 492s 8s/step - loss: 0.0960 - accuracy: 0.9751 - f1_score: 0.9751 - val_loss: 0.3403 - val_accuracy: 0.9107 - val_f1_score: 0.9085\n",
            "Epoch 31/50\n",
            "63/63 [==============================] - 491s 8s/step - loss: 0.1031 - accuracy: 0.9690 - f1_score: 0.9690 - val_loss: 0.3744 - val_accuracy: 0.9107 - val_f1_score: 0.9099\n",
            "Epoch 32/50\n",
            "63/63 [==============================] - 493s 8s/step - loss: 0.0860 - accuracy: 0.9722 - f1_score: 0.9723 - val_loss: 0.4487 - val_accuracy: 0.8884 - val_f1_score: 0.8891\n",
            "Epoch 33/50\n",
            "63/63 [==============================] - 491s 8s/step - loss: 0.1011 - accuracy: 0.9721 - f1_score: 0.9721 - val_loss: 0.4796 - val_accuracy: 0.8973 - val_f1_score: 0.8986\n",
            "Epoch 34/50\n",
            "63/63 [==============================] - 491s 8s/step - loss: 0.0809 - accuracy: 0.9730 - f1_score: 0.9729 - val_loss: 0.4148 - val_accuracy: 0.9018 - val_f1_score: 0.8998\n",
            "Epoch 35/50\n",
            "63/63 [==============================] - 491s 8s/step - loss: 0.0803 - accuracy: 0.9826 - f1_score: 0.9826 - val_loss: 0.3916 - val_accuracy: 0.8973 - val_f1_score: 0.8971\n",
            "Epoch 36/50\n",
            "63/63 [==============================] - 488s 8s/step - loss: 0.0834 - accuracy: 0.9753 - f1_score: 0.9755 - val_loss: 0.4158 - val_accuracy: 0.9107 - val_f1_score: 0.9095\n",
            "Epoch 37/50\n",
            "63/63 [==============================] - 487s 8s/step - loss: 0.0722 - accuracy: 0.9835 - f1_score: 0.9835 - val_loss: 0.2147 - val_accuracy: 0.9330 - val_f1_score: 0.9328\n",
            "Epoch 38/50\n",
            "63/63 [==============================] - 487s 8s/step - loss: 0.0822 - accuracy: 0.9798 - f1_score: 0.9798 - val_loss: 0.2457 - val_accuracy: 0.9286 - val_f1_score: 0.9281\n",
            "Epoch 39/50\n",
            "63/63 [==============================] - 487s 8s/step - loss: 0.0702 - accuracy: 0.9776 - f1_score: 0.9776 - val_loss: 0.4219 - val_accuracy: 0.9196 - val_f1_score: 0.9193\n",
            "Epoch 40/50\n",
            "63/63 [==============================] - 488s 8s/step - loss: 0.0651 - accuracy: 0.9805 - f1_score: 0.9808 - val_loss: 0.3955 - val_accuracy: 0.9152 - val_f1_score: 0.9146\n",
            "Epoch 41/50\n",
            "63/63 [==============================] - 488s 8s/step - loss: 0.0661 - accuracy: 0.9853 - f1_score: 0.9854 - val_loss: 0.3554 - val_accuracy: 0.9241 - val_f1_score: 0.9236\n",
            "Epoch 42/50\n",
            "63/63 [==============================] - 487s 8s/step - loss: 0.0610 - accuracy: 0.9794 - f1_score: 0.9800 - val_loss: 0.2297 - val_accuracy: 0.9375 - val_f1_score: 0.9383\n",
            "Epoch 43/50\n",
            "63/63 [==============================] - 487s 8s/step - loss: 0.0619 - accuracy: 0.9779 - f1_score: 0.9777 - val_loss: 0.4209 - val_accuracy: 0.9196 - val_f1_score: 0.9190\n",
            "Epoch 44/50\n",
            "63/63 [==============================] - 488s 8s/step - loss: 0.0660 - accuracy: 0.9821 - f1_score: 0.9825 - val_loss: 0.3889 - val_accuracy: 0.9018 - val_f1_score: 0.9019\n",
            "Epoch 45/50\n",
            "63/63 [==============================] - 487s 8s/step - loss: 0.0582 - accuracy: 0.9870 - f1_score: 0.9869 - val_loss: 0.2860 - val_accuracy: 0.9286 - val_f1_score: 0.9288\n",
            "Epoch 46/50\n",
            "63/63 [==============================] - 486s 8s/step - loss: 0.0438 - accuracy: 0.9906 - f1_score: 0.9906 - val_loss: 0.2716 - val_accuracy: 0.9196 - val_f1_score: 0.9201\n",
            "Epoch 47/50\n",
            "63/63 [==============================] - 486s 8s/step - loss: 0.0625 - accuracy: 0.9814 - f1_score: 0.9814 - val_loss: 0.2922 - val_accuracy: 0.9509 - val_f1_score: 0.9509\n",
            "Epoch 48/50\n",
            "63/63 [==============================] - 489s 8s/step - loss: 0.0496 - accuracy: 0.9880 - f1_score: 0.9880 - val_loss: 0.3237 - val_accuracy: 0.9062 - val_f1_score: 0.9072\n",
            "Epoch 49/50\n",
            "63/63 [==============================] - 488s 8s/step - loss: 0.0490 - accuracy: 0.9884 - f1_score: 0.9884 - val_loss: 0.3327 - val_accuracy: 0.9286 - val_f1_score: 0.9290\n",
            "Epoch 50/50\n",
            "63/63 [==============================] - 488s 8s/step - loss: 0.0614 - accuracy: 0.9840 - f1_score: 0.9836 - val_loss: 0.3985 - val_accuracy: 0.9241 - val_f1_score: 0.9257\n"
          ],
          "name": "stdout"
        }
      ]
    },
    {
      "cell_type": "code",
      "metadata": {
        "id": "RNsZwGo3Gtnx"
      },
      "source": [
        "from google.colab import files\r\n",
        "import matplotlib.pyplot as plt"
      ],
      "execution_count": null,
      "outputs": []
    },
    {
      "cell_type": "code",
      "metadata": {
        "id": "hrSgBzuGGtny",
        "colab": {
          "base_uri": "https://localhost:8080/",
          "height": 295
        },
        "outputId": "13c7be3a-db10-4370-85a7-00ac11728324"
      },
      "source": [
        "plt.plot(model_history_22.history['f1_score'])\r\n",
        "plt.plot(model_history_22.history['val_f1_score'])\r\n",
        "plt.title('model f1_score')\r\n",
        "plt.ylabel('f1_score')\r\n",
        "plt.xlabel('epoch')\r\n",
        "plt.legend(['train', 'test'], loc='upper left')\r\n",
        "plt.show()"
      ],
      "execution_count": null,
      "outputs": [
        {
          "output_type": "display_data",
          "data": {
            "image/png": "[encoded data removed]",
            "text/plain": [
              "<Figure size 432x288 with 1 Axes>"
            ]
          },
          "metadata": {
            "tags": [],
            "needs_background": "light"
          }
        }
      ]
    },
    {
      "cell_type": "code",
      "metadata": {
        "colab": {
          "base_uri": "https://localhost:8080/",
          "height": 407
        },
        "id": "pPeNVex-Gtnz",
        "outputId": "79ef59ff-8370-47be-88a9-00f504feab61"
      },
      "source": [
        "make_predictions(model_22, name_file_submission='modelo_mejorado2_2048_512_1024_256_128_52.csv')"
      ],
      "execution_count": null,
      "outputs": [
        {
          "output_type": "execute_result",
          "data": {
            "text/html": [
              "<div>\n",
              "<style scoped>\n",
              "    .dataframe tbody tr th:only-of-type {\n",
              "        vertical-align: middle;\n",
              "    }\n",
              "\n",
              "    .dataframe tbody tr th {\n",
              "        vertical-align: top;\n",
              "    }\n",
              "\n",
              "    .dataframe thead th {\n",
              "        text-align: right;\n",
              "    }\n",
              "</style>\n",
              "<table border=\"1\" class=\"dataframe\">\n",
              "  <thead>\n",
              "    <tr style=\"text-align: right;\">\n",
              "      <th></th>\n",
              "      <th>id.jpg</th>\n",
              "      <th>label</th>\n",
              "    </tr>\n",
              "  </thead>\n",
              "  <tbody>\n",
              "    <tr>\n",
              "      <th>0</th>\n",
              "      <td>Grassland__10.jpg</td>\n",
              "      <td>17</td>\n",
              "    </tr>\n",
              "    <tr>\n",
              "      <th>1</th>\n",
              "      <td>Open_Shrub_9.jpg</td>\n",
              "      <td>21</td>\n",
              "    </tr>\n",
              "    <tr>\n",
              "      <th>2</th>\n",
              "      <td>Forest_CEN_12.jpg</td>\n",
              "      <td>16</td>\n",
              "    </tr>\n",
              "    <tr>\n",
              "      <th>3</th>\n",
              "      <td>Forest_CEN_15.jpg</td>\n",
              "      <td>8</td>\n",
              "    </tr>\n",
              "    <tr>\n",
              "      <th>4</th>\n",
              "      <td>Forest_OEB_7.jpg</td>\n",
              "      <td>15</td>\n",
              "    </tr>\n",
              "    <tr>\n",
              "      <th>...</th>\n",
              "      <td>...</td>\n",
              "      <td>...</td>\n",
              "    </tr>\n",
              "    <tr>\n",
              "      <th>495</th>\n",
              "      <td>Forest_CDB_7.jpg</td>\n",
              "      <td>11</td>\n",
              "    </tr>\n",
              "    <tr>\n",
              "      <th>496</th>\n",
              "      <td>Open_Shrub_11.jpg</td>\n",
              "      <td>21</td>\n",
              "    </tr>\n",
              "    <tr>\n",
              "      <th>497</th>\n",
              "      <td>Close_Shru_0.jpg</td>\n",
              "      <td>2</td>\n",
              "    </tr>\n",
              "    <tr>\n",
              "      <th>498</th>\n",
              "      <td>Cropland_s_0.jpg</td>\n",
              "      <td>4</td>\n",
              "    </tr>\n",
              "    <tr>\n",
              "      <th>499</th>\n",
              "      <td>Broadleaf__11.jpg</td>\n",
              "      <td>0</td>\n",
              "    </tr>\n",
              "  </tbody>\n",
              "</table>\n",
              "<p>500 rows × 2 columns</p>\n",
              "</div>"
            ],
            "text/plain": [
              "                id.jpg  label\n",
              "0    Grassland__10.jpg     17\n",
              "1     Open_Shrub_9.jpg     21\n",
              "2    Forest_CEN_12.jpg     16\n",
              "3    Forest_CEN_15.jpg      8\n",
              "4     Forest_OEB_7.jpg     15\n",
              "..                 ...    ...\n",
              "495   Forest_CDB_7.jpg     11\n",
              "496  Open_Shrub_11.jpg     21\n",
              "497   Close_Shru_0.jpg      2\n",
              "498   Cropland_s_0.jpg      4\n",
              "499  Broadleaf__11.jpg      0\n",
              "\n",
              "[500 rows x 2 columns]"
            ]
          },
          "metadata": {
            "tags": []
          },
          "execution_count": 30
        }
      ]
    },
    {
      "cell_type": "code",
      "metadata": {
        "colab": {
          "base_uri": "https://localhost:8080/",
          "height": 17
        },
        "id": "NIJthsmVGtn0",
        "outputId": "73333553-b29e-4d0c-da30-7ecdf74132a5"
      },
      "source": [
        "files.download(\"modelo_mejorado2_2048_512_1024_256_128_52.csv\")"
      ],
      "execution_count": null,
      "outputs": [
        {
          "output_type": "display_data",
          "data": {
            "application/javascript": [
              "\n",
              "    async function download(id, filename, size) {\n",
              "      if (!google.colab.kernel.accessAllowed) {\n",
              "        return;\n",
              "      }\n",
              "      const div = document.createElement('div');\n",
              "      const label = document.createElement('label');\n",
              "      label.textContent = `Downloading \"${filename}\": `;\n",
              "      div.appendChild(label);\n",
              "      const progress = document.createElement('progress');\n",
              "      progress.max = size;\n",
              "      div.appendChild(progress);\n",
              "      document.body.appendChild(div);\n",
              "\n",
              "      const buffers = [];\n",
              "      let downloaded = 0;\n",
              "\n",
              "      const channel = await google.colab.kernel.comms.open(id);\n",
              "      // Send a message to notify the kernel that we're ready.\n",
              "      channel.send({})\n",
              "\n",
              "      for await (const message of channel.messages) {\n",
              "        // Send a message to notify the kernel that we're ready.\n",
              "        channel.send({})\n",
              "        if (message.buffers) {\n",
              "          for (const buffer of message.buffers) {\n",
              "            buffers.push(buffer);\n",
              "            downloaded += buffer.byteLength;\n",
              "            progress.value = downloaded;\n",
              "          }\n",
              "        }\n",
              "      }\n",
              "      const blob = new Blob(buffers, {type: 'application/binary'});\n",
              "      const a = document.createElement('a');\n",
              "      a.href = window.URL.createObjectURL(blob);\n",
              "      a.download = filename;\n",
              "      div.appendChild(a);\n",
              "      a.click();\n",
              "      div.remove();\n",
              "    }\n",
              "  "
            ],
            "text/plain": [
              "<IPython.core.display.Javascript object>"
            ]
          },
          "metadata": {
            "tags": []
          }
        },
        {
          "output_type": "display_data",
          "data": {
            "application/javascript": [
              "download(\"download_9056f3bf-006c-422a-801b-c13c2bf70d5d\", \"modelo_mejorado2_2048_512_1024_256_128_52.csv\", 9985)"
            ],
            "text/plain": [
              "<IPython.core.display.Javascript object>"
            ]
          },
          "metadata": {
            "tags": []
          }
        }
      ]
    },
    {
      "cell_type": "code",
      "metadata": {
        "colab": {
          "base_uri": "https://localhost:8080/"
        },
        "id": "RRzx8XKaGtn1",
        "outputId": "b3530c13-daba-49a3-f66c-81d927ee5580"
      },
      "source": [
        "model_22.save('modelo_mejorado2_2048_512_1024_256_128_52')"
      ],
      "execution_count": null,
      "outputs": [
        {
          "output_type": "stream",
          "text": [
            "INFO:tensorflow:Assets written to: modelo_mejorado2_2048_512_1024_256_128_52/assets\n"
          ],
          "name": "stdout"
        }
      ]
    },
    {
      "cell_type": "code",
      "metadata": {
        "colab": {
          "base_uri": "https://localhost:8080/"
        },
        "id": "nO1_lWggGtn2",
        "outputId": "bb8a7a95-9f78-454e-c4a6-5585e770f7bd"
      },
      "source": [
        "! zip -r modelo_mejorado2_2048_512_1024_256_128_52.zip modelo_mejorado2_2048_512_1024_256_128_52"
      ],
      "execution_count": null,
      "outputs": [
        {
          "output_type": "stream",
          "text": [
            "  adding: modelo_mejorado2_2048_512_1024_256_128_52/ (stored 0%)\n",
            "  adding: modelo_mejorado2_2048_512_1024_256_128_52/assets/ (stored 0%)\n",
            "  adding: modelo_mejorado2_2048_512_1024_256_128_52/variables/ (stored 0%)\n",
            "  adding: modelo_mejorado2_2048_512_1024_256_128_52/variables/variables.data-00000-of-00001 (deflated 13%)\n",
            "  adding: modelo_mejorado2_2048_512_1024_256_128_52/variables/variables.index (deflated 78%)\n",
            "  adding: modelo_mejorado2_2048_512_1024_256_128_52/saved_model.pb (deflated 93%)\n"
          ],
          "name": "stdout"
        }
      ]
    },
    {
      "cell_type": "code",
      "metadata": {
        "colab": {
          "base_uri": "https://localhost:8080/",
          "height": 17
        },
        "id": "OllKSdGXGtn2",
        "outputId": "0b7174fa-bc7d-44a0-c6d9-a173e54629a2"
      },
      "source": [
        "files.download(\"modelo_mejorado2_2048_512_1024_256_128_52.zip\")"
      ],
      "execution_count": null,
      "outputs": [
        {
          "output_type": "display_data",
          "data": {
            "application/javascript": [
              "\n",
              "    async function download(id, filename, size) {\n",
              "      if (!google.colab.kernel.accessAllowed) {\n",
              "        return;\n",
              "      }\n",
              "      const div = document.createElement('div');\n",
              "      const label = document.createElement('label');\n",
              "      label.textContent = `Downloading \"${filename}\": `;\n",
              "      div.appendChild(label);\n",
              "      const progress = document.createElement('progress');\n",
              "      progress.max = size;\n",
              "      div.appendChild(progress);\n",
              "      document.body.appendChild(div);\n",
              "\n",
              "      const buffers = [];\n",
              "      let downloaded = 0;\n",
              "\n",
              "      const channel = await google.colab.kernel.comms.open(id);\n",
              "      // Send a message to notify the kernel that we're ready.\n",
              "      channel.send({})\n",
              "\n",
              "      for await (const message of channel.messages) {\n",
              "        // Send a message to notify the kernel that we're ready.\n",
              "        channel.send({})\n",
              "        if (message.buffers) {\n",
              "          for (const buffer of message.buffers) {\n",
              "            buffers.push(buffer);\n",
              "            downloaded += buffer.byteLength;\n",
              "            progress.value = downloaded;\n",
              "          }\n",
              "        }\n",
              "      }\n",
              "      const blob = new Blob(buffers, {type: 'application/binary'});\n",
              "      const a = document.createElement('a');\n",
              "      a.href = window.URL.createObjectURL(blob);\n",
              "      a.download = filename;\n",
              "      div.appendChild(a);\n",
              "      a.click();\n",
              "      div.remove();\n",
              "    }\n",
              "  "
            ],
            "text/plain": [
              "<IPython.core.display.Javascript object>"
            ]
          },
          "metadata": {
            "tags": []
          }
        },
        {
          "output_type": "display_data",
          "data": {
            "application/javascript": [
              "download(\"download_506a3424-f999-4cb4-8b0e-b687635f4a7f\", \"modelo_mejorado2_2048_512_1024_256_128_52.zip\", 322276247)"
            ],
            "text/plain": [
              "<IPython.core.display.Javascript object>"
            ]
          },
          "metadata": {
            "tags": []
          }
        }
      ]
    },
    {
      "cell_type": "code",
      "metadata": {
        "id": "_HJiLWMcUgrN"
      },
      "source": [
        "batch_size2 = 100\r\n"
      ],
      "execution_count": 25,
      "outputs": []
    },
    {
      "cell_type": "code",
      "metadata": {
        "id": "MjI3zNnXUhef",
        "outputId": "9dabb796-8be9-4841-8bf4-32b21aaf42ef",
        "colab": {
          "base_uri": "https://localhost:8080/"
        }
      },
      "source": [
        "base_model = tf.keras.applications.ResNet50(input_shape = (224, 224, 3), \r\n",
        "                                            classes     = 25,\r\n",
        "                                            include_top  = False)\r\n",
        "\r\n",
        "image_batch, label_batch = next(iter(train_data_gen))\r\n",
        "feature_batch = base_model(image_batch)\r\n",
        "base_model.trainable = False\r\n",
        "\r\n",
        "dense_layer_2048 = Dense(2048, activation='relu')\r\n",
        "dense_layer_1024 = Dense(1024, activation='relu')\r\n",
        "dense_layer_512  = Dense(512,  activation='relu')\r\n",
        "\r\n",
        "conv_1024 = Conv2D(1024, (3,3), activation='relu')\r\n",
        "conv_512  = Conv2D(512, (3,3), activation='relu')\r\n",
        "\r\n",
        "flattern  = Flatten()\r\n",
        "batch_normal = BatchNormalization()\r\n",
        "dropout   = Dropout(0.25)\r\n",
        "\r\n",
        "global_average_layer = tf.keras.layers.GlobalAveragePooling2D()\r\n",
        "prediction_layer = keras.layers.Dense(25, activation='softmax')\r\n",
        "\r\n",
        "model_24 = tf.keras.Sequential([\r\n",
        "  base_model,\r\n",
        "  conv_1024,\r\n",
        "  conv_512,\r\n",
        "  flattern,\r\n",
        "  dense_layer_2048,\r\n",
        "  dropout,\r\n",
        "  dense_layer_1024,\r\n",
        "  dropout,\r\n",
        "    dense_layer_512,\r\n",
        "  prediction_layer\r\n",
        "])"
      ],
      "execution_count": 26,
      "outputs": [
        {
          "output_type": "stream",
          "text": [
            "Downloading data from https://storage.googleapis.com/tensorflow/keras-applications/resnet/resnet50_weights_tf_dim_ordering_tf_kernels_notop.h5\n",
            "94773248/94765736 [==============================] - 1s 0us/step\n"
          ],
          "name": "stdout"
        }
      ]
    },
    {
      "cell_type": "code",
      "metadata": {
        "id": "Jqko9L8YUhei"
      },
      "source": [
        "opt = tf.keras.optimizers.Adagrad()\r\n",
        "\r\n",
        "callback = tf.keras.callbacks.EarlyStopping(monitor='f1_score', patience=5)\r\n",
        "\r\n",
        "model_24.compile(loss=\"categorical_crossentropy\",\r\n",
        "              optimizer=opt,\r\n",
        "\t            metrics=[ 'accuracy', tfa.metrics.F1Score(num_classes=25, average='weighted')],\r\n",
        "              )"
      ],
      "execution_count": 27,
      "outputs": []
    },
    {
      "cell_type": "code",
      "metadata": {
        "colab": {
          "base_uri": "https://localhost:8080/"
        },
        "id": "C-0jV5QKUhej",
        "outputId": "3079ca62-4cd8-474f-bf7b-1af54e32a264"
      },
      "source": [
        "tf.random.set_seed(2021)\r\n",
        "\r\n",
        "model_history_24 = model_24.fit(  \r\n",
        "    train_data_gen,\r\n",
        "    epochs=50,\r\n",
        "    validation_data=valid_data_gen,\r\n",
        "    validation_steps= valid_data_gen.n // batch_size2)"
      ],
      "execution_count": 28,
      "outputs": [
        {
          "output_type": "stream",
          "text": [
            "Epoch 1/50\n",
            "63/63 [==============================] - 482s 8s/step - loss: 2.8716 - accuracy: 0.2037 - f1_score: 0.2035 - val_loss: 1.3220 - val_accuracy: 0.6000 - val_f1_score: 0.5673\n",
            "Epoch 2/50\n",
            "63/63 [==============================] - 477s 8s/step - loss: 1.4217 - accuracy: 0.5742 - f1_score: 0.5704 - val_loss: 0.9778 - val_accuracy: 0.7000 - val_f1_score: 0.6907\n",
            "Epoch 3/50\n",
            "63/63 [==============================] - 472s 7s/step - loss: 0.9836 - accuracy: 0.7021 - f1_score: 0.7017 - val_loss: 0.5749 - val_accuracy: 0.8313 - val_f1_score: 0.8430\n",
            "Epoch 4/50\n",
            "63/63 [==============================] - 469s 7s/step - loss: 0.6946 - accuracy: 0.7866 - f1_score: 0.7847 - val_loss: 0.6586 - val_accuracy: 0.7688 - val_f1_score: 0.7606\n",
            "Epoch 5/50\n",
            "63/63 [==============================] - 471s 7s/step - loss: 0.5647 - accuracy: 0.8270 - f1_score: 0.8275 - val_loss: 0.5426 - val_accuracy: 0.8313 - val_f1_score: 0.8324\n",
            "Epoch 6/50\n",
            "63/63 [==============================] - 476s 8s/step - loss: 0.5197 - accuracy: 0.8504 - f1_score: 0.8498 - val_loss: 0.6305 - val_accuracy: 0.8000 - val_f1_score: 0.7909\n",
            "Epoch 7/50\n",
            "63/63 [==============================] - 484s 8s/step - loss: 0.3927 - accuracy: 0.8713 - f1_score: 0.8710 - val_loss: 0.4429 - val_accuracy: 0.8500 - val_f1_score: 0.8487\n",
            "Epoch 8/50\n",
            "63/63 [==============================] - 487s 8s/step - loss: 0.3599 - accuracy: 0.8862 - f1_score: 0.8862 - val_loss: 0.3619 - val_accuracy: 0.9062 - val_f1_score: 0.9046\n",
            "Epoch 9/50\n",
            "63/63 [==============================] - 490s 8s/step - loss: 0.2990 - accuracy: 0.9129 - f1_score: 0.9126 - val_loss: 0.3764 - val_accuracy: 0.8813 - val_f1_score: 0.8815\n",
            "Epoch 10/50\n",
            "63/63 [==============================] - 482s 8s/step - loss: 0.2627 - accuracy: 0.9265 - f1_score: 0.9262 - val_loss: 0.2868 - val_accuracy: 0.9125 - val_f1_score: 0.9149\n",
            "Epoch 11/50\n",
            "63/63 [==============================] - 485s 8s/step - loss: 0.2486 - accuracy: 0.9331 - f1_score: 0.9328 - val_loss: 0.6049 - val_accuracy: 0.8500 - val_f1_score: 0.8478\n",
            "Epoch 12/50\n",
            "63/63 [==============================] - 482s 8s/step - loss: 0.2331 - accuracy: 0.9288 - f1_score: 0.9289 - val_loss: 0.4765 - val_accuracy: 0.8562 - val_f1_score: 0.8511\n",
            "Epoch 13/50\n",
            "63/63 [==============================] - 479s 8s/step - loss: 0.2450 - accuracy: 0.9178 - f1_score: 0.9177 - val_loss: 0.4354 - val_accuracy: 0.9000 - val_f1_score: 0.8992\n",
            "Epoch 14/50\n",
            "63/63 [==============================] - 480s 8s/step - loss: 0.2121 - accuracy: 0.9407 - f1_score: 0.9407 - val_loss: 0.4703 - val_accuracy: 0.8875 - val_f1_score: 0.8884\n",
            "Epoch 15/50\n",
            "63/63 [==============================] - 474s 8s/step - loss: 0.1967 - accuracy: 0.9419 - f1_score: 0.9418 - val_loss: 0.4450 - val_accuracy: 0.9062 - val_f1_score: 0.8998\n",
            "Epoch 16/50\n",
            "63/63 [==============================] - 471s 7s/step - loss: 0.1793 - accuracy: 0.9433 - f1_score: 0.9431 - val_loss: 0.4092 - val_accuracy: 0.8938 - val_f1_score: 0.8951\n",
            "Epoch 17/50\n",
            "63/63 [==============================] - 471s 7s/step - loss: 0.1658 - accuracy: 0.9516 - f1_score: 0.9518 - val_loss: 0.3475 - val_accuracy: 0.9062 - val_f1_score: 0.9019\n",
            "Epoch 18/50\n",
            "63/63 [==============================] - 470s 7s/step - loss: 0.1498 - accuracy: 0.9614 - f1_score: 0.9612 - val_loss: 0.2270 - val_accuracy: 0.9250 - val_f1_score: 0.9222\n",
            "Epoch 19/50\n",
            "63/63 [==============================] - 468s 7s/step - loss: 0.1508 - accuracy: 0.9586 - f1_score: 0.9586 - val_loss: 0.4516 - val_accuracy: 0.8750 - val_f1_score: 0.8749\n",
            "Epoch 20/50\n",
            "63/63 [==============================] - 464s 7s/step - loss: 0.1522 - accuracy: 0.9552 - f1_score: 0.9549 - val_loss: 0.3746 - val_accuracy: 0.8875 - val_f1_score: 0.8872\n",
            "Epoch 21/50\n",
            "63/63 [==============================] - 466s 7s/step - loss: 0.1297 - accuracy: 0.9662 - f1_score: 0.9661 - val_loss: 0.3373 - val_accuracy: 0.9125 - val_f1_score: 0.9121\n",
            "Epoch 22/50\n",
            "63/63 [==============================] - 470s 7s/step - loss: 0.1161 - accuracy: 0.9633 - f1_score: 0.9632 - val_loss: 0.2826 - val_accuracy: 0.9187 - val_f1_score: 0.9166\n",
            "Epoch 23/50\n",
            "63/63 [==============================] - 478s 8s/step - loss: 0.1144 - accuracy: 0.9642 - f1_score: 0.9641 - val_loss: 0.3557 - val_accuracy: 0.9312 - val_f1_score: 0.9322\n",
            "Epoch 24/50\n",
            "63/63 [==============================] - 483s 8s/step - loss: 0.1184 - accuracy: 0.9597 - f1_score: 0.9596 - val_loss: 0.4570 - val_accuracy: 0.9187 - val_f1_score: 0.9176\n",
            "Epoch 25/50\n",
            "63/63 [==============================] - 482s 8s/step - loss: 0.1211 - accuracy: 0.9644 - f1_score: 0.9648 - val_loss: 0.3550 - val_accuracy: 0.9062 - val_f1_score: 0.9014\n",
            "Epoch 26/50\n",
            "63/63 [==============================] - 483s 8s/step - loss: 0.1020 - accuracy: 0.9697 - f1_score: 0.9695 - val_loss: 0.4051 - val_accuracy: 0.9062 - val_f1_score: 0.9052\n",
            "Epoch 27/50\n",
            "63/63 [==============================] - 477s 8s/step - loss: 0.0962 - accuracy: 0.9664 - f1_score: 0.9661 - val_loss: 0.3211 - val_accuracy: 0.9187 - val_f1_score: 0.9185\n",
            "Epoch 28/50\n",
            "63/63 [==============================] - 475s 8s/step - loss: 0.0847 - accuracy: 0.9730 - f1_score: 0.9731 - val_loss: 0.3843 - val_accuracy: 0.9062 - val_f1_score: 0.9097\n",
            "Epoch 29/50\n",
            "63/63 [==============================] - 474s 8s/step - loss: 0.0785 - accuracy: 0.9779 - f1_score: 0.9779 - val_loss: 0.3310 - val_accuracy: 0.9187 - val_f1_score: 0.9172\n",
            "Epoch 30/50\n",
            "63/63 [==============================] - 472s 8s/step - loss: 0.0937 - accuracy: 0.9717 - f1_score: 0.9716 - val_loss: 0.4144 - val_accuracy: 0.9062 - val_f1_score: 0.9038\n",
            "Epoch 31/50\n",
            "63/63 [==============================] - 481s 8s/step - loss: 0.0756 - accuracy: 0.9791 - f1_score: 0.9788 - val_loss: 0.2977 - val_accuracy: 0.9000 - val_f1_score: 0.8995\n",
            "Epoch 32/50\n",
            "63/63 [==============================] - 474s 8s/step - loss: 0.0633 - accuracy: 0.9831 - f1_score: 0.9831 - val_loss: 0.3120 - val_accuracy: 0.9000 - val_f1_score: 0.8975\n",
            "Epoch 33/50\n",
            "63/63 [==============================] - 475s 8s/step - loss: 0.0732 - accuracy: 0.9765 - f1_score: 0.9765 - val_loss: 0.3735 - val_accuracy: 0.9000 - val_f1_score: 0.8995\n",
            "Epoch 34/50\n",
            "63/63 [==============================] - 478s 8s/step - loss: 0.0675 - accuracy: 0.9813 - f1_score: 0.9814 - val_loss: 0.3873 - val_accuracy: 0.8813 - val_f1_score: 0.8799\n",
            "Epoch 35/50\n",
            "63/63 [==============================] - 477s 8s/step - loss: 0.0593 - accuracy: 0.9883 - f1_score: 0.9883 - val_loss: 0.3353 - val_accuracy: 0.9187 - val_f1_score: 0.9193\n",
            "Epoch 36/50\n",
            "63/63 [==============================] - 468s 7s/step - loss: 0.0541 - accuracy: 0.9883 - f1_score: 0.9883 - val_loss: 0.2488 - val_accuracy: 0.9375 - val_f1_score: 0.9366\n",
            "Epoch 37/50\n",
            "63/63 [==============================] - 465s 7s/step - loss: 0.0537 - accuracy: 0.9860 - f1_score: 0.9861 - val_loss: 0.2076 - val_accuracy: 0.9563 - val_f1_score: 0.9576\n",
            "Epoch 38/50\n",
            "63/63 [==============================] - 468s 7s/step - loss: 0.0555 - accuracy: 0.9824 - f1_score: 0.9823 - val_loss: 0.2941 - val_accuracy: 0.9375 - val_f1_score: 0.9377\n",
            "Epoch 39/50\n",
            "63/63 [==============================] - 475s 8s/step - loss: 0.0441 - accuracy: 0.9913 - f1_score: 0.9913 - val_loss: 0.3212 - val_accuracy: 0.9187 - val_f1_score: 0.9234\n",
            "Epoch 40/50\n",
            "63/63 [==============================] - 471s 7s/step - loss: 0.0501 - accuracy: 0.9878 - f1_score: 0.9878 - val_loss: 0.2814 - val_accuracy: 0.9312 - val_f1_score: 0.9308\n",
            "Epoch 41/50\n",
            "63/63 [==============================] - 479s 8s/step - loss: 0.0482 - accuracy: 0.9864 - f1_score: 0.9864 - val_loss: 0.3496 - val_accuracy: 0.9375 - val_f1_score: 0.9374\n",
            "Epoch 42/50\n",
            "63/63 [==============================] - 478s 8s/step - loss: 0.0583 - accuracy: 0.9827 - f1_score: 0.9827 - val_loss: 0.5076 - val_accuracy: 0.9125 - val_f1_score: 0.9080\n",
            "Epoch 43/50\n",
            "63/63 [==============================] - 474s 8s/step - loss: 0.0531 - accuracy: 0.9890 - f1_score: 0.9889 - val_loss: 0.2959 - val_accuracy: 0.9187 - val_f1_score: 0.9186\n",
            "Epoch 44/50\n",
            "63/63 [==============================] - 475s 8s/step - loss: 0.0465 - accuracy: 0.9871 - f1_score: 0.9871 - val_loss: 0.2113 - val_accuracy: 0.9312 - val_f1_score: 0.9305\n",
            "Epoch 45/50\n",
            "63/63 [==============================] - 476s 8s/step - loss: 0.0501 - accuracy: 0.9862 - f1_score: 0.9863 - val_loss: 0.4928 - val_accuracy: 0.8938 - val_f1_score: 0.8879\n",
            "Epoch 46/50\n",
            "63/63 [==============================] - 476s 8s/step - loss: 0.0379 - accuracy: 0.9912 - f1_score: 0.9913 - val_loss: 0.2292 - val_accuracy: 0.9500 - val_f1_score: 0.9492\n",
            "Epoch 47/50\n",
            "63/63 [==============================] - 474s 8s/step - loss: 0.0323 - accuracy: 0.9926 - f1_score: 0.9926 - val_loss: 0.2716 - val_accuracy: 0.9062 - val_f1_score: 0.9078\n",
            "Epoch 48/50\n",
            "63/63 [==============================] - 475s 8s/step - loss: 0.0351 - accuracy: 0.9923 - f1_score: 0.9922 - val_loss: 0.2507 - val_accuracy: 0.9250 - val_f1_score: 0.9241\n",
            "Epoch 49/50\n",
            "63/63 [==============================] - 475s 8s/step - loss: 0.0359 - accuracy: 0.9932 - f1_score: 0.9932 - val_loss: 0.4941 - val_accuracy: 0.9000 - val_f1_score: 0.8961\n",
            "Epoch 50/50\n",
            "63/63 [==============================] - 472s 7s/step - loss: 0.0404 - accuracy: 0.9938 - f1_score: 0.9938 - val_loss: 0.2447 - val_accuracy: 0.9500 - val_f1_score: 0.9496\n"
          ],
          "name": "stdout"
        }
      ]
    },
    {
      "cell_type": "code",
      "metadata": {
        "id": "f1_Nmf0uUhem"
      },
      "source": [
        "from google.colab import files\r\n",
        "import matplotlib.pyplot as plt"
      ],
      "execution_count": 29,
      "outputs": []
    },
    {
      "cell_type": "code",
      "metadata": {
        "colab": {
          "base_uri": "https://localhost:8080/",
          "height": 295
        },
        "id": "fyapsGNkUheo",
        "outputId": "45f820c4-e6e4-450b-f5aa-f6fd6d24c951"
      },
      "source": [
        "plt.plot(model_history_24.history['f1_score'])\r\n",
        "plt.plot(model_history_24.history['val_f1_score'])\r\n",
        "plt.title('model f1_score')\r\n",
        "plt.ylabel('f1_score')\r\n",
        "plt.xlabel('epoch')\r\n",
        "plt.legend(['train', 'test'], loc='upper left')\r\n",
        "plt.show()"
      ],
      "execution_count": 30,
      "outputs": [
        {
          "output_type": "display_data",
          "data": {
            "image/png": "[encoded data removed]",
            "text/plain": [
              "<Figure size 432x288 with 1 Axes>"
            ]
          },
          "metadata": {
            "tags": [],
            "needs_background": "light"
          }
        }
      ]
    },
    {
      "cell_type": "code",
      "metadata": {
        "colab": {
          "base_uri": "https://localhost:8080/",
          "height": 407
        },
        "id": "WDBDckwXUhep",
        "outputId": "504d488a-19e0-4ba6-96f2-0ed368eb81d4"
      },
      "source": [
        "make_predictions(model_24, name_file_submission='modelo_mejorado4_2048_512_1024_256_128_52.csv')"
      ],
      "execution_count": 31,
      "outputs": [
        {
          "output_type": "execute_result",
          "data": {
            "text/html": [
              "<div>\n",
              "<style scoped>\n",
              "    .dataframe tbody tr th:only-of-type {\n",
              "        vertical-align: middle;\n",
              "    }\n",
              "\n",
              "    .dataframe tbody tr th {\n",
              "        vertical-align: top;\n",
              "    }\n",
              "\n",
              "    .dataframe thead th {\n",
              "        text-align: right;\n",
              "    }\n",
              "</style>\n",
              "<table border=\"1\" class=\"dataframe\">\n",
              "  <thead>\n",
              "    <tr style=\"text-align: right;\">\n",
              "      <th></th>\n",
              "      <th>id.jpg</th>\n",
              "      <th>label</th>\n",
              "    </tr>\n",
              "  </thead>\n",
              "  <tbody>\n",
              "    <tr>\n",
              "      <th>0</th>\n",
              "      <td>Broadleaf__5.jpg</td>\n",
              "      <td>0</td>\n",
              "    </tr>\n",
              "    <tr>\n",
              "      <th>1</th>\n",
              "      <td>Forest_CEN_3.jpg</td>\n",
              "      <td>8</td>\n",
              "    </tr>\n",
              "    <tr>\n",
              "      <th>2</th>\n",
              "      <td>Forest_ODB_14.jpg</td>\n",
              "      <td>13</td>\n",
              "    </tr>\n",
              "    <tr>\n",
              "      <th>3</th>\n",
              "      <td>Marine_Wat_11.jpg</td>\n",
              "      <td>18</td>\n",
              "    </tr>\n",
              "    <tr>\n",
              "      <th>4</th>\n",
              "      <td>Forest_DEN_17.jpg</td>\n",
              "      <td>12</td>\n",
              "    </tr>\n",
              "    <tr>\n",
              "      <th>...</th>\n",
              "      <td>...</td>\n",
              "      <td>...</td>\n",
              "    </tr>\n",
              "    <tr>\n",
              "      <th>495</th>\n",
              "      <td>Swamp_add__5.jpg</td>\n",
              "      <td>23</td>\n",
              "    </tr>\n",
              "    <tr>\n",
              "      <th>496</th>\n",
              "      <td>Forest_DDB_7.jpg</td>\n",
              "      <td>9</td>\n",
              "    </tr>\n",
              "    <tr>\n",
              "      <th>497</th>\n",
              "      <td>Forest_CEN.jpg</td>\n",
              "      <td>8</td>\n",
              "    </tr>\n",
              "    <tr>\n",
              "      <th>498</th>\n",
              "      <td>Grassland__16.jpg</td>\n",
              "      <td>17</td>\n",
              "    </tr>\n",
              "    <tr>\n",
              "      <th>499</th>\n",
              "      <td>Forest_DDB_8.jpg</td>\n",
              "      <td>9</td>\n",
              "    </tr>\n",
              "  </tbody>\n",
              "</table>\n",
              "<p>500 rows × 2 columns</p>\n",
              "</div>"
            ],
            "text/plain": [
              "                id.jpg  label\n",
              "0     Broadleaf__5.jpg      0\n",
              "1     Forest_CEN_3.jpg      8\n",
              "2    Forest_ODB_14.jpg     13\n",
              "3    Marine_Wat_11.jpg     18\n",
              "4    Forest_DEN_17.jpg     12\n",
              "..                 ...    ...\n",
              "495   Swamp_add__5.jpg     23\n",
              "496   Forest_DDB_7.jpg      9\n",
              "497     Forest_CEN.jpg      8\n",
              "498  Grassland__16.jpg     17\n",
              "499   Forest_DDB_8.jpg      9\n",
              "\n",
              "[500 rows x 2 columns]"
            ]
          },
          "metadata": {
            "tags": []
          },
          "execution_count": 31
        }
      ]
    },
    {
      "cell_type": "code",
      "metadata": {
        "colab": {
          "base_uri": "https://localhost:8080/",
          "height": 17
        },
        "id": "Ggi3mC7OUheq",
        "outputId": "c9b99279-232a-4641-e786-645d4f97cfee"
      },
      "source": [
        "files.download(\"modelo_mejorado4_2048_512_1024_256_128_52.csv\")"
      ],
      "execution_count": 32,
      "outputs": [
        {
          "output_type": "display_data",
          "data": {
            "application/javascript": [
              "\n",
              "    async function download(id, filename, size) {\n",
              "      if (!google.colab.kernel.accessAllowed) {\n",
              "        return;\n",
              "      }\n",
              "      const div = document.createElement('div');\n",
              "      const label = document.createElement('label');\n",
              "      label.textContent = `Downloading \"${filename}\": `;\n",
              "      div.appendChild(label);\n",
              "      const progress = document.createElement('progress');\n",
              "      progress.max = size;\n",
              "      div.appendChild(progress);\n",
              "      document.body.appendChild(div);\n",
              "\n",
              "      const buffers = [];\n",
              "      let downloaded = 0;\n",
              "\n",
              "      const channel = await google.colab.kernel.comms.open(id);\n",
              "      // Send a message to notify the kernel that we're ready.\n",
              "      channel.send({})\n",
              "\n",
              "      for await (const message of channel.messages) {\n",
              "        // Send a message to notify the kernel that we're ready.\n",
              "        channel.send({})\n",
              "        if (message.buffers) {\n",
              "          for (const buffer of message.buffers) {\n",
              "            buffers.push(buffer);\n",
              "            downloaded += buffer.byteLength;\n",
              "            progress.value = downloaded;\n",
              "          }\n",
              "        }\n",
              "      }\n",
              "      const blob = new Blob(buffers, {type: 'application/binary'});\n",
              "      const a = document.createElement('a');\n",
              "      a.href = window.URL.createObjectURL(blob);\n",
              "      a.download = filename;\n",
              "      div.appendChild(a);\n",
              "      a.click();\n",
              "      div.remove();\n",
              "    }\n",
              "  "
            ],
            "text/plain": [
              "<IPython.core.display.Javascript object>"
            ]
          },
          "metadata": {
            "tags": []
          }
        },
        {
          "output_type": "display_data",
          "data": {
            "application/javascript": [
              "download(\"download_503e9f4e-2619-48ce-976a-28e2c0d8a49a\", \"modelo_mejorado4_2048_512_1024_256_128_52.csv\", 9983)"
            ],
            "text/plain": [
              "<IPython.core.display.Javascript object>"
            ]
          },
          "metadata": {
            "tags": []
          }
        }
      ]
    },
    {
      "cell_type": "code",
      "metadata": {
        "colab": {
          "base_uri": "https://localhost:8080/",
          "height": 162
        },
        "id": "t06E75Q5Uhes",
        "outputId": "80f40a98-a3dd-4424-b5ba-92cda18d7b84"
      },
      "source": [
        "model_24.save('modelo_mejorado4_2048_512_1024_256_128_52')"
      ],
      "execution_count": 6,
      "outputs": [
        {
          "output_type": "error",
          "ename": "NameError",
          "evalue": "ignored",
          "traceback": [
            "\u001b[0;31m---------------------------------------------------------------------------\u001b[0m",
            "\u001b[0;31mNameError\u001b[0m                                 Traceback (most recent call last)",
            "\u001b[0;32m<ipython-input-6-6902b49978ef>\u001b[0m in \u001b[0;36m<module>\u001b[0;34m()\u001b[0m\n\u001b[0;32m----> 1\u001b[0;31m \u001b[0mmodel_24\u001b[0m\u001b[0;34m.\u001b[0m\u001b[0msave\u001b[0m\u001b[0;34m(\u001b[0m\u001b[0;34m'modelo_mejorado4_2048_512_1024_256_128_52'\u001b[0m\u001b[0;34m)\u001b[0m\u001b[0;34m\u001b[0m\u001b[0;34m\u001b[0m\u001b[0m\n\u001b[0m",
            "\u001b[0;31mNameError\u001b[0m: name 'model_24' is not defined"
          ]
        }
      ]
    },
    {
      "cell_type": "code",
      "metadata": {
        "colab": {
          "base_uri": "https://localhost:8080/"
        },
        "id": "5U_NKOVkUhet",
        "outputId": "b5f3f98d-f7fa-40bb-d18f-2d9b21693f3b"
      },
      "source": [
        "! zip -r modelo_mejorado3_2048_512_1024_256_128_52.zip modelo_mejorado4_2048_512_1024_256_128_52"
      ],
      "execution_count": 2,
      "outputs": [
        {
          "output_type": "stream",
          "text": [
            "\tzip warning: name not matched: modelo_mejorado4_2048_512_1024_256_128_52\n",
            "\n",
            "zip error: Nothing to do! (try: zip -r modelo_mejorado3_2048_512_1024_256_128_52.zip . -i modelo_mejorado4_2048_512_1024_256_128_52)\n"
          ],
          "name": "stdout"
        }
      ]
    },
    {
      "cell_type": "code",
      "metadata": {
        "colab": {
          "base_uri": "https://localhost:8080/",
          "height": 162
        },
        "id": "Ru8-XTA0Uheu",
        "outputId": "a19ad473-2f2a-4f59-c1d5-eb20800bf63c"
      },
      "source": [
        "files.download(\"modelo_mejorado4_2048_512_1024_256_128_52.zip\")"
      ],
      "execution_count": 3,
      "outputs": [
        {
          "output_type": "error",
          "ename": "NameError",
          "evalue": "ignored",
          "traceback": [
            "\u001b[0;31m---------------------------------------------------------------------------\u001b[0m",
            "\u001b[0;31mNameError\u001b[0m                                 Traceback (most recent call last)",
            "\u001b[0;32m<ipython-input-3-0ab38ef9fc11>\u001b[0m in \u001b[0;36m<module>\u001b[0;34m()\u001b[0m\n\u001b[0;32m----> 1\u001b[0;31m \u001b[0mfiles\u001b[0m\u001b[0;34m.\u001b[0m\u001b[0mdownload\u001b[0m\u001b[0;34m(\u001b[0m\u001b[0;34m\"modelo_mejorado4_2048_512_1024_256_128_52.zip\"\u001b[0m\u001b[0;34m)\u001b[0m\u001b[0;34m\u001b[0m\u001b[0;34m\u001b[0m\u001b[0m\n\u001b[0m",
            "\u001b[0;31mNameError\u001b[0m: name 'files' is not defined"
          ]
        }
      ]
    },
    {
      "cell_type": "code",
      "metadata": {
        "id": "qsbC1iAEUgh0"
      },
      "source": [
        ""
      ],
      "execution_count": null,
      "outputs": []
    }
  ]
}