{
  "nbformat": 4,
  "nbformat_minor": 0,
  "metadata": {
    "colab": {
      "name": ".ipynb",
      "provenance": [],
      "collapsed_sections": [],
      "toc_visible": true,
      "include_colab_link": true
    },
    "kernelspec": {
      "name": "python3",
      "display_name": "Python 3"
    },
    "accelerator": "TPU"
  },
  "cells": [
    {
      "cell_type": "markdown",
      "metadata": {
        "id": "view-in-github",
        "colab_type": "text"
      },
      "source": [
        "<a href=\"https://colab.research.google.com/github/lucabem/CompeticionMineria/blob/main/adam.ipynb\" target=\"_parent\"><img src=\"https://colab.research.google.com/assets/colab-badge.svg\" alt=\"Open In Colab\"/></a>"
      ]
    },
    {
      "cell_type": "code",
      "metadata": {
        "id": "vU8xsCCH_A3L"
      },
      "source": [
        ""
      ],
      "execution_count": null,
      "outputs": []
    },
    {
      "cell_type": "code",
      "metadata": {
        "id": "bEFpuOSpcBoh"
      },
      "source": [
        "import numpy as np\r\n",
        "import os\r\n",
        "import PIL\r\n",
        "import PIL.Image\r\n",
        "import tensorflow as tf\r\n",
        "import tensorflow_datasets as tfds\r\n",
        "import pathlib"
      ],
      "execution_count": 1,
      "outputs": []
    },
    {
      "cell_type": "code",
      "metadata": {
        "id": "k49BdtS8wx8p"
      },
      "source": [
        "!rm -rf /root/.keras/datasets/*"
      ],
      "execution_count": 2,
      "outputs": []
    },
    {
      "cell_type": "code",
      "metadata": {
        "colab": {
          "base_uri": "https://localhost:8080/"
        },
        "id": "Wh8GCRtdcLYv",
        "outputId": "3abb6876-e7d5-4954-b812-cd66cac3aaaf"
      },
      "source": [
        "dataset_url = 'https://github.com/lucabem/CompeticionMineria/blob/main/data/dataset_images.zip?raw=true'\r\n",
        "data_dir = tf.keras.utils.get_file(origin=dataset_url, \r\n",
        "                                   fname='train_data', \r\n",
        "                                   extract=True)"
      ],
      "execution_count": 3,
      "outputs": [
        {
          "output_type": "stream",
          "text": [
            "Downloading data from https://github.com/lucabem/CompeticionMineria/blob/main/data/dataset_images.zip?raw=true\n",
            "78069760/78067648 [==============================] - 1s 0us/step\n"
          ],
          "name": "stdout"
        }
      ]
    },
    {
      "cell_type": "code",
      "metadata": {
        "colab": {
          "base_uri": "https://localhost:8080/"
        },
        "id": "5yhP8xGwe36X",
        "outputId": "7d6dd92f-c67a-4779-a013-2ee5a9bcaf02"
      },
      "source": [
        "!rm -rf /root/.keras/datasets/train_data.tar.gz /root/.keras/datasets/train_data\r\n",
        "!ls -l /root/.keras/datasets/"
      ],
      "execution_count": 4,
      "outputs": [
        {
          "output_type": "stream",
          "text": [
            "total 24\n",
            "drwxr-xr-x 27 root root  4096 Mar  8 23:03 ImagesTrain\n",
            "drwxr-xr-x  2 root root 20480 Mar  8 23:03 Test\n"
          ],
          "name": "stdout"
        }
      ]
    },
    {
      "cell_type": "code",
      "metadata": {
        "id": "FNAYg6b94G05",
        "colab": {
          "base_uri": "https://localhost:8080/"
        },
        "outputId": "f2b48ba8-55b1-481f-d79c-1b963b6d48bc"
      },
      "source": [
        "train_path = pathlib.Path('/root/.keras/datasets/ImagesTrain')\r\n",
        "image_count = len(list(train_path.glob('*/*.jpg')))\r\n",
        "print(image_count)"
      ],
      "execution_count": 5,
      "outputs": [
        {
          "output_type": "stream",
          "text": [
            "2500\n"
          ],
          "name": "stdout"
        }
      ]
    },
    {
      "cell_type": "code",
      "metadata": {
        "colab": {
          "base_uri": "https://localhost:8080/"
        },
        "id": "UshKAfho5Hwm",
        "outputId": "62a287b4-079f-4ee8-a6e5-5b6ec4cdce7b"
      },
      "source": [
        "test_path = pathlib.Path('/root/.keras/datasets/Test')\r\n",
        "images_test = os.listdir(test_path)\r\n",
        "print(len(images_test))"
      ],
      "execution_count": 6,
      "outputs": [
        {
          "output_type": "stream",
          "text": [
            "500\n"
          ],
          "name": "stdout"
        }
      ]
    },
    {
      "cell_type": "code",
      "metadata": {
        "id": "SifaMI-ahKno"
      },
      "source": [
        "for direct in train_path.iterdir():\r\n",
        "  if direct.is_dir():\r\n",
        "    direct.rename(train_path / direct.name.split(sep='_100')[0])"
      ],
      "execution_count": 7,
      "outputs": []
    },
    {
      "cell_type": "code",
      "metadata": {
        "id": "6FGhnAH-goA-"
      },
      "source": [
        "batch_size = 32\r\n",
        "img_height = 224\r\n",
        "img_width  = 224"
      ],
      "execution_count": 8,
      "outputs": []
    },
    {
      "cell_type": "code",
      "metadata": {
        "id": "ekqQ_EFBcLDp",
        "colab": {
          "base_uri": "https://localhost:8080/"
        },
        "outputId": "c509d4c0-fe76-4814-ea74-8c5fc65f9d53"
      },
      "source": [
        "!pip install tensorflow-addons"
      ],
      "execution_count": 15,
      "outputs": [
        {
          "output_type": "stream",
          "text": [
            "Collecting tensorflow-addons\n",
            "\u001b[?25l  Downloading https://files.pythonhosted.org/packages/74/e3/56d2fe76f0bb7c88ed9b2a6a557e25e83e252aec08f13de34369cd850a0b/tensorflow_addons-0.12.1-cp37-cp37m-manylinux2010_x86_64.whl (703kB)\n",
            "\r\u001b[K     |▌                               | 10kB 15.2MB/s eta 0:00:01\r\u001b[K     |█                               | 20kB 19.9MB/s eta 0:00:01\r\u001b[K     |█▍                              | 30kB 11.0MB/s eta 0:00:01\r\u001b[K     |█▉                              | 40kB 9.0MB/s eta 0:00:01\r\u001b[K     |██▎                             | 51kB 5.5MB/s eta 0:00:01\r\u001b[K     |██▉                             | 61kB 5.0MB/s eta 0:00:01\r\u001b[K     |███▎                            | 71kB 5.6MB/s eta 0:00:01\r\u001b[K     |███▊                            | 81kB 6.0MB/s eta 0:00:01\r\u001b[K     |████▏                           | 92kB 6.2MB/s eta 0:00:01\r\u001b[K     |████▋                           | 102kB 5.2MB/s eta 0:00:01\r\u001b[K     |█████▏                          | 112kB 5.2MB/s eta 0:00:01\r\u001b[K     |█████▋                          | 122kB 5.2MB/s eta 0:00:01\r\u001b[K     |██████                          | 133kB 5.2MB/s eta 0:00:01\r\u001b[K     |██████▌                         | 143kB 5.2MB/s eta 0:00:01\r\u001b[K     |███████                         | 153kB 5.2MB/s eta 0:00:01\r\u001b[K     |███████▌                        | 163kB 5.2MB/s eta 0:00:01\r\u001b[K     |████████                        | 174kB 5.2MB/s eta 0:00:01\r\u001b[K     |████████▍                       | 184kB 5.2MB/s eta 0:00:01\r\u001b[K     |████████▉                       | 194kB 5.2MB/s eta 0:00:01\r\u001b[K     |█████████▎                      | 204kB 5.2MB/s eta 0:00:01\r\u001b[K     |█████████▉                      | 215kB 5.2MB/s eta 0:00:01\r\u001b[K     |██████████▎                     | 225kB 5.2MB/s eta 0:00:01\r\u001b[K     |██████████▊                     | 235kB 5.2MB/s eta 0:00:01\r\u001b[K     |███████████▏                    | 245kB 5.2MB/s eta 0:00:01\r\u001b[K     |███████████▋                    | 256kB 5.2MB/s eta 0:00:01\r\u001b[K     |████████████▏                   | 266kB 5.2MB/s eta 0:00:01\r\u001b[K     |████████████▋                   | 276kB 5.2MB/s eta 0:00:01\r\u001b[K     |█████████████                   | 286kB 5.2MB/s eta 0:00:01\r\u001b[K     |█████████████▌                  | 296kB 5.2MB/s eta 0:00:01\r\u001b[K     |██████████████                  | 307kB 5.2MB/s eta 0:00:01\r\u001b[K     |██████████████▍                 | 317kB 5.2MB/s eta 0:00:01\r\u001b[K     |███████████████                 | 327kB 5.2MB/s eta 0:00:01\r\u001b[K     |███████████████▍                | 337kB 5.2MB/s eta 0:00:01\r\u001b[K     |███████████████▉                | 348kB 5.2MB/s eta 0:00:01\r\u001b[K     |████████████████▎               | 358kB 5.2MB/s eta 0:00:01\r\u001b[K     |████████████████▊               | 368kB 5.2MB/s eta 0:00:01\r\u001b[K     |█████████████████▎              | 378kB 5.2MB/s eta 0:00:01\r\u001b[K     |█████████████████▊              | 389kB 5.2MB/s eta 0:00:01\r\u001b[K     |██████████████████▏             | 399kB 5.2MB/s eta 0:00:01\r\u001b[K     |██████████████████▋             | 409kB 5.2MB/s eta 0:00:01\r\u001b[K     |███████████████████             | 419kB 5.2MB/s eta 0:00:01\r\u001b[K     |███████████████████▋            | 430kB 5.2MB/s eta 0:00:01\r\u001b[K     |████████████████████            | 440kB 5.2MB/s eta 0:00:01\r\u001b[K     |████████████████████▌           | 450kB 5.2MB/s eta 0:00:01\r\u001b[K     |█████████████████████           | 460kB 5.2MB/s eta 0:00:01\r\u001b[K     |█████████████████████▍          | 471kB 5.2MB/s eta 0:00:01\r\u001b[K     |██████████████████████          | 481kB 5.2MB/s eta 0:00:01\r\u001b[K     |██████████████████████▍         | 491kB 5.2MB/s eta 0:00:01\r\u001b[K     |██████████████████████▉         | 501kB 5.2MB/s eta 0:00:01\r\u001b[K     |███████████████████████▎        | 512kB 5.2MB/s eta 0:00:01\r\u001b[K     |███████████████████████▊        | 522kB 5.2MB/s eta 0:00:01\r\u001b[K     |████████████████████████▎       | 532kB 5.2MB/s eta 0:00:01\r\u001b[K     |████████████████████████▊       | 542kB 5.2MB/s eta 0:00:01\r\u001b[K     |█████████████████████████▏      | 552kB 5.2MB/s eta 0:00:01\r\u001b[K     |█████████████████████████▋      | 563kB 5.2MB/s eta 0:00:01\r\u001b[K     |██████████████████████████      | 573kB 5.2MB/s eta 0:00:01\r\u001b[K     |██████████████████████████▋     | 583kB 5.2MB/s eta 0:00:01\r\u001b[K     |███████████████████████████     | 593kB 5.2MB/s eta 0:00:01\r\u001b[K     |███████████████████████████▌    | 604kB 5.2MB/s eta 0:00:01\r\u001b[K     |████████████████████████████    | 614kB 5.2MB/s eta 0:00:01\r\u001b[K     |████████████████████████████▍   | 624kB 5.2MB/s eta 0:00:01\r\u001b[K     |████████████████████████████▉   | 634kB 5.2MB/s eta 0:00:01\r\u001b[K     |█████████████████████████████▍  | 645kB 5.2MB/s eta 0:00:01\r\u001b[K     |█████████████████████████████▉  | 655kB 5.2MB/s eta 0:00:01\r\u001b[K     |██████████████████████████████▎ | 665kB 5.2MB/s eta 0:00:01\r\u001b[K     |██████████████████████████████▊ | 675kB 5.2MB/s eta 0:00:01\r\u001b[K     |███████████████████████████████▏| 686kB 5.2MB/s eta 0:00:01\r\u001b[K     |███████████████████████████████▊| 696kB 5.2MB/s eta 0:00:01\r\u001b[K     |████████████████████████████████| 706kB 5.2MB/s \n",
            "\u001b[?25hRequirement already satisfied: typeguard>=2.7 in /usr/local/lib/python3.7/dist-packages (from tensorflow-addons) (2.7.1)\n",
            "Installing collected packages: tensorflow-addons\n",
            "Successfully installed tensorflow-addons-0.12.1\n"
          ],
          "name": "stdout"
        }
      ]
    },
    {
      "cell_type": "code",
      "metadata": {
        "id": "9z9qUelQn-Vo"
      },
      "source": [
        "from tensorflow.keras.preprocessing.image import ImageDataGenerator"
      ],
      "execution_count": 13,
      "outputs": []
    },
    {
      "cell_type": "code",
      "metadata": {
        "id": "2CUaZwHscHLV"
      },
      "source": [
        "import tensorflow_addons as tfa"
      ],
      "execution_count": 16,
      "outputs": []
    },
    {
      "cell_type": "code",
      "metadata": {
        "id": "ZFXO18bRElwL"
      },
      "source": [
        "from keras.preprocessing.image import ImageDataGenerator  \r\n",
        "from keras.applications import densenet  \r\n",
        "from keras.models import Sequential, Model, load_model  \r\n",
        "from keras.layers import Conv2D, MaxPooling2D  \r\n",
        "from keras.layers import Activation, Dropout, Flatten, Dense  \r\n",
        "from keras.callbacks import EarlyStopping, ReduceLROnPlateau, ModelCheckpoint, Callback  \r\n",
        "from keras import regularizers  \r\n",
        "from keras import backend as K  \r\n",
        "import tensorflow as tf\r\n",
        "keras = tf.keras"
      ],
      "execution_count": 17,
      "outputs": []
    },
    {
      "cell_type": "markdown",
      "metadata": {
        "id": "I3IvE1g4Kyb-"
      },
      "source": [
        "### Data Augmentation"
      ]
    },
    {
      "cell_type": "code",
      "metadata": {
        "id": "qI1zuyeIW7XG"
      },
      "source": [
        "batch_size  = 32\r\n",
        "img_height = 224\r\n",
        "img_width  = 224\r\n",
        "train_path = pathlib.Path('/root/.keras/datasets/ImagesTrain')"
      ],
      "execution_count": 18,
      "outputs": []
    },
    {
      "cell_type": "code",
      "metadata": {
        "id": "47e86f3eT-ZX"
      },
      "source": [
        "import shutil\r\n",
        "import os "
      ],
      "execution_count": 19,
      "outputs": []
    },
    {
      "cell_type": "code",
      "metadata": {
        "id": "BCYAgO1x7Nya"
      },
      "source": [
        "train_ds_gen = ImageDataGenerator(vertical_flip    = True,\r\n",
        "                                  horizontal_flip  = True,\r\n",
        "                                  validation_split = 0.2)"
      ],
      "execution_count": 20,
      "outputs": []
    },
    {
      "cell_type": "code",
      "metadata": {
        "id": "c0Cka5hc9TE4",
        "colab": {
          "base_uri": "https://localhost:8080/"
        },
        "outputId": "292f81d7-86bc-41df-eeeb-5286a814458b"
      },
      "source": [
        "train_data_gen = train_ds_gen.flow_from_directory(batch_size=batch_size,\r\n",
        "                                                  directory=train_path,\r\n",
        "                                                  shuffle=True,\r\n",
        "                                                  target_size=(img_height, img_width),\r\n",
        "                                                  subset='training',\r\n",
        "                                                  class_mode='categorical')"
      ],
      "execution_count": 21,
      "outputs": [
        {
          "output_type": "stream",
          "text": [
            "Found 2000 images belonging to 25 classes.\n"
          ],
          "name": "stdout"
        }
      ]
    },
    {
      "cell_type": "code",
      "metadata": {
        "id": "0ZVgGpkwEWqP",
        "colab": {
          "base_uri": "https://localhost:8080/"
        },
        "outputId": "a2d93f41-a967-452d-8cae-27725a64b0e8"
      },
      "source": [
        "valid_data_gen = train_ds_gen.flow_from_directory(batch_size=batch_size,\r\n",
        "                                                  directory=train_path,\r\n",
        "                                                  shuffle=True,\r\n",
        "                                                  target_size=(img_height, img_width),\r\n",
        "                                                  subset='validation',\r\n",
        "                                                  class_mode='categorical')"
      ],
      "execution_count": 22,
      "outputs": [
        {
          "output_type": "stream",
          "text": [
            "Found 500 images belonging to 25 classes.\n"
          ],
          "name": "stdout"
        }
      ]
    },
    {
      "cell_type": "code",
      "metadata": {
        "id": "DpUN4q-bbnKP",
        "colab": {
          "base_uri": "https://localhost:8080/"
        },
        "outputId": "3546efd9-f641-4fc5-dbef-1776620049ad"
      },
      "source": [
        "test_data_gen = train_ds_gen.flow_from_directory(batch_size=batch_size,\r\n",
        "                                                  directory=train_path,\r\n",
        "                                                  shuffle=True,\r\n",
        "                                                  target_size=(img_height, img_width),\r\n",
        "                                                  class_mode='categorical')"
      ],
      "execution_count": 23,
      "outputs": [
        {
          "output_type": "stream",
          "text": [
            "Found 2500 images belonging to 25 classes.\n"
          ],
          "name": "stdout"
        }
      ]
    },
    {
      "cell_type": "markdown",
      "metadata": {
        "id": "BoUQ3hoHK2tf"
      },
      "source": [
        "### Modelos"
      ]
    },
    {
      "cell_type": "markdown",
      "metadata": {
        "id": "sv40lFlcFE2z"
      },
      "source": [
        "#### Funcion para predecir"
      ]
    },
    {
      "cell_type": "code",
      "metadata": {
        "id": "oOs-NXH4lBQB"
      },
      "source": [
        "batch_size = 68\r\n",
        "img_height = 224\r\n",
        "img_width  = 224\r\n",
        "test_path  = pathlib.Path('/root/.keras/datasets/Test')"
      ],
      "execution_count": 28,
      "outputs": []
    },
    {
      "cell_type": "code",
      "metadata": {
        "id": "6R6hvF4Pk_Fc"
      },
      "source": [
        "# predicting images\r\n",
        "from keras.preprocessing import image\r\n",
        "import numpy as np\r\n",
        "import pandas as pd\r\n",
        "from google.colab import files\r\n",
        "import matplotlib.pyplot as plt\r\n",
        "\r\n",
        "def make_predictions(model_final,\r\n",
        "                     path_test ='/root/.keras/datasets/Test',\r\n",
        "                     name_file_submission = 'submission.csv'):\r\n",
        "\r\n",
        "  images_test = os.listdir(path_test)\r\n",
        "  samples_to_predict = []\r\n",
        "\r\n",
        "  for img in images_test:\r\n",
        "    path_img = os.path.join(path_test, img)\r\n",
        "    img = image.load_img(path_img,\r\n",
        "                        target_size=(img_width, img_height))\r\n",
        "    x = image.img_to_array(img)\r\n",
        "    samples_to_predict.append(x)\r\n",
        "\r\n",
        "  samples_to_predict  = np.array(samples_to_predict)\r\n",
        "  predictions = model_final.predict(samples_to_predict)\r\n",
        "  classes = np.argmax(predictions, axis = 1)\r\n",
        "\r\n",
        "  data = {'id.jpg': images_test, 'label': classes}\r\n",
        "  data = pd.DataFrame(data)\r\n",
        "  data.to_csv(name_file_submission, index = False)\r\n",
        "\r\n",
        "  return data"
      ],
      "execution_count": 27,
      "outputs": []
    },
    {
      "cell_type": "markdown",
      "metadata": {
        "id": "sJi0hanhGbZe"
      },
      "source": [
        "# Modificaciones"
      ]
    },
    {
      "cell_type": "code",
      "metadata": {
        "id": "STPkL6y9Gi1N"
      },
      "source": [
        ""
      ],
      "execution_count": null,
      "outputs": []
    },
    {
      "cell_type": "code",
      "metadata": {
        "id": "dyy-pGh5Gtns"
      },
      "source": [
        "base_model = tf.keras.applications.ResNet50(input_shape = (224, 224, 3), \r\n",
        "                                            classes     = 25,\r\n",
        "                                            include_top  = False)\r\n",
        "\r\n",
        "image_batch, label_batch = next(iter(train_data_gen))\r\n",
        "feature_batch = base_model(image_batch)\r\n",
        "base_model.trainable = False\r\n",
        "\r\n",
        "dense_layer_2048 = Dense(2048, activation='relu')\r\n",
        "dense_layer_512  = Dense(512,  activation='relu')\r\n",
        "dense_layer_1024 = Dense(1024, activation='relu')\r\n",
        "\r\n",
        "conv_1024 = Conv2D(1024, (3,3), activation='relu')\r\n",
        "conv_512  = Conv2D(512, (3,3), activation='relu')\r\n",
        "\r\n",
        "flattern  = Flatten()\r\n",
        "batch_normal = BatchNormalization()\r\n",
        "dropout   = Dropout(0.25)\r\n",
        "\r\n",
        "global_average_layer = tf.keras.layers.GlobalAveragePooling2D()\r\n",
        "prediction_layer = keras.layers.Dense(25, activation='softmax')\r\n",
        "\r\n",
        "model_22 = tf.keras.Sequential([\r\n",
        "  base_model,\r\n",
        "  conv_1024,\r\n",
        "  conv_512,\r\n",
        "  flattern,\r\n",
        "  dense_layer_2048,\r\n",
        "  dropout,\r\n",
        "  dense_layer_512,\r\n",
        "  dropout,\r\n",
        "  dense_layer_1024,\r\n",
        "  prediction_layer\r\n",
        "])"
      ],
      "execution_count": 31,
      "outputs": []
    },
    {
      "cell_type": "code",
      "metadata": {
        "id": "9MAs5ZWyGtnt"
      },
      "source": [
        "opt = tf.keras.optimizers.Adam()\r\n",
        "\r\n",
        "callback = tf.keras.callbacks.EarlyStopping(monitor='f1_score', patience=5)\r\n",
        "\r\n",
        "model_22.compile(loss=\"categorical_crossentropy\",\r\n",
        "              optimizer=opt,\r\n",
        "\t            metrics=[ 'accuracy', tfa.metrics.F1Score(num_classes=25, average='weighted')],\r\n",
        "              )"
      ],
      "execution_count": 32,
      "outputs": []
    },
    {
      "cell_type": "code",
      "metadata": {
        "colab": {
          "base_uri": "https://localhost:8080/",
          "height": 239
        },
        "id": "avybRireGtnu",
        "outputId": "a28d9ceb-771d-4e43-a1b7-7c06b238050e"
      },
      "source": [
        "tf.random.set_seed(2021)\r\n",
        "\r\n",
        "model_history_22 = model_22.fit(  \r\n",
        "    train_data_gen,\r\n",
        "    epochs=50,\r\n",
        "    validation_data=valid_data_gen,\r\n",
        "    validation_steps= valid_data_gen.n // batch_size)"
      ],
      "execution_count": 1,
      "outputs": [
        {
          "output_type": "error",
          "ename": "NameError",
          "evalue": "ignored",
          "traceback": [
            "\u001b[0;31m---------------------------------------------------------------------------\u001b[0m",
            "\u001b[0;31mNameError\u001b[0m                                 Traceback (most recent call last)",
            "\u001b[0;32m<ipython-input-1-21a321b56942>\u001b[0m in \u001b[0;36m<module>\u001b[0;34m()\u001b[0m\n\u001b[0;32m----> 1\u001b[0;31m \u001b[0mtf\u001b[0m\u001b[0;34m.\u001b[0m\u001b[0mrandom\u001b[0m\u001b[0;34m.\u001b[0m\u001b[0mset_seed\u001b[0m\u001b[0;34m(\u001b[0m\u001b[0;36m2021\u001b[0m\u001b[0;34m)\u001b[0m\u001b[0;34m\u001b[0m\u001b[0;34m\u001b[0m\u001b[0m\n\u001b[0m\u001b[1;32m      2\u001b[0m \u001b[0;34m\u001b[0m\u001b[0m\n\u001b[1;32m      3\u001b[0m model_history_22 = model_22.fit(  \n\u001b[1;32m      4\u001b[0m     \u001b[0mtrain_data_gen\u001b[0m\u001b[0;34m,\u001b[0m\u001b[0;34m\u001b[0m\u001b[0;34m\u001b[0m\u001b[0m\n\u001b[1;32m      5\u001b[0m     \u001b[0mepochs\u001b[0m\u001b[0;34m=\u001b[0m\u001b[0;36m50\u001b[0m\u001b[0;34m,\u001b[0m\u001b[0;34m\u001b[0m\u001b[0;34m\u001b[0m\u001b[0m\n",
            "\u001b[0;31mNameError\u001b[0m: name 'tf' is not defined"
          ]
        }
      ]
    },
    {
      "cell_type": "code",
      "metadata": {
        "id": "hrSgBzuGGtny"
      },
      "source": [
        ""
      ],
      "execution_count": null,
      "outputs": []
    },
    {
      "cell_type": "code",
      "metadata": {
        "id": "pPeNVex-Gtnz"
      },
      "source": [
        ""
      ],
      "execution_count": null,
      "outputs": []
    },
    {
      "cell_type": "code",
      "metadata": {
        "colab": {
          "base_uri": "https://localhost:8080/",
          "height": 17
        },
        "id": "NIJthsmVGtn0",
        "outputId": "c6ef664e-1711-4723-99cf-29303c9eedac"
      },
      "source": [
        ""
      ],
      "execution_count": null,
      "outputs": [
        {
          "output_type": "display_data",
          "data": {
            "application/javascript": [
              "\n",
              "    async function download(id, filename, size) {\n",
              "      if (!google.colab.kernel.accessAllowed) {\n",
              "        return;\n",
              "      }\n",
              "      const div = document.createElement('div');\n",
              "      const label = document.createElement('label');\n",
              "      label.textContent = `Downloading \"${filename}\": `;\n",
              "      div.appendChild(label);\n",
              "      const progress = document.createElement('progress');\n",
              "      progress.max = size;\n",
              "      div.appendChild(progress);\n",
              "      document.body.appendChild(div);\n",
              "\n",
              "      const buffers = [];\n",
              "      let downloaded = 0;\n",
              "\n",
              "      const channel = await google.colab.kernel.comms.open(id);\n",
              "      // Send a message to notify the kernel that we're ready.\n",
              "      channel.send({})\n",
              "\n",
              "      for await (const message of channel.messages) {\n",
              "        // Send a message to notify the kernel that we're ready.\n",
              "        channel.send({})\n",
              "        if (message.buffers) {\n",
              "          for (const buffer of message.buffers) {\n",
              "            buffers.push(buffer);\n",
              "            downloaded += buffer.byteLength;\n",
              "            progress.value = downloaded;\n",
              "          }\n",
              "        }\n",
              "      }\n",
              "      const blob = new Blob(buffers, {type: 'application/binary'});\n",
              "      const a = document.createElement('a');\n",
              "      a.href = window.URL.createObjectURL(blob);\n",
              "      a.download = filename;\n",
              "      div.appendChild(a);\n",
              "      a.click();\n",
              "      div.remove();\n",
              "    }\n",
              "  "
            ],
            "text/plain": [
              "<IPython.core.display.Javascript object>"
            ]
          },
          "metadata": {
            "tags": []
          }
        },
        {
          "output_type": "display_data",
          "data": {
            "application/javascript": [
              "download(\"download_ff8ea33b-b529-46e3-9fb8-6a912ec36a49\", \"modelo_mejorado_2048_512_1024_256_128_52.csv\", 9980)"
            ],
            "text/plain": [
              "<IPython.core.display.Javascript object>"
            ]
          },
          "metadata": {
            "tags": []
          }
        }
      ]
    },
    {
      "cell_type": "code",
      "metadata": {
        "id": "RRzx8XKaGtn1"
      },
      "source": [
        ""
      ],
      "execution_count": null,
      "outputs": []
    },
    {
      "cell_type": "code",
      "metadata": {
        "id": "nO1_lWggGtn2"
      },
      "source": [
        ""
      ],
      "execution_count": null,
      "outputs": []
    },
    {
      "cell_type": "code",
      "metadata": {
        "colab": {
          "base_uri": "https://localhost:8080/",
          "height": 34
        },
        "id": "OllKSdGXGtn2",
        "outputId": "c46dc73b-b127-4a02-e396-5e9d96128494"
      },
      "source": [
        ""
      ],
      "execution_count": null,
      "outputs": [
        {
          "output_type": "display_data",
          "data": {
            "application/javascript": [
              "\n",
              "    async function download(id, filename, size) {\n",
              "      if (!google.colab.kernel.accessAllowed) {\n",
              "        return;\n",
              "      }\n",
              "      const div = document.createElement('div');\n",
              "      const label = document.createElement('label');\n",
              "      label.textContent = `Downloading \"${filename}\": `;\n",
              "      div.appendChild(label);\n",
              "      const progress = document.createElement('progress');\n",
              "      progress.max = size;\n",
              "      div.appendChild(progress);\n",
              "      document.body.appendChild(div);\n",
              "\n",
              "      const buffers = [];\n",
              "      let downloaded = 0;\n",
              "\n",
              "      const channel = await google.colab.kernel.comms.open(id);\n",
              "      // Send a message to notify the kernel that we're ready.\n",
              "      channel.send({})\n",
              "\n",
              "      for await (const message of channel.messages) {\n",
              "        // Send a message to notify the kernel that we're ready.\n",
              "        channel.send({})\n",
              "        if (message.buffers) {\n",
              "          for (const buffer of message.buffers) {\n",
              "            buffers.push(buffer);\n",
              "            downloaded += buffer.byteLength;\n",
              "            progress.value = downloaded;\n",
              "          }\n",
              "        }\n",
              "      }\n",
              "      const blob = new Blob(buffers, {type: 'application/binary'});\n",
              "      const a = document.createElement('a');\n",
              "      a.href = window.URL.createObjectURL(blob);\n",
              "      a.download = filename;\n",
              "      div.appendChild(a);\n",
              "      a.click();\n",
              "      div.remove();\n",
              "    }\n",
              "  "
            ],
            "text/plain": [
              "<IPython.core.display.Javascript object>"
            ]
          },
          "metadata": {
            "tags": []
          }
        },
        {
          "output_type": "display_data",
          "data": {
            "application/javascript": [
              "download(\"download_b32631ae-2071-464f-b6fc-f161397d9863\", \"modelo_mejorado_2048_512_1024_256_128_52.zip\", 322354422)"
            ],
            "text/plain": [
              "<IPython.core.display.Javascript object>"
            ]
          },
          "metadata": {
            "tags": []
          }
        }
      ]
    }
  ]
}