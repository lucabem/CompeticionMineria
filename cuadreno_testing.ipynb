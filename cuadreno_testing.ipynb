{
  "nbformat": 4,
  "nbformat_minor": 0,
  "metadata": {
    "colab": {
      "name": "cuadreno_testing.ipynb",
      "provenance": [],
      "authorship_tag": "ABX9TyNalb7FFIeg1FZEgY9m1DGu",
      "include_colab_link": true
    },
    "kernelspec": {
      "name": "python3",
      "display_name": "Python 3"
    }
  },
  "cells": [
    {
      "cell_type": "markdown",
      "metadata": {
        "id": "view-in-github",
        "colab_type": "text"
      },
      "source": [
        "<a href=\"https://colab.research.google.com/github/lucabem/CompeticionMineria/blob/main/cuadreno_testing.ipynb\" target=\"_parent\"><img src=\"https://colab.research.google.com/assets/colab-badge.svg\" alt=\"Open In Colab\"/></a>"
      ]
    },
    {
      "cell_type": "code",
      "metadata": {
        "colab": {
          "base_uri": "https://localhost:8080/"
        },
        "id": "Occ7cXb-D8N8",
        "outputId": "1aeb05b0-4da8-40d6-c7af-fc4a3a91b8c9"
      },
      "source": [
        "print(\"Hola desde el Test 2\")"
      ],
      "execution_count": 2,
      "outputs": [
        {
          "output_type": "stream",
          "text": [
            "Hola desde el Test 2\n"
          ],
          "name": "stdout"
        }
      ]
    }
  ]
}