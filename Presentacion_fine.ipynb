{
  "nbformat": 4,
  "nbformat_minor": 0,
  "metadata": {
    "colab": {
      "name": "Untitled2.ipynb",
      "provenance": [],
      "include_colab_link": true
    },
    "kernelspec": {
      "name": "python3",
      "display_name": "Python 3"
    },
    "language_info": {
      "name": "python"
    }
  },
  "cells": [
    {
      "cell_type": "markdown",
      "metadata": {
        "id": "view-in-github",
        "colab_type": "text"
      },
      "source": [
        "<a href=\"https://colab.research.google.com/github/lucabem/CompeticionMineria/blob/main/Presentacion_fine.ipynb\" target=\"_parent\"><img src=\"https://colab.research.google.com/assets/colab-badge.svg\" alt=\"Open In Colab\"/></a>"
      ]
    },
    {
      "cell_type": "markdown",
      "metadata": {
        "id": "xTQwxDA7rpS5"
      },
      "source": [
        "# Descarga de datos"
      ]
    },
    {
      "cell_type": "code",
      "metadata": {
        "id": "hUiQZoLSrsRS"
      },
      "source": [
        "import numpy as np\n",
        "import os\n",
        "import PIL\n",
        "import PIL.Image\n",
        "import tensorflow as tf\n",
        "import tensorflow_datasets as tfds\n",
        "import pathlib"
      ],
      "execution_count": null,
      "outputs": []
    },
    {
      "cell_type": "code",
      "metadata": {
        "id": "1jgQqYeGrspr"
      },
      "source": [
        "!rm -rf /root/.keras/datasets/*"
      ],
      "execution_count": null,
      "outputs": []
    },
    {
      "cell_type": "code",
      "metadata": {
        "id": "VfQc-c0orswN"
      },
      "source": [
        "dataset_url = 'https://github.com/lucabem/CompeticionMineria/blob/main/data/dataset_images.zip?raw=true'\n",
        "data_dir = tf.keras.utils.get_file(origin=dataset_url, \n",
        "                                   fname='train_data', \n",
        "                                   extract=True)"
      ],
      "execution_count": null,
      "outputs": []
    },
    {
      "cell_type": "code",
      "metadata": {
        "id": "ltoeARF1rs4c"
      },
      "source": [
        "!rm -rf /root/.keras/datasets/train_data.tar.gz /root/.keras/datasets/train_data\n",
        "!ls -l /root/.keras/datasets/"
      ],
      "execution_count": null,
      "outputs": []
    },
    {
      "cell_type": "code",
      "metadata": {
        "id": "cwaG-EBprs9k"
      },
      "source": [
        "train_path = pathlib.Path('/root/.keras/datasets/ImagesTrain')\n",
        "image_count = len(list(train_path.glob('*/*.jpg')))\n",
        "print(image_count)"
      ],
      "execution_count": null,
      "outputs": []
    },
    {
      "cell_type": "code",
      "metadata": {
        "id": "3xUVN_8pr0vz"
      },
      "source": [
        "test_path = pathlib.Path('/root/.keras/datasets/Test')\n",
        "images_test = os.listdir(test_path)\n",
        "print(len(images_test))"
      ],
      "execution_count": null,
      "outputs": []
    },
    {
      "cell_type": "code",
      "metadata": {
        "id": "soxjcgFFr002"
      },
      "source": [
        "for direct in train_path.iterdir():\n",
        "  if direct.is_dir():\n",
        "    direct.rename(train_path / direct.name.split(sep='_100')[0])"
      ],
      "execution_count": null,
      "outputs": []
    },
    {
      "cell_type": "code",
      "metadata": {
        "id": "tZm-R2PCr057"
      },
      "source": [
        "batch_size = 32\n",
        "img_height = 224\n",
        "img_width  = 224"
      ],
      "execution_count": null,
      "outputs": []
    },
    {
      "cell_type": "code",
      "metadata": {
        "id": "RJnmKjkUr1Bb"
      },
      "source": [
        "!pip install tensorflow-addons"
      ],
      "execution_count": null,
      "outputs": []
    },
    {
      "cell_type": "code",
      "metadata": {
        "id": "VvFbAFxTr7yY"
      },
      "source": [
        "from tensorflow.keras.preprocessing.image import ImageDataGenerator"
      ],
      "execution_count": null,
      "outputs": []
    },
    {
      "cell_type": "code",
      "metadata": {
        "id": "PqLqcm2_r744"
      },
      "source": [
        "import tensorflow_addons as tfa"
      ],
      "execution_count": null,
      "outputs": []
    },
    {
      "cell_type": "code",
      "metadata": {
        "id": "hERRVo2Mr8AQ"
      },
      "source": [
        "from keras.preprocessing.image import ImageDataGenerator  \n",
        "from keras.applications import densenet  \n",
        "from keras.models import Sequential, Model, load_model  \n",
        "from keras.layers import Conv2D, MaxPooling2D  \n",
        "from keras.layers import Activation, Dropout, Flatten, Dense  \n",
        "from keras.callbacks import EarlyStopping, ReduceLROnPlateau, ModelCheckpoint, Callback  \n",
        "from keras import regularizers  \n",
        "from keras import backend as K  \n",
        "import tensorflow as tf\n",
        "keras = tf.keras"
      ],
      "execution_count": null,
      "outputs": []
    },
    {
      "cell_type": "markdown",
      "metadata": {
        "id": "rurAoqabrkV0"
      },
      "source": [
        "# Data Augmentation"
      ]
    },
    {
      "cell_type": "code",
      "metadata": {
        "id": "0OjEsS1TsCcr"
      },
      "source": [
        "batch_size  = 32\n",
        "img_height = 224\n",
        "img_width  = 224\n",
        "train_path = pathlib.Path('/root/.keras/datasets/ImagesTrain')"
      ],
      "execution_count": null,
      "outputs": []
    },
    {
      "cell_type": "code",
      "metadata": {
        "id": "8Aj8R_ZgsCh0"
      },
      "source": [
        "import shutil\n",
        "import os"
      ],
      "execution_count": null,
      "outputs": []
    },
    {
      "cell_type": "code",
      "metadata": {
        "id": "UB7awKVMsCkw"
      },
      "source": [
        "train_ds_gen = ImageDataGenerator(vertical_flip    = True,\n",
        "                                  horizontal_flip  = True,\n",
        "                                  validation_split = 0.2)"
      ],
      "execution_count": null,
      "outputs": []
    },
    {
      "cell_type": "code",
      "metadata": {
        "id": "djFLuGCmsCoC"
      },
      "source": [
        "train_data_gen = train_ds_gen.flow_from_directory(batch_size=batch_size,\n",
        "                                                  directory=train_path,\n",
        "                                                  shuffle=True,\n",
        "                                                  target_size=(img_height, img_width),\n",
        "                                                  subset='training',\n",
        "                                                  class_mode='categorical')"
      ],
      "execution_count": null,
      "outputs": []
    },
    {
      "cell_type": "code",
      "metadata": {
        "id": "fLugC-XysCrb"
      },
      "source": [
        "\n",
        "valid_data_gen = train_ds_gen.flow_from_directory(batch_size=batch_size,\n",
        "                                                  directory=train_path,\n",
        "                                                  shuffle=True,\n",
        "                                                  target_size=(img_height, img_width),\n",
        "                                                  subset='validation',\n",
        "                                                  class_mode='categorical')"
      ],
      "execution_count": null,
      "outputs": []
    },
    {
      "cell_type": "code",
      "metadata": {
        "id": "0CQ2hsCKsCtz"
      },
      "source": [
        "test_data_gen = train_ds_gen.flow_from_directory(batch_size=batch_size,\n",
        "                                                  directory=train_path,\n",
        "                                                  shuffle=True,\n",
        "                                                  target_size=(img_height, img_width),\n",
        "                                                  class_mode='categorical')"
      ],
      "execution_count": null,
      "outputs": []
    },
    {
      "cell_type": "markdown",
      "metadata": {
        "id": "FvdEQvcogMwW"
      },
      "source": [
        "# Entrenamiento del modelo"
      ]
    },
    {
      "cell_type": "code",
      "metadata": {
        "id": "STPkL6y9Gi1N"
      },
      "source": [
        "from keras.layers.normalization import BatchNormalization"
      ],
      "execution_count": null,
      "outputs": []
    },
    {
      "cell_type": "code",
      "metadata": {
        "id": "dyy-pGh5Gtns"
      },
      "source": [
        "batch_size = 68\n",
        "base_model = tf.keras.applications.ResNet50(input_shape = (224, 224, 3), \n",
        "                                            classes     = 25,\n",
        "                                            include_top  = False)\n",
        "\n",
        "image_batch, label_batch = next(iter(train_data_gen))\n",
        "feature_batch = base_model(image_batch)\n",
        "base_model.trainable = False\n",
        "\n",
        "dense_layer_2048 = Dense(2048, activation='relu')\n",
        "dense_layer_512  = Dense(512,  activation='relu')\n",
        "dense_layer_1024 = Dense(1024, activation='relu')\n",
        "\n",
        "conv_1024 = Conv2D(1024, (3,3), activation='relu')\n",
        "conv_512  = Conv2D(512, (3,3), activation='relu')\n",
        "\n",
        "flattern  = Flatten()\n",
        "batch_normal = BatchNormalization()\n",
        "dropout   = Dropout(0.25)\n",
        "\n",
        "global_average_layer = tf.keras.layers.GlobalAveragePooling2D()\n",
        "prediction_layer = keras.layers.Dense(25, activation='softmax')\n",
        "\n",
        "model_22 = tf.keras.Sequential([\n",
        "  base_model,\n",
        "  conv_1024,\n",
        "  conv_512,\n",
        "  flattern,\n",
        "  dense_layer_2048,\n",
        "  dropout,\n",
        "  dense_layer_512,\n",
        "  dropout,\n",
        "  dense_layer_1024,\n",
        "  prediction_layer\n",
        "])"
      ],
      "execution_count": null,
      "outputs": []
    },
    {
      "cell_type": "code",
      "metadata": {
        "id": "9MAs5ZWyGtnt"
      },
      "source": [
        "opt = tf.keras.optimizers.Adagrad()\n",
        "\n",
        "callback = tf.keras.callbacks.EarlyStopping(monitor='f1_score', patience=5)\n",
        "\n",
        "model_22.compile(loss=\"categorical_crossentropy\",\n",
        "              optimizer=opt,\n",
        "\t            metrics=[ 'accuracy', tfa.metrics.F1Score(num_classes=25, average='weighted')],\n",
        "              )"
      ],
      "execution_count": null,
      "outputs": []
    },
    {
      "cell_type": "code",
      "metadata": {
        "colab": {
          "base_uri": "https://localhost:8080/"
        },
        "id": "avybRireGtnu",
        "outputId": "c62c6ef0-9840-460c-eb5f-502c53e18509"
      },
      "source": [
        "tf.random.set_seed(2021)\n",
        "\n",
        "model_history_22 = model_22.fit(  \n",
        "    train_data_gen,\n",
        "    epochs=50,\n",
        "    validation_data=valid_data_gen,\n",
        "    validation_steps= valid_data_gen.n // batch_size)"
      ],
      "execution_count": null,
      "outputs": [
        {
          "output_type": "stream",
          "text": [
            "Epoch 1/50\n",
            "63/63 [==============================] - 508s 8s/step - loss: 2.9746 - accuracy: 0.1661 - f1_score: 0.1462 - val_loss: 1.5037 - val_accuracy: 0.6295 - val_f1_score: 0.5928\n",
            "Epoch 2/50\n",
            "63/63 [==============================] - 499s 8s/step - loss: 1.6180 - accuracy: 0.5325 - f1_score: 0.5221 - val_loss: 0.9249 - val_accuracy: 0.7321 - val_f1_score: 0.7271\n",
            "Epoch 3/50\n",
            "63/63 [==============================] - 497s 8s/step - loss: 1.0793 - accuracy: 0.6767 - f1_score: 0.6740 - val_loss: 0.9085 - val_accuracy: 0.7366 - val_f1_score: 0.7339\n",
            "Epoch 4/50\n",
            "63/63 [==============================] - 498s 8s/step - loss: 0.8001 - accuracy: 0.7627 - f1_score: 0.7626 - val_loss: 0.6996 - val_accuracy: 0.7991 - val_f1_score: 0.7967\n",
            "Epoch 5/50\n",
            "63/63 [==============================] - 496s 8s/step - loss: 0.7014 - accuracy: 0.7704 - f1_score: 0.7700 - val_loss: 0.5700 - val_accuracy: 0.8482 - val_f1_score: 0.8477\n",
            "Epoch 6/50\n",
            "63/63 [==============================] - 494s 8s/step - loss: 0.5703 - accuracy: 0.8279 - f1_score: 0.8278 - val_loss: 0.4782 - val_accuracy: 0.8616 - val_f1_score: 0.8620\n",
            "Epoch 7/50\n",
            "63/63 [==============================] - 496s 8s/step - loss: 0.4981 - accuracy: 0.8461 - f1_score: 0.8463 - val_loss: 0.4702 - val_accuracy: 0.8527 - val_f1_score: 0.8517\n",
            "Epoch 8/50\n",
            "63/63 [==============================] - 493s 8s/step - loss: 0.4269 - accuracy: 0.8698 - f1_score: 0.8695 - val_loss: 0.4397 - val_accuracy: 0.8750 - val_f1_score: 0.8734\n",
            "Epoch 9/50\n",
            "63/63 [==============================] - 491s 8s/step - loss: 0.3600 - accuracy: 0.8900 - f1_score: 0.8892 - val_loss: 0.3504 - val_accuracy: 0.9286 - val_f1_score: 0.9288\n",
            "Epoch 10/50\n",
            "63/63 [==============================] - 491s 8s/step - loss: 0.3231 - accuracy: 0.9027 - f1_score: 0.9029 - val_loss: 0.3480 - val_accuracy: 0.8795 - val_f1_score: 0.8761\n",
            "Epoch 11/50\n",
            "63/63 [==============================] - 492s 8s/step - loss: 0.2996 - accuracy: 0.9075 - f1_score: 0.9072 - val_loss: 0.3308 - val_accuracy: 0.8973 - val_f1_score: 0.8953\n",
            "Epoch 12/50\n",
            "63/63 [==============================] - 492s 8s/step - loss: 0.2702 - accuracy: 0.9177 - f1_score: 0.9177 - val_loss: 0.4503 - val_accuracy: 0.8839 - val_f1_score: 0.8844\n",
            "Epoch 13/50\n",
            "63/63 [==============================] - 492s 8s/step - loss: 0.2844 - accuracy: 0.9188 - f1_score: 0.9182 - val_loss: 0.3266 - val_accuracy: 0.8973 - val_f1_score: 0.8963\n",
            "Epoch 14/50\n",
            "63/63 [==============================] - 492s 8s/step - loss: 0.2332 - accuracy: 0.9307 - f1_score: 0.9309 - val_loss: 0.3152 - val_accuracy: 0.9241 - val_f1_score: 0.9235\n",
            "Epoch 15/50\n",
            "63/63 [==============================] - 493s 8s/step - loss: 0.2180 - accuracy: 0.9294 - f1_score: 0.9292 - val_loss: 0.3611 - val_accuracy: 0.9107 - val_f1_score: 0.9109\n",
            "Epoch 16/50\n",
            "63/63 [==============================] - 492s 8s/step - loss: 0.2133 - accuracy: 0.9387 - f1_score: 0.9387 - val_loss: 0.4246 - val_accuracy: 0.8929 - val_f1_score: 0.8917\n",
            "Epoch 17/50\n",
            "63/63 [==============================] - 492s 8s/step - loss: 0.2049 - accuracy: 0.9348 - f1_score: 0.9343 - val_loss: 0.3408 - val_accuracy: 0.9018 - val_f1_score: 0.9001\n",
            "Epoch 18/50\n",
            "63/63 [==============================] - 493s 8s/step - loss: 0.2005 - accuracy: 0.9410 - f1_score: 0.9412 - val_loss: 0.4483 - val_accuracy: 0.8884 - val_f1_score: 0.8885\n",
            "Epoch 19/50\n",
            "63/63 [==============================] - 491s 8s/step - loss: 0.1784 - accuracy: 0.9529 - f1_score: 0.9526 - val_loss: 0.4135 - val_accuracy: 0.9018 - val_f1_score: 0.9007\n",
            "Epoch 20/50\n",
            "63/63 [==============================] - 489s 8s/step - loss: 0.1499 - accuracy: 0.9520 - f1_score: 0.9519 - val_loss: 0.2153 - val_accuracy: 0.9330 - val_f1_score: 0.9321\n",
            "Epoch 21/50\n",
            "63/63 [==============================] - 491s 8s/step - loss: 0.1430 - accuracy: 0.9579 - f1_score: 0.9579 - val_loss: 0.2956 - val_accuracy: 0.9196 - val_f1_score: 0.9180\n",
            "Epoch 22/50\n",
            "63/63 [==============================] - 492s 8s/step - loss: 0.1549 - accuracy: 0.9560 - f1_score: 0.9561 - val_loss: 0.2740 - val_accuracy: 0.9330 - val_f1_score: 0.9328\n",
            "Epoch 23/50\n",
            "63/63 [==============================] - 491s 8s/step - loss: 0.1255 - accuracy: 0.9593 - f1_score: 0.9590 - val_loss: 0.2489 - val_accuracy: 0.9286 - val_f1_score: 0.9281\n",
            "Epoch 24/50\n",
            "63/63 [==============================] - 494s 8s/step - loss: 0.1217 - accuracy: 0.9692 - f1_score: 0.9693 - val_loss: 0.3591 - val_accuracy: 0.9152 - val_f1_score: 0.9164\n",
            "Epoch 25/50\n",
            "63/63 [==============================] - 492s 8s/step - loss: 0.1197 - accuracy: 0.9671 - f1_score: 0.9667 - val_loss: 0.2957 - val_accuracy: 0.9241 - val_f1_score: 0.9246\n",
            "Epoch 26/50\n",
            "63/63 [==============================] - 492s 8s/step - loss: 0.1148 - accuracy: 0.9724 - f1_score: 0.9723 - val_loss: 0.2508 - val_accuracy: 0.9598 - val_f1_score: 0.9597\n",
            "Epoch 27/50\n",
            "63/63 [==============================] - 491s 8s/step - loss: 0.1151 - accuracy: 0.9637 - f1_score: 0.9636 - val_loss: 0.2687 - val_accuracy: 0.9152 - val_f1_score: 0.9143\n",
            "Epoch 28/50\n",
            "63/63 [==============================] - 492s 8s/step - loss: 0.1073 - accuracy: 0.9752 - f1_score: 0.9752 - val_loss: 0.3923 - val_accuracy: 0.9018 - val_f1_score: 0.9002\n",
            "Epoch 29/50\n",
            "63/63 [==============================] - 493s 8s/step - loss: 0.1029 - accuracy: 0.9744 - f1_score: 0.9744 - val_loss: 0.3076 - val_accuracy: 0.9286 - val_f1_score: 0.9279\n",
            "Epoch 30/50\n",
            "63/63 [==============================] - 492s 8s/step - loss: 0.0960 - accuracy: 0.9751 - f1_score: 0.9751 - val_loss: 0.3403 - val_accuracy: 0.9107 - val_f1_score: 0.9085\n",
            "Epoch 31/50\n",
            "63/63 [==============================] - 491s 8s/step - loss: 0.1031 - accuracy: 0.9690 - f1_score: 0.9690 - val_loss: 0.3744 - val_accuracy: 0.9107 - val_f1_score: 0.9099\n",
            "Epoch 32/50\n",
            "63/63 [==============================] - 493s 8s/step - loss: 0.0860 - accuracy: 0.9722 - f1_score: 0.9723 - val_loss: 0.4487 - val_accuracy: 0.8884 - val_f1_score: 0.8891\n",
            "Epoch 33/50\n",
            "63/63 [==============================] - 491s 8s/step - loss: 0.1011 - accuracy: 0.9721 - f1_score: 0.9721 - val_loss: 0.4796 - val_accuracy: 0.8973 - val_f1_score: 0.8986\n",
            "Epoch 34/50\n",
            "63/63 [==============================] - 491s 8s/step - loss: 0.0809 - accuracy: 0.9730 - f1_score: 0.9729 - val_loss: 0.4148 - val_accuracy: 0.9018 - val_f1_score: 0.8998\n",
            "Epoch 35/50\n",
            "63/63 [==============================] - 491s 8s/step - loss: 0.0803 - accuracy: 0.9826 - f1_score: 0.9826 - val_loss: 0.3916 - val_accuracy: 0.8973 - val_f1_score: 0.8971\n",
            "Epoch 36/50\n",
            "63/63 [==============================] - 488s 8s/step - loss: 0.0834 - accuracy: 0.9753 - f1_score: 0.9755 - val_loss: 0.4158 - val_accuracy: 0.9107 - val_f1_score: 0.9095\n",
            "Epoch 37/50\n",
            "63/63 [==============================] - 487s 8s/step - loss: 0.0722 - accuracy: 0.9835 - f1_score: 0.9835 - val_loss: 0.2147 - val_accuracy: 0.9330 - val_f1_score: 0.9328\n",
            "Epoch 38/50\n",
            "63/63 [==============================] - 487s 8s/step - loss: 0.0822 - accuracy: 0.9798 - f1_score: 0.9798 - val_loss: 0.2457 - val_accuracy: 0.9286 - val_f1_score: 0.9281\n",
            "Epoch 39/50\n",
            "63/63 [==============================] - 487s 8s/step - loss: 0.0702 - accuracy: 0.9776 - f1_score: 0.9776 - val_loss: 0.4219 - val_accuracy: 0.9196 - val_f1_score: 0.9193\n",
            "Epoch 40/50\n",
            "63/63 [==============================] - 488s 8s/step - loss: 0.0651 - accuracy: 0.9805 - f1_score: 0.9808 - val_loss: 0.3955 - val_accuracy: 0.9152 - val_f1_score: 0.9146\n",
            "Epoch 41/50\n",
            "63/63 [==============================] - 488s 8s/step - loss: 0.0661 - accuracy: 0.9853 - f1_score: 0.9854 - val_loss: 0.3554 - val_accuracy: 0.9241 - val_f1_score: 0.9236\n",
            "Epoch 42/50\n",
            "63/63 [==============================] - 487s 8s/step - loss: 0.0610 - accuracy: 0.9794 - f1_score: 0.9800 - val_loss: 0.2297 - val_accuracy: 0.9375 - val_f1_score: 0.9383\n",
            "Epoch 43/50\n",
            "63/63 [==============================] - 487s 8s/step - loss: 0.0619 - accuracy: 0.9779 - f1_score: 0.9777 - val_loss: 0.4209 - val_accuracy: 0.9196 - val_f1_score: 0.9190\n",
            "Epoch 44/50\n",
            "63/63 [==============================] - 488s 8s/step - loss: 0.0660 - accuracy: 0.9821 - f1_score: 0.9825 - val_loss: 0.3889 - val_accuracy: 0.9018 - val_f1_score: 0.9019\n",
            "Epoch 45/50\n",
            "63/63 [==============================] - 487s 8s/step - loss: 0.0582 - accuracy: 0.9870 - f1_score: 0.9869 - val_loss: 0.2860 - val_accuracy: 0.9286 - val_f1_score: 0.9288\n",
            "Epoch 46/50\n",
            "63/63 [==============================] - 486s 8s/step - loss: 0.0438 - accuracy: 0.9906 - f1_score: 0.9906 - val_loss: 0.2716 - val_accuracy: 0.9196 - val_f1_score: 0.9201\n",
            "Epoch 47/50\n",
            "63/63 [==============================] - 486s 8s/step - loss: 0.0625 - accuracy: 0.9814 - f1_score: 0.9814 - val_loss: 0.2922 - val_accuracy: 0.9509 - val_f1_score: 0.9509\n",
            "Epoch 48/50\n",
            "63/63 [==============================] - 489s 8s/step - loss: 0.0496 - accuracy: 0.9880 - f1_score: 0.9880 - val_loss: 0.3237 - val_accuracy: 0.9062 - val_f1_score: 0.9072\n",
            "Epoch 49/50\n",
            "63/63 [==============================] - 488s 8s/step - loss: 0.0490 - accuracy: 0.9884 - f1_score: 0.9884 - val_loss: 0.3327 - val_accuracy: 0.9286 - val_f1_score: 0.9290\n",
            "Epoch 50/50\n",
            "63/63 [==============================] - 488s 8s/step - loss: 0.0614 - accuracy: 0.9840 - f1_score: 0.9836 - val_loss: 0.3985 - val_accuracy: 0.9241 - val_f1_score: 0.9257\n"
          ],
          "name": "stdout"
        }
      ]
    },
    {
      "cell_type": "code",
      "metadata": {
        "id": "RNsZwGo3Gtnx"
      },
      "source": [
        "from google.colab import files\n",
        "import matplotlib.pyplot as plt"
      ],
      "execution_count": null,
      "outputs": []
    },
    {
      "cell_type": "code",
      "metadata": {
        "id": "hrSgBzuGGtny",
        "colab": {
          "base_uri": "https://localhost:8080/",
          "height": 295
        },
        "outputId": "13c7be3a-db10-4370-85a7-00ac11728324"
      },
      "source": [
        "plt.plot(model_history_22.history['f1_score'])\n",
        "plt.plot(model_history_22.history['val_f1_score'])\n",
        "plt.title('model f1_score')\n",
        "plt.ylabel('f1_score')\n",
        "plt.xlabel('epoch')\n",
        "plt.legend(['train', 'test'], loc='upper left')\n",
        "plt.show()"
      ],
      "execution_count": null,
      "outputs": [
        {
          "output_type": "display_data",
          "data": {
            "image/png": "[encoded data removed]",
            "text/plain": [
              "<Figure size 432x288 with 1 Axes>"
            ]
          },
          "metadata": {
            "tags": [],
            "needs_background": "light"
          }
        }
      ]
    },
    {
      "cell_type": "code",
      "metadata": {
        "colab": {
          "base_uri": "https://localhost:8080/",
          "height": 407
        },
        "id": "pPeNVex-Gtnz",
        "outputId": "79ef59ff-8370-47be-88a9-00f504feab61"
      },
      "source": [
        "make_predictions(model_22, name_file_submission='modelo_mejorado2_2048_512_1024_256_128_52.csv')"
      ],
      "execution_count": null,
      "outputs": [
        {
          "output_type": "execute_result",
          "data": {
            "text/html": [
              "<div>\n",
              "<style scoped>\n",
              "    .dataframe tbody tr th:only-of-type {\n",
              "        vertical-align: middle;\n",
              "    }\n",
              "\n",
              "    .dataframe tbody tr th {\n",
              "        vertical-align: top;\n",
              "    }\n",
              "\n",
              "    .dataframe thead th {\n",
              "        text-align: right;\n",
              "    }\n",
              "</style>\n",
              "<table border=\"1\" class=\"dataframe\">\n",
              "  <thead>\n",
              "    <tr style=\"text-align: right;\">\n",
              "      <th></th>\n",
              "      <th>id.jpg</th>\n",
              "      <th>label</th>\n",
              "    </tr>\n",
              "  </thead>\n",
              "  <tbody>\n",
              "    <tr>\n",
              "      <th>0</th>\n",
              "      <td>Grassland__10.jpg</td>\n",
              "      <td>17</td>\n",
              "    </tr>\n",
              "    <tr>\n",
              "      <th>1</th>\n",
              "      <td>Open_Shrub_9.jpg</td>\n",
              "      <td>21</td>\n",
              "    </tr>\n",
              "    <tr>\n",
              "      <th>2</th>\n",
              "      <td>Forest_CEN_12.jpg</td>\n",
              "      <td>16</td>\n",
              "    </tr>\n",
              "    <tr>\n",
              "      <th>3</th>\n",
              "      <td>Forest_CEN_15.jpg</td>\n",
              "      <td>8</td>\n",
              "    </tr>\n",
              "    <tr>\n",
              "      <th>4</th>\n",
              "      <td>Forest_OEB_7.jpg</td>\n",
              "      <td>15</td>\n",
              "    </tr>\n",
              "    <tr>\n",
              "      <th>...</th>\n",
              "      <td>...</td>\n",
              "      <td>...</td>\n",
              "    </tr>\n",
              "    <tr>\n",
              "      <th>495</th>\n",
              "      <td>Forest_CDB_7.jpg</td>\n",
              "      <td>11</td>\n",
              "    </tr>\n",
              "    <tr>\n",
              "      <th>496</th>\n",
              "      <td>Open_Shrub_11.jpg</td>\n",
              "      <td>21</td>\n",
              "    </tr>\n",
              "    <tr>\n",
              "      <th>497</th>\n",
              "      <td>Close_Shru_0.jpg</td>\n",
              "      <td>2</td>\n",
              "    </tr>\n",
              "    <tr>\n",
              "      <th>498</th>\n",
              "      <td>Cropland_s_0.jpg</td>\n",
              "      <td>4</td>\n",
              "    </tr>\n",
              "    <tr>\n",
              "      <th>499</th>\n",
              "      <td>Broadleaf__11.jpg</td>\n",
              "      <td>0</td>\n",
              "    </tr>\n",
              "  </tbody>\n",
              "</table>\n",
              "<p>500 rows × 2 columns</p>\n",
              "</div>"
            ],
            "text/plain": [
              "                id.jpg  label\n",
              "0    Grassland__10.jpg     17\n",
              "1     Open_Shrub_9.jpg     21\n",
              "2    Forest_CEN_12.jpg     16\n",
              "3    Forest_CEN_15.jpg      8\n",
              "4     Forest_OEB_7.jpg     15\n",
              "..                 ...    ...\n",
              "495   Forest_CDB_7.jpg     11\n",
              "496  Open_Shrub_11.jpg     21\n",
              "497   Close_Shru_0.jpg      2\n",
              "498   Cropland_s_0.jpg      4\n",
              "499  Broadleaf__11.jpg      0\n",
              "\n",
              "[500 rows x 2 columns]"
            ]
          },
          "metadata": {
            "tags": []
          },
          "execution_count": 30
        }
      ]
    },
    {
      "cell_type": "code",
      "metadata": {
        "colab": {
          "base_uri": "https://localhost:8080/",
          "height": 17
        },
        "id": "NIJthsmVGtn0",
        "outputId": "73333553-b29e-4d0c-da30-7ecdf74132a5"
      },
      "source": [
        "files.download(\"modelo_mejorado2_2048_512_1024_256_128_52.csv\")"
      ],
      "execution_count": null,
      "outputs": [
        {
          "output_type": "display_data",
          "data": {
            "application/javascript": [
              "\n",
              "    async function download(id, filename, size) {\n",
              "      if (!google.colab.kernel.accessAllowed) {\n",
              "        return;\n",
              "      }\n",
              "      const div = document.createElement('div');\n",
              "      const label = document.createElement('label');\n",
              "      label.textContent = `Downloading \"${filename}\": `;\n",
              "      div.appendChild(label);\n",
              "      const progress = document.createElement('progress');\n",
              "      progress.max = size;\n",
              "      div.appendChild(progress);\n",
              "      document.body.appendChild(div);\n",
              "\n",
              "      const buffers = [];\n",
              "      let downloaded = 0;\n",
              "\n",
              "      const channel = await google.colab.kernel.comms.open(id);\n",
              "      // Send a message to notify the kernel that we're ready.\n",
              "      channel.send({})\n",
              "\n",
              "      for await (const message of channel.messages) {\n",
              "        // Send a message to notify the kernel that we're ready.\n",
              "        channel.send({})\n",
              "        if (message.buffers) {\n",
              "          for (const buffer of message.buffers) {\n",
              "            buffers.push(buffer);\n",
              "            downloaded += buffer.byteLength;\n",
              "            progress.value = downloaded;\n",
              "          }\n",
              "        }\n",
              "      }\n",
              "      const blob = new Blob(buffers, {type: 'application/binary'});\n",
              "      const a = document.createElement('a');\n",
              "      a.href = window.URL.createObjectURL(blob);\n",
              "      a.download = filename;\n",
              "      div.appendChild(a);\n",
              "      a.click();\n",
              "      div.remove();\n",
              "    }\n",
              "  "
            ],
            "text/plain": [
              "<IPython.core.display.Javascript object>"
            ]
          },
          "metadata": {
            "tags": []
          }
        },
        {
          "output_type": "display_data",
          "data": {
            "application/javascript": [
              "download(\"download_9056f3bf-006c-422a-801b-c13c2bf70d5d\", \"modelo_mejorado2_2048_512_1024_256_128_52.csv\", 9985)"
            ],
            "text/plain": [
              "<IPython.core.display.Javascript object>"
            ]
          },
          "metadata": {
            "tags": []
          }
        }
      ]
    },
    {
      "cell_type": "code",
      "metadata": {
        "colab": {
          "base_uri": "https://localhost:8080/"
        },
        "id": "RRzx8XKaGtn1",
        "outputId": "b3530c13-daba-49a3-f66c-81d927ee5580"
      },
      "source": [
        "model_22.save('modelo_mejorado2_2048_512_1024_256_128_52')"
      ],
      "execution_count": null,
      "outputs": [
        {
          "output_type": "stream",
          "text": [
            "INFO:tensorflow:Assets written to: modelo_mejorado2_2048_512_1024_256_128_52/assets\n"
          ],
          "name": "stdout"
        }
      ]
    },
    {
      "cell_type": "code",
      "metadata": {
        "colab": {
          "base_uri": "https://localhost:8080/"
        },
        "id": "nO1_lWggGtn2",
        "outputId": "77704f3a-7ca7-4a2a-a06b-bfcc9035df16"
      },
      "source": [
        "! zip -r modelo_mejorado2_2048_512_1024_256_128_52.zip modelo_mejorado2_2048_512_1024_256_128_52"
      ],
      "execution_count": null,
      "outputs": [
        {
          "output_type": "stream",
          "text": [
            "\tzip warning: name not matched: modelo_mejorado2_2048_512_1024_256_128_52\n",
            "\n",
            "zip error: Nothing to do! (try: zip -r modelo_mejorado2_2048_512_1024_256_128_52.zip . -i modelo_mejorado2_2048_512_1024_256_128_52)\n"
          ],
          "name": "stdout"
        }
      ]
    },
    {
      "cell_type": "code",
      "metadata": {
        "colab": {
          "base_uri": "https://localhost:8080/",
          "height": 17
        },
        "id": "OllKSdGXGtn2",
        "outputId": "0b7174fa-bc7d-44a0-c6d9-a173e54629a2"
      },
      "source": [
        "files.download(\"modelo_mejorado2_2048_512_1024_256_128_52.zip\")"
      ],
      "execution_count": null,
      "outputs": [
        {
          "output_type": "display_data",
          "data": {
            "application/javascript": [
              "\n",
              "    async function download(id, filename, size) {\n",
              "      if (!google.colab.kernel.accessAllowed) {\n",
              "        return;\n",
              "      }\n",
              "      const div = document.createElement('div');\n",
              "      const label = document.createElement('label');\n",
              "      label.textContent = `Downloading \"${filename}\": `;\n",
              "      div.appendChild(label);\n",
              "      const progress = document.createElement('progress');\n",
              "      progress.max = size;\n",
              "      div.appendChild(progress);\n",
              "      document.body.appendChild(div);\n",
              "\n",
              "      const buffers = [];\n",
              "      let downloaded = 0;\n",
              "\n",
              "      const channel = await google.colab.kernel.comms.open(id);\n",
              "      // Send a message to notify the kernel that we're ready.\n",
              "      channel.send({})\n",
              "\n",
              "      for await (const message of channel.messages) {\n",
              "        // Send a message to notify the kernel that we're ready.\n",
              "        channel.send({})\n",
              "        if (message.buffers) {\n",
              "          for (const buffer of message.buffers) {\n",
              "            buffers.push(buffer);\n",
              "            downloaded += buffer.byteLength;\n",
              "            progress.value = downloaded;\n",
              "          }\n",
              "        }\n",
              "      }\n",
              "      const blob = new Blob(buffers, {type: 'application/binary'});\n",
              "      const a = document.createElement('a');\n",
              "      a.href = window.URL.createObjectURL(blob);\n",
              "      a.download = filename;\n",
              "      div.appendChild(a);\n",
              "      a.click();\n",
              "      div.remove();\n",
              "    }\n",
              "  "
            ],
            "text/plain": [
              "<IPython.core.display.Javascript object>"
            ]
          },
          "metadata": {
            "tags": []
          }
        },
        {
          "output_type": "display_data",
          "data": {
            "application/javascript": [
              "download(\"download_506a3424-f999-4cb4-8b0e-b687635f4a7f\", \"modelo_mejorado2_2048_512_1024_256_128_52.zip\", 322276247)"
            ],
            "text/plain": [
              "<IPython.core.display.Javascript object>"
            ]
          },
          "metadata": {
            "tags": []
          }
        }
      ]
    },
    {
      "cell_type": "code",
      "metadata": {
        "id": "NC9s17j3bH6z"
      },
      "source": [
        "path_to_model = \"modelo_mejorado2_2048_512_1024_256_128_52/\"\n",
        "model = tf.keras.models.load_model(path_to_model, compile=True, custom_objects={'f1':tfa.metrics.F1Score(num_classes=25, average='weighted')})"
      ],
      "execution_count": null,
      "outputs": []
    },
    {
      "cell_type": "code",
      "metadata": {
        "id": "4Smv07ISuMS_"
      },
      "source": [
        "from keras.callbacks import EarlyStopping, ReduceLROnPlateau, ModelCheckpoint, Callback  \n",
        "\n",
        "checkpointer = ModelCheckpoint(\"resnet50\" +\n",
        "                               \"_ms_transfer_final.\" +\n",
        "                               \"{epoch:02d}-{val_f1_score:.3f}\" +\n",
        "                               \".hdf5\",\n",
        "                               monitor='val_f1_score',\n",
        "                               verbose=1,\n",
        "                               save_best_only=True,\n",
        "                               mode='max')\n",
        "\n",
        "earlystopper = EarlyStopping(monitor='val_f1_score',\n",
        "                             patience=10,\n",
        "                             mode='max')"
      ],
      "execution_count": null,
      "outputs": []
    },
    {
      "cell_type": "code",
      "metadata": {
        "id": "CpuGixzBc3St"
      },
      "source": [
        "opt = tf.keras.optimizers.Adagrad()\n",
        "model.compile(loss=\"categorical_crossentropy\",\n",
        "              optimizer=opt,\n",
        "\t            metrics=[ 'accuracy', tfa.metrics.F1Score(num_classes=25, average='weighted')],\n",
        "              )"
      ],
      "execution_count": null,
      "outputs": []
    },
    {
      "cell_type": "code",
      "metadata": {
        "id": "30az-ATau5A4",
        "colab": {
          "base_uri": "https://localhost:8080/"
        },
        "outputId": "47c9c9a0-0e71-47f7-ec52-ad1bb037321a"
      },
      "source": [
        "tf.random.set_seed(2021)\n",
        "batch_size = 68\n",
        "model_history = model.fit(  \n",
        "    train_data_gen,\n",
        "    epochs=70,\n",
        "    initial_epoch = 50,\n",
        "    validation_data=valid_data_gen,\n",
        "    validation_steps= valid_data_gen.n // batch_size,\n",
        "    callbacks=[checkpointer, earlystopper])"
      ],
      "execution_count": null,
      "outputs": [
        {
          "output_type": "stream",
          "text": [
            "Epoch 51/70\n",
            "63/63 [==============================] - 1790s 28s/step - loss: 1.4564 - accuracy: 0.5659 - f1_score: 0.5622 - val_loss: 2.4387 - val_accuracy: 0.5268 - val_f1_score: 0.4792\n",
            "\n",
            "Epoch 00051: val_f1_score improved from -inf to 0.47919, saving model to resnet50_ms_transfer_final.51-0.479.hdf5\n",
            "Epoch 52/70\n",
            "63/63 [==============================] - 1804s 29s/step - loss: 0.4593 - accuracy: 0.8588 - f1_score: 0.8588 - val_loss: 1.7566 - val_accuracy: 0.5938 - val_f1_score: 0.5827\n",
            "\n",
            "Epoch 00052: val_f1_score improved from 0.47919 to 0.58273, saving model to resnet50_ms_transfer_final.52-0.583.hdf5\n",
            "Epoch 53/70\n",
            "63/63 [==============================] - 1789s 28s/step - loss: 0.2313 - accuracy: 0.9283 - f1_score: 0.9281 - val_loss: 1.7505 - val_accuracy: 0.6384 - val_f1_score: 0.6391\n",
            "\n",
            "Epoch 00053: val_f1_score improved from 0.58273 to 0.63907, saving model to resnet50_ms_transfer_final.53-0.639.hdf5\n",
            "Epoch 54/70\n",
            "63/63 [==============================] - 1814s 29s/step - loss: 0.1858 - accuracy: 0.9464 - f1_score: 0.9465 - val_loss: 0.5841 - val_accuracy: 0.8616 - val_f1_score: 0.8628\n",
            "\n",
            "Epoch 00054: val_f1_score improved from 0.63907 to 0.86284, saving model to resnet50_ms_transfer_final.54-0.863.hdf5\n",
            "Epoch 55/70\n",
            "63/63 [==============================] - 1819s 29s/step - loss: 0.1457 - accuracy: 0.9592 - f1_score: 0.9593 - val_loss: 0.4805 - val_accuracy: 0.8795 - val_f1_score: 0.8773\n",
            "\n",
            "Epoch 00055: val_f1_score improved from 0.86284 to 0.87734, saving model to resnet50_ms_transfer_final.55-0.877.hdf5\n",
            "Epoch 56/70\n",
            "63/63 [==============================] - 1841s 29s/step - loss: 0.1398 - accuracy: 0.9535 - f1_score: 0.9535 - val_loss: 0.4779 - val_accuracy: 0.9018 - val_f1_score: 0.9008\n",
            "\n",
            "Epoch 00056: val_f1_score improved from 0.87734 to 0.90084, saving model to resnet50_ms_transfer_final.56-0.901.hdf5\n",
            "Epoch 57/70\n",
            "63/63 [==============================] - 1841s 29s/step - loss: 0.1037 - accuracy: 0.9665 - f1_score: 0.9665 - val_loss: 0.4726 - val_accuracy: 0.9062 - val_f1_score: 0.9070\n",
            "\n",
            "Epoch 00057: val_f1_score improved from 0.90084 to 0.90696, saving model to resnet50_ms_transfer_final.57-0.907.hdf5\n",
            "Epoch 58/70\n",
            "63/63 [==============================] - 1847s 29s/step - loss: 0.1179 - accuracy: 0.9588 - f1_score: 0.9589 - val_loss: 0.2079 - val_accuracy: 0.9688 - val_f1_score: 0.9683\n",
            "\n",
            "Epoch 00058: val_f1_score improved from 0.90696 to 0.96830, saving model to resnet50_ms_transfer_final.58-0.968.hdf5\n",
            "Epoch 59/70\n",
            "63/63 [==============================] - 1811s 29s/step - loss: 0.0852 - accuracy: 0.9718 - f1_score: 0.9723 - val_loss: 0.4673 - val_accuracy: 0.8884 - val_f1_score: 0.8844\n",
            "\n",
            "Epoch 00059: val_f1_score did not improve from 0.96830\n",
            "Epoch 60/70\n",
            "63/63 [==============================] - 1787s 28s/step - loss: 0.0872 - accuracy: 0.9669 - f1_score: 0.9663 - val_loss: 0.5299 - val_accuracy: 0.9018 - val_f1_score: 0.8989\n",
            "\n",
            "Epoch 00060: val_f1_score did not improve from 0.96830\n",
            "Epoch 61/70\n",
            "63/63 [==============================] - 1786s 28s/step - loss: 0.0609 - accuracy: 0.9760 - f1_score: 0.9760 - val_loss: 0.1834 - val_accuracy: 0.9464 - val_f1_score: 0.9453\n",
            "\n",
            "Epoch 00061: val_f1_score did not improve from 0.96830\n",
            "Epoch 62/70\n",
            "45/63 [====================>.........] - ETA: 8:29 - loss: 0.0492 - accuracy: 0.9838 - f1_score: 0.9839"
          ],
          "name": "stdout"
        }
      ]
    },
    {
      "cell_type": "markdown",
      "metadata": {
        "id": "bN7Xy_bMh9ox"
      },
      "source": [
        "+ épocas (angeles)"
      ]
    },
    {
      "cell_type": "code",
      "metadata": {
        "id": "oOs-NXH4lBQB"
      },
      "source": [
        "batch_size = 32\n",
        "img_height = 224\n",
        "img_width  = 224\n",
        "test_path  = pathlib.Path('/root/.keras/datasets/Test')"
      ],
      "execution_count": null,
      "outputs": []
    },
    {
      "cell_type": "code",
      "metadata": {
        "id": "0eU7oylvES86",
        "colab": {
          "base_uri": "https://localhost:8080/"
        },
        "outputId": "50dc7c13-a9fb-4dd1-af04-f6f372ca7998"
      },
      "source": [
        "from google.colab import drive\n",
        "drive.mount('/content/drive')"
      ],
      "execution_count": null,
      "outputs": [
        {
          "output_type": "stream",
          "text": [
            "Mounted at /content/drive\n"
          ],
          "name": "stdout"
        }
      ]
    },
    {
      "cell_type": "code",
      "metadata": {
        "id": "3CKFU30GEetP"
      },
      "source": [
        "from keras.models import load_model\n",
        "model_cargado = load_model('resnet50_ms_transfer_final.58-0.968.hdf5')"
      ],
      "execution_count": null,
      "outputs": []
    },
    {
      "cell_type": "code",
      "metadata": {
        "id": "6ypm0kZDPbuo",
        "colab": {
          "base_uri": "https://localhost:8080/"
        },
        "outputId": "bc598d9e-10fa-4aff-a068-792a34586992"
      },
      "source": [
        "for layer in model_cargado.layers:\n",
        "   layer.trainable = True\n",
        "\n",
        "\n",
        "for layer in model_cargado.get_layer('resnet50').layers[0:165]:\n",
        "   layer.trainable = False\n",
        "\n",
        "model_cargado.summary()"
      ],
      "execution_count": null,
      "outputs": [
        {
          "output_type": "stream",
          "text": [
            "Model: \"sequential_1\"\n",
            "_________________________________________________________________\n",
            "Layer (type)                 Output Shape              Param #   \n",
            "=================================================================\n",
            "resnet50 (Functional)        (None, 7, 7, 2048)        23587712  \n",
            "_________________________________________________________________\n",
            "conv2d_2 (Conv2D)            (None, 5, 5, 1024)        18875392  \n",
            "_________________________________________________________________\n",
            "conv2d_3 (Conv2D)            (None, 3, 3, 512)         4719104   \n",
            "_________________________________________________________________\n",
            "flatten_1 (Flatten)          (None, 4608)              0         \n",
            "_________________________________________________________________\n",
            "dense_4 (Dense)              (None, 2048)              9439232   \n",
            "_________________________________________________________________\n",
            "dropout_2 (Dropout)          (None, 2048)              0         \n",
            "_________________________________________________________________\n",
            "dense_5 (Dense)              (None, 512)               1049088   \n",
            "_________________________________________________________________\n",
            "dense_6 (Dense)              (None, 1024)              525312    \n",
            "_________________________________________________________________\n",
            "dense_7 (Dense)              (None, 25)                25625     \n",
            "=================================================================\n",
            "Total params: 58,221,465\n",
            "Trainable params: 39,099,417\n",
            "Non-trainable params: 19,122,048\n",
            "_________________________________________________________________\n"
          ],
          "name": "stdout"
        }
      ]
    },
    {
      "cell_type": "code",
      "metadata": {
        "id": "esL09NQ5kZ6P",
        "colab": {
          "base_uri": "https://localhost:8080/"
        },
        "outputId": "4a1675a9-a3e7-400a-a587-59644d760e4f"
      },
      "source": [
        "model_history = model_cargado.fit(  \n",
        "    train_data_gen,\n",
        "    epochs=10,\n",
        "    validation_data=valid_data_gen,\n",
        "    validation_steps= valid_data_gen.n // batch_size)"
      ],
      "execution_count": null,
      "outputs": [
        {
          "output_type": "stream",
          "text": [
            "Epoch 1/10\n",
            " 6/63 [=>............................] - ETA: 24:09 - loss: 0.0389 - accuracy: 0.9896 - f1_score: 0.9896"
          ],
          "name": "stdout"
        }
      ]
    },
    {
      "cell_type": "markdown",
      "metadata": {
        "id": "bHW5kEuMh3ML"
      },
      "source": [
        "+ epocas (luis)"
      ]
    }
  ]
}