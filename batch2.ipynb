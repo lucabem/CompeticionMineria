{
  "nbformat": 4,
  "nbformat_minor": 0,
  "metadata": {
    "colab": {
      "name": ".ipynb",
      "provenance": [],
      "collapsed_sections": [],
      "toc_visible": true,
      "include_colab_link": true
    },
    "kernelspec": {
      "name": "python3",
      "display_name": "Python 3"
    },
    "accelerator": "TPU"
  },
  "cells": [
    {
      "cell_type": "markdown",
      "metadata": {
        "id": "view-in-github",
        "colab_type": "text"
      },
      "source": [
        "<a href=\"https://colab.research.google.com/github/lucabem/CompeticionMineria/blob/main/batch2.ipynb\" target=\"_parent\"><img src=\"https://colab.research.google.com/assets/colab-badge.svg\" alt=\"Open In Colab\"/></a>"
      ]
    },
    {
      "cell_type": "code",
      "metadata": {
        "id": "vU8xsCCH_A3L"
      },
      "source": [
        ""
      ],
      "execution_count": null,
      "outputs": []
    },
    {
      "cell_type": "code",
      "metadata": {
        "id": "bEFpuOSpcBoh"
      },
      "source": [
        "import numpy as np\r\n",
        "import os\r\n",
        "import PIL\r\n",
        "import PIL.Image\r\n",
        "import tensorflow as tf\r\n",
        "import tensorflow_datasets as tfds\r\n",
        "import pathlib"
      ],
      "execution_count": 2,
      "outputs": []
    },
    {
      "cell_type": "code",
      "metadata": {
        "id": "k49BdtS8wx8p"
      },
      "source": [
        "!rm -rf /root/.keras/datasets/*"
      ],
      "execution_count": 4,
      "outputs": []
    },
    {
      "cell_type": "code",
      "metadata": {
        "colab": {
          "base_uri": "https://localhost:8080/"
        },
        "id": "Wh8GCRtdcLYv",
        "outputId": "f100bab0-5004-4639-a371-3ed82d8c1351"
      },
      "source": [
        "dataset_url = 'https://github.com/lucabem/CompeticionMineria/blob/main/data/dataset_images.zip?raw=true'\r\n",
        "data_dir = tf.keras.utils.get_file(origin=dataset_url, \r\n",
        "                                   fname='train_data', \r\n",
        "                                   extract=True)"
      ],
      "execution_count": 5,
      "outputs": [
        {
          "output_type": "stream",
          "text": [
            "Downloading data from https://github.com/lucabem/CompeticionMineria/blob/main/data/dataset_images.zip?raw=true\n",
            "78069760/78067648 [==============================] - 2s 0us/step\n"
          ],
          "name": "stdout"
        }
      ]
    },
    {
      "cell_type": "code",
      "metadata": {
        "colab": {
          "base_uri": "https://localhost:8080/"
        },
        "id": "5yhP8xGwe36X",
        "outputId": "04f5caca-7a3d-48b0-c471-7aad1e396ebe"
      },
      "source": [
        "!rm -rf /root/.keras/datasets/train_data.tar.gz /root/.keras/datasets/train_data\r\n",
        "!ls -l /root/.keras/datasets/"
      ],
      "execution_count": 6,
      "outputs": [
        {
          "output_type": "stream",
          "text": [
            "total 24\n",
            "drwxr-xr-x 27 root root  4096 Mar  9 01:09 ImagesTrain\n",
            "drwxr-xr-x  2 root root 20480 Mar  9 01:09 Test\n"
          ],
          "name": "stdout"
        }
      ]
    },
    {
      "cell_type": "code",
      "metadata": {
        "id": "FNAYg6b94G05",
        "colab": {
          "base_uri": "https://localhost:8080/"
        },
        "outputId": "cac0bf8d-c7e7-4b29-b2c6-19c0a1f946ba"
      },
      "source": [
        "train_path = pathlib.Path('/root/.keras/datasets/ImagesTrain')\r\n",
        "image_count = len(list(train_path.glob('*/*.jpg')))\r\n",
        "print(image_count)"
      ],
      "execution_count": 7,
      "outputs": [
        {
          "output_type": "stream",
          "text": [
            "2500\n"
          ],
          "name": "stdout"
        }
      ]
    },
    {
      "cell_type": "code",
      "metadata": {
        "colab": {
          "base_uri": "https://localhost:8080/"
        },
        "id": "UshKAfho5Hwm",
        "outputId": "d01c1412-c736-42f7-852b-8f2c2cd2b025"
      },
      "source": [
        "test_path = pathlib.Path('/root/.keras/datasets/Test')\r\n",
        "images_test = os.listdir(test_path)\r\n",
        "print(len(images_test))"
      ],
      "execution_count": 8,
      "outputs": [
        {
          "output_type": "stream",
          "text": [
            "500\n"
          ],
          "name": "stdout"
        }
      ]
    },
    {
      "cell_type": "code",
      "metadata": {
        "id": "SifaMI-ahKno"
      },
      "source": [
        "for direct in train_path.iterdir():\r\n",
        "  if direct.is_dir():\r\n",
        "    direct.rename(train_path / direct.name.split(sep='_100')[0])"
      ],
      "execution_count": 9,
      "outputs": []
    },
    {
      "cell_type": "code",
      "metadata": {
        "id": "6FGhnAH-goA-"
      },
      "source": [
        "batch_size = 32\r\n",
        "img_height = 224\r\n",
        "img_width  = 224"
      ],
      "execution_count": 10,
      "outputs": []
    },
    {
      "cell_type": "code",
      "metadata": {
        "id": "ekqQ_EFBcLDp",
        "colab": {
          "base_uri": "https://localhost:8080/"
        },
        "outputId": "b244e7f7-4fd5-4848-c1f3-98fc2b02d8bd"
      },
      "source": [
        "!pip install tensorflow-addons"
      ],
      "execution_count": 11,
      "outputs": [
        {
          "output_type": "stream",
          "text": [
            "Collecting tensorflow-addons\n",
            "\u001b[?25l  Downloading https://files.pythonhosted.org/packages/74/e3/56d2fe76f0bb7c88ed9b2a6a557e25e83e252aec08f13de34369cd850a0b/tensorflow_addons-0.12.1-cp37-cp37m-manylinux2010_x86_64.whl (703kB)\n",
            "\r\u001b[K     |▌                               | 10kB 13.3MB/s eta 0:00:01\r\u001b[K     |█                               | 20kB 18.3MB/s eta 0:00:01\r\u001b[K     |█▍                              | 30kB 9.0MB/s eta 0:00:01\r\u001b[K     |█▉                              | 40kB 9.6MB/s eta 0:00:01\r\u001b[K     |██▎                             | 51kB 5.4MB/s eta 0:00:01\r\u001b[K     |██▉                             | 61kB 5.3MB/s eta 0:00:01\r\u001b[K     |███▎                            | 71kB 6.0MB/s eta 0:00:01\r\u001b[K     |███▊                            | 81kB 6.5MB/s eta 0:00:01\r\u001b[K     |████▏                           | 92kB 6.2MB/s eta 0:00:01\r\u001b[K     |████▋                           | 102kB 5.1MB/s eta 0:00:01\r\u001b[K     |█████▏                          | 112kB 5.1MB/s eta 0:00:01\r\u001b[K     |█████▋                          | 122kB 5.1MB/s eta 0:00:01\r\u001b[K     |██████                          | 133kB 5.1MB/s eta 0:00:01\r\u001b[K     |██████▌                         | 143kB 5.1MB/s eta 0:00:01\r\u001b[K     |███████                         | 153kB 5.1MB/s eta 0:00:01\r\u001b[K     |███████▌                        | 163kB 5.1MB/s eta 0:00:01\r\u001b[K     |████████                        | 174kB 5.1MB/s eta 0:00:01\r\u001b[K     |████████▍                       | 184kB 5.1MB/s eta 0:00:01\r\u001b[K     |████████▉                       | 194kB 5.1MB/s eta 0:00:01\r\u001b[K     |█████████▎                      | 204kB 5.1MB/s eta 0:00:01\r\u001b[K     |█████████▉                      | 215kB 5.1MB/s eta 0:00:01\r\u001b[K     |██████████▎                     | 225kB 5.1MB/s eta 0:00:01\r\u001b[K     |██████████▊                     | 235kB 5.1MB/s eta 0:00:01\r\u001b[K     |███████████▏                    | 245kB 5.1MB/s eta 0:00:01\r\u001b[K     |███████████▋                    | 256kB 5.1MB/s eta 0:00:01\r\u001b[K     |████████████▏                   | 266kB 5.1MB/s eta 0:00:01\r\u001b[K     |████████████▋                   | 276kB 5.1MB/s eta 0:00:01\r\u001b[K     |█████████████                   | 286kB 5.1MB/s eta 0:00:01\r\u001b[K     |█████████████▌                  | 296kB 5.1MB/s eta 0:00:01\r\u001b[K     |██████████████                  | 307kB 5.1MB/s eta 0:00:01\r\u001b[K     |██████████████▍                 | 317kB 5.1MB/s eta 0:00:01\r\u001b[K     |███████████████                 | 327kB 5.1MB/s eta 0:00:01\r\u001b[K     |███████████████▍                | 337kB 5.1MB/s eta 0:00:01\r\u001b[K     |███████████████▉                | 348kB 5.1MB/s eta 0:00:01\r\u001b[K     |████████████████▎               | 358kB 5.1MB/s eta 0:00:01\r\u001b[K     |████████████████▊               | 368kB 5.1MB/s eta 0:00:01\r\u001b[K     |█████████████████▎              | 378kB 5.1MB/s eta 0:00:01\r\u001b[K     |█████████████████▊              | 389kB 5.1MB/s eta 0:00:01\r\u001b[K     |██████████████████▏             | 399kB 5.1MB/s eta 0:00:01\r\u001b[K     |██████████████████▋             | 409kB 5.1MB/s eta 0:00:01\r\u001b[K     |███████████████████             | 419kB 5.1MB/s eta 0:00:01\r\u001b[K     |███████████████████▋            | 430kB 5.1MB/s eta 0:00:01\r\u001b[K     |████████████████████            | 440kB 5.1MB/s eta 0:00:01\r\u001b[K     |████████████████████▌           | 450kB 5.1MB/s eta 0:00:01\r\u001b[K     |█████████████████████           | 460kB 5.1MB/s eta 0:00:01\r\u001b[K     |█████████████████████▍          | 471kB 5.1MB/s eta 0:00:01\r\u001b[K     |██████████████████████          | 481kB 5.1MB/s eta 0:00:01\r\u001b[K     |██████████████████████▍         | 491kB 5.1MB/s eta 0:00:01\r\u001b[K     |██████████████████████▉         | 501kB 5.1MB/s eta 0:00:01\r\u001b[K     |███████████████████████▎        | 512kB 5.1MB/s eta 0:00:01\r\u001b[K     |███████████████████████▊        | 522kB 5.1MB/s eta 0:00:01\r\u001b[K     |████████████████████████▎       | 532kB 5.1MB/s eta 0:00:01\r\u001b[K     |████████████████████████▊       | 542kB 5.1MB/s eta 0:00:01\r\u001b[K     |█████████████████████████▏      | 552kB 5.1MB/s eta 0:00:01\r\u001b[K     |█████████████████████████▋      | 563kB 5.1MB/s eta 0:00:01\r\u001b[K     |██████████████████████████      | 573kB 5.1MB/s eta 0:00:01\r\u001b[K     |██████████████████████████▋     | 583kB 5.1MB/s eta 0:00:01\r\u001b[K     |███████████████████████████     | 593kB 5.1MB/s eta 0:00:01\r\u001b[K     |███████████████████████████▌    | 604kB 5.1MB/s eta 0:00:01\r\u001b[K     |████████████████████████████    | 614kB 5.1MB/s eta 0:00:01\r\u001b[K     |████████████████████████████▍   | 624kB 5.1MB/s eta 0:00:01\r\u001b[K     |████████████████████████████▉   | 634kB 5.1MB/s eta 0:00:01\r\u001b[K     |█████████████████████████████▍  | 645kB 5.1MB/s eta 0:00:01\r\u001b[K     |█████████████████████████████▉  | 655kB 5.1MB/s eta 0:00:01\r\u001b[K     |██████████████████████████████▎ | 665kB 5.1MB/s eta 0:00:01\r\u001b[K     |██████████████████████████████▊ | 675kB 5.1MB/s eta 0:00:01\r\u001b[K     |███████████████████████████████▏| 686kB 5.1MB/s eta 0:00:01\r\u001b[K     |███████████████████████████████▊| 696kB 5.1MB/s eta 0:00:01\r\u001b[K     |████████████████████████████████| 706kB 5.1MB/s \n",
            "\u001b[?25hRequirement already satisfied: typeguard>=2.7 in /usr/local/lib/python3.7/dist-packages (from tensorflow-addons) (2.7.1)\n",
            "Installing collected packages: tensorflow-addons\n",
            "Successfully installed tensorflow-addons-0.12.1\n"
          ],
          "name": "stdout"
        }
      ]
    },
    {
      "cell_type": "code",
      "metadata": {
        "id": "9z9qUelQn-Vo"
      },
      "source": [
        "from tensorflow.keras.preprocessing.image import ImageDataGenerator"
      ],
      "execution_count": 12,
      "outputs": []
    },
    {
      "cell_type": "code",
      "metadata": {
        "id": "2CUaZwHscHLV"
      },
      "source": [
        "import tensorflow_addons as tfa"
      ],
      "execution_count": 13,
      "outputs": []
    },
    {
      "cell_type": "code",
      "metadata": {
        "id": "ZFXO18bRElwL"
      },
      "source": [
        "from keras.preprocessing.image import ImageDataGenerator  \r\n",
        "from keras.applications import densenet  \r\n",
        "from keras.models import Sequential, Model, load_model  \r\n",
        "from keras.layers import Conv2D, MaxPooling2D  \r\n",
        "from keras.layers import Activation, Dropout, Flatten, Dense  \r\n",
        "from keras.callbacks import EarlyStopping, ReduceLROnPlateau, ModelCheckpoint, Callback  \r\n",
        "from keras import regularizers  \r\n",
        "from keras import backend as K  \r\n",
        "import tensorflow as tf\r\n",
        "keras = tf.keras"
      ],
      "execution_count": 14,
      "outputs": []
    },
    {
      "cell_type": "markdown",
      "metadata": {
        "id": "I3IvE1g4Kyb-"
      },
      "source": [
        "### Data Augmentation"
      ]
    },
    {
      "cell_type": "code",
      "metadata": {
        "id": "qI1zuyeIW7XG"
      },
      "source": [
        "batch_size  = 32\r\n",
        "img_height = 224\r\n",
        "img_width  = 224\r\n",
        "train_path = pathlib.Path('/root/.keras/datasets/ImagesTrain')"
      ],
      "execution_count": 15,
      "outputs": []
    },
    {
      "cell_type": "code",
      "metadata": {
        "id": "47e86f3eT-ZX"
      },
      "source": [
        "import shutil\r\n",
        "import os "
      ],
      "execution_count": 16,
      "outputs": []
    },
    {
      "cell_type": "code",
      "metadata": {
        "id": "BCYAgO1x7Nya"
      },
      "source": [
        "train_ds_gen = ImageDataGenerator(vertical_flip    = True,\r\n",
        "                                  horizontal_flip  = True,\r\n",
        "                                  validation_split = 0.2)"
      ],
      "execution_count": 17,
      "outputs": []
    },
    {
      "cell_type": "code",
      "metadata": {
        "id": "c0Cka5hc9TE4",
        "colab": {
          "base_uri": "https://localhost:8080/"
        },
        "outputId": "66fcd98d-31ee-4103-fe64-83bdee2f7f37"
      },
      "source": [
        "train_data_gen = train_ds_gen.flow_from_directory(batch_size=batch_size,\r\n",
        "                                                  directory=train_path,\r\n",
        "                                                  shuffle=True,\r\n",
        "                                                  target_size=(img_height, img_width),\r\n",
        "                                                  subset='training',\r\n",
        "                                                  class_mode='categorical')"
      ],
      "execution_count": 18,
      "outputs": [
        {
          "output_type": "stream",
          "text": [
            "Found 2000 images belonging to 25 classes.\n"
          ],
          "name": "stdout"
        }
      ]
    },
    {
      "cell_type": "code",
      "metadata": {
        "id": "0ZVgGpkwEWqP",
        "colab": {
          "base_uri": "https://localhost:8080/"
        },
        "outputId": "e8d36d5c-1ba0-473f-f93e-8347c6f29832"
      },
      "source": [
        "valid_data_gen = train_ds_gen.flow_from_directory(batch_size=batch_size,\r\n",
        "                                                  directory=train_path,\r\n",
        "                                                  shuffle=True,\r\n",
        "                                                  target_size=(img_height, img_width),\r\n",
        "                                                  subset='validation',\r\n",
        "                                                  class_mode='categorical')"
      ],
      "execution_count": 19,
      "outputs": [
        {
          "output_type": "stream",
          "text": [
            "Found 500 images belonging to 25 classes.\n"
          ],
          "name": "stdout"
        }
      ]
    },
    {
      "cell_type": "code",
      "metadata": {
        "id": "DpUN4q-bbnKP",
        "colab": {
          "base_uri": "https://localhost:8080/"
        },
        "outputId": "b91ca9bf-3a97-4c25-ce8d-de3f2a62c342"
      },
      "source": [
        "test_data_gen = train_ds_gen.flow_from_directory(batch_size=batch_size,\r\n",
        "                                                  directory=train_path,\r\n",
        "                                                  shuffle=True,\r\n",
        "                                                  target_size=(img_height, img_width),\r\n",
        "                                                  class_mode='categorical')"
      ],
      "execution_count": 20,
      "outputs": [
        {
          "output_type": "stream",
          "text": [
            "Found 2500 images belonging to 25 classes.\n"
          ],
          "name": "stdout"
        }
      ]
    },
    {
      "cell_type": "markdown",
      "metadata": {
        "id": "BoUQ3hoHK2tf"
      },
      "source": [
        "### Modelos"
      ]
    },
    {
      "cell_type": "markdown",
      "metadata": {
        "id": "sv40lFlcFE2z"
      },
      "source": [
        "#### Funcion para predecir"
      ]
    },
    {
      "cell_type": "code",
      "metadata": {
        "id": "oOs-NXH4lBQB"
      },
      "source": [
        "batch_size = 68\r\n",
        "img_height = 224\r\n",
        "img_width  = 224\r\n",
        "test_path  = pathlib.Path('/root/.keras/datasets/Test')"
      ],
      "execution_count": 21,
      "outputs": []
    },
    {
      "cell_type": "code",
      "metadata": {
        "id": "6R6hvF4Pk_Fc"
      },
      "source": [
        "# predicting images\r\n",
        "from keras.preprocessing import image\r\n",
        "import numpy as np\r\n",
        "import pandas as pd\r\n",
        "from google.colab import files\r\n",
        "import matplotlib.pyplot as plt\r\n",
        "\r\n",
        "def make_predictions(model_final,\r\n",
        "                     path_test ='/root/.keras/datasets/Test',\r\n",
        "                     name_file_submission = 'submission.csv'):\r\n",
        "\r\n",
        "  images_test = os.listdir(path_test)\r\n",
        "  samples_to_predict = []\r\n",
        "\r\n",
        "  for img in images_test:\r\n",
        "    path_img = os.path.join(path_test, img)\r\n",
        "    img = image.load_img(path_img,\r\n",
        "                        target_size=(img_width, img_height))\r\n",
        "    x = image.img_to_array(img)\r\n",
        "    samples_to_predict.append(x)\r\n",
        "\r\n",
        "  samples_to_predict  = np.array(samples_to_predict)\r\n",
        "  predictions = model_final.predict(samples_to_predict)\r\n",
        "  classes = np.argmax(predictions, axis = 1)\r\n",
        "\r\n",
        "  data = {'id.jpg': images_test, 'label': classes}\r\n",
        "  data = pd.DataFrame(data)\r\n",
        "  data.to_csv(name_file_submission, index = False)\r\n",
        "\r\n",
        "  return data"
      ],
      "execution_count": 22,
      "outputs": []
    },
    {
      "cell_type": "markdown",
      "metadata": {
        "id": "sJi0hanhGbZe"
      },
      "source": [
        "# Modificaciones"
      ]
    },
    {
      "cell_type": "code",
      "metadata": {
        "id": "STPkL6y9Gi1N"
      },
      "source": [
        ""
      ],
      "execution_count": null,
      "outputs": []
    },
    {
      "cell_type": "code",
      "metadata": {
        "id": "dyy-pGh5Gtns"
      },
      "source": [
        "base_model = tf.keras.applications.ResNet50(input_shape = (224, 224, 3), \r\n",
        "                                            classes     = 25,\r\n",
        "                                            include_top  = False)\r\n",
        "\r\n",
        "image_batch, label_batch = next(iter(train_data_gen))\r\n",
        "feature_batch = base_model(image_batch)\r\n",
        "base_model.trainable = False\r\n",
        "\r\n",
        "dense_layer_2048 = Dense(2048, activation='relu')\r\n",
        "dense_layer_512  = Dense(512,  activation='relu')\r\n",
        "dense_layer_1024 = Dense(1024, activation='relu')\r\n",
        "\r\n",
        "conv_1024 = Conv2D(1024, (3,3), activation='relu')\r\n",
        "conv_512  = Conv2D(512, (3,3), activation='relu')\r\n",
        "\r\n",
        "flattern  = Flatten()\r\n",
        "batch_normal = BatchNormalization()\r\n",
        "dropout   = Dropout(0.25)\r\n",
        "\r\n",
        "global_average_layer = tf.keras.layers.GlobalAveragePooling2D()\r\n",
        "prediction_layer = keras.layers.Dense(25, activation='softmax')\r\n",
        "\r\n",
        "model_22 = tf.keras.Sequential([\r\n",
        "  base_model,\r\n",
        "  conv_1024,\r\n",
        "  conv_512,\r\n",
        "  flattern,\r\n",
        "  dense_layer_2048,\r\n",
        "  dropout,\r\n",
        "  dense_layer_512,\r\n",
        "  dropout,\r\n",
        "  dense_layer_1024,\r\n",
        "  prediction_layer\r\n",
        "])"
      ],
      "execution_count": 25,
      "outputs": []
    },
    {
      "cell_type": "code",
      "metadata": {
        "id": "9MAs5ZWyGtnt"
      },
      "source": [
        "opt = tf.keras.optimizers.Adagrad()\r\n",
        "\r\n",
        "callback = tf.keras.callbacks.EarlyStopping(monitor='f1_score', patience=5)\r\n",
        "\r\n",
        "model_22.compile(loss=\"categorical_crossentropy\",\r\n",
        "              optimizer=opt,\r\n",
        "\t            metrics=[ 'accuracy', tfa.metrics.F1Score(num_classes=25, average='weighted')],\r\n",
        "              )"
      ],
      "execution_count": 26,
      "outputs": []
    },
    {
      "cell_type": "code",
      "metadata": {
        "colab": {
          "base_uri": "https://localhost:8080/"
        },
        "id": "avybRireGtnu",
        "outputId": "c62c6ef0-9840-460c-eb5f-502c53e18509"
      },
      "source": [
        "tf.random.set_seed(2021)\r\n",
        "\r\n",
        "model_history_22 = model_22.fit(  \r\n",
        "    train_data_gen,\r\n",
        "    epochs=50,\r\n",
        "    validation_data=valid_data_gen,\r\n",
        "    validation_steps= valid_data_gen.n // batch_size)"
      ],
      "execution_count": 27,
      "outputs": [
        {
          "output_type": "stream",
          "text": [
            "Epoch 1/50\n",
            "63/63 [==============================] - 508s 8s/step - loss: 2.9746 - accuracy: 0.1661 - f1_score: 0.1462 - val_loss: 1.5037 - val_accuracy: 0.6295 - val_f1_score: 0.5928\n",
            "Epoch 2/50\n",
            "63/63 [==============================] - 499s 8s/step - loss: 1.6180 - accuracy: 0.5325 - f1_score: 0.5221 - val_loss: 0.9249 - val_accuracy: 0.7321 - val_f1_score: 0.7271\n",
            "Epoch 3/50\n",
            "63/63 [==============================] - 497s 8s/step - loss: 1.0793 - accuracy: 0.6767 - f1_score: 0.6740 - val_loss: 0.9085 - val_accuracy: 0.7366 - val_f1_score: 0.7339\n",
            "Epoch 4/50\n",
            "63/63 [==============================] - 498s 8s/step - loss: 0.8001 - accuracy: 0.7627 - f1_score: 0.7626 - val_loss: 0.6996 - val_accuracy: 0.7991 - val_f1_score: 0.7967\n",
            "Epoch 5/50\n",
            "63/63 [==============================] - 496s 8s/step - loss: 0.7014 - accuracy: 0.7704 - f1_score: 0.7700 - val_loss: 0.5700 - val_accuracy: 0.8482 - val_f1_score: 0.8477\n",
            "Epoch 6/50\n",
            "63/63 [==============================] - 494s 8s/step - loss: 0.5703 - accuracy: 0.8279 - f1_score: 0.8278 - val_loss: 0.4782 - val_accuracy: 0.8616 - val_f1_score: 0.8620\n",
            "Epoch 7/50\n",
            "63/63 [==============================] - 496s 8s/step - loss: 0.4981 - accuracy: 0.8461 - f1_score: 0.8463 - val_loss: 0.4702 - val_accuracy: 0.8527 - val_f1_score: 0.8517\n",
            "Epoch 8/50\n",
            "63/63 [==============================] - 493s 8s/step - loss: 0.4269 - accuracy: 0.8698 - f1_score: 0.8695 - val_loss: 0.4397 - val_accuracy: 0.8750 - val_f1_score: 0.8734\n",
            "Epoch 9/50\n",
            "63/63 [==============================] - 491s 8s/step - loss: 0.3600 - accuracy: 0.8900 - f1_score: 0.8892 - val_loss: 0.3504 - val_accuracy: 0.9286 - val_f1_score: 0.9288\n",
            "Epoch 10/50\n",
            "63/63 [==============================] - 491s 8s/step - loss: 0.3231 - accuracy: 0.9027 - f1_score: 0.9029 - val_loss: 0.3480 - val_accuracy: 0.8795 - val_f1_score: 0.8761\n",
            "Epoch 11/50\n",
            "63/63 [==============================] - 492s 8s/step - loss: 0.2996 - accuracy: 0.9075 - f1_score: 0.9072 - val_loss: 0.3308 - val_accuracy: 0.8973 - val_f1_score: 0.8953\n",
            "Epoch 12/50\n",
            "63/63 [==============================] - 492s 8s/step - loss: 0.2702 - accuracy: 0.9177 - f1_score: 0.9177 - val_loss: 0.4503 - val_accuracy: 0.8839 - val_f1_score: 0.8844\n",
            "Epoch 13/50\n",
            "63/63 [==============================] - 492s 8s/step - loss: 0.2844 - accuracy: 0.9188 - f1_score: 0.9182 - val_loss: 0.3266 - val_accuracy: 0.8973 - val_f1_score: 0.8963\n",
            "Epoch 14/50\n",
            "63/63 [==============================] - 492s 8s/step - loss: 0.2332 - accuracy: 0.9307 - f1_score: 0.9309 - val_loss: 0.3152 - val_accuracy: 0.9241 - val_f1_score: 0.9235\n",
            "Epoch 15/50\n",
            "63/63 [==============================] - 493s 8s/step - loss: 0.2180 - accuracy: 0.9294 - f1_score: 0.9292 - val_loss: 0.3611 - val_accuracy: 0.9107 - val_f1_score: 0.9109\n",
            "Epoch 16/50\n",
            "63/63 [==============================] - 492s 8s/step - loss: 0.2133 - accuracy: 0.9387 - f1_score: 0.9387 - val_loss: 0.4246 - val_accuracy: 0.8929 - val_f1_score: 0.8917\n",
            "Epoch 17/50\n",
            "63/63 [==============================] - 492s 8s/step - loss: 0.2049 - accuracy: 0.9348 - f1_score: 0.9343 - val_loss: 0.3408 - val_accuracy: 0.9018 - val_f1_score: 0.9001\n",
            "Epoch 18/50\n",
            "63/63 [==============================] - 493s 8s/step - loss: 0.2005 - accuracy: 0.9410 - f1_score: 0.9412 - val_loss: 0.4483 - val_accuracy: 0.8884 - val_f1_score: 0.8885\n",
            "Epoch 19/50\n",
            "63/63 [==============================] - 491s 8s/step - loss: 0.1784 - accuracy: 0.9529 - f1_score: 0.9526 - val_loss: 0.4135 - val_accuracy: 0.9018 - val_f1_score: 0.9007\n",
            "Epoch 20/50\n",
            "63/63 [==============================] - 489s 8s/step - loss: 0.1499 - accuracy: 0.9520 - f1_score: 0.9519 - val_loss: 0.2153 - val_accuracy: 0.9330 - val_f1_score: 0.9321\n",
            "Epoch 21/50\n",
            "63/63 [==============================] - 491s 8s/step - loss: 0.1430 - accuracy: 0.9579 - f1_score: 0.9579 - val_loss: 0.2956 - val_accuracy: 0.9196 - val_f1_score: 0.9180\n",
            "Epoch 22/50\n",
            "63/63 [==============================] - 492s 8s/step - loss: 0.1549 - accuracy: 0.9560 - f1_score: 0.9561 - val_loss: 0.2740 - val_accuracy: 0.9330 - val_f1_score: 0.9328\n",
            "Epoch 23/50\n",
            "63/63 [==============================] - 491s 8s/step - loss: 0.1255 - accuracy: 0.9593 - f1_score: 0.9590 - val_loss: 0.2489 - val_accuracy: 0.9286 - val_f1_score: 0.9281\n",
            "Epoch 24/50\n",
            "63/63 [==============================] - 494s 8s/step - loss: 0.1217 - accuracy: 0.9692 - f1_score: 0.9693 - val_loss: 0.3591 - val_accuracy: 0.9152 - val_f1_score: 0.9164\n",
            "Epoch 25/50\n",
            "63/63 [==============================] - 492s 8s/step - loss: 0.1197 - accuracy: 0.9671 - f1_score: 0.9667 - val_loss: 0.2957 - val_accuracy: 0.9241 - val_f1_score: 0.9246\n",
            "Epoch 26/50\n",
            "63/63 [==============================] - 492s 8s/step - loss: 0.1148 - accuracy: 0.9724 - f1_score: 0.9723 - val_loss: 0.2508 - val_accuracy: 0.9598 - val_f1_score: 0.9597\n",
            "Epoch 27/50\n",
            "63/63 [==============================] - 491s 8s/step - loss: 0.1151 - accuracy: 0.9637 - f1_score: 0.9636 - val_loss: 0.2687 - val_accuracy: 0.9152 - val_f1_score: 0.9143\n",
            "Epoch 28/50\n",
            "63/63 [==============================] - 492s 8s/step - loss: 0.1073 - accuracy: 0.9752 - f1_score: 0.9752 - val_loss: 0.3923 - val_accuracy: 0.9018 - val_f1_score: 0.9002\n",
            "Epoch 29/50\n",
            "63/63 [==============================] - 493s 8s/step - loss: 0.1029 - accuracy: 0.9744 - f1_score: 0.9744 - val_loss: 0.3076 - val_accuracy: 0.9286 - val_f1_score: 0.9279\n",
            "Epoch 30/50\n",
            "63/63 [==============================] - 492s 8s/step - loss: 0.0960 - accuracy: 0.9751 - f1_score: 0.9751 - val_loss: 0.3403 - val_accuracy: 0.9107 - val_f1_score: 0.9085\n",
            "Epoch 31/50\n",
            "63/63 [==============================] - 491s 8s/step - loss: 0.1031 - accuracy: 0.9690 - f1_score: 0.9690 - val_loss: 0.3744 - val_accuracy: 0.9107 - val_f1_score: 0.9099\n",
            "Epoch 32/50\n",
            "63/63 [==============================] - 493s 8s/step - loss: 0.0860 - accuracy: 0.9722 - f1_score: 0.9723 - val_loss: 0.4487 - val_accuracy: 0.8884 - val_f1_score: 0.8891\n",
            "Epoch 33/50\n",
            "63/63 [==============================] - 491s 8s/step - loss: 0.1011 - accuracy: 0.9721 - f1_score: 0.9721 - val_loss: 0.4796 - val_accuracy: 0.8973 - val_f1_score: 0.8986\n",
            "Epoch 34/50\n",
            "63/63 [==============================] - 491s 8s/step - loss: 0.0809 - accuracy: 0.9730 - f1_score: 0.9729 - val_loss: 0.4148 - val_accuracy: 0.9018 - val_f1_score: 0.8998\n",
            "Epoch 35/50\n",
            "63/63 [==============================] - 491s 8s/step - loss: 0.0803 - accuracy: 0.9826 - f1_score: 0.9826 - val_loss: 0.3916 - val_accuracy: 0.8973 - val_f1_score: 0.8971\n",
            "Epoch 36/50\n",
            "63/63 [==============================] - 488s 8s/step - loss: 0.0834 - accuracy: 0.9753 - f1_score: 0.9755 - val_loss: 0.4158 - val_accuracy: 0.9107 - val_f1_score: 0.9095\n",
            "Epoch 37/50\n",
            "63/63 [==============================] - 487s 8s/step - loss: 0.0722 - accuracy: 0.9835 - f1_score: 0.9835 - val_loss: 0.2147 - val_accuracy: 0.9330 - val_f1_score: 0.9328\n",
            "Epoch 38/50\n",
            "63/63 [==============================] - 487s 8s/step - loss: 0.0822 - accuracy: 0.9798 - f1_score: 0.9798 - val_loss: 0.2457 - val_accuracy: 0.9286 - val_f1_score: 0.9281\n",
            "Epoch 39/50\n",
            "63/63 [==============================] - 487s 8s/step - loss: 0.0702 - accuracy: 0.9776 - f1_score: 0.9776 - val_loss: 0.4219 - val_accuracy: 0.9196 - val_f1_score: 0.9193\n",
            "Epoch 40/50\n",
            "63/63 [==============================] - 488s 8s/step - loss: 0.0651 - accuracy: 0.9805 - f1_score: 0.9808 - val_loss: 0.3955 - val_accuracy: 0.9152 - val_f1_score: 0.9146\n",
            "Epoch 41/50\n",
            "63/63 [==============================] - 488s 8s/step - loss: 0.0661 - accuracy: 0.9853 - f1_score: 0.9854 - val_loss: 0.3554 - val_accuracy: 0.9241 - val_f1_score: 0.9236\n",
            "Epoch 42/50\n",
            "63/63 [==============================] - 487s 8s/step - loss: 0.0610 - accuracy: 0.9794 - f1_score: 0.9800 - val_loss: 0.2297 - val_accuracy: 0.9375 - val_f1_score: 0.9383\n",
            "Epoch 43/50\n",
            "63/63 [==============================] - 487s 8s/step - loss: 0.0619 - accuracy: 0.9779 - f1_score: 0.9777 - val_loss: 0.4209 - val_accuracy: 0.9196 - val_f1_score: 0.9190\n",
            "Epoch 44/50\n",
            "63/63 [==============================] - 488s 8s/step - loss: 0.0660 - accuracy: 0.9821 - f1_score: 0.9825 - val_loss: 0.3889 - val_accuracy: 0.9018 - val_f1_score: 0.9019\n",
            "Epoch 45/50\n",
            "63/63 [==============================] - 487s 8s/step - loss: 0.0582 - accuracy: 0.9870 - f1_score: 0.9869 - val_loss: 0.2860 - val_accuracy: 0.9286 - val_f1_score: 0.9288\n",
            "Epoch 46/50\n",
            "63/63 [==============================] - 486s 8s/step - loss: 0.0438 - accuracy: 0.9906 - f1_score: 0.9906 - val_loss: 0.2716 - val_accuracy: 0.9196 - val_f1_score: 0.9201\n",
            "Epoch 47/50\n",
            "63/63 [==============================] - 486s 8s/step - loss: 0.0625 - accuracy: 0.9814 - f1_score: 0.9814 - val_loss: 0.2922 - val_accuracy: 0.9509 - val_f1_score: 0.9509\n",
            "Epoch 48/50\n",
            "63/63 [==============================] - 489s 8s/step - loss: 0.0496 - accuracy: 0.9880 - f1_score: 0.9880 - val_loss: 0.3237 - val_accuracy: 0.9062 - val_f1_score: 0.9072\n",
            "Epoch 49/50\n",
            "63/63 [==============================] - 488s 8s/step - loss: 0.0490 - accuracy: 0.9884 - f1_score: 0.9884 - val_loss: 0.3327 - val_accuracy: 0.9286 - val_f1_score: 0.9290\n",
            "Epoch 50/50\n",
            "63/63 [==============================] - 488s 8s/step - loss: 0.0614 - accuracy: 0.9840 - f1_score: 0.9836 - val_loss: 0.3985 - val_accuracy: 0.9241 - val_f1_score: 0.9257\n"
          ],
          "name": "stdout"
        }
      ]
    },
    {
      "cell_type": "code",
      "metadata": {
        "id": "RNsZwGo3Gtnx"
      },
      "source": [
        "from google.colab import files\r\n",
        "import matplotlib.pyplot as plt"
      ],
      "execution_count": null,
      "outputs": []
    },
    {
      "cell_type": "code",
      "metadata": {
        "id": "hrSgBzuGGtny",
        "colab": {
          "base_uri": "https://localhost:8080/",
          "height": 295
        },
        "outputId": "13c7be3a-db10-4370-85a7-00ac11728324"
      },
      "source": [
        "plt.plot(model_history_22.history['f1_score'])\r\n",
        "plt.plot(model_history_22.history['val_f1_score'])\r\n",
        "plt.title('model f1_score')\r\n",
        "plt.ylabel('f1_score')\r\n",
        "plt.xlabel('epoch')\r\n",
        "plt.legend(['train', 'test'], loc='upper left')\r\n",
        "plt.show()"
      ],
      "execution_count": 28,
      "outputs": [
        {
          "output_type": "display_data",
          "data": {
            "image/png": "[encoded data removed]",
            "text/plain": [
              "<Figure size 432x288 with 1 Axes>"
            ]
          },
          "metadata": {
            "tags": [],
            "needs_background": "light"
          }
        }
      ]
    },
    {
      "cell_type": "code",
      "metadata": {
        "colab": {
          "base_uri": "https://localhost:8080/",
          "height": 407
        },
        "id": "pPeNVex-Gtnz",
        "outputId": "79ef59ff-8370-47be-88a9-00f504feab61"
      },
      "source": [
        "make_predictions(model_22, name_file_submission='modelo_mejorado2_2048_512_1024_256_128_52.csv')"
      ],
      "execution_count": 30,
      "outputs": [
        {
          "output_type": "execute_result",
          "data": {
            "text/html": [
              "<div>\n",
              "<style scoped>\n",
              "    .dataframe tbody tr th:only-of-type {\n",
              "        vertical-align: middle;\n",
              "    }\n",
              "\n",
              "    .dataframe tbody tr th {\n",
              "        vertical-align: top;\n",
              "    }\n",
              "\n",
              "    .dataframe thead th {\n",
              "        text-align: right;\n",
              "    }\n",
              "</style>\n",
              "<table border=\"1\" class=\"dataframe\">\n",
              "  <thead>\n",
              "    <tr style=\"text-align: right;\">\n",
              "      <th></th>\n",
              "      <th>id.jpg</th>\n",
              "      <th>label</th>\n",
              "    </tr>\n",
              "  </thead>\n",
              "  <tbody>\n",
              "    <tr>\n",
              "      <th>0</th>\n",
              "      <td>Grassland__10.jpg</td>\n",
              "      <td>17</td>\n",
              "    </tr>\n",
              "    <tr>\n",
              "      <th>1</th>\n",
              "      <td>Open_Shrub_9.jpg</td>\n",
              "      <td>21</td>\n",
              "    </tr>\n",
              "    <tr>\n",
              "      <th>2</th>\n",
              "      <td>Forest_CEN_12.jpg</td>\n",
              "      <td>16</td>\n",
              "    </tr>\n",
              "    <tr>\n",
              "      <th>3</th>\n",
              "      <td>Forest_CEN_15.jpg</td>\n",
              "      <td>8</td>\n",
              "    </tr>\n",
              "    <tr>\n",
              "      <th>4</th>\n",
              "      <td>Forest_OEB_7.jpg</td>\n",
              "      <td>15</td>\n",
              "    </tr>\n",
              "    <tr>\n",
              "      <th>...</th>\n",
              "      <td>...</td>\n",
              "      <td>...</td>\n",
              "    </tr>\n",
              "    <tr>\n",
              "      <th>495</th>\n",
              "      <td>Forest_CDB_7.jpg</td>\n",
              "      <td>11</td>\n",
              "    </tr>\n",
              "    <tr>\n",
              "      <th>496</th>\n",
              "      <td>Open_Shrub_11.jpg</td>\n",
              "      <td>21</td>\n",
              "    </tr>\n",
              "    <tr>\n",
              "      <th>497</th>\n",
              "      <td>Close_Shru_0.jpg</td>\n",
              "      <td>2</td>\n",
              "    </tr>\n",
              "    <tr>\n",
              "      <th>498</th>\n",
              "      <td>Cropland_s_0.jpg</td>\n",
              "      <td>4</td>\n",
              "    </tr>\n",
              "    <tr>\n",
              "      <th>499</th>\n",
              "      <td>Broadleaf__11.jpg</td>\n",
              "      <td>0</td>\n",
              "    </tr>\n",
              "  </tbody>\n",
              "</table>\n",
              "<p>500 rows × 2 columns</p>\n",
              "</div>"
            ],
            "text/plain": [
              "                id.jpg  label\n",
              "0    Grassland__10.jpg     17\n",
              "1     Open_Shrub_9.jpg     21\n",
              "2    Forest_CEN_12.jpg     16\n",
              "3    Forest_CEN_15.jpg      8\n",
              "4     Forest_OEB_7.jpg     15\n",
              "..                 ...    ...\n",
              "495   Forest_CDB_7.jpg     11\n",
              "496  Open_Shrub_11.jpg     21\n",
              "497   Close_Shru_0.jpg      2\n",
              "498   Cropland_s_0.jpg      4\n",
              "499  Broadleaf__11.jpg      0\n",
              "\n",
              "[500 rows x 2 columns]"
            ]
          },
          "metadata": {
            "tags": []
          },
          "execution_count": 30
        }
      ]
    },
    {
      "cell_type": "code",
      "metadata": {
        "colab": {
          "base_uri": "https://localhost:8080/",
          "height": 17
        },
        "id": "NIJthsmVGtn0",
        "outputId": "73333553-b29e-4d0c-da30-7ecdf74132a5"
      },
      "source": [
        "files.download(\"modelo_mejorado2_2048_512_1024_256_128_52.csv\")"
      ],
      "execution_count": 31,
      "outputs": [
        {
          "output_type": "display_data",
          "data": {
            "application/javascript": [
              "\n",
              "    async function download(id, filename, size) {\n",
              "      if (!google.colab.kernel.accessAllowed) {\n",
              "        return;\n",
              "      }\n",
              "      const div = document.createElement('div');\n",
              "      const label = document.createElement('label');\n",
              "      label.textContent = `Downloading \"${filename}\": `;\n",
              "      div.appendChild(label);\n",
              "      const progress = document.createElement('progress');\n",
              "      progress.max = size;\n",
              "      div.appendChild(progress);\n",
              "      document.body.appendChild(div);\n",
              "\n",
              "      const buffers = [];\n",
              "      let downloaded = 0;\n",
              "\n",
              "      const channel = await google.colab.kernel.comms.open(id);\n",
              "      // Send a message to notify the kernel that we're ready.\n",
              "      channel.send({})\n",
              "\n",
              "      for await (const message of channel.messages) {\n",
              "        // Send a message to notify the kernel that we're ready.\n",
              "        channel.send({})\n",
              "        if (message.buffers) {\n",
              "          for (const buffer of message.buffers) {\n",
              "            buffers.push(buffer);\n",
              "            downloaded += buffer.byteLength;\n",
              "            progress.value = downloaded;\n",
              "          }\n",
              "        }\n",
              "      }\n",
              "      const blob = new Blob(buffers, {type: 'application/binary'});\n",
              "      const a = document.createElement('a');\n",
              "      a.href = window.URL.createObjectURL(blob);\n",
              "      a.download = filename;\n",
              "      div.appendChild(a);\n",
              "      a.click();\n",
              "      div.remove();\n",
              "    }\n",
              "  "
            ],
            "text/plain": [
              "<IPython.core.display.Javascript object>"
            ]
          },
          "metadata": {
            "tags": []
          }
        },
        {
          "output_type": "display_data",
          "data": {
            "application/javascript": [
              "download(\"download_9056f3bf-006c-422a-801b-c13c2bf70d5d\", \"modelo_mejorado2_2048_512_1024_256_128_52.csv\", 9985)"
            ],
            "text/plain": [
              "<IPython.core.display.Javascript object>"
            ]
          },
          "metadata": {
            "tags": []
          }
        }
      ]
    },
    {
      "cell_type": "code",
      "metadata": {
        "colab": {
          "base_uri": "https://localhost:8080/"
        },
        "id": "RRzx8XKaGtn1",
        "outputId": "b3530c13-daba-49a3-f66c-81d927ee5580"
      },
      "source": [
        "model_22.save('modelo_mejorado2_2048_512_1024_256_128_52')"
      ],
      "execution_count": 33,
      "outputs": [
        {
          "output_type": "stream",
          "text": [
            "INFO:tensorflow:Assets written to: modelo_mejorado2_2048_512_1024_256_128_52/assets\n"
          ],
          "name": "stdout"
        }
      ]
    },
    {
      "cell_type": "code",
      "metadata": {
        "colab": {
          "base_uri": "https://localhost:8080/"
        },
        "id": "nO1_lWggGtn2",
        "outputId": "bb8a7a95-9f78-454e-c4a6-5585e770f7bd"
      },
      "source": [
        "! zip -r modelo_mejorado2_2048_512_1024_256_128_52.zip modelo_mejorado2_2048_512_1024_256_128_52"
      ],
      "execution_count": 35,
      "outputs": [
        {
          "output_type": "stream",
          "text": [
            "  adding: modelo_mejorado2_2048_512_1024_256_128_52/ (stored 0%)\n",
            "  adding: modelo_mejorado2_2048_512_1024_256_128_52/assets/ (stored 0%)\n",
            "  adding: modelo_mejorado2_2048_512_1024_256_128_52/variables/ (stored 0%)\n",
            "  adding: modelo_mejorado2_2048_512_1024_256_128_52/variables/variables.data-00000-of-00001 (deflated 13%)\n",
            "  adding: modelo_mejorado2_2048_512_1024_256_128_52/variables/variables.index (deflated 78%)\n",
            "  adding: modelo_mejorado2_2048_512_1024_256_128_52/saved_model.pb (deflated 93%)\n"
          ],
          "name": "stdout"
        }
      ]
    },
    {
      "cell_type": "code",
      "metadata": {
        "colab": {
          "base_uri": "https://localhost:8080/",
          "height": 17
        },
        "id": "OllKSdGXGtn2",
        "outputId": "0b7174fa-bc7d-44a0-c6d9-a173e54629a2"
      },
      "source": [
        "files.download(\"modelo_mejorado2_2048_512_1024_256_128_52.zip\")"
      ],
      "execution_count": 36,
      "outputs": [
        {
          "output_type": "display_data",
          "data": {
            "application/javascript": [
              "\n",
              "    async function download(id, filename, size) {\n",
              "      if (!google.colab.kernel.accessAllowed) {\n",
              "        return;\n",
              "      }\n",
              "      const div = document.createElement('div');\n",
              "      const label = document.createElement('label');\n",
              "      label.textContent = `Downloading \"${filename}\": `;\n",
              "      div.appendChild(label);\n",
              "      const progress = document.createElement('progress');\n",
              "      progress.max = size;\n",
              "      div.appendChild(progress);\n",
              "      document.body.appendChild(div);\n",
              "\n",
              "      const buffers = [];\n",
              "      let downloaded = 0;\n",
              "\n",
              "      const channel = await google.colab.kernel.comms.open(id);\n",
              "      // Send a message to notify the kernel that we're ready.\n",
              "      channel.send({})\n",
              "\n",
              "      for await (const message of channel.messages) {\n",
              "        // Send a message to notify the kernel that we're ready.\n",
              "        channel.send({})\n",
              "        if (message.buffers) {\n",
              "          for (const buffer of message.buffers) {\n",
              "            buffers.push(buffer);\n",
              "            downloaded += buffer.byteLength;\n",
              "            progress.value = downloaded;\n",
              "          }\n",
              "        }\n",
              "      }\n",
              "      const blob = new Blob(buffers, {type: 'application/binary'});\n",
              "      const a = document.createElement('a');\n",
              "      a.href = window.URL.createObjectURL(blob);\n",
              "      a.download = filename;\n",
              "      div.appendChild(a);\n",
              "      a.click();\n",
              "      div.remove();\n",
              "    }\n",
              "  "
            ],
            "text/plain": [
              "<IPython.core.display.Javascript object>"
            ]
          },
          "metadata": {
            "tags": []
          }
        },
        {
          "output_type": "display_data",
          "data": {
            "application/javascript": [
              "download(\"download_506a3424-f999-4cb4-8b0e-b687635f4a7f\", \"modelo_mejorado2_2048_512_1024_256_128_52.zip\", 322276247)"
            ],
            "text/plain": [
              "<IPython.core.display.Javascript object>"
            ]
          },
          "metadata": {
            "tags": []
          }
        }
      ]
    },
    {
      "cell_type": "code",
      "metadata": {
        "id": "_HJiLWMcUgrN"
      },
      "source": [
        "batch_size2 = 100\r\n"
      ],
      "execution_count": 37,
      "outputs": []
    },
    {
      "cell_type": "code",
      "metadata": {
        "id": "MjI3zNnXUhef"
      },
      "source": [
        "base_model = tf.keras.applications.ResNet50(input_shape = (224, 224, 3), \r\n",
        "                                            classes     = 25,\r\n",
        "                                            include_top  = False)\r\n",
        "\r\n",
        "image_batch, label_batch = next(iter(train_data_gen))\r\n",
        "feature_batch = base_model(image_batch)\r\n",
        "base_model.trainable = False\r\n",
        "\r\n",
        "dense_layer_2048 = Dense(2048, activation='relu')\r\n",
        "dense_layer_1024 = Dense(1024, activation='relu')\r\n",
        "dense_layer_512  = Dense(512,  activation='relu')\r\n",
        "\r\n",
        "conv_1024 = Conv2D(1024, (3,3), activation='relu')\r\n",
        "conv_512  = Conv2D(512, (3,3), activation='relu')\r\n",
        "\r\n",
        "flattern  = Flatten()\r\n",
        "batch_normal = BatchNormalization()\r\n",
        "dropout   = Dropout(0.25)\r\n",
        "\r\n",
        "global_average_layer = tf.keras.layers.GlobalAveragePooling2D()\r\n",
        "prediction_layer = keras.layers.Dense(25, activation='softmax')\r\n",
        "\r\n",
        "model_23 = tf.keras.Sequential([\r\n",
        "  base_model,\r\n",
        "  conv_1024,\r\n",
        "  conv_512,\r\n",
        "  flattern,\r\n",
        "  dense_layer_2048,\r\n",
        "  dropout,\r\n",
        "  dense_layer_512,\r\n",
        "  dropout,\r\n",
        "  dense_layer_1024,\r\n",
        "  prediction_layer\r\n",
        "])"
      ],
      "execution_count": 38,
      "outputs": []
    },
    {
      "cell_type": "code",
      "metadata": {
        "id": "Jqko9L8YUhei"
      },
      "source": [
        "opt = tf.keras.optimizers.Adagrad()\r\n",
        "\r\n",
        "callback = tf.keras.callbacks.EarlyStopping(monitor='f1_score', patience=5)\r\n",
        "\r\n",
        "model_23.compile(loss=\"categorical_crossentropy\",\r\n",
        "              optimizer=opt,\r\n",
        "\t            metrics=[ 'accuracy', tfa.metrics.F1Score(num_classes=25, average='weighted')],\r\n",
        "              )"
      ],
      "execution_count": 39,
      "outputs": []
    },
    {
      "cell_type": "code",
      "metadata": {
        "colab": {
          "base_uri": "https://localhost:8080/"
        },
        "id": "C-0jV5QKUhej",
        "outputId": "740d74dc-01cb-4858-f60d-c89e9a7a7f87"
      },
      "source": [
        "tf.random.set_seed(2021)\r\n",
        "\r\n",
        "model_history_23 = model_23.fit(  \r\n",
        "    train_data_gen,\r\n",
        "    epochs=50,\r\n",
        "    validation_data=valid_data_gen,\r\n",
        "    validation_steps= valid_data_gen.n // batch_size2)"
      ],
      "execution_count": null,
      "outputs": [
        {
          "output_type": "stream",
          "text": [
            "Epoch 1/50\n",
            "63/63 [==============================] - 490s 8s/step - loss: 2.9718 - accuracy: 0.1775 - f1_score: 0.1691 - val_loss: 1.5061 - val_accuracy: 0.5813 - val_f1_score: 0.5418\n",
            "Epoch 2/50\n",
            "11/63 [====>.........................] - ETA: 6:17 - loss: 1.8758 - accuracy: 0.4378 - f1_score: 0.4197"
          ],
          "name": "stdout"
        }
      ]
    },
    {
      "cell_type": "code",
      "metadata": {
        "id": "f1_Nmf0uUhem"
      },
      "source": [
        "from google.colab import files\r\n",
        "import matplotlib.pyplot as plt"
      ],
      "execution_count": null,
      "outputs": []
    },
    {
      "cell_type": "code",
      "metadata": {
        "colab": {
          "base_uri": "https://localhost:8080/",
          "height": 295
        },
        "id": "fyapsGNkUheo",
        "outputId": "13c7be3a-db10-4370-85a7-00ac11728324"
      },
      "source": [
        "plt.plot(model_history_23.history['f1_score'])\r\n",
        "plt.plot(model_history_23.history['val_f1_score'])\r\n",
        "plt.title('model f1_score')\r\n",
        "plt.ylabel('f1_score')\r\n",
        "plt.xlabel('epoch')\r\n",
        "plt.legend(['train', 'test'], loc='upper left')\r\n",
        "plt.show()"
      ],
      "execution_count": null,
      "outputs": [
        {
          "output_type": "display_data",
          "data": {
            "image/png": "[encoded data removed]",
            "text/plain": [
              "<Figure size 432x288 with 1 Axes>"
            ]
          },
          "metadata": {
            "tags": [],
            "needs_background": "light"
          }
        }
      ]
    },
    {
      "cell_type": "code",
      "metadata": {
        "colab": {
          "base_uri": "https://localhost:8080/",
          "height": 407
        },
        "id": "WDBDckwXUhep",
        "outputId": "79ef59ff-8370-47be-88a9-00f504feab61"
      },
      "source": [
        "make_predictions(model_23, name_file_submission='modelo_mejorado3_2048_512_1024_256_128_52.csv')"
      ],
      "execution_count": null,
      "outputs": [
        {
          "output_type": "execute_result",
          "data": {
            "text/html": [
              "<div>\n",
              "<style scoped>\n",
              "    .dataframe tbody tr th:only-of-type {\n",
              "        vertical-align: middle;\n",
              "    }\n",
              "\n",
              "    .dataframe tbody tr th {\n",
              "        vertical-align: top;\n",
              "    }\n",
              "\n",
              "    .dataframe thead th {\n",
              "        text-align: right;\n",
              "    }\n",
              "</style>\n",
              "<table border=\"1\" class=\"dataframe\">\n",
              "  <thead>\n",
              "    <tr style=\"text-align: right;\">\n",
              "      <th></th>\n",
              "      <th>id.jpg</th>\n",
              "      <th>label</th>\n",
              "    </tr>\n",
              "  </thead>\n",
              "  <tbody>\n",
              "    <tr>\n",
              "      <th>0</th>\n",
              "      <td>Grassland__10.jpg</td>\n",
              "      <td>17</td>\n",
              "    </tr>\n",
              "    <tr>\n",
              "      <th>1</th>\n",
              "      <td>Open_Shrub_9.jpg</td>\n",
              "      <td>21</td>\n",
              "    </tr>\n",
              "    <tr>\n",
              "      <th>2</th>\n",
              "      <td>Forest_CEN_12.jpg</td>\n",
              "      <td>16</td>\n",
              "    </tr>\n",
              "    <tr>\n",
              "      <th>3</th>\n",
              "      <td>Forest_CEN_15.jpg</td>\n",
              "      <td>8</td>\n",
              "    </tr>\n",
              "    <tr>\n",
              "      <th>4</th>\n",
              "      <td>Forest_OEB_7.jpg</td>\n",
              "      <td>15</td>\n",
              "    </tr>\n",
              "    <tr>\n",
              "      <th>...</th>\n",
              "      <td>...</td>\n",
              "      <td>...</td>\n",
              "    </tr>\n",
              "    <tr>\n",
              "      <th>495</th>\n",
              "      <td>Forest_CDB_7.jpg</td>\n",
              "      <td>11</td>\n",
              "    </tr>\n",
              "    <tr>\n",
              "      <th>496</th>\n",
              "      <td>Open_Shrub_11.jpg</td>\n",
              "      <td>21</td>\n",
              "    </tr>\n",
              "    <tr>\n",
              "      <th>497</th>\n",
              "      <td>Close_Shru_0.jpg</td>\n",
              "      <td>2</td>\n",
              "    </tr>\n",
              "    <tr>\n",
              "      <th>498</th>\n",
              "      <td>Cropland_s_0.jpg</td>\n",
              "      <td>4</td>\n",
              "    </tr>\n",
              "    <tr>\n",
              "      <th>499</th>\n",
              "      <td>Broadleaf__11.jpg</td>\n",
              "      <td>0</td>\n",
              "    </tr>\n",
              "  </tbody>\n",
              "</table>\n",
              "<p>500 rows × 2 columns</p>\n",
              "</div>"
            ],
            "text/plain": [
              "                id.jpg  label\n",
              "0    Grassland__10.jpg     17\n",
              "1     Open_Shrub_9.jpg     21\n",
              "2    Forest_CEN_12.jpg     16\n",
              "3    Forest_CEN_15.jpg      8\n",
              "4     Forest_OEB_7.jpg     15\n",
              "..                 ...    ...\n",
              "495   Forest_CDB_7.jpg     11\n",
              "496  Open_Shrub_11.jpg     21\n",
              "497   Close_Shru_0.jpg      2\n",
              "498   Cropland_s_0.jpg      4\n",
              "499  Broadleaf__11.jpg      0\n",
              "\n",
              "[500 rows x 2 columns]"
            ]
          },
          "metadata": {
            "tags": []
          },
          "execution_count": 30
        }
      ]
    },
    {
      "cell_type": "code",
      "metadata": {
        "colab": {
          "base_uri": "https://localhost:8080/",
          "height": 17
        },
        "id": "Ggi3mC7OUheq",
        "outputId": "73333553-b29e-4d0c-da30-7ecdf74132a5"
      },
      "source": [
        "files.download(\"modelo_mejorado3_2048_512_1024_256_128_52.csv\")"
      ],
      "execution_count": null,
      "outputs": [
        {
          "output_type": "display_data",
          "data": {
            "application/javascript": [
              "\n",
              "    async function download(id, filename, size) {\n",
              "      if (!google.colab.kernel.accessAllowed) {\n",
              "        return;\n",
              "      }\n",
              "      const div = document.createElement('div');\n",
              "      const label = document.createElement('label');\n",
              "      label.textContent = `Downloading \"${filename}\": `;\n",
              "      div.appendChild(label);\n",
              "      const progress = document.createElement('progress');\n",
              "      progress.max = size;\n",
              "      div.appendChild(progress);\n",
              "      document.body.appendChild(div);\n",
              "\n",
              "      const buffers = [];\n",
              "      let downloaded = 0;\n",
              "\n",
              "      const channel = await google.colab.kernel.comms.open(id);\n",
              "      // Send a message to notify the kernel that we're ready.\n",
              "      channel.send({})\n",
              "\n",
              "      for await (const message of channel.messages) {\n",
              "        // Send a message to notify the kernel that we're ready.\n",
              "        channel.send({})\n",
              "        if (message.buffers) {\n",
              "          for (const buffer of message.buffers) {\n",
              "            buffers.push(buffer);\n",
              "            downloaded += buffer.byteLength;\n",
              "            progress.value = downloaded;\n",
              "          }\n",
              "        }\n",
              "      }\n",
              "      const blob = new Blob(buffers, {type: 'application/binary'});\n",
              "      const a = document.createElement('a');\n",
              "      a.href = window.URL.createObjectURL(blob);\n",
              "      a.download = filename;\n",
              "      div.appendChild(a);\n",
              "      a.click();\n",
              "      div.remove();\n",
              "    }\n",
              "  "
            ],
            "text/plain": [
              "<IPython.core.display.Javascript object>"
            ]
          },
          "metadata": {
            "tags": []
          }
        },
        {
          "output_type": "display_data",
          "data": {
            "application/javascript": [
              "download(\"download_9056f3bf-006c-422a-801b-c13c2bf70d5d\", \"modelo_mejorado2_2048_512_1024_256_128_52.csv\", 9985)"
            ],
            "text/plain": [
              "<IPython.core.display.Javascript object>"
            ]
          },
          "metadata": {
            "tags": []
          }
        }
      ]
    },
    {
      "cell_type": "code",
      "metadata": {
        "colab": {
          "base_uri": "https://localhost:8080/"
        },
        "id": "t06E75Q5Uhes",
        "outputId": "b3530c13-daba-49a3-f66c-81d927ee5580"
      },
      "source": [
        "model_22.save('modelo_mejorado3_2048_512_1024_256_128_52')"
      ],
      "execution_count": null,
      "outputs": [
        {
          "output_type": "stream",
          "text": [
            "INFO:tensorflow:Assets written to: modelo_mejorado2_2048_512_1024_256_128_52/assets\n"
          ],
          "name": "stdout"
        }
      ]
    },
    {
      "cell_type": "code",
      "metadata": {
        "colab": {
          "base_uri": "https://localhost:8080/"
        },
        "id": "5U_NKOVkUhet",
        "outputId": "bb8a7a95-9f78-454e-c4a6-5585e770f7bd"
      },
      "source": [
        "! zip -r modelo_mejorado3_2048_512_1024_256_128_52.zip modelo_mejorado3_2048_512_1024_256_128_52"
      ],
      "execution_count": null,
      "outputs": [
        {
          "output_type": "stream",
          "text": [
            "  adding: modelo_mejorado2_2048_512_1024_256_128_52/ (stored 0%)\n",
            "  adding: modelo_mejorado2_2048_512_1024_256_128_52/assets/ (stored 0%)\n",
            "  adding: modelo_mejorado2_2048_512_1024_256_128_52/variables/ (stored 0%)\n",
            "  adding: modelo_mejorado2_2048_512_1024_256_128_52/variables/variables.data-00000-of-00001 (deflated 13%)\n",
            "  adding: modelo_mejorado2_2048_512_1024_256_128_52/variables/variables.index (deflated 78%)\n",
            "  adding: modelo_mejorado2_2048_512_1024_256_128_52/saved_model.pb (deflated 93%)\n"
          ],
          "name": "stdout"
        }
      ]
    },
    {
      "cell_type": "code",
      "metadata": {
        "colab": {
          "base_uri": "https://localhost:8080/",
          "height": 17
        },
        "id": "Ru8-XTA0Uheu",
        "outputId": "0b7174fa-bc7d-44a0-c6d9-a173e54629a2"
      },
      "source": [
        "files.download(\"modelo_mejorado3_2048_512_1024_256_128_52.zip\")"
      ],
      "execution_count": null,
      "outputs": [
        {
          "output_type": "display_data",
          "data": {
            "application/javascript": [
              "\n",
              "    async function download(id, filename, size) {\n",
              "      if (!google.colab.kernel.accessAllowed) {\n",
              "        return;\n",
              "      }\n",
              "      const div = document.createElement('div');\n",
              "      const label = document.createElement('label');\n",
              "      label.textContent = `Downloading \"${filename}\": `;\n",
              "      div.appendChild(label);\n",
              "      const progress = document.createElement('progress');\n",
              "      progress.max = size;\n",
              "      div.appendChild(progress);\n",
              "      document.body.appendChild(div);\n",
              "\n",
              "      const buffers = [];\n",
              "      let downloaded = 0;\n",
              "\n",
              "      const channel = await google.colab.kernel.comms.open(id);\n",
              "      // Send a message to notify the kernel that we're ready.\n",
              "      channel.send({})\n",
              "\n",
              "      for await (const message of channel.messages) {\n",
              "        // Send a message to notify the kernel that we're ready.\n",
              "        channel.send({})\n",
              "        if (message.buffers) {\n",
              "          for (const buffer of message.buffers) {\n",
              "            buffers.push(buffer);\n",
              "            downloaded += buffer.byteLength;\n",
              "            progress.value = downloaded;\n",
              "          }\n",
              "        }\n",
              "      }\n",
              "      const blob = new Blob(buffers, {type: 'application/binary'});\n",
              "      const a = document.createElement('a');\n",
              "      a.href = window.URL.createObjectURL(blob);\n",
              "      a.download = filename;\n",
              "      div.appendChild(a);\n",
              "      a.click();\n",
              "      div.remove();\n",
              "    }\n",
              "  "
            ],
            "text/plain": [
              "<IPython.core.display.Javascript object>"
            ]
          },
          "metadata": {
            "tags": []
          }
        },
        {
          "output_type": "display_data",
          "data": {
            "application/javascript": [
              "download(\"download_506a3424-f999-4cb4-8b0e-b687635f4a7f\", \"modelo_mejorado2_2048_512_1024_256_128_52.zip\", 322276247)"
            ],
            "text/plain": [
              "<IPython.core.display.Javascript object>"
            ]
          },
          "metadata": {
            "tags": []
          }
        }
      ]
    },
    {
      "cell_type": "code",
      "metadata": {
        "id": "qsbC1iAEUgh0"
      },
      "source": [
        ""
      ],
      "execution_count": null,
      "outputs": []
    }
  ]
}